{
 "cells": [
  {
   "cell_type": "markdown",
   "metadata": {},
   "source": [
    "<h1>Анализ оттока клиентов для «Метанпромбанк»"
   ]
  },
  {
   "cell_type": "markdown",
   "metadata": {},
   "source": [
    "**Описание проекта** \n",
    "\n",
    "Наш заказчик - отдел маркетинка одного из банков страны «Метанпромбанк», который располагается в Ярославле и областных городах: Ростов Великий и Рыбинск.\n",
    "<br>В данном банке в последнее время заметно вырос отток клиентов настолько, что угрожает существованию бизнеса.\n",
    "<br>Хоть раньше и проводилось подобное исследование, но его результаты более не актуальны и не позволяюют понять в чем проблема и как ее решить\n",
    "<br>Уже известно, что привлекать новых клиентов дорого, дешевле удержать тех, про которых банк уже что-то знает и с которыми уже работают. В отделе маркетинга нет автоматизированных систем рассылок, письма каждому клиенту пишутся вручную, поэтому важно для отдела маркетинга представить компактные однородные сегменты и дать примеры мероприятий, которые можно провести, чтобы вернуть клиентов в банк или удержать сомневающихся от оттока.\n",
    "<br>Результаты анализа нужны в виде презентации менеджеру, который занимается маркетинговыми компаниями и работает в тесной связке с менеджерами продуктов\n",
    "\n",
    "**Цель анализа**\n",
    "\n",
    "Проанализировать имеющиеся данные и дать рекоммендации по минимизации оттока клиентов, выделить сегменты отточных клиентов, склонных уходить из банка, чтобы они были однородными, высокоточными и покрывали максимум проблемных зон банка. Таким образом, маркетинговое воздействие на эти сегменты должно привести к уменьшению оттока клиентов.\n",
    "\n",
    "**Входные данные** \n",
    "\n",
    "Датасет содержит данные о клиентах банка «Метанпром». Файл с данными: bank_scrooge.csv\n",
    "<br>Колонки:\n",
    "- USERID — идентификатор пользователя,\n",
    "- score — баллы кредитного скоринга,\n",
    "- city — город,\n",
    "- gender — пол,\n",
    "- age — возраст,\n",
    "- equity — приблизительная оценка собственности клиента,\n",
    "- balance — баланс на счёте,\n",
    "- products — количество продуктов, которыми пользуется клиент,\n",
    "- credit_card — есть ли кредитная карта,\n",
    "- last_activity — активный клиент,\n",
    "- EST_SALARY — оценочная заработная плата клиента,\n",
    "- churn — ушёл или нет\n",
    "\n",
    "**Шаги выполнения анализа**\n",
    "\n",
    "**Шаг 1.** Откроем файл с данными и изучим общую информацию\n",
    "\n",
    "**Шаг 2.** Предобработка данных.\n",
    "- Приведем названия столбцов к единому стилю\n",
    "- Проверим типы данных, откорректируем если это необходимо\n",
    "- Закодируем пол и города\n",
    "- Проверим, присутствуют ли в данных пропуски, оценим их влияние на исследование и примем соответствующее решение\n",
    "- Проверим данные на наличие дубликатов и удалим их\n",
    "\n",
    "**Шаг 3.** Исследовательский анализ данных\n",
    "- Сравним портреты типичных клиентов, которые склонны и не склонны уходить из банка\n",
    "- Проанализируем все данные на предмет наличия корреляций с целевой характеристикой\n",
    "- Рассмотрим распределение непрерывных, в том числе в разрезе потока\n",
    "- Рассмотрим уровни оттока по категориям\n",
    "- Проведем корреляционный анализ\n",
    "\n",
    "**Шаг 4.** Проверим статистические гипотезы\n",
    "- Проверим гипотезу о различии дохода между теми клиентами, которые ушли и теми, которые остались\n",
    "- Выдвинем статистическую гипотезу относительно представленных данных, которая поможет внести ясность в исследование исходя из сравнения типичных клиентов\n",
    "\n",
    "**Шаг 5.** Резюмируем, какие показатели стратегически влияют на отток клиентов и какие интервалы их значений влияют на него\n",
    "\n",
    "**Шаг 6.** Сегментация на основне стратегических показателей\n",
    "- Выделим не мелкие, но компактные высокоточные сегменты\n",
    "- Посчитаем резмер и оттток сегментов и приоретизируем их\n",
    "\n",
    "**Шаг 7.** Подветем итоги и составим рекомендации для заказчика по приоритетным сегментам\n",
    "- Общий вывод о проделанной работе и совершенных шагах\n",
    "- Составим рекомендации для менеджера отдела маркетинга"
   ]
  },
  {
   "cell_type": "markdown",
   "metadata": {},
   "source": [
    "**Шаг 1.** Откроем файл с данными и изучим общую информацию"
   ]
  },
  {
   "cell_type": "code",
   "execution_count": 1,
   "metadata": {},
   "outputs": [],
   "source": [
    "import pandas as pd\n",
    "import matplotlib.pyplot as plt\n",
    "import seaborn as sns\n",
    "from scipy import stats as st\n",
    "import matplotlib"
   ]
  },
  {
   "cell_type": "code",
   "execution_count": 2,
   "metadata": {},
   "outputs": [],
   "source": [
    "try:\n",
    "    bs = pd.read_csv('bank_scrooge.csv')\n",
    "except:\n",
    "    bs = pd.read_csv('/datasets/bank_scrooge.csv')"
   ]
  },
  {
   "cell_type": "code",
   "execution_count": 3,
   "metadata": {},
   "outputs": [
    {
     "name": "stdout",
     "output_type": "stream",
     "text": [
      "<class 'pandas.core.frame.DataFrame'>\n",
      "RangeIndex: 10000 entries, 0 to 9999\n",
      "Data columns (total 12 columns):\n",
      " #   Column         Non-Null Count  Dtype  \n",
      "---  ------         --------------  -----  \n",
      " 0   USERID         10000 non-null  int64  \n",
      " 1   score          10000 non-null  float64\n",
      " 2   city           10000 non-null  object \n",
      " 3   gender         10000 non-null  object \n",
      " 4   age            9974 non-null   float64\n",
      " 5   equity         10000 non-null  int64  \n",
      " 6   balance        7705 non-null   float64\n",
      " 7   products       10000 non-null  int64  \n",
      " 8   credit_card    10000 non-null  int64  \n",
      " 9   last_activity  10000 non-null  int64  \n",
      " 10  EST_SALARY     10000 non-null  float64\n",
      " 11  churn          10000 non-null  int64  \n",
      "dtypes: float64(4), int64(6), object(2)\n",
      "memory usage: 937.6+ KB\n"
     ]
    }
   ],
   "source": [
    "bs.info()"
   ]
  },
  {
   "cell_type": "code",
   "execution_count": 4,
   "metadata": {
    "scrolled": true
   },
   "outputs": [
    {
     "data": {
      "text/html": [
       "<div>\n",
       "<style scoped>\n",
       "    .dataframe tbody tr th:only-of-type {\n",
       "        vertical-align: middle;\n",
       "    }\n",
       "\n",
       "    .dataframe tbody tr th {\n",
       "        vertical-align: top;\n",
       "    }\n",
       "\n",
       "    .dataframe thead th {\n",
       "        text-align: right;\n",
       "    }\n",
       "</style>\n",
       "<table border=\"1\" class=\"dataframe\">\n",
       "  <thead>\n",
       "    <tr style=\"text-align: right;\">\n",
       "      <th></th>\n",
       "      <th>USERID</th>\n",
       "      <th>score</th>\n",
       "      <th>city</th>\n",
       "      <th>gender</th>\n",
       "      <th>age</th>\n",
       "      <th>equity</th>\n",
       "      <th>balance</th>\n",
       "      <th>products</th>\n",
       "      <th>credit_card</th>\n",
       "      <th>last_activity</th>\n",
       "      <th>EST_SALARY</th>\n",
       "      <th>churn</th>\n",
       "    </tr>\n",
       "  </thead>\n",
       "  <tbody>\n",
       "    <tr>\n",
       "      <th>0</th>\n",
       "      <td>183012</td>\n",
       "      <td>850.0</td>\n",
       "      <td>Рыбинск</td>\n",
       "      <td>Ж</td>\n",
       "      <td>25.0</td>\n",
       "      <td>1</td>\n",
       "      <td>59214.82</td>\n",
       "      <td>2</td>\n",
       "      <td>0</td>\n",
       "      <td>1</td>\n",
       "      <td>75719.14</td>\n",
       "      <td>1</td>\n",
       "    </tr>\n",
       "    <tr>\n",
       "      <th>1</th>\n",
       "      <td>146556</td>\n",
       "      <td>861.0</td>\n",
       "      <td>Рыбинск</td>\n",
       "      <td>Ж</td>\n",
       "      <td>37.0</td>\n",
       "      <td>5</td>\n",
       "      <td>850594.33</td>\n",
       "      <td>3</td>\n",
       "      <td>1</td>\n",
       "      <td>0</td>\n",
       "      <td>86621.77</td>\n",
       "      <td>0</td>\n",
       "    </tr>\n",
       "    <tr>\n",
       "      <th>2</th>\n",
       "      <td>120722</td>\n",
       "      <td>892.0</td>\n",
       "      <td>Рыбинск</td>\n",
       "      <td>Ж</td>\n",
       "      <td>30.0</td>\n",
       "      <td>0</td>\n",
       "      <td>NaN</td>\n",
       "      <td>1</td>\n",
       "      <td>1</td>\n",
       "      <td>1</td>\n",
       "      <td>107683.34</td>\n",
       "      <td>0</td>\n",
       "    </tr>\n",
       "    <tr>\n",
       "      <th>3</th>\n",
       "      <td>225363</td>\n",
       "      <td>866.0</td>\n",
       "      <td>Ярославль</td>\n",
       "      <td>Ж</td>\n",
       "      <td>51.0</td>\n",
       "      <td>5</td>\n",
       "      <td>1524746.26</td>\n",
       "      <td>2</td>\n",
       "      <td>0</td>\n",
       "      <td>1</td>\n",
       "      <td>174423.53</td>\n",
       "      <td>1</td>\n",
       "    </tr>\n",
       "    <tr>\n",
       "      <th>4</th>\n",
       "      <td>157978</td>\n",
       "      <td>730.0</td>\n",
       "      <td>Ярославль</td>\n",
       "      <td>М</td>\n",
       "      <td>34.0</td>\n",
       "      <td>5</td>\n",
       "      <td>174.00</td>\n",
       "      <td>1</td>\n",
       "      <td>1</td>\n",
       "      <td>0</td>\n",
       "      <td>67353.16</td>\n",
       "      <td>1</td>\n",
       "    </tr>\n",
       "    <tr>\n",
       "      <th>5</th>\n",
       "      <td>202305</td>\n",
       "      <td>856.0</td>\n",
       "      <td>Рыбинск</td>\n",
       "      <td>М</td>\n",
       "      <td>56.0</td>\n",
       "      <td>4</td>\n",
       "      <td>863687.24</td>\n",
       "      <td>3</td>\n",
       "      <td>1</td>\n",
       "      <td>0</td>\n",
       "      <td>156619.80</td>\n",
       "      <td>0</td>\n",
       "    </tr>\n",
       "    <tr>\n",
       "      <th>6</th>\n",
       "      <td>177259</td>\n",
       "      <td>807.0</td>\n",
       "      <td>Ярославль</td>\n",
       "      <td>Ж</td>\n",
       "      <td>39.0</td>\n",
       "      <td>3</td>\n",
       "      <td>405042.44</td>\n",
       "      <td>3</td>\n",
       "      <td>0</td>\n",
       "      <td>1</td>\n",
       "      <td>103838.32</td>\n",
       "      <td>0</td>\n",
       "    </tr>\n",
       "    <tr>\n",
       "      <th>7</th>\n",
       "      <td>218868</td>\n",
       "      <td>825.0</td>\n",
       "      <td>Ярославль</td>\n",
       "      <td>Ж</td>\n",
       "      <td>38.0</td>\n",
       "      <td>4</td>\n",
       "      <td>458145.40</td>\n",
       "      <td>2</td>\n",
       "      <td>1</td>\n",
       "      <td>1</td>\n",
       "      <td>68085.48</td>\n",
       "      <td>0</td>\n",
       "    </tr>\n",
       "    <tr>\n",
       "      <th>8</th>\n",
       "      <td>211686</td>\n",
       "      <td>923.0</td>\n",
       "      <td>Ярославль</td>\n",
       "      <td>М</td>\n",
       "      <td>54.0</td>\n",
       "      <td>5</td>\n",
       "      <td>1206337.87</td>\n",
       "      <td>2</td>\n",
       "      <td>1</td>\n",
       "      <td>0</td>\n",
       "      <td>155371.79</td>\n",
       "      <td>0</td>\n",
       "    </tr>\n",
       "    <tr>\n",
       "      <th>9</th>\n",
       "      <td>133130</td>\n",
       "      <td>906.0</td>\n",
       "      <td>Ярославль</td>\n",
       "      <td>Ж</td>\n",
       "      <td>67.0</td>\n",
       "      <td>0</td>\n",
       "      <td>NaN</td>\n",
       "      <td>1</td>\n",
       "      <td>0</td>\n",
       "      <td>1</td>\n",
       "      <td>238055.53</td>\n",
       "      <td>0</td>\n",
       "    </tr>\n",
       "  </tbody>\n",
       "</table>\n",
       "</div>"
      ],
      "text/plain": [
       "   USERID  score       city gender   age  equity     balance  products  \\\n",
       "0  183012  850.0    Рыбинск      Ж  25.0       1    59214.82         2   \n",
       "1  146556  861.0    Рыбинск      Ж  37.0       5   850594.33         3   \n",
       "2  120722  892.0    Рыбинск      Ж  30.0       0         NaN         1   \n",
       "3  225363  866.0  Ярославль      Ж  51.0       5  1524746.26         2   \n",
       "4  157978  730.0  Ярославль      М  34.0       5      174.00         1   \n",
       "5  202305  856.0    Рыбинск      М  56.0       4   863687.24         3   \n",
       "6  177259  807.0  Ярославль      Ж  39.0       3   405042.44         3   \n",
       "7  218868  825.0  Ярославль      Ж  38.0       4   458145.40         2   \n",
       "8  211686  923.0  Ярославль      М  54.0       5  1206337.87         2   \n",
       "9  133130  906.0  Ярославль      Ж  67.0       0         NaN         1   \n",
       "\n",
       "   credit_card  last_activity  EST_SALARY  churn  \n",
       "0            0              1    75719.14      1  \n",
       "1            1              0    86621.77      0  \n",
       "2            1              1   107683.34      0  \n",
       "3            0              1   174423.53      1  \n",
       "4            1              0    67353.16      1  \n",
       "5            1              0   156619.80      0  \n",
       "6            0              1   103838.32      0  \n",
       "7            1              1    68085.48      0  \n",
       "8            1              0   155371.79      0  \n",
       "9            0              1   238055.53      0  "
      ]
     },
     "execution_count": 4,
     "metadata": {},
     "output_type": "execute_result"
    }
   ],
   "source": [
    "bs.head(10)"
   ]
  },
  {
   "cell_type": "markdown",
   "metadata": {},
   "source": [
    "Видим, что:\n",
    "- присутствует нарушение стиля в названиях столбцов\n",
    "- в данных есть пропуски в стобцах \"age\" и \"balance\"\n",
    "- для дальнейшего анализа потребуется занятся типами данных\n",
    "- нужно проверить данные на наличие явных/неявных дубликатов"
   ]
  },
  {
   "cell_type": "markdown",
   "metadata": {},
   "source": [
    "**Шаг 2.** Предобработка данных."
   ]
  },
  {
   "cell_type": "markdown",
   "metadata": {},
   "source": [
    "Сначала приведем названия столбцов к единому стилю"
   ]
  },
  {
   "cell_type": "code",
   "execution_count": 5,
   "metadata": {},
   "outputs": [],
   "source": [
    "bs.columns = bs.columns.str.lower()"
   ]
  },
  {
   "cell_type": "code",
   "execution_count": 6,
   "metadata": {},
   "outputs": [
    {
     "data": {
      "text/html": [
       "<div>\n",
       "<style scoped>\n",
       "    .dataframe tbody tr th:only-of-type {\n",
       "        vertical-align: middle;\n",
       "    }\n",
       "\n",
       "    .dataframe tbody tr th {\n",
       "        vertical-align: top;\n",
       "    }\n",
       "\n",
       "    .dataframe thead th {\n",
       "        text-align: right;\n",
       "    }\n",
       "</style>\n",
       "<table border=\"1\" class=\"dataframe\">\n",
       "  <thead>\n",
       "    <tr style=\"text-align: right;\">\n",
       "      <th></th>\n",
       "      <th>user_id</th>\n",
       "      <th>score</th>\n",
       "      <th>city</th>\n",
       "      <th>gender</th>\n",
       "      <th>age</th>\n",
       "      <th>equity</th>\n",
       "      <th>balance</th>\n",
       "      <th>products</th>\n",
       "      <th>credit_card</th>\n",
       "      <th>last_activity</th>\n",
       "      <th>est_salary</th>\n",
       "      <th>churn</th>\n",
       "    </tr>\n",
       "  </thead>\n",
       "  <tbody>\n",
       "    <tr>\n",
       "      <th>0</th>\n",
       "      <td>183012</td>\n",
       "      <td>850.0</td>\n",
       "      <td>Рыбинск</td>\n",
       "      <td>Ж</td>\n",
       "      <td>25.0</td>\n",
       "      <td>1</td>\n",
       "      <td>59214.82</td>\n",
       "      <td>2</td>\n",
       "      <td>0</td>\n",
       "      <td>1</td>\n",
       "      <td>75719.14</td>\n",
       "      <td>1</td>\n",
       "    </tr>\n",
       "    <tr>\n",
       "      <th>1</th>\n",
       "      <td>146556</td>\n",
       "      <td>861.0</td>\n",
       "      <td>Рыбинск</td>\n",
       "      <td>Ж</td>\n",
       "      <td>37.0</td>\n",
       "      <td>5</td>\n",
       "      <td>850594.33</td>\n",
       "      <td>3</td>\n",
       "      <td>1</td>\n",
       "      <td>0</td>\n",
       "      <td>86621.77</td>\n",
       "      <td>0</td>\n",
       "    </tr>\n",
       "    <tr>\n",
       "      <th>2</th>\n",
       "      <td>120722</td>\n",
       "      <td>892.0</td>\n",
       "      <td>Рыбинск</td>\n",
       "      <td>Ж</td>\n",
       "      <td>30.0</td>\n",
       "      <td>0</td>\n",
       "      <td>NaN</td>\n",
       "      <td>1</td>\n",
       "      <td>1</td>\n",
       "      <td>1</td>\n",
       "      <td>107683.34</td>\n",
       "      <td>0</td>\n",
       "    </tr>\n",
       "    <tr>\n",
       "      <th>3</th>\n",
       "      <td>225363</td>\n",
       "      <td>866.0</td>\n",
       "      <td>Ярославль</td>\n",
       "      <td>Ж</td>\n",
       "      <td>51.0</td>\n",
       "      <td>5</td>\n",
       "      <td>1524746.26</td>\n",
       "      <td>2</td>\n",
       "      <td>0</td>\n",
       "      <td>1</td>\n",
       "      <td>174423.53</td>\n",
       "      <td>1</td>\n",
       "    </tr>\n",
       "    <tr>\n",
       "      <th>4</th>\n",
       "      <td>157978</td>\n",
       "      <td>730.0</td>\n",
       "      <td>Ярославль</td>\n",
       "      <td>М</td>\n",
       "      <td>34.0</td>\n",
       "      <td>5</td>\n",
       "      <td>174.00</td>\n",
       "      <td>1</td>\n",
       "      <td>1</td>\n",
       "      <td>0</td>\n",
       "      <td>67353.16</td>\n",
       "      <td>1</td>\n",
       "    </tr>\n",
       "  </tbody>\n",
       "</table>\n",
       "</div>"
      ],
      "text/plain": [
       "   user_id  score       city gender   age  equity     balance  products  \\\n",
       "0   183012  850.0    Рыбинск      Ж  25.0       1    59214.82         2   \n",
       "1   146556  861.0    Рыбинск      Ж  37.0       5   850594.33         3   \n",
       "2   120722  892.0    Рыбинск      Ж  30.0       0         NaN         1   \n",
       "3   225363  866.0  Ярославль      Ж  51.0       5  1524746.26         2   \n",
       "4   157978  730.0  Ярославль      М  34.0       5      174.00         1   \n",
       "\n",
       "   credit_card  last_activity  est_salary  churn  \n",
       "0            0              1    75719.14      1  \n",
       "1            1              0    86621.77      0  \n",
       "2            1              1   107683.34      0  \n",
       "3            0              1   174423.53      1  \n",
       "4            1              0    67353.16      1  "
      ]
     },
     "execution_count": 6,
     "metadata": {},
     "output_type": "execute_result"
    }
   ],
   "source": [
    "bs = bs.rename(columns={'userid':'user_id'})\n",
    "bs.head()"
   ]
  },
  {
   "cell_type": "markdown",
   "metadata": {},
   "source": [
    "Проверим наличие явных и неявных дубликатов"
   ]
  },
  {
   "cell_type": "code",
   "execution_count": 7,
   "metadata": {},
   "outputs": [
    {
     "data": {
      "text/plain": [
       "0"
      ]
     },
     "execution_count": 7,
     "metadata": {},
     "output_type": "execute_result"
    }
   ],
   "source": [
    "bs.duplicated().sum()"
   ]
  },
  {
   "cell_type": "code",
   "execution_count": 8,
   "metadata": {},
   "outputs": [
    {
     "data": {
      "text/plain": [
       "array(['Рыбинск', 'Ярославль', 'Ростов'], dtype=object)"
      ]
     },
     "execution_count": 8,
     "metadata": {},
     "output_type": "execute_result"
    }
   ],
   "source": [
    "bs['city'].unique()"
   ]
  },
  {
   "cell_type": "code",
   "execution_count": 9,
   "metadata": {},
   "outputs": [
    {
     "data": {
      "text/plain": [
       "0"
      ]
     },
     "execution_count": 9,
     "metadata": {},
     "output_type": "execute_result"
    }
   ],
   "source": [
    "bs.duplicated(subset=['user_id', 'city']).sum()"
   ]
  },
  {
   "cell_type": "code",
   "execution_count": 10,
   "metadata": {},
   "outputs": [
    {
     "data": {
      "text/plain": [
       "73"
      ]
     },
     "execution_count": 10,
     "metadata": {},
     "output_type": "execute_result"
    }
   ],
   "source": [
    "bs['user_id'].duplicated().sum()"
   ]
  },
  {
   "cell_type": "markdown",
   "metadata": {},
   "source": [
    "По номеру пользователя обнаружено 73 дубликата. Относительно всех данных это составляет 0,73%, поэтому удаляем их "
   ]
  },
  {
   "cell_type": "code",
   "execution_count": 11,
   "metadata": {},
   "outputs": [],
   "source": [
    "bs = bs.drop_duplicates(subset=['user_id'])"
   ]
  },
  {
   "cell_type": "markdown",
   "metadata": {},
   "source": [
    "Дубликаты устранены\n",
    "<br>Теперь работаем с типами данных\n",
    "<br>Для дальнейшего исследования необходимо будет закодировать пол и города численно, для этого создадим отдельные столбцы"
   ]
  },
  {
   "cell_type": "code",
   "execution_count": 12,
   "metadata": {},
   "outputs": [],
   "source": [
    "bs['gender_01'] = bs['gender']\n",
    "bs['city_01'] = bs['city']"
   ]
  },
  {
   "cell_type": "code",
   "execution_count": 13,
   "metadata": {},
   "outputs": [
    {
     "data": {
      "text/html": [
       "<div>\n",
       "<style scoped>\n",
       "    .dataframe tbody tr th:only-of-type {\n",
       "        vertical-align: middle;\n",
       "    }\n",
       "\n",
       "    .dataframe tbody tr th {\n",
       "        vertical-align: top;\n",
       "    }\n",
       "\n",
       "    .dataframe thead th {\n",
       "        text-align: right;\n",
       "    }\n",
       "</style>\n",
       "<table border=\"1\" class=\"dataframe\">\n",
       "  <thead>\n",
       "    <tr style=\"text-align: right;\">\n",
       "      <th></th>\n",
       "      <th>user_id</th>\n",
       "      <th>score</th>\n",
       "      <th>city</th>\n",
       "      <th>gender</th>\n",
       "      <th>age</th>\n",
       "      <th>equity</th>\n",
       "      <th>balance</th>\n",
       "      <th>products</th>\n",
       "      <th>credit_card</th>\n",
       "      <th>last_activity</th>\n",
       "      <th>est_salary</th>\n",
       "      <th>churn</th>\n",
       "      <th>city_01_Ростов</th>\n",
       "      <th>city_01_Рыбинск</th>\n",
       "      <th>city_01_Ярославль</th>\n",
       "      <th>gender_01_М</th>\n",
       "    </tr>\n",
       "  </thead>\n",
       "  <tbody>\n",
       "    <tr>\n",
       "      <th>0</th>\n",
       "      <td>183012</td>\n",
       "      <td>850.0</td>\n",
       "      <td>Рыбинск</td>\n",
       "      <td>Ж</td>\n",
       "      <td>25.0</td>\n",
       "      <td>1</td>\n",
       "      <td>59214.82</td>\n",
       "      <td>2</td>\n",
       "      <td>0</td>\n",
       "      <td>1</td>\n",
       "      <td>75719.14</td>\n",
       "      <td>1</td>\n",
       "      <td>0</td>\n",
       "      <td>1</td>\n",
       "      <td>0</td>\n",
       "      <td>0</td>\n",
       "    </tr>\n",
       "    <tr>\n",
       "      <th>1</th>\n",
       "      <td>146556</td>\n",
       "      <td>861.0</td>\n",
       "      <td>Рыбинск</td>\n",
       "      <td>Ж</td>\n",
       "      <td>37.0</td>\n",
       "      <td>5</td>\n",
       "      <td>850594.33</td>\n",
       "      <td>3</td>\n",
       "      <td>1</td>\n",
       "      <td>0</td>\n",
       "      <td>86621.77</td>\n",
       "      <td>0</td>\n",
       "      <td>0</td>\n",
       "      <td>1</td>\n",
       "      <td>0</td>\n",
       "      <td>0</td>\n",
       "    </tr>\n",
       "    <tr>\n",
       "      <th>2</th>\n",
       "      <td>120722</td>\n",
       "      <td>892.0</td>\n",
       "      <td>Рыбинск</td>\n",
       "      <td>Ж</td>\n",
       "      <td>30.0</td>\n",
       "      <td>0</td>\n",
       "      <td>NaN</td>\n",
       "      <td>1</td>\n",
       "      <td>1</td>\n",
       "      <td>1</td>\n",
       "      <td>107683.34</td>\n",
       "      <td>0</td>\n",
       "      <td>0</td>\n",
       "      <td>1</td>\n",
       "      <td>0</td>\n",
       "      <td>0</td>\n",
       "    </tr>\n",
       "    <tr>\n",
       "      <th>3</th>\n",
       "      <td>225363</td>\n",
       "      <td>866.0</td>\n",
       "      <td>Ярославль</td>\n",
       "      <td>Ж</td>\n",
       "      <td>51.0</td>\n",
       "      <td>5</td>\n",
       "      <td>1524746.26</td>\n",
       "      <td>2</td>\n",
       "      <td>0</td>\n",
       "      <td>1</td>\n",
       "      <td>174423.53</td>\n",
       "      <td>1</td>\n",
       "      <td>0</td>\n",
       "      <td>0</td>\n",
       "      <td>1</td>\n",
       "      <td>0</td>\n",
       "    </tr>\n",
       "    <tr>\n",
       "      <th>4</th>\n",
       "      <td>157978</td>\n",
       "      <td>730.0</td>\n",
       "      <td>Ярославль</td>\n",
       "      <td>М</td>\n",
       "      <td>34.0</td>\n",
       "      <td>5</td>\n",
       "      <td>174.00</td>\n",
       "      <td>1</td>\n",
       "      <td>1</td>\n",
       "      <td>0</td>\n",
       "      <td>67353.16</td>\n",
       "      <td>1</td>\n",
       "      <td>0</td>\n",
       "      <td>0</td>\n",
       "      <td>1</td>\n",
       "      <td>1</td>\n",
       "    </tr>\n",
       "    <tr>\n",
       "      <th>5</th>\n",
       "      <td>202305</td>\n",
       "      <td>856.0</td>\n",
       "      <td>Рыбинск</td>\n",
       "      <td>М</td>\n",
       "      <td>56.0</td>\n",
       "      <td>4</td>\n",
       "      <td>863687.24</td>\n",
       "      <td>3</td>\n",
       "      <td>1</td>\n",
       "      <td>0</td>\n",
       "      <td>156619.80</td>\n",
       "      <td>0</td>\n",
       "      <td>0</td>\n",
       "      <td>1</td>\n",
       "      <td>0</td>\n",
       "      <td>1</td>\n",
       "    </tr>\n",
       "    <tr>\n",
       "      <th>6</th>\n",
       "      <td>177259</td>\n",
       "      <td>807.0</td>\n",
       "      <td>Ярославль</td>\n",
       "      <td>Ж</td>\n",
       "      <td>39.0</td>\n",
       "      <td>3</td>\n",
       "      <td>405042.44</td>\n",
       "      <td>3</td>\n",
       "      <td>0</td>\n",
       "      <td>1</td>\n",
       "      <td>103838.32</td>\n",
       "      <td>0</td>\n",
       "      <td>0</td>\n",
       "      <td>0</td>\n",
       "      <td>1</td>\n",
       "      <td>0</td>\n",
       "    </tr>\n",
       "    <tr>\n",
       "      <th>7</th>\n",
       "      <td>218868</td>\n",
       "      <td>825.0</td>\n",
       "      <td>Ярославль</td>\n",
       "      <td>Ж</td>\n",
       "      <td>38.0</td>\n",
       "      <td>4</td>\n",
       "      <td>458145.40</td>\n",
       "      <td>2</td>\n",
       "      <td>1</td>\n",
       "      <td>1</td>\n",
       "      <td>68085.48</td>\n",
       "      <td>0</td>\n",
       "      <td>0</td>\n",
       "      <td>0</td>\n",
       "      <td>1</td>\n",
       "      <td>0</td>\n",
       "    </tr>\n",
       "    <tr>\n",
       "      <th>8</th>\n",
       "      <td>211686</td>\n",
       "      <td>923.0</td>\n",
       "      <td>Ярославль</td>\n",
       "      <td>М</td>\n",
       "      <td>54.0</td>\n",
       "      <td>5</td>\n",
       "      <td>1206337.87</td>\n",
       "      <td>2</td>\n",
       "      <td>1</td>\n",
       "      <td>0</td>\n",
       "      <td>155371.79</td>\n",
       "      <td>0</td>\n",
       "      <td>0</td>\n",
       "      <td>0</td>\n",
       "      <td>1</td>\n",
       "      <td>1</td>\n",
       "    </tr>\n",
       "    <tr>\n",
       "      <th>9</th>\n",
       "      <td>133130</td>\n",
       "      <td>906.0</td>\n",
       "      <td>Ярославль</td>\n",
       "      <td>Ж</td>\n",
       "      <td>67.0</td>\n",
       "      <td>0</td>\n",
       "      <td>NaN</td>\n",
       "      <td>1</td>\n",
       "      <td>0</td>\n",
       "      <td>1</td>\n",
       "      <td>238055.53</td>\n",
       "      <td>0</td>\n",
       "      <td>0</td>\n",
       "      <td>0</td>\n",
       "      <td>1</td>\n",
       "      <td>0</td>\n",
       "    </tr>\n",
       "  </tbody>\n",
       "</table>\n",
       "</div>"
      ],
      "text/plain": [
       "   user_id  score       city gender   age  equity     balance  products  \\\n",
       "0   183012  850.0    Рыбинск      Ж  25.0       1    59214.82         2   \n",
       "1   146556  861.0    Рыбинск      Ж  37.0       5   850594.33         3   \n",
       "2   120722  892.0    Рыбинск      Ж  30.0       0         NaN         1   \n",
       "3   225363  866.0  Ярославль      Ж  51.0       5  1524746.26         2   \n",
       "4   157978  730.0  Ярославль      М  34.0       5      174.00         1   \n",
       "5   202305  856.0    Рыбинск      М  56.0       4   863687.24         3   \n",
       "6   177259  807.0  Ярославль      Ж  39.0       3   405042.44         3   \n",
       "7   218868  825.0  Ярославль      Ж  38.0       4   458145.40         2   \n",
       "8   211686  923.0  Ярославль      М  54.0       5  1206337.87         2   \n",
       "9   133130  906.0  Ярославль      Ж  67.0       0         NaN         1   \n",
       "\n",
       "   credit_card  last_activity  est_salary  churn  city_01_Ростов  \\\n",
       "0            0              1    75719.14      1               0   \n",
       "1            1              0    86621.77      0               0   \n",
       "2            1              1   107683.34      0               0   \n",
       "3            0              1   174423.53      1               0   \n",
       "4            1              0    67353.16      1               0   \n",
       "5            1              0   156619.80      0               0   \n",
       "6            0              1   103838.32      0               0   \n",
       "7            1              1    68085.48      0               0   \n",
       "8            1              0   155371.79      0               0   \n",
       "9            0              1   238055.53      0               0   \n",
       "\n",
       "   city_01_Рыбинск  city_01_Ярославль  gender_01_М  \n",
       "0                1                  0            0  \n",
       "1                1                  0            0  \n",
       "2                1                  0            0  \n",
       "3                0                  1            0  \n",
       "4                0                  1            1  \n",
       "5                1                  0            1  \n",
       "6                0                  1            0  \n",
       "7                0                  1            0  \n",
       "8                0                  1            1  \n",
       "9                0                  1            0  "
      ]
     },
     "execution_count": 13,
     "metadata": {},
     "output_type": "execute_result"
    }
   ],
   "source": [
    "bs = pd.get_dummies(bs, columns=['city_01'])\n",
    "bs = pd.get_dummies(bs, columns=['gender_01'], drop_first= True)\n",
    "bs.head(10)"
   ]
  },
  {
   "cell_type": "code",
   "execution_count": 14,
   "metadata": {},
   "outputs": [],
   "source": [
    "bs = bs.rename(columns={'gender_01_М':'cod_gen',\n",
    "                        'city_01_Ростов':'rostov',\n",
    "                        'city_01_Рыбинск':'rybinsk',\n",
    "                        'city_01_Ярославль':'yaroslavl'})"
   ]
  },
  {
   "cell_type": "markdown",
   "metadata": {},
   "source": [
    "Посомтрим внимательней на пропуски в данных"
   ]
  },
  {
   "cell_type": "code",
   "execution_count": 15,
   "metadata": {},
   "outputs": [
    {
     "data": {
      "text/plain": [
       "user_id             0\n",
       "score               0\n",
       "city                0\n",
       "gender              0\n",
       "age                 4\n",
       "equity              0\n",
       "balance          2260\n",
       "products            0\n",
       "credit_card         0\n",
       "last_activity       0\n",
       "est_salary          0\n",
       "churn               0\n",
       "rostov              0\n",
       "rybinsk             0\n",
       "yaroslavl           0\n",
       "cod_gen             0\n",
       "dtype: int64"
      ]
     },
     "execution_count": 15,
     "metadata": {},
     "output_type": "execute_result"
    }
   ],
   "source": [
    "bs.isna().sum()"
   ]
  },
  {
   "cell_type": "code",
   "execution_count": 16,
   "metadata": {},
   "outputs": [
    {
     "data": {
      "text/plain": [
       "22.766193210436185"
      ]
     },
     "execution_count": 16,
     "metadata": {},
     "output_type": "execute_result"
    }
   ],
   "source": [
    "len(bs[bs['balance'].isna()]) / len(bs) * 100"
   ]
  },
  {
   "cell_type": "markdown",
   "metadata": {},
   "source": [
    "Видим, что большая часть пропусков в столбце \"balance\" и их доля составляет почти 23%\n",
    "<br>Такое кол-во может исказить исследование, поэтому оценим, что мы можем с ними сделать\n",
    "<br>Кол-во пропусков в столбце \"age\" достаточно мало (0,04%), поэтому удалим их"
   ]
  },
  {
   "cell_type": "code",
   "execution_count": 17,
   "metadata": {},
   "outputs": [
    {
     "data": {
      "text/html": [
       "<div>\n",
       "<style scoped>\n",
       "    .dataframe tbody tr th:only-of-type {\n",
       "        vertical-align: middle;\n",
       "    }\n",
       "\n",
       "    .dataframe tbody tr th {\n",
       "        vertical-align: top;\n",
       "    }\n",
       "\n",
       "    .dataframe thead th {\n",
       "        text-align: right;\n",
       "    }\n",
       "</style>\n",
       "<table border=\"1\" class=\"dataframe\">\n",
       "  <thead>\n",
       "    <tr style=\"text-align: right;\">\n",
       "      <th></th>\n",
       "      <th>user_id</th>\n",
       "      <th>score</th>\n",
       "      <th>city</th>\n",
       "      <th>gender</th>\n",
       "      <th>age</th>\n",
       "      <th>equity</th>\n",
       "      <th>balance</th>\n",
       "      <th>products</th>\n",
       "      <th>credit_card</th>\n",
       "      <th>last_activity</th>\n",
       "      <th>est_salary</th>\n",
       "      <th>churn</th>\n",
       "      <th>rostov</th>\n",
       "      <th>rybinsk</th>\n",
       "      <th>yaroslavl</th>\n",
       "      <th>cod_gen</th>\n",
       "    </tr>\n",
       "  </thead>\n",
       "  <tbody>\n",
       "    <tr>\n",
       "      <th>0</th>\n",
       "      <td>183012</td>\n",
       "      <td>850.0</td>\n",
       "      <td>Рыбинск</td>\n",
       "      <td>Ж</td>\n",
       "      <td>25.0</td>\n",
       "      <td>1</td>\n",
       "      <td>59214.82</td>\n",
       "      <td>2</td>\n",
       "      <td>0</td>\n",
       "      <td>1</td>\n",
       "      <td>75719.14</td>\n",
       "      <td>1</td>\n",
       "      <td>0</td>\n",
       "      <td>1</td>\n",
       "      <td>0</td>\n",
       "      <td>0</td>\n",
       "    </tr>\n",
       "    <tr>\n",
       "      <th>1</th>\n",
       "      <td>146556</td>\n",
       "      <td>861.0</td>\n",
       "      <td>Рыбинск</td>\n",
       "      <td>Ж</td>\n",
       "      <td>37.0</td>\n",
       "      <td>5</td>\n",
       "      <td>850594.33</td>\n",
       "      <td>3</td>\n",
       "      <td>1</td>\n",
       "      <td>0</td>\n",
       "      <td>86621.77</td>\n",
       "      <td>0</td>\n",
       "      <td>0</td>\n",
       "      <td>1</td>\n",
       "      <td>0</td>\n",
       "      <td>0</td>\n",
       "    </tr>\n",
       "    <tr>\n",
       "      <th>2</th>\n",
       "      <td>120722</td>\n",
       "      <td>892.0</td>\n",
       "      <td>Рыбинск</td>\n",
       "      <td>Ж</td>\n",
       "      <td>30.0</td>\n",
       "      <td>0</td>\n",
       "      <td>NaN</td>\n",
       "      <td>1</td>\n",
       "      <td>1</td>\n",
       "      <td>1</td>\n",
       "      <td>107683.34</td>\n",
       "      <td>0</td>\n",
       "      <td>0</td>\n",
       "      <td>1</td>\n",
       "      <td>0</td>\n",
       "      <td>0</td>\n",
       "    </tr>\n",
       "    <tr>\n",
       "      <th>3</th>\n",
       "      <td>225363</td>\n",
       "      <td>866.0</td>\n",
       "      <td>Ярославль</td>\n",
       "      <td>Ж</td>\n",
       "      <td>51.0</td>\n",
       "      <td>5</td>\n",
       "      <td>1524746.26</td>\n",
       "      <td>2</td>\n",
       "      <td>0</td>\n",
       "      <td>1</td>\n",
       "      <td>174423.53</td>\n",
       "      <td>1</td>\n",
       "      <td>0</td>\n",
       "      <td>0</td>\n",
       "      <td>1</td>\n",
       "      <td>0</td>\n",
       "    </tr>\n",
       "    <tr>\n",
       "      <th>4</th>\n",
       "      <td>157978</td>\n",
       "      <td>730.0</td>\n",
       "      <td>Ярославль</td>\n",
       "      <td>М</td>\n",
       "      <td>34.0</td>\n",
       "      <td>5</td>\n",
       "      <td>174.00</td>\n",
       "      <td>1</td>\n",
       "      <td>1</td>\n",
       "      <td>0</td>\n",
       "      <td>67353.16</td>\n",
       "      <td>1</td>\n",
       "      <td>0</td>\n",
       "      <td>0</td>\n",
       "      <td>1</td>\n",
       "      <td>1</td>\n",
       "    </tr>\n",
       "    <tr>\n",
       "      <th>...</th>\n",
       "      <td>...</td>\n",
       "      <td>...</td>\n",
       "      <td>...</td>\n",
       "      <td>...</td>\n",
       "      <td>...</td>\n",
       "      <td>...</td>\n",
       "      <td>...</td>\n",
       "      <td>...</td>\n",
       "      <td>...</td>\n",
       "      <td>...</td>\n",
       "      <td>...</td>\n",
       "      <td>...</td>\n",
       "      <td>...</td>\n",
       "      <td>...</td>\n",
       "      <td>...</td>\n",
       "      <td>...</td>\n",
       "    </tr>\n",
       "    <tr>\n",
       "      <th>9995</th>\n",
       "      <td>120553</td>\n",
       "      <td>814.0</td>\n",
       "      <td>Рыбинск</td>\n",
       "      <td>М</td>\n",
       "      <td>27.0</td>\n",
       "      <td>1</td>\n",
       "      <td>78144.65</td>\n",
       "      <td>1</td>\n",
       "      <td>0</td>\n",
       "      <td>1</td>\n",
       "      <td>18943.64</td>\n",
       "      <td>0</td>\n",
       "      <td>0</td>\n",
       "      <td>1</td>\n",
       "      <td>0</td>\n",
       "      <td>1</td>\n",
       "    </tr>\n",
       "    <tr>\n",
       "      <th>9996</th>\n",
       "      <td>139170</td>\n",
       "      <td>894.0</td>\n",
       "      <td>Ярославль</td>\n",
       "      <td>М</td>\n",
       "      <td>46.0</td>\n",
       "      <td>0</td>\n",
       "      <td>NaN</td>\n",
       "      <td>1</td>\n",
       "      <td>1</td>\n",
       "      <td>0</td>\n",
       "      <td>196898.29</td>\n",
       "      <td>0</td>\n",
       "      <td>0</td>\n",
       "      <td>0</td>\n",
       "      <td>1</td>\n",
       "      <td>1</td>\n",
       "    </tr>\n",
       "    <tr>\n",
       "      <th>9997</th>\n",
       "      <td>115639</td>\n",
       "      <td>903.0</td>\n",
       "      <td>Ярославль</td>\n",
       "      <td>М</td>\n",
       "      <td>24.0</td>\n",
       "      <td>0</td>\n",
       "      <td>NaN</td>\n",
       "      <td>2</td>\n",
       "      <td>1</td>\n",
       "      <td>1</td>\n",
       "      <td>108905.09</td>\n",
       "      <td>0</td>\n",
       "      <td>0</td>\n",
       "      <td>0</td>\n",
       "      <td>1</td>\n",
       "      <td>1</td>\n",
       "    </tr>\n",
       "    <tr>\n",
       "      <th>9998</th>\n",
       "      <td>148700</td>\n",
       "      <td>777.0</td>\n",
       "      <td>Ярославль</td>\n",
       "      <td>Ж</td>\n",
       "      <td>68.0</td>\n",
       "      <td>3</td>\n",
       "      <td>865457.97</td>\n",
       "      <td>3</td>\n",
       "      <td>0</td>\n",
       "      <td>1</td>\n",
       "      <td>86874.90</td>\n",
       "      <td>0</td>\n",
       "      <td>0</td>\n",
       "      <td>0</td>\n",
       "      <td>1</td>\n",
       "      <td>0</td>\n",
       "    </tr>\n",
       "    <tr>\n",
       "      <th>9999</th>\n",
       "      <td>96267</td>\n",
       "      <td>828.0</td>\n",
       "      <td>Рыбинск</td>\n",
       "      <td>Ж</td>\n",
       "      <td>58.0</td>\n",
       "      <td>3</td>\n",
       "      <td>1180886.70</td>\n",
       "      <td>4</td>\n",
       "      <td>0</td>\n",
       "      <td>1</td>\n",
       "      <td>21422.37</td>\n",
       "      <td>0</td>\n",
       "      <td>0</td>\n",
       "      <td>1</td>\n",
       "      <td>0</td>\n",
       "      <td>0</td>\n",
       "    </tr>\n",
       "  </tbody>\n",
       "</table>\n",
       "<p>9923 rows × 16 columns</p>\n",
       "</div>"
      ],
      "text/plain": [
       "      user_id  score       city gender   age  equity     balance  products  \\\n",
       "0      183012  850.0    Рыбинск      Ж  25.0       1    59214.82         2   \n",
       "1      146556  861.0    Рыбинск      Ж  37.0       5   850594.33         3   \n",
       "2      120722  892.0    Рыбинск      Ж  30.0       0         NaN         1   \n",
       "3      225363  866.0  Ярославль      Ж  51.0       5  1524746.26         2   \n",
       "4      157978  730.0  Ярославль      М  34.0       5      174.00         1   \n",
       "...       ...    ...        ...    ...   ...     ...         ...       ...   \n",
       "9995   120553  814.0    Рыбинск      М  27.0       1    78144.65         1   \n",
       "9996   139170  894.0  Ярославль      М  46.0       0         NaN         1   \n",
       "9997   115639  903.0  Ярославль      М  24.0       0         NaN         2   \n",
       "9998   148700  777.0  Ярославль      Ж  68.0       3   865457.97         3   \n",
       "9999    96267  828.0    Рыбинск      Ж  58.0       3  1180886.70         4   \n",
       "\n",
       "      credit_card  last_activity  est_salary  churn  rostov  rybinsk  \\\n",
       "0               0              1    75719.14      1       0        1   \n",
       "1               1              0    86621.77      0       0        1   \n",
       "2               1              1   107683.34      0       0        1   \n",
       "3               0              1   174423.53      1       0        0   \n",
       "4               1              0    67353.16      1       0        0   \n",
       "...           ...            ...         ...    ...     ...      ...   \n",
       "9995            0              1    18943.64      0       0        1   \n",
       "9996            1              0   196898.29      0       0        0   \n",
       "9997            1              1   108905.09      0       0        0   \n",
       "9998            0              1    86874.90      0       0        0   \n",
       "9999            0              1    21422.37      0       0        1   \n",
       "\n",
       "      yaroslavl  cod_gen  \n",
       "0             0        0  \n",
       "1             0        0  \n",
       "2             0        0  \n",
       "3             1        0  \n",
       "4             1        1  \n",
       "...         ...      ...  \n",
       "9995          0        1  \n",
       "9996          1        1  \n",
       "9997          1        1  \n",
       "9998          1        0  \n",
       "9999          0        0  \n",
       "\n",
       "[9923 rows x 16 columns]"
      ]
     },
     "execution_count": 17,
     "metadata": {},
     "output_type": "execute_result"
    }
   ],
   "source": [
    "bs.dropna(subset=['age'])"
   ]
  },
  {
   "cell_type": "code",
   "execution_count": 18,
   "metadata": {},
   "outputs": [
    {
     "data": {
      "text/html": [
       "<div>\n",
       "<style scoped>\n",
       "    .dataframe tbody tr th:only-of-type {\n",
       "        vertical-align: middle;\n",
       "    }\n",
       "\n",
       "    .dataframe tbody tr th {\n",
       "        vertical-align: top;\n",
       "    }\n",
       "\n",
       "    .dataframe thead th {\n",
       "        text-align: right;\n",
       "    }\n",
       "</style>\n",
       "<table border=\"1\" class=\"dataframe\">\n",
       "  <thead>\n",
       "    <tr style=\"text-align: right;\">\n",
       "      <th></th>\n",
       "      <th>user_id</th>\n",
       "      <th>score</th>\n",
       "      <th>age</th>\n",
       "      <th>equity</th>\n",
       "      <th>balance</th>\n",
       "      <th>products</th>\n",
       "      <th>credit_card</th>\n",
       "      <th>last_activity</th>\n",
       "      <th>est_salary</th>\n",
       "      <th>churn</th>\n",
       "      <th>rostov</th>\n",
       "      <th>rybinsk</th>\n",
       "      <th>yaroslavl</th>\n",
       "      <th>cod_gen</th>\n",
       "    </tr>\n",
       "  </thead>\n",
       "  <tbody>\n",
       "    <tr>\n",
       "      <th>count</th>\n",
       "      <td>2260.000000</td>\n",
       "      <td>2260.000000</td>\n",
       "      <td>2260.000000</td>\n",
       "      <td>2260.000000</td>\n",
       "      <td>0.0</td>\n",
       "      <td>2260.000000</td>\n",
       "      <td>2260.000000</td>\n",
       "      <td>2260.000000</td>\n",
       "      <td>2.260000e+03</td>\n",
       "      <td>2260.000000</td>\n",
       "      <td>2260.000000</td>\n",
       "      <td>2260.000000</td>\n",
       "      <td>2260.000000</td>\n",
       "      <td>2260.000000</td>\n",
       "    </tr>\n",
       "    <tr>\n",
       "      <th>mean</th>\n",
       "      <td>171975.568584</td>\n",
       "      <td>865.334956</td>\n",
       "      <td>42.125664</td>\n",
       "      <td>0.051770</td>\n",
       "      <td>NaN</td>\n",
       "      <td>1.161504</td>\n",
       "      <td>0.815487</td>\n",
       "      <td>0.549115</td>\n",
       "      <td>2.267006e+05</td>\n",
       "      <td>0.005752</td>\n",
       "      <td>0.103982</td>\n",
       "      <td>0.254867</td>\n",
       "      <td>0.641150</td>\n",
       "      <td>0.558850</td>\n",
       "    </tr>\n",
       "    <tr>\n",
       "      <th>std</th>\n",
       "      <td>33277.188448</td>\n",
       "      <td>89.669447</td>\n",
       "      <td>11.953138</td>\n",
       "      <td>0.227525</td>\n",
       "      <td>NaN</td>\n",
       "      <td>0.401442</td>\n",
       "      <td>0.387988</td>\n",
       "      <td>0.497692</td>\n",
       "      <td>1.999817e+05</td>\n",
       "      <td>0.075642</td>\n",
       "      <td>0.305305</td>\n",
       "      <td>0.435883</td>\n",
       "      <td>0.479769</td>\n",
       "      <td>0.496635</td>\n",
       "    </tr>\n",
       "    <tr>\n",
       "      <th>min</th>\n",
       "      <td>114182.000000</td>\n",
       "      <td>642.000000</td>\n",
       "      <td>18.000000</td>\n",
       "      <td>0.000000</td>\n",
       "      <td>NaN</td>\n",
       "      <td>0.000000</td>\n",
       "      <td>0.000000</td>\n",
       "      <td>0.000000</td>\n",
       "      <td>2.027403e+04</td>\n",
       "      <td>0.000000</td>\n",
       "      <td>0.000000</td>\n",
       "      <td>0.000000</td>\n",
       "      <td>0.000000</td>\n",
       "      <td>0.000000</td>\n",
       "    </tr>\n",
       "    <tr>\n",
       "      <th>25%</th>\n",
       "      <td>143067.000000</td>\n",
       "      <td>871.000000</td>\n",
       "      <td>33.000000</td>\n",
       "      <td>0.000000</td>\n",
       "      <td>NaN</td>\n",
       "      <td>1.000000</td>\n",
       "      <td>1.000000</td>\n",
       "      <td>0.000000</td>\n",
       "      <td>1.204570e+05</td>\n",
       "      <td>0.000000</td>\n",
       "      <td>0.000000</td>\n",
       "      <td>0.000000</td>\n",
       "      <td>0.000000</td>\n",
       "      <td>0.000000</td>\n",
       "    </tr>\n",
       "    <tr>\n",
       "      <th>50%</th>\n",
       "      <td>172498.500000</td>\n",
       "      <td>903.000000</td>\n",
       "      <td>40.000000</td>\n",
       "      <td>0.000000</td>\n",
       "      <td>NaN</td>\n",
       "      <td>1.000000</td>\n",
       "      <td>1.000000</td>\n",
       "      <td>1.000000</td>\n",
       "      <td>1.747554e+05</td>\n",
       "      <td>0.000000</td>\n",
       "      <td>0.000000</td>\n",
       "      <td>0.000000</td>\n",
       "      <td>1.000000</td>\n",
       "      <td>1.000000</td>\n",
       "    </tr>\n",
       "    <tr>\n",
       "      <th>75%</th>\n",
       "      <td>201354.250000</td>\n",
       "      <td>922.000000</td>\n",
       "      <td>49.000000</td>\n",
       "      <td>0.000000</td>\n",
       "      <td>NaN</td>\n",
       "      <td>1.000000</td>\n",
       "      <td>1.000000</td>\n",
       "      <td>1.000000</td>\n",
       "      <td>2.404518e+05</td>\n",
       "      <td>0.000000</td>\n",
       "      <td>0.000000</td>\n",
       "      <td>1.000000</td>\n",
       "      <td>1.000000</td>\n",
       "      <td>1.000000</td>\n",
       "    </tr>\n",
       "    <tr>\n",
       "      <th>max</th>\n",
       "      <td>229145.000000</td>\n",
       "      <td>990.000000</td>\n",
       "      <td>86.000000</td>\n",
       "      <td>3.000000</td>\n",
       "      <td>NaN</td>\n",
       "      <td>3.000000</td>\n",
       "      <td>1.000000</td>\n",
       "      <td>1.000000</td>\n",
       "      <td>1.333687e+06</td>\n",
       "      <td>1.000000</td>\n",
       "      <td>1.000000</td>\n",
       "      <td>1.000000</td>\n",
       "      <td>1.000000</td>\n",
       "      <td>1.000000</td>\n",
       "    </tr>\n",
       "  </tbody>\n",
       "</table>\n",
       "</div>"
      ],
      "text/plain": [
       "             user_id        score          age       equity  balance  \\\n",
       "count    2260.000000  2260.000000  2260.000000  2260.000000      0.0   \n",
       "mean   171975.568584   865.334956    42.125664     0.051770      NaN   \n",
       "std     33277.188448    89.669447    11.953138     0.227525      NaN   \n",
       "min    114182.000000   642.000000    18.000000     0.000000      NaN   \n",
       "25%    143067.000000   871.000000    33.000000     0.000000      NaN   \n",
       "50%    172498.500000   903.000000    40.000000     0.000000      NaN   \n",
       "75%    201354.250000   922.000000    49.000000     0.000000      NaN   \n",
       "max    229145.000000   990.000000    86.000000     3.000000      NaN   \n",
       "\n",
       "          products  credit_card  last_activity    est_salary        churn  \\\n",
       "count  2260.000000  2260.000000    2260.000000  2.260000e+03  2260.000000   \n",
       "mean      1.161504     0.815487       0.549115  2.267006e+05     0.005752   \n",
       "std       0.401442     0.387988       0.497692  1.999817e+05     0.075642   \n",
       "min       0.000000     0.000000       0.000000  2.027403e+04     0.000000   \n",
       "25%       1.000000     1.000000       0.000000  1.204570e+05     0.000000   \n",
       "50%       1.000000     1.000000       1.000000  1.747554e+05     0.000000   \n",
       "75%       1.000000     1.000000       1.000000  2.404518e+05     0.000000   \n",
       "max       3.000000     1.000000       1.000000  1.333687e+06     1.000000   \n",
       "\n",
       "            rostov      rybinsk    yaroslavl      cod_gen  \n",
       "count  2260.000000  2260.000000  2260.000000  2260.000000  \n",
       "mean      0.103982     0.254867     0.641150     0.558850  \n",
       "std       0.305305     0.435883     0.479769     0.496635  \n",
       "min       0.000000     0.000000     0.000000     0.000000  \n",
       "25%       0.000000     0.000000     0.000000     0.000000  \n",
       "50%       0.000000     0.000000     1.000000     1.000000  \n",
       "75%       0.000000     1.000000     1.000000     1.000000  \n",
       "max       1.000000     1.000000     1.000000     1.000000  "
      ]
     },
     "execution_count": 18,
     "metadata": {},
     "output_type": "execute_result"
    }
   ],
   "source": [
    "bs_isn = bs[bs['balance'].isnull()]\n",
    "bs_isn.describe()"
   ]
  },
  {
   "cell_type": "code",
   "execution_count": 19,
   "metadata": {},
   "outputs": [
    {
     "data": {
      "text/html": [
       "<div>\n",
       "<style scoped>\n",
       "    .dataframe tbody tr th:only-of-type {\n",
       "        vertical-align: middle;\n",
       "    }\n",
       "\n",
       "    .dataframe tbody tr th {\n",
       "        vertical-align: top;\n",
       "    }\n",
       "\n",
       "    .dataframe thead th {\n",
       "        text-align: right;\n",
       "    }\n",
       "</style>\n",
       "<table border=\"1\" class=\"dataframe\">\n",
       "  <thead>\n",
       "    <tr style=\"text-align: right;\">\n",
       "      <th></th>\n",
       "      <th>user_id</th>\n",
       "      <th>score</th>\n",
       "      <th>age</th>\n",
       "      <th>equity</th>\n",
       "      <th>balance</th>\n",
       "      <th>products</th>\n",
       "      <th>credit_card</th>\n",
       "      <th>last_activity</th>\n",
       "      <th>est_salary</th>\n",
       "      <th>churn</th>\n",
       "      <th>rostov</th>\n",
       "      <th>rybinsk</th>\n",
       "      <th>yaroslavl</th>\n",
       "      <th>cod_gen</th>\n",
       "    </tr>\n",
       "  </thead>\n",
       "  <tbody>\n",
       "    <tr>\n",
       "      <th>count</th>\n",
       "      <td>7667.000000</td>\n",
       "      <td>7667.000000</td>\n",
       "      <td>7663.000000</td>\n",
       "      <td>7667.000000</td>\n",
       "      <td>7.667000e+03</td>\n",
       "      <td>7667.000000</td>\n",
       "      <td>7667.000000</td>\n",
       "      <td>7667.000000</td>\n",
       "      <td>7.667000e+03</td>\n",
       "      <td>7667.000000</td>\n",
       "      <td>7667.000000</td>\n",
       "      <td>7667.000000</td>\n",
       "      <td>7667.000000</td>\n",
       "      <td>7667.000000</td>\n",
       "    </tr>\n",
       "    <tr>\n",
       "      <th>mean</th>\n",
       "      <td>171669.365462</td>\n",
       "      <td>843.843094</td>\n",
       "      <td>42.907216</td>\n",
       "      <td>3.395983</td>\n",
       "      <td>8.289016e+05</td>\n",
       "      <td>2.080866</td>\n",
       "      <td>0.639885</td>\n",
       "      <td>0.515978</td>\n",
       "      <td>1.246609e+05</td>\n",
       "      <td>0.235685</td>\n",
       "      <td>0.154167</td>\n",
       "      <td>0.271032</td>\n",
       "      <td>0.574801</td>\n",
       "      <td>0.483762</td>\n",
       "    </tr>\n",
       "    <tr>\n",
       "      <th>std</th>\n",
       "      <td>33820.930001</td>\n",
       "      <td>55.338359</td>\n",
       "      <td>12.237337</td>\n",
       "      <td>1.584551</td>\n",
       "      <td>1.985272e+06</td>\n",
       "      <td>0.757764</td>\n",
       "      <td>0.480065</td>\n",
       "      <td>0.499777</td>\n",
       "      <td>1.048482e+05</td>\n",
       "      <td>0.424454</td>\n",
       "      <td>0.361133</td>\n",
       "      <td>0.444521</td>\n",
       "      <td>0.494405</td>\n",
       "      <td>0.499769</td>\n",
       "    </tr>\n",
       "    <tr>\n",
       "      <th>min</th>\n",
       "      <td>94561.000000</td>\n",
       "      <td>689.000000</td>\n",
       "      <td>18.000000</td>\n",
       "      <td>0.000000</td>\n",
       "      <td>0.000000e+00</td>\n",
       "      <td>1.000000</td>\n",
       "      <td>0.000000</td>\n",
       "      <td>0.000000</td>\n",
       "      <td>2.546300e+03</td>\n",
       "      <td>0.000000</td>\n",
       "      <td>0.000000</td>\n",
       "      <td>0.000000</td>\n",
       "      <td>0.000000</td>\n",
       "      <td>0.000000</td>\n",
       "    </tr>\n",
       "    <tr>\n",
       "      <th>25%</th>\n",
       "      <td>142562.000000</td>\n",
       "      <td>801.000000</td>\n",
       "      <td>33.000000</td>\n",
       "      <td>2.000000</td>\n",
       "      <td>2.952611e+05</td>\n",
       "      <td>2.000000</td>\n",
       "      <td>0.000000</td>\n",
       "      <td>0.000000</td>\n",
       "      <td>6.758873e+04</td>\n",
       "      <td>0.000000</td>\n",
       "      <td>0.000000</td>\n",
       "      <td>0.000000</td>\n",
       "      <td>0.000000</td>\n",
       "      <td>0.000000</td>\n",
       "    </tr>\n",
       "    <tr>\n",
       "      <th>50%</th>\n",
       "      <td>172704.000000</td>\n",
       "      <td>841.000000</td>\n",
       "      <td>40.000000</td>\n",
       "      <td>4.000000</td>\n",
       "      <td>5.248943e+05</td>\n",
       "      <td>2.000000</td>\n",
       "      <td>1.000000</td>\n",
       "      <td>1.000000</td>\n",
       "      <td>1.063470e+05</td>\n",
       "      <td>0.000000</td>\n",
       "      <td>0.000000</td>\n",
       "      <td>0.000000</td>\n",
       "      <td>1.000000</td>\n",
       "      <td>0.000000</td>\n",
       "    </tr>\n",
       "    <tr>\n",
       "      <th>75%</th>\n",
       "      <td>201038.500000</td>\n",
       "      <td>882.000000</td>\n",
       "      <td>52.000000</td>\n",
       "      <td>5.000000</td>\n",
       "      <td>9.808015e+05</td>\n",
       "      <td>2.000000</td>\n",
       "      <td>1.000000</td>\n",
       "      <td>1.000000</td>\n",
       "      <td>1.553635e+05</td>\n",
       "      <td>0.000000</td>\n",
       "      <td>0.000000</td>\n",
       "      <td>1.000000</td>\n",
       "      <td>1.000000</td>\n",
       "      <td>1.000000</td>\n",
       "    </tr>\n",
       "    <tr>\n",
       "      <th>max</th>\n",
       "      <td>229136.000000</td>\n",
       "      <td>1000.000000</td>\n",
       "      <td>86.000000</td>\n",
       "      <td>9.000000</td>\n",
       "      <td>1.191136e+08</td>\n",
       "      <td>5.000000</td>\n",
       "      <td>1.000000</td>\n",
       "      <td>1.000000</td>\n",
       "      <td>1.395064e+06</td>\n",
       "      <td>1.000000</td>\n",
       "      <td>1.000000</td>\n",
       "      <td>1.000000</td>\n",
       "      <td>1.000000</td>\n",
       "      <td>1.000000</td>\n",
       "    </tr>\n",
       "  </tbody>\n",
       "</table>\n",
       "</div>"
      ],
      "text/plain": [
       "             user_id        score          age       equity       balance  \\\n",
       "count    7667.000000  7667.000000  7663.000000  7667.000000  7.667000e+03   \n",
       "mean   171669.365462   843.843094    42.907216     3.395983  8.289016e+05   \n",
       "std     33820.930001    55.338359    12.237337     1.584551  1.985272e+06   \n",
       "min     94561.000000   689.000000    18.000000     0.000000  0.000000e+00   \n",
       "25%    142562.000000   801.000000    33.000000     2.000000  2.952611e+05   \n",
       "50%    172704.000000   841.000000    40.000000     4.000000  5.248943e+05   \n",
       "75%    201038.500000   882.000000    52.000000     5.000000  9.808015e+05   \n",
       "max    229136.000000  1000.000000    86.000000     9.000000  1.191136e+08   \n",
       "\n",
       "          products  credit_card  last_activity    est_salary        churn  \\\n",
       "count  7667.000000  7667.000000    7667.000000  7.667000e+03  7667.000000   \n",
       "mean      2.080866     0.639885       0.515978  1.246609e+05     0.235685   \n",
       "std       0.757764     0.480065       0.499777  1.048482e+05     0.424454   \n",
       "min       1.000000     0.000000       0.000000  2.546300e+03     0.000000   \n",
       "25%       2.000000     0.000000       0.000000  6.758873e+04     0.000000   \n",
       "50%       2.000000     1.000000       1.000000  1.063470e+05     0.000000   \n",
       "75%       2.000000     1.000000       1.000000  1.553635e+05     0.000000   \n",
       "max       5.000000     1.000000       1.000000  1.395064e+06     1.000000   \n",
       "\n",
       "            rostov      rybinsk    yaroslavl      cod_gen  \n",
       "count  7667.000000  7667.000000  7667.000000  7667.000000  \n",
       "mean      0.154167     0.271032     0.574801     0.483762  \n",
       "std       0.361133     0.444521     0.494405     0.499769  \n",
       "min       0.000000     0.000000     0.000000     0.000000  \n",
       "25%       0.000000     0.000000     0.000000     0.000000  \n",
       "50%       0.000000     0.000000     1.000000     0.000000  \n",
       "75%       0.000000     1.000000     1.000000     1.000000  \n",
       "max       1.000000     1.000000     1.000000     1.000000  "
      ]
     },
     "execution_count": 19,
     "metadata": {},
     "output_type": "execute_result"
    }
   ],
   "source": [
    "bs_notn = bs[bs['balance'].notnull()]\n",
    "bs_notn.describe()"
   ]
  },
  {
   "cell_type": "code",
   "execution_count": 20,
   "metadata": {},
   "outputs": [
    {
     "data": {
      "text/html": [
       "<div>\n",
       "<style scoped>\n",
       "    .dataframe tbody tr th:only-of-type {\n",
       "        vertical-align: middle;\n",
       "    }\n",
       "\n",
       "    .dataframe tbody tr th {\n",
       "        vertical-align: top;\n",
       "    }\n",
       "\n",
       "    .dataframe thead th {\n",
       "        text-align: right;\n",
       "    }\n",
       "</style>\n",
       "<table border=\"1\" class=\"dataframe\">\n",
       "  <thead>\n",
       "    <tr style=\"text-align: right;\">\n",
       "      <th></th>\n",
       "      <th>user_id</th>\n",
       "      <th>score</th>\n",
       "      <th>age</th>\n",
       "      <th>equity</th>\n",
       "      <th>balance</th>\n",
       "      <th>products</th>\n",
       "      <th>credit_card</th>\n",
       "      <th>last_activity</th>\n",
       "      <th>est_salary</th>\n",
       "      <th>churn</th>\n",
       "      <th>rostov</th>\n",
       "      <th>rybinsk</th>\n",
       "      <th>yaroslavl</th>\n",
       "      <th>cod_gen</th>\n",
       "    </tr>\n",
       "  </thead>\n",
       "  <tbody>\n",
       "    <tr>\n",
       "      <th>count</th>\n",
       "      <td>9927.000000</td>\n",
       "      <td>9927.000000</td>\n",
       "      <td>9923.000000</td>\n",
       "      <td>9927.000000</td>\n",
       "      <td>7.667000e+03</td>\n",
       "      <td>9927.000000</td>\n",
       "      <td>9927.000000</td>\n",
       "      <td>9927.000000</td>\n",
       "      <td>9.927000e+03</td>\n",
       "      <td>9927.000000</td>\n",
       "      <td>9927.000000</td>\n",
       "      <td>9927.000000</td>\n",
       "      <td>9927.000000</td>\n",
       "      <td>9927.000000</td>\n",
       "    </tr>\n",
       "    <tr>\n",
       "      <th>mean</th>\n",
       "      <td>171739.076257</td>\n",
       "      <td>848.735973</td>\n",
       "      <td>42.729215</td>\n",
       "      <td>2.634633</td>\n",
       "      <td>8.289016e+05</td>\n",
       "      <td>1.871562</td>\n",
       "      <td>0.679863</td>\n",
       "      <td>0.523522</td>\n",
       "      <td>1.478914e+05</td>\n",
       "      <td>0.183338</td>\n",
       "      <td>0.142742</td>\n",
       "      <td>0.267352</td>\n",
       "      <td>0.589906</td>\n",
       "      <td>0.500856</td>\n",
       "    </tr>\n",
       "    <tr>\n",
       "      <th>std</th>\n",
       "      <td>33696.488963</td>\n",
       "      <td>65.392866</td>\n",
       "      <td>12.177008</td>\n",
       "      <td>1.979286</td>\n",
       "      <td>1.985272e+06</td>\n",
       "      <td>0.792955</td>\n",
       "      <td>0.466552</td>\n",
       "      <td>0.499472</td>\n",
       "      <td>1.393658e+05</td>\n",
       "      <td>0.386963</td>\n",
       "      <td>0.349827</td>\n",
       "      <td>0.442600</td>\n",
       "      <td>0.491875</td>\n",
       "      <td>0.500024</td>\n",
       "    </tr>\n",
       "    <tr>\n",
       "      <th>min</th>\n",
       "      <td>94561.000000</td>\n",
       "      <td>642.000000</td>\n",
       "      <td>18.000000</td>\n",
       "      <td>0.000000</td>\n",
       "      <td>0.000000e+00</td>\n",
       "      <td>0.000000</td>\n",
       "      <td>0.000000</td>\n",
       "      <td>0.000000</td>\n",
       "      <td>2.546300e+03</td>\n",
       "      <td>0.000000</td>\n",
       "      <td>0.000000</td>\n",
       "      <td>0.000000</td>\n",
       "      <td>0.000000</td>\n",
       "      <td>0.000000</td>\n",
       "    </tr>\n",
       "    <tr>\n",
       "      <th>25%</th>\n",
       "      <td>142720.000000</td>\n",
       "      <td>802.000000</td>\n",
       "      <td>33.000000</td>\n",
       "      <td>0.000000</td>\n",
       "      <td>2.952611e+05</td>\n",
       "      <td>1.000000</td>\n",
       "      <td>0.000000</td>\n",
       "      <td>0.000000</td>\n",
       "      <td>7.525178e+04</td>\n",
       "      <td>0.000000</td>\n",
       "      <td>0.000000</td>\n",
       "      <td>0.000000</td>\n",
       "      <td>0.000000</td>\n",
       "      <td>0.000000</td>\n",
       "    </tr>\n",
       "    <tr>\n",
       "      <th>50%</th>\n",
       "      <td>172651.000000</td>\n",
       "      <td>853.000000</td>\n",
       "      <td>40.000000</td>\n",
       "      <td>3.000000</td>\n",
       "      <td>5.248943e+05</td>\n",
       "      <td>2.000000</td>\n",
       "      <td>1.000000</td>\n",
       "      <td>1.000000</td>\n",
       "      <td>1.197114e+05</td>\n",
       "      <td>0.000000</td>\n",
       "      <td>0.000000</td>\n",
       "      <td>0.000000</td>\n",
       "      <td>1.000000</td>\n",
       "      <td>1.000000</td>\n",
       "    </tr>\n",
       "    <tr>\n",
       "      <th>75%</th>\n",
       "      <td>201160.500000</td>\n",
       "      <td>900.000000</td>\n",
       "      <td>51.000000</td>\n",
       "      <td>4.000000</td>\n",
       "      <td>9.808015e+05</td>\n",
       "      <td>2.000000</td>\n",
       "      <td>1.000000</td>\n",
       "      <td>1.000000</td>\n",
       "      <td>1.746733e+05</td>\n",
       "      <td>0.000000</td>\n",
       "      <td>0.000000</td>\n",
       "      <td>1.000000</td>\n",
       "      <td>1.000000</td>\n",
       "      <td>1.000000</td>\n",
       "    </tr>\n",
       "    <tr>\n",
       "      <th>max</th>\n",
       "      <td>229145.000000</td>\n",
       "      <td>1000.000000</td>\n",
       "      <td>86.000000</td>\n",
       "      <td>9.000000</td>\n",
       "      <td>1.191136e+08</td>\n",
       "      <td>5.000000</td>\n",
       "      <td>1.000000</td>\n",
       "      <td>1.000000</td>\n",
       "      <td>1.395064e+06</td>\n",
       "      <td>1.000000</td>\n",
       "      <td>1.000000</td>\n",
       "      <td>1.000000</td>\n",
       "      <td>1.000000</td>\n",
       "      <td>1.000000</td>\n",
       "    </tr>\n",
       "  </tbody>\n",
       "</table>\n",
       "</div>"
      ],
      "text/plain": [
       "             user_id        score          age       equity       balance  \\\n",
       "count    9927.000000  9927.000000  9923.000000  9927.000000  7.667000e+03   \n",
       "mean   171739.076257   848.735973    42.729215     2.634633  8.289016e+05   \n",
       "std     33696.488963    65.392866    12.177008     1.979286  1.985272e+06   \n",
       "min     94561.000000   642.000000    18.000000     0.000000  0.000000e+00   \n",
       "25%    142720.000000   802.000000    33.000000     0.000000  2.952611e+05   \n",
       "50%    172651.000000   853.000000    40.000000     3.000000  5.248943e+05   \n",
       "75%    201160.500000   900.000000    51.000000     4.000000  9.808015e+05   \n",
       "max    229145.000000  1000.000000    86.000000     9.000000  1.191136e+08   \n",
       "\n",
       "          products  credit_card  last_activity    est_salary        churn  \\\n",
       "count  9927.000000  9927.000000    9927.000000  9.927000e+03  9927.000000   \n",
       "mean      1.871562     0.679863       0.523522  1.478914e+05     0.183338   \n",
       "std       0.792955     0.466552       0.499472  1.393658e+05     0.386963   \n",
       "min       0.000000     0.000000       0.000000  2.546300e+03     0.000000   \n",
       "25%       1.000000     0.000000       0.000000  7.525178e+04     0.000000   \n",
       "50%       2.000000     1.000000       1.000000  1.197114e+05     0.000000   \n",
       "75%       2.000000     1.000000       1.000000  1.746733e+05     0.000000   \n",
       "max       5.000000     1.000000       1.000000  1.395064e+06     1.000000   \n",
       "\n",
       "            rostov      rybinsk    yaroslavl      cod_gen  \n",
       "count  9927.000000  9927.000000  9927.000000  9927.000000  \n",
       "mean      0.142742     0.267352     0.589906     0.500856  \n",
       "std       0.349827     0.442600     0.491875     0.500024  \n",
       "min       0.000000     0.000000     0.000000     0.000000  \n",
       "25%       0.000000     0.000000     0.000000     0.000000  \n",
       "50%       0.000000     0.000000     1.000000     1.000000  \n",
       "75%       0.000000     1.000000     1.000000     1.000000  \n",
       "max       1.000000     1.000000     1.000000     1.000000  "
      ]
     },
     "execution_count": 20,
     "metadata": {},
     "output_type": "execute_result"
    }
   ],
   "source": [
    "bs.describe()"
   ]
  },
  {
   "cell_type": "markdown",
   "metadata": {},
   "source": [
    "Исходя из таблиц, видим, что у клиентов имеющих пропуски в столбце \"balance\":\n",
    "1. выше средние показаталеи у столбцов:\n",
    "  - score\n",
    "  - credit_card\n",
    "  - last_activity\n",
    "  - est_salary\n",
    "  - ниже доля отточных клиентов\t\n",
    "  - чаще это мужчины\n",
    "2. ниже средние показатели у столбцов:\n",
    "  - age\n",
    "  - equity\n",
    "  - products"
   ]
  },
  {
   "cell_type": "code",
   "execution_count": 21,
   "metadata": {
    "scrolled": true
   },
   "outputs": [
    {
     "data": {
      "text/plain": [
       "0    2247\n",
       "1      13\n",
       "Name: churn, dtype: int64"
      ]
     },
     "execution_count": 21,
     "metadata": {},
     "output_type": "execute_result"
    }
   ],
   "source": [
    "bs_isn['churn'].value_counts()"
   ]
  },
  {
   "cell_type": "code",
   "execution_count": 22,
   "metadata": {
    "scrolled": true
   },
   "outputs": [
    {
     "data": {
      "text/plain": [
       "products\n",
       "0       1\n",
       "1    1921\n",
       "2     310\n",
       "3      28\n",
       "Name: products, dtype: int64"
      ]
     },
     "execution_count": 22,
     "metadata": {},
     "output_type": "execute_result"
    }
   ],
   "source": [
    "bs_isn.groupby('products')['products'].count()"
   ]
  },
  {
   "cell_type": "code",
   "execution_count": 23,
   "metadata": {
    "scrolled": true
   },
   "outputs": [
    {
     "data": {
      "text/plain": [
       "city\n",
       "Ростов        235\n",
       "Рыбинск       576\n",
       "Ярославль    1449\n",
       "Name: city, dtype: int64"
      ]
     },
     "execution_count": 23,
     "metadata": {},
     "output_type": "execute_result"
    }
   ],
   "source": [
    "bs_isn.groupby('city')['city'].count()"
   ]
  },
  {
   "cell_type": "code",
   "execution_count": 24,
   "metadata": {},
   "outputs": [
    {
     "data": {
      "text/plain": [
       "gender\n",
       "Ж     997\n",
       "М    1263\n",
       "Name: gender, dtype: int64"
      ]
     },
     "execution_count": 24,
     "metadata": {},
     "output_type": "execute_result"
    }
   ],
   "source": [
    "bs_isn.groupby('gender')['gender'].count()"
   ]
  },
  {
   "cell_type": "markdown",
   "metadata": {},
   "source": [
    "Видим, что пропуски не связанны ни с ушедшими клиентами, ни с городом, ни с полом, а так же с иными численными данными(что видно по таблицам)\n",
    "<br>Поэтому считаю, что с пропусками в данных никак не стоит взаимодействвать т.е. оставить без изменений, так как нет никаких логических взаимосвязей, по которым их можно заменить их или удалить.\n",
    "<br>Т.е. считаю, что пропуски относятся к классификации MCAR - в рамках каждой из групп которая у нас есть, распределение пропусков случайно."
   ]
  },
  {
   "cell_type": "markdown",
   "metadata": {},
   "source": [
    "Проверим, есть лик в столбце клиенты не имеющие ни одного продукта\n",
    "<br>Если такие имеются - удалим их, это явно ошибка в данных"
   ]
  },
  {
   "cell_type": "code",
   "execution_count": 25,
   "metadata": {
    "scrolled": true
   },
   "outputs": [
    {
     "data": {
      "text/html": [
       "<div>\n",
       "<style scoped>\n",
       "    .dataframe tbody tr th:only-of-type {\n",
       "        vertical-align: middle;\n",
       "    }\n",
       "\n",
       "    .dataframe tbody tr th {\n",
       "        vertical-align: top;\n",
       "    }\n",
       "\n",
       "    .dataframe thead th {\n",
       "        text-align: right;\n",
       "    }\n",
       "</style>\n",
       "<table border=\"1\" class=\"dataframe\">\n",
       "  <thead>\n",
       "    <tr style=\"text-align: right;\">\n",
       "      <th></th>\n",
       "      <th>user_id</th>\n",
       "      <th>score</th>\n",
       "      <th>city</th>\n",
       "      <th>gender</th>\n",
       "      <th>age</th>\n",
       "      <th>equity</th>\n",
       "      <th>balance</th>\n",
       "      <th>products</th>\n",
       "      <th>credit_card</th>\n",
       "      <th>last_activity</th>\n",
       "      <th>est_salary</th>\n",
       "      <th>churn</th>\n",
       "      <th>rostov</th>\n",
       "      <th>rybinsk</th>\n",
       "      <th>yaroslavl</th>\n",
       "      <th>cod_gen</th>\n",
       "    </tr>\n",
       "  </thead>\n",
       "  <tbody>\n",
       "    <tr>\n",
       "      <th>8957</th>\n",
       "      <td>147837</td>\n",
       "      <td>962.0</td>\n",
       "      <td>Рыбинск</td>\n",
       "      <td>Ж</td>\n",
       "      <td>79.0</td>\n",
       "      <td>3</td>\n",
       "      <td>NaN</td>\n",
       "      <td>0</td>\n",
       "      <td>0</td>\n",
       "      <td>0</td>\n",
       "      <td>25063.96</td>\n",
       "      <td>1</td>\n",
       "      <td>0</td>\n",
       "      <td>1</td>\n",
       "      <td>0</td>\n",
       "      <td>0</td>\n",
       "    </tr>\n",
       "  </tbody>\n",
       "</table>\n",
       "</div>"
      ],
      "text/plain": [
       "      user_id  score     city gender   age  equity  balance  products  \\\n",
       "8957   147837  962.0  Рыбинск      Ж  79.0       3      NaN         0   \n",
       "\n",
       "      credit_card  last_activity  est_salary  churn  rostov  rybinsk  \\\n",
       "8957            0              0    25063.96      1       0        1   \n",
       "\n",
       "      yaroslavl  cod_gen  \n",
       "8957          0        0  "
      ]
     },
     "execution_count": 25,
     "metadata": {},
     "output_type": "execute_result"
    }
   ],
   "source": [
    "bs[bs['products']==0]"
   ]
  },
  {
   "cell_type": "code",
   "execution_count": 26,
   "metadata": {},
   "outputs": [],
   "source": [
    "bs=bs[bs['products']!=0]"
   ]
  },
  {
   "cell_type": "markdown",
   "metadata": {},
   "source": [
    "В итоге:\n",
    "- исправлено нарушение стиля в названиях столбцов\n",
    "- явных дубликатов в данных не обнаружено, неявные были устранены\n",
    "- закодировали пол и города численно, для этого создали отдельные столбцы\n",
    "- в данных есть пропуски в стобцах \"age\" и \"balance\", оставили их без изменений"
   ]
  },
  {
   "cell_type": "markdown",
   "metadata": {},
   "source": [
    "**Шаг 3.** Исследовательский анализ данных"
   ]
  },
  {
   "cell_type": "code",
   "execution_count": 27,
   "metadata": {
    "scrolled": true
   },
   "outputs": [
    {
     "data": {
      "text/html": [
       "<div>\n",
       "<style scoped>\n",
       "    .dataframe tbody tr th:only-of-type {\n",
       "        vertical-align: middle;\n",
       "    }\n",
       "\n",
       "    .dataframe tbody tr th {\n",
       "        vertical-align: top;\n",
       "    }\n",
       "\n",
       "    .dataframe thead th {\n",
       "        text-align: right;\n",
       "    }\n",
       "</style>\n",
       "<table border=\"1\" class=\"dataframe\">\n",
       "  <thead>\n",
       "    <tr style=\"text-align: right;\">\n",
       "      <th></th>\n",
       "      <th>user_id</th>\n",
       "      <th>score</th>\n",
       "      <th>age</th>\n",
       "      <th>equity</th>\n",
       "      <th>balance</th>\n",
       "      <th>products</th>\n",
       "      <th>credit_card</th>\n",
       "      <th>last_activity</th>\n",
       "      <th>est_salary</th>\n",
       "      <th>churn</th>\n",
       "      <th>rostov</th>\n",
       "      <th>rybinsk</th>\n",
       "      <th>yaroslavl</th>\n",
       "      <th>cod_gen</th>\n",
       "    </tr>\n",
       "  </thead>\n",
       "  <tbody>\n",
       "    <tr>\n",
       "      <th>count</th>\n",
       "      <td>9926.000000</td>\n",
       "      <td>9926.000000</td>\n",
       "      <td>9922.000000</td>\n",
       "      <td>9926.000000</td>\n",
       "      <td>7.667000e+03</td>\n",
       "      <td>9926.000000</td>\n",
       "      <td>9926.000000</td>\n",
       "      <td>9926.000000</td>\n",
       "      <td>9.926000e+03</td>\n",
       "      <td>9926.000000</td>\n",
       "      <td>9926.000000</td>\n",
       "      <td>9926.000000</td>\n",
       "      <td>9926.000000</td>\n",
       "      <td>9926.000000</td>\n",
       "    </tr>\n",
       "    <tr>\n",
       "      <th>mean</th>\n",
       "      <td>171741.484284</td>\n",
       "      <td>848.724562</td>\n",
       "      <td>42.725559</td>\n",
       "      <td>2.634596</td>\n",
       "      <td>8.289016e+05</td>\n",
       "      <td>1.871751</td>\n",
       "      <td>0.679931</td>\n",
       "      <td>0.523574</td>\n",
       "      <td>1.479038e+05</td>\n",
       "      <td>0.183256</td>\n",
       "      <td>0.142756</td>\n",
       "      <td>0.267278</td>\n",
       "      <td>0.589966</td>\n",
       "      <td>0.500907</td>\n",
       "    </tr>\n",
       "    <tr>\n",
       "      <th>std</th>\n",
       "      <td>33697.332289</td>\n",
       "      <td>65.386276</td>\n",
       "      <td>12.172175</td>\n",
       "      <td>1.979382</td>\n",
       "      <td>1.985272e+06</td>\n",
       "      <td>0.792772</td>\n",
       "      <td>0.466526</td>\n",
       "      <td>0.499469</td>\n",
       "      <td>1.393674e+05</td>\n",
       "      <td>0.386896</td>\n",
       "      <td>0.349842</td>\n",
       "      <td>0.442561</td>\n",
       "      <td>0.491864</td>\n",
       "      <td>0.500024</td>\n",
       "    </tr>\n",
       "    <tr>\n",
       "      <th>min</th>\n",
       "      <td>94561.000000</td>\n",
       "      <td>642.000000</td>\n",
       "      <td>18.000000</td>\n",
       "      <td>0.000000</td>\n",
       "      <td>0.000000e+00</td>\n",
       "      <td>1.000000</td>\n",
       "      <td>0.000000</td>\n",
       "      <td>0.000000</td>\n",
       "      <td>2.546300e+03</td>\n",
       "      <td>0.000000</td>\n",
       "      <td>0.000000</td>\n",
       "      <td>0.000000</td>\n",
       "      <td>0.000000</td>\n",
       "      <td>0.000000</td>\n",
       "    </tr>\n",
       "    <tr>\n",
       "      <th>25%</th>\n",
       "      <td>142715.000000</td>\n",
       "      <td>802.000000</td>\n",
       "      <td>33.000000</td>\n",
       "      <td>0.000000</td>\n",
       "      <td>2.952611e+05</td>\n",
       "      <td>1.000000</td>\n",
       "      <td>0.000000</td>\n",
       "      <td>0.000000</td>\n",
       "      <td>7.525207e+04</td>\n",
       "      <td>0.000000</td>\n",
       "      <td>0.000000</td>\n",
       "      <td>0.000000</td>\n",
       "      <td>0.000000</td>\n",
       "      <td>0.000000</td>\n",
       "    </tr>\n",
       "    <tr>\n",
       "      <th>50%</th>\n",
       "      <td>172654.000000</td>\n",
       "      <td>853.000000</td>\n",
       "      <td>40.000000</td>\n",
       "      <td>3.000000</td>\n",
       "      <td>5.248943e+05</td>\n",
       "      <td>2.000000</td>\n",
       "      <td>1.000000</td>\n",
       "      <td>1.000000</td>\n",
       "      <td>1.197154e+05</td>\n",
       "      <td>0.000000</td>\n",
       "      <td>0.000000</td>\n",
       "      <td>0.000000</td>\n",
       "      <td>1.000000</td>\n",
       "      <td>1.000000</td>\n",
       "    </tr>\n",
       "    <tr>\n",
       "      <th>75%</th>\n",
       "      <td>201161.750000</td>\n",
       "      <td>900.000000</td>\n",
       "      <td>51.000000</td>\n",
       "      <td>4.000000</td>\n",
       "      <td>9.808015e+05</td>\n",
       "      <td>2.000000</td>\n",
       "      <td>1.000000</td>\n",
       "      <td>1.000000</td>\n",
       "      <td>1.746796e+05</td>\n",
       "      <td>0.000000</td>\n",
       "      <td>0.000000</td>\n",
       "      <td>1.000000</td>\n",
       "      <td>1.000000</td>\n",
       "      <td>1.000000</td>\n",
       "    </tr>\n",
       "    <tr>\n",
       "      <th>max</th>\n",
       "      <td>229145.000000</td>\n",
       "      <td>1000.000000</td>\n",
       "      <td>86.000000</td>\n",
       "      <td>9.000000</td>\n",
       "      <td>1.191136e+08</td>\n",
       "      <td>5.000000</td>\n",
       "      <td>1.000000</td>\n",
       "      <td>1.000000</td>\n",
       "      <td>1.395064e+06</td>\n",
       "      <td>1.000000</td>\n",
       "      <td>1.000000</td>\n",
       "      <td>1.000000</td>\n",
       "      <td>1.000000</td>\n",
       "      <td>1.000000</td>\n",
       "    </tr>\n",
       "  </tbody>\n",
       "</table>\n",
       "</div>"
      ],
      "text/plain": [
       "             user_id        score          age       equity       balance  \\\n",
       "count    9926.000000  9926.000000  9922.000000  9926.000000  7.667000e+03   \n",
       "mean   171741.484284   848.724562    42.725559     2.634596  8.289016e+05   \n",
       "std     33697.332289    65.386276    12.172175     1.979382  1.985272e+06   \n",
       "min     94561.000000   642.000000    18.000000     0.000000  0.000000e+00   \n",
       "25%    142715.000000   802.000000    33.000000     0.000000  2.952611e+05   \n",
       "50%    172654.000000   853.000000    40.000000     3.000000  5.248943e+05   \n",
       "75%    201161.750000   900.000000    51.000000     4.000000  9.808015e+05   \n",
       "max    229145.000000  1000.000000    86.000000     9.000000  1.191136e+08   \n",
       "\n",
       "          products  credit_card  last_activity    est_salary        churn  \\\n",
       "count  9926.000000  9926.000000    9926.000000  9.926000e+03  9926.000000   \n",
       "mean      1.871751     0.679931       0.523574  1.479038e+05     0.183256   \n",
       "std       0.792772     0.466526       0.499469  1.393674e+05     0.386896   \n",
       "min       1.000000     0.000000       0.000000  2.546300e+03     0.000000   \n",
       "25%       1.000000     0.000000       0.000000  7.525207e+04     0.000000   \n",
       "50%       2.000000     1.000000       1.000000  1.197154e+05     0.000000   \n",
       "75%       2.000000     1.000000       1.000000  1.746796e+05     0.000000   \n",
       "max       5.000000     1.000000       1.000000  1.395064e+06     1.000000   \n",
       "\n",
       "            rostov      rybinsk    yaroslavl      cod_gen  \n",
       "count  9926.000000  9926.000000  9926.000000  9926.000000  \n",
       "mean      0.142756     0.267278     0.589966     0.500907  \n",
       "std       0.349842     0.442561     0.491864     0.500024  \n",
       "min       0.000000     0.000000     0.000000     0.000000  \n",
       "25%       0.000000     0.000000     0.000000     0.000000  \n",
       "50%       0.000000     0.000000     1.000000     1.000000  \n",
       "75%       0.000000     1.000000     1.000000     1.000000  \n",
       "max       1.000000     1.000000     1.000000     1.000000  "
      ]
     },
     "execution_count": 27,
     "metadata": {},
     "output_type": "execute_result"
    }
   ],
   "source": [
    "bs.describe()"
   ]
  },
  {
   "cell_type": "code",
   "execution_count": 28,
   "metadata": {},
   "outputs": [
    {
     "data": {
      "text/html": [
       "<div>\n",
       "<style scoped>\n",
       "    .dataframe tbody tr th:only-of-type {\n",
       "        vertical-align: middle;\n",
       "    }\n",
       "\n",
       "    .dataframe tbody tr th {\n",
       "        vertical-align: top;\n",
       "    }\n",
       "\n",
       "    .dataframe thead th {\n",
       "        text-align: right;\n",
       "    }\n",
       "</style>\n",
       "<table border=\"1\" class=\"dataframe\">\n",
       "  <thead>\n",
       "    <tr style=\"text-align: right;\">\n",
       "      <th></th>\n",
       "      <th>user_id</th>\n",
       "      <th>score</th>\n",
       "      <th>age</th>\n",
       "      <th>equity</th>\n",
       "      <th>balance</th>\n",
       "      <th>products</th>\n",
       "      <th>credit_card</th>\n",
       "      <th>last_activity</th>\n",
       "      <th>est_salary</th>\n",
       "      <th>churn</th>\n",
       "      <th>rostov</th>\n",
       "      <th>rybinsk</th>\n",
       "      <th>yaroslavl</th>\n",
       "      <th>cod_gen</th>\n",
       "    </tr>\n",
       "  </thead>\n",
       "  <tbody>\n",
       "    <tr>\n",
       "      <th>count</th>\n",
       "      <td>8107.000000</td>\n",
       "      <td>8107.000000</td>\n",
       "      <td>8104.000000</td>\n",
       "      <td>8107.000000</td>\n",
       "      <td>5.860000e+03</td>\n",
       "      <td>8107.000000</td>\n",
       "      <td>8107.000000</td>\n",
       "      <td>8107.000000</td>\n",
       "      <td>8.107000e+03</td>\n",
       "      <td>8107.0</td>\n",
       "      <td>8107.000000</td>\n",
       "      <td>8107.000000</td>\n",
       "      <td>8107.000000</td>\n",
       "      <td>8107.000000</td>\n",
       "    </tr>\n",
       "    <tr>\n",
       "      <th>mean</th>\n",
       "      <td>171913.450228</td>\n",
       "      <td>845.443691</td>\n",
       "      <td>43.016288</td>\n",
       "      <td>2.381152</td>\n",
       "      <td>7.348230e+05</td>\n",
       "      <td>1.758357</td>\n",
       "      <td>0.708770</td>\n",
       "      <td>0.483409</td>\n",
       "      <td>1.478125e+05</td>\n",
       "      <td>0.0</td>\n",
       "      <td>0.141976</td>\n",
       "      <td>0.273467</td>\n",
       "      <td>0.584557</td>\n",
       "      <td>0.467374</td>\n",
       "    </tr>\n",
       "    <tr>\n",
       "      <th>std</th>\n",
       "      <td>33328.142077</td>\n",
       "      <td>68.006608</td>\n",
       "      <td>12.372982</td>\n",
       "      <td>1.970365</td>\n",
       "      <td>1.960631e+06</td>\n",
       "      <td>0.713241</td>\n",
       "      <td>0.454357</td>\n",
       "      <td>0.499755</td>\n",
       "      <td>1.428057e+05</td>\n",
       "      <td>0.0</td>\n",
       "      <td>0.349047</td>\n",
       "      <td>0.445766</td>\n",
       "      <td>0.492829</td>\n",
       "      <td>0.498965</td>\n",
       "    </tr>\n",
       "    <tr>\n",
       "      <th>min</th>\n",
       "      <td>95384.000000</td>\n",
       "      <td>642.000000</td>\n",
       "      <td>18.000000</td>\n",
       "      <td>0.000000</td>\n",
       "      <td>0.000000e+00</td>\n",
       "      <td>1.000000</td>\n",
       "      <td>0.000000</td>\n",
       "      <td>0.000000</td>\n",
       "      <td>2.546300e+03</td>\n",
       "      <td>0.0</td>\n",
       "      <td>0.000000</td>\n",
       "      <td>0.000000</td>\n",
       "      <td>0.000000</td>\n",
       "      <td>0.000000</td>\n",
       "    </tr>\n",
       "    <tr>\n",
       "      <th>25%</th>\n",
       "      <td>142985.500000</td>\n",
       "      <td>796.000000</td>\n",
       "      <td>34.000000</td>\n",
       "      <td>0.000000</td>\n",
       "      <td>2.786464e+05</td>\n",
       "      <td>1.000000</td>\n",
       "      <td>0.000000</td>\n",
       "      <td>0.000000</td>\n",
       "      <td>7.350065e+04</td>\n",
       "      <td>0.0</td>\n",
       "      <td>0.000000</td>\n",
       "      <td>0.000000</td>\n",
       "      <td>0.000000</td>\n",
       "      <td>0.000000</td>\n",
       "    </tr>\n",
       "    <tr>\n",
       "      <th>50%</th>\n",
       "      <td>173163.000000</td>\n",
       "      <td>848.000000</td>\n",
       "      <td>40.000000</td>\n",
       "      <td>3.000000</td>\n",
       "      <td>4.753524e+05</td>\n",
       "      <td>2.000000</td>\n",
       "      <td>1.000000</td>\n",
       "      <td>0.000000</td>\n",
       "      <td>1.182472e+05</td>\n",
       "      <td>0.0</td>\n",
       "      <td>0.000000</td>\n",
       "      <td>0.000000</td>\n",
       "      <td>1.000000</td>\n",
       "      <td>0.000000</td>\n",
       "    </tr>\n",
       "    <tr>\n",
       "      <th>75%</th>\n",
       "      <td>201157.500000</td>\n",
       "      <td>900.000000</td>\n",
       "      <td>51.000000</td>\n",
       "      <td>4.000000</td>\n",
       "      <td>8.538599e+05</td>\n",
       "      <td>2.000000</td>\n",
       "      <td>1.000000</td>\n",
       "      <td>1.000000</td>\n",
       "      <td>1.741243e+05</td>\n",
       "      <td>0.0</td>\n",
       "      <td>0.000000</td>\n",
       "      <td>1.000000</td>\n",
       "      <td>1.000000</td>\n",
       "      <td>1.000000</td>\n",
       "    </tr>\n",
       "    <tr>\n",
       "      <th>max</th>\n",
       "      <td>229145.000000</td>\n",
       "      <td>1000.000000</td>\n",
       "      <td>86.000000</td>\n",
       "      <td>9.000000</td>\n",
       "      <td>1.191136e+08</td>\n",
       "      <td>5.000000</td>\n",
       "      <td>1.000000</td>\n",
       "      <td>1.000000</td>\n",
       "      <td>1.395064e+06</td>\n",
       "      <td>0.0</td>\n",
       "      <td>1.000000</td>\n",
       "      <td>1.000000</td>\n",
       "      <td>1.000000</td>\n",
       "      <td>1.000000</td>\n",
       "    </tr>\n",
       "  </tbody>\n",
       "</table>\n",
       "</div>"
      ],
      "text/plain": [
       "             user_id        score          age       equity       balance  \\\n",
       "count    8107.000000  8107.000000  8104.000000  8107.000000  5.860000e+03   \n",
       "mean   171913.450228   845.443691    43.016288     2.381152  7.348230e+05   \n",
       "std     33328.142077    68.006608    12.372982     1.970365  1.960631e+06   \n",
       "min     95384.000000   642.000000    18.000000     0.000000  0.000000e+00   \n",
       "25%    142985.500000   796.000000    34.000000     0.000000  2.786464e+05   \n",
       "50%    173163.000000   848.000000    40.000000     3.000000  4.753524e+05   \n",
       "75%    201157.500000   900.000000    51.000000     4.000000  8.538599e+05   \n",
       "max    229145.000000  1000.000000    86.000000     9.000000  1.191136e+08   \n",
       "\n",
       "          products  credit_card  last_activity    est_salary   churn  \\\n",
       "count  8107.000000  8107.000000    8107.000000  8.107000e+03  8107.0   \n",
       "mean      1.758357     0.708770       0.483409  1.478125e+05     0.0   \n",
       "std       0.713241     0.454357       0.499755  1.428057e+05     0.0   \n",
       "min       1.000000     0.000000       0.000000  2.546300e+03     0.0   \n",
       "25%       1.000000     0.000000       0.000000  7.350065e+04     0.0   \n",
       "50%       2.000000     1.000000       0.000000  1.182472e+05     0.0   \n",
       "75%       2.000000     1.000000       1.000000  1.741243e+05     0.0   \n",
       "max       5.000000     1.000000       1.000000  1.395064e+06     0.0   \n",
       "\n",
       "            rostov      rybinsk    yaroslavl      cod_gen  \n",
       "count  8107.000000  8107.000000  8107.000000  8107.000000  \n",
       "mean      0.141976     0.273467     0.584557     0.467374  \n",
       "std       0.349047     0.445766     0.492829     0.498965  \n",
       "min       0.000000     0.000000     0.000000     0.000000  \n",
       "25%       0.000000     0.000000     0.000000     0.000000  \n",
       "50%       0.000000     0.000000     1.000000     0.000000  \n",
       "75%       0.000000     1.000000     1.000000     1.000000  \n",
       "max       1.000000     1.000000     1.000000     1.000000  "
      ]
     },
     "execution_count": 28,
     "metadata": {},
     "output_type": "execute_result"
    }
   ],
   "source": [
    "bs.query('churn == 0').describe()"
   ]
  },
  {
   "cell_type": "code",
   "execution_count": 29,
   "metadata": {},
   "outputs": [
    {
     "data": {
      "text/html": [
       "<div>\n",
       "<style scoped>\n",
       "    .dataframe tbody tr th:only-of-type {\n",
       "        vertical-align: middle;\n",
       "    }\n",
       "\n",
       "    .dataframe tbody tr th {\n",
       "        vertical-align: top;\n",
       "    }\n",
       "\n",
       "    .dataframe thead th {\n",
       "        text-align: right;\n",
       "    }\n",
       "</style>\n",
       "<table border=\"1\" class=\"dataframe\">\n",
       "  <thead>\n",
       "    <tr style=\"text-align: right;\">\n",
       "      <th></th>\n",
       "      <th>user_id</th>\n",
       "      <th>score</th>\n",
       "      <th>age</th>\n",
       "      <th>equity</th>\n",
       "      <th>balance</th>\n",
       "      <th>products</th>\n",
       "      <th>credit_card</th>\n",
       "      <th>last_activity</th>\n",
       "      <th>est_salary</th>\n",
       "      <th>churn</th>\n",
       "      <th>rostov</th>\n",
       "      <th>rybinsk</th>\n",
       "      <th>yaroslavl</th>\n",
       "      <th>cod_gen</th>\n",
       "    </tr>\n",
       "  </thead>\n",
       "  <tbody>\n",
       "    <tr>\n",
       "      <th>count</th>\n",
       "      <td>1819.000000</td>\n",
       "      <td>1819.000000</td>\n",
       "      <td>1818.000000</td>\n",
       "      <td>1819.000000</td>\n",
       "      <td>1.807000e+03</td>\n",
       "      <td>1819.000000</td>\n",
       "      <td>1819.000000</td>\n",
       "      <td>1819.000000</td>\n",
       "      <td>1.819000e+03</td>\n",
       "      <td>1819.0</td>\n",
       "      <td>1819.000000</td>\n",
       "      <td>1819.000000</td>\n",
       "      <td>1819.000000</td>\n",
       "      <td>1819.000000</td>\n",
       "    </tr>\n",
       "    <tr>\n",
       "      <th>mean</th>\n",
       "      <td>170975.058824</td>\n",
       "      <td>863.346894</td>\n",
       "      <td>41.429593</td>\n",
       "      <td>3.764156</td>\n",
       "      <td>1.133993e+06</td>\n",
       "      <td>2.377130</td>\n",
       "      <td>0.551402</td>\n",
       "      <td>0.702584</td>\n",
       "      <td>1.483107e+05</td>\n",
       "      <td>1.0</td>\n",
       "      <td>0.146234</td>\n",
       "      <td>0.239692</td>\n",
       "      <td>0.614074</td>\n",
       "      <td>0.650357</td>\n",
       "    </tr>\n",
       "    <tr>\n",
       "      <th>std</th>\n",
       "      <td>35295.148748</td>\n",
       "      <td>49.571209</td>\n",
       "      <td>11.144754</td>\n",
       "      <td>1.586144</td>\n",
       "      <td>2.033978e+06</td>\n",
       "      <td>0.921951</td>\n",
       "      <td>0.497488</td>\n",
       "      <td>0.457247</td>\n",
       "      <td>1.229143e+05</td>\n",
       "      <td>0.0</td>\n",
       "      <td>0.353438</td>\n",
       "      <td>0.427013</td>\n",
       "      <td>0.486947</td>\n",
       "      <td>0.476988</td>\n",
       "    </tr>\n",
       "    <tr>\n",
       "      <th>min</th>\n",
       "      <td>94561.000000</td>\n",
       "      <td>706.000000</td>\n",
       "      <td>18.000000</td>\n",
       "      <td>0.000000</td>\n",
       "      <td>6.000000e+00</td>\n",
       "      <td>1.000000</td>\n",
       "      <td>0.000000</td>\n",
       "      <td>0.000000</td>\n",
       "      <td>1.088027e+04</td>\n",
       "      <td>1.0</td>\n",
       "      <td>0.000000</td>\n",
       "      <td>0.000000</td>\n",
       "      <td>0.000000</td>\n",
       "      <td>0.000000</td>\n",
       "    </tr>\n",
       "    <tr>\n",
       "      <th>25%</th>\n",
       "      <td>141300.000000</td>\n",
       "      <td>828.000000</td>\n",
       "      <td>32.000000</td>\n",
       "      <td>3.000000</td>\n",
       "      <td>3.872183e+05</td>\n",
       "      <td>2.000000</td>\n",
       "      <td>0.000000</td>\n",
       "      <td>0.000000</td>\n",
       "      <td>8.319661e+04</td>\n",
       "      <td>1.0</td>\n",
       "      <td>0.000000</td>\n",
       "      <td>0.000000</td>\n",
       "      <td>0.000000</td>\n",
       "      <td>0.000000</td>\n",
       "    </tr>\n",
       "    <tr>\n",
       "      <th>50%</th>\n",
       "      <td>170532.000000</td>\n",
       "      <td>866.000000</td>\n",
       "      <td>39.000000</td>\n",
       "      <td>4.000000</td>\n",
       "      <td>7.824105e+05</td>\n",
       "      <td>2.000000</td>\n",
       "      <td>1.000000</td>\n",
       "      <td>1.000000</td>\n",
       "      <td>1.253952e+05</td>\n",
       "      <td>1.0</td>\n",
       "      <td>0.000000</td>\n",
       "      <td>0.000000</td>\n",
       "      <td>1.000000</td>\n",
       "      <td>1.000000</td>\n",
       "    </tr>\n",
       "    <tr>\n",
       "      <th>75%</th>\n",
       "      <td>201399.500000</td>\n",
       "      <td>898.000000</td>\n",
       "      <td>52.000000</td>\n",
       "      <td>5.000000</td>\n",
       "      <td>1.348101e+06</td>\n",
       "      <td>3.000000</td>\n",
       "      <td>1.000000</td>\n",
       "      <td>1.000000</td>\n",
       "      <td>1.759854e+05</td>\n",
       "      <td>1.0</td>\n",
       "      <td>0.000000</td>\n",
       "      <td>0.000000</td>\n",
       "      <td>1.000000</td>\n",
       "      <td>1.000000</td>\n",
       "    </tr>\n",
       "    <tr>\n",
       "      <th>max</th>\n",
       "      <td>229058.000000</td>\n",
       "      <td>1000.000000</td>\n",
       "      <td>75.000000</td>\n",
       "      <td>9.000000</td>\n",
       "      <td>6.486621e+07</td>\n",
       "      <td>5.000000</td>\n",
       "      <td>1.000000</td>\n",
       "      <td>1.000000</td>\n",
       "      <td>1.263028e+06</td>\n",
       "      <td>1.0</td>\n",
       "      <td>1.000000</td>\n",
       "      <td>1.000000</td>\n",
       "      <td>1.000000</td>\n",
       "      <td>1.000000</td>\n",
       "    </tr>\n",
       "  </tbody>\n",
       "</table>\n",
       "</div>"
      ],
      "text/plain": [
       "             user_id        score          age       equity       balance  \\\n",
       "count    1819.000000  1819.000000  1818.000000  1819.000000  1.807000e+03   \n",
       "mean   170975.058824   863.346894    41.429593     3.764156  1.133993e+06   \n",
       "std     35295.148748    49.571209    11.144754     1.586144  2.033978e+06   \n",
       "min     94561.000000   706.000000    18.000000     0.000000  6.000000e+00   \n",
       "25%    141300.000000   828.000000    32.000000     3.000000  3.872183e+05   \n",
       "50%    170532.000000   866.000000    39.000000     4.000000  7.824105e+05   \n",
       "75%    201399.500000   898.000000    52.000000     5.000000  1.348101e+06   \n",
       "max    229058.000000  1000.000000    75.000000     9.000000  6.486621e+07   \n",
       "\n",
       "          products  credit_card  last_activity    est_salary   churn  \\\n",
       "count  1819.000000  1819.000000    1819.000000  1.819000e+03  1819.0   \n",
       "mean      2.377130     0.551402       0.702584  1.483107e+05     1.0   \n",
       "std       0.921951     0.497488       0.457247  1.229143e+05     0.0   \n",
       "min       1.000000     0.000000       0.000000  1.088027e+04     1.0   \n",
       "25%       2.000000     0.000000       0.000000  8.319661e+04     1.0   \n",
       "50%       2.000000     1.000000       1.000000  1.253952e+05     1.0   \n",
       "75%       3.000000     1.000000       1.000000  1.759854e+05     1.0   \n",
       "max       5.000000     1.000000       1.000000  1.263028e+06     1.0   \n",
       "\n",
       "            rostov      rybinsk    yaroslavl      cod_gen  \n",
       "count  1819.000000  1819.000000  1819.000000  1819.000000  \n",
       "mean      0.146234     0.239692     0.614074     0.650357  \n",
       "std       0.353438     0.427013     0.486947     0.476988  \n",
       "min       0.000000     0.000000     0.000000     0.000000  \n",
       "25%       0.000000     0.000000     0.000000     0.000000  \n",
       "50%       0.000000     0.000000     1.000000     1.000000  \n",
       "75%       0.000000     0.000000     1.000000     1.000000  \n",
       "max       1.000000     1.000000     1.000000     1.000000  "
      ]
     },
     "execution_count": 29,
     "metadata": {},
     "output_type": "execute_result"
    }
   ],
   "source": [
    "bs.query('churn == 1').describe()"
   ]
  },
  {
   "cell_type": "code",
   "execution_count": 30,
   "metadata": {},
   "outputs": [
    {
     "data": {
      "text/html": [
       "<div>\n",
       "<style scoped>\n",
       "    .dataframe tbody tr th:only-of-type {\n",
       "        vertical-align: middle;\n",
       "    }\n",
       "\n",
       "    .dataframe tbody tr th {\n",
       "        vertical-align: top;\n",
       "    }\n",
       "\n",
       "    .dataframe thead th {\n",
       "        text-align: right;\n",
       "    }\n",
       "</style>\n",
       "<table border=\"1\" class=\"dataframe\">\n",
       "  <thead>\n",
       "    <tr style=\"text-align: right;\">\n",
       "      <th></th>\n",
       "      <th>user_id</th>\n",
       "      <th>score</th>\n",
       "      <th>age</th>\n",
       "      <th>equity</th>\n",
       "      <th>balance</th>\n",
       "      <th>products</th>\n",
       "      <th>credit_card</th>\n",
       "      <th>last_activity</th>\n",
       "      <th>est_salary</th>\n",
       "      <th>rostov</th>\n",
       "      <th>rybinsk</th>\n",
       "      <th>yaroslavl</th>\n",
       "      <th>cod_gen</th>\n",
       "    </tr>\n",
       "    <tr>\n",
       "      <th>churn</th>\n",
       "      <th></th>\n",
       "      <th></th>\n",
       "      <th></th>\n",
       "      <th></th>\n",
       "      <th></th>\n",
       "      <th></th>\n",
       "      <th></th>\n",
       "      <th></th>\n",
       "      <th></th>\n",
       "      <th></th>\n",
       "      <th></th>\n",
       "      <th></th>\n",
       "      <th></th>\n",
       "    </tr>\n",
       "  </thead>\n",
       "  <tbody>\n",
       "    <tr>\n",
       "      <th>0</th>\n",
       "      <td>171913.450228</td>\n",
       "      <td>845.443691</td>\n",
       "      <td>43.016288</td>\n",
       "      <td>2.381152</td>\n",
       "      <td>7.348230e+05</td>\n",
       "      <td>1.758357</td>\n",
       "      <td>0.708770</td>\n",
       "      <td>0.483409</td>\n",
       "      <td>147812.485793</td>\n",
       "      <td>0.141976</td>\n",
       "      <td>0.273467</td>\n",
       "      <td>0.584557</td>\n",
       "      <td>0.467374</td>\n",
       "    </tr>\n",
       "    <tr>\n",
       "      <th>1</th>\n",
       "      <td>170975.058824</td>\n",
       "      <td>863.346894</td>\n",
       "      <td>41.429593</td>\n",
       "      <td>3.764156</td>\n",
       "      <td>1.133993e+06</td>\n",
       "      <td>2.377130</td>\n",
       "      <td>0.551402</td>\n",
       "      <td>0.702584</td>\n",
       "      <td>148310.728202</td>\n",
       "      <td>0.146234</td>\n",
       "      <td>0.239692</td>\n",
       "      <td>0.614074</td>\n",
       "      <td>0.650357</td>\n",
       "    </tr>\n",
       "  </tbody>\n",
       "</table>\n",
       "</div>"
      ],
      "text/plain": [
       "             user_id       score        age    equity       balance  products  \\\n",
       "churn                                                                           \n",
       "0      171913.450228  845.443691  43.016288  2.381152  7.348230e+05  1.758357   \n",
       "1      170975.058824  863.346894  41.429593  3.764156  1.133993e+06  2.377130   \n",
       "\n",
       "       credit_card  last_activity     est_salary    rostov   rybinsk  \\\n",
       "churn                                                                  \n",
       "0         0.708770       0.483409  147812.485793  0.141976  0.273467   \n",
       "1         0.551402       0.702584  148310.728202  0.146234  0.239692   \n",
       "\n",
       "       yaroslavl   cod_gen  \n",
       "churn                       \n",
       "0       0.584557  0.467374  \n",
       "1       0.614074  0.650357  "
      ]
     },
     "execution_count": 30,
     "metadata": {},
     "output_type": "execute_result"
    }
   ],
   "source": [
    "g_bs = bs.groupby(['churn']).mean()\n",
    "g_bs"
   ]
  },
  {
   "cell_type": "code",
   "execution_count": 31,
   "metadata": {},
   "outputs": [
    {
     "name": "stdout",
     "output_type": "stream",
     "text": [
      "1819\n",
      "18.32560951037679\n"
     ]
    }
   ],
   "source": [
    "print(bs[bs['churn']==1]['churn'].count())\n",
    "print((bs[bs['churn']==1]['churn'].count() / bs['churn'].count())*100)"
   ]
  },
  {
   "cell_type": "markdown",
   "metadata": {},
   "source": [
    "Процент оттока составляет 18.33%, т.е. 1819 клиентов\n",
    "Исходя из таблиц видим небольшие различия между отточными и неотточными клиентами, кратко выделим особо выделяющиеся:\n",
    "1. средняя оценка собственности отточных клиентов сильно выше, чем у неотточных\n",
    "2. огромная разница по среднему балансу на счете, у отточных клиентов среднее значение много выше\n",
    "3. у отточных клиентов в среднем больше продуктов\n",
    "4. отточные клиенты были более активными, но при этом  реже имели кредитные карты\n",
    "5. отточные клиенты чаще всего мужчины"
   ]
  },
  {
   "cell_type": "code",
   "execution_count": 32,
   "metadata": {},
   "outputs": [],
   "source": [
    "sns.set_context('notebook') \n",
    "sns.set_style('ticks') \n",
    "sns.set_style('whitegrid')"
   ]
  },
  {
   "cell_type": "code",
   "execution_count": 33,
   "metadata": {},
   "outputs": [
    {
     "data": {
      "image/png": "[encoded data removed]",
      "text/plain": [
       "<Figure size 720x288 with 1 Axes>"
      ]
     },
     "metadata": {},
     "output_type": "display_data"
    }
   ],
   "source": [
    "plt.subplots(figsize = (10, 4))\n",
    "sns.histplot(bs, x=bs[\"score\"], binwidth=2, kde=True,\n",
    "            hue=\"churn\", stat=\"density\", common_norm=False, alpha=0.33)\n",
    "plt.xlabel('Баллы кредитного скоринга')\n",
    "plt.ylabel('Плотность')\n",
    "plt.title('Столбец \"score\"')\n",
    "plt.show()"
   ]
  },
  {
   "cell_type": "markdown",
   "metadata": {},
   "source": [
    "Неотточный клиент: Баллы кредитного скоринга 780 - 835 или 870 - 910, заметный спад в районе 835-870\n",
    "<br>Отточный клиент: Баллы кредитного скоринга 820-920\n",
    "\n",
    "Доля оттока выше в промежутке 820-935"
   ]
  },
  {
   "cell_type": "code",
   "execution_count": 34,
   "metadata": {},
   "outputs": [
    {
     "data": {
      "image/png": "[encoded data removed]",
      "text/plain": [
       "<Figure size 720x288 with 1 Axes>"
      ]
     },
     "metadata": {},
     "output_type": "display_data"
    }
   ],
   "source": [
    "plt.subplots(figsize = (10, 4))\n",
    "sns.histplot(data=bs, x=bs[\"age\"], binwidth=1, kde=True,\n",
    "            hue=\"churn\", stat=\"density\", common_norm=False, alpha=0.33)\n",
    "plt.xlabel('Возраст(лет)')\n",
    "plt.ylabel('Плотность')\n",
    "plt.title('Столбец \"age\"')\n",
    "plt.show()"
   ]
  },
  {
   "cell_type": "markdown",
   "metadata": {},
   "source": [
    "Неотточный клиент: В основном их возраст составляет 31-42 года\n",
    "<br>Отточный клиент: возраст в районе 29-38 лет\n",
    "\n",
    "По графику заметно, что доля оттока выше в отрезках 23-35 и 50-60 лет"
   ]
  },
  {
   "cell_type": "code",
   "execution_count": 35,
   "metadata": {},
   "outputs": [
    {
     "data": {
      "image/png": "[encoded data removed]",
      "text/plain": [
       "<Figure size 720x288 with 1 Axes>"
      ]
     },
     "metadata": {},
     "output_type": "display_data"
    }
   ],
   "source": [
    "plt.subplots(figsize = (10, 4))\n",
    "sns.histplot(data=bs, x=\"balance\", kde=True,\n",
    "             hue=\"churn\", stat=\"density\",\n",
    "             common_norm=False, alpha=0.33)\n",
    "plt.xlim(0, 5000000)\n",
    "plt.xlabel('Баланс на счете')\n",
    "plt.ylabel('Плотность')\n",
    "plt.title('Столбец \"balance\"')\n",
    "plt.show()"
   ]
  },
  {
   "cell_type": "code",
   "execution_count": 36,
   "metadata": {},
   "outputs": [
    {
     "data": {
      "image/png": "[encoded data removed]",
      "text/plain": [
       "<Figure size 720x288 with 1 Axes>"
      ]
     },
     "metadata": {},
     "output_type": "display_data"
    }
   ],
   "source": [
    "plt.subplots(figsize = (10, 4))\n",
    "sns.histplot(data=bs, x=\"balance\", kde=True,\n",
    "             hue=\"churn\", stat=\"density\",\n",
    "             common_norm=False, alpha=0.33)\n",
    "plt.xlim(0, 1500000)\n",
    "plt.xlabel('Баланс на счете')\n",
    "plt.ylabel('Плотность')\n",
    "plt.title('Столбец \"balance\" приближенный ')\n",
    "plt.show()"
   ]
  },
  {
   "cell_type": "markdown",
   "metadata": {},
   "source": [
    "Неотточный клиент: Баланс на счете 150 000 - 480 000, есть заметный пик в районе 300 000 - 410 000\n",
    "<br>Отточный клиент: Баланс на счете 200 000-550 000\n",
    "\n",
    "Доля оттока выше начиная с 1 000 000"
   ]
  },
  {
   "cell_type": "code",
   "execution_count": 37,
   "metadata": {},
   "outputs": [
    {
     "data": {
      "image/png": "[encoded data removed]",
      "text/plain": [
       "<Figure size 720x288 with 1 Axes>"
      ]
     },
     "metadata": {},
     "output_type": "display_data"
    }
   ],
   "source": [
    "plt.subplots(figsize = (10, 4))\n",
    "sns.histplot(data=bs, x=\"est_salary\", kde=True, \n",
    "             hue=\"churn\", stat=\"density\", \n",
    "             common_norm=False, alpha=0.33)\n",
    "plt.xlim(0, 400000)\n",
    "plt.xlabel('Оценочная заработная плата клиента')\n",
    "plt.ylabel('Плотность')\n",
    "plt.title('Столбец \"est_salary\"')\n",
    "plt.show()"
   ]
  },
  {
   "cell_type": "markdown",
   "metadata": {},
   "source": [
    "Неотточный клиент: Оценочная заработная плата в районе 70 000-140 000\n",
    "<br>Отточный клиент: Оценочная заработная плата составляет 60 000-180 000\n",
    "\n",
    "Доля оттока выше начиная со 100 000"
   ]
  },
  {
   "cell_type": "code",
   "execution_count": 38,
   "metadata": {},
   "outputs": [
    {
     "data": {
      "image/png": "[encoded data removed]",
      "text/plain": [
       "<Figure size 720x288 with 1 Axes>"
      ]
     },
     "metadata": {},
     "output_type": "display_data"
    }
   ],
   "source": [
    "plt.subplots(figsize = (10, 4))\n",
    "sns.countplot(data=bs, x=\"products\", hue=\"churn\", alpha=0.5)\n",
    "plt.xlabel('Кол-во продуктов, которыми пользуется клиент')\n",
    "plt.ylabel('Число клиентов')\n",
    "plt.title('Столбец \"products\"')\n",
    "plt.show()"
   ]
  },
  {
   "cell_type": "code",
   "execution_count": 39,
   "metadata": {},
   "outputs": [
    {
     "data": {
      "text/html": [
       "<div>\n",
       "<style scoped>\n",
       "    .dataframe tbody tr th:only-of-type {\n",
       "        vertical-align: middle;\n",
       "    }\n",
       "\n",
       "    .dataframe tbody tr th {\n",
       "        vertical-align: top;\n",
       "    }\n",
       "\n",
       "    .dataframe thead th {\n",
       "        text-align: right;\n",
       "    }\n",
       "</style>\n",
       "<table border=\"1\" class=\"dataframe\">\n",
       "  <thead>\n",
       "    <tr style=\"text-align: right;\">\n",
       "      <th></th>\n",
       "      <th>0</th>\n",
       "      <th>1</th>\n",
       "      <th>churn%</th>\n",
       "    </tr>\n",
       "    <tr>\n",
       "      <th>products</th>\n",
       "      <th></th>\n",
       "      <th></th>\n",
       "      <th></th>\n",
       "    </tr>\n",
       "  </thead>\n",
       "  <tbody>\n",
       "    <tr>\n",
       "      <th>1</th>\n",
       "      <td>3306</td>\n",
       "      <td>235</td>\n",
       "      <td>7.108288</td>\n",
       "    </tr>\n",
       "    <tr>\n",
       "      <th>2</th>\n",
       "      <td>5099</td>\n",
       "      <td>979</td>\n",
       "      <td>19.199843</td>\n",
       "    </tr>\n",
       "    <tr>\n",
       "      <th>3</th>\n",
       "      <td>1028</td>\n",
       "      <td>297</td>\n",
       "      <td>28.891051</td>\n",
       "    </tr>\n",
       "    <tr>\n",
       "      <th>4</th>\n",
       "      <td>474</td>\n",
       "      <td>300</td>\n",
       "      <td>63.291139</td>\n",
       "    </tr>\n",
       "    <tr>\n",
       "      <th>5</th>\n",
       "      <td>19</td>\n",
       "      <td>8</td>\n",
       "      <td>42.105263</td>\n",
       "    </tr>\n",
       "  </tbody>\n",
       "</table>\n",
       "</div>"
      ],
      "text/plain": [
       "             0    1     churn%\n",
       "products                      \n",
       "1         3306  235   7.108288\n",
       "2         5099  979  19.199843\n",
       "3         1028  297  28.891051\n",
       "4          474  300  63.291139\n",
       "5           19    8  42.105263"
      ]
     },
     "execution_count": 39,
     "metadata": {},
     "output_type": "execute_result"
    }
   ],
   "source": [
    "products = bs.pivot_table(index = 'products', values = 'churn', aggfunc = ['count', 'sum'])\n",
    "products.columns = ['0', '1']\n",
    "products['churn%'] = products['1']/products['0']*100\n",
    "products"
   ]
  },
  {
   "cell_type": "markdown",
   "metadata": {},
   "source": [
    "Обе группы в основном пользуются 2-мя продуктами, но у неотточных так же большое кол-во тех, кто используют только 1\n",
    "<br>По проценту оттока отчетливо видно, что чем больше продуктов клиент использует - тем сильнее вероятность оттока"
   ]
  },
  {
   "cell_type": "code",
   "execution_count": 40,
   "metadata": {},
   "outputs": [
    {
     "data": {
      "image/png": "[encoded data removed]",
      "text/plain": [
       "<Figure size 720x288 with 1 Axes>"
      ]
     },
     "metadata": {},
     "output_type": "display_data"
    }
   ],
   "source": [
    "plt.subplots(figsize = (10, 4))\n",
    "sns.countplot(data=bs, x=\"equity\", hue=\"churn\", alpha=0.5)\n",
    "plt.xlabel('Приблизительная оценка собственности клиента')\n",
    "plt.ylabel('Число клиентов')\n",
    "plt.title('Столбец \"equity\"')\n",
    "plt.show()"
   ]
  },
  {
   "cell_type": "code",
   "execution_count": 41,
   "metadata": {},
   "outputs": [
    {
     "data": {
      "text/html": [
       "<div>\n",
       "<style scoped>\n",
       "    .dataframe tbody tr th:only-of-type {\n",
       "        vertical-align: middle;\n",
       "    }\n",
       "\n",
       "    .dataframe tbody tr th {\n",
       "        vertical-align: top;\n",
       "    }\n",
       "\n",
       "    .dataframe thead th {\n",
       "        text-align: right;\n",
       "    }\n",
       "</style>\n",
       "<table border=\"1\" class=\"dataframe\">\n",
       "  <thead>\n",
       "    <tr style=\"text-align: right;\">\n",
       "      <th></th>\n",
       "      <th>0</th>\n",
       "      <th>1</th>\n",
       "      <th>churn%</th>\n",
       "    </tr>\n",
       "    <tr>\n",
       "      <th>equity</th>\n",
       "      <th></th>\n",
       "      <th></th>\n",
       "      <th></th>\n",
       "    </tr>\n",
       "  </thead>\n",
       "  <tbody>\n",
       "    <tr>\n",
       "      <th>0</th>\n",
       "      <td>2554</td>\n",
       "      <td>90</td>\n",
       "      <td>3.523884</td>\n",
       "    </tr>\n",
       "    <tr>\n",
       "      <th>1</th>\n",
       "      <td>772</td>\n",
       "      <td>93</td>\n",
       "      <td>12.046632</td>\n",
       "    </tr>\n",
       "    <tr>\n",
       "      <th>2</th>\n",
       "      <td>1046</td>\n",
       "      <td>166</td>\n",
       "      <td>15.869981</td>\n",
       "    </tr>\n",
       "    <tr>\n",
       "      <th>3</th>\n",
       "      <td>1532</td>\n",
       "      <td>321</td>\n",
       "      <td>20.953003</td>\n",
       "    </tr>\n",
       "    <tr>\n",
       "      <th>4</th>\n",
       "      <td>1841</td>\n",
       "      <td>464</td>\n",
       "      <td>25.203694</td>\n",
       "    </tr>\n",
       "    <tr>\n",
       "      <th>5</th>\n",
       "      <td>1911</td>\n",
       "      <td>577</td>\n",
       "      <td>30.193616</td>\n",
       "    </tr>\n",
       "    <tr>\n",
       "      <th>6</th>\n",
       "      <td>161</td>\n",
       "      <td>58</td>\n",
       "      <td>36.024845</td>\n",
       "    </tr>\n",
       "    <tr>\n",
       "      <th>7</th>\n",
       "      <td>79</td>\n",
       "      <td>37</td>\n",
       "      <td>46.835443</td>\n",
       "    </tr>\n",
       "    <tr>\n",
       "      <th>8</th>\n",
       "      <td>17</td>\n",
       "      <td>6</td>\n",
       "      <td>35.294118</td>\n",
       "    </tr>\n",
       "    <tr>\n",
       "      <th>9</th>\n",
       "      <td>13</td>\n",
       "      <td>7</td>\n",
       "      <td>53.846154</td>\n",
       "    </tr>\n",
       "  </tbody>\n",
       "</table>\n",
       "</div>"
      ],
      "text/plain": [
       "           0    1     churn%\n",
       "equity                      \n",
       "0       2554   90   3.523884\n",
       "1        772   93  12.046632\n",
       "2       1046  166  15.869981\n",
       "3       1532  321  20.953003\n",
       "4       1841  464  25.203694\n",
       "5       1911  577  30.193616\n",
       "6        161   58  36.024845\n",
       "7         79   37  46.835443\n",
       "8         17    6  35.294118\n",
       "9         13    7  53.846154"
      ]
     },
     "execution_count": 41,
     "metadata": {},
     "output_type": "execute_result"
    }
   ],
   "source": [
    "equity = bs.pivot_table(index = 'equity', values = 'churn', aggfunc = ['count', 'sum'])\n",
    "equity.columns = ['0', '1']\n",
    "equity['churn%'] = equity['1']/equity['0']*100\n",
    "equity"
   ]
  },
  {
   "cell_type": "markdown",
   "metadata": {},
   "source": [
    "Неотточный клиент: в основном приблизительная оценка собственности клиента 0, но так же достаточно много клиентов с оценкой 3,4 и 5\n",
    "<br>Отточный клиент: Приблизительная оценка собственности отточных клиентов в основном 4 и 5\n",
    "<br>Самый большой % оттока у клиентов, имеющих 9 и 7 баллов. \n",
    "<br>Клиенты имеющие 4,5,6 и 8 баллов - так же имеют немалую вероятность уйти из банка\n",
    "<br>Резюмируя - на лицо прямая зависимость оттока от приблизительной оценки собственности клиента"
   ]
  },
  {
   "cell_type": "code",
   "execution_count": 42,
   "metadata": {},
   "outputs": [
    {
     "data": {
      "image/png": "[encoded data removed]",
      "text/plain": [
       "<Figure size 720x288 with 1 Axes>"
      ]
     },
     "metadata": {},
     "output_type": "display_data"
    }
   ],
   "source": [
    "plt.subplots(figsize = (10, 4))\n",
    "sns.countplot(data=bs, x=\"city\", hue=\"churn\", alpha=0.5)\n",
    "plt.xlabel('Город')\n",
    "plt.ylabel('Число клиентов')\n",
    "plt.title('Столбец \"city\"')\n",
    "plt.show()"
   ]
  },
  {
   "cell_type": "code",
   "execution_count": 43,
   "metadata": {},
   "outputs": [
    {
     "data": {
      "text/html": [
       "<div>\n",
       "<style scoped>\n",
       "    .dataframe tbody tr th:only-of-type {\n",
       "        vertical-align: middle;\n",
       "    }\n",
       "\n",
       "    .dataframe tbody tr th {\n",
       "        vertical-align: top;\n",
       "    }\n",
       "\n",
       "    .dataframe thead th {\n",
       "        text-align: right;\n",
       "    }\n",
       "</style>\n",
       "<table border=\"1\" class=\"dataframe\">\n",
       "  <thead>\n",
       "    <tr style=\"text-align: right;\">\n",
       "      <th></th>\n",
       "      <th>0</th>\n",
       "      <th>1</th>\n",
       "      <th>churn%</th>\n",
       "    </tr>\n",
       "    <tr>\n",
       "      <th>city</th>\n",
       "      <th></th>\n",
       "      <th></th>\n",
       "      <th></th>\n",
       "    </tr>\n",
       "  </thead>\n",
       "  <tbody>\n",
       "    <tr>\n",
       "      <th>Ростов</th>\n",
       "      <td>1417</td>\n",
       "      <td>266</td>\n",
       "      <td>18.772054</td>\n",
       "    </tr>\n",
       "    <tr>\n",
       "      <th>Рыбинск</th>\n",
       "      <td>2653</td>\n",
       "      <td>436</td>\n",
       "      <td>16.434225</td>\n",
       "    </tr>\n",
       "    <tr>\n",
       "      <th>Ярославль</th>\n",
       "      <td>5856</td>\n",
       "      <td>1117</td>\n",
       "      <td>19.074454</td>\n",
       "    </tr>\n",
       "  </tbody>\n",
       "</table>\n",
       "</div>"
      ],
      "text/plain": [
       "              0     1     churn%\n",
       "city                            \n",
       "Ростов     1417   266  18.772054\n",
       "Рыбинск    2653   436  16.434225\n",
       "Ярославль  5856  1117  19.074454"
      ]
     },
     "execution_count": 43,
     "metadata": {},
     "output_type": "execute_result"
    }
   ],
   "source": [
    "city = bs.pivot_table(index = 'city', values = 'churn', aggfunc = ['count', 'sum'])\n",
    "city.columns = ['0', '1']\n",
    "city['churn%'] = city['1']/city['0']*100\n",
    "city"
   ]
  },
  {
   "cell_type": "markdown",
   "metadata": {},
   "source": [
    "У обоих групп большинство пользователей из Ярославля\n",
    "<br>Уровень оттока у городов мало различается друг от друга"
   ]
  },
  {
   "cell_type": "code",
   "execution_count": 44,
   "metadata": {},
   "outputs": [
    {
     "data": {
      "image/png": "[encoded data removed]",
      "text/plain": [
       "<Figure size 720x288 with 1 Axes>"
      ]
     },
     "metadata": {},
     "output_type": "display_data"
    }
   ],
   "source": [
    "plt.subplots(figsize = (10, 4))\n",
    "sns.countplot(data=bs, x=\"gender\", hue=\"churn\", alpha=0.5)\n",
    "plt.xlabel('Пол')\n",
    "plt.ylabel('Число клиентов')\n",
    "plt.title('Столбец \"gender\"')\n",
    "plt.show()"
   ]
  },
  {
   "cell_type": "code",
   "execution_count": 45,
   "metadata": {},
   "outputs": [
    {
     "data": {
      "text/html": [
       "<div>\n",
       "<style scoped>\n",
       "    .dataframe tbody tr th:only-of-type {\n",
       "        vertical-align: middle;\n",
       "    }\n",
       "\n",
       "    .dataframe tbody tr th {\n",
       "        vertical-align: top;\n",
       "    }\n",
       "\n",
       "    .dataframe thead th {\n",
       "        text-align: right;\n",
       "    }\n",
       "</style>\n",
       "<table border=\"1\" class=\"dataframe\">\n",
       "  <thead>\n",
       "    <tr style=\"text-align: right;\">\n",
       "      <th></th>\n",
       "      <th>0</th>\n",
       "      <th>1</th>\n",
       "      <th>churn%</th>\n",
       "    </tr>\n",
       "    <tr>\n",
       "      <th>gender</th>\n",
       "      <th></th>\n",
       "      <th></th>\n",
       "      <th></th>\n",
       "    </tr>\n",
       "  </thead>\n",
       "  <tbody>\n",
       "    <tr>\n",
       "      <th>Ж</th>\n",
       "      <td>4954</td>\n",
       "      <td>636</td>\n",
       "      <td>12.838111</td>\n",
       "    </tr>\n",
       "    <tr>\n",
       "      <th>М</th>\n",
       "      <td>4972</td>\n",
       "      <td>1183</td>\n",
       "      <td>23.793242</td>\n",
       "    </tr>\n",
       "  </tbody>\n",
       "</table>\n",
       "</div>"
      ],
      "text/plain": [
       "           0     1     churn%\n",
       "gender                       \n",
       "Ж       4954   636  12.838111\n",
       "М       4972  1183  23.793242"
      ]
     },
     "execution_count": 45,
     "metadata": {},
     "output_type": "execute_result"
    }
   ],
   "source": [
    "gender = bs.pivot_table(index = 'gender', values = 'churn', aggfunc = ['count', 'sum'])\n",
    "gender.columns = ['0', '1']\n",
    "gender['churn%'] = gender['1']/gender['0']*100\n",
    "gender"
   ]
  },
  {
   "cell_type": "markdown",
   "metadata": {},
   "source": [
    "Неотточный клиент: Женщины уходят реже, чем мужчины\n",
    "<br>Клиенты мужского пола имеют достаточно немалый уровень оттока, грубо говоря 1 из 4-х мужчин уже покинул банк"
   ]
  },
  {
   "cell_type": "code",
   "execution_count": 46,
   "metadata": {},
   "outputs": [
    {
     "data": {
      "image/png": "[encoded data removed]",
      "text/plain": [
       "<Figure size 720x288 with 1 Axes>"
      ]
     },
     "metadata": {},
     "output_type": "display_data"
    }
   ],
   "source": [
    "plt.subplots(figsize = (10, 4))\n",
    "sns.countplot(data=bs, x=\"credit_card\", hue=\"churn\", alpha=0.5)\n",
    "plt.xlabel('Наличие кредитной карты')\n",
    "plt.ylabel('Число клиентов')\n",
    "plt.title('Столбец \"credit_card\"')\n",
    "plt.show()"
   ]
  },
  {
   "cell_type": "code",
   "execution_count": 47,
   "metadata": {},
   "outputs": [
    {
     "data": {
      "text/html": [
       "<div>\n",
       "<style scoped>\n",
       "    .dataframe tbody tr th:only-of-type {\n",
       "        vertical-align: middle;\n",
       "    }\n",
       "\n",
       "    .dataframe tbody tr th {\n",
       "        vertical-align: top;\n",
       "    }\n",
       "\n",
       "    .dataframe thead th {\n",
       "        text-align: right;\n",
       "    }\n",
       "</style>\n",
       "<table border=\"1\" class=\"dataframe\">\n",
       "  <thead>\n",
       "    <tr style=\"text-align: right;\">\n",
       "      <th></th>\n",
       "      <th>0</th>\n",
       "      <th>1</th>\n",
       "      <th>churn%</th>\n",
       "    </tr>\n",
       "    <tr>\n",
       "      <th>credit_card</th>\n",
       "      <th></th>\n",
       "      <th></th>\n",
       "      <th></th>\n",
       "    </tr>\n",
       "  </thead>\n",
       "  <tbody>\n",
       "    <tr>\n",
       "      <th>0</th>\n",
       "      <td>3177</td>\n",
       "      <td>816</td>\n",
       "      <td>25.684608</td>\n",
       "    </tr>\n",
       "    <tr>\n",
       "      <th>1</th>\n",
       "      <td>6749</td>\n",
       "      <td>1003</td>\n",
       "      <td>14.861461</td>\n",
       "    </tr>\n",
       "  </tbody>\n",
       "</table>\n",
       "</div>"
      ],
      "text/plain": [
       "                0     1     churn%\n",
       "credit_card                       \n",
       "0            3177   816  25.684608\n",
       "1            6749  1003  14.861461"
      ]
     },
     "execution_count": 47,
     "metadata": {},
     "output_type": "execute_result"
    }
   ],
   "source": [
    "credit_card = bs.pivot_table(index = 'credit_card', values = 'churn', aggfunc = ['count', 'sum'])\n",
    "credit_card.columns = ['0', '1']\n",
    "credit_card['churn%'] = credit_card['1']/credit_card['0']*100\n",
    "credit_card"
   ]
  },
  {
   "cell_type": "markdown",
   "metadata": {},
   "source": [
    "Неотточный клиент: Чаще имеет 1 кредитную карту\n",
    "<br>Отточный клиент: Нет ощутимой разницы по наличию/отсутствию кредитных карт\n",
    "<br>Заметно, что клиенты, не имеющие кредитных карт подвержены оттоку (25.7%)"
   ]
  },
  {
   "cell_type": "code",
   "execution_count": 48,
   "metadata": {},
   "outputs": [
    {
     "data": {
      "image/png": "[encoded data removed]",
      "text/plain": [
       "<Figure size 720x288 with 1 Axes>"
      ]
     },
     "metadata": {},
     "output_type": "display_data"
    }
   ],
   "source": [
    "plt.subplots(figsize = (10, 4))\n",
    "sns.countplot(data=bs, x=\"last_activity\", hue=\"churn\", alpha=0.5)\n",
    "plt.xlabel('Активность клиента')\n",
    "plt.ylabel('Число клиентов')\n",
    "plt.title('Столбец \"last_activity\"')\n",
    "plt.show()"
   ]
  },
  {
   "cell_type": "code",
   "execution_count": 49,
   "metadata": {},
   "outputs": [
    {
     "data": {
      "text/html": [
       "<div>\n",
       "<style scoped>\n",
       "    .dataframe tbody tr th:only-of-type {\n",
       "        vertical-align: middle;\n",
       "    }\n",
       "\n",
       "    .dataframe tbody tr th {\n",
       "        vertical-align: top;\n",
       "    }\n",
       "\n",
       "    .dataframe thead th {\n",
       "        text-align: right;\n",
       "    }\n",
       "</style>\n",
       "<table border=\"1\" class=\"dataframe\">\n",
       "  <thead>\n",
       "    <tr style=\"text-align: right;\">\n",
       "      <th></th>\n",
       "      <th>0</th>\n",
       "      <th>1</th>\n",
       "      <th>churn%</th>\n",
       "    </tr>\n",
       "    <tr>\n",
       "      <th>last_activity</th>\n",
       "      <th></th>\n",
       "      <th></th>\n",
       "      <th></th>\n",
       "    </tr>\n",
       "  </thead>\n",
       "  <tbody>\n",
       "    <tr>\n",
       "      <th>0</th>\n",
       "      <td>4729</td>\n",
       "      <td>541</td>\n",
       "      <td>11.440051</td>\n",
       "    </tr>\n",
       "    <tr>\n",
       "      <th>1</th>\n",
       "      <td>5197</td>\n",
       "      <td>1278</td>\n",
       "      <td>24.591110</td>\n",
       "    </tr>\n",
       "  </tbody>\n",
       "</table>\n",
       "</div>"
      ],
      "text/plain": [
       "                  0     1     churn%\n",
       "last_activity                       \n",
       "0              4729   541  11.440051\n",
       "1              5197  1278  24.591110"
      ]
     },
     "execution_count": 49,
     "metadata": {},
     "output_type": "execute_result"
    }
   ],
   "source": [
    "last_activity = bs.pivot_table(index = 'last_activity', values = 'churn', aggfunc = ['count', 'sum'])\n",
    "last_activity.columns = ['0', '1']\n",
    "last_activity['churn%'] = last_activity['1']/last_activity['0']*100\n",
    "last_activity"
   ]
  },
  {
   "cell_type": "markdown",
   "metadata": {},
   "source": [
    "Неотточный клиент: нет существенной разницы в активности\n",
    "<br>Отточный клиент: как правило это активные клиенты (почти 25% оттока)"
   ]
  },
  {
   "cell_type": "markdown",
   "metadata": {},
   "source": [
    "Исходя из графиков, видим:\n",
    "\n",
    "Неотточный клиент:\n",
    "- Баллы кредитного скоринга 780 - 835 или 870 - 910\n",
    "- Возраст 31-42 года\n",
    "- Баланс на счете 150 000 - 480 000, есть заметный пик в районе 300 000 - 410 000\n",
    "- Оценочная заработная плата 70 000-140 000\n",
    "- Пользуется 2 продуктами\n",
    "- Приблизительная оценка собственности клиента 0\n",
    "- Город Ярославль\n",
    "- Скорее всего Женщина\n",
    "- Имеет 1 кредитную картау\n",
    "- Нет особой разницы в активности\n",
    "\n",
    "Отточный клиент:\n",
    "- Баллы кредитного скоринга 820-920\n",
    "- Возраст 29-38 лет\n",
    "- Баланс на счете 200 000-550 000\n",
    "- Оценочная заработная плата 60 000-180 000\n",
    "- Пользуется 2 продуктами\n",
    "- Приблизительная оценка собственности клиента 4 или 5\n",
    "- Город Ярославль\n",
    "- Пол Мужской\n",
    "- Нет разницы по наличию/отсутствию кредитных карт\n",
    "- Это активный клиенты\n",
    "\n",
    "Видим, что отточные клиенты чаще мужчины, они немного моложе, чем клиенты неотточные, которые чаще всего являются женщинами; имеют выше заработную плату и более высокий баланс на счете, как и выоскую оценку собственности, в то время как у неотточных чаще всего оценка нулевая. Иными словами отточные пользователи более активные клиенты в сравнении с неотточными, что может свидетельствовать о том, что их либо не устраивают условия банка, либо они быстро находят конкурентов с более выгодным предложением."
   ]
  },
  {
   "cell_type": "markdown",
   "metadata": {},
   "source": [
    "Матрица корреляций"
   ]
  },
  {
   "cell_type": "code",
   "execution_count": 50,
   "metadata": {},
   "outputs": [
    {
     "data": {
      "image/png": "[encoded data removed]",
      "text/plain": [
       "<Figure size 936x720 with 2 Axes>"
      ]
     },
     "metadata": {},
     "output_type": "display_data"
    }
   ],
   "source": [
    "plt.subplots(figsize=(13, 10))\n",
    "sns.heatmap(bs.corr(), annot=True, vmin=-1, vmax=1, center= 0, cmap='vlag', linewidths=.5, fmt='.1%', alpha=.9)\n",
    "plt.show()"
   ]
  },
  {
   "cell_type": "code",
   "execution_count": 51,
   "metadata": {},
   "outputs": [
    {
     "data": {
      "image/png": "[encoded data removed]",
      "text/plain": [
       "<Figure size 936x720 with 2 Axes>"
      ]
     },
     "metadata": {},
     "output_type": "display_data"
    }
   ],
   "source": [
    "bs_corr = bs.corr()\n",
    "plt.subplots(figsize=(13, 10))\n",
    "sns.heatmap(bs_corr.loc[: ,[\"churn\"]].drop(\"churn\").sort_values(\"churn\"),\n",
    "            annot=True, vmin=-1, vmax=1, center= 0, cmap='vlag',\n",
    "            linewidths=.5, fmt='.1%', alpha=.9)\n",
    "plt.show()"
   ]
  },
  {
   "cell_type": "markdown",
   "metadata": {},
   "source": [
    "Из матрицы видно, что наибольшая корреляция с показателем оттока клиентов у столбцов:\n",
    "- score: 10.6%\n",
    "- equity: 27.1%\n",
    "- products: 30.1%\n",
    "- credit_card: -13.1%\n",
    "- last_activity: 16.9%\n",
    "- cod_gen: 14.2% соответственно\n",
    "\n",
    "По шкале Чеддока видим, что корреляции данных характеристик с нашей целевой характеристикой слаба, за исключением столбца \"products\", корреляция с которым является умеренной.  Несмотря на то, что небыло высокой тесноты связи с целевой характеристикой, при анализе мы установили наглядно, что некоторые показатели напрямую влияют на отток(например equity)."
   ]
  },
  {
   "cell_type": "markdown",
   "metadata": {},
   "source": [
    "**Шаг 4.** Проверим статистические гипотезы"
   ]
  },
  {
   "cell_type": "code",
   "execution_count": 52,
   "metadata": {},
   "outputs": [
    {
     "data": {
      "text/html": [
       "<div>\n",
       "<style scoped>\n",
       "    .dataframe tbody tr th:only-of-type {\n",
       "        vertical-align: middle;\n",
       "    }\n",
       "\n",
       "    .dataframe tbody tr th {\n",
       "        vertical-align: top;\n",
       "    }\n",
       "\n",
       "    .dataframe thead th {\n",
       "        text-align: right;\n",
       "    }\n",
       "</style>\n",
       "<table border=\"1\" class=\"dataframe\">\n",
       "  <thead>\n",
       "    <tr style=\"text-align: right;\">\n",
       "      <th></th>\n",
       "      <th>user_id</th>\n",
       "      <th>score</th>\n",
       "      <th>age</th>\n",
       "      <th>equity</th>\n",
       "      <th>balance</th>\n",
       "      <th>products</th>\n",
       "      <th>credit_card</th>\n",
       "      <th>last_activity</th>\n",
       "      <th>est_salary</th>\n",
       "      <th>churn</th>\n",
       "      <th>rostov</th>\n",
       "      <th>rybinsk</th>\n",
       "      <th>yaroslavl</th>\n",
       "      <th>cod_gen</th>\n",
       "    </tr>\n",
       "  </thead>\n",
       "  <tbody>\n",
       "    <tr>\n",
       "      <th>count</th>\n",
       "      <td>9926.000000</td>\n",
       "      <td>9926.000000</td>\n",
       "      <td>9922.000000</td>\n",
       "      <td>9926.000000</td>\n",
       "      <td>7.667000e+03</td>\n",
       "      <td>9926.000000</td>\n",
       "      <td>9926.000000</td>\n",
       "      <td>9926.000000</td>\n",
       "      <td>9.926000e+03</td>\n",
       "      <td>9926.000000</td>\n",
       "      <td>9926.000000</td>\n",
       "      <td>9926.000000</td>\n",
       "      <td>9926.000000</td>\n",
       "      <td>9926.000000</td>\n",
       "    </tr>\n",
       "    <tr>\n",
       "      <th>mean</th>\n",
       "      <td>171741.484284</td>\n",
       "      <td>848.724562</td>\n",
       "      <td>42.725559</td>\n",
       "      <td>2.634596</td>\n",
       "      <td>8.289016e+05</td>\n",
       "      <td>1.871751</td>\n",
       "      <td>0.679931</td>\n",
       "      <td>0.523574</td>\n",
       "      <td>1.479038e+05</td>\n",
       "      <td>0.183256</td>\n",
       "      <td>0.142756</td>\n",
       "      <td>0.267278</td>\n",
       "      <td>0.589966</td>\n",
       "      <td>0.500907</td>\n",
       "    </tr>\n",
       "    <tr>\n",
       "      <th>std</th>\n",
       "      <td>33697.332289</td>\n",
       "      <td>65.386276</td>\n",
       "      <td>12.172175</td>\n",
       "      <td>1.979382</td>\n",
       "      <td>1.985272e+06</td>\n",
       "      <td>0.792772</td>\n",
       "      <td>0.466526</td>\n",
       "      <td>0.499469</td>\n",
       "      <td>1.393674e+05</td>\n",
       "      <td>0.386896</td>\n",
       "      <td>0.349842</td>\n",
       "      <td>0.442561</td>\n",
       "      <td>0.491864</td>\n",
       "      <td>0.500024</td>\n",
       "    </tr>\n",
       "    <tr>\n",
       "      <th>min</th>\n",
       "      <td>94561.000000</td>\n",
       "      <td>642.000000</td>\n",
       "      <td>18.000000</td>\n",
       "      <td>0.000000</td>\n",
       "      <td>0.000000e+00</td>\n",
       "      <td>1.000000</td>\n",
       "      <td>0.000000</td>\n",
       "      <td>0.000000</td>\n",
       "      <td>2.546300e+03</td>\n",
       "      <td>0.000000</td>\n",
       "      <td>0.000000</td>\n",
       "      <td>0.000000</td>\n",
       "      <td>0.000000</td>\n",
       "      <td>0.000000</td>\n",
       "    </tr>\n",
       "    <tr>\n",
       "      <th>25%</th>\n",
       "      <td>142715.000000</td>\n",
       "      <td>802.000000</td>\n",
       "      <td>33.000000</td>\n",
       "      <td>0.000000</td>\n",
       "      <td>2.952611e+05</td>\n",
       "      <td>1.000000</td>\n",
       "      <td>0.000000</td>\n",
       "      <td>0.000000</td>\n",
       "      <td>7.525207e+04</td>\n",
       "      <td>0.000000</td>\n",
       "      <td>0.000000</td>\n",
       "      <td>0.000000</td>\n",
       "      <td>0.000000</td>\n",
       "      <td>0.000000</td>\n",
       "    </tr>\n",
       "    <tr>\n",
       "      <th>50%</th>\n",
       "      <td>172654.000000</td>\n",
       "      <td>853.000000</td>\n",
       "      <td>40.000000</td>\n",
       "      <td>3.000000</td>\n",
       "      <td>5.248943e+05</td>\n",
       "      <td>2.000000</td>\n",
       "      <td>1.000000</td>\n",
       "      <td>1.000000</td>\n",
       "      <td>1.197154e+05</td>\n",
       "      <td>0.000000</td>\n",
       "      <td>0.000000</td>\n",
       "      <td>0.000000</td>\n",
       "      <td>1.000000</td>\n",
       "      <td>1.000000</td>\n",
       "    </tr>\n",
       "    <tr>\n",
       "      <th>75%</th>\n",
       "      <td>201161.750000</td>\n",
       "      <td>900.000000</td>\n",
       "      <td>51.000000</td>\n",
       "      <td>4.000000</td>\n",
       "      <td>9.808015e+05</td>\n",
       "      <td>2.000000</td>\n",
       "      <td>1.000000</td>\n",
       "      <td>1.000000</td>\n",
       "      <td>1.746796e+05</td>\n",
       "      <td>0.000000</td>\n",
       "      <td>0.000000</td>\n",
       "      <td>1.000000</td>\n",
       "      <td>1.000000</td>\n",
       "      <td>1.000000</td>\n",
       "    </tr>\n",
       "    <tr>\n",
       "      <th>max</th>\n",
       "      <td>229145.000000</td>\n",
       "      <td>1000.000000</td>\n",
       "      <td>86.000000</td>\n",
       "      <td>9.000000</td>\n",
       "      <td>1.191136e+08</td>\n",
       "      <td>5.000000</td>\n",
       "      <td>1.000000</td>\n",
       "      <td>1.000000</td>\n",
       "      <td>1.395064e+06</td>\n",
       "      <td>1.000000</td>\n",
       "      <td>1.000000</td>\n",
       "      <td>1.000000</td>\n",
       "      <td>1.000000</td>\n",
       "      <td>1.000000</td>\n",
       "    </tr>\n",
       "  </tbody>\n",
       "</table>\n",
       "</div>"
      ],
      "text/plain": [
       "             user_id        score          age       equity       balance  \\\n",
       "count    9926.000000  9926.000000  9922.000000  9926.000000  7.667000e+03   \n",
       "mean   171741.484284   848.724562    42.725559     2.634596  8.289016e+05   \n",
       "std     33697.332289    65.386276    12.172175     1.979382  1.985272e+06   \n",
       "min     94561.000000   642.000000    18.000000     0.000000  0.000000e+00   \n",
       "25%    142715.000000   802.000000    33.000000     0.000000  2.952611e+05   \n",
       "50%    172654.000000   853.000000    40.000000     3.000000  5.248943e+05   \n",
       "75%    201161.750000   900.000000    51.000000     4.000000  9.808015e+05   \n",
       "max    229145.000000  1000.000000    86.000000     9.000000  1.191136e+08   \n",
       "\n",
       "          products  credit_card  last_activity    est_salary        churn  \\\n",
       "count  9926.000000  9926.000000    9926.000000  9.926000e+03  9926.000000   \n",
       "mean      1.871751     0.679931       0.523574  1.479038e+05     0.183256   \n",
       "std       0.792772     0.466526       0.499469  1.393674e+05     0.386896   \n",
       "min       1.000000     0.000000       0.000000  2.546300e+03     0.000000   \n",
       "25%       1.000000     0.000000       0.000000  7.525207e+04     0.000000   \n",
       "50%       2.000000     1.000000       1.000000  1.197154e+05     0.000000   \n",
       "75%       2.000000     1.000000       1.000000  1.746796e+05     0.000000   \n",
       "max       5.000000     1.000000       1.000000  1.395064e+06     1.000000   \n",
       "\n",
       "            rostov      rybinsk    yaroslavl      cod_gen  \n",
       "count  9926.000000  9926.000000  9926.000000  9926.000000  \n",
       "mean      0.142756     0.267278     0.589966     0.500907  \n",
       "std       0.349842     0.442561     0.491864     0.500024  \n",
       "min       0.000000     0.000000     0.000000     0.000000  \n",
       "25%       0.000000     0.000000     0.000000     0.000000  \n",
       "50%       0.000000     0.000000     1.000000     1.000000  \n",
       "75%       0.000000     1.000000     1.000000     1.000000  \n",
       "max       1.000000     1.000000     1.000000     1.000000  "
      ]
     },
     "execution_count": 52,
     "metadata": {},
     "output_type": "execute_result"
    }
   ],
   "source": [
    "bs.describe()"
   ]
  },
  {
   "cell_type": "markdown",
   "metadata": {},
   "source": [
    "Считаю, что в большинстве столбцов данные распределены нормально: среднее и медиана имеют незначительные отличия, а стандартное отклонение небольшое."
   ]
  },
  {
   "cell_type": "code",
   "execution_count": 53,
   "metadata": {},
   "outputs": [
    {
     "name": "stderr",
     "output_type": "stream",
     "text": [
      "/opt/conda/lib/python3.9/site-packages/scipy/stats/_morestats.py:1800: UserWarning: p-value may not be accurate for N > 5000.\n",
      "  warnings.warn(\"p-value may not be accurate for N > 5000.\")\n"
     ]
    },
    {
     "data": {
      "text/plain": [
       "ShapiroResult(statistic=0.6194590330123901, pvalue=0.0)"
      ]
     },
     "execution_count": 53,
     "metadata": {},
     "output_type": "execute_result"
    }
   ],
   "source": [
    "st.shapiro(bs['est_salary'])"
   ]
  },
  {
   "cell_type": "markdown",
   "metadata": {},
   "source": [
    "Исходя из теста - данные в столбце 'est_salary' нормально не распределены, поэтому будем использовать так же и u-критерий Манна-Уитни"
   ]
  },
  {
   "cell_type": "markdown",
   "metadata": {},
   "source": [
    "1.Проверим гипотезу о различии дохода между теми клиентами, которые ушли и теми, которые остались"
   ]
  },
  {
   "cell_type": "markdown",
   "metadata": {},
   "source": [
    "- H0:Средний доход ушедших клиентов равен среднему доходу клиентов, которые остались\n",
    "- H1:Средний доход ушедших клиентов не равен среднему доходу клиентов, которые остались\n",
    "\n",
    "Значение alpha зададим равным 0.05. Равность дисперсий установим False\n",
    "<br>Используем st.ttest_ind, т.к. сравниваем средние двух генеральных совокупностей между собой\n"
   ]
  },
  {
   "cell_type": "code",
   "execution_count": 54,
   "metadata": {},
   "outputs": [
    {
     "name": "stdout",
     "output_type": "stream",
     "text": [
      "Значение p-value: 0.8796213894730411\n",
      "Не получилось отвергнуть нулевую гипотезу\n"
     ]
    }
   ],
   "source": [
    "alpha = 0.05\n",
    "results = st.ttest_ind(\n",
    "    bs[bs['churn']==0]['est_salary'],\n",
    "    bs[bs['churn']==1]['est_salary'], equal_var = False)\n",
    "\n",
    "print('Значение p-value:', results.pvalue)\n",
    "\n",
    "if (results.pvalue < alpha):\n",
    "    print ('Отвергаем нулевую гипотезу')\n",
    "else:\n",
    "    print ('Не получилось отвергнуть нулевую гипотезу')"
   ]
  },
  {
   "cell_type": "markdown",
   "metadata": {},
   "source": [
    "По t-критерию Стьюдента получили, что средний доход ушедших клиентов действительно равен среднему доходу клиентов, которые остались"
   ]
  },
  {
   "cell_type": "code",
   "execution_count": 55,
   "metadata": {},
   "outputs": [
    {
     "name": "stdout",
     "output_type": "stream",
     "text": [
      "Значение p-value: 0.00022703693954923942\n",
      "Отвергаем нулевую гипотезу\n"
     ]
    }
   ],
   "source": [
    "alpha = 0.05\n",
    "results = st.mannwhitneyu(\n",
    "    bs[bs['churn']==0]['est_salary'],\n",
    "    bs[bs['churn']==1]['est_salary'], alternative='two-sided')\n",
    "\n",
    "print('Значение p-value:', results.pvalue)\n",
    "\n",
    "if (results.pvalue < alpha):\n",
    "    print ('Отвергаем нулевую гипотезу')\n",
    "else:\n",
    "    print ('Не получилось отвергнуть нулевую гипотезу')"
   ]
  },
  {
   "cell_type": "markdown",
   "metadata": {},
   "source": [
    "По u-критерию Манна-Уитни получили обратное, что средний доход ушедших клиентов не равен среднему доходу клиентов, которые остались"
   ]
  },
  {
   "cell_type": "markdown",
   "metadata": {},
   "source": [
    "Будем двоерять u-критерию Манна-Уитни, т.к. он не требует нормальности распределения и в данном случае показывает более точные результаты, в то время как для критерия Стьюдента требование нормальности не выполняется"
   ]
  },
  {
   "cell_type": "markdown",
   "metadata": {},
   "source": [
    "2.Проверим гипотезу о том, что кол-во используемых продуктов тех клиентов, которые ушли и тех, которые остались, различается"
   ]
  },
  {
   "cell_type": "markdown",
   "metadata": {},
   "source": [
    "- H0:Кол-во используемых продуктов ушедших клиентов равно кол-ву используемых продуктов клиентов, которые остались\n",
    "- H1:Кол-во используемых продуктов ушедших клиентов не равно кол-ву используемых продуктов клиентов, которые остались\n",
    "\n",
    "Аналогично предыдущему значение alpha зададим равным 0.05. Равность дисперсий - False\n",
    "<br>Используем st.ttest_ind"
   ]
  },
  {
   "cell_type": "code",
   "execution_count": 56,
   "metadata": {},
   "outputs": [
    {
     "name": "stdout",
     "output_type": "stream",
     "text": [
      "Значение p-value: 7.964667361392785e-139\n",
      "Отвергаем нулевую гипотезу\n"
     ]
    }
   ],
   "source": [
    "alpha = 0.05\n",
    "results = st.ttest_ind(\n",
    "    bs[bs['churn']==0]['products'],\n",
    "    bs[bs['churn']==1]['products'], equal_var = False)\n",
    "\n",
    "print('Значение p-value:', results.pvalue)\n",
    "\n",
    "if (results.pvalue < alpha):\n",
    "    print ('Отвергаем нулевую гипотезу')\n",
    "else:\n",
    "    print ('Не получилось отвергнуть нулевую гипотезу')"
   ]
  },
  {
   "cell_type": "markdown",
   "metadata": {},
   "source": [
    "Кол-во используемых продуктов тех клиентов, которые ушли и тех, которые остались, различается"
   ]
  },
  {
   "cell_type": "markdown",
   "metadata": {},
   "source": [
    "3.Проверим гипотезу о том, что приблизительная оценка собственности клиента тех клиентов, которые ушли и тех, которые остались, различается"
   ]
  },
  {
   "cell_type": "markdown",
   "metadata": {},
   "source": [
    "- H0:Оценка собственности ушедших клиентов равно оценке собственности клиентов, которые остались\n",
    "- H1:Оценка собственности ушедших клиентов не равна оценке собственности клиентов, которые остались\n",
    "\n",
    "Аналогично предыдущему значение alpha = 0.05. Равность дисперсий - False. Используем st.ttest_ind"
   ]
  },
  {
   "cell_type": "code",
   "execution_count": 57,
   "metadata": {},
   "outputs": [
    {
     "name": "stdout",
     "output_type": "stream",
     "text": [
      "Значение p-value: 8.69455598249367e-196\n",
      "Отвергаем нулевую гипотезу\n"
     ]
    }
   ],
   "source": [
    "alpha = 0.05\n",
    "results = st.ttest_ind(\n",
    "    bs[bs['churn']==0]['equity'],\n",
    "    bs[bs['churn']==1]['equity'], equal_var = False)\n",
    "\n",
    "print('Значение p-value:', results.pvalue)\n",
    "\n",
    "if (results.pvalue < alpha):\n",
    "    print ('Отвергаем нулевую гипотезу')\n",
    "else:\n",
    "    print ('Не получилось отвергнуть нулевую гипотезу')"
   ]
  },
  {
   "cell_type": "markdown",
   "metadata": {},
   "source": [
    "Приблизительная оценка собственности клиента тех клиентов, которые ушли и тех, которые остались, действительно различаются"
   ]
  },
  {
   "cell_type": "markdown",
   "metadata": {},
   "source": [
    "4.Проверим гипотезу о том, что пол тех клиентов, которые ушли влияет на отток"
   ]
  },
  {
   "cell_type": "markdown",
   "metadata": {},
   "source": [
    "- H0:Кол-во ушедших мужчин равно кол-ву ушедших женщин\n",
    "- H1:Кол-во ушедших мужчин не равно кол-ву ушедших женщин\n",
    "\n",
    "Значение alpha = 0.05. Равность дисперсий - False. Используем st.ttest_ind"
   ]
  },
  {
   "cell_type": "code",
   "execution_count": 58,
   "metadata": {},
   "outputs": [
    {
     "name": "stdout",
     "output_type": "stream",
     "text": [
      "Значение p-value: 6.222859513206651e-47\n",
      "Отвергаем нулевую гипотезу\n"
     ]
    }
   ],
   "source": [
    "alpha = 0.05\n",
    "results = st.ttest_ind(\n",
    "    bs[bs['churn']==0]['cod_gen'],\n",
    "    bs[bs['churn']==1]['cod_gen'], equal_var = False)\n",
    "\n",
    "print('Значение p-value:', results.pvalue)\n",
    "\n",
    "if (results.pvalue < alpha):\n",
    "    print ('Отвергаем нулевую гипотезу')\n",
    "else:\n",
    "    print ('Не получилось отвергнуть нулевую гипотезу')"
   ]
  },
  {
   "cell_type": "markdown",
   "metadata": {},
   "source": [
    "Видим, что пол все же имеет влияние на отток"
   ]
  },
  {
   "cell_type": "markdown",
   "metadata": {},
   "source": [
    "5.Проверим гипотезу о том, что активность клиента влияет на отток"
   ]
  },
  {
   "cell_type": "markdown",
   "metadata": {},
   "source": [
    "- H0:Активность ушедших клиентов равна активности клиентов, которые остались\n",
    "- H1:Активность ушедших клиентов не равна активности клиентов, которые остались\n",
    "\n",
    "Значение alpha = 0.05. Равность дисперсий - False. Используем st.ttest_ind"
   ]
  },
  {
   "cell_type": "code",
   "execution_count": 59,
   "metadata": {
    "scrolled": true
   },
   "outputs": [
    {
     "name": "stdout",
     "output_type": "stream",
     "text": [
      "Значение p-value: 8.051660477477419e-70\n",
      "Отвергаем нулевую гипотезу\n"
     ]
    }
   ],
   "source": [
    "alpha = 0.05\n",
    "results = st.ttest_ind(\n",
    "    bs[bs['churn']==0]['last_activity'],\n",
    "    bs[bs['churn']==1]['last_activity'], equal_var = False)\n",
    "\n",
    "print('Значение p-value:', results.pvalue)\n",
    "\n",
    "if (results.pvalue < alpha):\n",
    "    print ('Отвергаем нулевую гипотезу')\n",
    "else:\n",
    "    print ('Не получилось отвергнуть нулевую гипотезу')"
   ]
  },
  {
   "cell_type": "markdown",
   "metadata": {},
   "source": [
    "Активность ушедших клиентов и активность клиентов, которые остались, различна"
   ]
  },
  {
   "cell_type": "markdown",
   "metadata": {},
   "source": [
    "6.Проверим гипотезу о том, что наличие кредитной карты влияет на отток"
   ]
  },
  {
   "cell_type": "markdown",
   "metadata": {},
   "source": [
    "- H0:Кол-во ушедших клиентов с кредитной картой равно кол-ву оставшихся клиентов с кредитной картой\n",
    "- H1:Кол-во ушедших клиентов с кредитной картой не равно кол-ву оставшихся клиентов с кредитной картой\n",
    "\n",
    "Значение alpha = 0.05. Равность дисперсий - False. Используем st.ttest_ind"
   ]
  },
  {
   "cell_type": "code",
   "execution_count": 60,
   "metadata": {},
   "outputs": [
    {
     "name": "stdout",
     "output_type": "stream",
     "text": [
      "Значение p-value: 3.1017054142570824e-34\n",
      "Отвергаем нулевую гипотезу\n"
     ]
    }
   ],
   "source": [
    "alpha = 0.05\n",
    "results = st.ttest_ind(\n",
    "    bs[bs['churn']==0]['credit_card'],\n",
    "    bs[bs['churn']==1]['credit_card'], equal_var = False)\n",
    "\n",
    "print('Значение p-value:', results.pvalue)\n",
    "\n",
    "if (results.pvalue < alpha):\n",
    "    print ('Отвергаем нулевую гипотезу')\n",
    "else:\n",
    "    print ('Не получилось отвергнуть нулевую гипотезу')"
   ]
  },
  {
   "cell_type": "markdown",
   "metadata": {},
   "source": [
    "Нулевую гипотезу овтергли, а значит наличие кредитной карты все же влияет на отток"
   ]
  },
  {
   "cell_type": "markdown",
   "metadata": {},
   "source": [
    "7.Проверим гипотезу о том, что кол-во баллов кредитного скоринга тех клиентов, которые ушли и тех, которые остались, различается"
   ]
  },
  {
   "cell_type": "code",
   "execution_count": 61,
   "metadata": {},
   "outputs": [
    {
     "name": "stderr",
     "output_type": "stream",
     "text": [
      "/opt/conda/lib/python3.9/site-packages/scipy/stats/_morestats.py:1800: UserWarning: p-value may not be accurate for N > 5000.\n",
      "  warnings.warn(\"p-value may not be accurate for N > 5000.\")\n"
     ]
    },
    {
     "data": {
      "text/plain": [
       "ShapiroResult(statistic=0.9884443879127502, pvalue=1.2511455290391744e-27)"
      ]
     },
     "execution_count": 61,
     "metadata": {},
     "output_type": "execute_result"
    }
   ],
   "source": [
    "st.shapiro(bs['score'])"
   ]
  },
  {
   "cell_type": "markdown",
   "metadata": {},
   "source": [
    "Тест Шапиро-Уилка показал, что данные нормально не распредлены, поэтому вдобавок к t-тесту бидем использовать и u-тест"
   ]
  },
  {
   "cell_type": "markdown",
   "metadata": {},
   "source": [
    "- H0:Кол-во баллов кредитного скоринга тех клиентов, которые ушли равно кол-ву баллов кредитного скоринга тех клиентов, которые остались\n",
    "- H1:Кол-во баллов кредитного скоринга тех клиентов, которые ушли не равно кол-ву баллов кредитного скоринга тех клиентов, которые остались\n",
    "\n",
    "Значение alpha = 0.05. Равность дисперсий - False."
   ]
  },
  {
   "cell_type": "code",
   "execution_count": 62,
   "metadata": {},
   "outputs": [
    {
     "name": "stdout",
     "output_type": "stream",
     "text": [
      "Значение p-value: 2.5258910795157677e-37\n",
      "Отвергаем нулевую гипотезу\n"
     ]
    }
   ],
   "source": [
    "alpha = 0.05\n",
    "results = st.ttest_ind(\n",
    "    bs[bs['churn']==0]['score'],\n",
    "    bs[bs['churn']==1]['score'], equal_var = False)\n",
    "\n",
    "print('Значение p-value:', results.pvalue)\n",
    "\n",
    "if (results.pvalue < alpha):\n",
    "    print ('Отвергаем нулевую гипотезу')\n",
    "else:\n",
    "    print ('Не получилось отвергнуть нулевую гипотезу')"
   ]
  },
  {
   "cell_type": "code",
   "execution_count": 63,
   "metadata": {},
   "outputs": [
    {
     "name": "stdout",
     "output_type": "stream",
     "text": [
      "Значение p-value: 6.664136275637176e-22\n",
      "Отвергаем нулевую гипотезу\n"
     ]
    }
   ],
   "source": [
    "alpha = 0.05\n",
    "results = st.mannwhitneyu(\n",
    "    bs[bs['churn']==0]['score'],\n",
    "    bs[bs['churn']==1]['score'], alternative='two-sided')\n",
    "\n",
    "print('Значение p-value:', results.pvalue)\n",
    "\n",
    "if (results.pvalue < alpha):\n",
    "    print ('Отвергаем нулевую гипотезу')\n",
    "else:\n",
    "    print ('Не получилось отвергнуть нулевую гипотезу')"
   ]
  },
  {
   "cell_type": "markdown",
   "metadata": {},
   "source": [
    "Оба теста подтвердили, что кол-во баллов кредитного скоринга тех клиентов, которые ушли и тех, которые остались, различается"
   ]
  },
  {
   "cell_type": "markdown",
   "metadata": {},
   "source": [
    "**Шаг 5.** Резюмируем, какие показатели стратегически влияют на отток клиентов и какие\n",
    "интервалы их значений влияют на него"
   ]
  },
  {
   "cell_type": "markdown",
   "metadata": {},
   "source": [
    "Стратегически влияют на отток клиентов следующие показатели:\n",
    "\n",
    "1. Оценочная заработная плата - у основной части отточных клиентов составляет 60 000-180 000 (корреляция 0.1%)\n",
    "2. Количество продуктов, которыми пользуется клиент - уходили те, кто пользовался 2-мя продуктами и более (корреляция 30.1%)\n",
    "3. Приблизительная оценка собственности клиента - в основном уходят клиенты с оценкой 4-5 баллов (корреляция 27.1%)\n",
    "4. Активность клиентов - активные клиенты чаще всего склонны уходить (корреляция 16.9%)\n",
    "5. Пол клиентов - в основном уходят именно мужчины (корреляция f_gen и m_gen -14.1% и 14.1% соответственно)\n",
    "6. Наличие кредитной карты тоже влияет на отток (корреляция -13.1%)\n",
    "7. Кол-во баллов кредитного скоринга в основном в отрезке 820-920 баллов (корреляция 10.6%)"
   ]
  },
  {
   "cell_type": "markdown",
   "metadata": {},
   "source": [
    "**Шаг 6.** Сегментация на основне стратегических показателей"
   ]
  },
  {
   "cell_type": "code",
   "execution_count": 64,
   "metadata": {},
   "outputs": [
    {
     "data": {
      "text/html": [
       "<div>\n",
       "<style scoped>\n",
       "    .dataframe tbody tr th:only-of-type {\n",
       "        vertical-align: middle;\n",
       "    }\n",
       "\n",
       "    .dataframe tbody tr th {\n",
       "        vertical-align: top;\n",
       "    }\n",
       "\n",
       "    .dataframe thead th {\n",
       "        text-align: right;\n",
       "    }\n",
       "</style>\n",
       "<table border=\"1\" class=\"dataframe\">\n",
       "  <thead>\n",
       "    <tr style=\"text-align: right;\">\n",
       "      <th></th>\n",
       "      <th>churn</th>\n",
       "      <th>score</th>\n",
       "      <th>equity</th>\n",
       "      <th>products</th>\n",
       "    </tr>\n",
       "  </thead>\n",
       "  <tbody>\n",
       "    <tr>\n",
       "      <th>mean</th>\n",
       "      <td>0.716129</td>\n",
       "      <td>885.780645</td>\n",
       "      <td>4.864516</td>\n",
       "      <td>2.5</td>\n",
       "    </tr>\n",
       "    <tr>\n",
       "      <th>sum</th>\n",
       "      <td>222.000000</td>\n",
       "      <td>NaN</td>\n",
       "      <td>NaN</td>\n",
       "      <td>NaN</td>\n",
       "    </tr>\n",
       "    <tr>\n",
       "      <th>count</th>\n",
       "      <td>310.000000</td>\n",
       "      <td>NaN</td>\n",
       "      <td>NaN</td>\n",
       "      <td>NaN</td>\n",
       "    </tr>\n",
       "  </tbody>\n",
       "</table>\n",
       "</div>"
      ],
      "text/plain": [
       "            churn       score    equity  products\n",
       "mean     0.716129  885.780645  4.864516       2.5\n",
       "sum    222.000000         NaN       NaN       NaN\n",
       "count  310.000000         NaN       NaN       NaN"
      ]
     },
     "execution_count": 64,
     "metadata": {},
     "output_type": "execute_result"
    }
   ],
   "source": [
    "bs.query('credit_card==0 and cod_gen==1 and products>=2 and equity>=4 \\\n",
    "         and last_activity==1 and score >= 820'\n",
    "        ).agg({\"churn\":[\"mean\",\"sum\",\"count\"],\n",
    "               \"score\":[\"mean\"], \"equity\":[\"mean\"],\n",
    "               \"products\":[\"mean\"]})"
   ]
  },
  {
   "cell_type": "markdown",
   "metadata": {},
   "source": [
    "**Cегмент 1** мужчины не имеющие кредитную карту, являющиеся активными пользователями, использующие 2 или более продуктов.\n",
    "<br>Приблизительная оценка собственности 4 или более\n",
    "<br>Кол-во баллов кредитного скоринга 820 и более\n",
    "\n",
    "Процент оттока: 71%"
   ]
  },
  {
   "cell_type": "code",
   "execution_count": 65,
   "metadata": {},
   "outputs": [
    {
     "data": {
      "text/html": [
       "<div>\n",
       "<style scoped>\n",
       "    .dataframe tbody tr th:only-of-type {\n",
       "        vertical-align: middle;\n",
       "    }\n",
       "\n",
       "    .dataframe tbody tr th {\n",
       "        vertical-align: top;\n",
       "    }\n",
       "\n",
       "    .dataframe thead th {\n",
       "        text-align: right;\n",
       "    }\n",
       "</style>\n",
       "<table border=\"1\" class=\"dataframe\">\n",
       "  <thead>\n",
       "    <tr style=\"text-align: right;\">\n",
       "      <th></th>\n",
       "      <th>churn</th>\n",
       "      <th>score</th>\n",
       "      <th>equity</th>\n",
       "      <th>products</th>\n",
       "    </tr>\n",
       "  </thead>\n",
       "  <tbody>\n",
       "    <tr>\n",
       "      <th>mean</th>\n",
       "      <td>0.48</td>\n",
       "      <td>876.384615</td>\n",
       "      <td>4.689231</td>\n",
       "      <td>2.44</td>\n",
       "    </tr>\n",
       "    <tr>\n",
       "      <th>sum</th>\n",
       "      <td>156.00</td>\n",
       "      <td>NaN</td>\n",
       "      <td>NaN</td>\n",
       "      <td>NaN</td>\n",
       "    </tr>\n",
       "    <tr>\n",
       "      <th>count</th>\n",
       "      <td>325.00</td>\n",
       "      <td>NaN</td>\n",
       "      <td>NaN</td>\n",
       "      <td>NaN</td>\n",
       "    </tr>\n",
       "  </tbody>\n",
       "</table>\n",
       "</div>"
      ],
      "text/plain": [
       "        churn       score    equity  products\n",
       "mean     0.48  876.384615  4.689231      2.44\n",
       "sum    156.00         NaN       NaN       NaN\n",
       "count  325.00         NaN       NaN       NaN"
      ]
     },
     "execution_count": 65,
     "metadata": {},
     "output_type": "execute_result"
    }
   ],
   "source": [
    "bs.query('credit_card==0 and cod_gen==0 and products>=2 and equity>=4 \\\n",
    "         and last_activity==1 and score >= 800 and age>=30 and balance>=500000'\n",
    "        ).agg({\"churn\":[\"mean\",\"sum\",\"count\"],\n",
    "               \"score\":[\"mean\"], \"equity\":[\"mean\"],\n",
    "               \"products\":[\"mean\"]})"
   ]
  },
  {
   "cell_type": "markdown",
   "metadata": {},
   "source": [
    "**Cегмент 2** женщины от 30 лет не имеющие кредитную карту, являющиеся активными пользователями, использующие 2 или более продуктов.\n",
    "<br>Приблизительная оценка собственности 4 или более\n",
    "<br>Баллы кредитного скоринга более 800\n",
    "<br>Баланс на счёте от 500 000\n",
    "\n",
    "\n",
    "Процент оттока: 48%"
   ]
  },
  {
   "cell_type": "code",
   "execution_count": 66,
   "metadata": {},
   "outputs": [
    {
     "data": {
      "text/html": [
       "<div>\n",
       "<style scoped>\n",
       "    .dataframe tbody tr th:only-of-type {\n",
       "        vertical-align: middle;\n",
       "    }\n",
       "\n",
       "    .dataframe tbody tr th {\n",
       "        vertical-align: top;\n",
       "    }\n",
       "\n",
       "    .dataframe thead th {\n",
       "        text-align: right;\n",
       "    }\n",
       "</style>\n",
       "<table border=\"1\" class=\"dataframe\">\n",
       "  <thead>\n",
       "    <tr style=\"text-align: right;\">\n",
       "      <th></th>\n",
       "      <th>churn</th>\n",
       "      <th>score</th>\n",
       "      <th>equity</th>\n",
       "      <th>products</th>\n",
       "    </tr>\n",
       "  </thead>\n",
       "  <tbody>\n",
       "    <tr>\n",
       "      <th>mean</th>\n",
       "      <td>0.314286</td>\n",
       "      <td>884.533333</td>\n",
       "      <td>4.095238</td>\n",
       "      <td>1.936508</td>\n",
       "    </tr>\n",
       "    <tr>\n",
       "      <th>sum</th>\n",
       "      <td>99.000000</td>\n",
       "      <td>NaN</td>\n",
       "      <td>NaN</td>\n",
       "      <td>NaN</td>\n",
       "    </tr>\n",
       "    <tr>\n",
       "      <th>count</th>\n",
       "      <td>315.000000</td>\n",
       "      <td>NaN</td>\n",
       "      <td>NaN</td>\n",
       "      <td>NaN</td>\n",
       "    </tr>\n",
       "  </tbody>\n",
       "</table>\n",
       "</div>"
      ],
      "text/plain": [
       "            churn       score    equity  products\n",
       "mean     0.314286  884.533333  4.095238  1.936508\n",
       "sum     99.000000         NaN       NaN       NaN\n",
       "count  315.000000         NaN       NaN       NaN"
      ]
     },
     "execution_count": 66,
     "metadata": {},
     "output_type": "execute_result"
    }
   ],
   "source": [
    "bs.query('credit_card==1 and equity>=2 and balance<=1000000 \\\n",
    "         and yaroslavl==1 and score>=850 and age>=27 and age<=65 \\\n",
    "         and est_salary<=150000 and est_salary>=70000'\n",
    "        ).agg({\"churn\":[\"mean\",\"sum\",\"count\"],\n",
    "               \"score\":[\"mean\"], \"equity\":[\"mean\"],\n",
    "               \"products\":[\"mean\"]})"
   ]
  },
  {
   "cell_type": "markdown",
   "metadata": {},
   "source": [
    "**Cегмент 3** пользователи возрастом от 27 до 65 лет, имеющие кредитную карту, проживающие в городе Ярославль\n",
    "<br>Приблизительная оценка собственности 2 или более\n",
    "<br>Баллы кредитного скоринга более 850\n",
    "<br>Баланс на счёте не более 1 000 000\n",
    "<br>Оценочная заработная плата клиента от 70 000 до 150 000\n",
    "\n",
    "Процент оттока: 31.4%"
   ]
  },
  {
   "cell_type": "markdown",
   "metadata": {},
   "source": [
    "**Шаг 7.** Подветем итоги и составим рекомендации для заказчика по приоритетным сегментам"
   ]
  },
  {
   "cell_type": "markdown",
   "metadata": {},
   "source": [
    "В ходе исследования были получены данные о клиентах банка «Метанпром»\n",
    "<br>Данные были изучены и предобработаны:\n",
    "- исправленs нарушение стиля в названиях столбцов\n",
    "- явных дубликатов в данных не обнаружено, неявные были устранены\n",
    "- закодировали пол и города численно, для этого создали отдельные столбцы\n",
    "- в данных есть пропуски в стобцах \"age\" - они устранены и в столбце \"balance\" - мы оставили их без изменений\n",
    "\n",
    "В ходе исследовательского анализа данных составили портреты типичных клиентов, которые склонны и не склонны уходить из банка\n",
    "<br>Выяснили, что отточные клиенты чаще мужчины, они немного моложе, чем клиенты неотточные, которые чаще всего являются женщинами; имеют выше заработную плату и более высокий баланс на счете, как и выоскую оценку собственности, в то время как у неотточных чаще всего оценка нулевая.\n",
    "<br>Исходя из матрицы корреляций увидели, что наибольшая корреляция с показателем оттока клиентов у столбцов: score: 10.6%, equity: 27.1%, products: 30.1%, credit_card: -13.1%, last_activity: 16.9%, cod_gen 14.2%.\n",
    "<br>Корреляции данных характеристик с нашей целевой характеристикой имеются, но слабые, за исключением столбца \"products\", корреляция с которым является умеренной.\n",
    "\n",
    "Проверили статистические гипотезы, которые подтвердили показатели стратегически влияющие на отток клиентов:\n",
    "1. Оценочная заработная плата - у основной части отточных клиентов составляет 60 000-180 000 (корреляция 0.1%)\n",
    "2. Количество продуктов, которыми пользуется клиент - уходили те, кто пользовался 2-мя продуктами и более (корреляция 30.1%)\n",
    "3. Приблизительная оценка собственности клиента - в основном уходят клиенты с оценкой 4-5 баллов (корреляция 27.1%)\n",
    "4. Активность клиентов - активные клиенты чаще всего склонны уходить (корреляция 16.9%)\n",
    "5. Пол клиентов - в основном уходят именно мужчины (корреляция f_gen и m_gen -14.1% и 14.1% соответственно)\n",
    "6. Наличие кредитной карты тоже влияет на отток (корреляция -13.1%)\n",
    "7. Кол-во баллов кредитного скоринга в основном в отрезке 820-920 баллов (корреляция 10.6%)\n",
    "\n",
    "Провели сегментацию на основне стратегических показателей и выделили 3 сегмента:\n",
    "\n",
    "**Cегмент 1** мужчины не имеющие кредитную карту, являющиеся активными пользователями, использующие 2 или более продуктов.\n",
    "<br>Приблизительная оценка собственности 4 или более\n",
    "<br>Кол-во баллов кредитного скоринга 820 и более\n",
    "<br>Процент оттока: 71%\n",
    "\n",
    "**Cегмент 2** женщины от 30 лет не имеющие кредитную карту, являющиеся активными пользователями, использующие 2 или более продуктов.\n",
    "<br>Приблизительная оценка собственности 4 или более\n",
    "<br>Баллы кредитного скоринга более 800\n",
    "<br>Баланс на счёте от 500 000\n",
    "Процент оттока: 48%\n",
    "\n",
    "**Cегмент 3** пользователи возрастом от 27 до 65 лет, имеющие кредитную карту, проживающие в городе Ярославль\n",
    "<br>Приблизительная оценка собственности 2 или более\n",
    "<br>Баллы кредитного скоринга более 850\n",
    "<br>Баланс на счёте не более 1 000 000\n",
    "<br>Оценочная заработная плата клиента от 70 000 до 150 000\n",
    "Процент оттока: 31.4%"
   ]
  },
  {
   "cell_type": "markdown",
   "metadata": {},
   "source": [
    "По итогам проведенного исследования:\n",
    "<br>Заметно, что в зоне риска находятся именно **активные** клиенты, пользующиеся 2-мя и более продуктами компании и большими финансовыми показателями, такими как приблизительная оценка собственности и кол-во баллов кредитного скоринга, в то время как менее активные пользователи с менее высоким аналогичными показателями наоборот показывают маленький процент оттока.\n",
    "\n",
    "Рекомендации:\n",
    "<br>**Cегмент 1** провести акцию и предложить особые условия по кредитной карте, повышенный кэшбек на фитнес, отдых или туризм, а так же изменить/улучшить продукты или сделать новые, т.к. имеющиеся в чем-то клиентов не устраивают. Выгодные условия по страхованию недвижимости лишними не будут.\n",
    "<br>**Cегмент 2** так же предложить им оформить кредитную карту или страхование недвижимости по выгодным условиям, повышенный кэшбек на магазины одежды, фитнес, товары для детей и дома, украшения, одежда, порфюм и т.п.(женщины же). Предложить выгодные условия по вкладам.\n",
    "<br>**Cегмент 3** для клиентов г. Ярославля предложить выгодные условия по ипотеке и страхованию, для клиентов этого же сегмента постарше - льготы связанные с пенсией, так же страхование жизни и здоровья."
   ]
  },
  {
   "cell_type": "markdown",
   "metadata": {},
   "source": [
    "Ссылка на презентацию: https://drive.google.com/file/d/1T3HOrrvCXBil9VcfuWHU8M7z89wvpY8l/view?usp=sharing"
   ]
  }
 ],
 "metadata": {
  "ExecuteTimeLog": [
   {
    "duration": 1319,
    "start_time": "2023-08-30T22:34:32.356Z"
   },
   {
    "duration": 200,
    "start_time": "2023-08-30T22:34:33.677Z"
   },
   {
    "duration": 14,
    "start_time": "2023-08-30T22:35:15.671Z"
   },
   {
    "duration": 20,
    "start_time": "2023-08-30T22:35:15.686Z"
   },
   {
    "duration": 1717,
    "start_time": "2023-08-31T09:55:45.814Z"
   },
   {
    "duration": 137,
    "start_time": "2023-08-31T09:55:47.533Z"
   },
   {
    "duration": 13,
    "start_time": "2023-08-31T09:55:47.672Z"
   },
   {
    "duration": 22,
    "start_time": "2023-08-31T09:55:51.256Z"
   },
   {
    "duration": 7,
    "start_time": "2023-08-31T09:56:08.558Z"
   },
   {
    "duration": 11,
    "start_time": "2023-08-31T09:56:08.747Z"
   },
   {
    "duration": 121,
    "start_time": "2023-08-31T11:57:22.054Z"
   },
   {
    "duration": 10,
    "start_time": "2023-08-31T12:04:34.140Z"
   },
   {
    "duration": 4,
    "start_time": "2023-08-31T12:04:38.542Z"
   },
   {
    "duration": 96,
    "start_time": "2023-08-31T12:04:38.796Z"
   },
   {
    "duration": 12,
    "start_time": "2023-08-31T12:04:39.097Z"
   },
   {
    "duration": 11,
    "start_time": "2023-08-31T12:04:39.485Z"
   },
   {
    "duration": 1544,
    "start_time": "2023-08-31T12:04:52.059Z"
   },
   {
    "duration": 93,
    "start_time": "2023-08-31T12:04:53.606Z"
   },
   {
    "duration": 14,
    "start_time": "2023-08-31T12:04:53.701Z"
   },
   {
    "duration": 45,
    "start_time": "2023-08-31T12:04:53.717Z"
   },
   {
    "duration": 4,
    "start_time": "2023-08-31T12:04:53.764Z"
   },
   {
    "duration": 117,
    "start_time": "2023-08-31T12:04:53.769Z"
   },
   {
    "duration": 0,
    "start_time": "2023-08-31T12:04:53.888Z"
   },
   {
    "duration": 7,
    "start_time": "2023-08-31T12:05:03.536Z"
   },
   {
    "duration": 11,
    "start_time": "2023-08-31T12:05:03.757Z"
   },
   {
    "duration": 15,
    "start_time": "2023-08-31T12:05:51.014Z"
   },
   {
    "duration": 397,
    "start_time": "2023-08-31T12:15:02.895Z"
   },
   {
    "duration": 6,
    "start_time": "2023-08-31T13:11:06.967Z"
   },
   {
    "duration": 7,
    "start_time": "2023-08-31T22:11:58.423Z"
   },
   {
    "duration": 1454,
    "start_time": "2023-08-31T22:14:00.532Z"
   },
   {
    "duration": 96,
    "start_time": "2023-08-31T22:14:01.988Z"
   },
   {
    "duration": 13,
    "start_time": "2023-08-31T22:14:02.085Z"
   },
   {
    "duration": 17,
    "start_time": "2023-08-31T22:14:02.100Z"
   },
   {
    "duration": 3,
    "start_time": "2023-08-31T22:14:02.118Z"
   },
   {
    "duration": 13,
    "start_time": "2023-08-31T22:14:02.122Z"
   },
   {
    "duration": 20,
    "start_time": "2023-08-31T22:14:02.137Z"
   },
   {
    "duration": 4,
    "start_time": "2023-08-31T22:14:02.158Z"
   },
   {
    "duration": 7,
    "start_time": "2023-08-31T22:14:02.163Z"
   },
   {
    "duration": 6,
    "start_time": "2023-08-31T22:14:02.172Z"
   },
   {
    "duration": 4,
    "start_time": "2023-08-31T22:20:52.573Z"
   },
   {
    "duration": 16,
    "start_time": "2023-08-31T22:21:02.207Z"
   },
   {
    "duration": 1445,
    "start_time": "2023-08-31T22:22:51.912Z"
   },
   {
    "duration": 101,
    "start_time": "2023-08-31T22:22:53.359Z"
   },
   {
    "duration": 12,
    "start_time": "2023-08-31T22:22:53.462Z"
   },
   {
    "duration": 17,
    "start_time": "2023-08-31T22:22:53.477Z"
   },
   {
    "duration": 5,
    "start_time": "2023-08-31T22:22:53.496Z"
   },
   {
    "duration": 6,
    "start_time": "2023-08-31T22:22:53.503Z"
   },
   {
    "duration": 45,
    "start_time": "2023-08-31T22:22:53.511Z"
   },
   {
    "duration": 13,
    "start_time": "2023-08-31T22:22:53.558Z"
   },
   {
    "duration": 5,
    "start_time": "2023-08-31T22:22:53.573Z"
   },
   {
    "duration": 12,
    "start_time": "2023-08-31T22:22:53.581Z"
   },
   {
    "duration": 23,
    "start_time": "2023-08-31T22:22:53.595Z"
   },
   {
    "duration": 13,
    "start_time": "2023-08-31T22:22:53.619Z"
   },
   {
    "duration": 1886,
    "start_time": "2023-08-31T22:23:01.923Z"
   },
   {
    "duration": 1449,
    "start_time": "2023-08-31T22:23:06.657Z"
   },
   {
    "duration": 98,
    "start_time": "2023-08-31T22:23:08.109Z"
   },
   {
    "duration": 13,
    "start_time": "2023-08-31T22:23:08.209Z"
   },
   {
    "duration": 25,
    "start_time": "2023-08-31T22:23:08.223Z"
   },
   {
    "duration": 107,
    "start_time": "2023-08-31T22:23:08.250Z"
   },
   {
    "duration": 0,
    "start_time": "2023-08-31T22:23:08.358Z"
   },
   {
    "duration": 0,
    "start_time": "2023-08-31T22:23:08.360Z"
   },
   {
    "duration": 0,
    "start_time": "2023-08-31T22:23:08.361Z"
   },
   {
    "duration": 0,
    "start_time": "2023-08-31T22:23:08.362Z"
   },
   {
    "duration": 0,
    "start_time": "2023-08-31T22:23:08.363Z"
   },
   {
    "duration": 0,
    "start_time": "2023-08-31T22:23:08.364Z"
   },
   {
    "duration": 0,
    "start_time": "2023-08-31T22:23:08.365Z"
   },
   {
    "duration": 1903,
    "start_time": "2023-08-31T22:23:51.085Z"
   },
   {
    "duration": 473,
    "start_time": "2023-08-31T22:23:52.990Z"
   },
   {
    "duration": 13,
    "start_time": "2023-08-31T22:23:53.465Z"
   },
   {
    "duration": 16,
    "start_time": "2023-08-31T22:23:53.480Z"
   },
   {
    "duration": 120,
    "start_time": "2023-08-31T22:23:53.498Z"
   },
   {
    "duration": 0,
    "start_time": "2023-08-31T22:23:53.620Z"
   },
   {
    "duration": 0,
    "start_time": "2023-08-31T22:23:53.621Z"
   },
   {
    "duration": 0,
    "start_time": "2023-08-31T22:23:53.622Z"
   },
   {
    "duration": 0,
    "start_time": "2023-08-31T22:23:53.623Z"
   },
   {
    "duration": 0,
    "start_time": "2023-08-31T22:23:53.624Z"
   },
   {
    "duration": 0,
    "start_time": "2023-08-31T22:23:53.625Z"
   },
   {
    "duration": 0,
    "start_time": "2023-08-31T22:23:53.626Z"
   },
   {
    "duration": 4,
    "start_time": "2023-08-31T22:24:27.494Z"
   },
   {
    "duration": 95,
    "start_time": "2023-08-31T22:24:27.500Z"
   },
   {
    "duration": 11,
    "start_time": "2023-08-31T22:24:27.596Z"
   },
   {
    "duration": 11,
    "start_time": "2023-08-31T22:24:27.609Z"
   },
   {
    "duration": 4,
    "start_time": "2023-08-31T22:24:27.622Z"
   },
   {
    "duration": 13,
    "start_time": "2023-08-31T22:24:27.627Z"
   },
   {
    "duration": 9,
    "start_time": "2023-08-31T22:24:27.642Z"
   },
   {
    "duration": 5,
    "start_time": "2023-08-31T22:24:27.653Z"
   },
   {
    "duration": 6,
    "start_time": "2023-08-31T22:24:27.660Z"
   },
   {
    "duration": 6,
    "start_time": "2023-08-31T22:24:27.667Z"
   },
   {
    "duration": 12,
    "start_time": "2023-08-31T22:24:27.675Z"
   },
   {
    "duration": 13,
    "start_time": "2023-08-31T22:25:26.586Z"
   },
   {
    "duration": 12,
    "start_time": "2023-08-31T22:29:24.324Z"
   },
   {
    "duration": 16,
    "start_time": "2023-08-31T22:29:35.996Z"
   },
   {
    "duration": 16,
    "start_time": "2023-08-31T22:29:41.774Z"
   },
   {
    "duration": 17,
    "start_time": "2023-08-31T22:29:46.528Z"
   },
   {
    "duration": 20,
    "start_time": "2023-08-31T22:30:01.994Z"
   },
   {
    "duration": 5,
    "start_time": "2023-08-31T22:30:42.038Z"
   },
   {
    "duration": 6,
    "start_time": "2023-08-31T22:30:54.119Z"
   },
   {
    "duration": 5,
    "start_time": "2023-08-31T22:31:51.148Z"
   },
   {
    "duration": 14,
    "start_time": "2023-08-31T22:32:06.027Z"
   },
   {
    "duration": 1860,
    "start_time": "2023-09-01T13:44:39.720Z"
   },
   {
    "duration": 400,
    "start_time": "2023-09-01T13:44:41.584Z"
   },
   {
    "duration": 22,
    "start_time": "2023-09-01T13:44:41.986Z"
   },
   {
    "duration": 23,
    "start_time": "2023-09-01T13:44:42.010Z"
   },
   {
    "duration": 3,
    "start_time": "2023-09-01T13:44:42.035Z"
   },
   {
    "duration": 26,
    "start_time": "2023-09-01T13:44:42.040Z"
   },
   {
    "duration": 33,
    "start_time": "2023-09-01T13:44:42.068Z"
   },
   {
    "duration": 4,
    "start_time": "2023-09-01T13:44:42.103Z"
   },
   {
    "duration": 15,
    "start_time": "2023-09-01T13:44:42.109Z"
   },
   {
    "duration": 14,
    "start_time": "2023-09-01T13:44:42.126Z"
   },
   {
    "duration": 21,
    "start_time": "2023-09-01T13:44:42.141Z"
   },
   {
    "duration": 25,
    "start_time": "2023-09-01T13:44:42.163Z"
   },
   {
    "duration": 71,
    "start_time": "2023-09-02T17:29:55.771Z"
   },
   {
    "duration": 2055,
    "start_time": "2023-09-02T17:30:06.377Z"
   },
   {
    "duration": 205,
    "start_time": "2023-09-02T17:30:08.434Z"
   },
   {
    "duration": 37,
    "start_time": "2023-09-02T17:30:08.641Z"
   },
   {
    "duration": 27,
    "start_time": "2023-09-02T17:30:08.680Z"
   },
   {
    "duration": 3,
    "start_time": "2023-09-02T17:30:08.709Z"
   },
   {
    "duration": 21,
    "start_time": "2023-09-02T17:30:08.715Z"
   },
   {
    "duration": 29,
    "start_time": "2023-09-02T17:30:08.738Z"
   },
   {
    "duration": 7,
    "start_time": "2023-09-02T17:30:08.769Z"
   },
   {
    "duration": 7,
    "start_time": "2023-09-02T17:30:08.778Z"
   },
   {
    "duration": 7,
    "start_time": "2023-09-02T17:30:08.787Z"
   },
   {
    "duration": 20,
    "start_time": "2023-09-02T17:30:08.796Z"
   },
   {
    "duration": 17,
    "start_time": "2023-09-02T17:30:08.817Z"
   },
   {
    "duration": 43,
    "start_time": "2023-09-02T17:30:08.835Z"
   },
   {
    "duration": 27,
    "start_time": "2023-09-02T22:36:32.428Z"
   },
   {
    "duration": 1858,
    "start_time": "2023-09-02T22:37:25.469Z"
   },
   {
    "duration": 23,
    "start_time": "2023-09-02T22:37:41.704Z"
   },
   {
    "duration": 1328,
    "start_time": "2023-09-02T22:38:11.797Z"
   },
   {
    "duration": 91,
    "start_time": "2023-09-02T22:38:13.126Z"
   },
   {
    "duration": 13,
    "start_time": "2023-09-02T22:38:13.218Z"
   },
   {
    "duration": 15,
    "start_time": "2023-09-02T22:38:13.233Z"
   },
   {
    "duration": 2,
    "start_time": "2023-09-02T22:38:13.250Z"
   },
   {
    "duration": 13,
    "start_time": "2023-09-02T22:38:13.253Z"
   },
   {
    "duration": 10,
    "start_time": "2023-09-02T22:38:13.267Z"
   },
   {
    "duration": 4,
    "start_time": "2023-09-02T22:38:13.278Z"
   },
   {
    "duration": 6,
    "start_time": "2023-09-02T22:38:13.283Z"
   },
   {
    "duration": 2,
    "start_time": "2023-09-02T22:38:13.291Z"
   },
   {
    "duration": 7,
    "start_time": "2023-09-02T22:38:13.295Z"
   },
   {
    "duration": 5,
    "start_time": "2023-09-02T22:38:13.303Z"
   },
   {
    "duration": 46,
    "start_time": "2023-09-02T22:38:13.309Z"
   },
   {
    "duration": 11,
    "start_time": "2023-09-02T22:38:13.356Z"
   },
   {
    "duration": 101,
    "start_time": "2023-09-02T22:38:30.234Z"
   },
   {
    "duration": 23,
    "start_time": "2023-09-02T22:38:44.634Z"
   },
   {
    "duration": 4,
    "start_time": "2023-09-02T22:39:43.834Z"
   },
   {
    "duration": 17,
    "start_time": "2023-09-02T22:39:44.129Z"
   },
   {
    "duration": 4,
    "start_time": "2023-09-02T22:40:21.097Z"
   },
   {
    "duration": 12,
    "start_time": "2023-09-02T22:40:22.195Z"
   },
   {
    "duration": 26,
    "start_time": "2023-09-02T22:40:31.091Z"
   },
   {
    "duration": 1702,
    "start_time": "2023-09-02T22:46:51.876Z"
   },
   {
    "duration": 116,
    "start_time": "2023-09-02T22:47:11.018Z"
   },
   {
    "duration": 1832,
    "start_time": "2023-09-02T22:48:18.223Z"
   },
   {
    "duration": 22,
    "start_time": "2023-09-02T22:48:23.463Z"
   },
   {
    "duration": 21,
    "start_time": "2023-09-02T22:48:53.108Z"
   },
   {
    "duration": 27,
    "start_time": "2023-09-02T22:49:24.943Z"
   },
   {
    "duration": 4,
    "start_time": "2023-09-02T22:52:17.777Z"
   },
   {
    "duration": 1393,
    "start_time": "2023-09-02T22:52:30.341Z"
   },
   {
    "duration": 90,
    "start_time": "2023-09-02T22:52:31.736Z"
   },
   {
    "duration": 12,
    "start_time": "2023-09-02T22:52:31.827Z"
   },
   {
    "duration": 26,
    "start_time": "2023-09-02T22:52:31.840Z"
   },
   {
    "duration": 12,
    "start_time": "2023-09-02T22:52:31.867Z"
   },
   {
    "duration": 47,
    "start_time": "2023-09-02T22:52:31.880Z"
   },
   {
    "duration": 10,
    "start_time": "2023-09-02T22:52:31.929Z"
   },
   {
    "duration": 11,
    "start_time": "2023-09-02T22:52:31.940Z"
   },
   {
    "duration": 26,
    "start_time": "2023-09-02T22:52:31.952Z"
   },
   {
    "duration": 10,
    "start_time": "2023-09-02T22:52:31.981Z"
   },
   {
    "duration": 46,
    "start_time": "2023-09-02T22:52:31.993Z"
   },
   {
    "duration": 11,
    "start_time": "2023-09-02T22:52:32.041Z"
   },
   {
    "duration": 25,
    "start_time": "2023-09-02T22:52:32.053Z"
   },
   {
    "duration": 8,
    "start_time": "2023-09-02T22:52:32.079Z"
   },
   {
    "duration": 30,
    "start_time": "2023-09-02T22:52:32.089Z"
   },
   {
    "duration": 30,
    "start_time": "2023-09-02T22:52:32.120Z"
   },
   {
    "duration": 1408,
    "start_time": "2023-09-02T22:55:56.227Z"
   },
   {
    "duration": 90,
    "start_time": "2023-09-02T22:55:57.637Z"
   },
   {
    "duration": 12,
    "start_time": "2023-09-02T22:55:57.728Z"
   },
   {
    "duration": 26,
    "start_time": "2023-09-02T22:55:57.742Z"
   },
   {
    "duration": 3,
    "start_time": "2023-09-02T22:55:57.769Z"
   },
   {
    "duration": 13,
    "start_time": "2023-09-02T22:55:57.773Z"
   },
   {
    "duration": 11,
    "start_time": "2023-09-02T22:55:57.787Z"
   },
   {
    "duration": 4,
    "start_time": "2023-09-02T22:55:57.800Z"
   },
   {
    "duration": 6,
    "start_time": "2023-09-02T22:55:57.805Z"
   },
   {
    "duration": 33,
    "start_time": "2023-09-02T22:55:57.813Z"
   },
   {
    "duration": 27,
    "start_time": "2023-09-02T22:55:57.848Z"
   },
   {
    "duration": 3,
    "start_time": "2023-09-02T22:55:57.877Z"
   },
   {
    "duration": 7,
    "start_time": "2023-09-02T22:55:57.881Z"
   },
   {
    "duration": 4,
    "start_time": "2023-09-02T22:55:57.889Z"
   },
   {
    "duration": 14,
    "start_time": "2023-09-02T22:55:57.894Z"
   },
   {
    "duration": 127,
    "start_time": "2023-09-02T22:55:57.909Z"
   },
   {
    "duration": 13,
    "start_time": "2023-09-02T22:56:12.215Z"
   },
   {
    "duration": 15,
    "start_time": "2023-09-02T23:21:31.488Z"
   },
   {
    "duration": 35,
    "start_time": "2023-09-02T23:22:07.799Z"
   },
   {
    "duration": 34,
    "start_time": "2023-09-02T23:22:10.972Z"
   },
   {
    "duration": 34,
    "start_time": "2023-09-02T23:22:22.476Z"
   },
   {
    "duration": 1400,
    "start_time": "2023-09-02T23:22:32.888Z"
   },
   {
    "duration": 91,
    "start_time": "2023-09-02T23:22:34.289Z"
   },
   {
    "duration": 40,
    "start_time": "2023-09-02T23:22:34.382Z"
   },
   {
    "duration": 15,
    "start_time": "2023-09-02T23:22:34.424Z"
   },
   {
    "duration": 3,
    "start_time": "2023-09-02T23:22:34.440Z"
   },
   {
    "duration": 14,
    "start_time": "2023-09-02T23:22:34.444Z"
   },
   {
    "duration": 10,
    "start_time": "2023-09-02T23:22:34.460Z"
   },
   {
    "duration": 3,
    "start_time": "2023-09-02T23:22:34.472Z"
   },
   {
    "duration": 7,
    "start_time": "2023-09-02T23:22:34.477Z"
   },
   {
    "duration": 4,
    "start_time": "2023-09-02T23:22:34.486Z"
   },
   {
    "duration": 27,
    "start_time": "2023-09-02T23:22:34.491Z"
   },
   {
    "duration": 27,
    "start_time": "2023-09-02T23:22:34.519Z"
   },
   {
    "duration": 17,
    "start_time": "2023-09-02T23:22:34.547Z"
   },
   {
    "duration": 5,
    "start_time": "2023-09-02T23:22:34.565Z"
   },
   {
    "duration": 40,
    "start_time": "2023-09-02T23:22:34.571Z"
   },
   {
    "duration": 36,
    "start_time": "2023-09-02T23:22:34.612Z"
   },
   {
    "duration": 31,
    "start_time": "2023-09-02T23:22:34.649Z"
   },
   {
    "duration": 15,
    "start_time": "2023-09-02T23:24:35.596Z"
   },
   {
    "duration": 16,
    "start_time": "2023-09-02T23:24:35.952Z"
   },
   {
    "duration": 14,
    "start_time": "2023-09-02T23:24:36.398Z"
   },
   {
    "duration": 33,
    "start_time": "2023-09-02T23:24:58.688Z"
   },
   {
    "duration": 32,
    "start_time": "2023-09-02T23:25:23.499Z"
   },
   {
    "duration": 33,
    "start_time": "2023-09-02T23:25:23.767Z"
   },
   {
    "duration": 47,
    "start_time": "2023-09-02T23:25:24.086Z"
   },
   {
    "duration": 1794,
    "start_time": "2023-09-04T12:30:14.549Z"
   },
   {
    "duration": 170,
    "start_time": "2023-09-04T12:30:16.345Z"
   },
   {
    "duration": 20,
    "start_time": "2023-09-04T12:30:16.516Z"
   },
   {
    "duration": 25,
    "start_time": "2023-09-04T12:30:16.538Z"
   },
   {
    "duration": 3,
    "start_time": "2023-09-04T12:30:16.565Z"
   },
   {
    "duration": 22,
    "start_time": "2023-09-04T12:30:16.570Z"
   },
   {
    "duration": 11,
    "start_time": "2023-09-04T12:30:16.594Z"
   },
   {
    "duration": 5,
    "start_time": "2023-09-04T12:30:16.606Z"
   },
   {
    "duration": 11,
    "start_time": "2023-09-04T12:30:16.613Z"
   },
   {
    "duration": 9,
    "start_time": "2023-09-04T12:30:16.625Z"
   },
   {
    "duration": 56,
    "start_time": "2023-09-04T12:30:16.635Z"
   },
   {
    "duration": 4,
    "start_time": "2023-09-04T12:30:16.693Z"
   },
   {
    "duration": 40,
    "start_time": "2023-09-04T12:30:16.699Z"
   },
   {
    "duration": 10,
    "start_time": "2023-09-04T12:30:16.741Z"
   },
   {
    "duration": 38,
    "start_time": "2023-09-04T12:30:16.753Z"
   },
   {
    "duration": 40,
    "start_time": "2023-09-04T12:30:16.793Z"
   },
   {
    "duration": 142,
    "start_time": "2023-09-04T12:30:16.834Z"
   },
   {
    "duration": 115,
    "start_time": "2023-09-04T23:43:59.978Z"
   },
   {
    "duration": 0,
    "start_time": "2023-09-04T23:44:00.095Z"
   },
   {
    "duration": 0,
    "start_time": "2023-09-04T23:44:00.096Z"
   },
   {
    "duration": 0,
    "start_time": "2023-09-04T23:44:00.097Z"
   },
   {
    "duration": 0,
    "start_time": "2023-09-04T23:44:00.099Z"
   },
   {
    "duration": 0,
    "start_time": "2023-09-04T23:44:00.100Z"
   },
   {
    "duration": 0,
    "start_time": "2023-09-04T23:44:00.101Z"
   },
   {
    "duration": 0,
    "start_time": "2023-09-04T23:44:00.102Z"
   },
   {
    "duration": 0,
    "start_time": "2023-09-04T23:44:00.103Z"
   },
   {
    "duration": 0,
    "start_time": "2023-09-04T23:44:00.104Z"
   },
   {
    "duration": 0,
    "start_time": "2023-09-04T23:44:00.105Z"
   },
   {
    "duration": 0,
    "start_time": "2023-09-04T23:44:00.106Z"
   },
   {
    "duration": 0,
    "start_time": "2023-09-04T23:44:00.107Z"
   },
   {
    "duration": 0,
    "start_time": "2023-09-04T23:44:00.108Z"
   },
   {
    "duration": 0,
    "start_time": "2023-09-04T23:44:00.109Z"
   },
   {
    "duration": 0,
    "start_time": "2023-09-04T23:44:00.110Z"
   },
   {
    "duration": 1,
    "start_time": "2023-09-04T23:44:00.110Z"
   },
   {
    "duration": 1424,
    "start_time": "2023-09-04T23:44:40.763Z"
   },
   {
    "duration": 97,
    "start_time": "2023-09-04T23:44:42.189Z"
   },
   {
    "duration": 14,
    "start_time": "2023-09-04T23:44:42.288Z"
   },
   {
    "duration": 17,
    "start_time": "2023-09-04T23:44:42.304Z"
   },
   {
    "duration": 21,
    "start_time": "2023-09-04T23:44:42.324Z"
   },
   {
    "duration": 22,
    "start_time": "2023-09-04T23:44:42.347Z"
   },
   {
    "duration": 11,
    "start_time": "2023-09-04T23:44:42.370Z"
   },
   {
    "duration": 6,
    "start_time": "2023-09-04T23:44:42.383Z"
   },
   {
    "duration": 18,
    "start_time": "2023-09-04T23:44:42.391Z"
   },
   {
    "duration": 12,
    "start_time": "2023-09-04T23:44:42.410Z"
   },
   {
    "duration": 44,
    "start_time": "2023-09-04T23:44:42.424Z"
   },
   {
    "duration": 4,
    "start_time": "2023-09-04T23:44:42.469Z"
   },
   {
    "duration": 13,
    "start_time": "2023-09-04T23:44:42.475Z"
   },
   {
    "duration": 5,
    "start_time": "2023-09-04T23:44:42.490Z"
   },
   {
    "duration": 37,
    "start_time": "2023-09-04T23:44:42.497Z"
   },
   {
    "duration": 55,
    "start_time": "2023-09-04T23:44:42.536Z"
   },
   {
    "duration": 113,
    "start_time": "2023-09-04T23:44:42.593Z"
   },
   {
    "duration": 9,
    "start_time": "2023-09-04T23:45:04.399Z"
   },
   {
    "duration": 38,
    "start_time": "2023-09-04T23:52:18.357Z"
   },
   {
    "duration": 38,
    "start_time": "2023-09-04T23:53:58.803Z"
   },
   {
    "duration": 11,
    "start_time": "2023-09-04T23:56:01.281Z"
   },
   {
    "duration": 7,
    "start_time": "2023-09-04T23:57:47.068Z"
   },
   {
    "duration": 7,
    "start_time": "2023-09-04T23:59:29.372Z"
   },
   {
    "duration": 5,
    "start_time": "2023-09-05T00:00:03.997Z"
   },
   {
    "duration": 16,
    "start_time": "2023-09-05T00:00:55.096Z"
   },
   {
    "duration": 6,
    "start_time": "2023-09-05T00:01:26.842Z"
   },
   {
    "duration": 17,
    "start_time": "2023-09-05T00:01:58.923Z"
   },
   {
    "duration": 17,
    "start_time": "2023-09-05T00:02:15.103Z"
   },
   {
    "duration": 5,
    "start_time": "2023-09-05T00:02:58.749Z"
   },
   {
    "duration": 12,
    "start_time": "2023-09-05T00:03:43.720Z"
   },
   {
    "duration": 17,
    "start_time": "2023-09-05T00:03:54.035Z"
   },
   {
    "duration": 16,
    "start_time": "2023-09-05T00:04:11.498Z"
   },
   {
    "duration": 6,
    "start_time": "2023-09-05T00:04:16.548Z"
   },
   {
    "duration": 8,
    "start_time": "2023-09-05T00:04:29.453Z"
   },
   {
    "duration": 6,
    "start_time": "2023-09-05T00:05:11.932Z"
   },
   {
    "duration": 6,
    "start_time": "2023-09-05T00:22:41.214Z"
   },
   {
    "duration": 36,
    "start_time": "2023-09-05T00:35:28.725Z"
   },
   {
    "duration": 1856,
    "start_time": "2023-09-05T12:10:52.447Z"
   },
   {
    "duration": 195,
    "start_time": "2023-09-05T12:10:54.305Z"
   },
   {
    "duration": 14,
    "start_time": "2023-09-05T12:10:54.502Z"
   },
   {
    "duration": 49,
    "start_time": "2023-09-05T12:10:54.518Z"
   },
   {
    "duration": 15,
    "start_time": "2023-09-05T12:10:54.569Z"
   },
   {
    "duration": 40,
    "start_time": "2023-09-05T12:10:54.585Z"
   },
   {
    "duration": 26,
    "start_time": "2023-09-05T12:10:54.627Z"
   },
   {
    "duration": 7,
    "start_time": "2023-09-05T12:10:54.655Z"
   },
   {
    "duration": 23,
    "start_time": "2023-09-05T12:10:54.664Z"
   },
   {
    "duration": 11,
    "start_time": "2023-09-05T12:10:54.689Z"
   },
   {
    "duration": 39,
    "start_time": "2023-09-05T12:10:54.702Z"
   },
   {
    "duration": 8,
    "start_time": "2023-09-05T12:10:54.743Z"
   },
   {
    "duration": 24,
    "start_time": "2023-09-05T12:10:54.752Z"
   },
   {
    "duration": 9,
    "start_time": "2023-09-05T12:10:54.779Z"
   },
   {
    "duration": 46,
    "start_time": "2023-09-05T12:10:54.790Z"
   },
   {
    "duration": 41,
    "start_time": "2023-09-05T12:10:54.838Z"
   },
   {
    "duration": 40,
    "start_time": "2023-09-05T12:10:54.880Z"
   },
   {
    "duration": 25,
    "start_time": "2023-09-05T12:10:54.922Z"
   },
   {
    "duration": 7,
    "start_time": "2023-09-05T12:10:54.948Z"
   },
   {
    "duration": 32,
    "start_time": "2023-09-05T12:10:54.956Z"
   },
   {
    "duration": 23,
    "start_time": "2023-09-05T12:10:54.990Z"
   },
   {
    "duration": 54,
    "start_time": "2023-09-05T12:10:55.015Z"
   },
   {
    "duration": 9,
    "start_time": "2023-09-05T12:10:55.070Z"
   },
   {
    "duration": 1750,
    "start_time": "2023-09-05T17:48:10.204Z"
   },
   {
    "duration": 182,
    "start_time": "2023-09-05T17:48:11.956Z"
   },
   {
    "duration": 14,
    "start_time": "2023-09-05T17:48:12.139Z"
   },
   {
    "duration": 18,
    "start_time": "2023-09-05T17:48:12.155Z"
   },
   {
    "duration": 6,
    "start_time": "2023-09-05T17:48:12.175Z"
   },
   {
    "duration": 18,
    "start_time": "2023-09-05T17:48:12.183Z"
   },
   {
    "duration": 32,
    "start_time": "2023-09-05T17:48:12.203Z"
   },
   {
    "duration": 7,
    "start_time": "2023-09-05T17:48:12.237Z"
   },
   {
    "duration": 11,
    "start_time": "2023-09-05T17:48:12.246Z"
   },
   {
    "duration": 5,
    "start_time": "2023-09-05T17:48:12.261Z"
   },
   {
    "duration": 40,
    "start_time": "2023-09-05T17:48:12.268Z"
   },
   {
    "duration": 4,
    "start_time": "2023-09-05T17:48:12.310Z"
   },
   {
    "duration": 11,
    "start_time": "2023-09-05T17:48:12.333Z"
   },
   {
    "duration": 17,
    "start_time": "2023-09-05T17:48:12.345Z"
   },
   {
    "duration": 44,
    "start_time": "2023-09-05T17:48:12.364Z"
   },
   {
    "duration": 46,
    "start_time": "2023-09-05T17:48:12.409Z"
   },
   {
    "duration": 37,
    "start_time": "2023-09-05T17:48:12.457Z"
   },
   {
    "duration": 5,
    "start_time": "2023-09-05T17:48:12.496Z"
   },
   {
    "duration": 35,
    "start_time": "2023-09-05T17:48:12.502Z"
   },
   {
    "duration": 16,
    "start_time": "2023-09-05T17:48:12.539Z"
   },
   {
    "duration": 8,
    "start_time": "2023-09-05T17:48:12.557Z"
   },
   {
    "duration": 44,
    "start_time": "2023-09-05T17:48:12.566Z"
   },
   {
    "duration": 8,
    "start_time": "2023-09-05T17:48:12.612Z"
   },
   {
    "duration": 13,
    "start_time": "2023-09-05T23:12:22.374Z"
   },
   {
    "duration": 1527,
    "start_time": "2023-09-05T23:12:33.758Z"
   },
   {
    "duration": 10,
    "start_time": "2023-09-05T23:12:53.078Z"
   },
   {
    "duration": 7,
    "start_time": "2023-09-05T23:13:05.042Z"
   },
   {
    "duration": 2304,
    "start_time": "2023-09-05T23:13:27.643Z"
   },
   {
    "duration": 2025,
    "start_time": "2023-09-05T23:15:22.247Z"
   },
   {
    "duration": 22,
    "start_time": "2023-09-05T23:15:48.755Z"
   },
   {
    "duration": 139,
    "start_time": "2023-09-05T23:38:28.442Z"
   },
   {
    "duration": 111,
    "start_time": "2023-09-05T23:38:35.241Z"
   },
   {
    "duration": 194,
    "start_time": "2023-09-05T23:39:16.119Z"
   },
   {
    "duration": 12600,
    "start_time": "2023-09-05T23:41:15.062Z"
   },
   {
    "duration": 118,
    "start_time": "2023-09-05T23:47:47.324Z"
   },
   {
    "duration": 286,
    "start_time": "2023-09-05T23:48:14.002Z"
   },
   {
    "duration": 273,
    "start_time": "2023-09-05T23:48:22.721Z"
   },
   {
    "duration": 258,
    "start_time": "2023-09-05T23:49:00.552Z"
   },
   {
    "duration": 1542,
    "start_time": "2023-09-05T23:49:15.557Z"
   },
   {
    "duration": 120,
    "start_time": "2023-09-05T23:50:58.161Z"
   },
   {
    "duration": 130,
    "start_time": "2023-09-05T23:53:25.942Z"
   },
   {
    "duration": 122,
    "start_time": "2023-09-05T23:54:09.729Z"
   },
   {
    "duration": 245,
    "start_time": "2023-09-05T23:55:27.768Z"
   },
   {
    "duration": 279,
    "start_time": "2023-09-05T23:55:34.393Z"
   },
   {
    "duration": 252,
    "start_time": "2023-09-05T23:55:39.349Z"
   },
   {
    "duration": 341,
    "start_time": "2023-09-05T23:55:43.693Z"
   },
   {
    "duration": 127,
    "start_time": "2023-09-05T23:56:14.726Z"
   },
   {
    "duration": 263,
    "start_time": "2023-09-05T23:59:47.866Z"
   },
   {
    "duration": 267,
    "start_time": "2023-09-06T00:04:49.101Z"
   },
   {
    "duration": 266,
    "start_time": "2023-09-06T00:06:21.556Z"
   },
   {
    "duration": 268,
    "start_time": "2023-09-06T00:06:26.414Z"
   },
   {
    "duration": 361,
    "start_time": "2023-09-06T00:06:53.673Z"
   },
   {
    "duration": 274,
    "start_time": "2023-09-06T00:13:05.644Z"
   },
   {
    "duration": 312,
    "start_time": "2023-09-06T00:13:22.692Z"
   },
   {
    "duration": 283,
    "start_time": "2023-09-06T00:14:51.836Z"
   },
   {
    "duration": 291,
    "start_time": "2023-09-06T00:15:07.202Z"
   },
   {
    "duration": 229,
    "start_time": "2023-09-06T00:15:27.427Z"
   },
   {
    "duration": 379,
    "start_time": "2023-09-06T00:15:32.249Z"
   },
   {
    "duration": 91,
    "start_time": "2023-09-06T00:17:09.421Z"
   },
   {
    "duration": 22421,
    "start_time": "2023-09-06T00:17:17.128Z"
   },
   {
    "duration": 10,
    "start_time": "2023-09-06T00:18:26.464Z"
   },
   {
    "duration": 244,
    "start_time": "2023-09-06T00:18:32.045Z"
   },
   {
    "duration": 250,
    "start_time": "2023-09-06T00:18:35.707Z"
   },
   {
    "duration": 28542,
    "start_time": "2023-09-06T00:18:51.561Z"
   },
   {
    "duration": 27970,
    "start_time": "2023-09-06T00:19:38.465Z"
   },
   {
    "duration": 5,
    "start_time": "2023-09-06T00:21:04.814Z"
   },
   {
    "duration": 3830,
    "start_time": "2023-09-06T00:21:14.899Z"
   },
   {
    "duration": 6,
    "start_time": "2023-09-06T00:24:00.821Z"
   },
   {
    "duration": 11331,
    "start_time": "2023-09-06T00:24:01.941Z"
   },
   {
    "duration": 5,
    "start_time": "2023-09-06T00:24:26.680Z"
   },
   {
    "duration": 9779,
    "start_time": "2023-09-06T00:24:28.249Z"
   },
   {
    "duration": 5,
    "start_time": "2023-09-06T00:24:40.804Z"
   },
   {
    "duration": 10375,
    "start_time": "2023-09-06T00:24:41.044Z"
   },
   {
    "duration": 167,
    "start_time": "2023-09-06T00:26:38.294Z"
   },
   {
    "duration": 171,
    "start_time": "2023-09-06T00:26:48.099Z"
   },
   {
    "duration": 183,
    "start_time": "2023-09-06T00:27:00.017Z"
   },
   {
    "duration": 175,
    "start_time": "2023-09-06T00:27:17.007Z"
   },
   {
    "duration": 5,
    "start_time": "2023-09-06T00:29:23.221Z"
   },
   {
    "duration": 5,
    "start_time": "2023-09-06T00:30:58.279Z"
   },
   {
    "duration": 3,
    "start_time": "2023-09-06T00:30:58.918Z"
   },
   {
    "duration": 2664,
    "start_time": "2023-09-06T00:30:59.378Z"
   },
   {
    "duration": 5,
    "start_time": "2023-09-06T00:31:28.836Z"
   },
   {
    "duration": 4,
    "start_time": "2023-09-06T00:31:29.267Z"
   },
   {
    "duration": 2249,
    "start_time": "2023-09-06T00:31:29.506Z"
   },
   {
    "duration": 5,
    "start_time": "2023-09-06T00:32:51.339Z"
   },
   {
    "duration": 4,
    "start_time": "2023-09-06T00:32:51.366Z"
   },
   {
    "duration": 2608,
    "start_time": "2023-09-06T00:32:51.371Z"
   },
   {
    "duration": 187,
    "start_time": "2023-09-06T00:34:01.381Z"
   },
   {
    "duration": 289,
    "start_time": "2023-09-06T00:34:43.503Z"
   },
   {
    "duration": 174,
    "start_time": "2023-09-06T00:34:51.247Z"
   },
   {
    "duration": 280,
    "start_time": "2023-09-06T00:34:57.133Z"
   },
   {
    "duration": 303,
    "start_time": "2023-09-06T00:35:15.023Z"
   },
   {
    "duration": 357,
    "start_time": "2023-09-06T00:35:18.298Z"
   },
   {
    "duration": 242,
    "start_time": "2023-09-06T00:35:28.118Z"
   },
   {
    "duration": 192,
    "start_time": "2023-09-06T00:35:33.302Z"
   },
   {
    "duration": 287,
    "start_time": "2023-09-06T00:36:30.826Z"
   },
   {
    "duration": 291,
    "start_time": "2023-09-06T00:37:03.490Z"
   },
   {
    "duration": 291,
    "start_time": "2023-09-06T00:37:08.506Z"
   },
   {
    "duration": 286,
    "start_time": "2023-09-06T00:37:58.660Z"
   },
   {
    "duration": 302,
    "start_time": "2023-09-06T00:38:05.937Z"
   },
   {
    "duration": 281,
    "start_time": "2023-09-06T00:38:11.583Z"
   },
   {
    "duration": 304,
    "start_time": "2023-09-06T00:38:22.030Z"
   },
   {
    "duration": 293,
    "start_time": "2023-09-06T00:38:27.856Z"
   },
   {
    "duration": 281,
    "start_time": "2023-09-06T00:38:38.044Z"
   },
   {
    "duration": 288,
    "start_time": "2023-09-06T00:38:42.339Z"
   },
   {
    "duration": 278,
    "start_time": "2023-09-06T00:38:48.841Z"
   },
   {
    "duration": 292,
    "start_time": "2023-09-06T00:38:55.926Z"
   },
   {
    "duration": 283,
    "start_time": "2023-09-06T00:38:58.941Z"
   },
   {
    "duration": 4,
    "start_time": "2023-09-06T00:39:46.506Z"
   },
   {
    "duration": 410,
    "start_time": "2023-09-06T00:39:51.917Z"
   },
   {
    "duration": 2886,
    "start_time": "2023-09-06T00:42:15.243Z"
   },
   {
    "duration": 423,
    "start_time": "2023-09-06T00:42:22.728Z"
   },
   {
    "duration": 443,
    "start_time": "2023-09-06T00:43:08.116Z"
   },
   {
    "duration": 378,
    "start_time": "2023-09-06T00:43:52.162Z"
   },
   {
    "duration": 566,
    "start_time": "2023-09-06T00:44:02.227Z"
   },
   {
    "duration": 561,
    "start_time": "2023-09-06T00:44:09.350Z"
   },
   {
    "duration": 538,
    "start_time": "2023-09-06T00:44:16.340Z"
   },
   {
    "duration": 508,
    "start_time": "2023-09-06T00:44:25.046Z"
   },
   {
    "duration": 483,
    "start_time": "2023-09-06T00:44:31.173Z"
   },
   {
    "duration": 476,
    "start_time": "2023-09-06T00:44:37.606Z"
   },
   {
    "duration": 477,
    "start_time": "2023-09-06T00:45:40.230Z"
   },
   {
    "duration": 423,
    "start_time": "2023-09-06T00:46:12.909Z"
   },
   {
    "duration": 1495,
    "start_time": "2023-09-06T00:46:21.598Z"
   },
   {
    "duration": 85,
    "start_time": "2023-09-06T00:46:23.095Z"
   },
   {
    "duration": 12,
    "start_time": "2023-09-06T00:46:23.182Z"
   },
   {
    "duration": 27,
    "start_time": "2023-09-06T00:46:23.195Z"
   },
   {
    "duration": 2,
    "start_time": "2023-09-06T00:46:23.224Z"
   },
   {
    "duration": 19,
    "start_time": "2023-09-06T00:46:23.228Z"
   },
   {
    "duration": 10,
    "start_time": "2023-09-06T00:46:23.248Z"
   },
   {
    "duration": 5,
    "start_time": "2023-09-06T00:46:23.259Z"
   },
   {
    "duration": 7,
    "start_time": "2023-09-06T00:46:23.265Z"
   },
   {
    "duration": 4,
    "start_time": "2023-09-06T00:46:23.273Z"
   },
   {
    "duration": 30,
    "start_time": "2023-09-06T00:46:23.278Z"
   },
   {
    "duration": 4,
    "start_time": "2023-09-06T00:46:23.334Z"
   },
   {
    "duration": 12,
    "start_time": "2023-09-06T00:46:23.340Z"
   },
   {
    "duration": 5,
    "start_time": "2023-09-06T00:46:23.355Z"
   },
   {
    "duration": 33,
    "start_time": "2023-09-06T00:46:23.361Z"
   },
   {
    "duration": 62,
    "start_time": "2023-09-06T00:46:23.395Z"
   },
   {
    "duration": 34,
    "start_time": "2023-09-06T00:46:23.458Z"
   },
   {
    "duration": 4,
    "start_time": "2023-09-06T00:46:23.494Z"
   },
   {
    "duration": 7,
    "start_time": "2023-09-06T00:46:23.500Z"
   },
   {
    "duration": 29,
    "start_time": "2023-09-06T00:46:23.508Z"
   },
   {
    "duration": 5,
    "start_time": "2023-09-06T00:46:23.538Z"
   },
   {
    "duration": 34,
    "start_time": "2023-09-06T00:46:23.545Z"
   },
   {
    "duration": 22,
    "start_time": "2023-09-06T00:46:23.581Z"
   },
   {
    "duration": 319,
    "start_time": "2023-09-06T00:46:23.605Z"
   },
   {
    "duration": 12,
    "start_time": "2023-09-06T00:46:23.926Z"
   },
   {
    "duration": 393,
    "start_time": "2023-09-06T00:46:52.328Z"
   },
   {
    "duration": 339,
    "start_time": "2023-09-06T00:46:58.005Z"
   },
   {
    "duration": 330,
    "start_time": "2023-09-06T00:47:04.593Z"
   },
   {
    "duration": 3,
    "start_time": "2023-09-06T00:47:21.020Z"
   },
   {
    "duration": 328,
    "start_time": "2023-09-06T00:47:21.710Z"
   },
   {
    "duration": 322,
    "start_time": "2023-09-06T00:48:21.575Z"
   },
   {
    "duration": 321,
    "start_time": "2023-09-06T00:48:59.028Z"
   },
   {
    "duration": 404,
    "start_time": "2023-09-06T00:49:05.726Z"
   },
   {
    "duration": 271,
    "start_time": "2023-09-06T00:50:18.625Z"
   },
   {
    "duration": 322,
    "start_time": "2023-09-06T00:53:42.361Z"
   },
   {
    "duration": 267,
    "start_time": "2023-09-06T00:54:06.763Z"
   },
   {
    "duration": 284,
    "start_time": "2023-09-06T00:54:28.011Z"
   },
   {
    "duration": 296,
    "start_time": "2023-09-06T00:54:32.452Z"
   },
   {
    "duration": 289,
    "start_time": "2023-09-06T00:54:42.350Z"
   },
   {
    "duration": 425,
    "start_time": "2023-09-06T00:54:43.537Z"
   },
   {
    "duration": 325,
    "start_time": "2023-09-06T00:55:01.335Z"
   },
   {
    "duration": 233,
    "start_time": "2023-09-06T00:56:12.430Z"
   },
   {
    "duration": 325,
    "start_time": "2023-09-06T00:56:20.876Z"
   },
   {
    "duration": 340,
    "start_time": "2023-09-06T00:57:11.251Z"
   },
   {
    "duration": 333,
    "start_time": "2023-09-06T00:57:38.096Z"
   },
   {
    "duration": 350,
    "start_time": "2023-09-06T00:57:54.346Z"
   },
   {
    "duration": 478,
    "start_time": "2023-09-06T00:58:15.009Z"
   },
   {
    "duration": 311,
    "start_time": "2023-09-06T00:58:26.988Z"
   },
   {
    "duration": 190,
    "start_time": "2023-09-06T01:00:25.331Z"
   },
   {
    "duration": 185,
    "start_time": "2023-09-06T01:00:35.170Z"
   },
   {
    "duration": 153,
    "start_time": "2023-09-06T01:00:42.355Z"
   },
   {
    "duration": 0,
    "start_time": "2023-09-06T01:02:04.738Z"
   },
   {
    "duration": 1493,
    "start_time": "2023-09-06T01:02:24.439Z"
   },
   {
    "duration": 197,
    "start_time": "2023-09-06T01:02:25.934Z"
   },
   {
    "duration": 12,
    "start_time": "2023-09-06T01:02:26.132Z"
   },
   {
    "duration": 42,
    "start_time": "2023-09-06T01:02:26.145Z"
   },
   {
    "duration": 4,
    "start_time": "2023-09-06T01:02:26.189Z"
   },
   {
    "duration": 25,
    "start_time": "2023-09-06T01:02:26.194Z"
   },
   {
    "duration": 24,
    "start_time": "2023-09-06T01:02:26.221Z"
   },
   {
    "duration": 5,
    "start_time": "2023-09-06T01:02:26.246Z"
   },
   {
    "duration": 15,
    "start_time": "2023-09-06T01:02:26.252Z"
   },
   {
    "duration": 19,
    "start_time": "2023-09-06T01:02:26.268Z"
   },
   {
    "duration": 37,
    "start_time": "2023-09-06T01:02:26.288Z"
   },
   {
    "duration": 7,
    "start_time": "2023-09-06T01:02:26.326Z"
   },
   {
    "duration": 24,
    "start_time": "2023-09-06T01:02:26.335Z"
   },
   {
    "duration": 5,
    "start_time": "2023-09-06T01:02:26.362Z"
   },
   {
    "duration": 61,
    "start_time": "2023-09-06T01:02:26.368Z"
   },
   {
    "duration": 34,
    "start_time": "2023-09-06T01:02:26.430Z"
   },
   {
    "duration": 33,
    "start_time": "2023-09-06T01:02:26.466Z"
   },
   {
    "duration": 4,
    "start_time": "2023-09-06T01:02:26.501Z"
   },
   {
    "duration": 28,
    "start_time": "2023-09-06T01:02:26.507Z"
   },
   {
    "duration": 8,
    "start_time": "2023-09-06T01:02:26.536Z"
   },
   {
    "duration": 6,
    "start_time": "2023-09-06T01:02:26.545Z"
   },
   {
    "duration": 34,
    "start_time": "2023-09-06T01:02:26.553Z"
   },
   {
    "duration": 51,
    "start_time": "2023-09-06T01:02:26.589Z"
   },
   {
    "duration": 3,
    "start_time": "2023-09-06T01:02:26.642Z"
   },
   {
    "duration": 361,
    "start_time": "2023-09-06T01:02:26.646Z"
   },
   {
    "duration": 399,
    "start_time": "2023-09-06T01:02:27.009Z"
   },
   {
    "duration": 1533,
    "start_time": "2023-09-06T01:03:08.440Z"
   },
   {
    "duration": 199,
    "start_time": "2023-09-06T01:03:09.975Z"
   },
   {
    "duration": 14,
    "start_time": "2023-09-06T01:03:10.176Z"
   },
   {
    "duration": 29,
    "start_time": "2023-09-06T01:03:10.192Z"
   },
   {
    "duration": 3,
    "start_time": "2023-09-06T01:03:10.224Z"
   },
   {
    "duration": 28,
    "start_time": "2023-09-06T01:03:10.228Z"
   },
   {
    "duration": 20,
    "start_time": "2023-09-06T01:03:10.258Z"
   },
   {
    "duration": 5,
    "start_time": "2023-09-06T01:03:10.279Z"
   },
   {
    "duration": 25,
    "start_time": "2023-09-06T01:03:10.285Z"
   },
   {
    "duration": 15,
    "start_time": "2023-09-06T01:03:10.312Z"
   },
   {
    "duration": 43,
    "start_time": "2023-09-06T01:03:10.328Z"
   },
   {
    "duration": 4,
    "start_time": "2023-09-06T01:03:10.372Z"
   },
   {
    "duration": 22,
    "start_time": "2023-09-06T01:03:10.378Z"
   },
   {
    "duration": 14,
    "start_time": "2023-09-06T01:03:10.402Z"
   },
   {
    "duration": 47,
    "start_time": "2023-09-06T01:03:10.418Z"
   },
   {
    "duration": 38,
    "start_time": "2023-09-06T01:03:10.467Z"
   },
   {
    "duration": 48,
    "start_time": "2023-09-06T01:03:10.507Z"
   },
   {
    "duration": 5,
    "start_time": "2023-09-06T01:03:10.557Z"
   },
   {
    "duration": 34,
    "start_time": "2023-09-06T01:03:10.563Z"
   },
   {
    "duration": 34,
    "start_time": "2023-09-06T01:03:10.598Z"
   },
   {
    "duration": 34,
    "start_time": "2023-09-06T01:03:10.633Z"
   },
   {
    "duration": 62,
    "start_time": "2023-09-06T01:03:10.668Z"
   },
   {
    "duration": 26,
    "start_time": "2023-09-06T01:03:10.732Z"
   },
   {
    "duration": 3,
    "start_time": "2023-09-06T01:03:10.759Z"
   },
   {
    "duration": 345,
    "start_time": "2023-09-06T01:03:10.764Z"
   },
   {
    "duration": 392,
    "start_time": "2023-09-06T01:03:11.111Z"
   },
   {
    "duration": 5773,
    "start_time": "2023-09-06T01:03:11.505Z"
   },
   {
    "duration": 353,
    "start_time": "2023-09-06T01:03:17.279Z"
   },
   {
    "duration": 8,
    "start_time": "2023-09-06T01:03:17.633Z"
   },
   {
    "duration": 234,
    "start_time": "2023-09-06T01:05:05.954Z"
   },
   {
    "duration": 281,
    "start_time": "2023-09-06T01:05:10.944Z"
   },
   {
    "duration": 241,
    "start_time": "2023-09-06T01:05:21.618Z"
   },
   {
    "duration": 248,
    "start_time": "2023-09-06T01:05:41.320Z"
   },
   {
    "duration": 335,
    "start_time": "2023-09-06T01:08:10.239Z"
   },
   {
    "duration": 626,
    "start_time": "2023-09-06T01:08:10.576Z"
   },
   {
    "duration": 0,
    "start_time": "2023-09-06T01:09:01.250Z"
   },
   {
    "duration": 20600,
    "start_time": "2023-09-06T01:09:07.087Z"
   },
   {
    "duration": 647,
    "start_time": "2023-09-06T01:09:33.868Z"
   },
   {
    "duration": 333,
    "start_time": "2023-09-06T01:10:04.850Z"
   },
   {
    "duration": 620,
    "start_time": "2023-09-06T01:10:10.518Z"
   },
   {
    "duration": 3,
    "start_time": "2023-09-06T01:11:16.082Z"
   },
   {
    "duration": 330,
    "start_time": "2023-09-06T01:11:18.110Z"
   },
   {
    "duration": 316,
    "start_time": "2023-09-06T01:11:25.639Z"
   },
   {
    "duration": 241,
    "start_time": "2023-09-06T01:11:28.010Z"
   },
   {
    "duration": 9794,
    "start_time": "2023-09-06T01:11:29.919Z"
   },
   {
    "duration": 652,
    "start_time": "2023-09-06T01:11:39.716Z"
   },
   {
    "duration": 4,
    "start_time": "2023-09-06T01:12:02.456Z"
   },
   {
    "duration": 509,
    "start_time": "2023-09-06T01:12:02.773Z"
   },
   {
    "duration": 3,
    "start_time": "2023-09-06T01:12:08.520Z"
   },
   {
    "duration": 456,
    "start_time": "2023-09-06T01:12:08.942Z"
   },
   {
    "duration": 1487,
    "start_time": "2023-09-06T01:12:18.781Z"
   },
   {
    "duration": 178,
    "start_time": "2023-09-06T01:12:20.270Z"
   },
   {
    "duration": 13,
    "start_time": "2023-09-06T01:12:20.449Z"
   },
   {
    "duration": 28,
    "start_time": "2023-09-06T01:12:20.465Z"
   },
   {
    "duration": 5,
    "start_time": "2023-09-06T01:12:20.494Z"
   },
   {
    "duration": 26,
    "start_time": "2023-09-06T01:12:20.500Z"
   },
   {
    "duration": 12,
    "start_time": "2023-09-06T01:12:20.528Z"
   },
   {
    "duration": 5,
    "start_time": "2023-09-06T01:12:20.541Z"
   },
   {
    "duration": 8,
    "start_time": "2023-09-06T01:12:20.548Z"
   },
   {
    "duration": 20,
    "start_time": "2023-09-06T01:12:20.558Z"
   },
   {
    "duration": 32,
    "start_time": "2023-09-06T01:12:20.580Z"
   },
   {
    "duration": 4,
    "start_time": "2023-09-06T01:12:20.613Z"
   },
   {
    "duration": 18,
    "start_time": "2023-09-06T01:12:20.618Z"
   },
   {
    "duration": 7,
    "start_time": "2023-09-06T01:12:20.638Z"
   },
   {
    "duration": 49,
    "start_time": "2023-09-06T01:12:20.646Z"
   },
   {
    "duration": 37,
    "start_time": "2023-09-06T01:12:20.696Z"
   },
   {
    "duration": 36,
    "start_time": "2023-09-06T01:12:20.734Z"
   },
   {
    "duration": 5,
    "start_time": "2023-09-06T01:12:20.771Z"
   },
   {
    "duration": 29,
    "start_time": "2023-09-06T01:12:20.778Z"
   },
   {
    "duration": 19,
    "start_time": "2023-09-06T01:12:20.809Z"
   },
   {
    "duration": 29,
    "start_time": "2023-09-06T01:12:20.830Z"
   },
   {
    "duration": 57,
    "start_time": "2023-09-06T01:12:20.861Z"
   },
   {
    "duration": 23,
    "start_time": "2023-09-06T01:12:20.920Z"
   },
   {
    "duration": 3,
    "start_time": "2023-09-06T01:12:20.944Z"
   },
   {
    "duration": 360,
    "start_time": "2023-09-06T01:12:20.949Z"
   },
   {
    "duration": 410,
    "start_time": "2023-09-06T01:12:21.310Z"
   },
   {
    "duration": 261,
    "start_time": "2023-09-06T01:12:21.721Z"
   },
   {
    "duration": 5711,
    "start_time": "2023-09-06T01:12:21.985Z"
   },
   {
    "duration": 361,
    "start_time": "2023-09-06T01:12:27.698Z"
   },
   {
    "duration": 1009,
    "start_time": "2023-09-06T01:12:28.061Z"
   },
   {
    "duration": 8,
    "start_time": "2023-09-06T01:12:29.072Z"
   },
   {
    "duration": 379,
    "start_time": "2023-09-06T01:13:49.726Z"
   },
   {
    "duration": 425,
    "start_time": "2023-09-06T01:14:01.812Z"
   },
   {
    "duration": 492,
    "start_time": "2023-09-06T01:14:04.828Z"
   },
   {
    "duration": 902,
    "start_time": "2023-09-06T01:14:08.517Z"
   },
   {
    "duration": 431,
    "start_time": "2023-09-06T01:14:15.844Z"
   },
   {
    "duration": 658,
    "start_time": "2023-09-06T01:15:02.015Z"
   },
   {
    "duration": 745,
    "start_time": "2023-09-06T01:15:05.229Z"
   },
   {
    "duration": 245,
    "start_time": "2023-09-06T01:16:40.221Z"
   },
   {
    "duration": 143,
    "start_time": "2023-09-06T01:16:51.142Z"
   },
   {
    "duration": 162,
    "start_time": "2023-09-06T01:16:57.492Z"
   },
   {
    "duration": 135,
    "start_time": "2023-09-06T01:17:05.237Z"
   },
   {
    "duration": 146,
    "start_time": "2023-09-06T01:17:20.801Z"
   },
   {
    "duration": 149,
    "start_time": "2023-09-06T01:17:27.251Z"
   },
   {
    "duration": 233,
    "start_time": "2023-09-06T01:17:39.283Z"
   },
   {
    "duration": 138,
    "start_time": "2023-09-06T01:17:39.530Z"
   },
   {
    "duration": 135,
    "start_time": "2023-09-06T01:17:39.837Z"
   },
   {
    "duration": 144,
    "start_time": "2023-09-06T01:17:40.226Z"
   },
   {
    "duration": 145,
    "start_time": "2023-09-06T01:17:40.738Z"
   },
   {
    "duration": 16,
    "start_time": "2023-09-06T01:19:26.884Z"
   },
   {
    "duration": 728,
    "start_time": "2023-09-06T01:19:54.965Z"
   },
   {
    "duration": 151,
    "start_time": "2023-09-06T01:21:15.023Z"
   },
   {
    "duration": 878,
    "start_time": "2023-09-06T01:21:23.497Z"
   },
   {
    "duration": 938,
    "start_time": "2023-09-06T01:21:35.155Z"
   },
   {
    "duration": 895,
    "start_time": "2023-09-06T01:21:54.419Z"
   },
   {
    "duration": 273,
    "start_time": "2023-09-06T01:23:04.295Z"
   },
   {
    "duration": 870,
    "start_time": "2023-09-06T01:23:18.100Z"
   },
   {
    "duration": 890,
    "start_time": "2023-09-06T01:23:22.325Z"
   },
   {
    "duration": 904,
    "start_time": "2023-09-06T01:23:26.025Z"
   },
   {
    "duration": 1794,
    "start_time": "2023-09-06T14:26:44.567Z"
   },
   {
    "duration": 134,
    "start_time": "2023-09-06T14:26:46.363Z"
   },
   {
    "duration": 16,
    "start_time": "2023-09-06T14:26:46.498Z"
   },
   {
    "duration": 22,
    "start_time": "2023-09-06T14:26:46.516Z"
   },
   {
    "duration": 3,
    "start_time": "2023-09-06T14:26:46.541Z"
   },
   {
    "duration": 19,
    "start_time": "2023-09-06T14:26:46.545Z"
   },
   {
    "duration": 11,
    "start_time": "2023-09-06T14:26:46.566Z"
   },
   {
    "duration": 4,
    "start_time": "2023-09-06T14:26:46.579Z"
   },
   {
    "duration": 12,
    "start_time": "2023-09-06T14:26:46.585Z"
   },
   {
    "duration": 5,
    "start_time": "2023-09-06T14:26:46.599Z"
   },
   {
    "duration": 57,
    "start_time": "2023-09-06T14:26:46.605Z"
   },
   {
    "duration": 4,
    "start_time": "2023-09-06T14:26:46.664Z"
   },
   {
    "duration": 10,
    "start_time": "2023-09-06T14:26:46.670Z"
   },
   {
    "duration": 5,
    "start_time": "2023-09-06T14:26:46.683Z"
   },
   {
    "duration": 64,
    "start_time": "2023-09-06T14:26:46.690Z"
   },
   {
    "duration": 38,
    "start_time": "2023-09-06T14:26:46.756Z"
   },
   {
    "duration": 55,
    "start_time": "2023-09-06T14:26:46.795Z"
   },
   {
    "duration": 6,
    "start_time": "2023-09-06T14:26:46.851Z"
   },
   {
    "duration": 22,
    "start_time": "2023-09-06T14:26:46.858Z"
   },
   {
    "duration": 6,
    "start_time": "2023-09-06T14:26:46.882Z"
   },
   {
    "duration": 6,
    "start_time": "2023-09-06T14:26:46.890Z"
   },
   {
    "duration": 50,
    "start_time": "2023-09-06T14:26:46.898Z"
   },
   {
    "duration": 32,
    "start_time": "2023-09-06T14:26:46.950Z"
   },
   {
    "duration": 3,
    "start_time": "2023-09-06T14:26:46.984Z"
   },
   {
    "duration": 879,
    "start_time": "2023-09-06T14:26:46.988Z"
   },
   {
    "duration": 449,
    "start_time": "2023-09-06T14:26:47.868Z"
   },
   {
    "duration": 268,
    "start_time": "2023-09-06T14:26:48.318Z"
   },
   {
    "duration": 5952,
    "start_time": "2023-09-06T14:26:48.587Z"
   },
   {
    "duration": 648,
    "start_time": "2023-09-06T14:26:54.541Z"
   },
   {
    "duration": 671,
    "start_time": "2023-09-06T14:26:55.191Z"
   },
   {
    "duration": 167,
    "start_time": "2023-09-06T14:26:55.864Z"
   },
   {
    "duration": 156,
    "start_time": "2023-09-06T14:26:56.032Z"
   },
   {
    "duration": 171,
    "start_time": "2023-09-06T14:26:56.189Z"
   },
   {
    "duration": 159,
    "start_time": "2023-09-06T14:26:56.362Z"
   },
   {
    "duration": 1135,
    "start_time": "2023-09-06T14:26:56.523Z"
   },
   {
    "duration": 8,
    "start_time": "2023-09-06T14:26:57.659Z"
   },
   {
    "duration": 1544,
    "start_time": "2023-09-06T17:06:47.469Z"
   },
   {
    "duration": 97,
    "start_time": "2023-09-06T17:06:49.015Z"
   },
   {
    "duration": 13,
    "start_time": "2023-09-06T17:06:49.114Z"
   },
   {
    "duration": 19,
    "start_time": "2023-09-06T17:06:49.129Z"
   },
   {
    "duration": 3,
    "start_time": "2023-09-06T17:06:49.150Z"
   },
   {
    "duration": 15,
    "start_time": "2023-09-06T17:06:49.155Z"
   },
   {
    "duration": 13,
    "start_time": "2023-09-06T17:06:49.171Z"
   },
   {
    "duration": 4,
    "start_time": "2023-09-06T17:06:49.186Z"
   },
   {
    "duration": 9,
    "start_time": "2023-09-06T17:06:49.192Z"
   },
   {
    "duration": 4,
    "start_time": "2023-09-06T17:06:49.203Z"
   },
   {
    "duration": 66,
    "start_time": "2023-09-06T17:06:49.208Z"
   },
   {
    "duration": 4,
    "start_time": "2023-09-06T17:06:49.276Z"
   },
   {
    "duration": 17,
    "start_time": "2023-09-06T17:06:49.281Z"
   },
   {
    "duration": 9,
    "start_time": "2023-09-06T17:06:49.301Z"
   },
   {
    "duration": 61,
    "start_time": "2023-09-06T17:06:49.311Z"
   },
   {
    "duration": 40,
    "start_time": "2023-09-06T17:06:49.374Z"
   },
   {
    "duration": 50,
    "start_time": "2023-09-06T17:06:49.416Z"
   },
   {
    "duration": 5,
    "start_time": "2023-09-06T17:06:49.468Z"
   },
   {
    "duration": 8,
    "start_time": "2023-09-06T17:06:49.474Z"
   },
   {
    "duration": 6,
    "start_time": "2023-09-06T17:06:49.484Z"
   },
   {
    "duration": 9,
    "start_time": "2023-09-06T17:06:49.491Z"
   },
   {
    "duration": 70,
    "start_time": "2023-09-06T17:06:49.501Z"
   },
   {
    "duration": 26,
    "start_time": "2023-09-06T17:06:49.573Z"
   },
   {
    "duration": 3,
    "start_time": "2023-09-06T17:06:49.600Z"
   },
   {
    "duration": 934,
    "start_time": "2023-09-06T17:06:49.605Z"
   },
   {
    "duration": 481,
    "start_time": "2023-09-06T17:06:50.543Z"
   },
   {
    "duration": 279,
    "start_time": "2023-09-06T17:06:51.026Z"
   },
   {
    "duration": 6050,
    "start_time": "2023-09-06T17:06:51.306Z"
   },
   {
    "duration": 674,
    "start_time": "2023-09-06T17:06:57.358Z"
   },
   {
    "duration": 676,
    "start_time": "2023-09-06T17:06:58.033Z"
   },
   {
    "duration": 162,
    "start_time": "2023-09-06T17:06:58.711Z"
   },
   {
    "duration": 148,
    "start_time": "2023-09-06T17:06:58.874Z"
   },
   {
    "duration": 164,
    "start_time": "2023-09-06T17:06:59.023Z"
   },
   {
    "duration": 166,
    "start_time": "2023-09-06T17:06:59.189Z"
   },
   {
    "duration": 1102,
    "start_time": "2023-09-06T17:06:59.356Z"
   },
   {
    "duration": 8,
    "start_time": "2023-09-06T17:07:00.459Z"
   },
   {
    "duration": 5353,
    "start_time": "2023-09-06T21:02:30.049Z"
   },
   {
    "duration": 5738,
    "start_time": "2023-09-06T21:02:53.818Z"
   },
   {
    "duration": 5471,
    "start_time": "2023-09-06T21:03:19.306Z"
   },
   {
    "duration": 5327,
    "start_time": "2023-09-06T21:05:03.589Z"
   },
   {
    "duration": 5908,
    "start_time": "2023-09-06T21:05:15.401Z"
   },
   {
    "duration": 5576,
    "start_time": "2023-09-06T21:09:13.541Z"
   },
   {
    "duration": 5448,
    "start_time": "2023-09-06T21:09:30.572Z"
   },
   {
    "duration": 5458,
    "start_time": "2023-09-06T21:09:46.072Z"
   },
   {
    "duration": 5383,
    "start_time": "2023-09-06T21:10:05.143Z"
   },
   {
    "duration": 5333,
    "start_time": "2023-09-06T21:10:19.354Z"
   },
   {
    "duration": 5467,
    "start_time": "2023-09-06T21:10:32.194Z"
   },
   {
    "duration": 5360,
    "start_time": "2023-09-06T21:10:49.810Z"
   },
   {
    "duration": 5338,
    "start_time": "2023-09-06T21:10:58.853Z"
   },
   {
    "duration": 5498,
    "start_time": "2023-09-06T21:11:35.794Z"
   },
   {
    "duration": 124,
    "start_time": "2023-09-06T21:14:24.366Z"
   },
   {
    "duration": 5312,
    "start_time": "2023-09-06T21:14:32.226Z"
   },
   {
    "duration": 873,
    "start_time": "2023-09-06T21:14:55.113Z"
   },
   {
    "duration": 605,
    "start_time": "2023-09-06T21:14:58.945Z"
   },
   {
    "duration": 770,
    "start_time": "2023-09-06T21:15:11.170Z"
   },
   {
    "duration": 718,
    "start_time": "2023-09-06T21:16:46.507Z"
   },
   {
    "duration": 874,
    "start_time": "2023-09-06T21:17:11.304Z"
   },
   {
    "duration": 785,
    "start_time": "2023-09-06T21:17:17.166Z"
   },
   {
    "duration": 412,
    "start_time": "2023-09-06T21:17:30.272Z"
   },
   {
    "duration": 2,
    "start_time": "2023-09-06T21:48:54.635Z"
   },
   {
    "duration": 801,
    "start_time": "2023-09-06T21:48:56.132Z"
   },
   {
    "duration": 5014,
    "start_time": "2023-09-06T21:49:01.131Z"
   },
   {
    "duration": 983,
    "start_time": "2023-09-06T21:50:50.285Z"
   },
   {
    "duration": 125,
    "start_time": "2023-09-06T21:50:54.983Z"
   },
   {
    "duration": 664,
    "start_time": "2023-09-06T21:50:58.104Z"
   },
   {
    "duration": 913,
    "start_time": "2023-09-06T21:51:11.257Z"
   },
   {
    "duration": 881,
    "start_time": "2023-09-06T23:13:56.056Z"
   },
   {
    "duration": 819,
    "start_time": "2023-09-06T23:14:07.186Z"
   },
   {
    "duration": 1019,
    "start_time": "2023-09-06T23:14:12.489Z"
   },
   {
    "duration": 987,
    "start_time": "2023-09-06T23:14:39.521Z"
   },
   {
    "duration": 944,
    "start_time": "2023-09-06T23:15:11.483Z"
   },
   {
    "duration": 850,
    "start_time": "2023-09-06T23:15:38.087Z"
   },
   {
    "duration": 399,
    "start_time": "2023-09-06T23:15:45.730Z"
   },
   {
    "duration": 851,
    "start_time": "2023-09-06T23:15:52.383Z"
   },
   {
    "duration": 898,
    "start_time": "2023-09-06T23:16:00.326Z"
   },
   {
    "duration": 923,
    "start_time": "2023-09-06T23:16:08.237Z"
   },
   {
    "duration": 975,
    "start_time": "2023-09-06T23:16:14.134Z"
   },
   {
    "duration": 853,
    "start_time": "2023-09-06T23:16:37.207Z"
   },
   {
    "duration": 871,
    "start_time": "2023-09-06T23:16:45.514Z"
   },
   {
    "duration": 14,
    "start_time": "2023-09-06T23:19:21.134Z"
   },
   {
    "duration": 10,
    "start_time": "2023-09-06T23:19:49.539Z"
   },
   {
    "duration": 14,
    "start_time": "2023-09-06T23:20:07.600Z"
   },
   {
    "duration": 17,
    "start_time": "2023-09-06T23:20:21.022Z"
   },
   {
    "duration": 1429,
    "start_time": "2023-09-06T23:20:38.198Z"
   },
   {
    "duration": 103,
    "start_time": "2023-09-06T23:20:39.628Z"
   },
   {
    "duration": 17,
    "start_time": "2023-09-06T23:20:39.733Z"
   },
   {
    "duration": 18,
    "start_time": "2023-09-06T23:20:39.757Z"
   },
   {
    "duration": 10,
    "start_time": "2023-09-06T23:20:39.777Z"
   },
   {
    "duration": 15,
    "start_time": "2023-09-06T23:20:39.788Z"
   },
   {
    "duration": 12,
    "start_time": "2023-09-06T23:20:39.804Z"
   },
   {
    "duration": 4,
    "start_time": "2023-09-06T23:20:39.817Z"
   },
   {
    "duration": 8,
    "start_time": "2023-09-06T23:20:39.823Z"
   },
   {
    "duration": 5,
    "start_time": "2023-09-06T23:20:39.845Z"
   },
   {
    "duration": 24,
    "start_time": "2023-09-06T23:20:39.852Z"
   },
   {
    "duration": 4,
    "start_time": "2023-09-06T23:20:39.877Z"
   },
   {
    "duration": 12,
    "start_time": "2023-09-06T23:20:39.882Z"
   },
   {
    "duration": 9,
    "start_time": "2023-09-06T23:20:39.896Z"
   },
   {
    "duration": 69,
    "start_time": "2023-09-06T23:20:39.906Z"
   },
   {
    "duration": 52,
    "start_time": "2023-09-06T23:20:39.977Z"
   },
   {
    "duration": 66,
    "start_time": "2023-09-06T23:20:40.030Z"
   },
   {
    "duration": 5,
    "start_time": "2023-09-06T23:20:40.098Z"
   },
   {
    "duration": 6,
    "start_time": "2023-09-06T23:20:40.105Z"
   },
   {
    "duration": 26,
    "start_time": "2023-09-06T23:20:40.113Z"
   },
   {
    "duration": 19,
    "start_time": "2023-09-06T23:20:40.140Z"
   },
   {
    "duration": 57,
    "start_time": "2023-09-06T23:20:40.161Z"
   },
   {
    "duration": 24,
    "start_time": "2023-09-06T23:20:40.219Z"
   },
   {
    "duration": 6,
    "start_time": "2023-09-06T23:20:40.252Z"
   },
   {
    "duration": 912,
    "start_time": "2023-09-06T23:20:40.260Z"
   },
   {
    "duration": 467,
    "start_time": "2023-09-06T23:20:41.174Z"
   },
   {
    "duration": 265,
    "start_time": "2023-09-06T23:20:41.648Z"
   },
   {
    "duration": 5344,
    "start_time": "2023-09-06T23:20:41.915Z"
   },
   {
    "duration": 322,
    "start_time": "2023-09-06T23:20:47.260Z"
   },
   {
    "duration": 878,
    "start_time": "2023-09-06T23:20:47.583Z"
   },
   {
    "duration": 157,
    "start_time": "2023-09-06T23:20:48.462Z"
   },
   {
    "duration": 141,
    "start_time": "2023-09-06T23:20:48.621Z"
   },
   {
    "duration": 135,
    "start_time": "2023-09-06T23:20:48.764Z"
   },
   {
    "duration": 159,
    "start_time": "2023-09-06T23:20:48.901Z"
   },
   {
    "duration": 13,
    "start_time": "2023-09-06T23:20:49.062Z"
   },
   {
    "duration": 1550,
    "start_time": "2023-09-06T23:20:49.076Z"
   },
   {
    "duration": 7,
    "start_time": "2023-09-06T23:20:50.628Z"
   },
   {
    "duration": 1396,
    "start_time": "2023-09-06T23:25:04.373Z"
   },
   {
    "duration": 1595,
    "start_time": "2023-09-06T23:25:19.387Z"
   },
   {
    "duration": 1432,
    "start_time": "2023-09-06T23:25:24.832Z"
   },
   {
    "duration": 1507,
    "start_time": "2023-09-06T23:25:35.053Z"
   },
   {
    "duration": 1602,
    "start_time": "2023-09-06T23:25:44.491Z"
   },
   {
    "duration": 1437,
    "start_time": "2023-09-06T23:25:55.452Z"
   },
   {
    "duration": 788,
    "start_time": "2023-09-06T23:27:10.861Z"
   },
   {
    "duration": 158,
    "start_time": "2023-09-06T23:27:43.820Z"
   },
   {
    "duration": 134,
    "start_time": "2023-09-06T23:27:53.124Z"
   },
   {
    "duration": 126,
    "start_time": "2023-09-06T23:28:21.325Z"
   },
   {
    "duration": 158,
    "start_time": "2023-09-06T23:28:37.451Z"
   },
   {
    "duration": 1429,
    "start_time": "2023-09-06T23:29:04.210Z"
   },
   {
    "duration": 199,
    "start_time": "2023-09-06T23:30:30.110Z"
   },
   {
    "duration": 167,
    "start_time": "2023-09-06T23:30:49.314Z"
   },
   {
    "duration": 273,
    "start_time": "2023-09-06T23:31:10.819Z"
   },
   {
    "duration": 136,
    "start_time": "2023-09-06T23:31:19.971Z"
   },
   {
    "duration": 142,
    "start_time": "2023-09-06T23:31:25.438Z"
   },
   {
    "duration": 130,
    "start_time": "2023-09-06T23:31:28.446Z"
   },
   {
    "duration": 131,
    "start_time": "2023-09-06T23:31:36.179Z"
   },
   {
    "duration": 147,
    "start_time": "2023-09-06T23:31:36.313Z"
   },
   {
    "duration": 186,
    "start_time": "2023-09-06T23:31:42.359Z"
   },
   {
    "duration": 191,
    "start_time": "2023-09-06T23:31:50.742Z"
   },
   {
    "duration": 149,
    "start_time": "2023-09-06T23:31:50.935Z"
   },
   {
    "duration": 129,
    "start_time": "2023-09-06T23:31:51.085Z"
   },
   {
    "duration": 130,
    "start_time": "2023-09-06T23:31:55.004Z"
   },
   {
    "duration": 133,
    "start_time": "2023-09-06T23:31:57.625Z"
   },
   {
    "duration": 167,
    "start_time": "2023-09-06T23:32:26.081Z"
   },
   {
    "duration": 275,
    "start_time": "2023-09-06T23:32:26.505Z"
   },
   {
    "duration": 1178,
    "start_time": "2023-09-06T23:49:05.558Z"
   },
   {
    "duration": 85,
    "start_time": "2023-09-06T23:49:06.738Z"
   },
   {
    "duration": 12,
    "start_time": "2023-09-06T23:49:06.824Z"
   },
   {
    "duration": 15,
    "start_time": "2023-09-06T23:49:06.838Z"
   },
   {
    "duration": 5,
    "start_time": "2023-09-06T23:49:06.854Z"
   },
   {
    "duration": 17,
    "start_time": "2023-09-06T23:49:06.860Z"
   },
   {
    "duration": 10,
    "start_time": "2023-09-06T23:49:06.879Z"
   },
   {
    "duration": 12,
    "start_time": "2023-09-06T23:49:06.891Z"
   },
   {
    "duration": 11,
    "start_time": "2023-09-06T23:49:06.904Z"
   },
   {
    "duration": 9,
    "start_time": "2023-09-06T23:49:06.918Z"
   },
   {
    "duration": 33,
    "start_time": "2023-09-06T23:49:06.929Z"
   },
   {
    "duration": 4,
    "start_time": "2023-09-06T23:49:06.963Z"
   },
   {
    "duration": 9,
    "start_time": "2023-09-06T23:49:06.969Z"
   },
   {
    "duration": 7,
    "start_time": "2023-09-06T23:49:06.980Z"
   },
   {
    "duration": 62,
    "start_time": "2023-09-06T23:49:06.988Z"
   },
   {
    "duration": 46,
    "start_time": "2023-09-06T23:49:07.052Z"
   },
   {
    "duration": 59,
    "start_time": "2023-09-06T23:49:07.100Z"
   },
   {
    "duration": 4,
    "start_time": "2023-09-06T23:49:07.160Z"
   },
   {
    "duration": 7,
    "start_time": "2023-09-06T23:49:07.166Z"
   },
   {
    "duration": 6,
    "start_time": "2023-09-06T23:49:07.175Z"
   },
   {
    "duration": 8,
    "start_time": "2023-09-06T23:49:07.182Z"
   },
   {
    "duration": 59,
    "start_time": "2023-09-06T23:49:07.191Z"
   },
   {
    "duration": 20,
    "start_time": "2023-09-06T23:49:07.252Z"
   },
   {
    "duration": 3,
    "start_time": "2023-09-06T23:49:07.273Z"
   },
   {
    "duration": 707,
    "start_time": "2023-09-06T23:49:07.277Z"
   },
   {
    "duration": 469,
    "start_time": "2023-09-06T23:49:07.985Z"
   },
   {
    "duration": 5373,
    "start_time": "2023-09-06T23:49:08.456Z"
   },
   {
    "duration": 769,
    "start_time": "2023-09-06T23:49:13.833Z"
   },
   {
    "duration": 204,
    "start_time": "2023-09-06T23:49:14.604Z"
   },
   {
    "duration": 236,
    "start_time": "2023-09-06T23:49:14.810Z"
   },
   {
    "duration": 170,
    "start_time": "2023-09-06T23:49:15.049Z"
   },
   {
    "duration": 147,
    "start_time": "2023-09-06T23:49:15.221Z"
   },
   {
    "duration": 155,
    "start_time": "2023-09-06T23:49:15.370Z"
   },
   {
    "duration": 160,
    "start_time": "2023-09-06T23:49:15.527Z"
   },
   {
    "duration": 1669,
    "start_time": "2023-09-06T23:49:15.689Z"
   },
   {
    "duration": 10,
    "start_time": "2023-09-06T23:49:17.360Z"
   },
   {
    "duration": 5553,
    "start_time": "2023-09-06T23:54:29.758Z"
   },
   {
    "duration": 5188,
    "start_time": "2023-09-06T23:59:17.884Z"
   },
   {
    "duration": 5403,
    "start_time": "2023-09-06T23:59:34.737Z"
   },
   {
    "duration": 5182,
    "start_time": "2023-09-06T23:59:56.930Z"
   },
   {
    "duration": 5326,
    "start_time": "2023-09-07T00:01:04.583Z"
   },
   {
    "duration": 5320,
    "start_time": "2023-09-07T00:01:26.064Z"
   },
   {
    "duration": 952,
    "start_time": "2023-09-07T00:02:41.920Z"
   },
   {
    "duration": 5250,
    "start_time": "2023-09-07T00:12:30.347Z"
   },
   {
    "duration": 5499,
    "start_time": "2023-09-07T00:12:51.629Z"
   },
   {
    "duration": 5477,
    "start_time": "2023-09-07T00:15:29.958Z"
   },
   {
    "duration": 5281,
    "start_time": "2023-09-07T00:15:59.597Z"
   },
   {
    "duration": 7,
    "start_time": "2023-09-07T01:30:29.346Z"
   },
   {
    "duration": 7,
    "start_time": "2023-09-07T01:31:31.795Z"
   },
   {
    "duration": 1436,
    "start_time": "2023-09-07T12:14:23.086Z"
   },
   {
    "duration": 130,
    "start_time": "2023-09-07T12:14:24.525Z"
   },
   {
    "duration": 14,
    "start_time": "2023-09-07T12:14:24.657Z"
   },
   {
    "duration": 26,
    "start_time": "2023-09-07T12:14:24.672Z"
   },
   {
    "duration": 3,
    "start_time": "2023-09-07T12:14:24.700Z"
   },
   {
    "duration": 28,
    "start_time": "2023-09-07T12:14:24.704Z"
   },
   {
    "duration": 22,
    "start_time": "2023-09-07T12:14:24.733Z"
   },
   {
    "duration": 4,
    "start_time": "2023-09-07T12:14:24.756Z"
   },
   {
    "duration": 11,
    "start_time": "2023-09-07T12:14:24.761Z"
   },
   {
    "duration": 20,
    "start_time": "2023-09-07T12:14:24.774Z"
   },
   {
    "duration": 24,
    "start_time": "2023-09-07T12:14:24.795Z"
   },
   {
    "duration": 7,
    "start_time": "2023-09-07T12:14:24.820Z"
   },
   {
    "duration": 33,
    "start_time": "2023-09-07T12:14:24.828Z"
   },
   {
    "duration": 27,
    "start_time": "2023-09-07T12:14:24.863Z"
   },
   {
    "duration": 60,
    "start_time": "2023-09-07T12:14:24.892Z"
   },
   {
    "duration": 44,
    "start_time": "2023-09-07T12:14:24.953Z"
   },
   {
    "duration": 67,
    "start_time": "2023-09-07T12:14:24.999Z"
   },
   {
    "duration": 5,
    "start_time": "2023-09-07T12:14:25.067Z"
   },
   {
    "duration": 22,
    "start_time": "2023-09-07T12:14:25.073Z"
   },
   {
    "duration": 13,
    "start_time": "2023-09-07T12:14:25.096Z"
   },
   {
    "duration": 17,
    "start_time": "2023-09-07T12:14:25.110Z"
   },
   {
    "duration": 52,
    "start_time": "2023-09-07T12:14:25.129Z"
   },
   {
    "duration": 20,
    "start_time": "2023-09-07T12:14:25.183Z"
   },
   {
    "duration": 8,
    "start_time": "2023-09-07T12:14:25.205Z"
   },
   {
    "duration": 697,
    "start_time": "2023-09-07T12:14:25.215Z"
   },
   {
    "duration": 490,
    "start_time": "2023-09-07T12:14:25.914Z"
   },
   {
    "duration": 5105,
    "start_time": "2023-09-07T12:14:26.406Z"
   },
   {
    "duration": 5349,
    "start_time": "2023-09-07T12:14:31.513Z"
   },
   {
    "duration": 933,
    "start_time": "2023-09-07T12:14:36.864Z"
   },
   {
    "duration": 187,
    "start_time": "2023-09-07T12:14:37.799Z"
   },
   {
    "duration": 203,
    "start_time": "2023-09-07T12:14:37.988Z"
   },
   {
    "duration": 151,
    "start_time": "2023-09-07T12:14:38.193Z"
   },
   {
    "duration": 132,
    "start_time": "2023-09-07T12:14:38.346Z"
   },
   {
    "duration": 139,
    "start_time": "2023-09-07T12:14:38.480Z"
   },
   {
    "duration": 143,
    "start_time": "2023-09-07T12:14:38.621Z"
   },
   {
    "duration": 1600,
    "start_time": "2023-09-07T12:14:38.766Z"
   },
   {
    "duration": 8,
    "start_time": "2023-09-07T12:14:40.367Z"
   },
   {
    "duration": 8,
    "start_time": "2023-09-07T12:14:40.376Z"
   },
   {
    "duration": 6,
    "start_time": "2023-09-07T12:14:40.386Z"
   },
   {
    "duration": 12,
    "start_time": "2023-09-07T23:13:23.507Z"
   },
   {
    "duration": 9,
    "start_time": "2023-09-07T23:15:19.004Z"
   },
   {
    "duration": 8,
    "start_time": "2023-09-07T23:15:35.100Z"
   },
   {
    "duration": 8,
    "start_time": "2023-09-07T23:15:48.237Z"
   },
   {
    "duration": 7,
    "start_time": "2023-09-07T23:15:51.869Z"
   },
   {
    "duration": 128,
    "start_time": "2023-09-07T23:25:17.354Z"
   },
   {
    "duration": 20,
    "start_time": "2023-09-07T23:25:34.791Z"
   },
   {
    "duration": 24,
    "start_time": "2023-09-07T23:28:04.056Z"
   },
   {
    "duration": 15,
    "start_time": "2023-09-07T23:28:45.185Z"
   },
   {
    "duration": 9,
    "start_time": "2023-09-07T23:29:43.852Z"
   },
   {
    "duration": 9,
    "start_time": "2023-09-07T23:30:04.739Z"
   },
   {
    "duration": 12,
    "start_time": "2023-09-07T23:30:29.506Z"
   },
   {
    "duration": 8,
    "start_time": "2023-09-07T23:30:31.785Z"
   },
   {
    "duration": 10,
    "start_time": "2023-09-07T23:30:32.176Z"
   },
   {
    "duration": 10,
    "start_time": "2023-09-07T23:32:15.570Z"
   },
   {
    "duration": 12,
    "start_time": "2023-09-07T23:32:36.521Z"
   },
   {
    "duration": 117,
    "start_time": "2023-09-07T23:39:06.178Z"
   },
   {
    "duration": 0,
    "start_time": "2023-09-07T23:39:06.298Z"
   },
   {
    "duration": 0,
    "start_time": "2023-09-07T23:39:06.299Z"
   },
   {
    "duration": 0,
    "start_time": "2023-09-07T23:39:06.300Z"
   },
   {
    "duration": 0,
    "start_time": "2023-09-07T23:39:06.301Z"
   },
   {
    "duration": 0,
    "start_time": "2023-09-07T23:39:06.302Z"
   },
   {
    "duration": 0,
    "start_time": "2023-09-07T23:39:06.303Z"
   },
   {
    "duration": 0,
    "start_time": "2023-09-07T23:39:06.304Z"
   },
   {
    "duration": 0,
    "start_time": "2023-09-07T23:39:06.305Z"
   },
   {
    "duration": 0,
    "start_time": "2023-09-07T23:39:06.307Z"
   },
   {
    "duration": 0,
    "start_time": "2023-09-07T23:39:06.308Z"
   },
   {
    "duration": 0,
    "start_time": "2023-09-07T23:39:06.309Z"
   },
   {
    "duration": 0,
    "start_time": "2023-09-07T23:39:06.310Z"
   },
   {
    "duration": 0,
    "start_time": "2023-09-07T23:39:06.311Z"
   },
   {
    "duration": 0,
    "start_time": "2023-09-07T23:39:06.314Z"
   },
   {
    "duration": 0,
    "start_time": "2023-09-07T23:39:06.315Z"
   },
   {
    "duration": 0,
    "start_time": "2023-09-07T23:39:06.317Z"
   },
   {
    "duration": 0,
    "start_time": "2023-09-07T23:39:06.319Z"
   },
   {
    "duration": 0,
    "start_time": "2023-09-07T23:39:06.320Z"
   },
   {
    "duration": 0,
    "start_time": "2023-09-07T23:39:06.322Z"
   },
   {
    "duration": 0,
    "start_time": "2023-09-07T23:39:06.323Z"
   },
   {
    "duration": 0,
    "start_time": "2023-09-07T23:39:06.325Z"
   },
   {
    "duration": 0,
    "start_time": "2023-09-07T23:39:06.326Z"
   },
   {
    "duration": 0,
    "start_time": "2023-09-07T23:39:06.328Z"
   },
   {
    "duration": 0,
    "start_time": "2023-09-07T23:39:06.329Z"
   },
   {
    "duration": 0,
    "start_time": "2023-09-07T23:39:06.330Z"
   },
   {
    "duration": 0,
    "start_time": "2023-09-07T23:39:06.331Z"
   },
   {
    "duration": 0,
    "start_time": "2023-09-07T23:39:06.333Z"
   },
   {
    "duration": 0,
    "start_time": "2023-09-07T23:39:06.334Z"
   },
   {
    "duration": 0,
    "start_time": "2023-09-07T23:39:06.335Z"
   },
   {
    "duration": 0,
    "start_time": "2023-09-07T23:39:06.344Z"
   },
   {
    "duration": 0,
    "start_time": "2023-09-07T23:39:06.345Z"
   },
   {
    "duration": 0,
    "start_time": "2023-09-07T23:39:06.346Z"
   },
   {
    "duration": 0,
    "start_time": "2023-09-07T23:39:06.348Z"
   },
   {
    "duration": 0,
    "start_time": "2023-09-07T23:39:06.350Z"
   },
   {
    "duration": 0,
    "start_time": "2023-09-07T23:39:06.351Z"
   },
   {
    "duration": 0,
    "start_time": "2023-09-07T23:39:06.352Z"
   },
   {
    "duration": 0,
    "start_time": "2023-09-07T23:39:06.353Z"
   },
   {
    "duration": 0,
    "start_time": "2023-09-07T23:39:06.354Z"
   },
   {
    "duration": 0,
    "start_time": "2023-09-07T23:39:06.355Z"
   },
   {
    "duration": 0,
    "start_time": "2023-09-07T23:39:06.357Z"
   },
   {
    "duration": 1296,
    "start_time": "2023-09-07T23:41:07.213Z"
   },
   {
    "duration": 96,
    "start_time": "2023-09-07T23:41:08.511Z"
   },
   {
    "duration": 12,
    "start_time": "2023-09-07T23:41:08.609Z"
   },
   {
    "duration": 19,
    "start_time": "2023-09-07T23:41:08.623Z"
   },
   {
    "duration": 4,
    "start_time": "2023-09-07T23:41:08.644Z"
   },
   {
    "duration": 15,
    "start_time": "2023-09-07T23:41:08.649Z"
   },
   {
    "duration": 10,
    "start_time": "2023-09-07T23:41:08.665Z"
   },
   {
    "duration": 5,
    "start_time": "2023-09-07T23:41:08.677Z"
   },
   {
    "duration": 12,
    "start_time": "2023-09-07T23:41:08.683Z"
   },
   {
    "duration": 4,
    "start_time": "2023-09-07T23:41:08.697Z"
   },
   {
    "duration": 48,
    "start_time": "2023-09-07T23:41:08.703Z"
   },
   {
    "duration": 5,
    "start_time": "2023-09-07T23:41:08.753Z"
   },
   {
    "duration": 8,
    "start_time": "2023-09-07T23:41:08.760Z"
   },
   {
    "duration": 10,
    "start_time": "2023-09-07T23:41:08.770Z"
   },
   {
    "duration": 71,
    "start_time": "2023-09-07T23:41:08.782Z"
   },
   {
    "duration": 49,
    "start_time": "2023-09-07T23:41:08.855Z"
   },
   {
    "duration": 66,
    "start_time": "2023-09-07T23:41:08.906Z"
   },
   {
    "duration": 5,
    "start_time": "2023-09-07T23:41:08.974Z"
   },
   {
    "duration": 15,
    "start_time": "2023-09-07T23:41:08.981Z"
   },
   {
    "duration": 14,
    "start_time": "2023-09-07T23:41:08.998Z"
   },
   {
    "duration": 29,
    "start_time": "2023-09-07T23:41:09.013Z"
   },
   {
    "duration": 55,
    "start_time": "2023-09-07T23:41:09.044Z"
   },
   {
    "duration": 25,
    "start_time": "2023-09-07T23:41:09.101Z"
   },
   {
    "duration": 3,
    "start_time": "2023-09-07T23:41:09.127Z"
   },
   {
    "duration": 905,
    "start_time": "2023-09-07T23:41:09.144Z"
   },
   {
    "duration": 500,
    "start_time": "2023-09-07T23:41:10.051Z"
   },
   {
    "duration": 5925,
    "start_time": "2023-09-07T23:41:10.553Z"
   },
   {
    "duration": 5980,
    "start_time": "2023-09-07T23:41:16.481Z"
   },
   {
    "duration": 1064,
    "start_time": "2023-09-07T23:41:22.463Z"
   },
   {
    "duration": 194,
    "start_time": "2023-09-07T23:41:23.528Z"
   },
   {
    "duration": 227,
    "start_time": "2023-09-07T23:41:23.723Z"
   },
   {
    "duration": 227,
    "start_time": "2023-09-07T23:41:23.952Z"
   },
   {
    "duration": 181,
    "start_time": "2023-09-07T23:41:24.181Z"
   },
   {
    "duration": 160,
    "start_time": "2023-09-07T23:41:24.364Z"
   },
   {
    "duration": 182,
    "start_time": "2023-09-07T23:41:24.526Z"
   },
   {
    "duration": 1813,
    "start_time": "2023-09-07T23:41:24.709Z"
   },
   {
    "duration": 9,
    "start_time": "2023-09-07T23:41:26.523Z"
   },
   {
    "duration": 11,
    "start_time": "2023-09-07T23:41:26.533Z"
   },
   {
    "duration": 12,
    "start_time": "2023-09-07T23:41:26.545Z"
   },
   {
    "duration": 7,
    "start_time": "2023-09-07T23:41:26.559Z"
   },
   {
    "duration": 7,
    "start_time": "2023-09-07T23:41:26.567Z"
   },
   {
    "duration": 9,
    "start_time": "2023-09-07T23:55:47.825Z"
   },
   {
    "duration": 8,
    "start_time": "2023-09-07T23:58:12.428Z"
   },
   {
    "duration": 8,
    "start_time": "2023-09-08T00:02:38.533Z"
   },
   {
    "duration": 9,
    "start_time": "2023-09-08T00:04:56.421Z"
   },
   {
    "duration": 9,
    "start_time": "2023-09-08T00:05:17.076Z"
   },
   {
    "duration": 9,
    "start_time": "2023-09-08T00:05:31.467Z"
   },
   {
    "duration": 9,
    "start_time": "2023-09-08T00:07:37.441Z"
   },
   {
    "duration": 7,
    "start_time": "2023-09-08T00:08:07.786Z"
   },
   {
    "duration": 8,
    "start_time": "2023-09-08T00:09:39.695Z"
   },
   {
    "duration": 8,
    "start_time": "2023-09-08T00:10:07.625Z"
   },
   {
    "duration": 8,
    "start_time": "2023-09-08T00:11:23.248Z"
   },
   {
    "duration": 9,
    "start_time": "2023-09-08T00:12:16.591Z"
   },
   {
    "duration": 8,
    "start_time": "2023-09-08T00:19:49.116Z"
   },
   {
    "duration": 9,
    "start_time": "2023-09-08T00:23:58.073Z"
   },
   {
    "duration": 8,
    "start_time": "2023-09-08T00:23:58.295Z"
   },
   {
    "duration": 130,
    "start_time": "2023-09-08T00:24:34.091Z"
   },
   {
    "duration": 8,
    "start_time": "2023-09-08T00:24:53.153Z"
   },
   {
    "duration": 8,
    "start_time": "2023-09-08T00:24:56.514Z"
   },
   {
    "duration": 9,
    "start_time": "2023-09-08T00:30:55.286Z"
   },
   {
    "duration": 7,
    "start_time": "2023-09-08T00:31:17.208Z"
   },
   {
    "duration": 13,
    "start_time": "2023-09-08T01:04:27.279Z"
   },
   {
    "duration": 14,
    "start_time": "2023-09-08T01:07:03.406Z"
   },
   {
    "duration": 14,
    "start_time": "2023-09-08T01:07:09.485Z"
   },
   {
    "duration": 14,
    "start_time": "2023-09-08T01:07:21.847Z"
   },
   {
    "duration": 11,
    "start_time": "2023-09-08T01:07:30.122Z"
   },
   {
    "duration": 18,
    "start_time": "2023-09-08T01:07:44.178Z"
   },
   {
    "duration": 15,
    "start_time": "2023-09-08T01:09:00.686Z"
   },
   {
    "duration": 14,
    "start_time": "2023-09-08T01:09:11.860Z"
   },
   {
    "duration": 17,
    "start_time": "2023-09-08T01:10:04.068Z"
   },
   {
    "duration": 19,
    "start_time": "2023-09-08T01:10:43.959Z"
   },
   {
    "duration": 14,
    "start_time": "2023-09-08T01:10:51.789Z"
   },
   {
    "duration": 13,
    "start_time": "2023-09-08T01:10:54.781Z"
   },
   {
    "duration": 15,
    "start_time": "2023-09-08T01:11:13.652Z"
   },
   {
    "duration": 12,
    "start_time": "2023-09-08T01:11:29.580Z"
   },
   {
    "duration": 13,
    "start_time": "2023-09-08T01:11:33.949Z"
   },
   {
    "duration": 13,
    "start_time": "2023-09-08T01:11:35.535Z"
   },
   {
    "duration": 13,
    "start_time": "2023-09-08T01:12:26.902Z"
   },
   {
    "duration": 12,
    "start_time": "2023-09-08T01:13:10.931Z"
   },
   {
    "duration": 12,
    "start_time": "2023-09-08T01:13:19.159Z"
   },
   {
    "duration": 13,
    "start_time": "2023-09-08T01:13:41.577Z"
   },
   {
    "duration": 8,
    "start_time": "2023-09-08T01:14:27.579Z"
   },
   {
    "duration": 16,
    "start_time": "2023-09-08T01:14:36.322Z"
   },
   {
    "duration": 1704,
    "start_time": "2023-09-08T01:14:55.533Z"
   },
   {
    "duration": 1875,
    "start_time": "2023-09-08T01:15:11.740Z"
   },
   {
    "duration": 6,
    "start_time": "2023-09-08T01:15:19.634Z"
   },
   {
    "duration": 6,
    "start_time": "2023-09-08T01:15:25.235Z"
   },
   {
    "duration": 9,
    "start_time": "2023-09-08T01:15:39.748Z"
   },
   {
    "duration": 5,
    "start_time": "2023-09-08T01:15:55.026Z"
   },
   {
    "duration": 9,
    "start_time": "2023-09-08T01:16:04.127Z"
   },
   {
    "duration": 8,
    "start_time": "2023-09-08T01:16:19.624Z"
   },
   {
    "duration": 11,
    "start_time": "2023-09-08T01:16:25.100Z"
   },
   {
    "duration": 22,
    "start_time": "2023-09-08T01:17:20.539Z"
   },
   {
    "duration": 14,
    "start_time": "2023-09-08T01:17:37.591Z"
   },
   {
    "duration": 19,
    "start_time": "2023-09-08T01:18:04.152Z"
   },
   {
    "duration": 15,
    "start_time": "2023-09-08T01:18:05.323Z"
   },
   {
    "duration": 15,
    "start_time": "2023-09-08T01:18:19.780Z"
   },
   {
    "duration": 15,
    "start_time": "2023-09-08T01:18:24.283Z"
   },
   {
    "duration": 12,
    "start_time": "2023-09-08T01:18:55.696Z"
   },
   {
    "duration": 13,
    "start_time": "2023-09-08T01:19:35.058Z"
   },
   {
    "duration": 13,
    "start_time": "2023-09-08T01:19:40.803Z"
   },
   {
    "duration": 16,
    "start_time": "2023-09-08T01:20:27.459Z"
   },
   {
    "duration": 15,
    "start_time": "2023-09-08T01:20:36.224Z"
   },
   {
    "duration": 18,
    "start_time": "2023-09-08T01:20:45.009Z"
   },
   {
    "duration": 15,
    "start_time": "2023-09-08T01:20:56.521Z"
   },
   {
    "duration": 15,
    "start_time": "2023-09-08T01:21:19.706Z"
   },
   {
    "duration": 17,
    "start_time": "2023-09-08T01:22:28.426Z"
   },
   {
    "duration": 18,
    "start_time": "2023-09-08T01:22:41.177Z"
   },
   {
    "duration": 15,
    "start_time": "2023-09-08T01:22:46.385Z"
   },
   {
    "duration": 12,
    "start_time": "2023-09-08T01:23:45.075Z"
   },
   {
    "duration": 11,
    "start_time": "2023-09-08T01:24:03.461Z"
   },
   {
    "duration": 16,
    "start_time": "2023-09-08T01:24:21.369Z"
   },
   {
    "duration": 17,
    "start_time": "2023-09-08T01:24:50.017Z"
   },
   {
    "duration": 16,
    "start_time": "2023-09-08T01:24:59.049Z"
   },
   {
    "duration": 16,
    "start_time": "2023-09-08T01:25:29.503Z"
   },
   {
    "duration": 17,
    "start_time": "2023-09-08T01:25:41.719Z"
   },
   {
    "duration": 103,
    "start_time": "2023-09-08T01:25:54.080Z"
   },
   {
    "duration": 18,
    "start_time": "2023-09-08T01:26:03.616Z"
   },
   {
    "duration": 16,
    "start_time": "2023-09-08T01:26:45.181Z"
   },
   {
    "duration": 16,
    "start_time": "2023-09-08T01:26:54.326Z"
   },
   {
    "duration": 16,
    "start_time": "2023-09-08T01:27:09.808Z"
   },
   {
    "duration": 18,
    "start_time": "2023-09-08T01:28:11.783Z"
   },
   {
    "duration": 16,
    "start_time": "2023-09-08T01:28:40.758Z"
   },
   {
    "duration": 16,
    "start_time": "2023-09-08T01:28:44.726Z"
   },
   {
    "duration": 17,
    "start_time": "2023-09-08T01:29:06.584Z"
   },
   {
    "duration": 15,
    "start_time": "2023-09-08T01:29:11.270Z"
   },
   {
    "duration": 16,
    "start_time": "2023-09-08T01:29:20.126Z"
   },
   {
    "duration": 17,
    "start_time": "2023-09-08T01:29:21.654Z"
   },
   {
    "duration": 16,
    "start_time": "2023-09-08T01:29:28.160Z"
   },
   {
    "duration": 17,
    "start_time": "2023-09-08T01:29:31.552Z"
   },
   {
    "duration": 15,
    "start_time": "2023-09-08T01:30:02.887Z"
   },
   {
    "duration": 16,
    "start_time": "2023-09-08T01:30:03.093Z"
   },
   {
    "duration": 17,
    "start_time": "2023-09-08T01:30:11.408Z"
   },
   {
    "duration": 16,
    "start_time": "2023-09-08T01:30:11.997Z"
   },
   {
    "duration": 17,
    "start_time": "2023-09-08T01:30:22.464Z"
   },
   {
    "duration": 16,
    "start_time": "2023-09-08T01:30:32.391Z"
   },
   {
    "duration": 16,
    "start_time": "2023-09-08T01:31:08.477Z"
   },
   {
    "duration": 17,
    "start_time": "2023-09-08T01:31:21.286Z"
   },
   {
    "duration": 15,
    "start_time": "2023-09-08T01:31:28.094Z"
   },
   {
    "duration": 19,
    "start_time": "2023-09-08T01:31:31.012Z"
   },
   {
    "duration": 18,
    "start_time": "2023-09-08T01:31:34.016Z"
   },
   {
    "duration": 17,
    "start_time": "2023-09-08T01:32:37.374Z"
   },
   {
    "duration": 17,
    "start_time": "2023-09-08T01:33:00.461Z"
   },
   {
    "duration": 16,
    "start_time": "2023-09-08T01:33:03.148Z"
   },
   {
    "duration": 18,
    "start_time": "2023-09-08T01:33:38.783Z"
   },
   {
    "duration": 18,
    "start_time": "2023-09-08T01:33:41.873Z"
   },
   {
    "duration": 16,
    "start_time": "2023-09-08T01:33:51.236Z"
   },
   {
    "duration": 15,
    "start_time": "2023-09-08T01:33:56.484Z"
   },
   {
    "duration": 80,
    "start_time": "2023-09-08T01:34:36.157Z"
   },
   {
    "duration": 16,
    "start_time": "2023-09-08T01:34:43.564Z"
   },
   {
    "duration": 16,
    "start_time": "2023-09-08T01:34:51.788Z"
   },
   {
    "duration": 16,
    "start_time": "2023-09-08T01:35:12.790Z"
   },
   {
    "duration": 16,
    "start_time": "2023-09-08T01:35:18.263Z"
   },
   {
    "duration": 17,
    "start_time": "2023-09-08T01:35:44.406Z"
   },
   {
    "duration": 15,
    "start_time": "2023-09-08T01:35:51.397Z"
   },
   {
    "duration": 16,
    "start_time": "2023-09-08T01:36:06.481Z"
   },
   {
    "duration": 16,
    "start_time": "2023-09-08T01:36:10.136Z"
   },
   {
    "duration": 16,
    "start_time": "2023-09-08T01:36:23.182Z"
   },
   {
    "duration": 17,
    "start_time": "2023-09-08T01:36:51.731Z"
   },
   {
    "duration": 17,
    "start_time": "2023-09-08T01:36:58.675Z"
   },
   {
    "duration": 16,
    "start_time": "2023-09-08T01:37:06.743Z"
   },
   {
    "duration": 16,
    "start_time": "2023-09-08T01:38:24.996Z"
   },
   {
    "duration": 16,
    "start_time": "2023-09-08T01:38:31.870Z"
   },
   {
    "duration": 15,
    "start_time": "2023-09-08T01:38:36.955Z"
   },
   {
    "duration": 17,
    "start_time": "2023-09-08T01:39:21.273Z"
   },
   {
    "duration": 17,
    "start_time": "2023-09-08T01:39:31.940Z"
   },
   {
    "duration": 19,
    "start_time": "2023-09-08T01:39:36.257Z"
   },
   {
    "duration": 17,
    "start_time": "2023-09-08T01:39:45.067Z"
   },
   {
    "duration": 15,
    "start_time": "2023-09-08T01:39:51.694Z"
   },
   {
    "duration": 16,
    "start_time": "2023-09-08T01:40:06.593Z"
   },
   {
    "duration": 16,
    "start_time": "2023-09-08T01:40:09.314Z"
   },
   {
    "duration": 16,
    "start_time": "2023-09-08T01:40:12.997Z"
   },
   {
    "duration": 17,
    "start_time": "2023-09-08T01:40:21.873Z"
   },
   {
    "duration": 17,
    "start_time": "2023-09-08T01:40:30.700Z"
   },
   {
    "duration": 18,
    "start_time": "2023-09-08T01:40:42.946Z"
   },
   {
    "duration": 16,
    "start_time": "2023-09-08T01:40:56.738Z"
   },
   {
    "duration": 16,
    "start_time": "2023-09-08T01:41:11.285Z"
   },
   {
    "duration": 16,
    "start_time": "2023-09-08T01:41:22.154Z"
   },
   {
    "duration": 16,
    "start_time": "2023-09-08T01:41:39.417Z"
   },
   {
    "duration": 16,
    "start_time": "2023-09-08T01:41:43.652Z"
   },
   {
    "duration": 17,
    "start_time": "2023-09-08T01:41:54.555Z"
   },
   {
    "duration": 16,
    "start_time": "2023-09-08T01:42:18.434Z"
   },
   {
    "duration": 16,
    "start_time": "2023-09-08T01:42:23.819Z"
   },
   {
    "duration": 19,
    "start_time": "2023-09-08T01:42:29.185Z"
   },
   {
    "duration": 17,
    "start_time": "2023-09-08T01:42:37.769Z"
   },
   {
    "duration": 16,
    "start_time": "2023-09-08T01:42:59.773Z"
   },
   {
    "duration": 16,
    "start_time": "2023-09-08T01:43:07.811Z"
   },
   {
    "duration": 16,
    "start_time": "2023-09-08T01:43:13.673Z"
   },
   {
    "duration": 17,
    "start_time": "2023-09-08T01:43:25.465Z"
   },
   {
    "duration": 16,
    "start_time": "2023-09-08T01:43:28.494Z"
   },
   {
    "duration": 16,
    "start_time": "2023-09-08T01:43:35.429Z"
   },
   {
    "duration": 16,
    "start_time": "2023-09-08T01:43:38.115Z"
   },
   {
    "duration": 16,
    "start_time": "2023-09-08T01:43:58.458Z"
   },
   {
    "duration": 17,
    "start_time": "2023-09-08T01:44:01.530Z"
   },
   {
    "duration": 16,
    "start_time": "2023-09-08T01:44:05.369Z"
   },
   {
    "duration": 17,
    "start_time": "2023-09-08T01:44:15.657Z"
   },
   {
    "duration": 18,
    "start_time": "2023-09-08T01:44:20.394Z"
   },
   {
    "duration": 18,
    "start_time": "2023-09-08T01:44:24.411Z"
   },
   {
    "duration": 17,
    "start_time": "2023-09-08T01:44:35.793Z"
   },
   {
    "duration": 16,
    "start_time": "2023-09-08T01:44:39.089Z"
   },
   {
    "duration": 18,
    "start_time": "2023-09-08T01:44:52.268Z"
   },
   {
    "duration": 17,
    "start_time": "2023-09-08T01:45:06.385Z"
   },
   {
    "duration": 16,
    "start_time": "2023-09-08T01:45:09.699Z"
   },
   {
    "duration": 18,
    "start_time": "2023-09-08T01:45:23.704Z"
   },
   {
    "duration": 18,
    "start_time": "2023-09-08T01:45:27.107Z"
   },
   {
    "duration": 16,
    "start_time": "2023-09-08T01:45:50.761Z"
   },
   {
    "duration": 16,
    "start_time": "2023-09-08T01:45:57.896Z"
   },
   {
    "duration": 16,
    "start_time": "2023-09-08T01:46:01.739Z"
   },
   {
    "duration": 15,
    "start_time": "2023-09-08T01:46:13.389Z"
   },
   {
    "duration": 18,
    "start_time": "2023-09-08T01:46:15.861Z"
   },
   {
    "duration": 16,
    "start_time": "2023-09-08T01:46:29.145Z"
   },
   {
    "duration": 16,
    "start_time": "2023-09-08T01:46:35.881Z"
   },
   {
    "duration": 15,
    "start_time": "2023-09-08T01:46:51.631Z"
   },
   {
    "duration": 16,
    "start_time": "2023-09-08T01:47:08.521Z"
   },
   {
    "duration": 17,
    "start_time": "2023-09-08T01:49:08.968Z"
   },
   {
    "duration": 18,
    "start_time": "2023-09-08T01:49:14.373Z"
   },
   {
    "duration": 17,
    "start_time": "2023-09-08T01:49:19.140Z"
   },
   {
    "duration": 18,
    "start_time": "2023-09-08T01:49:23.936Z"
   },
   {
    "duration": 15,
    "start_time": "2023-09-08T01:49:30.398Z"
   },
   {
    "duration": 16,
    "start_time": "2023-09-08T01:50:11.296Z"
   },
   {
    "duration": 17,
    "start_time": "2023-09-08T01:50:14.349Z"
   },
   {
    "duration": 16,
    "start_time": "2023-09-08T01:50:24.230Z"
   },
   {
    "duration": 15,
    "start_time": "2023-09-08T01:50:34.321Z"
   },
   {
    "duration": 86,
    "start_time": "2023-09-08T01:50:35.877Z"
   },
   {
    "duration": 16,
    "start_time": "2023-09-08T01:50:40.189Z"
   },
   {
    "duration": 15,
    "start_time": "2023-09-08T01:50:43.159Z"
   },
   {
    "duration": 17,
    "start_time": "2023-09-08T01:51:09.574Z"
   },
   {
    "duration": 17,
    "start_time": "2023-09-08T01:51:20.091Z"
   },
   {
    "duration": 17,
    "start_time": "2023-09-08T01:51:29.013Z"
   },
   {
    "duration": 16,
    "start_time": "2023-09-08T01:51:43.496Z"
   },
   {
    "duration": 16,
    "start_time": "2023-09-08T01:51:51.212Z"
   },
   {
    "duration": 15,
    "start_time": "2023-09-08T01:51:57.484Z"
   },
   {
    "duration": 17,
    "start_time": "2023-09-08T01:52:04.212Z"
   },
   {
    "duration": 16,
    "start_time": "2023-09-08T01:52:08.285Z"
   },
   {
    "duration": 16,
    "start_time": "2023-09-08T01:52:11.176Z"
   },
   {
    "duration": 17,
    "start_time": "2023-09-08T01:52:14.806Z"
   },
   {
    "duration": 17,
    "start_time": "2023-09-08T01:52:29.809Z"
   },
   {
    "duration": 18,
    "start_time": "2023-09-08T01:53:49.406Z"
   },
   {
    "duration": 16,
    "start_time": "2023-09-08T01:54:18.586Z"
   },
   {
    "duration": 15,
    "start_time": "2023-09-08T01:54:23.347Z"
   },
   {
    "duration": 16,
    "start_time": "2023-09-08T01:54:34.180Z"
   },
   {
    "duration": 15,
    "start_time": "2023-09-08T01:54:50.555Z"
   },
   {
    "duration": 18,
    "start_time": "2023-09-08T01:57:26.474Z"
   },
   {
    "duration": 17,
    "start_time": "2023-09-08T01:57:32.268Z"
   },
   {
    "duration": 17,
    "start_time": "2023-09-08T01:57:41.729Z"
   },
   {
    "duration": 17,
    "start_time": "2023-09-08T01:57:54.558Z"
   },
   {
    "duration": 17,
    "start_time": "2023-09-08T01:58:02.162Z"
   },
   {
    "duration": 17,
    "start_time": "2023-09-08T01:58:05.678Z"
   },
   {
    "duration": 16,
    "start_time": "2023-09-08T01:59:02.458Z"
   },
   {
    "duration": 17,
    "start_time": "2023-09-08T02:07:01.430Z"
   },
   {
    "duration": 20,
    "start_time": "2023-09-08T02:07:04.029Z"
   },
   {
    "duration": 18,
    "start_time": "2023-09-08T02:07:09.127Z"
   },
   {
    "duration": 17,
    "start_time": "2023-09-08T02:07:18.246Z"
   },
   {
    "duration": 18,
    "start_time": "2023-09-08T02:07:19.095Z"
   },
   {
    "duration": 15,
    "start_time": "2023-09-08T02:07:19.933Z"
   },
   {
    "duration": 1421,
    "start_time": "2023-09-08T14:34:10.086Z"
   },
   {
    "duration": 220,
    "start_time": "2023-09-08T14:34:11.509Z"
   },
   {
    "duration": 14,
    "start_time": "2023-09-08T14:34:11.731Z"
   },
   {
    "duration": 23,
    "start_time": "2023-09-08T14:34:11.749Z"
   },
   {
    "duration": 3,
    "start_time": "2023-09-08T14:34:11.774Z"
   },
   {
    "duration": 20,
    "start_time": "2023-09-08T14:34:11.779Z"
   },
   {
    "duration": 11,
    "start_time": "2023-09-08T14:34:11.800Z"
   },
   {
    "duration": 34,
    "start_time": "2023-09-08T14:34:11.813Z"
   },
   {
    "duration": 13,
    "start_time": "2023-09-08T14:34:11.849Z"
   },
   {
    "duration": 12,
    "start_time": "2023-09-08T14:34:11.865Z"
   },
   {
    "duration": 31,
    "start_time": "2023-09-08T14:34:11.879Z"
   },
   {
    "duration": 5,
    "start_time": "2023-09-08T14:34:11.911Z"
   },
   {
    "duration": 36,
    "start_time": "2023-09-08T14:34:11.917Z"
   },
   {
    "duration": 13,
    "start_time": "2023-09-08T14:34:11.955Z"
   },
   {
    "duration": 63,
    "start_time": "2023-09-08T14:34:11.970Z"
   },
   {
    "duration": 63,
    "start_time": "2023-09-08T14:34:12.034Z"
   },
   {
    "duration": 77,
    "start_time": "2023-09-08T14:34:12.099Z"
   },
   {
    "duration": 5,
    "start_time": "2023-09-08T14:34:12.178Z"
   },
   {
    "duration": 10,
    "start_time": "2023-09-08T14:34:12.185Z"
   },
   {
    "duration": 6,
    "start_time": "2023-09-08T14:34:12.196Z"
   },
   {
    "duration": 15,
    "start_time": "2023-09-08T14:34:12.204Z"
   },
   {
    "duration": 79,
    "start_time": "2023-09-08T14:34:12.221Z"
   },
   {
    "duration": 29,
    "start_time": "2023-09-08T14:34:12.302Z"
   },
   {
    "duration": 19,
    "start_time": "2023-09-08T14:34:12.333Z"
   },
   {
    "duration": 936,
    "start_time": "2023-09-08T14:34:12.354Z"
   },
   {
    "duration": 596,
    "start_time": "2023-09-08T14:34:13.291Z"
   },
   {
    "duration": 6781,
    "start_time": "2023-09-08T14:34:13.889Z"
   },
   {
    "duration": 6903,
    "start_time": "2023-09-08T14:34:20.674Z"
   },
   {
    "duration": 1131,
    "start_time": "2023-09-08T14:34:27.579Z"
   },
   {
    "duration": 234,
    "start_time": "2023-09-08T14:34:28.712Z"
   },
   {
    "duration": 258,
    "start_time": "2023-09-08T14:34:28.949Z"
   },
   {
    "duration": 184,
    "start_time": "2023-09-08T14:34:29.209Z"
   },
   {
    "duration": 172,
    "start_time": "2023-09-08T14:34:29.396Z"
   },
   {
    "duration": 166,
    "start_time": "2023-09-08T14:34:29.570Z"
   },
   {
    "duration": 186,
    "start_time": "2023-09-08T14:34:29.738Z"
   },
   {
    "duration": 1899,
    "start_time": "2023-09-08T14:34:29.926Z"
   },
   {
    "duration": 21,
    "start_time": "2023-09-08T14:34:31.826Z"
   },
   {
    "duration": 120,
    "start_time": "2023-09-08T14:34:31.849Z"
   },
   {
    "duration": 48,
    "start_time": "2023-09-08T14:34:31.971Z"
   },
   {
    "duration": 30,
    "start_time": "2023-09-08T14:34:32.021Z"
   },
   {
    "duration": 49,
    "start_time": "2023-09-08T14:34:32.053Z"
   },
   {
    "duration": 47,
    "start_time": "2023-09-08T14:34:32.105Z"
   },
   {
    "duration": 32,
    "start_time": "2023-09-08T14:34:32.156Z"
   },
   {
    "duration": 41,
    "start_time": "2023-09-08T14:34:32.190Z"
   },
   {
    "duration": 18,
    "start_time": "2023-09-08T14:34:32.234Z"
   },
   {
    "duration": 32,
    "start_time": "2023-09-08T14:34:32.254Z"
   },
   {
    "duration": 1400,
    "start_time": "2023-09-08T15:14:01.725Z"
   },
   {
    "duration": 83,
    "start_time": "2023-09-08T15:14:03.128Z"
   },
   {
    "duration": 13,
    "start_time": "2023-09-08T15:14:03.213Z"
   },
   {
    "duration": 26,
    "start_time": "2023-09-08T15:14:03.228Z"
   },
   {
    "duration": 4,
    "start_time": "2023-09-08T15:14:03.256Z"
   },
   {
    "duration": 17,
    "start_time": "2023-09-08T15:14:03.261Z"
   },
   {
    "duration": 14,
    "start_time": "2023-09-08T15:14:03.280Z"
   },
   {
    "duration": 6,
    "start_time": "2023-09-08T15:14:03.296Z"
   },
   {
    "duration": 7,
    "start_time": "2023-09-08T15:14:03.304Z"
   },
   {
    "duration": 34,
    "start_time": "2023-09-08T15:14:03.313Z"
   },
   {
    "duration": 30,
    "start_time": "2023-09-08T15:14:03.348Z"
   },
   {
    "duration": 4,
    "start_time": "2023-09-08T15:14:03.380Z"
   },
   {
    "duration": 11,
    "start_time": "2023-09-08T15:14:03.386Z"
   },
   {
    "duration": 9,
    "start_time": "2023-09-08T15:14:03.398Z"
   },
   {
    "duration": 93,
    "start_time": "2023-09-08T15:14:03.409Z"
   },
   {
    "duration": 62,
    "start_time": "2023-09-08T15:14:03.504Z"
   },
   {
    "duration": 53,
    "start_time": "2023-09-08T15:14:03.568Z"
   },
   {
    "duration": 5,
    "start_time": "2023-09-08T15:14:03.622Z"
   },
   {
    "duration": 5,
    "start_time": "2023-09-08T15:14:03.647Z"
   },
   {
    "duration": 10,
    "start_time": "2023-09-08T15:14:03.654Z"
   },
   {
    "duration": 10,
    "start_time": "2023-09-08T15:14:03.665Z"
   },
   {
    "duration": 67,
    "start_time": "2023-09-08T15:14:03.676Z"
   },
   {
    "duration": 27,
    "start_time": "2023-09-08T15:14:03.746Z"
   },
   {
    "duration": 5,
    "start_time": "2023-09-08T15:14:03.774Z"
   },
   {
    "duration": 884,
    "start_time": "2023-09-08T15:14:03.781Z"
   },
   {
    "duration": 611,
    "start_time": "2023-09-08T15:14:04.667Z"
   },
   {
    "duration": 6392,
    "start_time": "2023-09-08T15:14:05.280Z"
   },
   {
    "duration": 6637,
    "start_time": "2023-09-08T15:14:11.676Z"
   },
   {
    "duration": 1335,
    "start_time": "2023-09-08T15:14:18.314Z"
   },
   {
    "duration": 230,
    "start_time": "2023-09-08T15:14:19.651Z"
   },
   {
    "duration": 257,
    "start_time": "2023-09-08T15:14:19.882Z"
   },
   {
    "duration": 189,
    "start_time": "2023-09-08T15:14:20.146Z"
   },
   {
    "duration": 190,
    "start_time": "2023-09-08T15:14:20.337Z"
   },
   {
    "duration": 177,
    "start_time": "2023-09-08T15:14:20.529Z"
   },
   {
    "duration": 184,
    "start_time": "2023-09-08T15:14:20.708Z"
   },
   {
    "duration": 1929,
    "start_time": "2023-09-08T15:14:20.894Z"
   },
   {
    "duration": 8,
    "start_time": "2023-09-08T15:14:22.825Z"
   },
   {
    "duration": 9,
    "start_time": "2023-09-08T15:14:22.847Z"
   },
   {
    "duration": 8,
    "start_time": "2023-09-08T15:14:22.857Z"
   },
   {
    "duration": 13,
    "start_time": "2023-09-08T15:14:22.867Z"
   },
   {
    "duration": 10,
    "start_time": "2023-09-08T15:14:22.881Z"
   },
   {
    "duration": 12,
    "start_time": "2023-09-08T15:14:22.893Z"
   },
   {
    "duration": 8,
    "start_time": "2023-09-08T15:14:22.947Z"
   },
   {
    "duration": 21,
    "start_time": "2023-09-08T15:14:22.957Z"
   },
   {
    "duration": 18,
    "start_time": "2023-09-08T15:14:22.980Z"
   },
   {
    "duration": 47,
    "start_time": "2023-09-08T15:14:23.000Z"
   },
   {
    "duration": 1463,
    "start_time": "2023-09-08T22:21:01.480Z"
   },
   {
    "duration": 197,
    "start_time": "2023-09-08T22:21:02.945Z"
   },
   {
    "duration": 12,
    "start_time": "2023-09-08T22:21:03.143Z"
   },
   {
    "duration": 16,
    "start_time": "2023-09-08T22:21:03.157Z"
   },
   {
    "duration": 3,
    "start_time": "2023-09-08T22:21:03.175Z"
   },
   {
    "duration": 17,
    "start_time": "2023-09-08T22:21:03.180Z"
   },
   {
    "duration": 11,
    "start_time": "2023-09-08T22:21:03.198Z"
   },
   {
    "duration": 5,
    "start_time": "2023-09-08T22:21:03.210Z"
   },
   {
    "duration": 7,
    "start_time": "2023-09-08T22:21:03.234Z"
   },
   {
    "duration": 16,
    "start_time": "2023-09-08T22:21:03.243Z"
   },
   {
    "duration": 30,
    "start_time": "2023-09-08T22:21:03.260Z"
   },
   {
    "duration": 3,
    "start_time": "2023-09-08T22:21:03.292Z"
   },
   {
    "duration": 21,
    "start_time": "2023-09-08T22:21:03.297Z"
   },
   {
    "duration": 8,
    "start_time": "2023-09-08T22:21:03.320Z"
   },
   {
    "duration": 50,
    "start_time": "2023-09-08T22:21:03.329Z"
   },
   {
    "duration": 45,
    "start_time": "2023-09-08T22:21:03.380Z"
   },
   {
    "duration": 47,
    "start_time": "2023-09-08T22:21:03.433Z"
   },
   {
    "duration": 5,
    "start_time": "2023-09-08T22:21:03.482Z"
   },
   {
    "duration": 16,
    "start_time": "2023-09-08T22:21:03.488Z"
   },
   {
    "duration": 12,
    "start_time": "2023-09-08T22:21:03.505Z"
   },
   {
    "duration": 8,
    "start_time": "2023-09-08T22:21:03.518Z"
   },
   {
    "duration": 48,
    "start_time": "2023-09-08T22:21:03.534Z"
   },
   {
    "duration": 23,
    "start_time": "2023-09-08T22:21:03.584Z"
   },
   {
    "duration": 3,
    "start_time": "2023-09-08T22:21:03.608Z"
   },
   {
    "duration": 752,
    "start_time": "2023-09-08T22:21:03.612Z"
   },
   {
    "duration": 436,
    "start_time": "2023-09-08T22:21:04.365Z"
   },
   {
    "duration": 5040,
    "start_time": "2023-09-08T22:21:04.802Z"
   },
   {
    "duration": 5417,
    "start_time": "2023-09-08T22:21:09.844Z"
   },
   {
    "duration": 975,
    "start_time": "2023-09-08T22:21:15.263Z"
   },
   {
    "duration": 184,
    "start_time": "2023-09-08T22:21:16.240Z"
   },
   {
    "duration": 214,
    "start_time": "2023-09-08T22:21:16.425Z"
   },
   {
    "duration": 148,
    "start_time": "2023-09-08T22:21:16.640Z"
   },
   {
    "duration": 132,
    "start_time": "2023-09-08T22:21:16.790Z"
   },
   {
    "duration": 142,
    "start_time": "2023-09-08T22:21:16.923Z"
   },
   {
    "duration": 148,
    "start_time": "2023-09-08T22:21:17.067Z"
   },
   {
    "duration": 1644,
    "start_time": "2023-09-08T22:21:17.217Z"
   },
   {
    "duration": 8,
    "start_time": "2023-09-08T22:21:18.863Z"
   },
   {
    "duration": 11,
    "start_time": "2023-09-08T22:21:18.873Z"
   },
   {
    "duration": 7,
    "start_time": "2023-09-08T22:21:18.886Z"
   },
   {
    "duration": 6,
    "start_time": "2023-09-08T22:21:18.894Z"
   },
   {
    "duration": 32,
    "start_time": "2023-09-08T22:21:18.904Z"
   },
   {
    "duration": 7,
    "start_time": "2023-09-08T22:21:18.937Z"
   },
   {
    "duration": 7,
    "start_time": "2023-09-08T22:21:18.946Z"
   },
   {
    "duration": 16,
    "start_time": "2023-09-08T22:21:18.954Z"
   },
   {
    "duration": 15,
    "start_time": "2023-09-08T22:21:18.972Z"
   },
   {
    "duration": 52,
    "start_time": "2023-09-08T22:21:18.988Z"
   },
   {
    "duration": 1091,
    "start_time": "2023-09-08T22:22:40.837Z"
   },
   {
    "duration": 82,
    "start_time": "2023-09-08T22:22:41.929Z"
   },
   {
    "duration": 14,
    "start_time": "2023-09-08T22:22:42.012Z"
   },
   {
    "duration": 18,
    "start_time": "2023-09-08T22:22:42.028Z"
   },
   {
    "duration": 3,
    "start_time": "2023-09-08T22:22:42.048Z"
   },
   {
    "duration": 15,
    "start_time": "2023-09-08T22:22:42.052Z"
   },
   {
    "duration": 10,
    "start_time": "2023-09-08T22:22:42.069Z"
   },
   {
    "duration": 4,
    "start_time": "2023-09-08T22:22:42.080Z"
   },
   {
    "duration": 12,
    "start_time": "2023-09-08T22:22:42.085Z"
   },
   {
    "duration": 5,
    "start_time": "2023-09-08T22:22:42.099Z"
   },
   {
    "duration": 46,
    "start_time": "2023-09-08T22:22:42.105Z"
   },
   {
    "duration": 4,
    "start_time": "2023-09-08T22:22:42.152Z"
   },
   {
    "duration": 15,
    "start_time": "2023-09-08T22:22:42.158Z"
   },
   {
    "duration": 6,
    "start_time": "2023-09-08T22:22:42.174Z"
   },
   {
    "duration": 61,
    "start_time": "2023-09-08T22:22:42.181Z"
   },
   {
    "duration": 46,
    "start_time": "2023-09-08T22:22:42.244Z"
   },
   {
    "duration": 77,
    "start_time": "2023-09-08T22:22:42.292Z"
   },
   {
    "duration": 6,
    "start_time": "2023-09-08T22:22:42.371Z"
   },
   {
    "duration": 7,
    "start_time": "2023-09-08T22:22:42.378Z"
   },
   {
    "duration": 7,
    "start_time": "2023-09-08T22:22:42.386Z"
   },
   {
    "duration": 6,
    "start_time": "2023-09-08T22:22:42.395Z"
   },
   {
    "duration": 83,
    "start_time": "2023-09-08T22:22:42.402Z"
   },
   {
    "duration": 23,
    "start_time": "2023-09-08T22:22:42.486Z"
   },
   {
    "duration": 3,
    "start_time": "2023-09-08T22:22:42.511Z"
   },
   {
    "duration": 752,
    "start_time": "2023-09-08T22:22:42.516Z"
   },
   {
    "duration": 403,
    "start_time": "2023-09-08T22:22:43.269Z"
   },
   {
    "duration": 5154,
    "start_time": "2023-09-08T22:22:43.673Z"
   },
   {
    "duration": 5283,
    "start_time": "2023-09-08T22:22:48.830Z"
   },
   {
    "duration": 1024,
    "start_time": "2023-09-08T22:22:54.115Z"
   },
   {
    "duration": 181,
    "start_time": "2023-09-08T22:22:55.141Z"
   },
   {
    "duration": 204,
    "start_time": "2023-09-08T22:22:55.324Z"
   },
   {
    "duration": 144,
    "start_time": "2023-09-08T22:22:55.533Z"
   },
   {
    "duration": 139,
    "start_time": "2023-09-08T22:22:55.679Z"
   },
   {
    "duration": 142,
    "start_time": "2023-09-08T22:22:55.819Z"
   },
   {
    "duration": 152,
    "start_time": "2023-09-08T22:22:55.963Z"
   },
   {
    "duration": 1633,
    "start_time": "2023-09-08T22:22:56.117Z"
   },
   {
    "duration": 7,
    "start_time": "2023-09-08T22:22:57.752Z"
   },
   {
    "duration": 15,
    "start_time": "2023-09-08T22:22:57.761Z"
   },
   {
    "duration": 26,
    "start_time": "2023-09-08T22:22:57.778Z"
   },
   {
    "duration": 27,
    "start_time": "2023-09-08T22:22:57.805Z"
   },
   {
    "duration": 20,
    "start_time": "2023-09-08T22:22:57.834Z"
   },
   {
    "duration": 8,
    "start_time": "2023-09-08T22:22:57.856Z"
   },
   {
    "duration": 8,
    "start_time": "2023-09-08T22:22:57.866Z"
   },
   {
    "duration": 43,
    "start_time": "2023-09-08T22:22:57.876Z"
   },
   {
    "duration": 22,
    "start_time": "2023-09-08T22:22:57.921Z"
   },
   {
    "duration": 26,
    "start_time": "2023-09-08T22:22:57.944Z"
   },
   {
    "duration": 6,
    "start_time": "2023-09-08T22:23:54.778Z"
   },
   {
    "duration": 6,
    "start_time": "2023-09-08T22:27:48.840Z"
   },
   {
    "duration": 23,
    "start_time": "2023-09-08T22:28:57.521Z"
   },
   {
    "duration": 7,
    "start_time": "2023-09-08T22:29:23.161Z"
   },
   {
    "duration": 6,
    "start_time": "2023-09-08T22:29:26.623Z"
   },
   {
    "duration": 22,
    "start_time": "2023-09-08T22:29:29.265Z"
   },
   {
    "duration": 8,
    "start_time": "2023-09-08T22:29:30.217Z"
   },
   {
    "duration": 5,
    "start_time": "2023-09-08T22:29:51.880Z"
   },
   {
    "duration": 6,
    "start_time": "2023-09-08T22:29:52.569Z"
   },
   {
    "duration": 1112,
    "start_time": "2023-09-08T22:30:06.914Z"
   },
   {
    "duration": 84,
    "start_time": "2023-09-08T22:30:08.028Z"
   },
   {
    "duration": 11,
    "start_time": "2023-09-08T22:30:08.113Z"
   },
   {
    "duration": 25,
    "start_time": "2023-09-08T22:30:08.126Z"
   },
   {
    "duration": 4,
    "start_time": "2023-09-08T22:30:08.154Z"
   },
   {
    "duration": 29,
    "start_time": "2023-09-08T22:30:08.160Z"
   },
   {
    "duration": 38,
    "start_time": "2023-09-08T22:30:08.190Z"
   },
   {
    "duration": 24,
    "start_time": "2023-09-08T22:30:08.230Z"
   },
   {
    "duration": 14,
    "start_time": "2023-09-08T22:30:08.256Z"
   },
   {
    "duration": 38,
    "start_time": "2023-09-08T22:30:08.271Z"
   },
   {
    "duration": 35,
    "start_time": "2023-09-08T22:30:08.311Z"
   },
   {
    "duration": 6,
    "start_time": "2023-09-08T22:30:08.348Z"
   },
   {
    "duration": 39,
    "start_time": "2023-09-08T22:30:08.355Z"
   },
   {
    "duration": 45,
    "start_time": "2023-09-08T22:30:08.398Z"
   },
   {
    "duration": 4,
    "start_time": "2023-09-08T22:30:08.445Z"
   },
   {
    "duration": 25,
    "start_time": "2023-09-08T22:30:08.451Z"
   },
   {
    "duration": 10,
    "start_time": "2023-09-08T22:30:08.478Z"
   },
   {
    "duration": 58,
    "start_time": "2023-09-08T22:30:08.490Z"
   },
   {
    "duration": 43,
    "start_time": "2023-09-08T22:30:08.550Z"
   },
   {
    "duration": 58,
    "start_time": "2023-09-08T22:30:08.595Z"
   },
   {
    "duration": 5,
    "start_time": "2023-09-08T22:30:08.654Z"
   },
   {
    "duration": 28,
    "start_time": "2023-09-08T22:30:08.660Z"
   },
   {
    "duration": 22,
    "start_time": "2023-09-08T22:30:08.689Z"
   },
   {
    "duration": 36,
    "start_time": "2023-09-08T22:30:08.712Z"
   },
   {
    "duration": 75,
    "start_time": "2023-09-08T22:30:08.749Z"
   },
   {
    "duration": 25,
    "start_time": "2023-09-08T22:30:08.826Z"
   },
   {
    "duration": 6,
    "start_time": "2023-09-08T22:30:08.853Z"
   },
   {
    "duration": 711,
    "start_time": "2023-09-08T22:30:08.860Z"
   },
   {
    "duration": 415,
    "start_time": "2023-09-08T22:30:09.572Z"
   },
   {
    "duration": 5114,
    "start_time": "2023-09-08T22:30:09.989Z"
   },
   {
    "duration": 5401,
    "start_time": "2023-09-08T22:30:15.104Z"
   },
   {
    "duration": 973,
    "start_time": "2023-09-08T22:30:20.507Z"
   },
   {
    "duration": 187,
    "start_time": "2023-09-08T22:30:21.482Z"
   },
   {
    "duration": 198,
    "start_time": "2023-09-08T22:30:21.670Z"
   },
   {
    "duration": 171,
    "start_time": "2023-09-08T22:30:21.870Z"
   },
   {
    "duration": 144,
    "start_time": "2023-09-08T22:30:22.043Z"
   },
   {
    "duration": 155,
    "start_time": "2023-09-08T22:30:22.188Z"
   },
   {
    "duration": 148,
    "start_time": "2023-09-08T22:30:22.345Z"
   },
   {
    "duration": 1610,
    "start_time": "2023-09-08T22:30:22.495Z"
   },
   {
    "duration": 8,
    "start_time": "2023-09-08T22:30:24.107Z"
   },
   {
    "duration": 8,
    "start_time": "2023-09-08T22:30:24.119Z"
   },
   {
    "duration": 9,
    "start_time": "2023-09-08T22:30:24.128Z"
   },
   {
    "duration": 9,
    "start_time": "2023-09-08T22:30:24.138Z"
   },
   {
    "duration": 152,
    "start_time": "2023-09-08T22:30:24.149Z"
   },
   {
    "duration": 13,
    "start_time": "2023-09-08T22:30:24.302Z"
   },
   {
    "duration": 25,
    "start_time": "2023-09-08T22:30:24.317Z"
   },
   {
    "duration": 22,
    "start_time": "2023-09-08T22:30:24.344Z"
   },
   {
    "duration": 36,
    "start_time": "2023-09-08T22:30:24.369Z"
   },
   {
    "duration": 21,
    "start_time": "2023-09-08T22:30:24.407Z"
   },
   {
    "duration": 5,
    "start_time": "2023-09-08T22:31:09.959Z"
   },
   {
    "duration": 5,
    "start_time": "2023-09-08T22:31:24.886Z"
   },
   {
    "duration": 6,
    "start_time": "2023-09-08T22:31:25.730Z"
   },
   {
    "duration": 1053,
    "start_time": "2023-09-08T22:33:12.486Z"
   },
   {
    "duration": 78,
    "start_time": "2023-09-08T22:33:13.541Z"
   },
   {
    "duration": 12,
    "start_time": "2023-09-08T22:33:13.621Z"
   },
   {
    "duration": 31,
    "start_time": "2023-09-08T22:33:13.635Z"
   },
   {
    "duration": 3,
    "start_time": "2023-09-08T22:33:13.668Z"
   },
   {
    "duration": 22,
    "start_time": "2023-09-08T22:33:13.672Z"
   },
   {
    "duration": 10,
    "start_time": "2023-09-08T22:33:13.695Z"
   },
   {
    "duration": 16,
    "start_time": "2023-09-08T22:33:13.706Z"
   },
   {
    "duration": 15,
    "start_time": "2023-09-08T22:33:13.724Z"
   },
   {
    "duration": 15,
    "start_time": "2023-09-08T22:33:13.740Z"
   },
   {
    "duration": 46,
    "start_time": "2023-09-08T22:33:13.757Z"
   },
   {
    "duration": 19,
    "start_time": "2023-09-08T22:33:13.804Z"
   },
   {
    "duration": 41,
    "start_time": "2023-09-08T22:33:13.824Z"
   },
   {
    "duration": 17,
    "start_time": "2023-09-08T22:33:13.868Z"
   },
   {
    "duration": 45,
    "start_time": "2023-09-08T22:33:13.887Z"
   },
   {
    "duration": 7,
    "start_time": "2023-09-08T22:33:13.934Z"
   },
   {
    "duration": 21,
    "start_time": "2023-09-08T22:33:13.942Z"
   },
   {
    "duration": 27,
    "start_time": "2023-09-08T22:33:13.965Z"
   },
   {
    "duration": 70,
    "start_time": "2023-09-08T22:33:13.993Z"
   },
   {
    "duration": 45,
    "start_time": "2023-09-08T22:33:14.064Z"
   },
   {
    "duration": 55,
    "start_time": "2023-09-08T22:33:14.110Z"
   },
   {
    "duration": 5,
    "start_time": "2023-09-08T22:33:14.166Z"
   },
   {
    "duration": 20,
    "start_time": "2023-09-08T22:33:14.172Z"
   },
   {
    "duration": 6,
    "start_time": "2023-09-08T22:33:14.194Z"
   },
   {
    "duration": 15,
    "start_time": "2023-09-08T22:33:14.202Z"
   },
   {
    "duration": 49,
    "start_time": "2023-09-08T22:33:14.218Z"
   },
   {
    "duration": 21,
    "start_time": "2023-09-08T22:33:14.269Z"
   },
   {
    "duration": 3,
    "start_time": "2023-09-08T22:33:14.292Z"
   },
   {
    "duration": 820,
    "start_time": "2023-09-08T22:33:14.297Z"
   },
   {
    "duration": 412,
    "start_time": "2023-09-08T22:33:15.118Z"
   },
   {
    "duration": 5115,
    "start_time": "2023-09-08T22:33:15.531Z"
   },
   {
    "duration": 5384,
    "start_time": "2023-09-08T22:33:20.647Z"
   },
   {
    "duration": 951,
    "start_time": "2023-09-08T22:33:26.033Z"
   },
   {
    "duration": 179,
    "start_time": "2023-09-08T22:33:26.986Z"
   },
   {
    "duration": 200,
    "start_time": "2023-09-08T22:33:27.167Z"
   },
   {
    "duration": 150,
    "start_time": "2023-09-08T22:33:27.368Z"
   },
   {
    "duration": 133,
    "start_time": "2023-09-08T22:33:27.519Z"
   },
   {
    "duration": 138,
    "start_time": "2023-09-08T22:33:27.654Z"
   },
   {
    "duration": 150,
    "start_time": "2023-09-08T22:33:27.794Z"
   },
   {
    "duration": 1535,
    "start_time": "2023-09-08T22:33:27.946Z"
   },
   {
    "duration": 9,
    "start_time": "2023-09-08T22:33:29.486Z"
   },
   {
    "duration": 9,
    "start_time": "2023-09-08T22:33:29.496Z"
   },
   {
    "duration": 7,
    "start_time": "2023-09-08T22:33:29.507Z"
   },
   {
    "duration": 29,
    "start_time": "2023-09-08T22:33:29.516Z"
   },
   {
    "duration": 7,
    "start_time": "2023-09-08T22:33:29.547Z"
   },
   {
    "duration": 7,
    "start_time": "2023-09-08T22:33:29.556Z"
   },
   {
    "duration": 18,
    "start_time": "2023-09-08T22:33:29.565Z"
   },
   {
    "duration": 15,
    "start_time": "2023-09-08T22:33:29.584Z"
   },
   {
    "duration": 14,
    "start_time": "2023-09-08T22:33:29.600Z"
   },
   {
    "duration": 28,
    "start_time": "2023-09-08T22:33:29.616Z"
   },
   {
    "duration": 5,
    "start_time": "2023-09-08T22:48:27.091Z"
   },
   {
    "duration": 8,
    "start_time": "2023-09-08T22:48:40.995Z"
   },
   {
    "duration": 4,
    "start_time": "2023-09-08T22:48:44.813Z"
   },
   {
    "duration": 7,
    "start_time": "2023-09-08T22:48:45.541Z"
   },
   {
    "duration": 5,
    "start_time": "2023-09-08T22:48:52.753Z"
   },
   {
    "duration": 5,
    "start_time": "2023-09-08T23:05:35.038Z"
   },
   {
    "duration": 1127,
    "start_time": "2023-09-08T23:05:44.439Z"
   },
   {
    "duration": 101,
    "start_time": "2023-09-08T23:05:45.568Z"
   },
   {
    "duration": 12,
    "start_time": "2023-09-08T23:05:45.670Z"
   },
   {
    "duration": 16,
    "start_time": "2023-09-08T23:05:45.683Z"
   },
   {
    "duration": 3,
    "start_time": "2023-09-08T23:05:45.701Z"
   },
   {
    "duration": 15,
    "start_time": "2023-09-08T23:05:45.705Z"
   },
   {
    "duration": 19,
    "start_time": "2023-09-08T23:05:45.721Z"
   },
   {
    "duration": 4,
    "start_time": "2023-09-08T23:05:45.741Z"
   },
   {
    "duration": 11,
    "start_time": "2023-09-08T23:05:45.746Z"
   },
   {
    "duration": 9,
    "start_time": "2023-09-08T23:05:45.758Z"
   },
   {
    "duration": 6,
    "start_time": "2023-09-08T23:05:45.769Z"
   },
   {
    "duration": 13,
    "start_time": "2023-09-08T23:05:45.776Z"
   },
   {
    "duration": 10,
    "start_time": "2023-09-08T23:05:45.791Z"
   },
   {
    "duration": 27,
    "start_time": "2023-09-08T23:05:45.805Z"
   },
   {
    "duration": 15,
    "start_time": "2023-09-08T23:05:45.834Z"
   },
   {
    "duration": 46,
    "start_time": "2023-09-08T23:05:45.850Z"
   },
   {
    "duration": 4,
    "start_time": "2023-09-08T23:05:45.898Z"
   },
   {
    "duration": 13,
    "start_time": "2023-09-08T23:05:45.904Z"
   },
   {
    "duration": 21,
    "start_time": "2023-09-08T23:05:45.919Z"
   },
   {
    "duration": 56,
    "start_time": "2023-09-08T23:05:45.941Z"
   },
   {
    "duration": 47,
    "start_time": "2023-09-08T23:05:45.998Z"
   },
   {
    "duration": 45,
    "start_time": "2023-09-08T23:05:46.046Z"
   },
   {
    "duration": 5,
    "start_time": "2023-09-08T23:05:46.092Z"
   },
   {
    "duration": 9,
    "start_time": "2023-09-08T23:05:46.098Z"
   },
   {
    "duration": 8,
    "start_time": "2023-09-08T23:05:46.108Z"
   },
   {
    "duration": 18,
    "start_time": "2023-09-08T23:05:46.118Z"
   },
   {
    "duration": 44,
    "start_time": "2023-09-08T23:05:46.137Z"
   },
   {
    "duration": 22,
    "start_time": "2023-09-08T23:05:46.183Z"
   },
   {
    "duration": 3,
    "start_time": "2023-09-08T23:05:46.206Z"
   },
   {
    "duration": 735,
    "start_time": "2023-09-08T23:05:46.210Z"
   },
   {
    "duration": 404,
    "start_time": "2023-09-08T23:05:46.946Z"
   },
   {
    "duration": 5064,
    "start_time": "2023-09-08T23:05:47.352Z"
   },
   {
    "duration": 5328,
    "start_time": "2023-09-08T23:05:52.417Z"
   },
   {
    "duration": 942,
    "start_time": "2023-09-08T23:05:57.747Z"
   },
   {
    "duration": 177,
    "start_time": "2023-09-08T23:05:58.691Z"
   },
   {
    "duration": 212,
    "start_time": "2023-09-08T23:05:58.869Z"
   },
   {
    "duration": 152,
    "start_time": "2023-09-08T23:05:59.083Z"
   },
   {
    "duration": 136,
    "start_time": "2023-09-08T23:05:59.237Z"
   },
   {
    "duration": 139,
    "start_time": "2023-09-08T23:05:59.375Z"
   },
   {
    "duration": 143,
    "start_time": "2023-09-08T23:05:59.516Z"
   },
   {
    "duration": 1529,
    "start_time": "2023-09-08T23:05:59.664Z"
   },
   {
    "duration": 8,
    "start_time": "2023-09-08T23:06:01.195Z"
   },
   {
    "duration": 185,
    "start_time": "2023-09-08T23:06:01.204Z"
   },
   {
    "duration": 91,
    "start_time": "2023-09-08T23:06:01.391Z"
   },
   {
    "duration": 44,
    "start_time": "2023-09-08T23:06:01.484Z"
   },
   {
    "duration": 44,
    "start_time": "2023-09-08T23:06:01.529Z"
   },
   {
    "duration": 78,
    "start_time": "2023-09-08T23:06:01.575Z"
   },
   {
    "duration": 115,
    "start_time": "2023-09-08T23:06:01.655Z"
   },
   {
    "duration": 78,
    "start_time": "2023-09-08T23:06:01.771Z"
   },
   {
    "duration": 75,
    "start_time": "2023-09-08T23:06:01.851Z"
   },
   {
    "duration": 52,
    "start_time": "2023-09-08T23:06:01.928Z"
   },
   {
    "duration": 4,
    "start_time": "2023-09-08T23:09:36.116Z"
   },
   {
    "duration": 91,
    "start_time": "2023-09-08T23:09:37.955Z"
   },
   {
    "duration": 5,
    "start_time": "2023-09-08T23:09:43.404Z"
   },
   {
    "duration": 4,
    "start_time": "2023-09-08T23:09:48.847Z"
   },
   {
    "duration": 6,
    "start_time": "2023-09-08T23:09:50.195Z"
   },
   {
    "duration": 5,
    "start_time": "2023-09-08T23:09:51.140Z"
   },
   {
    "duration": 7,
    "start_time": "2023-09-08T23:10:38.979Z"
   },
   {
    "duration": 6,
    "start_time": "2023-09-08T23:10:41.073Z"
   },
   {
    "duration": 9,
    "start_time": "2023-09-08T23:11:19.107Z"
   },
   {
    "duration": 19,
    "start_time": "2023-09-08T23:11:24.083Z"
   },
   {
    "duration": 8,
    "start_time": "2023-09-08T23:11:38.032Z"
   },
   {
    "duration": 1145,
    "start_time": "2023-09-08T23:12:49.083Z"
   },
   {
    "duration": 107,
    "start_time": "2023-09-08T23:12:51.266Z"
   },
   {
    "duration": 13,
    "start_time": "2023-09-08T23:12:51.966Z"
   },
   {
    "duration": 17,
    "start_time": "2023-09-08T23:12:54.082Z"
   },
   {
    "duration": 3,
    "start_time": "2023-09-08T23:12:58.118Z"
   },
   {
    "duration": 25,
    "start_time": "2023-09-08T23:12:58.123Z"
   },
   {
    "duration": 9,
    "start_time": "2023-09-08T23:13:00.377Z"
   },
   {
    "duration": 5,
    "start_time": "2023-09-08T23:13:02.043Z"
   },
   {
    "duration": 8,
    "start_time": "2023-09-08T23:13:03.634Z"
   },
   {
    "duration": 6,
    "start_time": "2023-09-08T23:13:05.603Z"
   },
   {
    "duration": 9,
    "start_time": "2023-09-08T23:13:13.718Z"
   },
   {
    "duration": 21,
    "start_time": "2023-09-08T23:14:13.278Z"
   },
   {
    "duration": 5,
    "start_time": "2023-09-08T23:14:34.519Z"
   },
   {
    "duration": 4,
    "start_time": "2023-09-08T23:14:43.931Z"
   },
   {
    "duration": 5,
    "start_time": "2023-09-08T23:14:49.887Z"
   },
   {
    "duration": 6,
    "start_time": "2023-09-08T23:15:16.493Z"
   },
   {
    "duration": 1151,
    "start_time": "2023-09-08T23:16:04.711Z"
   },
   {
    "duration": 78,
    "start_time": "2023-09-08T23:16:05.864Z"
   },
   {
    "duration": 12,
    "start_time": "2023-09-08T23:16:05.943Z"
   },
   {
    "duration": 23,
    "start_time": "2023-09-08T23:16:05.957Z"
   },
   {
    "duration": 17,
    "start_time": "2023-09-08T23:16:05.981Z"
   },
   {
    "duration": 27,
    "start_time": "2023-09-08T23:16:05.999Z"
   },
   {
    "duration": 15,
    "start_time": "2023-09-08T23:16:06.028Z"
   },
   {
    "duration": 5,
    "start_time": "2023-09-08T23:16:06.045Z"
   },
   {
    "duration": 15,
    "start_time": "2023-09-08T23:16:06.051Z"
   },
   {
    "duration": 5,
    "start_time": "2023-09-08T23:16:06.069Z"
   },
   {
    "duration": 24,
    "start_time": "2023-09-08T23:16:06.075Z"
   },
   {
    "duration": 34,
    "start_time": "2023-09-08T23:16:06.101Z"
   },
   {
    "duration": 6,
    "start_time": "2023-09-08T23:16:06.137Z"
   },
   {
    "duration": 10,
    "start_time": "2023-09-08T23:16:06.145Z"
   },
   {
    "duration": 34,
    "start_time": "2023-09-08T23:16:06.156Z"
   },
   {
    "duration": 4,
    "start_time": "2023-09-08T23:16:06.192Z"
   },
   {
    "duration": 26,
    "start_time": "2023-09-08T23:16:06.198Z"
   },
   {
    "duration": 10,
    "start_time": "2023-09-08T23:16:06.233Z"
   },
   {
    "duration": 49,
    "start_time": "2023-09-08T23:16:06.245Z"
   },
   {
    "duration": 77,
    "start_time": "2023-09-08T23:16:06.296Z"
   },
   {
    "duration": 59,
    "start_time": "2023-09-08T23:16:06.375Z"
   },
   {
    "duration": 4,
    "start_time": "2023-09-08T23:16:06.436Z"
   },
   {
    "duration": 21,
    "start_time": "2023-09-08T23:16:06.442Z"
   },
   {
    "duration": 8,
    "start_time": "2023-09-08T23:16:06.464Z"
   },
   {
    "duration": 8,
    "start_time": "2023-09-08T23:16:06.474Z"
   },
   {
    "duration": 60,
    "start_time": "2023-09-08T23:16:06.483Z"
   },
   {
    "duration": 22,
    "start_time": "2023-09-08T23:16:06.545Z"
   },
   {
    "duration": 2,
    "start_time": "2023-09-08T23:16:06.571Z"
   },
   {
    "duration": 729,
    "start_time": "2023-09-08T23:16:06.575Z"
   },
   {
    "duration": 418,
    "start_time": "2023-09-08T23:16:07.305Z"
   },
   {
    "duration": 5269,
    "start_time": "2023-09-08T23:16:07.724Z"
   },
   {
    "duration": 5560,
    "start_time": "2023-09-08T23:16:12.995Z"
   },
   {
    "duration": 1023,
    "start_time": "2023-09-08T23:16:18.557Z"
   },
   {
    "duration": 201,
    "start_time": "2023-09-08T23:16:19.582Z"
   },
   {
    "duration": 211,
    "start_time": "2023-09-08T23:16:19.784Z"
   },
   {
    "duration": 157,
    "start_time": "2023-09-08T23:16:19.997Z"
   },
   {
    "duration": 141,
    "start_time": "2023-09-08T23:16:20.156Z"
   },
   {
    "duration": 143,
    "start_time": "2023-09-08T23:16:20.299Z"
   },
   {
    "duration": 160,
    "start_time": "2023-09-08T23:16:20.444Z"
   },
   {
    "duration": 1616,
    "start_time": "2023-09-08T23:16:20.605Z"
   },
   {
    "duration": 8,
    "start_time": "2023-09-08T23:16:22.223Z"
   },
   {
    "duration": 14,
    "start_time": "2023-09-08T23:16:22.232Z"
   },
   {
    "duration": 8,
    "start_time": "2023-09-08T23:16:22.247Z"
   },
   {
    "duration": 7,
    "start_time": "2023-09-08T23:16:22.257Z"
   },
   {
    "duration": 9,
    "start_time": "2023-09-08T23:16:22.265Z"
   },
   {
    "duration": 23,
    "start_time": "2023-09-08T23:16:22.275Z"
   },
   {
    "duration": 9,
    "start_time": "2023-09-08T23:16:22.299Z"
   },
   {
    "duration": 29,
    "start_time": "2023-09-08T23:16:22.309Z"
   },
   {
    "duration": 14,
    "start_time": "2023-09-08T23:16:22.339Z"
   },
   {
    "duration": 13,
    "start_time": "2023-09-08T23:16:22.355Z"
   },
   {
    "duration": 89,
    "start_time": "2023-09-08T23:16:43.758Z"
   },
   {
    "duration": 1125,
    "start_time": "2023-09-08T23:17:20.800Z"
   },
   {
    "duration": 80,
    "start_time": "2023-09-08T23:17:21.927Z"
   },
   {
    "duration": 12,
    "start_time": "2023-09-08T23:17:22.009Z"
   },
   {
    "duration": 35,
    "start_time": "2023-09-08T23:17:22.023Z"
   },
   {
    "duration": 43,
    "start_time": "2023-09-08T23:17:22.059Z"
   },
   {
    "duration": 36,
    "start_time": "2023-09-08T23:17:22.104Z"
   },
   {
    "duration": 23,
    "start_time": "2023-09-08T23:17:22.142Z"
   },
   {
    "duration": 31,
    "start_time": "2023-09-08T23:17:22.166Z"
   },
   {
    "duration": 37,
    "start_time": "2023-09-08T23:17:22.198Z"
   },
   {
    "duration": 26,
    "start_time": "2023-09-08T23:17:22.238Z"
   },
   {
    "duration": 46,
    "start_time": "2023-09-08T23:17:22.266Z"
   },
   {
    "duration": 29,
    "start_time": "2023-09-08T23:17:22.314Z"
   },
   {
    "duration": 8,
    "start_time": "2023-09-08T23:17:22.344Z"
   },
   {
    "duration": 136,
    "start_time": "2023-09-08T23:17:22.354Z"
   },
   {
    "duration": 0,
    "start_time": "2023-09-08T23:17:22.492Z"
   },
   {
    "duration": 0,
    "start_time": "2023-09-08T23:17:22.493Z"
   },
   {
    "duration": 0,
    "start_time": "2023-09-08T23:17:22.494Z"
   },
   {
    "duration": 0,
    "start_time": "2023-09-08T23:17:22.495Z"
   },
   {
    "duration": 0,
    "start_time": "2023-09-08T23:17:22.496Z"
   },
   {
    "duration": 0,
    "start_time": "2023-09-08T23:17:22.497Z"
   },
   {
    "duration": 0,
    "start_time": "2023-09-08T23:17:22.498Z"
   },
   {
    "duration": 0,
    "start_time": "2023-09-08T23:17:22.499Z"
   },
   {
    "duration": 0,
    "start_time": "2023-09-08T23:17:22.500Z"
   },
   {
    "duration": 0,
    "start_time": "2023-09-08T23:17:22.501Z"
   },
   {
    "duration": 0,
    "start_time": "2023-09-08T23:17:22.503Z"
   },
   {
    "duration": 0,
    "start_time": "2023-09-08T23:17:22.504Z"
   },
   {
    "duration": 0,
    "start_time": "2023-09-08T23:17:22.534Z"
   },
   {
    "duration": 0,
    "start_time": "2023-09-08T23:17:22.535Z"
   },
   {
    "duration": 0,
    "start_time": "2023-09-08T23:17:22.536Z"
   },
   {
    "duration": 0,
    "start_time": "2023-09-08T23:17:22.537Z"
   },
   {
    "duration": 0,
    "start_time": "2023-09-08T23:17:22.537Z"
   },
   {
    "duration": 0,
    "start_time": "2023-09-08T23:17:22.538Z"
   },
   {
    "duration": 0,
    "start_time": "2023-09-08T23:17:22.539Z"
   },
   {
    "duration": 0,
    "start_time": "2023-09-08T23:17:22.540Z"
   },
   {
    "duration": 0,
    "start_time": "2023-09-08T23:17:22.541Z"
   },
   {
    "duration": 0,
    "start_time": "2023-09-08T23:17:22.542Z"
   },
   {
    "duration": 0,
    "start_time": "2023-09-08T23:17:22.543Z"
   },
   {
    "duration": 0,
    "start_time": "2023-09-08T23:17:22.544Z"
   },
   {
    "duration": 0,
    "start_time": "2023-09-08T23:17:22.545Z"
   },
   {
    "duration": 0,
    "start_time": "2023-09-08T23:17:22.546Z"
   },
   {
    "duration": 0,
    "start_time": "2023-09-08T23:17:22.547Z"
   },
   {
    "duration": 0,
    "start_time": "2023-09-08T23:17:22.548Z"
   },
   {
    "duration": 0,
    "start_time": "2023-09-08T23:17:22.549Z"
   },
   {
    "duration": 0,
    "start_time": "2023-09-08T23:17:22.550Z"
   },
   {
    "duration": 0,
    "start_time": "2023-09-08T23:17:22.551Z"
   },
   {
    "duration": 0,
    "start_time": "2023-09-08T23:17:22.552Z"
   },
   {
    "duration": 0,
    "start_time": "2023-09-08T23:17:22.553Z"
   },
   {
    "duration": 0,
    "start_time": "2023-09-08T23:17:22.554Z"
   },
   {
    "duration": 0,
    "start_time": "2023-09-08T23:17:22.555Z"
   },
   {
    "duration": 0,
    "start_time": "2023-09-08T23:17:22.556Z"
   },
   {
    "duration": 0,
    "start_time": "2023-09-08T23:17:22.557Z"
   },
   {
    "duration": 5,
    "start_time": "2023-09-08T23:17:44.860Z"
   },
   {
    "duration": 9,
    "start_time": "2023-09-08T23:18:25.425Z"
   },
   {
    "duration": 6,
    "start_time": "2023-09-08T23:19:14.849Z"
   },
   {
    "duration": 21,
    "start_time": "2023-09-08T23:19:34.583Z"
   },
   {
    "duration": 6,
    "start_time": "2023-09-08T23:19:36.854Z"
   },
   {
    "duration": 20,
    "start_time": "2023-09-08T23:19:40.197Z"
   },
   {
    "duration": 5,
    "start_time": "2023-09-08T23:19:41.903Z"
   },
   {
    "duration": 5,
    "start_time": "2023-09-08T23:21:53.815Z"
   },
   {
    "duration": 5,
    "start_time": "2023-09-08T23:22:01.391Z"
   },
   {
    "duration": 5,
    "start_time": "2023-09-08T23:22:11.359Z"
   },
   {
    "duration": 5,
    "start_time": "2023-09-08T23:22:11.926Z"
   },
   {
    "duration": 6,
    "start_time": "2023-09-08T23:22:15.015Z"
   },
   {
    "duration": 5,
    "start_time": "2023-09-08T23:22:15.447Z"
   },
   {
    "duration": 6,
    "start_time": "2023-09-08T23:22:26.650Z"
   },
   {
    "duration": 4,
    "start_time": "2023-09-08T23:22:26.881Z"
   },
   {
    "duration": 5,
    "start_time": "2023-09-08T23:22:31.669Z"
   },
   {
    "duration": 5,
    "start_time": "2023-09-08T23:22:31.952Z"
   },
   {
    "duration": 5,
    "start_time": "2023-09-08T23:22:36.361Z"
   },
   {
    "duration": 10,
    "start_time": "2023-09-08T23:22:36.367Z"
   },
   {
    "duration": 4,
    "start_time": "2023-09-08T23:22:51.134Z"
   },
   {
    "duration": 4,
    "start_time": "2023-09-08T23:22:51.730Z"
   },
   {
    "duration": 4,
    "start_time": "2023-09-08T23:22:53.863Z"
   },
   {
    "duration": 4,
    "start_time": "2023-09-08T23:22:54.111Z"
   },
   {
    "duration": 6,
    "start_time": "2023-09-08T23:22:59.397Z"
   },
   {
    "duration": 5,
    "start_time": "2023-09-08T23:22:59.649Z"
   },
   {
    "duration": 8,
    "start_time": "2023-09-08T23:24:14.431Z"
   },
   {
    "duration": 9,
    "start_time": "2023-09-08T23:24:14.441Z"
   },
   {
    "duration": 7,
    "start_time": "2023-09-08T23:24:16.190Z"
   },
   {
    "duration": 5,
    "start_time": "2023-09-08T23:24:16.407Z"
   },
   {
    "duration": 1131,
    "start_time": "2023-09-08T23:24:22.131Z"
   },
   {
    "duration": 74,
    "start_time": "2023-09-08T23:24:23.263Z"
   },
   {
    "duration": 12,
    "start_time": "2023-09-08T23:24:23.339Z"
   },
   {
    "duration": 37,
    "start_time": "2023-09-08T23:24:23.353Z"
   },
   {
    "duration": 22,
    "start_time": "2023-09-08T23:24:23.392Z"
   },
   {
    "duration": 24,
    "start_time": "2023-09-08T23:24:23.415Z"
   },
   {
    "duration": 31,
    "start_time": "2023-09-08T23:24:23.441Z"
   },
   {
    "duration": 13,
    "start_time": "2023-09-08T23:24:23.473Z"
   },
   {
    "duration": 29,
    "start_time": "2023-09-08T23:24:23.487Z"
   },
   {
    "duration": 35,
    "start_time": "2023-09-08T23:24:23.519Z"
   },
   {
    "duration": 24,
    "start_time": "2023-09-08T23:24:23.555Z"
   },
   {
    "duration": 34,
    "start_time": "2023-09-08T23:24:23.580Z"
   },
   {
    "duration": 17,
    "start_time": "2023-09-08T23:24:23.616Z"
   },
   {
    "duration": 32,
    "start_time": "2023-09-08T23:24:23.635Z"
   },
   {
    "duration": 4,
    "start_time": "2023-09-08T23:24:23.669Z"
   },
   {
    "duration": 14,
    "start_time": "2023-09-08T23:24:23.675Z"
   },
   {
    "duration": 29,
    "start_time": "2023-09-08T23:24:23.690Z"
   },
   {
    "duration": 46,
    "start_time": "2023-09-08T23:24:23.721Z"
   },
   {
    "duration": 46,
    "start_time": "2023-09-08T23:24:23.768Z"
   },
   {
    "duration": 58,
    "start_time": "2023-09-08T23:24:23.816Z"
   },
   {
    "duration": 5,
    "start_time": "2023-09-08T23:24:23.875Z"
   },
   {
    "duration": 15,
    "start_time": "2023-09-08T23:24:23.881Z"
   },
   {
    "duration": 14,
    "start_time": "2023-09-08T23:24:23.897Z"
   },
   {
    "duration": 19,
    "start_time": "2023-09-08T23:24:23.913Z"
   },
   {
    "duration": 61,
    "start_time": "2023-09-08T23:24:23.933Z"
   },
   {
    "duration": 21,
    "start_time": "2023-09-08T23:24:23.996Z"
   },
   {
    "duration": 3,
    "start_time": "2023-09-08T23:24:24.019Z"
   },
   {
    "duration": 746,
    "start_time": "2023-09-08T23:24:24.025Z"
   },
   {
    "duration": 424,
    "start_time": "2023-09-08T23:24:24.772Z"
   },
   {
    "duration": 4973,
    "start_time": "2023-09-08T23:24:25.197Z"
   },
   {
    "duration": 5408,
    "start_time": "2023-09-08T23:24:30.171Z"
   },
   {
    "duration": 933,
    "start_time": "2023-09-08T23:24:35.581Z"
   },
   {
    "duration": 190,
    "start_time": "2023-09-08T23:24:36.516Z"
   },
   {
    "duration": 204,
    "start_time": "2023-09-08T23:24:36.709Z"
   },
   {
    "duration": 149,
    "start_time": "2023-09-08T23:24:36.915Z"
   },
   {
    "duration": 132,
    "start_time": "2023-09-08T23:24:37.066Z"
   },
   {
    "duration": 145,
    "start_time": "2023-09-08T23:24:37.200Z"
   },
   {
    "duration": 147,
    "start_time": "2023-09-08T23:24:37.347Z"
   },
   {
    "duration": 1578,
    "start_time": "2023-09-08T23:24:37.495Z"
   },
   {
    "duration": 9,
    "start_time": "2023-09-08T23:24:39.075Z"
   },
   {
    "duration": 14,
    "start_time": "2023-09-08T23:24:39.086Z"
   },
   {
    "duration": 15,
    "start_time": "2023-09-08T23:24:39.102Z"
   },
   {
    "duration": 9,
    "start_time": "2023-09-08T23:24:39.119Z"
   },
   {
    "duration": 10,
    "start_time": "2023-09-08T23:24:39.129Z"
   },
   {
    "duration": 12,
    "start_time": "2023-09-08T23:24:39.140Z"
   },
   {
    "duration": 8,
    "start_time": "2023-09-08T23:24:39.153Z"
   },
   {
    "duration": 30,
    "start_time": "2023-09-08T23:24:39.162Z"
   },
   {
    "duration": 22,
    "start_time": "2023-09-08T23:24:39.194Z"
   },
   {
    "duration": 18,
    "start_time": "2023-09-08T23:24:39.217Z"
   },
   {
    "duration": 5,
    "start_time": "2023-09-08T23:25:01.383Z"
   },
   {
    "duration": 9,
    "start_time": "2023-09-08T23:25:15.128Z"
   },
   {
    "duration": 5,
    "start_time": "2023-09-08T23:25:28.559Z"
   },
   {
    "duration": 94,
    "start_time": "2023-09-08T23:25:50.993Z"
   },
   {
    "duration": 6,
    "start_time": "2023-09-08T23:25:57.393Z"
   },
   {
    "duration": 8,
    "start_time": "2023-09-08T23:26:02.063Z"
   },
   {
    "duration": 7,
    "start_time": "2023-09-08T23:26:05.943Z"
   },
   {
    "duration": 7,
    "start_time": "2023-09-08T23:26:13.804Z"
   },
   {
    "duration": 4,
    "start_time": "2023-09-08T23:26:29.479Z"
   },
   {
    "duration": 5,
    "start_time": "2023-09-08T23:27:46.766Z"
   },
   {
    "duration": 14,
    "start_time": "2023-09-08T23:27:58.023Z"
   },
   {
    "duration": 4,
    "start_time": "2023-09-08T23:29:54.336Z"
   },
   {
    "duration": 29,
    "start_time": "2023-09-08T23:29:55.303Z"
   },
   {
    "duration": 4,
    "start_time": "2023-09-08T23:33:47.670Z"
   },
   {
    "duration": 44,
    "start_time": "2023-09-08T23:33:48.310Z"
   },
   {
    "duration": 1103,
    "start_time": "2023-09-08T23:33:53.634Z"
   },
   {
    "duration": 87,
    "start_time": "2023-09-08T23:33:54.738Z"
   },
   {
    "duration": 12,
    "start_time": "2023-09-08T23:33:54.827Z"
   },
   {
    "duration": 23,
    "start_time": "2023-09-08T23:33:54.841Z"
   },
   {
    "duration": 4,
    "start_time": "2023-09-08T23:33:54.867Z"
   },
   {
    "duration": 22,
    "start_time": "2023-09-08T23:33:54.872Z"
   },
   {
    "duration": 19,
    "start_time": "2023-09-08T23:33:54.896Z"
   },
   {
    "duration": 18,
    "start_time": "2023-09-08T23:33:54.916Z"
   },
   {
    "duration": 7,
    "start_time": "2023-09-08T23:33:54.935Z"
   },
   {
    "duration": 7,
    "start_time": "2023-09-08T23:33:54.943Z"
   },
   {
    "duration": 12,
    "start_time": "2023-09-08T23:33:54.951Z"
   },
   {
    "duration": 15,
    "start_time": "2023-09-08T23:33:54.964Z"
   },
   {
    "duration": 40,
    "start_time": "2023-09-08T23:33:54.981Z"
   },
   {
    "duration": 3,
    "start_time": "2023-09-08T23:33:55.024Z"
   },
   {
    "duration": 17,
    "start_time": "2023-09-08T23:33:55.029Z"
   },
   {
    "duration": 13,
    "start_time": "2023-09-08T23:33:55.047Z"
   },
   {
    "duration": 48,
    "start_time": "2023-09-08T23:33:55.061Z"
   },
   {
    "duration": 51,
    "start_time": "2023-09-08T23:33:55.111Z"
   },
   {
    "duration": 42,
    "start_time": "2023-09-08T23:33:55.164Z"
   },
   {
    "duration": 5,
    "start_time": "2023-09-08T23:33:55.208Z"
   },
   {
    "duration": 21,
    "start_time": "2023-09-08T23:33:55.214Z"
   },
   {
    "duration": 19,
    "start_time": "2023-09-08T23:33:55.236Z"
   },
   {
    "duration": 14,
    "start_time": "2023-09-08T23:33:55.256Z"
   },
   {
    "duration": 51,
    "start_time": "2023-09-08T23:33:55.271Z"
   },
   {
    "duration": 21,
    "start_time": "2023-09-08T23:33:55.323Z"
   },
   {
    "duration": 2,
    "start_time": "2023-09-08T23:33:55.346Z"
   },
   {
    "duration": 723,
    "start_time": "2023-09-08T23:33:55.350Z"
   },
   {
    "duration": 409,
    "start_time": "2023-09-08T23:33:56.074Z"
   },
   {
    "duration": 5121,
    "start_time": "2023-09-08T23:33:56.484Z"
   },
   {
    "duration": 5478,
    "start_time": "2023-09-08T23:34:01.607Z"
   },
   {
    "duration": 944,
    "start_time": "2023-09-08T23:34:07.087Z"
   },
   {
    "duration": 176,
    "start_time": "2023-09-08T23:34:08.034Z"
   },
   {
    "duration": 214,
    "start_time": "2023-09-08T23:34:08.212Z"
   },
   {
    "duration": 152,
    "start_time": "2023-09-08T23:34:08.428Z"
   },
   {
    "duration": 143,
    "start_time": "2023-09-08T23:34:08.582Z"
   },
   {
    "duration": 141,
    "start_time": "2023-09-08T23:34:08.726Z"
   },
   {
    "duration": 149,
    "start_time": "2023-09-08T23:34:08.869Z"
   },
   {
    "duration": 1441,
    "start_time": "2023-09-08T23:34:09.020Z"
   },
   {
    "duration": 8,
    "start_time": "2023-09-08T23:34:10.463Z"
   },
   {
    "duration": 12,
    "start_time": "2023-09-08T23:34:10.472Z"
   },
   {
    "duration": 9,
    "start_time": "2023-09-08T23:34:10.487Z"
   },
   {
    "duration": 1549,
    "start_time": "2023-09-08T23:34:10.497Z"
   },
   {
    "duration": 0,
    "start_time": "2023-09-08T23:34:12.048Z"
   },
   {
    "duration": 0,
    "start_time": "2023-09-08T23:34:12.049Z"
   },
   {
    "duration": 0,
    "start_time": "2023-09-08T23:34:12.050Z"
   },
   {
    "duration": 0,
    "start_time": "2023-09-08T23:34:12.051Z"
   },
   {
    "duration": 0,
    "start_time": "2023-09-08T23:34:12.052Z"
   },
   {
    "duration": 0,
    "start_time": "2023-09-08T23:34:12.053Z"
   },
   {
    "duration": 4,
    "start_time": "2023-09-08T23:35:19.997Z"
   },
   {
    "duration": 1086,
    "start_time": "2023-09-08T23:35:25.329Z"
   },
   {
    "duration": 80,
    "start_time": "2023-09-08T23:35:26.417Z"
   },
   {
    "duration": 13,
    "start_time": "2023-09-08T23:35:26.498Z"
   },
   {
    "duration": 16,
    "start_time": "2023-09-08T23:35:26.513Z"
   },
   {
    "duration": 3,
    "start_time": "2023-09-08T23:35:26.530Z"
   },
   {
    "duration": 18,
    "start_time": "2023-09-08T23:35:26.534Z"
   },
   {
    "duration": 9,
    "start_time": "2023-09-08T23:35:26.554Z"
   },
   {
    "duration": 12,
    "start_time": "2023-09-08T23:35:26.564Z"
   },
   {
    "duration": 23,
    "start_time": "2023-09-08T23:35:26.577Z"
   },
   {
    "duration": 15,
    "start_time": "2023-09-08T23:35:26.603Z"
   },
   {
    "duration": 24,
    "start_time": "2023-09-08T23:35:26.619Z"
   },
   {
    "duration": 30,
    "start_time": "2023-09-08T23:35:26.645Z"
   },
   {
    "duration": 66,
    "start_time": "2023-09-08T23:35:26.677Z"
   },
   {
    "duration": 46,
    "start_time": "2023-09-08T23:35:26.744Z"
   },
   {
    "duration": 51,
    "start_time": "2023-09-08T23:35:26.792Z"
   },
   {
    "duration": 46,
    "start_time": "2023-09-08T23:35:26.844Z"
   },
   {
    "duration": 90,
    "start_time": "2023-09-08T23:35:26.891Z"
   },
   {
    "duration": 42,
    "start_time": "2023-09-08T23:35:26.982Z"
   },
   {
    "duration": 43,
    "start_time": "2023-09-08T23:35:27.026Z"
   },
   {
    "duration": 5,
    "start_time": "2023-09-08T23:35:27.070Z"
   },
   {
    "duration": 28,
    "start_time": "2023-09-08T23:35:27.076Z"
   },
   {
    "duration": 19,
    "start_time": "2023-09-08T23:35:27.105Z"
   },
   {
    "duration": 34,
    "start_time": "2023-09-08T23:35:27.125Z"
   },
   {
    "duration": 56,
    "start_time": "2023-09-08T23:35:27.161Z"
   },
   {
    "duration": 21,
    "start_time": "2023-09-08T23:35:27.219Z"
   },
   {
    "duration": 20,
    "start_time": "2023-09-08T23:35:27.241Z"
   },
   {
    "duration": 717,
    "start_time": "2023-09-08T23:35:27.262Z"
   },
   {
    "duration": 410,
    "start_time": "2023-09-08T23:35:27.982Z"
   },
   {
    "duration": 5196,
    "start_time": "2023-09-08T23:35:28.394Z"
   },
   {
    "duration": 5389,
    "start_time": "2023-09-08T23:35:33.591Z"
   },
   {
    "duration": 936,
    "start_time": "2023-09-08T23:35:38.982Z"
   },
   {
    "duration": 190,
    "start_time": "2023-09-08T23:35:39.920Z"
   },
   {
    "duration": 210,
    "start_time": "2023-09-08T23:35:40.111Z"
   },
   {
    "duration": 154,
    "start_time": "2023-09-08T23:35:40.322Z"
   },
   {
    "duration": 139,
    "start_time": "2023-09-08T23:35:40.478Z"
   },
   {
    "duration": 146,
    "start_time": "2023-09-08T23:35:40.619Z"
   },
   {
    "duration": 149,
    "start_time": "2023-09-08T23:35:40.767Z"
   },
   {
    "duration": 1460,
    "start_time": "2023-09-08T23:35:40.917Z"
   },
   {
    "duration": 8,
    "start_time": "2023-09-08T23:35:42.379Z"
   },
   {
    "duration": 8,
    "start_time": "2023-09-08T23:35:42.389Z"
   },
   {
    "duration": 8,
    "start_time": "2023-09-08T23:35:42.398Z"
   },
   {
    "duration": 1632,
    "start_time": "2023-09-08T23:35:42.408Z"
   },
   {
    "duration": 0,
    "start_time": "2023-09-08T23:35:44.042Z"
   },
   {
    "duration": 0,
    "start_time": "2023-09-08T23:35:44.043Z"
   },
   {
    "duration": 0,
    "start_time": "2023-09-08T23:35:44.045Z"
   },
   {
    "duration": 0,
    "start_time": "2023-09-08T23:35:44.046Z"
   },
   {
    "duration": 0,
    "start_time": "2023-09-08T23:35:44.047Z"
   },
   {
    "duration": 0,
    "start_time": "2023-09-08T23:35:44.048Z"
   },
   {
    "duration": 3,
    "start_time": "2023-09-08T23:35:53.090Z"
   },
   {
    "duration": 1119,
    "start_time": "2023-09-08T23:35:59.206Z"
   },
   {
    "duration": 86,
    "start_time": "2023-09-08T23:36:00.327Z"
   },
   {
    "duration": 12,
    "start_time": "2023-09-08T23:36:00.415Z"
   },
   {
    "duration": 54,
    "start_time": "2023-09-08T23:36:00.429Z"
   },
   {
    "duration": 43,
    "start_time": "2023-09-08T23:36:00.485Z"
   },
   {
    "duration": 45,
    "start_time": "2023-09-08T23:36:00.530Z"
   },
   {
    "duration": 38,
    "start_time": "2023-09-08T23:36:00.577Z"
   },
   {
    "duration": 25,
    "start_time": "2023-09-08T23:36:00.616Z"
   },
   {
    "duration": 53,
    "start_time": "2023-09-08T23:36:00.642Z"
   },
   {
    "duration": 51,
    "start_time": "2023-09-08T23:36:00.697Z"
   },
   {
    "duration": 40,
    "start_time": "2023-09-08T23:36:00.749Z"
   },
   {
    "duration": 1390,
    "start_time": "2023-09-08T23:36:00.791Z"
   },
   {
    "duration": 0,
    "start_time": "2023-09-08T23:36:02.184Z"
   },
   {
    "duration": 1,
    "start_time": "2023-09-08T23:36:02.186Z"
   },
   {
    "duration": 0,
    "start_time": "2023-09-08T23:36:02.188Z"
   },
   {
    "duration": 0,
    "start_time": "2023-09-08T23:36:02.189Z"
   },
   {
    "duration": 0,
    "start_time": "2023-09-08T23:36:02.190Z"
   },
   {
    "duration": 0,
    "start_time": "2023-09-08T23:36:02.192Z"
   },
   {
    "duration": 0,
    "start_time": "2023-09-08T23:36:02.193Z"
   },
   {
    "duration": 0,
    "start_time": "2023-09-08T23:36:02.194Z"
   },
   {
    "duration": 0,
    "start_time": "2023-09-08T23:36:02.196Z"
   },
   {
    "duration": 0,
    "start_time": "2023-09-08T23:36:02.197Z"
   },
   {
    "duration": 0,
    "start_time": "2023-09-08T23:36:02.198Z"
   },
   {
    "duration": 0,
    "start_time": "2023-09-08T23:36:02.199Z"
   },
   {
    "duration": 0,
    "start_time": "2023-09-08T23:36:02.201Z"
   },
   {
    "duration": 0,
    "start_time": "2023-09-08T23:36:02.202Z"
   },
   {
    "duration": 0,
    "start_time": "2023-09-08T23:36:02.203Z"
   },
   {
    "duration": 0,
    "start_time": "2023-09-08T23:36:02.205Z"
   },
   {
    "duration": 0,
    "start_time": "2023-09-08T23:36:02.206Z"
   },
   {
    "duration": 0,
    "start_time": "2023-09-08T23:36:02.207Z"
   },
   {
    "duration": 0,
    "start_time": "2023-09-08T23:36:02.209Z"
   },
   {
    "duration": 0,
    "start_time": "2023-09-08T23:36:02.210Z"
   },
   {
    "duration": 0,
    "start_time": "2023-09-08T23:36:02.212Z"
   },
   {
    "duration": 0,
    "start_time": "2023-09-08T23:36:02.213Z"
   },
   {
    "duration": 0,
    "start_time": "2023-09-08T23:36:02.214Z"
   },
   {
    "duration": 0,
    "start_time": "2023-09-08T23:36:02.215Z"
   },
   {
    "duration": 0,
    "start_time": "2023-09-08T23:36:02.216Z"
   },
   {
    "duration": 0,
    "start_time": "2023-09-08T23:36:02.217Z"
   },
   {
    "duration": 0,
    "start_time": "2023-09-08T23:36:02.218Z"
   },
   {
    "duration": 0,
    "start_time": "2023-09-08T23:36:02.219Z"
   },
   {
    "duration": 0,
    "start_time": "2023-09-08T23:36:02.220Z"
   },
   {
    "duration": 0,
    "start_time": "2023-09-08T23:36:02.221Z"
   },
   {
    "duration": 0,
    "start_time": "2023-09-08T23:36:02.222Z"
   },
   {
    "duration": 0,
    "start_time": "2023-09-08T23:36:02.223Z"
   },
   {
    "duration": 0,
    "start_time": "2023-09-08T23:36:02.234Z"
   },
   {
    "duration": 0,
    "start_time": "2023-09-08T23:36:02.235Z"
   },
   {
    "duration": 0,
    "start_time": "2023-09-08T23:36:02.235Z"
   },
   {
    "duration": 0,
    "start_time": "2023-09-08T23:36:02.236Z"
   },
   {
    "duration": 8,
    "start_time": "2023-09-08T23:36:45.157Z"
   },
   {
    "duration": 1559,
    "start_time": "2023-09-08T23:37:31.298Z"
   },
   {
    "duration": 1141,
    "start_time": "2023-09-08T23:37:53.393Z"
   },
   {
    "duration": 117,
    "start_time": "2023-09-08T23:37:54.536Z"
   },
   {
    "duration": 13,
    "start_time": "2023-09-08T23:37:54.654Z"
   },
   {
    "duration": 17,
    "start_time": "2023-09-08T23:37:54.668Z"
   },
   {
    "duration": 3,
    "start_time": "2023-09-08T23:37:54.687Z"
   },
   {
    "duration": 18,
    "start_time": "2023-09-08T23:37:54.692Z"
   },
   {
    "duration": 28,
    "start_time": "2023-09-08T23:37:54.712Z"
   },
   {
    "duration": 5,
    "start_time": "2023-09-08T23:37:54.742Z"
   },
   {
    "duration": 18,
    "start_time": "2023-09-08T23:37:54.749Z"
   },
   {
    "duration": 10,
    "start_time": "2023-09-08T23:37:54.769Z"
   },
   {
    "duration": 12,
    "start_time": "2023-09-08T23:37:54.781Z"
   },
   {
    "duration": 14,
    "start_time": "2023-09-08T23:37:54.795Z"
   },
   {
    "duration": 35,
    "start_time": "2023-09-08T23:37:54.811Z"
   },
   {
    "duration": 4,
    "start_time": "2023-09-08T23:37:54.850Z"
   },
   {
    "duration": 12,
    "start_time": "2023-09-08T23:37:54.856Z"
   },
   {
    "duration": 8,
    "start_time": "2023-09-08T23:37:54.869Z"
   },
   {
    "duration": 60,
    "start_time": "2023-09-08T23:37:54.879Z"
   },
   {
    "duration": 46,
    "start_time": "2023-09-08T23:37:54.941Z"
   },
   {
    "duration": 66,
    "start_time": "2023-09-08T23:37:54.989Z"
   },
   {
    "duration": 6,
    "start_time": "2023-09-08T23:37:55.057Z"
   },
   {
    "duration": 14,
    "start_time": "2023-09-08T23:37:55.065Z"
   },
   {
    "duration": 10,
    "start_time": "2023-09-08T23:37:55.080Z"
   },
   {
    "duration": 13,
    "start_time": "2023-09-08T23:37:55.092Z"
   },
   {
    "duration": 57,
    "start_time": "2023-09-08T23:37:55.106Z"
   },
   {
    "duration": 22,
    "start_time": "2023-09-08T23:37:55.165Z"
   },
   {
    "duration": 3,
    "start_time": "2023-09-08T23:37:55.189Z"
   },
   {
    "duration": 740,
    "start_time": "2023-09-08T23:37:55.194Z"
   },
   {
    "duration": 414,
    "start_time": "2023-09-08T23:37:55.936Z"
   },
   {
    "duration": 5204,
    "start_time": "2023-09-08T23:37:56.352Z"
   },
   {
    "duration": 5611,
    "start_time": "2023-09-08T23:38:01.558Z"
   },
   {
    "duration": 968,
    "start_time": "2023-09-08T23:38:07.171Z"
   },
   {
    "duration": 180,
    "start_time": "2023-09-08T23:38:08.141Z"
   },
   {
    "duration": 214,
    "start_time": "2023-09-08T23:38:08.323Z"
   },
   {
    "duration": 150,
    "start_time": "2023-09-08T23:38:08.539Z"
   },
   {
    "duration": 139,
    "start_time": "2023-09-08T23:38:08.691Z"
   },
   {
    "duration": 139,
    "start_time": "2023-09-08T23:38:08.833Z"
   },
   {
    "duration": 150,
    "start_time": "2023-09-08T23:38:08.974Z"
   },
   {
    "duration": 1456,
    "start_time": "2023-09-08T23:38:09.125Z"
   },
   {
    "duration": 10,
    "start_time": "2023-09-08T23:38:10.583Z"
   },
   {
    "duration": 20,
    "start_time": "2023-09-08T23:38:10.595Z"
   },
   {
    "duration": 17,
    "start_time": "2023-09-08T23:38:10.618Z"
   },
   {
    "duration": 2085,
    "start_time": "2023-09-08T23:38:10.638Z"
   },
   {
    "duration": 0,
    "start_time": "2023-09-08T23:38:12.725Z"
   },
   {
    "duration": 0,
    "start_time": "2023-09-08T23:38:12.726Z"
   },
   {
    "duration": 0,
    "start_time": "2023-09-08T23:38:12.727Z"
   },
   {
    "duration": 0,
    "start_time": "2023-09-08T23:38:12.727Z"
   },
   {
    "duration": 0,
    "start_time": "2023-09-08T23:38:12.728Z"
   },
   {
    "duration": 0,
    "start_time": "2023-09-08T23:38:12.729Z"
   },
   {
    "duration": 4,
    "start_time": "2023-09-08T23:38:43.103Z"
   },
   {
    "duration": 1270,
    "start_time": "2023-09-08T23:38:54.150Z"
   },
   {
    "duration": 98,
    "start_time": "2023-09-08T23:38:55.422Z"
   },
   {
    "duration": 13,
    "start_time": "2023-09-08T23:38:55.522Z"
   },
   {
    "duration": 25,
    "start_time": "2023-09-08T23:38:55.537Z"
   },
   {
    "duration": 19,
    "start_time": "2023-09-08T23:38:55.565Z"
   },
   {
    "duration": 20,
    "start_time": "2023-09-08T23:38:55.585Z"
   },
   {
    "duration": 17,
    "start_time": "2023-09-08T23:38:55.607Z"
   },
   {
    "duration": 6,
    "start_time": "2023-09-08T23:38:55.625Z"
   },
   {
    "duration": 19,
    "start_time": "2023-09-08T23:38:55.633Z"
   },
   {
    "duration": 13,
    "start_time": "2023-09-08T23:38:55.653Z"
   },
   {
    "duration": 20,
    "start_time": "2023-09-08T23:38:55.668Z"
   },
   {
    "duration": 8,
    "start_time": "2023-09-08T23:38:55.690Z"
   },
   {
    "duration": 30,
    "start_time": "2023-09-08T23:38:55.700Z"
   },
   {
    "duration": 4,
    "start_time": "2023-09-08T23:38:55.732Z"
   },
   {
    "duration": 15,
    "start_time": "2023-09-08T23:38:55.737Z"
   },
   {
    "duration": 8,
    "start_time": "2023-09-08T23:38:55.753Z"
   },
   {
    "duration": 56,
    "start_time": "2023-09-08T23:38:55.762Z"
   },
   {
    "duration": 42,
    "start_time": "2023-09-08T23:38:55.820Z"
   },
   {
    "duration": 42,
    "start_time": "2023-09-08T23:38:55.864Z"
   },
   {
    "duration": 5,
    "start_time": "2023-09-08T23:38:55.907Z"
   },
   {
    "duration": 21,
    "start_time": "2023-09-08T23:38:55.913Z"
   },
   {
    "duration": 11,
    "start_time": "2023-09-08T23:38:55.936Z"
   },
   {
    "duration": 34,
    "start_time": "2023-09-08T23:38:55.949Z"
   },
   {
    "duration": 58,
    "start_time": "2023-09-08T23:38:55.985Z"
   },
   {
    "duration": 21,
    "start_time": "2023-09-08T23:38:56.045Z"
   },
   {
    "duration": 3,
    "start_time": "2023-09-08T23:38:56.068Z"
   },
   {
    "duration": 731,
    "start_time": "2023-09-08T23:38:56.072Z"
   },
   {
    "duration": 409,
    "start_time": "2023-09-08T23:38:56.805Z"
   },
   {
    "duration": 5251,
    "start_time": "2023-09-08T23:38:57.216Z"
   },
   {
    "duration": 5293,
    "start_time": "2023-09-08T23:39:02.469Z"
   },
   {
    "duration": 938,
    "start_time": "2023-09-08T23:39:07.763Z"
   },
   {
    "duration": 178,
    "start_time": "2023-09-08T23:39:08.703Z"
   },
   {
    "duration": 206,
    "start_time": "2023-09-08T23:39:08.882Z"
   },
   {
    "duration": 148,
    "start_time": "2023-09-08T23:39:09.090Z"
   },
   {
    "duration": 131,
    "start_time": "2023-09-08T23:39:09.239Z"
   },
   {
    "duration": 146,
    "start_time": "2023-09-08T23:39:09.372Z"
   },
   {
    "duration": 148,
    "start_time": "2023-09-08T23:39:09.520Z"
   },
   {
    "duration": 1440,
    "start_time": "2023-09-08T23:39:09.669Z"
   },
   {
    "duration": 10,
    "start_time": "2023-09-08T23:39:11.111Z"
   },
   {
    "duration": 17,
    "start_time": "2023-09-08T23:39:11.123Z"
   },
   {
    "duration": 7,
    "start_time": "2023-09-08T23:39:11.144Z"
   },
   {
    "duration": 1583,
    "start_time": "2023-09-08T23:39:11.153Z"
   },
   {
    "duration": 0,
    "start_time": "2023-09-08T23:39:12.738Z"
   },
   {
    "duration": 0,
    "start_time": "2023-09-08T23:39:12.739Z"
   },
   {
    "duration": 0,
    "start_time": "2023-09-08T23:39:12.740Z"
   },
   {
    "duration": 0,
    "start_time": "2023-09-08T23:39:12.741Z"
   },
   {
    "duration": 0,
    "start_time": "2023-09-08T23:39:12.742Z"
   },
   {
    "duration": 0,
    "start_time": "2023-09-08T23:39:12.743Z"
   },
   {
    "duration": 22,
    "start_time": "2023-09-08T23:41:46.529Z"
   },
   {
    "duration": 7,
    "start_time": "2023-09-08T23:41:57.938Z"
   },
   {
    "duration": 22,
    "start_time": "2023-09-08T23:42:04.762Z"
   },
   {
    "duration": 7,
    "start_time": "2023-09-08T23:42:10.497Z"
   },
   {
    "duration": 18,
    "start_time": "2023-09-08T23:42:24.222Z"
   },
   {
    "duration": 11,
    "start_time": "2023-09-08T23:43:59.471Z"
   },
   {
    "duration": 16,
    "start_time": "2023-09-08T23:44:04.414Z"
   },
   {
    "duration": 4,
    "start_time": "2023-09-08T23:45:51.863Z"
   },
   {
    "duration": 21,
    "start_time": "2023-09-08T23:47:16.091Z"
   },
   {
    "duration": 1052,
    "start_time": "2023-09-08T23:47:57.774Z"
   },
   {
    "duration": 78,
    "start_time": "2023-09-08T23:47:58.828Z"
   },
   {
    "duration": 11,
    "start_time": "2023-09-08T23:47:58.907Z"
   },
   {
    "duration": 19,
    "start_time": "2023-09-08T23:47:58.920Z"
   },
   {
    "duration": 3,
    "start_time": "2023-09-08T23:47:58.940Z"
   },
   {
    "duration": 17,
    "start_time": "2023-09-08T23:47:58.944Z"
   },
   {
    "duration": 11,
    "start_time": "2023-09-08T23:47:58.963Z"
   },
   {
    "duration": 4,
    "start_time": "2023-09-08T23:47:58.975Z"
   },
   {
    "duration": 8,
    "start_time": "2023-09-08T23:47:58.981Z"
   },
   {
    "duration": 4,
    "start_time": "2023-09-08T23:47:58.991Z"
   },
   {
    "duration": 40,
    "start_time": "2023-09-08T23:47:58.996Z"
   },
   {
    "duration": 8,
    "start_time": "2023-09-08T23:47:59.037Z"
   },
   {
    "duration": 55,
    "start_time": "2023-09-08T23:47:59.046Z"
   },
   {
    "duration": 3,
    "start_time": "2023-09-08T23:47:59.102Z"
   },
   {
    "duration": 24,
    "start_time": "2023-09-08T23:47:59.107Z"
   },
   {
    "duration": 25,
    "start_time": "2023-09-08T23:47:59.132Z"
   },
   {
    "duration": 31,
    "start_time": "2023-09-08T23:47:59.158Z"
   },
   {
    "duration": 47,
    "start_time": "2023-09-08T23:47:59.190Z"
   },
   {
    "duration": 41,
    "start_time": "2023-09-08T23:47:59.239Z"
   },
   {
    "duration": 56,
    "start_time": "2023-09-08T23:47:59.281Z"
   },
   {
    "duration": 4,
    "start_time": "2023-09-08T23:47:59.339Z"
   },
   {
    "duration": 17,
    "start_time": "2023-09-08T23:47:59.344Z"
   },
   {
    "duration": 139,
    "start_time": "2023-09-08T23:47:59.362Z"
   },
   {
    "duration": 25,
    "start_time": "2023-09-08T23:47:59.503Z"
   },
   {
    "duration": 32,
    "start_time": "2023-09-08T23:47:59.530Z"
   },
   {
    "duration": 16,
    "start_time": "2023-09-08T23:47:59.563Z"
   },
   {
    "duration": 48,
    "start_time": "2023-09-08T23:47:59.580Z"
   },
   {
    "duration": 23,
    "start_time": "2023-09-08T23:47:59.631Z"
   },
   {
    "duration": 3,
    "start_time": "2023-09-08T23:47:59.655Z"
   },
   {
    "duration": 758,
    "start_time": "2023-09-08T23:47:59.659Z"
   },
   {
    "duration": 420,
    "start_time": "2023-09-08T23:48:00.418Z"
   },
   {
    "duration": 5265,
    "start_time": "2023-09-08T23:48:00.840Z"
   },
   {
    "duration": 5354,
    "start_time": "2023-09-08T23:48:06.107Z"
   },
   {
    "duration": 968,
    "start_time": "2023-09-08T23:48:11.463Z"
   },
   {
    "duration": 178,
    "start_time": "2023-09-08T23:48:12.433Z"
   },
   {
    "duration": 242,
    "start_time": "2023-09-08T23:48:12.612Z"
   },
   {
    "duration": 152,
    "start_time": "2023-09-08T23:48:12.856Z"
   },
   {
    "duration": 140,
    "start_time": "2023-09-08T23:48:13.009Z"
   },
   {
    "duration": 142,
    "start_time": "2023-09-08T23:48:13.150Z"
   },
   {
    "duration": 153,
    "start_time": "2023-09-08T23:48:13.293Z"
   },
   {
    "duration": 1478,
    "start_time": "2023-09-08T23:48:13.447Z"
   },
   {
    "duration": 7,
    "start_time": "2023-09-08T23:48:14.927Z"
   },
   {
    "duration": 11,
    "start_time": "2023-09-08T23:48:14.935Z"
   },
   {
    "duration": 15,
    "start_time": "2023-09-08T23:48:14.948Z"
   },
   {
    "duration": 1565,
    "start_time": "2023-09-08T23:48:14.965Z"
   },
   {
    "duration": 0,
    "start_time": "2023-09-08T23:48:16.531Z"
   },
   {
    "duration": 0,
    "start_time": "2023-09-08T23:48:16.533Z"
   },
   {
    "duration": 0,
    "start_time": "2023-09-08T23:48:16.534Z"
   },
   {
    "duration": 0,
    "start_time": "2023-09-08T23:48:16.535Z"
   },
   {
    "duration": 0,
    "start_time": "2023-09-08T23:48:16.535Z"
   },
   {
    "duration": 0,
    "start_time": "2023-09-08T23:48:16.536Z"
   },
   {
    "duration": 7,
    "start_time": "2023-09-08T23:50:25.922Z"
   },
   {
    "duration": 8,
    "start_time": "2023-09-08T23:50:34.289Z"
   },
   {
    "duration": 8,
    "start_time": "2023-09-08T23:50:41.242Z"
   },
   {
    "duration": 7,
    "start_time": "2023-09-08T23:50:41.269Z"
   },
   {
    "duration": 16,
    "start_time": "2023-09-08T23:50:56.882Z"
   },
   {
    "duration": 16,
    "start_time": "2023-09-08T23:51:03.286Z"
   },
   {
    "duration": 15,
    "start_time": "2023-09-08T23:51:05.029Z"
   },
   {
    "duration": 90,
    "start_time": "2023-09-08T23:53:21.625Z"
   },
   {
    "duration": 6,
    "start_time": "2023-09-09T00:13:43.629Z"
   },
   {
    "duration": 18,
    "start_time": "2023-09-09T00:13:55.858Z"
   },
   {
    "duration": 6,
    "start_time": "2023-09-09T00:14:07.648Z"
   },
   {
    "duration": 1177,
    "start_time": "2023-09-09T00:14:57.373Z"
   },
   {
    "duration": 111,
    "start_time": "2023-09-09T00:14:58.551Z"
   },
   {
    "duration": 12,
    "start_time": "2023-09-09T00:14:58.664Z"
   },
   {
    "duration": 15,
    "start_time": "2023-09-09T00:14:58.678Z"
   },
   {
    "duration": 3,
    "start_time": "2023-09-09T00:14:58.694Z"
   },
   {
    "duration": 17,
    "start_time": "2023-09-09T00:14:58.698Z"
   },
   {
    "duration": 10,
    "start_time": "2023-09-09T00:14:58.716Z"
   },
   {
    "duration": 20,
    "start_time": "2023-09-09T00:14:58.727Z"
   },
   {
    "duration": 23,
    "start_time": "2023-09-09T00:14:58.749Z"
   },
   {
    "duration": 17,
    "start_time": "2023-09-09T00:14:58.774Z"
   },
   {
    "duration": 15,
    "start_time": "2023-09-09T00:14:58.792Z"
   },
   {
    "duration": 8,
    "start_time": "2023-09-09T00:14:58.809Z"
   },
   {
    "duration": 36,
    "start_time": "2023-09-09T00:14:58.819Z"
   },
   {
    "duration": 4,
    "start_time": "2023-09-09T00:14:58.857Z"
   },
   {
    "duration": 11,
    "start_time": "2023-09-09T00:14:58.862Z"
   },
   {
    "duration": 8,
    "start_time": "2023-09-09T00:14:58.874Z"
   },
   {
    "duration": 55,
    "start_time": "2023-09-09T00:14:58.883Z"
   },
   {
    "duration": 21,
    "start_time": "2023-09-09T00:14:58.940Z"
   },
   {
    "duration": 42,
    "start_time": "2023-09-09T00:14:58.962Z"
   },
   {
    "duration": 65,
    "start_time": "2023-09-09T00:14:59.006Z"
   },
   {
    "duration": 43,
    "start_time": "2023-09-09T00:14:59.073Z"
   },
   {
    "duration": 20,
    "start_time": "2023-09-09T00:14:59.117Z"
   },
   {
    "duration": 8,
    "start_time": "2023-09-09T00:14:59.138Z"
   },
   {
    "duration": 11,
    "start_time": "2023-09-09T00:14:59.147Z"
   },
   {
    "duration": 9,
    "start_time": "2023-09-09T00:14:59.159Z"
   },
   {
    "duration": 14,
    "start_time": "2023-09-09T00:14:59.170Z"
   },
   {
    "duration": 5,
    "start_time": "2023-09-09T00:14:59.186Z"
   },
   {
    "duration": 59,
    "start_time": "2023-09-09T00:14:59.195Z"
   },
   {
    "duration": 22,
    "start_time": "2023-09-09T00:14:59.255Z"
   },
   {
    "duration": 2,
    "start_time": "2023-09-09T00:14:59.279Z"
   },
   {
    "duration": 730,
    "start_time": "2023-09-09T00:14:59.283Z"
   },
   {
    "duration": 445,
    "start_time": "2023-09-09T00:15:00.015Z"
   },
   {
    "duration": 5310,
    "start_time": "2023-09-09T00:15:00.462Z"
   },
   {
    "duration": 5306,
    "start_time": "2023-09-09T00:15:05.773Z"
   },
   {
    "duration": 997,
    "start_time": "2023-09-09T00:15:11.080Z"
   },
   {
    "duration": 173,
    "start_time": "2023-09-09T00:15:12.078Z"
   },
   {
    "duration": 201,
    "start_time": "2023-09-09T00:15:12.253Z"
   },
   {
    "duration": 147,
    "start_time": "2023-09-09T00:15:12.456Z"
   },
   {
    "duration": 145,
    "start_time": "2023-09-09T00:15:12.605Z"
   },
   {
    "duration": 156,
    "start_time": "2023-09-09T00:15:12.751Z"
   },
   {
    "duration": 151,
    "start_time": "2023-09-09T00:15:12.909Z"
   },
   {
    "duration": 1411,
    "start_time": "2023-09-09T00:15:13.062Z"
   },
   {
    "duration": 8,
    "start_time": "2023-09-09T00:15:14.475Z"
   },
   {
    "duration": 17,
    "start_time": "2023-09-09T00:15:14.484Z"
   },
   {
    "duration": 10,
    "start_time": "2023-09-09T00:15:14.502Z"
   },
   {
    "duration": 10,
    "start_time": "2023-09-09T00:15:14.513Z"
   },
   {
    "duration": 14,
    "start_time": "2023-09-09T00:15:14.524Z"
   },
   {
    "duration": 11,
    "start_time": "2023-09-09T00:15:14.539Z"
   },
   {
    "duration": 11,
    "start_time": "2023-09-09T00:15:14.552Z"
   },
   {
    "duration": 27,
    "start_time": "2023-09-09T00:15:14.565Z"
   },
   {
    "duration": 21,
    "start_time": "2023-09-09T00:15:14.593Z"
   },
   {
    "duration": 20,
    "start_time": "2023-09-09T00:15:14.615Z"
   },
   {
    "duration": 88,
    "start_time": "2023-09-09T01:01:44.899Z"
   },
   {
    "duration": 166,
    "start_time": "2023-09-09T01:20:24.515Z"
   },
   {
    "duration": 160,
    "start_time": "2023-09-09T01:20:33.329Z"
   },
   {
    "duration": 171,
    "start_time": "2023-09-09T01:24:15.146Z"
   },
   {
    "duration": 1081,
    "start_time": "2023-09-09T01:24:23.358Z"
   },
   {
    "duration": 79,
    "start_time": "2023-09-09T01:24:24.442Z"
   },
   {
    "duration": 11,
    "start_time": "2023-09-09T01:24:24.522Z"
   },
   {
    "duration": 15,
    "start_time": "2023-09-09T01:24:24.535Z"
   },
   {
    "duration": 3,
    "start_time": "2023-09-09T01:24:24.552Z"
   },
   {
    "duration": 23,
    "start_time": "2023-09-09T01:24:24.556Z"
   },
   {
    "duration": 10,
    "start_time": "2023-09-09T01:24:24.580Z"
   },
   {
    "duration": 8,
    "start_time": "2023-09-09T01:24:24.591Z"
   },
   {
    "duration": 10,
    "start_time": "2023-09-09T01:24:24.600Z"
   },
   {
    "duration": 10,
    "start_time": "2023-09-09T01:24:24.611Z"
   },
   {
    "duration": 13,
    "start_time": "2023-09-09T01:24:24.623Z"
   },
   {
    "duration": 4,
    "start_time": "2023-09-09T01:24:24.637Z"
   },
   {
    "duration": 45,
    "start_time": "2023-09-09T01:24:24.642Z"
   },
   {
    "duration": 3,
    "start_time": "2023-09-09T01:24:24.690Z"
   },
   {
    "duration": 12,
    "start_time": "2023-09-09T01:24:24.694Z"
   },
   {
    "duration": 6,
    "start_time": "2023-09-09T01:24:24.707Z"
   },
   {
    "duration": 34,
    "start_time": "2023-09-09T01:24:24.714Z"
   },
   {
    "duration": 41,
    "start_time": "2023-09-09T01:24:24.749Z"
   },
   {
    "duration": 52,
    "start_time": "2023-09-09T01:24:24.791Z"
   },
   {
    "duration": 44,
    "start_time": "2023-09-09T01:24:24.845Z"
   },
   {
    "duration": 5,
    "start_time": "2023-09-09T01:24:24.890Z"
   },
   {
    "duration": 22,
    "start_time": "2023-09-09T01:24:24.897Z"
   },
   {
    "duration": 14,
    "start_time": "2023-09-09T01:24:24.920Z"
   },
   {
    "duration": 6,
    "start_time": "2023-09-09T01:24:24.935Z"
   },
   {
    "duration": 17,
    "start_time": "2023-09-09T01:24:24.942Z"
   },
   {
    "duration": 17,
    "start_time": "2023-09-09T01:24:24.960Z"
   },
   {
    "duration": 44,
    "start_time": "2023-09-09T01:24:24.979Z"
   },
   {
    "duration": 29,
    "start_time": "2023-09-09T01:24:25.025Z"
   },
   {
    "duration": 3,
    "start_time": "2023-09-09T01:24:25.055Z"
   },
   {
    "duration": 708,
    "start_time": "2023-09-09T01:24:25.059Z"
   },
   {
    "duration": 404,
    "start_time": "2023-09-09T01:24:25.769Z"
   },
   {
    "duration": 4922,
    "start_time": "2023-09-09T01:24:26.174Z"
   },
   {
    "duration": 5240,
    "start_time": "2023-09-09T01:24:31.097Z"
   },
   {
    "duration": 898,
    "start_time": "2023-09-09T01:24:36.338Z"
   },
   {
    "duration": 163,
    "start_time": "2023-09-09T01:24:37.238Z"
   },
   {
    "duration": 197,
    "start_time": "2023-09-09T01:24:37.403Z"
   },
   {
    "duration": 140,
    "start_time": "2023-09-09T01:24:37.601Z"
   },
   {
    "duration": 137,
    "start_time": "2023-09-09T01:24:37.743Z"
   },
   {
    "duration": 132,
    "start_time": "2023-09-09T01:24:37.882Z"
   },
   {
    "duration": 144,
    "start_time": "2023-09-09T01:24:38.016Z"
   },
   {
    "duration": 1398,
    "start_time": "2023-09-09T01:24:38.163Z"
   },
   {
    "duration": 7,
    "start_time": "2023-09-09T01:24:39.563Z"
   },
   {
    "duration": 6,
    "start_time": "2023-09-09T01:24:39.572Z"
   },
   {
    "duration": 6,
    "start_time": "2023-09-09T01:24:39.580Z"
   },
   {
    "duration": 10,
    "start_time": "2023-09-09T01:24:39.587Z"
   },
   {
    "duration": 7,
    "start_time": "2023-09-09T01:24:39.599Z"
   },
   {
    "duration": 8,
    "start_time": "2023-09-09T01:24:39.607Z"
   },
   {
    "duration": 23,
    "start_time": "2023-09-09T01:24:39.616Z"
   },
   {
    "duration": 15,
    "start_time": "2023-09-09T01:24:39.640Z"
   },
   {
    "duration": 15,
    "start_time": "2023-09-09T01:24:39.657Z"
   },
   {
    "duration": 15,
    "start_time": "2023-09-09T01:24:39.674Z"
   },
   {
    "duration": 43,
    "start_time": "2023-09-09T01:33:27.144Z"
   },
   {
    "duration": 109,
    "start_time": "2023-09-09T01:34:31.333Z"
   },
   {
    "duration": 14,
    "start_time": "2023-09-09T01:37:43.742Z"
   },
   {
    "duration": 21,
    "start_time": "2023-09-09T01:37:50.462Z"
   },
   {
    "duration": 22,
    "start_time": "2023-09-09T01:38:02.810Z"
   },
   {
    "duration": 16,
    "start_time": "2023-09-09T01:38:21.205Z"
   },
   {
    "duration": 18,
    "start_time": "2023-09-09T01:38:32.324Z"
   },
   {
    "duration": 8,
    "start_time": "2023-09-09T01:45:59.465Z"
   },
   {
    "duration": 14,
    "start_time": "2023-09-09T01:46:08.262Z"
   },
   {
    "duration": 11,
    "start_time": "2023-09-09T01:46:20.400Z"
   },
   {
    "duration": 1327,
    "start_time": "2023-09-09T01:46:44.368Z"
   },
   {
    "duration": 1643,
    "start_time": "2023-09-09T01:46:54.984Z"
   },
   {
    "duration": 10,
    "start_time": "2023-09-09T01:47:09.960Z"
   },
   {
    "duration": 10,
    "start_time": "2023-09-09T01:47:39.175Z"
   },
   {
    "duration": 7,
    "start_time": "2023-09-09T01:47:45.745Z"
   },
   {
    "duration": 9,
    "start_time": "2023-09-09T01:48:13.774Z"
   },
   {
    "duration": 8,
    "start_time": "2023-09-09T01:48:19.164Z"
   },
   {
    "duration": 21,
    "start_time": "2023-09-09T01:50:27.997Z"
   },
   {
    "duration": 8,
    "start_time": "2023-09-09T01:50:46.454Z"
   },
   {
    "duration": 8,
    "start_time": "2023-09-09T01:51:16.492Z"
   },
   {
    "duration": 8,
    "start_time": "2023-09-09T01:51:48.529Z"
   },
   {
    "duration": 7,
    "start_time": "2023-09-09T01:51:50.960Z"
   },
   {
    "duration": 3,
    "start_time": "2023-09-09T01:52:24.624Z"
   },
   {
    "duration": 1274,
    "start_time": "2023-09-09T01:52:31.336Z"
   },
   {
    "duration": 1588,
    "start_time": "2023-09-09T01:52:40.991Z"
   },
   {
    "duration": 5,
    "start_time": "2023-09-09T01:53:59.939Z"
   },
   {
    "duration": 5,
    "start_time": "2023-09-09T01:54:44.661Z"
   },
   {
    "duration": 5,
    "start_time": "2023-09-09T01:55:19.190Z"
   },
   {
    "duration": 7,
    "start_time": "2023-09-09T01:55:45.633Z"
   },
   {
    "duration": 1354,
    "start_time": "2023-09-09T01:56:23.047Z"
   },
   {
    "duration": 27,
    "start_time": "2023-09-09T01:56:42.570Z"
   },
   {
    "duration": 22,
    "start_time": "2023-09-09T01:56:47.793Z"
   },
   {
    "duration": 40,
    "start_time": "2023-09-09T01:57:34.608Z"
   },
   {
    "duration": 151,
    "start_time": "2023-09-09T02:03:52.799Z"
   },
   {
    "duration": 153,
    "start_time": "2023-09-09T02:04:07.705Z"
   },
   {
    "duration": 14,
    "start_time": "2023-09-09T02:04:51.068Z"
   },
   {
    "duration": 16,
    "start_time": "2023-09-09T02:04:52.751Z"
   },
   {
    "duration": 13,
    "start_time": "2023-09-09T02:08:07.891Z"
   },
   {
    "duration": 5,
    "start_time": "2023-09-09T02:08:52.543Z"
   },
   {
    "duration": 229,
    "start_time": "2023-09-09T02:09:07.649Z"
   },
   {
    "duration": 14,
    "start_time": "2023-09-09T02:09:13.994Z"
   },
   {
    "duration": 15,
    "start_time": "2023-09-09T02:12:10.760Z"
   },
   {
    "duration": 15,
    "start_time": "2023-09-09T02:12:48.170Z"
   },
   {
    "duration": 56,
    "start_time": "2023-09-09T22:54:32.563Z"
   },
   {
    "duration": 1405,
    "start_time": "2023-09-09T22:55:05.170Z"
   },
   {
    "duration": 402,
    "start_time": "2023-09-09T22:55:06.577Z"
   },
   {
    "duration": 13,
    "start_time": "2023-09-09T22:55:06.981Z"
   },
   {
    "duration": 19,
    "start_time": "2023-09-09T22:55:06.996Z"
   },
   {
    "duration": 14,
    "start_time": "2023-09-09T22:55:07.018Z"
   },
   {
    "duration": 17,
    "start_time": "2023-09-09T22:55:07.033Z"
   },
   {
    "duration": 13,
    "start_time": "2023-09-09T22:55:07.051Z"
   },
   {
    "duration": 5,
    "start_time": "2023-09-09T22:55:07.065Z"
   },
   {
    "duration": 8,
    "start_time": "2023-09-09T22:55:07.071Z"
   },
   {
    "duration": 4,
    "start_time": "2023-09-09T22:55:07.082Z"
   },
   {
    "duration": 25,
    "start_time": "2023-09-09T22:55:07.088Z"
   },
   {
    "duration": 9,
    "start_time": "2023-09-09T22:55:07.115Z"
   },
   {
    "duration": 34,
    "start_time": "2023-09-09T22:55:07.126Z"
   },
   {
    "duration": 4,
    "start_time": "2023-09-09T22:55:07.162Z"
   },
   {
    "duration": 10,
    "start_time": "2023-09-09T22:55:07.167Z"
   },
   {
    "duration": 36,
    "start_time": "2023-09-09T22:55:07.178Z"
   },
   {
    "duration": 26,
    "start_time": "2023-09-09T22:55:07.215Z"
   },
   {
    "duration": 68,
    "start_time": "2023-09-09T22:55:07.242Z"
   },
   {
    "duration": 55,
    "start_time": "2023-09-09T22:55:07.311Z"
   },
   {
    "duration": 62,
    "start_time": "2023-09-09T22:55:07.368Z"
   },
   {
    "duration": 5,
    "start_time": "2023-09-09T22:55:07.432Z"
   },
   {
    "duration": 12,
    "start_time": "2023-09-09T22:55:07.438Z"
   },
   {
    "duration": 7,
    "start_time": "2023-09-09T22:55:07.452Z"
   },
   {
    "duration": 6,
    "start_time": "2023-09-09T22:55:07.460Z"
   },
   {
    "duration": 17,
    "start_time": "2023-09-09T22:55:07.467Z"
   },
   {
    "duration": 26,
    "start_time": "2023-09-09T22:55:07.486Z"
   },
   {
    "duration": 51,
    "start_time": "2023-09-09T22:55:07.513Z"
   },
   {
    "duration": 63,
    "start_time": "2023-09-09T22:55:07.568Z"
   },
   {
    "duration": 17,
    "start_time": "2023-09-09T22:55:07.632Z"
   },
   {
    "duration": 6,
    "start_time": "2023-09-09T22:55:07.651Z"
   },
   {
    "duration": 6,
    "start_time": "2023-09-09T22:55:07.658Z"
   },
   {
    "duration": 868,
    "start_time": "2023-09-09T22:55:07.665Z"
   },
   {
    "duration": 496,
    "start_time": "2023-09-09T22:55:08.535Z"
   },
   {
    "duration": 6041,
    "start_time": "2023-09-09T22:55:09.034Z"
   },
   {
    "duration": 6250,
    "start_time": "2023-09-09T22:55:15.077Z"
   },
   {
    "duration": 1132,
    "start_time": "2023-09-09T22:55:21.329Z"
   },
   {
    "duration": 217,
    "start_time": "2023-09-09T22:55:22.463Z"
   },
   {
    "duration": 237,
    "start_time": "2023-09-09T22:55:22.682Z"
   },
   {
    "duration": 170,
    "start_time": "2023-09-09T22:55:22.921Z"
   },
   {
    "duration": 160,
    "start_time": "2023-09-09T22:55:23.093Z"
   },
   {
    "duration": 166,
    "start_time": "2023-09-09T22:55:23.254Z"
   },
   {
    "duration": 172,
    "start_time": "2023-09-09T22:55:23.422Z"
   },
   {
    "duration": 120,
    "start_time": "2023-09-09T22:55:23.595Z"
   },
   {
    "duration": 0,
    "start_time": "2023-09-09T22:55:23.717Z"
   },
   {
    "duration": 0,
    "start_time": "2023-09-09T22:55:23.718Z"
   },
   {
    "duration": 0,
    "start_time": "2023-09-09T22:55:23.719Z"
   },
   {
    "duration": 0,
    "start_time": "2023-09-09T22:55:23.720Z"
   },
   {
    "duration": 0,
    "start_time": "2023-09-09T22:55:23.721Z"
   },
   {
    "duration": 0,
    "start_time": "2023-09-09T22:55:23.722Z"
   },
   {
    "duration": 0,
    "start_time": "2023-09-09T22:55:23.723Z"
   },
   {
    "duration": 0,
    "start_time": "2023-09-09T22:55:23.725Z"
   },
   {
    "duration": 0,
    "start_time": "2023-09-09T22:55:23.726Z"
   },
   {
    "duration": 0,
    "start_time": "2023-09-09T22:55:23.727Z"
   },
   {
    "duration": 0,
    "start_time": "2023-09-09T22:55:23.728Z"
   },
   {
    "duration": 485,
    "start_time": "2023-09-09T22:57:21.472Z"
   },
   {
    "duration": 330,
    "start_time": "2023-09-09T22:57:32.606Z"
   },
   {
    "duration": 17,
    "start_time": "2023-09-09T22:58:08.405Z"
   },
   {
    "duration": 16,
    "start_time": "2023-09-09T22:58:21.251Z"
   },
   {
    "duration": 17,
    "start_time": "2023-09-09T22:58:42.274Z"
   },
   {
    "duration": 18,
    "start_time": "2023-09-09T22:58:52.775Z"
   },
   {
    "duration": 1530,
    "start_time": "2023-09-09T22:59:09.237Z"
   },
   {
    "duration": 16,
    "start_time": "2023-09-09T23:01:07.726Z"
   },
   {
    "duration": 25,
    "start_time": "2023-09-09T23:01:16.548Z"
   },
   {
    "duration": 23,
    "start_time": "2023-09-09T23:01:29.284Z"
   },
   {
    "duration": 24,
    "start_time": "2023-09-09T23:04:26.646Z"
   },
   {
    "duration": 23,
    "start_time": "2023-09-09T23:04:53.692Z"
   },
   {
    "duration": 155,
    "start_time": "2023-09-09T23:05:23.771Z"
   },
   {
    "duration": 1271,
    "start_time": "2023-09-09T23:08:54.166Z"
   },
   {
    "duration": 31,
    "start_time": "2023-09-09T23:09:07.224Z"
   },
   {
    "duration": 23,
    "start_time": "2023-09-09T23:10:37.964Z"
   },
   {
    "duration": 150,
    "start_time": "2023-09-09T23:10:56.143Z"
   },
   {
    "duration": 21,
    "start_time": "2023-09-09T23:11:18.076Z"
   },
   {
    "duration": 207,
    "start_time": "2023-09-09T23:15:09.082Z"
   },
   {
    "duration": 209,
    "start_time": "2023-09-09T23:15:28.376Z"
   },
   {
    "duration": 208,
    "start_time": "2023-09-09T23:15:58.188Z"
   },
   {
    "duration": 205,
    "start_time": "2023-09-09T23:17:15.762Z"
   },
   {
    "duration": 310,
    "start_time": "2023-09-09T23:17:31.442Z"
   },
   {
    "duration": 10,
    "start_time": "2023-09-10T00:09:27.809Z"
   },
   {
    "duration": 21,
    "start_time": "2023-09-10T00:09:57.477Z"
   },
   {
    "duration": 22,
    "start_time": "2023-09-10T00:10:18.917Z"
   },
   {
    "duration": 24,
    "start_time": "2023-09-10T00:10:36.754Z"
   },
   {
    "duration": 19,
    "start_time": "2023-09-10T00:10:53.175Z"
   },
   {
    "duration": 20,
    "start_time": "2023-09-10T00:11:15.168Z"
   },
   {
    "duration": 1213,
    "start_time": "2023-09-10T00:40:34.636Z"
   },
   {
    "duration": 88,
    "start_time": "2023-09-10T00:40:35.852Z"
   },
   {
    "duration": 14,
    "start_time": "2023-09-10T00:40:35.941Z"
   },
   {
    "duration": 24,
    "start_time": "2023-09-10T00:40:35.957Z"
   },
   {
    "duration": 3,
    "start_time": "2023-09-10T00:40:35.984Z"
   },
   {
    "duration": 22,
    "start_time": "2023-09-10T00:40:35.989Z"
   },
   {
    "duration": 16,
    "start_time": "2023-09-10T00:40:36.013Z"
   },
   {
    "duration": 6,
    "start_time": "2023-09-10T00:40:36.031Z"
   },
   {
    "duration": 13,
    "start_time": "2023-09-10T00:40:36.039Z"
   },
   {
    "duration": 16,
    "start_time": "2023-09-10T00:40:36.054Z"
   },
   {
    "duration": 24,
    "start_time": "2023-09-10T00:40:36.072Z"
   },
   {
    "duration": 10,
    "start_time": "2023-09-10T00:40:36.098Z"
   },
   {
    "duration": 30,
    "start_time": "2023-09-10T00:40:36.110Z"
   },
   {
    "duration": 3,
    "start_time": "2023-09-10T00:40:36.144Z"
   },
   {
    "duration": 28,
    "start_time": "2023-09-10T00:40:36.149Z"
   },
   {
    "duration": 10,
    "start_time": "2023-09-10T00:40:36.179Z"
   },
   {
    "duration": 32,
    "start_time": "2023-09-10T00:40:36.190Z"
   },
   {
    "duration": 48,
    "start_time": "2023-09-10T00:40:36.223Z"
   },
   {
    "duration": 60,
    "start_time": "2023-09-10T00:40:36.272Z"
   },
   {
    "duration": 49,
    "start_time": "2023-09-10T00:40:36.334Z"
   },
   {
    "duration": 5,
    "start_time": "2023-09-10T00:40:36.385Z"
   },
   {
    "duration": 21,
    "start_time": "2023-09-10T00:40:36.392Z"
   },
   {
    "duration": 12,
    "start_time": "2023-09-10T00:40:36.415Z"
   },
   {
    "duration": 6,
    "start_time": "2023-09-10T00:40:36.429Z"
   },
   {
    "duration": 14,
    "start_time": "2023-09-10T00:40:36.436Z"
   },
   {
    "duration": 4,
    "start_time": "2023-09-10T00:40:36.451Z"
   },
   {
    "duration": 84,
    "start_time": "2023-09-10T00:40:36.457Z"
   },
   {
    "duration": 53,
    "start_time": "2023-09-10T00:40:36.542Z"
   },
   {
    "duration": 28,
    "start_time": "2023-09-10T00:40:36.597Z"
   },
   {
    "duration": 6,
    "start_time": "2023-09-10T00:40:36.627Z"
   },
   {
    "duration": 3,
    "start_time": "2023-09-10T00:40:36.635Z"
   },
   {
    "duration": 862,
    "start_time": "2023-09-10T00:40:36.640Z"
   },
   {
    "duration": 475,
    "start_time": "2023-09-10T00:40:37.504Z"
   },
   {
    "duration": 5924,
    "start_time": "2023-09-10T00:40:37.980Z"
   },
   {
    "duration": 6206,
    "start_time": "2023-09-10T00:40:43.906Z"
   },
   {
    "duration": 1118,
    "start_time": "2023-09-10T00:40:50.114Z"
   },
   {
    "duration": 204,
    "start_time": "2023-09-10T00:40:51.234Z"
   },
   {
    "duration": 21,
    "start_time": "2023-09-10T00:40:51.440Z"
   },
   {
    "duration": 242,
    "start_time": "2023-09-10T00:40:51.463Z"
   },
   {
    "duration": 22,
    "start_time": "2023-09-10T00:40:51.708Z"
   },
   {
    "duration": 184,
    "start_time": "2023-09-10T00:40:51.734Z"
   },
   {
    "duration": 21,
    "start_time": "2023-09-10T00:40:51.920Z"
   },
   {
    "duration": 171,
    "start_time": "2023-09-10T00:40:51.943Z"
   },
   {
    "duration": 21,
    "start_time": "2023-09-10T00:40:52.115Z"
   },
   {
    "duration": 173,
    "start_time": "2023-09-10T00:40:52.138Z"
   },
   {
    "duration": 22,
    "start_time": "2023-09-10T00:40:52.313Z"
   },
   {
    "duration": 209,
    "start_time": "2023-09-10T00:40:52.337Z"
   },
   {
    "duration": 20,
    "start_time": "2023-09-10T00:40:52.547Z"
   },
   {
    "duration": 1707,
    "start_time": "2023-09-10T00:40:52.568Z"
   },
   {
    "duration": 9,
    "start_time": "2023-09-10T00:40:54.277Z"
   },
   {
    "duration": 8,
    "start_time": "2023-09-10T00:40:54.288Z"
   },
   {
    "duration": 12,
    "start_time": "2023-09-10T00:40:54.298Z"
   },
   {
    "duration": 7,
    "start_time": "2023-09-10T00:40:54.312Z"
   },
   {
    "duration": 9,
    "start_time": "2023-09-10T00:40:54.320Z"
   },
   {
    "duration": 8,
    "start_time": "2023-09-10T00:40:54.331Z"
   },
   {
    "duration": 8,
    "start_time": "2023-09-10T00:40:54.340Z"
   },
   {
    "duration": 20,
    "start_time": "2023-09-10T00:40:54.349Z"
   },
   {
    "duration": 51,
    "start_time": "2023-09-10T00:40:54.371Z"
   },
   {
    "duration": 16,
    "start_time": "2023-09-10T00:40:54.424Z"
   },
   {
    "duration": 49,
    "start_time": "2023-09-10T01:09:10.590Z"
   },
   {
    "duration": 115,
    "start_time": "2023-09-10T01:26:06.328Z"
   },
   {
    "duration": 16,
    "start_time": "2023-09-10T01:26:15.537Z"
   },
   {
    "duration": 68,
    "start_time": "2023-09-10T01:43:10.223Z"
   },
   {
    "duration": 247,
    "start_time": "2023-09-10T01:43:23.398Z"
   },
   {
    "duration": 257,
    "start_time": "2023-09-10T01:44:02.170Z"
   },
   {
    "duration": 276,
    "start_time": "2023-09-10T01:44:16.378Z"
   },
   {
    "duration": 246,
    "start_time": "2023-09-10T01:44:23.600Z"
   },
   {
    "duration": 53,
    "start_time": "2023-09-10T01:45:14.349Z"
   },
   {
    "duration": 10,
    "start_time": "2023-09-10T01:45:20.248Z"
   },
   {
    "duration": 250,
    "start_time": "2023-09-10T01:45:25.387Z"
   },
   {
    "duration": 179,
    "start_time": "2023-09-10T01:46:28.128Z"
   },
   {
    "duration": 223,
    "start_time": "2023-09-10T01:46:42.598Z"
   },
   {
    "duration": 188,
    "start_time": "2023-09-10T01:46:51.173Z"
   },
   {
    "duration": 133,
    "start_time": "2023-09-10T01:51:38.170Z"
   },
   {
    "duration": 24,
    "start_time": "2023-09-10T01:58:03.019Z"
   },
   {
    "duration": 17,
    "start_time": "2023-09-10T01:58:28.826Z"
   },
   {
    "duration": 18,
    "start_time": "2023-09-10T01:58:56.843Z"
   },
   {
    "duration": 17,
    "start_time": "2023-09-10T01:59:44.800Z"
   },
   {
    "duration": 18,
    "start_time": "2023-09-10T02:00:21.147Z"
   },
   {
    "duration": 17,
    "start_time": "2023-09-10T02:00:29.479Z"
   },
   {
    "duration": 17,
    "start_time": "2023-09-10T02:00:35.082Z"
   },
   {
    "duration": 19,
    "start_time": "2023-09-10T02:00:37.828Z"
   },
   {
    "duration": 18,
    "start_time": "2023-09-10T02:00:41.892Z"
   },
   {
    "duration": 18,
    "start_time": "2023-09-10T02:00:46.122Z"
   },
   {
    "duration": 19,
    "start_time": "2023-09-10T02:01:04.771Z"
   },
   {
    "duration": 18,
    "start_time": "2023-09-10T02:01:11.778Z"
   },
   {
    "duration": 18,
    "start_time": "2023-09-10T02:01:23.283Z"
   },
   {
    "duration": 17,
    "start_time": "2023-09-10T02:01:26.799Z"
   },
   {
    "duration": 18,
    "start_time": "2023-09-10T02:01:30.171Z"
   },
   {
    "duration": 18,
    "start_time": "2023-09-10T02:02:12.514Z"
   },
   {
    "duration": 18,
    "start_time": "2023-09-10T02:02:23.205Z"
   },
   {
    "duration": 17,
    "start_time": "2023-09-10T02:02:26.514Z"
   },
   {
    "duration": 17,
    "start_time": "2023-09-10T02:02:33.423Z"
   },
   {
    "duration": 20,
    "start_time": "2023-09-10T02:02:58.573Z"
   },
   {
    "duration": 17,
    "start_time": "2023-09-10T02:03:02.882Z"
   },
   {
    "duration": 1458,
    "start_time": "2023-09-10T02:29:27.427Z"
   },
   {
    "duration": 1510,
    "start_time": "2023-09-10T02:29:39.876Z"
   },
   {
    "duration": 195,
    "start_time": "2023-09-10T02:29:55.416Z"
   },
   {
    "duration": 1675,
    "start_time": "2023-09-10T02:30:26.646Z"
   },
   {
    "duration": 178,
    "start_time": "2023-09-10T02:31:24.922Z"
   },
   {
    "duration": 11,
    "start_time": "2023-09-10T02:31:38.804Z"
   },
   {
    "duration": 9,
    "start_time": "2023-09-10T02:32:17.272Z"
   },
   {
    "duration": 1529,
    "start_time": "2023-09-10T02:32:40.710Z"
   },
   {
    "duration": 25,
    "start_time": "2023-09-10T02:32:54.029Z"
   },
   {
    "duration": 1495,
    "start_time": "2023-09-10T02:38:28.804Z"
   },
   {
    "duration": 1597,
    "start_time": "2023-09-10T02:38:39.319Z"
   },
   {
    "duration": 9,
    "start_time": "2023-09-10T02:38:46.374Z"
   },
   {
    "duration": 10,
    "start_time": "2023-09-10T02:39:26.066Z"
   },
   {
    "duration": 9,
    "start_time": "2023-09-10T02:39:32.743Z"
   },
   {
    "duration": 9,
    "start_time": "2023-09-10T02:39:37.699Z"
   },
   {
    "duration": 15,
    "start_time": "2023-09-10T02:40:08.903Z"
   },
   {
    "duration": 15,
    "start_time": "2023-09-10T02:40:28.335Z"
   },
   {
    "duration": 14,
    "start_time": "2023-09-10T02:40:41.436Z"
   },
   {
    "duration": 1140,
    "start_time": "2023-09-10T02:40:44.964Z"
   },
   {
    "duration": 14,
    "start_time": "2023-09-10T02:41:09.418Z"
   },
   {
    "duration": 25,
    "start_time": "2023-09-10T02:41:50.826Z"
   },
   {
    "duration": 9,
    "start_time": "2023-09-10T02:42:01.941Z"
   },
   {
    "duration": 9,
    "start_time": "2023-09-10T02:42:09.232Z"
   },
   {
    "duration": 410,
    "start_time": "2023-09-10T02:42:43.161Z"
   },
   {
    "duration": 444,
    "start_time": "2023-09-10T02:43:13.161Z"
   },
   {
    "duration": 11,
    "start_time": "2023-09-10T02:43:42.501Z"
   },
   {
    "duration": 9,
    "start_time": "2023-09-10T02:43:53.802Z"
   },
   {
    "duration": 1246,
    "start_time": "2023-09-10T03:46:49.066Z"
   },
   {
    "duration": 133,
    "start_time": "2023-09-10T03:46:50.314Z"
   },
   {
    "duration": 13,
    "start_time": "2023-09-10T03:46:50.448Z"
   },
   {
    "duration": 26,
    "start_time": "2023-09-10T03:46:50.463Z"
   },
   {
    "duration": 3,
    "start_time": "2023-09-10T03:46:50.492Z"
   },
   {
    "duration": 16,
    "start_time": "2023-09-10T03:46:50.497Z"
   },
   {
    "duration": 12,
    "start_time": "2023-09-10T03:46:50.515Z"
   },
   {
    "duration": 5,
    "start_time": "2023-09-10T03:46:50.529Z"
   },
   {
    "duration": 19,
    "start_time": "2023-09-10T03:46:50.535Z"
   },
   {
    "duration": 11,
    "start_time": "2023-09-10T03:46:50.556Z"
   },
   {
    "duration": 30,
    "start_time": "2023-09-10T03:46:50.569Z"
   },
   {
    "duration": 12,
    "start_time": "2023-09-10T03:46:50.600Z"
   },
   {
    "duration": 30,
    "start_time": "2023-09-10T03:46:50.614Z"
   },
   {
    "duration": 4,
    "start_time": "2023-09-10T03:46:50.648Z"
   },
   {
    "duration": 10,
    "start_time": "2023-09-10T03:46:50.654Z"
   },
   {
    "duration": 15,
    "start_time": "2023-09-10T03:46:50.666Z"
   },
   {
    "duration": 44,
    "start_time": "2023-09-10T03:46:50.683Z"
   },
   {
    "duration": 48,
    "start_time": "2023-09-10T03:46:50.729Z"
   },
   {
    "duration": 64,
    "start_time": "2023-09-10T03:46:50.779Z"
   },
   {
    "duration": 49,
    "start_time": "2023-09-10T03:46:50.845Z"
   },
   {
    "duration": 6,
    "start_time": "2023-09-10T03:46:50.909Z"
   },
   {
    "duration": 22,
    "start_time": "2023-09-10T03:46:50.917Z"
   },
   {
    "duration": 39,
    "start_time": "2023-09-10T03:46:50.941Z"
   },
   {
    "duration": 20,
    "start_time": "2023-09-10T03:46:50.982Z"
   },
   {
    "duration": 24,
    "start_time": "2023-09-10T03:46:51.004Z"
   },
   {
    "duration": 17,
    "start_time": "2023-09-10T03:46:51.030Z"
   },
   {
    "duration": 64,
    "start_time": "2023-09-10T03:46:51.049Z"
   },
   {
    "duration": 49,
    "start_time": "2023-09-10T03:46:51.115Z"
   },
   {
    "duration": 18,
    "start_time": "2023-09-10T03:46:51.165Z"
   },
   {
    "duration": 27,
    "start_time": "2023-09-10T03:46:51.185Z"
   },
   {
    "duration": 5,
    "start_time": "2023-09-10T03:46:51.214Z"
   },
   {
    "duration": 842,
    "start_time": "2023-09-10T03:46:51.221Z"
   },
   {
    "duration": 528,
    "start_time": "2023-09-10T03:46:52.065Z"
   },
   {
    "duration": 5961,
    "start_time": "2023-09-10T03:46:52.595Z"
   },
   {
    "duration": 6212,
    "start_time": "2023-09-10T03:46:58.557Z"
   },
   {
    "duration": 1161,
    "start_time": "2023-09-10T03:47:04.771Z"
   },
   {
    "duration": 214,
    "start_time": "2023-09-10T03:47:05.934Z"
   },
   {
    "duration": 21,
    "start_time": "2023-09-10T03:47:06.149Z"
   },
   {
    "duration": 242,
    "start_time": "2023-09-10T03:47:06.171Z"
   },
   {
    "duration": 22,
    "start_time": "2023-09-10T03:47:06.415Z"
   },
   {
    "duration": 191,
    "start_time": "2023-09-10T03:47:06.442Z"
   },
   {
    "duration": 23,
    "start_time": "2023-09-10T03:47:06.635Z"
   },
   {
    "duration": 169,
    "start_time": "2023-09-10T03:47:06.660Z"
   },
   {
    "duration": 23,
    "start_time": "2023-09-10T03:47:06.831Z"
   },
   {
    "duration": 182,
    "start_time": "2023-09-10T03:47:06.857Z"
   },
   {
    "duration": 20,
    "start_time": "2023-09-10T03:47:07.041Z"
   },
   {
    "duration": 189,
    "start_time": "2023-09-10T03:47:07.063Z"
   },
   {
    "duration": 21,
    "start_time": "2023-09-10T03:47:07.253Z"
   },
   {
    "duration": 1683,
    "start_time": "2023-09-10T03:47:07.276Z"
   },
   {
    "duration": 450,
    "start_time": "2023-09-10T03:47:08.961Z"
   },
   {
    "duration": 47,
    "start_time": "2023-09-10T03:47:09.413Z"
   },
   {
    "duration": 8,
    "start_time": "2023-09-10T03:47:09.462Z"
   },
   {
    "duration": 16,
    "start_time": "2023-09-10T03:47:09.471Z"
   },
   {
    "duration": 8,
    "start_time": "2023-09-10T03:47:09.510Z"
   },
   {
    "duration": 9,
    "start_time": "2023-09-10T03:47:09.520Z"
   },
   {
    "duration": 8,
    "start_time": "2023-09-10T03:47:09.531Z"
   },
   {
    "duration": 8,
    "start_time": "2023-09-10T03:47:09.541Z"
   },
   {
    "duration": 13,
    "start_time": "2023-09-10T03:47:09.551Z"
   },
   {
    "duration": 45,
    "start_time": "2023-09-10T03:47:09.566Z"
   },
   {
    "duration": 17,
    "start_time": "2023-09-10T03:47:09.613Z"
   },
   {
    "duration": 16,
    "start_time": "2023-09-10T03:47:09.632Z"
   },
   {
    "duration": 17,
    "start_time": "2023-09-10T03:47:09.649Z"
   },
   {
    "duration": 1365,
    "start_time": "2023-09-10T09:35:00.293Z"
   },
   {
    "duration": 207,
    "start_time": "2023-09-10T09:35:01.660Z"
   },
   {
    "duration": 77,
    "start_time": "2023-09-10T09:35:01.869Z"
   },
   {
    "duration": 83,
    "start_time": "2023-09-10T09:35:01.948Z"
   },
   {
    "duration": 34,
    "start_time": "2023-09-10T09:35:02.033Z"
   },
   {
    "duration": 45,
    "start_time": "2023-09-10T09:35:02.069Z"
   },
   {
    "duration": 45,
    "start_time": "2023-09-10T09:35:02.116Z"
   },
   {
    "duration": 25,
    "start_time": "2023-09-10T09:35:02.163Z"
   },
   {
    "duration": 32,
    "start_time": "2023-09-10T09:35:02.190Z"
   },
   {
    "duration": 40,
    "start_time": "2023-09-10T09:35:02.225Z"
   },
   {
    "duration": 27,
    "start_time": "2023-09-10T09:35:02.267Z"
   },
   {
    "duration": 42,
    "start_time": "2023-09-10T09:35:02.296Z"
   },
   {
    "duration": 63,
    "start_time": "2023-09-10T09:35:02.340Z"
   },
   {
    "duration": 19,
    "start_time": "2023-09-10T09:35:02.405Z"
   },
   {
    "duration": 97,
    "start_time": "2023-09-10T09:35:02.426Z"
   },
   {
    "duration": 38,
    "start_time": "2023-09-10T09:35:02.525Z"
   },
   {
    "duration": 41,
    "start_time": "2023-09-10T09:35:02.565Z"
   },
   {
    "duration": 60,
    "start_time": "2023-09-10T09:35:02.608Z"
   },
   {
    "duration": 81,
    "start_time": "2023-09-10T09:35:02.670Z"
   },
   {
    "duration": 61,
    "start_time": "2023-09-10T09:35:02.754Z"
   },
   {
    "duration": 6,
    "start_time": "2023-09-10T09:35:02.817Z"
   },
   {
    "duration": 33,
    "start_time": "2023-09-10T09:35:02.825Z"
   },
   {
    "duration": 30,
    "start_time": "2023-09-10T09:35:02.860Z"
   },
   {
    "duration": 84,
    "start_time": "2023-09-10T09:35:02.892Z"
   },
   {
    "duration": 30,
    "start_time": "2023-09-10T09:35:02.978Z"
   },
   {
    "duration": 15,
    "start_time": "2023-09-10T09:35:03.010Z"
   },
   {
    "duration": 78,
    "start_time": "2023-09-10T09:35:03.028Z"
   },
   {
    "duration": 52,
    "start_time": "2023-09-10T09:35:03.112Z"
   },
   {
    "duration": 41,
    "start_time": "2023-09-10T09:35:03.167Z"
   },
   {
    "duration": 9,
    "start_time": "2023-09-10T09:35:03.210Z"
   },
   {
    "duration": 8,
    "start_time": "2023-09-10T09:35:03.221Z"
   },
   {
    "duration": 910,
    "start_time": "2023-09-10T09:35:03.231Z"
   },
   {
    "duration": 591,
    "start_time": "2023-09-10T09:35:04.143Z"
   },
   {
    "duration": 6578,
    "start_time": "2023-09-10T09:35:04.736Z"
   },
   {
    "duration": 6725,
    "start_time": "2023-09-10T09:35:11.316Z"
   },
   {
    "duration": 1235,
    "start_time": "2023-09-10T09:35:18.042Z"
   },
   {
    "duration": 232,
    "start_time": "2023-09-10T09:35:19.279Z"
   },
   {
    "duration": 24,
    "start_time": "2023-09-10T09:35:19.513Z"
   },
   {
    "duration": 286,
    "start_time": "2023-09-10T09:35:19.539Z"
   },
   {
    "duration": 24,
    "start_time": "2023-09-10T09:35:19.828Z"
   },
   {
    "duration": 197,
    "start_time": "2023-09-10T09:35:19.854Z"
   },
   {
    "duration": 23,
    "start_time": "2023-09-10T09:35:20.053Z"
   },
   {
    "duration": 199,
    "start_time": "2023-09-10T09:35:20.077Z"
   },
   {
    "duration": 38,
    "start_time": "2023-09-10T09:35:20.278Z"
   },
   {
    "duration": 176,
    "start_time": "2023-09-10T09:35:20.318Z"
   },
   {
    "duration": 25,
    "start_time": "2023-09-10T09:35:20.496Z"
   },
   {
    "duration": 197,
    "start_time": "2023-09-10T09:35:20.523Z"
   },
   {
    "duration": 20,
    "start_time": "2023-09-10T09:35:20.722Z"
   },
   {
    "duration": 1763,
    "start_time": "2023-09-10T09:35:20.743Z"
   },
   {
    "duration": 448,
    "start_time": "2023-09-10T09:35:22.508Z"
   },
   {
    "duration": 61,
    "start_time": "2023-09-10T09:35:22.958Z"
   },
   {
    "duration": 8,
    "start_time": "2023-09-10T09:35:23.020Z"
   },
   {
    "duration": 43,
    "start_time": "2023-09-10T09:35:23.030Z"
   },
   {
    "duration": 10,
    "start_time": "2023-09-10T09:35:23.075Z"
   },
   {
    "duration": 19,
    "start_time": "2023-09-10T09:35:23.087Z"
   },
   {
    "duration": 12,
    "start_time": "2023-09-10T09:35:23.108Z"
   },
   {
    "duration": 16,
    "start_time": "2023-09-10T09:35:23.122Z"
   },
   {
    "duration": 14,
    "start_time": "2023-09-10T09:35:23.141Z"
   },
   {
    "duration": 10,
    "start_time": "2023-09-10T09:35:23.157Z"
   },
   {
    "duration": 46,
    "start_time": "2023-09-10T09:35:23.169Z"
   },
   {
    "duration": 20,
    "start_time": "2023-09-10T09:35:23.217Z"
   },
   {
    "duration": 18,
    "start_time": "2023-09-10T09:35:23.238Z"
   },
   {
    "duration": 1336,
    "start_time": "2023-09-10T16:27:24.064Z"
   },
   {
    "duration": 159,
    "start_time": "2023-09-10T16:27:25.402Z"
   },
   {
    "duration": 13,
    "start_time": "2023-09-10T16:27:25.563Z"
   },
   {
    "duration": 15,
    "start_time": "2023-09-10T16:27:25.577Z"
   },
   {
    "duration": 3,
    "start_time": "2023-09-10T16:27:25.594Z"
   },
   {
    "duration": 13,
    "start_time": "2023-09-10T16:27:25.598Z"
   },
   {
    "duration": 8,
    "start_time": "2023-09-10T16:27:25.612Z"
   },
   {
    "duration": 6,
    "start_time": "2023-09-10T16:27:25.622Z"
   },
   {
    "duration": 19,
    "start_time": "2023-09-10T16:27:25.643Z"
   },
   {
    "duration": 7,
    "start_time": "2023-09-10T16:27:25.664Z"
   },
   {
    "duration": 6,
    "start_time": "2023-09-10T16:27:25.673Z"
   },
   {
    "duration": 5,
    "start_time": "2023-09-10T16:27:25.681Z"
   },
   {
    "duration": 26,
    "start_time": "2023-09-10T16:27:25.688Z"
   },
   {
    "duration": 4,
    "start_time": "2023-09-10T16:27:25.716Z"
   },
   {
    "duration": 33,
    "start_time": "2023-09-10T16:27:25.721Z"
   },
   {
    "duration": 9,
    "start_time": "2023-09-10T16:27:25.755Z"
   },
   {
    "duration": 23,
    "start_time": "2023-09-10T16:27:25.766Z"
   },
   {
    "duration": 65,
    "start_time": "2023-09-10T16:27:25.791Z"
   },
   {
    "duration": 51,
    "start_time": "2023-09-10T16:27:25.859Z"
   },
   {
    "duration": 45,
    "start_time": "2023-09-10T16:27:25.911Z"
   },
   {
    "duration": 17,
    "start_time": "2023-09-10T16:27:25.957Z"
   },
   {
    "duration": 5,
    "start_time": "2023-09-10T16:27:25.976Z"
   },
   {
    "duration": 6,
    "start_time": "2023-09-10T16:27:25.982Z"
   },
   {
    "duration": 6,
    "start_time": "2023-09-10T16:27:25.989Z"
   },
   {
    "duration": 20,
    "start_time": "2023-09-10T16:27:25.996Z"
   },
   {
    "duration": 6,
    "start_time": "2023-09-10T16:27:26.018Z"
   },
   {
    "duration": 62,
    "start_time": "2023-09-10T16:27:26.025Z"
   },
   {
    "duration": 40,
    "start_time": "2023-09-10T16:27:26.088Z"
   },
   {
    "duration": 34,
    "start_time": "2023-09-10T16:27:26.129Z"
   },
   {
    "duration": 8,
    "start_time": "2023-09-10T16:27:26.168Z"
   },
   {
    "duration": 3,
    "start_time": "2023-09-10T16:27:26.177Z"
   },
   {
    "duration": 830,
    "start_time": "2023-09-10T16:27:26.181Z"
   },
   {
    "duration": 482,
    "start_time": "2023-09-10T16:27:27.013Z"
   },
   {
    "duration": 5889,
    "start_time": "2023-09-10T16:27:27.497Z"
   },
   {
    "duration": 5847,
    "start_time": "2023-09-10T16:27:33.388Z"
   },
   {
    "duration": 997,
    "start_time": "2023-09-10T16:27:39.236Z"
   },
   {
    "duration": 196,
    "start_time": "2023-09-10T16:27:40.234Z"
   },
   {
    "duration": 37,
    "start_time": "2023-09-10T16:27:40.432Z"
   },
   {
    "duration": 220,
    "start_time": "2023-09-10T16:27:40.471Z"
   },
   {
    "duration": 18,
    "start_time": "2023-09-10T16:27:40.692Z"
   },
   {
    "duration": 185,
    "start_time": "2023-09-10T16:27:40.713Z"
   },
   {
    "duration": 19,
    "start_time": "2023-09-10T16:27:40.900Z"
   },
   {
    "duration": 188,
    "start_time": "2023-09-10T16:27:40.920Z"
   },
   {
    "duration": 18,
    "start_time": "2023-09-10T16:27:41.110Z"
   },
   {
    "duration": 177,
    "start_time": "2023-09-10T16:27:41.129Z"
   },
   {
    "duration": 17,
    "start_time": "2023-09-10T16:27:41.307Z"
   },
   {
    "duration": 173,
    "start_time": "2023-09-10T16:27:41.326Z"
   },
   {
    "duration": 19,
    "start_time": "2023-09-10T16:27:41.500Z"
   },
   {
    "duration": 1618,
    "start_time": "2023-09-10T16:27:41.520Z"
   },
   {
    "duration": 411,
    "start_time": "2023-09-10T16:27:43.139Z"
   },
   {
    "duration": 45,
    "start_time": "2023-09-10T16:27:43.557Z"
   },
   {
    "duration": 7,
    "start_time": "2023-09-10T16:27:43.604Z"
   },
   {
    "duration": 19,
    "start_time": "2023-09-10T16:27:43.612Z"
   },
   {
    "duration": 28,
    "start_time": "2023-09-10T16:27:43.632Z"
   },
   {
    "duration": 12,
    "start_time": "2023-09-10T16:27:43.663Z"
   },
   {
    "duration": 7,
    "start_time": "2023-09-10T16:27:43.677Z"
   },
   {
    "duration": 7,
    "start_time": "2023-09-10T16:27:43.686Z"
   },
   {
    "duration": 11,
    "start_time": "2023-09-10T16:27:43.694Z"
   },
   {
    "duration": 8,
    "start_time": "2023-09-10T16:27:43.707Z"
   },
   {
    "duration": 54,
    "start_time": "2023-09-10T16:27:43.716Z"
   },
   {
    "duration": 16,
    "start_time": "2023-09-10T16:27:43.772Z"
   },
   {
    "duration": 15,
    "start_time": "2023-09-10T16:27:43.789Z"
   },
   {
    "duration": 82,
    "start_time": "2023-09-10T23:43:29.364Z"
   },
   {
    "duration": 3,
    "start_time": "2023-09-10T23:44:46.098Z"
   },
   {
    "duration": 353,
    "start_time": "2023-09-10T23:45:07.581Z"
   },
   {
    "duration": 5,
    "start_time": "2023-09-10T23:45:42.287Z"
   },
   {
    "duration": 3,
    "start_time": "2023-09-10T23:48:23.818Z"
   },
   {
    "duration": 8,
    "start_time": "2023-09-10T23:48:34.330Z"
   },
   {
    "duration": 3,
    "start_time": "2023-09-10T23:48:46.017Z"
   },
   {
    "duration": 3,
    "start_time": "2023-09-10T23:49:02.616Z"
   },
   {
    "duration": 8,
    "start_time": "2023-09-10T23:49:17.688Z"
   },
   {
    "duration": 5,
    "start_time": "2023-09-10T23:49:20.114Z"
   },
   {
    "duration": 5,
    "start_time": "2023-09-10T23:50:01.000Z"
   },
   {
    "duration": 4,
    "start_time": "2023-09-10T23:52:17.204Z"
   },
   {
    "duration": 9,
    "start_time": "2023-09-10T23:57:11.155Z"
   },
   {
    "duration": 5,
    "start_time": "2023-09-10T23:57:50.358Z"
   },
   {
    "duration": 7,
    "start_time": "2023-09-10T23:58:27.888Z"
   },
   {
    "duration": 5,
    "start_time": "2023-09-11T00:01:06.216Z"
   },
   {
    "duration": 13,
    "start_time": "2023-09-11T00:02:23.079Z"
   },
   {
    "duration": 20,
    "start_time": "2023-09-11T00:07:24.376Z"
   },
   {
    "duration": 17,
    "start_time": "2023-09-11T00:07:42.563Z"
   },
   {
    "duration": 17,
    "start_time": "2023-09-11T00:07:52.172Z"
   },
   {
    "duration": 17,
    "start_time": "2023-09-11T00:08:02.634Z"
   },
   {
    "duration": 18,
    "start_time": "2023-09-11T00:08:09.549Z"
   },
   {
    "duration": 16,
    "start_time": "2023-09-11T00:08:20.657Z"
   },
   {
    "duration": 16,
    "start_time": "2023-09-11T00:08:26.215Z"
   },
   {
    "duration": 16,
    "start_time": "2023-09-11T00:08:33.073Z"
   },
   {
    "duration": 19,
    "start_time": "2023-09-11T00:08:41.232Z"
   },
   {
    "duration": 20,
    "start_time": "2023-09-11T00:08:46.696Z"
   },
   {
    "duration": 17,
    "start_time": "2023-09-11T00:08:57.376Z"
   },
   {
    "duration": 15,
    "start_time": "2023-09-11T00:09:04.912Z"
   },
   {
    "duration": 15,
    "start_time": "2023-09-11T00:09:10.319Z"
   },
   {
    "duration": 18,
    "start_time": "2023-09-11T00:09:43.786Z"
   },
   {
    "duration": 16,
    "start_time": "2023-09-11T00:09:54.620Z"
   },
   {
    "duration": 16,
    "start_time": "2023-09-11T00:09:58.616Z"
   },
   {
    "duration": 16,
    "start_time": "2023-09-11T00:10:04.351Z"
   },
   {
    "duration": 17,
    "start_time": "2023-09-11T00:10:15.255Z"
   },
   {
    "duration": 18,
    "start_time": "2023-09-11T00:10:19.143Z"
   },
   {
    "duration": 23,
    "start_time": "2023-09-11T00:10:34.716Z"
   },
   {
    "duration": 16,
    "start_time": "2023-09-11T00:10:47.906Z"
   },
   {
    "duration": 16,
    "start_time": "2023-09-11T00:11:39.496Z"
   },
   {
    "duration": 15,
    "start_time": "2023-09-11T00:11:49.350Z"
   },
   {
    "duration": 15,
    "start_time": "2023-09-11T00:11:55.102Z"
   },
   {
    "duration": 18,
    "start_time": "2023-09-11T00:12:19.432Z"
   },
   {
    "duration": 16,
    "start_time": "2023-09-11T00:12:32.679Z"
   },
   {
    "duration": 15,
    "start_time": "2023-09-11T00:12:38.510Z"
   },
   {
    "duration": 16,
    "start_time": "2023-09-11T00:14:51.511Z"
   },
   {
    "duration": 16,
    "start_time": "2023-09-11T00:14:57.338Z"
   },
   {
    "duration": 15,
    "start_time": "2023-09-11T00:15:05.730Z"
   },
   {
    "duration": 17,
    "start_time": "2023-09-11T00:15:27.975Z"
   },
   {
    "duration": 16,
    "start_time": "2023-09-11T00:15:40.062Z"
   },
   {
    "duration": 17,
    "start_time": "2023-09-11T00:15:46.091Z"
   },
   {
    "duration": 17,
    "start_time": "2023-09-11T00:16:00.644Z"
   },
   {
    "duration": 17,
    "start_time": "2023-09-11T00:16:07.053Z"
   },
   {
    "duration": 37,
    "start_time": "2023-09-11T00:18:13.870Z"
   },
   {
    "duration": 18,
    "start_time": "2023-09-11T00:18:22.677Z"
   },
   {
    "duration": 15,
    "start_time": "2023-09-11T00:18:27.375Z"
   },
   {
    "duration": 16,
    "start_time": "2023-09-11T00:18:45.319Z"
   },
   {
    "duration": 17,
    "start_time": "2023-09-11T00:18:50.801Z"
   },
   {
    "duration": 16,
    "start_time": "2023-09-11T00:19:07.465Z"
   },
   {
    "duration": 16,
    "start_time": "2023-09-11T00:19:10.269Z"
   },
   {
    "duration": 17,
    "start_time": "2023-09-11T00:19:35.822Z"
   },
   {
    "duration": 17,
    "start_time": "2023-09-11T00:19:44.608Z"
   },
   {
    "duration": 17,
    "start_time": "2023-09-11T00:19:53.025Z"
   },
   {
    "duration": 17,
    "start_time": "2023-09-11T00:19:58.285Z"
   },
   {
    "duration": 18,
    "start_time": "2023-09-11T00:20:07.584Z"
   },
   {
    "duration": 16,
    "start_time": "2023-09-11T00:20:12.935Z"
   },
   {
    "duration": 17,
    "start_time": "2023-09-11T00:20:20.845Z"
   },
   {
    "duration": 16,
    "start_time": "2023-09-11T00:20:25.274Z"
   },
   {
    "duration": 16,
    "start_time": "2023-09-11T00:20:29.288Z"
   },
   {
    "duration": 17,
    "start_time": "2023-09-11T00:20:36.277Z"
   },
   {
    "duration": 19,
    "start_time": "2023-09-11T00:20:41.872Z"
   },
   {
    "duration": 17,
    "start_time": "2023-09-11T00:20:46.021Z"
   },
   {
    "duration": 18,
    "start_time": "2023-09-11T00:20:50.983Z"
   },
   {
    "duration": 16,
    "start_time": "2023-09-11T00:20:57.399Z"
   },
   {
    "duration": 17,
    "start_time": "2023-09-11T00:21:00.834Z"
   },
   {
    "duration": 15,
    "start_time": "2023-09-11T00:21:05.853Z"
   },
   {
    "duration": 16,
    "start_time": "2023-09-11T00:21:13.277Z"
   },
   {
    "duration": 16,
    "start_time": "2023-09-11T00:21:21.427Z"
   },
   {
    "duration": 15,
    "start_time": "2023-09-11T00:21:28.196Z"
   },
   {
    "duration": 17,
    "start_time": "2023-09-11T00:21:35.866Z"
   },
   {
    "duration": 18,
    "start_time": "2023-09-11T00:23:22.056Z"
   },
   {
    "duration": 16,
    "start_time": "2023-09-11T00:26:23.612Z"
   },
   {
    "duration": 15,
    "start_time": "2023-09-11T00:26:36.628Z"
   },
   {
    "duration": 16,
    "start_time": "2023-09-11T00:26:53.314Z"
   },
   {
    "duration": 16,
    "start_time": "2023-09-11T00:27:24.867Z"
   },
   {
    "duration": 16,
    "start_time": "2023-09-11T00:27:34.828Z"
   },
   {
    "duration": 14,
    "start_time": "2023-09-11T00:27:54.650Z"
   },
   {
    "duration": 15,
    "start_time": "2023-09-11T00:28:13.202Z"
   },
   {
    "duration": 16,
    "start_time": "2023-09-11T00:28:18.370Z"
   },
   {
    "duration": 14,
    "start_time": "2023-09-11T00:28:26.700Z"
   },
   {
    "duration": 15,
    "start_time": "2023-09-11T00:28:39.806Z"
   },
   {
    "duration": 16,
    "start_time": "2023-09-11T00:28:55.047Z"
   },
   {
    "duration": 14,
    "start_time": "2023-09-11T00:28:59.065Z"
   },
   {
    "duration": 13,
    "start_time": "2023-09-11T00:29:43.122Z"
   },
   {
    "duration": 16,
    "start_time": "2023-09-11T00:29:49.105Z"
   },
   {
    "duration": 15,
    "start_time": "2023-09-11T00:29:54.890Z"
   },
   {
    "duration": 14,
    "start_time": "2023-09-11T00:29:59.610Z"
   },
   {
    "duration": 15,
    "start_time": "2023-09-11T00:30:04.675Z"
   },
   {
    "duration": 14,
    "start_time": "2023-09-11T00:30:12.803Z"
   },
   {
    "duration": 15,
    "start_time": "2023-09-11T00:30:24.235Z"
   },
   {
    "duration": 16,
    "start_time": "2023-09-11T00:30:28.825Z"
   },
   {
    "duration": 16,
    "start_time": "2023-09-11T00:30:32.743Z"
   },
   {
    "duration": 17,
    "start_time": "2023-09-11T00:30:40.579Z"
   },
   {
    "duration": 17,
    "start_time": "2023-09-11T00:30:45.570Z"
   },
   {
    "duration": 16,
    "start_time": "2023-09-11T00:31:39.978Z"
   },
   {
    "duration": 15,
    "start_time": "2023-09-11T00:31:45.014Z"
   },
   {
    "duration": 39,
    "start_time": "2023-09-11T00:33:46.302Z"
   },
   {
    "duration": 17,
    "start_time": "2023-09-11T00:33:53.110Z"
   },
   {
    "duration": 16,
    "start_time": "2023-09-11T00:34:30.274Z"
   },
   {
    "duration": 16,
    "start_time": "2023-09-11T00:34:38.125Z"
   },
   {
    "duration": 14,
    "start_time": "2023-09-11T00:34:46.075Z"
   },
   {
    "duration": 16,
    "start_time": "2023-09-11T00:35:08.320Z"
   },
   {
    "duration": 15,
    "start_time": "2023-09-11T00:35:12.334Z"
   },
   {
    "duration": 12,
    "start_time": "2023-09-11T00:40:07.831Z"
   },
   {
    "duration": 5,
    "start_time": "2023-09-11T00:46:39.127Z"
   },
   {
    "duration": 5,
    "start_time": "2023-09-11T00:47:30.417Z"
   },
   {
    "duration": 1044,
    "start_time": "2023-09-11T00:49:00.670Z"
   },
   {
    "duration": 89,
    "start_time": "2023-09-11T00:49:01.716Z"
   },
   {
    "duration": 11,
    "start_time": "2023-09-11T00:49:01.806Z"
   },
   {
    "duration": 45,
    "start_time": "2023-09-11T00:49:01.819Z"
   },
   {
    "duration": 9,
    "start_time": "2023-09-11T00:49:01.866Z"
   },
   {
    "duration": 45,
    "start_time": "2023-09-11T00:49:01.876Z"
   },
   {
    "duration": 16,
    "start_time": "2023-09-11T00:49:01.923Z"
   },
   {
    "duration": 17,
    "start_time": "2023-09-11T00:49:01.941Z"
   },
   {
    "duration": 41,
    "start_time": "2023-09-11T00:49:01.959Z"
   },
   {
    "duration": 12,
    "start_time": "2023-09-11T00:49:02.003Z"
   },
   {
    "duration": 7,
    "start_time": "2023-09-11T00:49:02.017Z"
   },
   {
    "duration": 25,
    "start_time": "2023-09-11T00:49:02.025Z"
   },
   {
    "duration": 29,
    "start_time": "2023-09-11T00:49:02.052Z"
   },
   {
    "duration": 4,
    "start_time": "2023-09-11T00:49:02.083Z"
   },
   {
    "duration": 18,
    "start_time": "2023-09-11T00:49:02.088Z"
   },
   {
    "duration": 16,
    "start_time": "2023-09-11T00:49:02.107Z"
   },
   {
    "duration": 27,
    "start_time": "2023-09-11T00:49:02.124Z"
   },
   {
    "duration": 41,
    "start_time": "2023-09-11T00:49:02.153Z"
   },
   {
    "duration": 60,
    "start_time": "2023-09-11T00:49:02.195Z"
   },
   {
    "duration": 41,
    "start_time": "2023-09-11T00:49:02.256Z"
   },
   {
    "duration": 4,
    "start_time": "2023-09-11T00:49:02.299Z"
   },
   {
    "duration": 10,
    "start_time": "2023-09-11T00:49:02.304Z"
   },
   {
    "duration": 9,
    "start_time": "2023-09-11T00:49:02.315Z"
   },
   {
    "duration": 21,
    "start_time": "2023-09-11T00:49:02.325Z"
   },
   {
    "duration": 19,
    "start_time": "2023-09-11T00:49:02.348Z"
   },
   {
    "duration": 18,
    "start_time": "2023-09-11T00:49:02.368Z"
   },
   {
    "duration": 51,
    "start_time": "2023-09-11T00:49:02.387Z"
   },
   {
    "duration": 40,
    "start_time": "2023-09-11T00:49:02.441Z"
   },
   {
    "duration": 13,
    "start_time": "2023-09-11T00:49:02.483Z"
   },
   {
    "duration": 5,
    "start_time": "2023-09-11T00:49:02.498Z"
   },
   {
    "duration": 3,
    "start_time": "2023-09-11T00:49:02.504Z"
   },
   {
    "duration": 704,
    "start_time": "2023-09-11T00:49:02.508Z"
   },
   {
    "duration": 395,
    "start_time": "2023-09-11T00:49:03.213Z"
   },
   {
    "duration": 4851,
    "start_time": "2023-09-11T00:49:03.609Z"
   },
   {
    "duration": 5014,
    "start_time": "2023-09-11T00:49:08.461Z"
   },
   {
    "duration": 932,
    "start_time": "2023-09-11T00:49:13.476Z"
   },
   {
    "duration": 164,
    "start_time": "2023-09-11T00:49:14.409Z"
   },
   {
    "duration": 18,
    "start_time": "2023-09-11T00:49:14.574Z"
   },
   {
    "duration": 201,
    "start_time": "2023-09-11T00:49:14.593Z"
   },
   {
    "duration": 17,
    "start_time": "2023-09-11T00:49:14.795Z"
   },
   {
    "duration": 142,
    "start_time": "2023-09-11T00:49:14.813Z"
   },
   {
    "duration": 18,
    "start_time": "2023-09-11T00:49:14.956Z"
   },
   {
    "duration": 140,
    "start_time": "2023-09-11T00:49:14.975Z"
   },
   {
    "duration": 17,
    "start_time": "2023-09-11T00:49:15.116Z"
   },
   {
    "duration": 148,
    "start_time": "2023-09-11T00:49:15.134Z"
   },
   {
    "duration": 17,
    "start_time": "2023-09-11T00:49:15.283Z"
   },
   {
    "duration": 139,
    "start_time": "2023-09-11T00:49:15.301Z"
   },
   {
    "duration": 20,
    "start_time": "2023-09-11T00:49:15.443Z"
   },
   {
    "duration": 1382,
    "start_time": "2023-09-11T00:49:15.464Z"
   },
   {
    "duration": 381,
    "start_time": "2023-09-11T00:49:16.847Z"
   },
   {
    "duration": 49,
    "start_time": "2023-09-11T00:49:17.229Z"
   },
   {
    "duration": 5,
    "start_time": "2023-09-11T00:49:17.280Z"
   },
   {
    "duration": 12,
    "start_time": "2023-09-11T00:49:17.286Z"
   },
   {
    "duration": 35,
    "start_time": "2023-09-11T00:49:17.300Z"
   },
   {
    "duration": 4,
    "start_time": "2023-09-11T00:49:17.337Z"
   },
   {
    "duration": 35,
    "start_time": "2023-09-11T00:49:17.342Z"
   },
   {
    "duration": 7,
    "start_time": "2023-09-11T00:49:17.378Z"
   },
   {
    "duration": 11,
    "start_time": "2023-09-11T00:49:17.386Z"
   },
   {
    "duration": 11,
    "start_time": "2023-09-11T00:49:17.399Z"
   },
   {
    "duration": 18,
    "start_time": "2023-09-11T00:49:17.411Z"
   },
   {
    "duration": 23,
    "start_time": "2023-09-11T00:49:17.430Z"
   },
   {
    "duration": 8,
    "start_time": "2023-09-11T00:49:17.454Z"
   },
   {
    "duration": 15,
    "start_time": "2023-09-11T00:49:17.463Z"
   },
   {
    "duration": 13,
    "start_time": "2023-09-11T00:49:17.479Z"
   },
   {
    "duration": 18,
    "start_time": "2023-09-11T00:49:17.494Z"
   },
   {
    "duration": 7,
    "start_time": "2023-09-11T00:49:17.514Z"
   },
   {
    "duration": 14,
    "start_time": "2023-09-11T00:49:17.522Z"
   },
   {
    "duration": 14,
    "start_time": "2023-09-11T00:49:17.537Z"
   },
   {
    "duration": 15,
    "start_time": "2023-09-11T00:49:17.552Z"
   },
   {
    "duration": 14,
    "start_time": "2023-09-11T00:49:17.569Z"
   },
   {
    "duration": 5,
    "start_time": "2023-09-11T00:49:57.020Z"
   },
   {
    "duration": 5,
    "start_time": "2023-09-11T00:49:58.773Z"
   },
   {
    "duration": 6,
    "start_time": "2023-09-11T00:50:20.459Z"
   },
   {
    "duration": 4,
    "start_time": "2023-09-11T00:50:36.437Z"
   },
   {
    "duration": 5,
    "start_time": "2023-09-11T00:51:20.050Z"
   },
   {
    "duration": 4,
    "start_time": "2023-09-11T00:51:21.606Z"
   },
   {
    "duration": 5,
    "start_time": "2023-09-11T00:51:23.095Z"
   },
   {
    "duration": 5,
    "start_time": "2023-09-11T00:51:25.006Z"
   },
   {
    "duration": 4,
    "start_time": "2023-09-11T01:02:04.750Z"
   },
   {
    "duration": 4,
    "start_time": "2023-09-11T01:02:06.298Z"
   },
   {
    "duration": 5,
    "start_time": "2023-09-11T01:02:07.497Z"
   },
   {
    "duration": 5,
    "start_time": "2023-09-11T01:02:09.562Z"
   },
   {
    "duration": 5,
    "start_time": "2023-09-11T01:02:12.344Z"
   },
   {
    "duration": 5,
    "start_time": "2023-09-11T01:02:15.710Z"
   },
   {
    "duration": 17,
    "start_time": "2023-09-11T01:03:34.128Z"
   },
   {
    "duration": 13,
    "start_time": "2023-09-11T01:26:41.172Z"
   },
   {
    "duration": 17,
    "start_time": "2023-09-11T01:43:26.283Z"
   },
   {
    "duration": 16,
    "start_time": "2023-09-11T01:43:45.756Z"
   },
   {
    "duration": 16,
    "start_time": "2023-09-11T01:43:49.331Z"
   },
   {
    "duration": 16,
    "start_time": "2023-09-11T01:43:57.240Z"
   },
   {
    "duration": 19,
    "start_time": "2023-09-11T01:44:08.876Z"
   },
   {
    "duration": 17,
    "start_time": "2023-09-11T01:44:16.615Z"
   },
   {
    "duration": 18,
    "start_time": "2023-09-11T02:02:07.674Z"
   },
   {
    "duration": 17,
    "start_time": "2023-09-11T02:02:12.824Z"
   },
   {
    "duration": 18,
    "start_time": "2023-09-11T02:02:17.959Z"
   },
   {
    "duration": 18,
    "start_time": "2023-09-11T02:02:30.385Z"
   },
   {
    "duration": 17,
    "start_time": "2023-09-11T02:02:36.863Z"
   },
   {
    "duration": 17,
    "start_time": "2023-09-11T02:02:42.425Z"
   },
   {
    "duration": 17,
    "start_time": "2023-09-11T02:02:54.735Z"
   },
   {
    "duration": 18,
    "start_time": "2023-09-11T02:03:44.511Z"
   },
   {
    "duration": 24,
    "start_time": "2023-09-11T02:04:36.153Z"
   },
   {
    "duration": 42,
    "start_time": "2023-09-11T02:06:01.544Z"
   },
   {
    "duration": 363,
    "start_time": "2023-09-11T02:07:26.371Z"
   },
   {
    "duration": 202,
    "start_time": "2023-09-11T02:07:58.081Z"
   },
   {
    "duration": 247,
    "start_time": "2023-09-11T02:08:45.165Z"
   },
   {
    "duration": 1497,
    "start_time": "2023-09-11T02:09:39.135Z"
   },
   {
    "duration": 1725,
    "start_time": "2023-09-11T02:10:06.887Z"
   },
   {
    "duration": 11,
    "start_time": "2023-09-11T02:10:17.478Z"
   },
   {
    "duration": 9,
    "start_time": "2023-09-11T02:10:30.239Z"
   },
   {
    "duration": 12,
    "start_time": "2023-09-11T02:10:45.221Z"
   },
   {
    "duration": 5,
    "start_time": "2023-09-11T02:10:52.400Z"
   },
   {
    "duration": 8,
    "start_time": "2023-09-11T02:13:03.221Z"
   },
   {
    "duration": 8,
    "start_time": "2023-09-11T02:13:07.622Z"
   },
   {
    "duration": 9,
    "start_time": "2023-09-11T02:13:11.766Z"
   },
   {
    "duration": 9,
    "start_time": "2023-09-11T02:13:36.767Z"
   },
   {
    "duration": 14,
    "start_time": "2023-09-11T02:13:44.454Z"
   },
   {
    "duration": 12,
    "start_time": "2023-09-11T02:14:39.542Z"
   },
   {
    "duration": 11,
    "start_time": "2023-09-11T02:14:44.617Z"
   },
   {
    "duration": 12,
    "start_time": "2023-09-11T02:14:47.109Z"
   },
   {
    "duration": 1038,
    "start_time": "2023-09-11T02:14:57.791Z"
   },
   {
    "duration": 92,
    "start_time": "2023-09-11T02:14:58.831Z"
   },
   {
    "duration": 13,
    "start_time": "2023-09-11T02:14:58.925Z"
   },
   {
    "duration": 19,
    "start_time": "2023-09-11T02:14:58.940Z"
   },
   {
    "duration": 3,
    "start_time": "2023-09-11T02:14:58.961Z"
   },
   {
    "duration": 14,
    "start_time": "2023-09-11T02:14:58.965Z"
   },
   {
    "duration": 9,
    "start_time": "2023-09-11T02:14:58.981Z"
   },
   {
    "duration": 5,
    "start_time": "2023-09-11T02:14:58.991Z"
   },
   {
    "duration": 6,
    "start_time": "2023-09-11T02:14:58.997Z"
   },
   {
    "duration": 3,
    "start_time": "2023-09-11T02:14:59.005Z"
   },
   {
    "duration": 5,
    "start_time": "2023-09-11T02:14:59.045Z"
   },
   {
    "duration": 15,
    "start_time": "2023-09-11T02:14:59.051Z"
   },
   {
    "duration": 29,
    "start_time": "2023-09-11T02:14:59.067Z"
   },
   {
    "duration": 3,
    "start_time": "2023-09-11T02:14:59.099Z"
   },
   {
    "duration": 9,
    "start_time": "2023-09-11T02:14:59.103Z"
   },
   {
    "duration": 6,
    "start_time": "2023-09-11T02:14:59.113Z"
   },
   {
    "duration": 42,
    "start_time": "2023-09-11T02:14:59.120Z"
   },
   {
    "duration": 42,
    "start_time": "2023-09-11T02:14:59.164Z"
   },
   {
    "duration": 62,
    "start_time": "2023-09-11T02:14:59.208Z"
   },
   {
    "duration": 44,
    "start_time": "2023-09-11T02:14:59.272Z"
   },
   {
    "duration": 5,
    "start_time": "2023-09-11T02:14:59.317Z"
   },
   {
    "duration": 14,
    "start_time": "2023-09-11T02:14:59.323Z"
   },
   {
    "duration": 5,
    "start_time": "2023-09-11T02:14:59.344Z"
   },
   {
    "duration": 6,
    "start_time": "2023-09-11T02:14:59.350Z"
   },
   {
    "duration": 12,
    "start_time": "2023-09-11T02:14:59.358Z"
   },
   {
    "duration": 9,
    "start_time": "2023-09-11T02:14:59.372Z"
   },
   {
    "duration": 71,
    "start_time": "2023-09-11T02:14:59.382Z"
   },
   {
    "duration": 46,
    "start_time": "2023-09-11T02:14:59.455Z"
   },
   {
    "duration": 54,
    "start_time": "2023-09-11T02:14:59.502Z"
   },
   {
    "duration": 16,
    "start_time": "2023-09-11T02:14:59.557Z"
   },
   {
    "duration": 5,
    "start_time": "2023-09-11T02:14:59.574Z"
   },
   {
    "duration": 9,
    "start_time": "2023-09-11T02:14:59.581Z"
   },
   {
    "duration": 774,
    "start_time": "2023-09-11T02:14:59.592Z"
   },
   {
    "duration": 411,
    "start_time": "2023-09-11T02:15:00.368Z"
   },
   {
    "duration": 4902,
    "start_time": "2023-09-11T02:15:00.781Z"
   },
   {
    "duration": 5060,
    "start_time": "2023-09-11T02:15:05.684Z"
   },
   {
    "duration": 941,
    "start_time": "2023-09-11T02:15:10.746Z"
   },
   {
    "duration": 169,
    "start_time": "2023-09-11T02:15:11.689Z"
   },
   {
    "duration": 17,
    "start_time": "2023-09-11T02:15:11.859Z"
   },
   {
    "duration": 197,
    "start_time": "2023-09-11T02:15:11.878Z"
   },
   {
    "duration": 17,
    "start_time": "2023-09-11T02:15:12.079Z"
   },
   {
    "duration": 147,
    "start_time": "2023-09-11T02:15:12.097Z"
   },
   {
    "duration": 18,
    "start_time": "2023-09-11T02:15:12.246Z"
   },
   {
    "duration": 137,
    "start_time": "2023-09-11T02:15:12.265Z"
   },
   {
    "duration": 17,
    "start_time": "2023-09-11T02:15:12.404Z"
   },
   {
    "duration": 139,
    "start_time": "2023-09-11T02:15:12.423Z"
   },
   {
    "duration": 19,
    "start_time": "2023-09-11T02:15:12.563Z"
   },
   {
    "duration": 147,
    "start_time": "2023-09-11T02:15:12.584Z"
   },
   {
    "duration": 22,
    "start_time": "2023-09-11T02:15:12.733Z"
   },
   {
    "duration": 1385,
    "start_time": "2023-09-11T02:15:12.756Z"
   },
   {
    "duration": 367,
    "start_time": "2023-09-11T02:15:14.143Z"
   },
   {
    "duration": 48,
    "start_time": "2023-09-11T02:15:14.512Z"
   },
   {
    "duration": 5,
    "start_time": "2023-09-11T02:15:14.562Z"
   },
   {
    "duration": 6,
    "start_time": "2023-09-11T02:15:14.568Z"
   },
   {
    "duration": 12,
    "start_time": "2023-09-11T02:15:14.576Z"
   },
   {
    "duration": 8,
    "start_time": "2023-09-11T02:15:14.589Z"
   },
   {
    "duration": 7,
    "start_time": "2023-09-11T02:15:14.598Z"
   },
   {
    "duration": 38,
    "start_time": "2023-09-11T02:15:14.606Z"
   },
   {
    "duration": 6,
    "start_time": "2023-09-11T02:15:14.645Z"
   },
   {
    "duration": 6,
    "start_time": "2023-09-11T02:15:14.652Z"
   },
   {
    "duration": 7,
    "start_time": "2023-09-11T02:15:14.660Z"
   },
   {
    "duration": 7,
    "start_time": "2023-09-11T02:15:14.668Z"
   },
   {
    "duration": 11,
    "start_time": "2023-09-11T02:15:14.676Z"
   },
   {
    "duration": 20,
    "start_time": "2023-09-11T02:15:14.688Z"
   },
   {
    "duration": 40,
    "start_time": "2023-09-11T02:15:14.709Z"
   },
   {
    "duration": 16,
    "start_time": "2023-09-11T02:15:14.750Z"
   },
   {
    "duration": 5,
    "start_time": "2023-09-11T02:15:19.536Z"
   },
   {
    "duration": 297,
    "start_time": "2023-09-11T02:15:36.299Z"
   },
   {
    "duration": 19,
    "start_time": "2023-09-11T02:16:37.134Z"
   },
   {
    "duration": 224,
    "start_time": "2023-09-11T02:17:11.645Z"
   },
   {
    "duration": 4,
    "start_time": "2023-09-11T02:17:21.301Z"
   },
   {
    "duration": 198,
    "start_time": "2023-09-11T02:17:26.878Z"
   },
   {
    "duration": 192,
    "start_time": "2023-09-11T02:17:51.149Z"
   },
   {
    "duration": 7,
    "start_time": "2023-09-11T02:19:18.054Z"
   },
   {
    "duration": 6,
    "start_time": "2023-09-11T02:19:26.500Z"
   },
   {
    "duration": 6,
    "start_time": "2023-09-11T02:19:29.470Z"
   },
   {
    "duration": 7,
    "start_time": "2023-09-11T02:19:37.989Z"
   },
   {
    "duration": 233,
    "start_time": "2023-09-11T02:19:46.684Z"
   },
   {
    "duration": 215,
    "start_time": "2023-09-11T02:20:03.639Z"
   },
   {
    "duration": 232,
    "start_time": "2023-09-11T02:20:34.863Z"
   },
   {
    "duration": 20,
    "start_time": "2023-09-11T02:20:45.887Z"
   },
   {
    "duration": 11,
    "start_time": "2023-09-11T02:21:14.517Z"
   },
   {
    "duration": 11,
    "start_time": "2023-09-11T02:21:23.346Z"
   },
   {
    "duration": 1069,
    "start_time": "2023-09-11T02:21:40.356Z"
   },
   {
    "duration": 86,
    "start_time": "2023-09-11T02:21:41.427Z"
   },
   {
    "duration": 12,
    "start_time": "2023-09-11T02:21:41.515Z"
   },
   {
    "duration": 18,
    "start_time": "2023-09-11T02:21:41.530Z"
   },
   {
    "duration": 4,
    "start_time": "2023-09-11T02:21:41.549Z"
   },
   {
    "duration": 17,
    "start_time": "2023-09-11T02:21:41.554Z"
   },
   {
    "duration": 9,
    "start_time": "2023-09-11T02:21:41.573Z"
   },
   {
    "duration": 3,
    "start_time": "2023-09-11T02:21:41.583Z"
   },
   {
    "duration": 15,
    "start_time": "2023-09-11T02:21:41.587Z"
   },
   {
    "duration": 3,
    "start_time": "2023-09-11T02:21:41.605Z"
   },
   {
    "duration": 6,
    "start_time": "2023-09-11T02:21:41.609Z"
   },
   {
    "duration": 11,
    "start_time": "2023-09-11T02:21:41.616Z"
   },
   {
    "duration": 38,
    "start_time": "2023-09-11T02:21:41.628Z"
   },
   {
    "duration": 2,
    "start_time": "2023-09-11T02:21:41.668Z"
   },
   {
    "duration": 13,
    "start_time": "2023-09-11T02:21:41.672Z"
   },
   {
    "duration": 25,
    "start_time": "2023-09-11T02:21:41.686Z"
   },
   {
    "duration": 20,
    "start_time": "2023-09-11T02:21:41.713Z"
   },
   {
    "duration": 42,
    "start_time": "2023-09-11T02:21:41.734Z"
   },
   {
    "duration": 40,
    "start_time": "2023-09-11T02:21:41.778Z"
   },
   {
    "duration": 51,
    "start_time": "2023-09-11T02:21:41.820Z"
   },
   {
    "duration": 4,
    "start_time": "2023-09-11T02:21:41.872Z"
   },
   {
    "duration": 6,
    "start_time": "2023-09-11T02:21:41.877Z"
   },
   {
    "duration": 16,
    "start_time": "2023-09-11T02:21:41.884Z"
   },
   {
    "duration": 21,
    "start_time": "2023-09-11T02:21:41.901Z"
   },
   {
    "duration": 10,
    "start_time": "2023-09-11T02:21:41.924Z"
   },
   {
    "duration": 9,
    "start_time": "2023-09-11T02:21:41.936Z"
   },
   {
    "duration": 44,
    "start_time": "2023-09-11T02:21:41.947Z"
   },
   {
    "duration": 58,
    "start_time": "2023-09-11T02:21:41.994Z"
   },
   {
    "duration": 40,
    "start_time": "2023-09-11T02:21:42.054Z"
   },
   {
    "duration": 14,
    "start_time": "2023-09-11T02:21:42.096Z"
   },
   {
    "duration": 6,
    "start_time": "2023-09-11T02:21:42.112Z"
   },
   {
    "duration": 25,
    "start_time": "2023-09-11T02:21:42.119Z"
   },
   {
    "duration": 705,
    "start_time": "2023-09-11T02:21:42.146Z"
   },
   {
    "duration": 392,
    "start_time": "2023-09-11T02:21:42.852Z"
   },
   {
    "duration": 5065,
    "start_time": "2023-09-11T02:21:43.245Z"
   },
   {
    "duration": 5565,
    "start_time": "2023-09-11T02:21:48.311Z"
   },
   {
    "duration": 913,
    "start_time": "2023-09-11T02:21:53.877Z"
   },
   {
    "duration": 164,
    "start_time": "2023-09-11T02:21:54.792Z"
   },
   {
    "duration": 17,
    "start_time": "2023-09-11T02:21:54.957Z"
   },
   {
    "duration": 197,
    "start_time": "2023-09-11T02:21:54.975Z"
   },
   {
    "duration": 17,
    "start_time": "2023-09-11T02:21:55.174Z"
   },
   {
    "duration": 145,
    "start_time": "2023-09-11T02:21:55.192Z"
   },
   {
    "duration": 21,
    "start_time": "2023-09-11T02:21:55.338Z"
   },
   {
    "duration": 132,
    "start_time": "2023-09-11T02:21:55.361Z"
   },
   {
    "duration": 19,
    "start_time": "2023-09-11T02:21:55.494Z"
   },
   {
    "duration": 140,
    "start_time": "2023-09-11T02:21:55.514Z"
   },
   {
    "duration": 18,
    "start_time": "2023-09-11T02:21:55.656Z"
   },
   {
    "duration": 150,
    "start_time": "2023-09-11T02:21:55.675Z"
   },
   {
    "duration": 31,
    "start_time": "2023-09-11T02:21:55.828Z"
   },
   {
    "duration": 1365,
    "start_time": "2023-09-11T02:21:55.861Z"
   },
   {
    "duration": 382,
    "start_time": "2023-09-11T02:21:57.227Z"
   },
   {
    "duration": 49,
    "start_time": "2023-09-11T02:21:57.610Z"
   },
   {
    "duration": 5,
    "start_time": "2023-09-11T02:21:57.661Z"
   },
   {
    "duration": 7,
    "start_time": "2023-09-11T02:21:57.667Z"
   },
   {
    "duration": 14,
    "start_time": "2023-09-11T02:21:57.676Z"
   },
   {
    "duration": 6,
    "start_time": "2023-09-11T02:21:57.692Z"
   },
   {
    "duration": 7,
    "start_time": "2023-09-11T02:21:57.699Z"
   },
   {
    "duration": 38,
    "start_time": "2023-09-11T02:21:57.707Z"
   },
   {
    "duration": 7,
    "start_time": "2023-09-11T02:21:57.747Z"
   },
   {
    "duration": 16,
    "start_time": "2023-09-11T02:21:57.755Z"
   },
   {
    "duration": 5,
    "start_time": "2023-09-11T02:21:57.772Z"
   },
   {
    "duration": 11,
    "start_time": "2023-09-11T02:21:57.779Z"
   },
   {
    "duration": 13,
    "start_time": "2023-09-11T02:21:57.791Z"
   },
   {
    "duration": 14,
    "start_time": "2023-09-11T02:21:57.806Z"
   },
   {
    "duration": 36,
    "start_time": "2023-09-11T02:21:57.821Z"
   },
   {
    "duration": 15,
    "start_time": "2023-09-11T02:21:57.859Z"
   },
   {
    "duration": 7,
    "start_time": "2023-09-11T02:25:07.309Z"
   },
   {
    "duration": 14,
    "start_time": "2023-09-11T02:25:24.641Z"
   },
   {
    "duration": 14,
    "start_time": "2023-09-11T02:56:40.169Z"
   },
   {
    "duration": 15,
    "start_time": "2023-09-11T02:56:47.408Z"
   },
   {
    "duration": 14,
    "start_time": "2023-09-11T02:56:50.562Z"
   },
   {
    "duration": 16,
    "start_time": "2023-09-11T02:56:53.259Z"
   },
   {
    "duration": 15,
    "start_time": "2023-09-11T02:56:55.123Z"
   },
   {
    "duration": 14,
    "start_time": "2023-09-11T02:57:02.147Z"
   },
   {
    "duration": 15,
    "start_time": "2023-09-11T02:58:05.524Z"
   },
   {
    "duration": 14,
    "start_time": "2023-09-11T02:58:10.054Z"
   },
   {
    "duration": 15,
    "start_time": "2023-09-11T02:58:19.796Z"
   },
   {
    "duration": 16,
    "start_time": "2023-09-11T02:58:24.843Z"
   },
   {
    "duration": 17,
    "start_time": "2023-09-11T03:28:01.429Z"
   },
   {
    "duration": 19,
    "start_time": "2023-09-11T03:28:13.845Z"
   },
   {
    "duration": 19,
    "start_time": "2023-09-11T03:28:31.736Z"
   },
   {
    "duration": 16,
    "start_time": "2023-09-11T03:28:44.549Z"
   },
   {
    "duration": 18,
    "start_time": "2023-09-11T03:28:47.898Z"
   },
   {
    "duration": 17,
    "start_time": "2023-09-11T03:28:53.862Z"
   },
   {
    "duration": 17,
    "start_time": "2023-09-11T03:28:57.376Z"
   },
   {
    "duration": 16,
    "start_time": "2023-09-11T03:29:02.621Z"
   },
   {
    "duration": 15,
    "start_time": "2023-09-11T03:29:10.512Z"
   },
   {
    "duration": 17,
    "start_time": "2023-09-11T03:29:13.896Z"
   },
   {
    "duration": 19,
    "start_time": "2023-09-11T03:29:26.445Z"
   },
   {
    "duration": 16,
    "start_time": "2023-09-11T03:31:07.636Z"
   },
   {
    "duration": 16,
    "start_time": "2023-09-11T03:31:29.386Z"
   },
   {
    "duration": 16,
    "start_time": "2023-09-11T03:31:54.739Z"
   },
   {
    "duration": 16,
    "start_time": "2023-09-11T03:32:49.237Z"
   },
   {
    "duration": 16,
    "start_time": "2023-09-11T03:32:53.684Z"
   },
   {
    "duration": 16,
    "start_time": "2023-09-11T03:34:34.309Z"
   },
   {
    "duration": 16,
    "start_time": "2023-09-11T03:34:45.082Z"
   },
   {
    "duration": 17,
    "start_time": "2023-09-11T03:34:53.678Z"
   },
   {
    "duration": 17,
    "start_time": "2023-09-11T03:34:57.941Z"
   },
   {
    "duration": 18,
    "start_time": "2023-09-11T03:35:03.002Z"
   },
   {
    "duration": 19,
    "start_time": "2023-09-11T03:35:25.629Z"
   },
   {
    "duration": 15,
    "start_time": "2023-09-11T03:35:33.725Z"
   },
   {
    "duration": 16,
    "start_time": "2023-09-11T03:35:37.753Z"
   },
   {
    "duration": 15,
    "start_time": "2023-09-11T03:35:45.201Z"
   },
   {
    "duration": 18,
    "start_time": "2023-09-11T03:35:53.963Z"
   },
   {
    "duration": 16,
    "start_time": "2023-09-11T03:36:01.987Z"
   },
   {
    "duration": 16,
    "start_time": "2023-09-11T03:36:10.801Z"
   },
   {
    "duration": 16,
    "start_time": "2023-09-11T03:36:29.819Z"
   },
   {
    "duration": 15,
    "start_time": "2023-09-11T03:36:46.469Z"
   },
   {
    "duration": 17,
    "start_time": "2023-09-11T03:36:55.426Z"
   },
   {
    "duration": 17,
    "start_time": "2023-09-11T03:37:03.852Z"
   },
   {
    "duration": 15,
    "start_time": "2023-09-11T03:37:11.233Z"
   },
   {
    "duration": 16,
    "start_time": "2023-09-11T03:37:21.389Z"
   },
   {
    "duration": 16,
    "start_time": "2023-09-11T03:37:28.334Z"
   },
   {
    "duration": 16,
    "start_time": "2023-09-11T03:37:42.083Z"
   },
   {
    "duration": 18,
    "start_time": "2023-09-11T03:37:47.135Z"
   },
   {
    "duration": 16,
    "start_time": "2023-09-11T03:37:51.412Z"
   },
   {
    "duration": 17,
    "start_time": "2023-09-11T03:38:03.493Z"
   },
   {
    "duration": 16,
    "start_time": "2023-09-11T03:38:06.404Z"
   },
   {
    "duration": 17,
    "start_time": "2023-09-11T03:38:10.560Z"
   },
   {
    "duration": 16,
    "start_time": "2023-09-11T03:38:33.672Z"
   },
   {
    "duration": 17,
    "start_time": "2023-09-11T03:38:39.746Z"
   },
   {
    "duration": 16,
    "start_time": "2023-09-11T03:39:43.394Z"
   },
   {
    "duration": 17,
    "start_time": "2023-09-11T03:39:49.623Z"
   },
   {
    "duration": 15,
    "start_time": "2023-09-11T03:40:05.239Z"
   },
   {
    "duration": 16,
    "start_time": "2023-09-11T03:40:13.502Z"
   },
   {
    "duration": 16,
    "start_time": "2023-09-11T03:40:21.089Z"
   },
   {
    "duration": 15,
    "start_time": "2023-09-11T03:40:30.011Z"
   },
   {
    "duration": 17,
    "start_time": "2023-09-11T03:40:32.687Z"
   },
   {
    "duration": 16,
    "start_time": "2023-09-11T03:40:41.740Z"
   },
   {
    "duration": 16,
    "start_time": "2023-09-11T03:40:48.527Z"
   },
   {
    "duration": 18,
    "start_time": "2023-09-11T03:40:52.082Z"
   },
   {
    "duration": 18,
    "start_time": "2023-09-11T03:40:57.064Z"
   },
   {
    "duration": 15,
    "start_time": "2023-09-11T03:41:00.799Z"
   },
   {
    "duration": 16,
    "start_time": "2023-09-11T03:41:12.169Z"
   },
   {
    "duration": 17,
    "start_time": "2023-09-11T03:41:18.111Z"
   },
   {
    "duration": 17,
    "start_time": "2023-09-11T03:41:27.177Z"
   },
   {
    "duration": 16,
    "start_time": "2023-09-11T03:41:35.686Z"
   },
   {
    "duration": 16,
    "start_time": "2023-09-11T03:41:59.335Z"
   },
   {
    "duration": 18,
    "start_time": "2023-09-11T03:42:39.809Z"
   },
   {
    "duration": 64,
    "start_time": "2023-09-11T03:42:49.404Z"
   },
   {
    "duration": 16,
    "start_time": "2023-09-11T03:42:57.666Z"
   },
   {
    "duration": 16,
    "start_time": "2023-09-11T03:43:29.528Z"
   },
   {
    "duration": 17,
    "start_time": "2023-09-11T03:43:44.200Z"
   },
   {
    "duration": 17,
    "start_time": "2023-09-11T03:44:10.768Z"
   },
   {
    "duration": 18,
    "start_time": "2023-09-11T03:44:28.031Z"
   },
   {
    "duration": 16,
    "start_time": "2023-09-11T03:44:55.790Z"
   },
   {
    "duration": 17,
    "start_time": "2023-09-11T03:44:59.572Z"
   },
   {
    "duration": 28,
    "start_time": "2023-09-11T05:49:39.262Z"
   },
   {
    "duration": 143,
    "start_time": "2023-09-11T05:49:40.491Z"
   },
   {
    "duration": 16,
    "start_time": "2023-09-11T05:50:03.934Z"
   },
   {
    "duration": 1236,
    "start_time": "2023-09-11T05:50:19.155Z"
   },
   {
    "duration": 93,
    "start_time": "2023-09-11T05:50:20.393Z"
   },
   {
    "duration": 13,
    "start_time": "2023-09-11T05:50:20.488Z"
   },
   {
    "duration": 17,
    "start_time": "2023-09-11T05:50:20.503Z"
   },
   {
    "duration": 6,
    "start_time": "2023-09-11T05:50:20.522Z"
   },
   {
    "duration": 31,
    "start_time": "2023-09-11T05:50:20.530Z"
   },
   {
    "duration": 17,
    "start_time": "2023-09-11T05:50:20.563Z"
   },
   {
    "duration": 4,
    "start_time": "2023-09-11T05:50:20.582Z"
   },
   {
    "duration": 16,
    "start_time": "2023-09-11T05:50:20.588Z"
   },
   {
    "duration": 9,
    "start_time": "2023-09-11T05:50:20.606Z"
   },
   {
    "duration": 40,
    "start_time": "2023-09-11T05:50:20.616Z"
   },
   {
    "duration": 17,
    "start_time": "2023-09-11T05:50:20.658Z"
   },
   {
    "duration": 40,
    "start_time": "2023-09-11T05:50:20.677Z"
   },
   {
    "duration": 3,
    "start_time": "2023-09-11T05:50:20.720Z"
   },
   {
    "duration": 9,
    "start_time": "2023-09-11T05:50:20.725Z"
   },
   {
    "duration": 6,
    "start_time": "2023-09-11T05:50:20.735Z"
   },
   {
    "duration": 23,
    "start_time": "2023-09-11T05:50:20.743Z"
   },
   {
    "duration": 45,
    "start_time": "2023-09-11T05:50:20.767Z"
   },
   {
    "duration": 60,
    "start_time": "2023-09-11T05:50:20.813Z"
   },
   {
    "duration": 43,
    "start_time": "2023-09-11T05:50:20.875Z"
   },
   {
    "duration": 5,
    "start_time": "2023-09-11T05:50:20.920Z"
   },
   {
    "duration": 22,
    "start_time": "2023-09-11T05:50:20.926Z"
   },
   {
    "duration": 11,
    "start_time": "2023-09-11T05:50:20.949Z"
   },
   {
    "duration": 32,
    "start_time": "2023-09-11T05:50:20.962Z"
   },
   {
    "duration": 33,
    "start_time": "2023-09-11T05:50:20.995Z"
   },
   {
    "duration": 7,
    "start_time": "2023-09-11T05:50:21.029Z"
   },
   {
    "duration": 58,
    "start_time": "2023-09-11T05:50:21.037Z"
   },
   {
    "duration": 44,
    "start_time": "2023-09-11T05:50:21.097Z"
   },
   {
    "duration": 40,
    "start_time": "2023-09-11T05:50:21.142Z"
   },
   {
    "duration": 15,
    "start_time": "2023-09-11T05:50:21.183Z"
   },
   {
    "duration": 5,
    "start_time": "2023-09-11T05:50:21.199Z"
   },
   {
    "duration": 23,
    "start_time": "2023-09-11T05:50:21.205Z"
   },
   {
    "duration": 718,
    "start_time": "2023-09-11T05:50:21.229Z"
   },
   {
    "duration": 408,
    "start_time": "2023-09-11T05:50:21.949Z"
   },
   {
    "duration": 5152,
    "start_time": "2023-09-11T05:50:22.358Z"
   },
   {
    "duration": 5543,
    "start_time": "2023-09-11T05:50:27.512Z"
   },
   {
    "duration": 991,
    "start_time": "2023-09-11T05:50:33.057Z"
   },
   {
    "duration": 219,
    "start_time": "2023-09-11T05:50:34.049Z"
   },
   {
    "duration": 18,
    "start_time": "2023-09-11T05:50:34.270Z"
   },
   {
    "duration": 216,
    "start_time": "2023-09-11T05:50:34.289Z"
   },
   {
    "duration": 20,
    "start_time": "2023-09-11T05:50:34.509Z"
   },
   {
    "duration": 161,
    "start_time": "2023-09-11T05:50:34.531Z"
   },
   {
    "duration": 20,
    "start_time": "2023-09-11T05:50:34.693Z"
   },
   {
    "duration": 152,
    "start_time": "2023-09-11T05:50:34.714Z"
   },
   {
    "duration": 20,
    "start_time": "2023-09-11T05:50:34.867Z"
   },
   {
    "duration": 159,
    "start_time": "2023-09-11T05:50:34.889Z"
   },
   {
    "duration": 19,
    "start_time": "2023-09-11T05:50:35.050Z"
   },
   {
    "duration": 201,
    "start_time": "2023-09-11T05:50:35.071Z"
   },
   {
    "duration": 18,
    "start_time": "2023-09-11T05:50:35.274Z"
   },
   {
    "duration": 1452,
    "start_time": "2023-09-11T05:50:35.294Z"
   },
   {
    "duration": 374,
    "start_time": "2023-09-11T05:50:36.747Z"
   },
   {
    "duration": 61,
    "start_time": "2023-09-11T05:50:37.122Z"
   },
   {
    "duration": 6,
    "start_time": "2023-09-11T05:50:37.184Z"
   },
   {
    "duration": 9,
    "start_time": "2023-09-11T05:50:37.191Z"
   },
   {
    "duration": 115,
    "start_time": "2023-09-11T05:50:37.202Z"
   },
   {
    "duration": 0,
    "start_time": "2023-09-11T05:50:37.318Z"
   },
   {
    "duration": 0,
    "start_time": "2023-09-11T05:50:37.319Z"
   },
   {
    "duration": 0,
    "start_time": "2023-09-11T05:50:37.320Z"
   },
   {
    "duration": 0,
    "start_time": "2023-09-11T05:50:37.321Z"
   },
   {
    "duration": 0,
    "start_time": "2023-09-11T05:50:37.322Z"
   },
   {
    "duration": 0,
    "start_time": "2023-09-11T05:50:37.322Z"
   },
   {
    "duration": 0,
    "start_time": "2023-09-11T05:50:37.323Z"
   },
   {
    "duration": 0,
    "start_time": "2023-09-11T05:50:37.324Z"
   },
   {
    "duration": 0,
    "start_time": "2023-09-11T05:50:37.325Z"
   },
   {
    "duration": 0,
    "start_time": "2023-09-11T05:50:37.326Z"
   },
   {
    "duration": 0,
    "start_time": "2023-09-11T05:50:37.327Z"
   },
   {
    "duration": 0,
    "start_time": "2023-09-11T05:50:37.328Z"
   },
   {
    "duration": 0,
    "start_time": "2023-09-11T05:50:37.329Z"
   },
   {
    "duration": 15,
    "start_time": "2023-09-11T05:50:58.928Z"
   },
   {
    "duration": 1133,
    "start_time": "2023-09-11T05:51:33.870Z"
   },
   {
    "duration": 90,
    "start_time": "2023-09-11T05:51:35.004Z"
   },
   {
    "duration": 12,
    "start_time": "2023-09-11T05:51:35.095Z"
   },
   {
    "duration": 30,
    "start_time": "2023-09-11T05:51:35.109Z"
   },
   {
    "duration": 12,
    "start_time": "2023-09-11T05:51:35.141Z"
   },
   {
    "duration": 24,
    "start_time": "2023-09-11T05:51:35.154Z"
   },
   {
    "duration": 20,
    "start_time": "2023-09-11T05:51:35.180Z"
   },
   {
    "duration": 5,
    "start_time": "2023-09-11T05:51:35.201Z"
   },
   {
    "duration": 17,
    "start_time": "2023-09-11T05:51:35.207Z"
   },
   {
    "duration": 5,
    "start_time": "2023-09-11T05:51:35.227Z"
   },
   {
    "duration": 14,
    "start_time": "2023-09-11T05:51:35.233Z"
   },
   {
    "duration": 17,
    "start_time": "2023-09-11T05:51:35.248Z"
   },
   {
    "duration": 32,
    "start_time": "2023-09-11T05:51:35.267Z"
   },
   {
    "duration": 4,
    "start_time": "2023-09-11T05:51:35.301Z"
   },
   {
    "duration": 10,
    "start_time": "2023-09-11T05:51:35.306Z"
   },
   {
    "duration": 7,
    "start_time": "2023-09-11T05:51:35.318Z"
   },
   {
    "duration": 38,
    "start_time": "2023-09-11T05:51:35.326Z"
   },
   {
    "duration": 39,
    "start_time": "2023-09-11T05:51:35.366Z"
   },
   {
    "duration": 53,
    "start_time": "2023-09-11T05:51:35.407Z"
   },
   {
    "duration": 41,
    "start_time": "2023-09-11T05:51:35.462Z"
   },
   {
    "duration": 5,
    "start_time": "2023-09-11T05:51:35.505Z"
   },
   {
    "duration": 8,
    "start_time": "2023-09-11T05:51:35.511Z"
   },
   {
    "duration": 25,
    "start_time": "2023-09-11T05:51:35.520Z"
   },
   {
    "duration": 9,
    "start_time": "2023-09-11T05:51:35.547Z"
   },
   {
    "duration": 13,
    "start_time": "2023-09-11T05:51:35.557Z"
   },
   {
    "duration": 6,
    "start_time": "2023-09-11T05:51:35.571Z"
   },
   {
    "duration": 45,
    "start_time": "2023-09-11T05:51:35.578Z"
   },
   {
    "duration": 45,
    "start_time": "2023-09-11T05:51:35.644Z"
   },
   {
    "duration": 55,
    "start_time": "2023-09-11T05:51:35.690Z"
   },
   {
    "duration": 16,
    "start_time": "2023-09-11T05:51:35.747Z"
   },
   {
    "duration": 7,
    "start_time": "2023-09-11T05:51:35.764Z"
   },
   {
    "duration": 3,
    "start_time": "2023-09-11T05:51:35.773Z"
   },
   {
    "duration": 747,
    "start_time": "2023-09-11T05:51:35.778Z"
   },
   {
    "duration": 420,
    "start_time": "2023-09-11T05:51:36.526Z"
   },
   {
    "duration": 5023,
    "start_time": "2023-09-11T05:51:36.948Z"
   },
   {
    "duration": 5377,
    "start_time": "2023-09-11T05:51:41.972Z"
   },
   {
    "duration": 1015,
    "start_time": "2023-09-11T05:51:47.350Z"
   },
   {
    "duration": 188,
    "start_time": "2023-09-11T05:51:48.367Z"
   },
   {
    "duration": 20,
    "start_time": "2023-09-11T05:51:48.556Z"
   },
   {
    "duration": 229,
    "start_time": "2023-09-11T05:51:48.577Z"
   },
   {
    "duration": 20,
    "start_time": "2023-09-11T05:51:48.808Z"
   },
   {
    "duration": 152,
    "start_time": "2023-09-11T05:51:48.829Z"
   },
   {
    "duration": 19,
    "start_time": "2023-09-11T05:51:48.982Z"
   },
   {
    "duration": 142,
    "start_time": "2023-09-11T05:51:49.002Z"
   },
   {
    "duration": 18,
    "start_time": "2023-09-11T05:51:49.146Z"
   },
   {
    "duration": 138,
    "start_time": "2023-09-11T05:51:49.165Z"
   },
   {
    "duration": 17,
    "start_time": "2023-09-11T05:51:49.305Z"
   },
   {
    "duration": 148,
    "start_time": "2023-09-11T05:51:49.324Z"
   },
   {
    "duration": 20,
    "start_time": "2023-09-11T05:51:49.473Z"
   },
   {
    "duration": 1459,
    "start_time": "2023-09-11T05:51:49.495Z"
   },
   {
    "duration": 368,
    "start_time": "2023-09-11T05:51:50.955Z"
   },
   {
    "duration": 49,
    "start_time": "2023-09-11T05:51:51.324Z"
   },
   {
    "duration": 6,
    "start_time": "2023-09-11T05:51:51.374Z"
   },
   {
    "duration": 7,
    "start_time": "2023-09-11T05:51:51.381Z"
   },
   {
    "duration": 16,
    "start_time": "2023-09-11T05:51:51.389Z"
   },
   {
    "duration": 9,
    "start_time": "2023-09-11T05:51:51.406Z"
   },
   {
    "duration": 28,
    "start_time": "2023-09-11T05:51:51.416Z"
   },
   {
    "duration": 7,
    "start_time": "2023-09-11T05:51:51.446Z"
   },
   {
    "duration": 8,
    "start_time": "2023-09-11T05:51:51.454Z"
   },
   {
    "duration": 10,
    "start_time": "2023-09-11T05:51:51.463Z"
   },
   {
    "duration": 9,
    "start_time": "2023-09-11T05:51:51.474Z"
   },
   {
    "duration": 20,
    "start_time": "2023-09-11T05:51:51.485Z"
   },
   {
    "duration": 21,
    "start_time": "2023-09-11T05:51:51.507Z"
   },
   {
    "duration": 21,
    "start_time": "2023-09-11T05:51:51.530Z"
   },
   {
    "duration": 20,
    "start_time": "2023-09-11T05:51:51.553Z"
   },
   {
    "duration": 15,
    "start_time": "2023-09-11T05:51:51.574Z"
   },
   {
    "duration": 11,
    "start_time": "2023-09-11T05:52:25.220Z"
   },
   {
    "duration": 100,
    "start_time": "2023-09-11T05:52:27.263Z"
   },
   {
    "duration": 1113,
    "start_time": "2023-09-11T05:55:02.403Z"
   },
   {
    "duration": 92,
    "start_time": "2023-09-11T05:55:03.517Z"
   },
   {
    "duration": 10,
    "start_time": "2023-09-11T05:55:03.610Z"
   },
   {
    "duration": 20,
    "start_time": "2023-09-11T05:55:03.622Z"
   },
   {
    "duration": 6,
    "start_time": "2023-09-11T05:55:03.644Z"
   },
   {
    "duration": 22,
    "start_time": "2023-09-11T05:55:03.652Z"
   },
   {
    "duration": 17,
    "start_time": "2023-09-11T05:55:03.675Z"
   },
   {
    "duration": 17,
    "start_time": "2023-09-11T05:55:03.694Z"
   },
   {
    "duration": 15,
    "start_time": "2023-09-11T05:55:03.712Z"
   },
   {
    "duration": 20,
    "start_time": "2023-09-11T05:55:03.728Z"
   },
   {
    "duration": 18,
    "start_time": "2023-09-11T05:55:03.750Z"
   },
   {
    "duration": 14,
    "start_time": "2023-09-11T05:55:03.769Z"
   },
   {
    "duration": 44,
    "start_time": "2023-09-11T05:55:03.785Z"
   },
   {
    "duration": 9,
    "start_time": "2023-09-11T05:55:03.833Z"
   },
   {
    "duration": 11,
    "start_time": "2023-09-11T05:55:03.844Z"
   },
   {
    "duration": 20,
    "start_time": "2023-09-11T05:55:03.856Z"
   },
   {
    "duration": 60,
    "start_time": "2023-09-11T05:55:03.877Z"
   },
   {
    "duration": 40,
    "start_time": "2023-09-11T05:55:03.938Z"
   },
   {
    "duration": 50,
    "start_time": "2023-09-11T05:55:03.980Z"
   },
   {
    "duration": 61,
    "start_time": "2023-09-11T05:55:04.032Z"
   },
   {
    "duration": 6,
    "start_time": "2023-09-11T05:55:04.095Z"
   },
   {
    "duration": 27,
    "start_time": "2023-09-11T05:55:04.103Z"
   },
   {
    "duration": 7,
    "start_time": "2023-09-11T05:55:04.132Z"
   },
   {
    "duration": 19,
    "start_time": "2023-09-11T05:55:04.144Z"
   },
   {
    "duration": 28,
    "start_time": "2023-09-11T05:55:04.164Z"
   },
   {
    "duration": 29,
    "start_time": "2023-09-11T05:55:04.193Z"
   },
   {
    "duration": 58,
    "start_time": "2023-09-11T05:55:04.223Z"
   },
   {
    "duration": 44,
    "start_time": "2023-09-11T05:55:04.283Z"
   },
   {
    "duration": 56,
    "start_time": "2023-09-11T05:55:04.328Z"
   },
   {
    "duration": 14,
    "start_time": "2023-09-11T05:55:04.385Z"
   },
   {
    "duration": 9,
    "start_time": "2023-09-11T05:55:04.401Z"
   },
   {
    "duration": 8,
    "start_time": "2023-09-11T05:55:04.411Z"
   },
   {
    "duration": 719,
    "start_time": "2023-09-11T05:55:04.420Z"
   },
   {
    "duration": 413,
    "start_time": "2023-09-11T05:55:05.143Z"
   },
   {
    "duration": 4913,
    "start_time": "2023-09-11T05:55:05.557Z"
   },
   {
    "duration": 5229,
    "start_time": "2023-09-11T05:55:10.472Z"
   },
   {
    "duration": 937,
    "start_time": "2023-09-11T05:55:15.702Z"
   },
   {
    "duration": 173,
    "start_time": "2023-09-11T05:55:16.643Z"
   },
   {
    "duration": 30,
    "start_time": "2023-09-11T05:55:16.818Z"
   },
   {
    "duration": 202,
    "start_time": "2023-09-11T05:55:16.850Z"
   },
   {
    "duration": 18,
    "start_time": "2023-09-11T05:55:17.055Z"
   },
   {
    "duration": 147,
    "start_time": "2023-09-11T05:55:17.075Z"
   },
   {
    "duration": 25,
    "start_time": "2023-09-11T05:55:17.224Z"
   },
   {
    "duration": 129,
    "start_time": "2023-09-11T05:55:17.250Z"
   },
   {
    "duration": 17,
    "start_time": "2023-09-11T05:55:17.381Z"
   },
   {
    "duration": 136,
    "start_time": "2023-09-11T05:55:17.400Z"
   },
   {
    "duration": 18,
    "start_time": "2023-09-11T05:55:17.543Z"
   },
   {
    "duration": 145,
    "start_time": "2023-09-11T05:55:17.563Z"
   },
   {
    "duration": 17,
    "start_time": "2023-09-11T05:55:17.709Z"
   },
   {
    "duration": 1478,
    "start_time": "2023-09-11T05:55:17.728Z"
   },
   {
    "duration": 412,
    "start_time": "2023-09-11T05:55:19.207Z"
   },
   {
    "duration": 52,
    "start_time": "2023-09-11T05:55:19.620Z"
   },
   {
    "duration": 9,
    "start_time": "2023-09-11T05:55:19.673Z"
   },
   {
    "duration": 138,
    "start_time": "2023-09-11T05:55:19.684Z"
   },
   {
    "duration": 13,
    "start_time": "2023-09-11T05:55:19.824Z"
   },
   {
    "duration": 8,
    "start_time": "2023-09-11T05:55:19.839Z"
   },
   {
    "duration": 12,
    "start_time": "2023-09-11T05:55:19.849Z"
   },
   {
    "duration": 12,
    "start_time": "2023-09-11T05:55:19.862Z"
   },
   {
    "duration": 6,
    "start_time": "2023-09-11T05:55:19.875Z"
   },
   {
    "duration": 6,
    "start_time": "2023-09-11T05:55:19.883Z"
   },
   {
    "duration": 5,
    "start_time": "2023-09-11T05:55:19.891Z"
   },
   {
    "duration": 7,
    "start_time": "2023-09-11T05:55:19.897Z"
   },
   {
    "duration": 42,
    "start_time": "2023-09-11T05:55:19.905Z"
   },
   {
    "duration": 18,
    "start_time": "2023-09-11T05:55:19.949Z"
   },
   {
    "duration": 16,
    "start_time": "2023-09-11T05:55:19.968Z"
   },
   {
    "duration": 16,
    "start_time": "2023-09-11T05:55:19.985Z"
   }
  ],
  "kernelspec": {
   "display_name": "Python 3 (ipykernel)",
   "language": "python",
   "name": "python3"
  },
  "language_info": {
   "codemirror_mode": {
    "name": "ipython",
    "version": 3
   },
   "file_extension": ".py",
   "mimetype": "text/x-python",
   "name": "python",
   "nbconvert_exporter": "python",
   "pygments_lexer": "ipython3",
   "version": "3.12.0"
  },
  "toc": {
   "base_numbering": 1,
   "nav_menu": {},
   "number_sections": true,
   "sideBar": true,
   "skip_h1_title": true,
   "title_cell": "Table of Contents",
   "title_sidebar": "Contents",
   "toc_cell": false,
   "toc_position": {},
   "toc_section_display": true,
   "toc_window_display": false
  }
 },
 "nbformat": 4,
 "nbformat_minor": 4
}
