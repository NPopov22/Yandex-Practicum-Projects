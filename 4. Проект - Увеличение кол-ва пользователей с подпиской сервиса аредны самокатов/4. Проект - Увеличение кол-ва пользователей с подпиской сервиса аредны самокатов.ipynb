{
 "cells": [
  {
   "cell_type": "markdown",
   "id": "fe7ee326",
   "metadata": {},
   "source": [
    "<h1>Увеличение количества пользователей с подпиской сервиса аренды самокатов GoFast"
   ]
  },
  {
   "cell_type": "markdown",
   "id": "8fe61f59",
   "metadata": {},
   "source": [
    "**Описание задачи**\n",
    "<br>Нам передали данные популярного сервиса аренды самокатов GoFast о некоторых пользователях из нескольких городов, а также об их поездках. Требуется проанализировать эти данные и проверить некоторые гипотезы, которые могут помочь бизнесу вырасти.\n",
    "<br>Чтобы совершать поездки по городу, пользователи сервиса GoFast пользуются мобильным приложением. \n",
    "<br>Сервисом можно пользоваться:\n",
    "\n",
    "- без подписки\n",
    "  - абонентская плата отсутствует;\n",
    "  - стоимость одной минуты поездки — 8 рублей;\n",
    "  - стоимость старта (начала поездки) — 50 рублей;\n",
    "- с подпиской Ultra\n",
    "  - абонентская плата — 199 рублей в месяц;\n",
    "  - стоимость одной минуты поездки — 6 рублей;\n",
    "  - стоимость старта — бесплатно.\n",
    "\n",
    "<br>**Описание данных**\n",
    "<br>В основных данных есть информация о пользователях, их поездках и подписках. Есть и дополнительная информация — о количестве обращений пользователей в техподдержку сервиса до и после обновления технической инфраструктуры.\n",
    "<br>**Пользователи — users_go.csv**\n",
    "- user_id - уникальный идентификатор пользователя\n",
    "- name - имя\n",
    "- age - возраст\n",
    "- city - город\n",
    "- subscription_type - тип подписки (без подписки/ультра)\n",
    "\n",
    "<br>**Поездки — rides_go.csv**\n",
    "- user_id - уникальный идентификатор пользователя\n",
    "- distance - расстояние, пройденное за поездку в метрах\n",
    "- duration - продолжительность поездки в минутах\n",
    "- date - дата поездки в формате год/месяц/число\n",
    "\n",
    "<br>**Подписки — subscriptions_go.csv**\n",
    "- subscription_type - наименование подписки (без подписки/ультра)\n",
    "- minute_price - цена за минуту поездки\n",
    "- start_ride_price - цена за начало поездки\n",
    "- subscription_fee - цена подписки"
   ]
  },
  {
   "cell_type": "markdown",
   "id": "c42cbe00",
   "metadata": {},
   "source": [
    "#### Шаг 1. Загрузка данных"
   ]
  },
  {
   "cell_type": "markdown",
   "id": "3485ecf4",
   "metadata": {},
   "source": [
    "Считаем CSV-файлы с данными и изучим общую информацию о них:"
   ]
  },
  {
   "cell_type": "code",
   "execution_count": 1,
   "id": "72576667",
   "metadata": {},
   "outputs": [],
   "source": [
    "import pandas as pd\n",
    "import math\n",
    "import numpy as np\n",
    "import matplotlib.pyplot as plt\n",
    "from scipy import stats as st"
   ]
  },
  {
   "cell_type": "code",
   "execution_count": 2,
   "id": "069a7adb",
   "metadata": {},
   "outputs": [],
   "source": [
    "users_go = pd.read_csv('/datasets/users_go.csv')\n",
    "rides_go = pd.read_csv('/datasets/rides_go.csv')\n",
    "subscriptions_go = pd.read_csv('/datasets/subscriptions_go.csv')"
   ]
  },
  {
   "cell_type": "code",
   "execution_count": 3,
   "id": "ae1fa6c9",
   "metadata": {},
   "outputs": [
    {
     "data": {
      "text/html": [
       "<div>\n",
       "<style scoped>\n",
       "    .dataframe tbody tr th:only-of-type {\n",
       "        vertical-align: middle;\n",
       "    }\n",
       "\n",
       "    .dataframe tbody tr th {\n",
       "        vertical-align: top;\n",
       "    }\n",
       "\n",
       "    .dataframe thead th {\n",
       "        text-align: right;\n",
       "    }\n",
       "</style>\n",
       "<table border=\"1\" class=\"dataframe\">\n",
       "  <thead>\n",
       "    <tr style=\"text-align: right;\">\n",
       "      <th></th>\n",
       "      <th>user_id</th>\n",
       "      <th>name</th>\n",
       "      <th>age</th>\n",
       "      <th>city</th>\n",
       "      <th>subscription_type</th>\n",
       "    </tr>\n",
       "  </thead>\n",
       "  <tbody>\n",
       "    <tr>\n",
       "      <th>0</th>\n",
       "      <td>1</td>\n",
       "      <td>Кира</td>\n",
       "      <td>22</td>\n",
       "      <td>Тюмень</td>\n",
       "      <td>ultra</td>\n",
       "    </tr>\n",
       "    <tr>\n",
       "      <th>1</th>\n",
       "      <td>2</td>\n",
       "      <td>Станислав</td>\n",
       "      <td>31</td>\n",
       "      <td>Омск</td>\n",
       "      <td>ultra</td>\n",
       "    </tr>\n",
       "    <tr>\n",
       "      <th>2</th>\n",
       "      <td>3</td>\n",
       "      <td>Алексей</td>\n",
       "      <td>20</td>\n",
       "      <td>Москва</td>\n",
       "      <td>ultra</td>\n",
       "    </tr>\n",
       "    <tr>\n",
       "      <th>3</th>\n",
       "      <td>4</td>\n",
       "      <td>Константин</td>\n",
       "      <td>26</td>\n",
       "      <td>Ростов-на-Дону</td>\n",
       "      <td>ultra</td>\n",
       "    </tr>\n",
       "    <tr>\n",
       "      <th>4</th>\n",
       "      <td>5</td>\n",
       "      <td>Адель</td>\n",
       "      <td>28</td>\n",
       "      <td>Омск</td>\n",
       "      <td>ultra</td>\n",
       "    </tr>\n",
       "    <tr>\n",
       "      <th>5</th>\n",
       "      <td>6</td>\n",
       "      <td>Регина</td>\n",
       "      <td>25</td>\n",
       "      <td>Краснодар</td>\n",
       "      <td>ultra</td>\n",
       "    </tr>\n",
       "    <tr>\n",
       "      <th>6</th>\n",
       "      <td>7</td>\n",
       "      <td>Игорь</td>\n",
       "      <td>23</td>\n",
       "      <td>Омск</td>\n",
       "      <td>ultra</td>\n",
       "    </tr>\n",
       "    <tr>\n",
       "      <th>7</th>\n",
       "      <td>8</td>\n",
       "      <td>Юрий</td>\n",
       "      <td>23</td>\n",
       "      <td>Краснодар</td>\n",
       "      <td>ultra</td>\n",
       "    </tr>\n",
       "    <tr>\n",
       "      <th>8</th>\n",
       "      <td>9</td>\n",
       "      <td>Ян</td>\n",
       "      <td>21</td>\n",
       "      <td>Пятигорск</td>\n",
       "      <td>ultra</td>\n",
       "    </tr>\n",
       "    <tr>\n",
       "      <th>9</th>\n",
       "      <td>10</td>\n",
       "      <td>Валерий</td>\n",
       "      <td>18</td>\n",
       "      <td>Екатеринбург</td>\n",
       "      <td>ultra</td>\n",
       "    </tr>\n",
       "  </tbody>\n",
       "</table>\n",
       "</div>"
      ],
      "text/plain": [
       "   user_id        name  age            city subscription_type\n",
       "0        1        Кира   22          Тюмень             ultra\n",
       "1        2   Станислав   31            Омск             ultra\n",
       "2        3     Алексей   20          Москва             ultra\n",
       "3        4  Константин   26  Ростов-на-Дону             ultra\n",
       "4        5       Адель   28            Омск             ultra\n",
       "5        6      Регина   25       Краснодар             ultra\n",
       "6        7       Игорь   23            Омск             ultra\n",
       "7        8        Юрий   23       Краснодар             ultra\n",
       "8        9          Ян   21       Пятигорск             ultra\n",
       "9       10     Валерий   18    Екатеринбург             ultra"
      ]
     },
     "execution_count": 3,
     "metadata": {},
     "output_type": "execute_result"
    }
   ],
   "source": [
    "users_go.head(10)"
   ]
  },
  {
   "cell_type": "code",
   "execution_count": 4,
   "id": "2643559b",
   "metadata": {},
   "outputs": [
    {
     "name": "stdout",
     "output_type": "stream",
     "text": [
      "<class 'pandas.core.frame.DataFrame'>\n",
      "RangeIndex: 1565 entries, 0 to 1564\n",
      "Data columns (total 5 columns):\n",
      " #   Column             Non-Null Count  Dtype \n",
      "---  ------             --------------  ----- \n",
      " 0   user_id            1565 non-null   int64 \n",
      " 1   name               1565 non-null   object\n",
      " 2   age                1565 non-null   int64 \n",
      " 3   city               1565 non-null   object\n",
      " 4   subscription_type  1565 non-null   object\n",
      "dtypes: int64(2), object(3)\n",
      "memory usage: 61.3+ KB\n"
     ]
    }
   ],
   "source": [
    "users_go.info()"
   ]
  },
  {
   "cell_type": "code",
   "execution_count": 5,
   "id": "27b8cfe0",
   "metadata": {},
   "outputs": [
    {
     "data": {
      "text/html": [
       "<div>\n",
       "<style scoped>\n",
       "    .dataframe tbody tr th:only-of-type {\n",
       "        vertical-align: middle;\n",
       "    }\n",
       "\n",
       "    .dataframe tbody tr th {\n",
       "        vertical-align: top;\n",
       "    }\n",
       "\n",
       "    .dataframe thead th {\n",
       "        text-align: right;\n",
       "    }\n",
       "</style>\n",
       "<table border=\"1\" class=\"dataframe\">\n",
       "  <thead>\n",
       "    <tr style=\"text-align: right;\">\n",
       "      <th></th>\n",
       "      <th>user_id</th>\n",
       "      <th>distance</th>\n",
       "      <th>duration</th>\n",
       "      <th>date</th>\n",
       "    </tr>\n",
       "  </thead>\n",
       "  <tbody>\n",
       "    <tr>\n",
       "      <th>0</th>\n",
       "      <td>1</td>\n",
       "      <td>4409.919140</td>\n",
       "      <td>25.599769</td>\n",
       "      <td>2021-01-01</td>\n",
       "    </tr>\n",
       "    <tr>\n",
       "      <th>1</th>\n",
       "      <td>1</td>\n",
       "      <td>2617.592153</td>\n",
       "      <td>15.816871</td>\n",
       "      <td>2021-01-18</td>\n",
       "    </tr>\n",
       "    <tr>\n",
       "      <th>2</th>\n",
       "      <td>1</td>\n",
       "      <td>754.159807</td>\n",
       "      <td>6.232113</td>\n",
       "      <td>2021-04-20</td>\n",
       "    </tr>\n",
       "    <tr>\n",
       "      <th>3</th>\n",
       "      <td>1</td>\n",
       "      <td>2694.783254</td>\n",
       "      <td>18.511000</td>\n",
       "      <td>2021-08-11</td>\n",
       "    </tr>\n",
       "    <tr>\n",
       "      <th>4</th>\n",
       "      <td>1</td>\n",
       "      <td>4028.687306</td>\n",
       "      <td>26.265803</td>\n",
       "      <td>2021-08-28</td>\n",
       "    </tr>\n",
       "    <tr>\n",
       "      <th>5</th>\n",
       "      <td>1</td>\n",
       "      <td>2770.890808</td>\n",
       "      <td>16.650138</td>\n",
       "      <td>2021-10-09</td>\n",
       "    </tr>\n",
       "    <tr>\n",
       "      <th>6</th>\n",
       "      <td>1</td>\n",
       "      <td>3039.020292</td>\n",
       "      <td>14.927879</td>\n",
       "      <td>2021-10-19</td>\n",
       "    </tr>\n",
       "    <tr>\n",
       "      <th>7</th>\n",
       "      <td>1</td>\n",
       "      <td>2842.118050</td>\n",
       "      <td>23.117468</td>\n",
       "      <td>2021-11-06</td>\n",
       "    </tr>\n",
       "    <tr>\n",
       "      <th>8</th>\n",
       "      <td>1</td>\n",
       "      <td>3412.690668</td>\n",
       "      <td>15.238072</td>\n",
       "      <td>2021-11-14</td>\n",
       "    </tr>\n",
       "    <tr>\n",
       "      <th>9</th>\n",
       "      <td>1</td>\n",
       "      <td>748.690645</td>\n",
       "      <td>15.041884</td>\n",
       "      <td>2021-11-22</td>\n",
       "    </tr>\n",
       "  </tbody>\n",
       "</table>\n",
       "</div>"
      ],
      "text/plain": [
       "   user_id     distance   duration        date\n",
       "0        1  4409.919140  25.599769  2021-01-01\n",
       "1        1  2617.592153  15.816871  2021-01-18\n",
       "2        1   754.159807   6.232113  2021-04-20\n",
       "3        1  2694.783254  18.511000  2021-08-11\n",
       "4        1  4028.687306  26.265803  2021-08-28\n",
       "5        1  2770.890808  16.650138  2021-10-09\n",
       "6        1  3039.020292  14.927879  2021-10-19\n",
       "7        1  2842.118050  23.117468  2021-11-06\n",
       "8        1  3412.690668  15.238072  2021-11-14\n",
       "9        1   748.690645  15.041884  2021-11-22"
      ]
     },
     "execution_count": 5,
     "metadata": {},
     "output_type": "execute_result"
    }
   ],
   "source": [
    "rides_go.head(10)"
   ]
  },
  {
   "cell_type": "code",
   "execution_count": 6,
   "id": "8785a66c",
   "metadata": {},
   "outputs": [
    {
     "name": "stdout",
     "output_type": "stream",
     "text": [
      "<class 'pandas.core.frame.DataFrame'>\n",
      "RangeIndex: 18068 entries, 0 to 18067\n",
      "Data columns (total 4 columns):\n",
      " #   Column    Non-Null Count  Dtype  \n",
      "---  ------    --------------  -----  \n",
      " 0   user_id   18068 non-null  int64  \n",
      " 1   distance  18068 non-null  float64\n",
      " 2   duration  18068 non-null  float64\n",
      " 3   date      18068 non-null  object \n",
      "dtypes: float64(2), int64(1), object(1)\n",
      "memory usage: 564.8+ KB\n"
     ]
    }
   ],
   "source": [
    "rides_go.info()"
   ]
  },
  {
   "cell_type": "code",
   "execution_count": 7,
   "id": "a147c804",
   "metadata": {},
   "outputs": [
    {
     "data": {
      "text/html": [
       "<div>\n",
       "<style scoped>\n",
       "    .dataframe tbody tr th:only-of-type {\n",
       "        vertical-align: middle;\n",
       "    }\n",
       "\n",
       "    .dataframe tbody tr th {\n",
       "        vertical-align: top;\n",
       "    }\n",
       "\n",
       "    .dataframe thead th {\n",
       "        text-align: right;\n",
       "    }\n",
       "</style>\n",
       "<table border=\"1\" class=\"dataframe\">\n",
       "  <thead>\n",
       "    <tr style=\"text-align: right;\">\n",
       "      <th></th>\n",
       "      <th>subscription_type</th>\n",
       "      <th>minute_price</th>\n",
       "      <th>start_ride_price</th>\n",
       "      <th>subscription_fee</th>\n",
       "    </tr>\n",
       "  </thead>\n",
       "  <tbody>\n",
       "    <tr>\n",
       "      <th>0</th>\n",
       "      <td>free</td>\n",
       "      <td>8</td>\n",
       "      <td>50</td>\n",
       "      <td>0</td>\n",
       "    </tr>\n",
       "    <tr>\n",
       "      <th>1</th>\n",
       "      <td>ultra</td>\n",
       "      <td>6</td>\n",
       "      <td>0</td>\n",
       "      <td>199</td>\n",
       "    </tr>\n",
       "  </tbody>\n",
       "</table>\n",
       "</div>"
      ],
      "text/plain": [
       "  subscription_type  minute_price  start_ride_price  subscription_fee\n",
       "0              free             8                50                 0\n",
       "1             ultra             6                 0               199"
      ]
     },
     "execution_count": 7,
     "metadata": {},
     "output_type": "execute_result"
    }
   ],
   "source": [
    "subscriptions_go.head()"
   ]
  },
  {
   "cell_type": "code",
   "execution_count": 8,
   "id": "c25b885f",
   "metadata": {},
   "outputs": [
    {
     "name": "stdout",
     "output_type": "stream",
     "text": [
      "<class 'pandas.core.frame.DataFrame'>\n",
      "RangeIndex: 2 entries, 0 to 1\n",
      "Data columns (total 4 columns):\n",
      " #   Column             Non-Null Count  Dtype \n",
      "---  ------             --------------  ----- \n",
      " 0   subscription_type  2 non-null      object\n",
      " 1   minute_price       2 non-null      int64 \n",
      " 2   start_ride_price   2 non-null      int64 \n",
      " 3   subscription_fee   2 non-null      int64 \n",
      "dtypes: int64(3), object(1)\n",
      "memory usage: 192.0+ bytes\n"
     ]
    }
   ],
   "source": [
    "subscriptions_go.info()"
   ]
  },
  {
   "cell_type": "markdown",
   "id": "8fdd7ecb",
   "metadata": {},
   "source": [
    "<br>**Вывод**\n",
    "<br>После ознакомления со всеми таблицами можно заметить, что тип данных в столбце \"date\" таблицы \"rides_go\" некорректен. В этой же таблице столбец \"user_id\" имеет в значении еденицы (по крайней мере для первых десяти строк, в дальнейшей предобработке проверим все остальные), что тоже выглядит довольно странно на первый взгляд. Стоит рассмотреть его повнимательней.\n",
    "При дальнейшей предобработке так же проверим данные на наличие пропущенных значений и дубликатов и сгруппируем данные помесячно."
   ]
  },
  {
   "cell_type": "markdown",
   "id": "e95ebca7",
   "metadata": {},
   "source": [
    "#### Шаг 2. Предобработка данных"
   ]
  },
  {
   "cell_type": "markdown",
   "id": "6d7860d0",
   "metadata": {},
   "source": [
    "Приведем столбец \"date\" к типу даты Pandas"
   ]
  },
  {
   "cell_type": "code",
   "execution_count": 9,
   "id": "af6d202c",
   "metadata": {},
   "outputs": [],
   "source": [
    "rides_go['date'] = pd.to_datetime(rides_go['date'], format='%Y-%m-%d')"
   ]
  },
  {
   "cell_type": "markdown",
   "id": "e8255e83",
   "metadata": {},
   "source": [
    "<br>Теперь разберемся со столбцом \"user_id\"\n",
    "<br>В прошлый раз при вызове первых десяти строк значения этого столбца были равны одному.\n",
    "<br>Проверим, есть ли и другие значения"
   ]
  },
  {
   "cell_type": "code",
   "execution_count": 10,
   "id": "0db5a7c5",
   "metadata": {},
   "outputs": [
    {
     "data": {
      "text/html": [
       "<div>\n",
       "<style scoped>\n",
       "    .dataframe tbody tr th:only-of-type {\n",
       "        vertical-align: middle;\n",
       "    }\n",
       "\n",
       "    .dataframe tbody tr th {\n",
       "        vertical-align: top;\n",
       "    }\n",
       "\n",
       "    .dataframe thead th {\n",
       "        text-align: right;\n",
       "    }\n",
       "</style>\n",
       "<table border=\"1\" class=\"dataframe\">\n",
       "  <thead>\n",
       "    <tr style=\"text-align: right;\">\n",
       "      <th></th>\n",
       "      <th>user_id</th>\n",
       "      <th>distance</th>\n",
       "      <th>duration</th>\n",
       "      <th>date</th>\n",
       "    </tr>\n",
       "  </thead>\n",
       "  <tbody>\n",
       "    <tr>\n",
       "      <th>12</th>\n",
       "      <td>2</td>\n",
       "      <td>3105.086678</td>\n",
       "      <td>24.307514</td>\n",
       "      <td>2021-03-15</td>\n",
       "    </tr>\n",
       "    <tr>\n",
       "      <th>13</th>\n",
       "      <td>2</td>\n",
       "      <td>3053.519401</td>\n",
       "      <td>11.543256</td>\n",
       "      <td>2021-03-18</td>\n",
       "    </tr>\n",
       "    <tr>\n",
       "      <th>14</th>\n",
       "      <td>2</td>\n",
       "      <td>4029.116927</td>\n",
       "      <td>25.109188</td>\n",
       "      <td>2021-03-23</td>\n",
       "    </tr>\n",
       "    <tr>\n",
       "      <th>15</th>\n",
       "      <td>2</td>\n",
       "      <td>2805.786329</td>\n",
       "      <td>20.652145</td>\n",
       "      <td>2021-04-08</td>\n",
       "    </tr>\n",
       "    <tr>\n",
       "      <th>16</th>\n",
       "      <td>2</td>\n",
       "      <td>3358.595495</td>\n",
       "      <td>18.396489</td>\n",
       "      <td>2021-04-13</td>\n",
       "    </tr>\n",
       "    <tr>\n",
       "      <th>...</th>\n",
       "      <td>...</td>\n",
       "      <td>...</td>\n",
       "      <td>...</td>\n",
       "      <td>...</td>\n",
       "    </tr>\n",
       "    <tr>\n",
       "      <th>18063</th>\n",
       "      <td>1534</td>\n",
       "      <td>3781.098080</td>\n",
       "      <td>19.822962</td>\n",
       "      <td>2021-11-04</td>\n",
       "    </tr>\n",
       "    <tr>\n",
       "      <th>18064</th>\n",
       "      <td>1534</td>\n",
       "      <td>2840.423057</td>\n",
       "      <td>21.409799</td>\n",
       "      <td>2021-11-16</td>\n",
       "    </tr>\n",
       "    <tr>\n",
       "      <th>18065</th>\n",
       "      <td>1534</td>\n",
       "      <td>3826.185507</td>\n",
       "      <td>18.435051</td>\n",
       "      <td>2021-11-18</td>\n",
       "    </tr>\n",
       "    <tr>\n",
       "      <th>18066</th>\n",
       "      <td>1534</td>\n",
       "      <td>2902.308661</td>\n",
       "      <td>16.674362</td>\n",
       "      <td>2021-11-27</td>\n",
       "    </tr>\n",
       "    <tr>\n",
       "      <th>18067</th>\n",
       "      <td>1534</td>\n",
       "      <td>2371.711192</td>\n",
       "      <td>15.893917</td>\n",
       "      <td>2021-12-29</td>\n",
       "    </tr>\n",
       "  </tbody>\n",
       "</table>\n",
       "<p>18056 rows × 4 columns</p>\n",
       "</div>"
      ],
      "text/plain": [
       "       user_id     distance   duration       date\n",
       "12           2  3105.086678  24.307514 2021-03-15\n",
       "13           2  3053.519401  11.543256 2021-03-18\n",
       "14           2  4029.116927  25.109188 2021-03-23\n",
       "15           2  2805.786329  20.652145 2021-04-08\n",
       "16           2  3358.595495  18.396489 2021-04-13\n",
       "...        ...          ...        ...        ...\n",
       "18063     1534  3781.098080  19.822962 2021-11-04\n",
       "18064     1534  2840.423057  21.409799 2021-11-16\n",
       "18065     1534  3826.185507  18.435051 2021-11-18\n",
       "18066     1534  2902.308661  16.674362 2021-11-27\n",
       "18067     1534  2371.711192  15.893917 2021-12-29\n",
       "\n",
       "[18056 rows x 4 columns]"
      ]
     },
     "execution_count": 10,
     "metadata": {},
     "output_type": "execute_result"
    }
   ],
   "source": [
    "rides_go[rides_go['user_id'] > 1]"
   ]
  },
  {
   "cell_type": "markdown",
   "id": "e422205b",
   "metadata": {},
   "source": [
    "<br>Иные значения есть и самое крайнее = 1534\n",
    "<br>Посмотрим на аналогичный столбец в таблице \"users_go\", а точнее на его крайнее значение"
   ]
  },
  {
   "cell_type": "code",
   "execution_count": 11,
   "id": "b2ead455",
   "metadata": {},
   "outputs": [
    {
     "data": {
      "text/html": [
       "<div>\n",
       "<style scoped>\n",
       "    .dataframe tbody tr th:only-of-type {\n",
       "        vertical-align: middle;\n",
       "    }\n",
       "\n",
       "    .dataframe tbody tr th {\n",
       "        vertical-align: top;\n",
       "    }\n",
       "\n",
       "    .dataframe thead th {\n",
       "        text-align: right;\n",
       "    }\n",
       "</style>\n",
       "<table border=\"1\" class=\"dataframe\">\n",
       "  <thead>\n",
       "    <tr style=\"text-align: right;\">\n",
       "      <th></th>\n",
       "      <th>user_id</th>\n",
       "      <th>name</th>\n",
       "      <th>age</th>\n",
       "      <th>city</th>\n",
       "      <th>subscription_type</th>\n",
       "    </tr>\n",
       "  </thead>\n",
       "  <tbody>\n",
       "    <tr>\n",
       "      <th>1533</th>\n",
       "      <td>1534</td>\n",
       "      <td>Альберт</td>\n",
       "      <td>25</td>\n",
       "      <td>Краснодар</td>\n",
       "      <td>free</td>\n",
       "    </tr>\n",
       "  </tbody>\n",
       "</table>\n",
       "</div>"
      ],
      "text/plain": [
       "      user_id     name  age       city subscription_type\n",
       "1533     1534  Альберт   25  Краснодар              free"
      ]
     },
     "execution_count": 11,
     "metadata": {},
     "output_type": "execute_result"
    }
   ],
   "source": [
    "users_go[users_go['user_id'] >= 1534]"
   ]
  },
  {
   "cell_type": "markdown",
   "id": "8c5c65c2",
   "metadata": {},
   "source": [
    "<br>Крайним значением оказалось то же самое число\n",
    "<br>Следовательно \"user_id\" в таблице \"rides_go\" действительно является уникальным идентификатором, а такое количество повторений лишь указывает на количество поездок одного уникального пользователя.\n",
    "<br>Идем дальше"
   ]
  },
  {
   "cell_type": "markdown",
   "id": "dc8c74f9",
   "metadata": {},
   "source": [
    "Создадим новый столбец с номером месяца на основе столбца \"date\""
   ]
  },
  {
   "cell_type": "code",
   "execution_count": 12,
   "id": "8dc10c6b",
   "metadata": {},
   "outputs": [],
   "source": [
    "rides_go['month'] = rides_go['date'].dt.month"
   ]
  },
  {
   "cell_type": "markdown",
   "id": "5e23e94c",
   "metadata": {},
   "source": [
    "<br>Теперь проверим данные на наличие пропущенных значений и дубликатов\n",
    "<br>Таблицу \"subscriptions_go\" проверять не будем, т.к. в ней всего 2 строки, а сама таблица содержит информацию об условиях пользования сервисом с подпиской или без нее"
   ]
  },
  {
   "cell_type": "code",
   "execution_count": 13,
   "id": "bdc5ea4d",
   "metadata": {},
   "outputs": [
    {
     "data": {
      "text/plain": [
       "user_id              0\n",
       "name                 0\n",
       "age                  0\n",
       "city                 0\n",
       "subscription_type    0\n",
       "dtype: int64"
      ]
     },
     "execution_count": 13,
     "metadata": {},
     "output_type": "execute_result"
    }
   ],
   "source": [
    "users_go.isna().sum()"
   ]
  },
  {
   "cell_type": "code",
   "execution_count": 14,
   "id": "f1866af7",
   "metadata": {},
   "outputs": [
    {
     "data": {
      "text/plain": [
       "user_id     0\n",
       "distance    0\n",
       "duration    0\n",
       "date        0\n",
       "month       0\n",
       "dtype: int64"
      ]
     },
     "execution_count": 14,
     "metadata": {},
     "output_type": "execute_result"
    }
   ],
   "source": [
    "rides_go.isna().sum()"
   ]
  },
  {
   "cell_type": "markdown",
   "id": "28647dbf",
   "metadata": {},
   "source": [
    "<br>Пропущенных значений нет\n",
    "<br>Проверим наличие дубликатов и при их наличии устраним их"
   ]
  },
  {
   "cell_type": "code",
   "execution_count": 15,
   "id": "d7891e03",
   "metadata": {},
   "outputs": [
    {
     "data": {
      "text/plain": [
       "31"
      ]
     },
     "execution_count": 15,
     "metadata": {},
     "output_type": "execute_result"
    }
   ],
   "source": [
    "users_go.duplicated().sum()"
   ]
  },
  {
   "cell_type": "code",
   "execution_count": 16,
   "id": "1429bea4",
   "metadata": {},
   "outputs": [
    {
     "data": {
      "text/plain": [
       "0"
      ]
     },
     "execution_count": 16,
     "metadata": {},
     "output_type": "execute_result"
    }
   ],
   "source": [
    "rides_go.duplicated().sum()"
   ]
  },
  {
   "cell_type": "markdown",
   "id": "8542640d",
   "metadata": {},
   "source": [
    "Удалим дубликаты в таблице \"users_go\""
   ]
  },
  {
   "cell_type": "code",
   "execution_count": 17,
   "id": "793a2e3a",
   "metadata": {},
   "outputs": [],
   "source": [
    "users_go = users_go.drop_duplicates()"
   ]
  },
  {
   "cell_type": "code",
   "execution_count": 18,
   "id": "e253dab7",
   "metadata": {},
   "outputs": [
    {
     "name": "stdout",
     "output_type": "stream",
     "text": [
      "<class 'pandas.core.frame.DataFrame'>\n",
      "Int64Index: 1534 entries, 0 to 1533\n",
      "Data columns (total 5 columns):\n",
      " #   Column             Non-Null Count  Dtype \n",
      "---  ------             --------------  ----- \n",
      " 0   user_id            1534 non-null   int64 \n",
      " 1   name               1534 non-null   object\n",
      " 2   age                1534 non-null   int64 \n",
      " 3   city               1534 non-null   object\n",
      " 4   subscription_type  1534 non-null   object\n",
      "dtypes: int64(2), object(3)\n",
      "memory usage: 71.9+ KB\n"
     ]
    }
   ],
   "source": [
    "users_go.info()"
   ]
  },
  {
   "cell_type": "markdown",
   "id": "f022b842",
   "metadata": {},
   "source": [
    "Все дубликаты были удалены.\n",
    "Теперь в таблице \"users_go\" 1534 строки - ровно столько, сколько уникальных пользователей"
   ]
  },
  {
   "cell_type": "markdown",
   "id": "3db5231f",
   "metadata": {},
   "source": [
    "**Вывод**\n",
    "<br>Пропусков в данных не было, а дубликаты были успешно удалены. Нарушений стиля в названиях столбцов не было.\n",
    "<br>Провели замену формата столбца \"date\" на datetime64. А так же создали столбец \"month\", который содержит номера месяца. Он пригодится нам в дальнейшем.\n",
    "<br>Таким образом имеющиеся данные готовы для дальнейшего анализа."
   ]
  },
  {
   "cell_type": "markdown",
   "id": "212593c7",
   "metadata": {},
   "source": [
    "#### Шаг 3. Исследовательский анализ данных"
   ]
  },
  {
   "cell_type": "markdown",
   "id": "aa349e14",
   "metadata": {},
   "source": [
    "**3.1 частота встречаемости городов**"
   ]
  },
  {
   "cell_type": "markdown",
   "id": "9713e6d4",
   "metadata": {},
   "source": [
    "Проверим, какие города присутствуют в данных"
   ]
  },
  {
   "cell_type": "code",
   "execution_count": 19,
   "id": "559e33ac",
   "metadata": {},
   "outputs": [
    {
     "name": "stdout",
     "output_type": "stream",
     "text": [
      "['Тюмень' 'Омск' 'Москва' 'Ростов-на-Дону' 'Краснодар' 'Пятигорск'\n",
      " 'Екатеринбург' 'Сочи']\n"
     ]
    }
   ],
   "source": [
    "print(users_go['city'].unique())"
   ]
  },
  {
   "cell_type": "markdown",
   "id": "0f3fbb6c",
   "metadata": {},
   "source": [
    "<br>Всего в данных фигурируют 8 городов. Посмотрим как часто они встречаются"
   ]
  },
  {
   "cell_type": "code",
   "execution_count": 20,
   "id": "d2ef4151",
   "metadata": {},
   "outputs": [
    {
     "data": {
      "text/plain": [
       "Пятигорск         219\n",
       "Екатеринбург      204\n",
       "Ростов-на-Дону    198\n",
       "Краснодар         193\n",
       "Сочи              189\n",
       "Омск              183\n",
       "Тюмень            180\n",
       "Москва            168\n",
       "Name: city, dtype: int64"
      ]
     },
     "execution_count": 20,
     "metadata": {},
     "output_type": "execute_result"
    }
   ],
   "source": [
    "users_go['city'].value_counts()"
   ]
  },
  {
   "cell_type": "code",
   "execution_count": 21,
   "id": "dce23ce7",
   "metadata": {},
   "outputs": [
    {
     "data": {
      "image/png": "[encoded data removed]",
      "text/plain": [
       "<Figure size 432x288 with 1 Axes>"
      ]
     },
     "metadata": {
      "needs_background": "light"
     },
     "output_type": "display_data"
    }
   ],
   "source": [
    "users_go.groupby(by='city')['city'].count().sort_values().plot(y='user_id', kind='barh', label='Кол-во уникальных пользователей');\n",
    "plt.xlabel('Кол-во уникальных пользователей')\n",
    "plt.ylabel('Город')\n",
    "plt.title('Встречаемость городов')\n",
    "plt.legend(loc='upper left')\n",
    "plt.show()"
   ]
  },
  {
   "cell_type": "markdown",
   "id": "df0cf9b0",
   "metadata": {},
   "source": [
    "<br>Больше всего пользователей из Пятигорска и меньше всего из Москвы\n",
    "<br>Затрудняюсь предположить, с чем это связано, возможно, в Москеве есть более предпочтительные или более распиаренные аналогичные сервисы аренды самокатов, либо в столице данный вид услуг не так востребован\n",
    "<br>Но в целом график достаточно плотный и разница между Пятигорском и Москвой всего 51 пользователь"
   ]
  },
  {
   "cell_type": "markdown",
   "id": "dd003505",
   "metadata": {},
   "source": [
    "**3.2 соотношение пользователей с подпиской и без подписки**"
   ]
  },
  {
   "cell_type": "markdown",
   "id": "38b88470",
   "metadata": {},
   "source": [
    "Посмотрим на соотношение пользователей с подпиской и без подписки"
   ]
  },
  {
   "cell_type": "code",
   "execution_count": 22,
   "id": "f35c5ad8",
   "metadata": {},
   "outputs": [
    {
     "data": {
      "text/plain": [
       "free     835\n",
       "ultra    699\n",
       "Name: subscription_type, dtype: int64"
      ]
     },
     "execution_count": 22,
     "metadata": {},
     "output_type": "execute_result"
    }
   ],
   "source": [
    "users_go['subscription_type'].value_counts()"
   ]
  },
  {
   "cell_type": "code",
   "execution_count": 23,
   "id": "ebb96875",
   "metadata": {},
   "outputs": [
    {
     "name": "stdout",
     "output_type": "stream",
     "text": [
      "subscription_type\n",
      "free     835\n",
      "ultra    699\n",
      "Name: user_id, dtype: int64\n"
     ]
    }
   ],
   "source": [
    "print(users_go.groupby('subscription_type')['user_id'].count())"
   ]
  },
  {
   "cell_type": "code",
   "execution_count": 24,
   "id": "59a32abc",
   "metadata": {
    "scrolled": true
   },
   "outputs": [
    {
     "data": {
      "image/png": "[encoded data removed]",
      "text/plain": [
       "<Figure size 432x288 with 1 Axes>"
      ]
     },
     "metadata": {
      "needs_background": "light"
     },
     "output_type": "display_data"
    }
   ],
   "source": [
    "users_go.groupby(by='subscription_type')['subscription_type'].count().plot(y='user_id', kind='barh', label='Кол-во уникальных пользователей');\n",
    "plt.xlabel('Кол-во уникальных пользователей')\n",
    "plt.ylabel('Тип подписки')\n",
    "plt.title('Соотношение пользователей с подпиской и без')\n",
    "plt.legend(loc='upper right')\n",
    "plt.show()"
   ]
  },
  {
   "cell_type": "code",
   "execution_count": 25,
   "id": "d4d0d30b",
   "metadata": {},
   "outputs": [
    {
     "data": {
      "image/png": "[encoded data removed]",
      "text/plain": [
       "<Figure size 432x288 with 1 Axes>"
      ]
     },
     "metadata": {},
     "output_type": "display_data"
    }
   ],
   "source": [
    "users_go.groupby(by='subscription_type')['subscription_type'].count().plot(y='user_id', kind='pie', autopct='%.0f%%');\n",
    "plt.ylabel('Тип подписки')\n",
    "plt.title('Соотношение пользователей с подпиской и без')\n",
    "plt.legend(loc='upper right')\n",
    "plt.show()"
   ]
  },
  {
   "cell_type": "markdown",
   "id": "b2eb2521",
   "metadata": {},
   "source": [
    "<br>Как видим, соотношение пользователей с подпиской и без подписки не так уж и велико\n",
    "<br>Из общего числа пользователей оформили подписку - 45,6%, а не оформили - 54,4%"
   ]
  },
  {
   "cell_type": "markdown",
   "id": "ce1c232d",
   "metadata": {},
   "source": [
    "**3.3 возраст пользователей**"
   ]
  },
  {
   "cell_type": "markdown",
   "id": "bd4401e6",
   "metadata": {},
   "source": [
    "Посмотрим на средний возраст пользователей сервиса"
   ]
  },
  {
   "cell_type": "code",
   "execution_count": 26,
   "id": "cef6fef3",
   "metadata": {},
   "outputs": [
    {
     "data": {
      "text/html": [
       "<div>\n",
       "<style scoped>\n",
       "    .dataframe tbody tr th:only-of-type {\n",
       "        vertical-align: middle;\n",
       "    }\n",
       "\n",
       "    .dataframe tbody tr th {\n",
       "        vertical-align: top;\n",
       "    }\n",
       "\n",
       "    .dataframe thead th {\n",
       "        text-align: right;\n",
       "    }\n",
       "</style>\n",
       "<table border=\"1\" class=\"dataframe\">\n",
       "  <thead>\n",
       "    <tr style=\"text-align: right;\">\n",
       "      <th></th>\n",
       "      <th>user_id</th>\n",
       "      <th>age</th>\n",
       "    </tr>\n",
       "  </thead>\n",
       "  <tbody>\n",
       "    <tr>\n",
       "      <th>count</th>\n",
       "      <td>1534.000000</td>\n",
       "      <td>1534.000000</td>\n",
       "    </tr>\n",
       "    <tr>\n",
       "      <th>mean</th>\n",
       "      <td>767.500000</td>\n",
       "      <td>24.903520</td>\n",
       "    </tr>\n",
       "    <tr>\n",
       "      <th>std</th>\n",
       "      <td>442.971971</td>\n",
       "      <td>4.572367</td>\n",
       "    </tr>\n",
       "    <tr>\n",
       "      <th>min</th>\n",
       "      <td>1.000000</td>\n",
       "      <td>12.000000</td>\n",
       "    </tr>\n",
       "    <tr>\n",
       "      <th>25%</th>\n",
       "      <td>384.250000</td>\n",
       "      <td>22.000000</td>\n",
       "    </tr>\n",
       "    <tr>\n",
       "      <th>50%</th>\n",
       "      <td>767.500000</td>\n",
       "      <td>25.000000</td>\n",
       "    </tr>\n",
       "    <tr>\n",
       "      <th>75%</th>\n",
       "      <td>1150.750000</td>\n",
       "      <td>28.000000</td>\n",
       "    </tr>\n",
       "    <tr>\n",
       "      <th>max</th>\n",
       "      <td>1534.000000</td>\n",
       "      <td>43.000000</td>\n",
       "    </tr>\n",
       "  </tbody>\n",
       "</table>\n",
       "</div>"
      ],
      "text/plain": [
       "           user_id          age\n",
       "count  1534.000000  1534.000000\n",
       "mean    767.500000    24.903520\n",
       "std     442.971971     4.572367\n",
       "min       1.000000    12.000000\n",
       "25%     384.250000    22.000000\n",
       "50%     767.500000    25.000000\n",
       "75%    1150.750000    28.000000\n",
       "max    1534.000000    43.000000"
      ]
     },
     "execution_count": 26,
     "metadata": {},
     "output_type": "execute_result"
    }
   ],
   "source": [
    "users_go.describe()"
   ]
  },
  {
   "cell_type": "code",
   "execution_count": 27,
   "id": "68e60716",
   "metadata": {},
   "outputs": [
    {
     "data": {
      "image/png": "[encoded data removed]",
      "text/plain": [
       "<Figure size 432x288 with 1 Axes>"
      ]
     },
     "metadata": {
      "needs_background": "light"
     },
     "output_type": "display_data"
    }
   ],
   "source": [
    "users_go.hist('age', bins=30);\n",
    "plt.xlabel('Возраст')\n",
    "plt.ylabel('Кол-во уникальных пользователей')\n",
    "plt.title('Возраст пользователей')\n",
    "plt.show()"
   ]
  },
  {
   "cell_type": "code",
   "execution_count": 28,
   "id": "2c44b1dd",
   "metadata": {},
   "outputs": [
    {
     "data": {
      "image/png": "[encoded data removed]",
      "text/plain": [
       "<Figure size 432x288 with 1 Axes>"
      ]
     },
     "metadata": {
      "needs_background": "light"
     },
     "output_type": "display_data"
    }
   ],
   "source": [
    "users_go.hist('age', bins=100, range=(0, 35));\n",
    "plt.xlabel('Возраст')\n",
    "plt.ylabel('Кол-во уникальных пользователей')\n",
    "plt.title('Возраст пользователей')\n",
    "plt.show()"
   ]
  },
  {
   "cell_type": "code",
   "execution_count": 29,
   "id": "d65e818e",
   "metadata": {},
   "outputs": [
    {
     "data": {
      "image/png": "[encoded data removed]",
      "text/plain": [
       "<Figure size 432x288 with 1 Axes>"
      ]
     },
     "metadata": {
      "needs_background": "light"
     },
     "output_type": "display_data"
    }
   ],
   "source": [
    "users_go.hist('age', bins=100, range=(34, 50));\n",
    "plt.xlabel('Возраст')\n",
    "plt.ylabel('Кол-во уникальных пользователей')\n",
    "plt.title('Возраст пользователей')\n",
    "plt.show()"
   ]
  },
  {
   "cell_type": "markdown",
   "id": "46e407ff",
   "metadata": {},
   "source": [
    "<br>Большее число пользователей в возрасте от 20 до 30 лет включительно\n",
    "<br>Так же немало пользователей возрастом от 18 до 20 лет и тем, кому немного за тридцать (31-33 года)\n",
    "<br>Самую малую часть составляют несовершеннолетние (младше 18) и пользователи возрастом старше 34 лет"
   ]
  },
  {
   "cell_type": "markdown",
   "id": "34ee969e",
   "metadata": {},
   "source": [
    "**3.4 расстояние, которое пользователь преодолел за одну поездку**"
   ]
  },
  {
   "cell_type": "markdown",
   "id": "92e1cd70",
   "metadata": {},
   "source": [
    "Узнаем среднее расстояние, которое пользователи преодолевали за одну поездку"
   ]
  },
  {
   "cell_type": "code",
   "execution_count": 30,
   "id": "7769801d",
   "metadata": {},
   "outputs": [
    {
     "data": {
      "text/plain": [
       "count    18068.000000\n",
       "mean      3070.659976\n",
       "std       1116.831209\n",
       "min          0.855683\n",
       "25%       2543.226360\n",
       "50%       3133.609994\n",
       "75%       3776.222735\n",
       "max       7211.007745\n",
       "Name: distance, dtype: float64"
      ]
     },
     "execution_count": 30,
     "metadata": {},
     "output_type": "execute_result"
    }
   ],
   "source": [
    "rides_go.distance.describe()"
   ]
  },
  {
   "cell_type": "code",
   "execution_count": 31,
   "id": "23911cfd",
   "metadata": {},
   "outputs": [
    {
     "data": {
      "image/png": "[encoded data removed]",
      "text/plain": [
       "<Figure size 432x288 with 1 Axes>"
      ]
     },
     "metadata": {
      "needs_background": "light"
     },
     "output_type": "display_data"
    }
   ],
   "source": [
    "rides_go.hist('distance', bins=50);\n",
    "plt.xlabel('Метры')\n",
    "plt.ylabel('Кол-во поездок')\n",
    "plt.title('Расстояние за одну поездку')\n",
    "plt.show()"
   ]
  },
  {
   "cell_type": "code",
   "execution_count": 32,
   "id": "ea7a9448",
   "metadata": {},
   "outputs": [
    {
     "data": {
      "image/png": "[encoded data removed]",
      "text/plain": [
       "<Figure size 432x288 with 1 Axes>"
      ]
     },
     "metadata": {
      "needs_background": "light"
     },
     "output_type": "display_data"
    }
   ],
   "source": [
    "rides_go.hist('distance', bins=50, range=(0, 2000));\n",
    "plt.xlabel('Метры')\n",
    "plt.ylabel('Кол-во поездок')\n",
    "plt.title('Расстояние за одну поездку')\n",
    "plt.show()"
   ]
  },
  {
   "cell_type": "code",
   "execution_count": 33,
   "id": "3a41473d",
   "metadata": {},
   "outputs": [
    {
     "data": {
      "image/png": "[encoded data removed]",
      "text/plain": [
       "<Figure size 432x288 with 1 Axes>"
      ]
     },
     "metadata": {
      "needs_background": "light"
     },
     "output_type": "display_data"
    }
   ],
   "source": [
    "rides_go.hist('distance', bins=50, range=(0, 500));\n",
    "plt.xlabel('Метры')\n",
    "plt.ylabel('Кол-во поездок')\n",
    "plt.title('Расстояние за одну поездку')\n",
    "plt.show()"
   ]
  },
  {
   "cell_type": "markdown",
   "id": "72f9fc70",
   "metadata": {},
   "source": [
    "<br>Видим, что большая часть поездок была на расстояние приблизительно от 2300 до 4200 м, причем после 4200 м грфик начинает идти на спад.\n",
    "<br>Нередки и поездки на короткие дистанции (до километра) затем график идет на небольшой спад в районе 1400 м и снова растет, но их количество заметнее меньше.\n",
    "<br>Есть несколько десятков поездои на расстояния менее 100 метров - их возможные причины опишу в конце след. пункта."
   ]
  },
  {
   "cell_type": "markdown",
   "id": "9a8f41bb",
   "metadata": {},
   "source": [
    "**3.5 продолжительность поездок**"
   ]
  },
  {
   "cell_type": "markdown",
   "id": "53540742",
   "metadata": {},
   "source": [
    "Посмотрим на продолжительность поездок пользователей"
   ]
  },
  {
   "cell_type": "code",
   "execution_count": 34,
   "id": "7f4b12be",
   "metadata": {},
   "outputs": [
    {
     "data": {
      "text/plain": [
       "count    18068.000000\n",
       "mean        17.805011\n",
       "std          6.091051\n",
       "min          0.500000\n",
       "25%         13.597563\n",
       "50%         17.678395\n",
       "75%         21.724800\n",
       "max         40.823963\n",
       "Name: duration, dtype: float64"
      ]
     },
     "execution_count": 34,
     "metadata": {},
     "output_type": "execute_result"
    }
   ],
   "source": [
    "rides_go.duration.describe()"
   ]
  },
  {
   "cell_type": "code",
   "execution_count": 35,
   "id": "a8d7de4c",
   "metadata": {},
   "outputs": [
    {
     "data": {
      "image/png": "[encoded data removed]",
      "text/plain": [
       "<Figure size 432x288 with 1 Axes>"
      ]
     },
     "metadata": {
      "needs_background": "light"
     },
     "output_type": "display_data"
    }
   ],
   "source": [
    "rides_go.hist('duration', bins=50);\n",
    "plt.xlabel('Минуты')\n",
    "plt.ylabel('Кол-во поездок')\n",
    "plt.title('Продолжительность поездок')\n",
    "plt.show()"
   ]
  },
  {
   "cell_type": "code",
   "execution_count": 36,
   "id": "f918dac9",
   "metadata": {},
   "outputs": [
    {
     "data": {
      "image/png": "[encoded data removed]",
      "text/plain": [
       "<Figure size 432x288 with 1 Axes>"
      ]
     },
     "metadata": {
      "needs_background": "light"
     },
     "output_type": "display_data"
    }
   ],
   "source": [
    "rides_go.hist('duration', bins=50, range=(0, 10));\n",
    "plt.xlabel('Минуты')\n",
    "plt.ylabel('Кол-во поездок')\n",
    "plt.title('Продолжительность поездок')\n",
    "plt.show()"
   ]
  },
  {
   "cell_type": "markdown",
   "id": "edee56de",
   "metadata": {},
   "source": [
    "<br>Средняя продолжительность большинства поездок составляет 12-21 минуту\n",
    "<br>Много поездок от 8 до 12 минут и от 21 до 27 минут\n",
    "<br>На их фоне совсем немного поездок до 8 минут и свыше получаса\n",
    "<br>Так же привлекатет внимание небольшой пик около нуля (немного меньше 100 поездок). Скорее-всего это связано с тем, что пользователи не смогли разобраться с сервисом (а это вполне возможно), их чем-то не удовлетворило состояние самоката, либо они просто передумали пользоваться транспортным средством (тем более, что у пользователей с подпиской старт бесплатный и они вполне могут себе позволить отказаться от поездки)"
   ]
  },
  {
   "cell_type": "markdown",
   "id": "e4f4cea3",
   "metadata": {},
   "source": [
    "**Итог**\n",
    "<br>Исходя из графиков, можно сделать выводы, что сервисом одинаково активно пользуются во всех представленных городах, не считая нашей Столицы. \n",
    "<br>Активные/основные пользователи сервиса - это молодые люди от 18 до 31-33 лет.\n",
    "<br>Большинство поездок у пользователй занимает 12-21 минут на расстояние 2300-4200 км\n",
    "<br>У 45,6% пользователей имеется подписка - чуть меньше половины от общего числа, что на мой взгляд уже является неплохим показателем."
   ]
  },
  {
   "cell_type": "markdown",
   "id": "4ef51331",
   "metadata": {},
   "source": [
    "#### Шаг 4. Объединение данных"
   ]
  },
  {
   "cell_type": "markdown",
   "id": "6d7dd495",
   "metadata": {},
   "source": [
    "Для дальнейшего подсчета выручки и проверки гипотез создадим несколько датафреймов"
   ]
  },
  {
   "cell_type": "markdown",
   "id": "6ce66ebd",
   "metadata": {},
   "source": [
    "**4.1 Объединим данные о пользователях, поездках и подписках в один датафрейм**"
   ]
  },
  {
   "cell_type": "code",
   "execution_count": 37,
   "id": "6bf288b5",
   "metadata": {},
   "outputs": [
    {
     "name": "stdout",
     "output_type": "stream",
     "text": [
      "<class 'pandas.core.frame.DataFrame'>\n",
      "Int64Index: 18068 entries, 0 to 18067\n",
      "Data columns (total 12 columns):\n",
      " #   Column             Non-Null Count  Dtype         \n",
      "---  ------             --------------  -----         \n",
      " 0   user_id            18068 non-null  int64         \n",
      " 1   name               18068 non-null  object        \n",
      " 2   age                18068 non-null  int64         \n",
      " 3   city               18068 non-null  object        \n",
      " 4   subscription_type  18068 non-null  object        \n",
      " 5   distance           18068 non-null  float64       \n",
      " 6   duration           18068 non-null  float64       \n",
      " 7   date               18068 non-null  datetime64[ns]\n",
      " 8   month              18068 non-null  int64         \n",
      " 9   minute_price       18068 non-null  int64         \n",
      " 10  start_ride_price   18068 non-null  int64         \n",
      " 11  subscription_fee   18068 non-null  int64         \n",
      "dtypes: datetime64[ns](1), float64(2), int64(6), object(3)\n",
      "memory usage: 1.8+ MB\n"
     ]
    }
   ],
   "source": [
    "total_go = users_go.merge(rides_go, how = 'outer')\n",
    "total_go = total_go.merge(subscriptions_go, how = 'outer')\n",
    "total_go.info()"
   ]
  },
  {
   "cell_type": "code",
   "execution_count": 38,
   "id": "5e410583",
   "metadata": {},
   "outputs": [
    {
     "data": {
      "text/html": [
       "<div>\n",
       "<style scoped>\n",
       "    .dataframe tbody tr th:only-of-type {\n",
       "        vertical-align: middle;\n",
       "    }\n",
       "\n",
       "    .dataframe tbody tr th {\n",
       "        vertical-align: top;\n",
       "    }\n",
       "\n",
       "    .dataframe thead th {\n",
       "        text-align: right;\n",
       "    }\n",
       "</style>\n",
       "<table border=\"1\" class=\"dataframe\">\n",
       "  <thead>\n",
       "    <tr style=\"text-align: right;\">\n",
       "      <th></th>\n",
       "      <th>user_id</th>\n",
       "      <th>name</th>\n",
       "      <th>age</th>\n",
       "      <th>city</th>\n",
       "      <th>subscription_type</th>\n",
       "      <th>distance</th>\n",
       "      <th>duration</th>\n",
       "      <th>date</th>\n",
       "      <th>month</th>\n",
       "      <th>minute_price</th>\n",
       "      <th>start_ride_price</th>\n",
       "      <th>subscription_fee</th>\n",
       "    </tr>\n",
       "  </thead>\n",
       "  <tbody>\n",
       "    <tr>\n",
       "      <th>0</th>\n",
       "      <td>1</td>\n",
       "      <td>Кира</td>\n",
       "      <td>22</td>\n",
       "      <td>Тюмень</td>\n",
       "      <td>ultra</td>\n",
       "      <td>4409.919140</td>\n",
       "      <td>25.599769</td>\n",
       "      <td>2021-01-01</td>\n",
       "      <td>1</td>\n",
       "      <td>6</td>\n",
       "      <td>0</td>\n",
       "      <td>199</td>\n",
       "    </tr>\n",
       "    <tr>\n",
       "      <th>1</th>\n",
       "      <td>1</td>\n",
       "      <td>Кира</td>\n",
       "      <td>22</td>\n",
       "      <td>Тюмень</td>\n",
       "      <td>ultra</td>\n",
       "      <td>2617.592153</td>\n",
       "      <td>15.816871</td>\n",
       "      <td>2021-01-18</td>\n",
       "      <td>1</td>\n",
       "      <td>6</td>\n",
       "      <td>0</td>\n",
       "      <td>199</td>\n",
       "    </tr>\n",
       "    <tr>\n",
       "      <th>2</th>\n",
       "      <td>1</td>\n",
       "      <td>Кира</td>\n",
       "      <td>22</td>\n",
       "      <td>Тюмень</td>\n",
       "      <td>ultra</td>\n",
       "      <td>754.159807</td>\n",
       "      <td>6.232113</td>\n",
       "      <td>2021-04-20</td>\n",
       "      <td>4</td>\n",
       "      <td>6</td>\n",
       "      <td>0</td>\n",
       "      <td>199</td>\n",
       "    </tr>\n",
       "    <tr>\n",
       "      <th>3</th>\n",
       "      <td>1</td>\n",
       "      <td>Кира</td>\n",
       "      <td>22</td>\n",
       "      <td>Тюмень</td>\n",
       "      <td>ultra</td>\n",
       "      <td>2694.783254</td>\n",
       "      <td>18.511000</td>\n",
       "      <td>2021-08-11</td>\n",
       "      <td>8</td>\n",
       "      <td>6</td>\n",
       "      <td>0</td>\n",
       "      <td>199</td>\n",
       "    </tr>\n",
       "    <tr>\n",
       "      <th>4</th>\n",
       "      <td>1</td>\n",
       "      <td>Кира</td>\n",
       "      <td>22</td>\n",
       "      <td>Тюмень</td>\n",
       "      <td>ultra</td>\n",
       "      <td>4028.687306</td>\n",
       "      <td>26.265803</td>\n",
       "      <td>2021-08-28</td>\n",
       "      <td>8</td>\n",
       "      <td>6</td>\n",
       "      <td>0</td>\n",
       "      <td>199</td>\n",
       "    </tr>\n",
       "    <tr>\n",
       "      <th>5</th>\n",
       "      <td>1</td>\n",
       "      <td>Кира</td>\n",
       "      <td>22</td>\n",
       "      <td>Тюмень</td>\n",
       "      <td>ultra</td>\n",
       "      <td>2770.890808</td>\n",
       "      <td>16.650138</td>\n",
       "      <td>2021-10-09</td>\n",
       "      <td>10</td>\n",
       "      <td>6</td>\n",
       "      <td>0</td>\n",
       "      <td>199</td>\n",
       "    </tr>\n",
       "    <tr>\n",
       "      <th>6</th>\n",
       "      <td>1</td>\n",
       "      <td>Кира</td>\n",
       "      <td>22</td>\n",
       "      <td>Тюмень</td>\n",
       "      <td>ultra</td>\n",
       "      <td>3039.020292</td>\n",
       "      <td>14.927879</td>\n",
       "      <td>2021-10-19</td>\n",
       "      <td>10</td>\n",
       "      <td>6</td>\n",
       "      <td>0</td>\n",
       "      <td>199</td>\n",
       "    </tr>\n",
       "    <tr>\n",
       "      <th>7</th>\n",
       "      <td>1</td>\n",
       "      <td>Кира</td>\n",
       "      <td>22</td>\n",
       "      <td>Тюмень</td>\n",
       "      <td>ultra</td>\n",
       "      <td>2842.118050</td>\n",
       "      <td>23.117468</td>\n",
       "      <td>2021-11-06</td>\n",
       "      <td>11</td>\n",
       "      <td>6</td>\n",
       "      <td>0</td>\n",
       "      <td>199</td>\n",
       "    </tr>\n",
       "    <tr>\n",
       "      <th>8</th>\n",
       "      <td>1</td>\n",
       "      <td>Кира</td>\n",
       "      <td>22</td>\n",
       "      <td>Тюмень</td>\n",
       "      <td>ultra</td>\n",
       "      <td>3412.690668</td>\n",
       "      <td>15.238072</td>\n",
       "      <td>2021-11-14</td>\n",
       "      <td>11</td>\n",
       "      <td>6</td>\n",
       "      <td>0</td>\n",
       "      <td>199</td>\n",
       "    </tr>\n",
       "    <tr>\n",
       "      <th>9</th>\n",
       "      <td>1</td>\n",
       "      <td>Кира</td>\n",
       "      <td>22</td>\n",
       "      <td>Тюмень</td>\n",
       "      <td>ultra</td>\n",
       "      <td>748.690645</td>\n",
       "      <td>15.041884</td>\n",
       "      <td>2021-11-22</td>\n",
       "      <td>11</td>\n",
       "      <td>6</td>\n",
       "      <td>0</td>\n",
       "      <td>199</td>\n",
       "    </tr>\n",
       "    <tr>\n",
       "      <th>10</th>\n",
       "      <td>1</td>\n",
       "      <td>Кира</td>\n",
       "      <td>22</td>\n",
       "      <td>Тюмень</td>\n",
       "      <td>ultra</td>\n",
       "      <td>4031.020195</td>\n",
       "      <td>17.674448</td>\n",
       "      <td>2021-12-14</td>\n",
       "      <td>12</td>\n",
       "      <td>6</td>\n",
       "      <td>0</td>\n",
       "      <td>199</td>\n",
       "    </tr>\n",
       "    <tr>\n",
       "      <th>11</th>\n",
       "      <td>1</td>\n",
       "      <td>Кира</td>\n",
       "      <td>22</td>\n",
       "      <td>Тюмень</td>\n",
       "      <td>ultra</td>\n",
       "      <td>2720.609748</td>\n",
       "      <td>9.529463</td>\n",
       "      <td>2021-12-22</td>\n",
       "      <td>12</td>\n",
       "      <td>6</td>\n",
       "      <td>0</td>\n",
       "      <td>199</td>\n",
       "    </tr>\n",
       "    <tr>\n",
       "      <th>12</th>\n",
       "      <td>2</td>\n",
       "      <td>Станислав</td>\n",
       "      <td>31</td>\n",
       "      <td>Омск</td>\n",
       "      <td>ultra</td>\n",
       "      <td>3105.086678</td>\n",
       "      <td>24.307514</td>\n",
       "      <td>2021-03-15</td>\n",
       "      <td>3</td>\n",
       "      <td>6</td>\n",
       "      <td>0</td>\n",
       "      <td>199</td>\n",
       "    </tr>\n",
       "    <tr>\n",
       "      <th>13</th>\n",
       "      <td>2</td>\n",
       "      <td>Станислав</td>\n",
       "      <td>31</td>\n",
       "      <td>Омск</td>\n",
       "      <td>ultra</td>\n",
       "      <td>3053.519401</td>\n",
       "      <td>11.543256</td>\n",
       "      <td>2021-03-18</td>\n",
       "      <td>3</td>\n",
       "      <td>6</td>\n",
       "      <td>0</td>\n",
       "      <td>199</td>\n",
       "    </tr>\n",
       "    <tr>\n",
       "      <th>14</th>\n",
       "      <td>2</td>\n",
       "      <td>Станислав</td>\n",
       "      <td>31</td>\n",
       "      <td>Омск</td>\n",
       "      <td>ultra</td>\n",
       "      <td>4029.116927</td>\n",
       "      <td>25.109188</td>\n",
       "      <td>2021-03-23</td>\n",
       "      <td>3</td>\n",
       "      <td>6</td>\n",
       "      <td>0</td>\n",
       "      <td>199</td>\n",
       "    </tr>\n",
       "  </tbody>\n",
       "</table>\n",
       "</div>"
      ],
      "text/plain": [
       "    user_id       name  age    city subscription_type     distance   duration  \\\n",
       "0         1       Кира   22  Тюмень             ultra  4409.919140  25.599769   \n",
       "1         1       Кира   22  Тюмень             ultra  2617.592153  15.816871   \n",
       "2         1       Кира   22  Тюмень             ultra   754.159807   6.232113   \n",
       "3         1       Кира   22  Тюмень             ultra  2694.783254  18.511000   \n",
       "4         1       Кира   22  Тюмень             ultra  4028.687306  26.265803   \n",
       "5         1       Кира   22  Тюмень             ultra  2770.890808  16.650138   \n",
       "6         1       Кира   22  Тюмень             ultra  3039.020292  14.927879   \n",
       "7         1       Кира   22  Тюмень             ultra  2842.118050  23.117468   \n",
       "8         1       Кира   22  Тюмень             ultra  3412.690668  15.238072   \n",
       "9         1       Кира   22  Тюмень             ultra   748.690645  15.041884   \n",
       "10        1       Кира   22  Тюмень             ultra  4031.020195  17.674448   \n",
       "11        1       Кира   22  Тюмень             ultra  2720.609748   9.529463   \n",
       "12        2  Станислав   31    Омск             ultra  3105.086678  24.307514   \n",
       "13        2  Станислав   31    Омск             ultra  3053.519401  11.543256   \n",
       "14        2  Станислав   31    Омск             ultra  4029.116927  25.109188   \n",
       "\n",
       "         date  month  minute_price  start_ride_price  subscription_fee  \n",
       "0  2021-01-01      1             6                 0               199  \n",
       "1  2021-01-18      1             6                 0               199  \n",
       "2  2021-04-20      4             6                 0               199  \n",
       "3  2021-08-11      8             6                 0               199  \n",
       "4  2021-08-28      8             6                 0               199  \n",
       "5  2021-10-09     10             6                 0               199  \n",
       "6  2021-10-19     10             6                 0               199  \n",
       "7  2021-11-06     11             6                 0               199  \n",
       "8  2021-11-14     11             6                 0               199  \n",
       "9  2021-11-22     11             6                 0               199  \n",
       "10 2021-12-14     12             6                 0               199  \n",
       "11 2021-12-22     12             6                 0               199  \n",
       "12 2021-03-15      3             6                 0               199  \n",
       "13 2021-03-18      3             6                 0               199  \n",
       "14 2021-03-23      3             6                 0               199  "
      ]
     },
     "execution_count": 38,
     "metadata": {},
     "output_type": "execute_result"
    }
   ],
   "source": [
    "total_go.head(15)"
   ]
  },
  {
   "cell_type": "markdown",
   "id": "ac59c689",
   "metadata": {},
   "source": [
    "**4.2 Создадим ещё два датафрейма**\n",
    "\n",
    "<br>Создадим их из датафрейма, созданного выше. \n",
    "<br>1-ая таблица будет c данными о пользователях без подписки;\n",
    "<br>2-ая - с данными о пользователях с подпиской."
   ]
  },
  {
   "cell_type": "code",
   "execution_count": 39,
   "id": "4f1557ed",
   "metadata": {},
   "outputs": [],
   "source": [
    "total_free_go = total_go[total_go['subscription_type'] == 'free']"
   ]
  },
  {
   "cell_type": "code",
   "execution_count": 40,
   "id": "8a371b2c",
   "metadata": {},
   "outputs": [],
   "source": [
    "total_ultra_go = total_go[total_go['subscription_type'] == 'ultra']"
   ]
  },
  {
   "cell_type": "markdown",
   "id": "636e045a",
   "metadata": {},
   "source": [
    "**4.3 Визуализируем информацию о расстоянии и времени поездок для пользователей обеих категорий**"
   ]
  },
  {
   "cell_type": "code",
   "execution_count": 41,
   "id": "fcb39b91",
   "metadata": {},
   "outputs": [
    {
     "data": {
      "image/png": "[encoded data removed]",
      "text/plain": [
       "<Figure size 432x288 with 1 Axes>"
      ]
     },
     "metadata": {
      "needs_background": "light"
     },
     "output_type": "display_data"
    },
    {
     "data": {
      "image/png": "[encoded data removed]",
      "text/plain": [
       "<Figure size 432x288 with 1 Axes>"
      ]
     },
     "metadata": {
      "needs_background": "light"
     },
     "output_type": "display_data"
    }
   ],
   "source": [
    "total_free_go.hist('distance', bins=50, range=(0, 7000));\n",
    "plt.xlabel('Метры')\n",
    "plt.ylabel('Кол-во поездок')\n",
    "plt.title('Расстояние за одну поездку для пользователей без подписки')\n",
    "plt.show()\n",
    "\n",
    "total_ultra_go.hist('distance', bins=50, range=(0, 7000));\n",
    "plt.xlabel('Метры')\n",
    "plt.ylabel('Кол-во поездок')\n",
    "plt.title('Расстояние за одну поездку для пользователей с подпиской')\n",
    "plt.show()"
   ]
  },
  {
   "cell_type": "code",
   "execution_count": 42,
   "id": "1e1c5fab",
   "metadata": {},
   "outputs": [
    {
     "data": {
      "image/png": "[encoded data removed]",
      "text/plain": [
       "<Figure size 432x288 with 1 Axes>"
      ]
     },
     "metadata": {
      "needs_background": "light"
     },
     "output_type": "display_data"
    },
    {
     "data": {
      "image/png": "[encoded data removed]",
      "text/plain": [
       "<Figure size 432x288 with 1 Axes>"
      ]
     },
     "metadata": {
      "needs_background": "light"
     },
     "output_type": "display_data"
    }
   ],
   "source": [
    "total_free_go.hist('duration', bins=50, range=(0, 40));\n",
    "plt.xlabel('Минуты')\n",
    "plt.ylabel('Кол-во поездок')\n",
    "plt.title('Продолжительность поездок пользователей без подписки')\n",
    "plt.show()\n",
    "\n",
    "total_ultra_go.hist('duration', bins=50, range=(0, 40));\n",
    "plt.xlabel('Минуты')\n",
    "plt.ylabel('Кол-во поездок')\n",
    "plt.title('Продолжительность поездок пользователей с подпиской')\n",
    "plt.show()"
   ]
  },
  {
   "cell_type": "markdown",
   "id": "753b0792",
   "metadata": {},
   "source": [
    "**Итог**\n",
    "<br>Заметно, что графики для пользователей с подпиской уже, чем графики для пользователей без нее, причем разница в среднем расстоянии намного сильнее, нежели в продолжительности\n",
    "<br>Среднее расстояние, которое преоделевают пользователи без подписок составляет от 2100 до 4400 м, а у пользователей  с подпиской - от 2500 до 3500 м. Так же на обоих графиках виден небольшой \"бугор\". В первом случае он в отрезке от 0 до 1000 м, а во втором - от 500 до 1500 м\n",
    "<br>Средняя продолжительность у обоих типов пользователей примерно одинакова (11 - 24 минут). Главнй интерес представляет тот факт, что тот самый пик в нуле, который был упомянут выше, все-таки наблюдается у пользователей без подписки. Видимо, новых пользователей могло что-то не устроить в самокатах сервиса GoFast (технический момент, либо взаимодействие программной начинки самоката с самим сервисом). А, может, они просто испугались ездить на таком 'агрегате'."
   ]
  },
  {
   "cell_type": "markdown",
   "id": "402d620f",
   "metadata": {},
   "source": [
    "#### Шаг 5. Подсчёт выручки"
   ]
  },
  {
   "cell_type": "markdown",
   "id": "3c2a0836",
   "metadata": {},
   "source": [
    "**5.1 Создадим датафрейм с агрегированными данными о поездках**"
   ]
  },
  {
   "cell_type": "markdown",
   "id": "200fca31",
   "metadata": {},
   "source": [
    "Создадим мы его на основе датафрейма с объединёнными данными из шага 4. Найдем суммарное расстояние, количество поездок и суммарное время для каждого пользователя за каждый месяц."
   ]
  },
  {
   "cell_type": "code",
   "execution_count": 43,
   "id": "c11c6735",
   "metadata": {},
   "outputs": [],
   "source": [
    "total_go_sum = total_go.pivot_table(\n",
    "    index=['user_id', 'month', 'subscription_type'], \n",
    "    values=['distance', 'duration', 'minute_price', \n",
    "            'subscription_fee', 'start_ride_price'], \n",
    "    aggfunc={'distance' : 'sum', 'duration' : ['sum', 'count'], \n",
    "             'start_ride_price': 'mean', \n",
    "             'minute_price' : 'mean', \n",
    "             'subscription_fee' : 'mean'})"
   ]
  },
  {
   "cell_type": "code",
   "execution_count": 44,
   "id": "2c1ef27e",
   "metadata": {},
   "outputs": [
    {
     "data": {
      "text/html": [
       "<div>\n",
       "<style scoped>\n",
       "    .dataframe tbody tr th:only-of-type {\n",
       "        vertical-align: middle;\n",
       "    }\n",
       "\n",
       "    .dataframe tbody tr th {\n",
       "        vertical-align: top;\n",
       "    }\n",
       "\n",
       "    .dataframe thead tr th {\n",
       "        text-align: left;\n",
       "    }\n",
       "\n",
       "    .dataframe thead tr:last-of-type th {\n",
       "        text-align: right;\n",
       "    }\n",
       "</style>\n",
       "<table border=\"1\" class=\"dataframe\">\n",
       "  <thead>\n",
       "    <tr>\n",
       "      <th></th>\n",
       "      <th></th>\n",
       "      <th></th>\n",
       "      <th>distance</th>\n",
       "      <th colspan=\"2\" halign=\"left\">duration</th>\n",
       "      <th>minute_price</th>\n",
       "      <th>start_ride_price</th>\n",
       "      <th>subscription_fee</th>\n",
       "    </tr>\n",
       "    <tr>\n",
       "      <th></th>\n",
       "      <th></th>\n",
       "      <th></th>\n",
       "      <th>sum</th>\n",
       "      <th>count</th>\n",
       "      <th>sum</th>\n",
       "      <th>mean</th>\n",
       "      <th>mean</th>\n",
       "      <th>mean</th>\n",
       "    </tr>\n",
       "    <tr>\n",
       "      <th>user_id</th>\n",
       "      <th>month</th>\n",
       "      <th>subscription_type</th>\n",
       "      <th></th>\n",
       "      <th></th>\n",
       "      <th></th>\n",
       "      <th></th>\n",
       "      <th></th>\n",
       "      <th></th>\n",
       "    </tr>\n",
       "  </thead>\n",
       "  <tbody>\n",
       "    <tr>\n",
       "      <th rowspan=\"6\" valign=\"top\">1</th>\n",
       "      <th>1</th>\n",
       "      <th>ultra</th>\n",
       "      <td>7027.511294</td>\n",
       "      <td>2</td>\n",
       "      <td>41.416640</td>\n",
       "      <td>6</td>\n",
       "      <td>0</td>\n",
       "      <td>199</td>\n",
       "    </tr>\n",
       "    <tr>\n",
       "      <th>4</th>\n",
       "      <th>ultra</th>\n",
       "      <td>754.159807</td>\n",
       "      <td>1</td>\n",
       "      <td>6.232113</td>\n",
       "      <td>6</td>\n",
       "      <td>0</td>\n",
       "      <td>199</td>\n",
       "    </tr>\n",
       "    <tr>\n",
       "      <th>8</th>\n",
       "      <th>ultra</th>\n",
       "      <td>6723.470560</td>\n",
       "      <td>2</td>\n",
       "      <td>44.776802</td>\n",
       "      <td>6</td>\n",
       "      <td>0</td>\n",
       "      <td>199</td>\n",
       "    </tr>\n",
       "    <tr>\n",
       "      <th>10</th>\n",
       "      <th>ultra</th>\n",
       "      <td>5809.911100</td>\n",
       "      <td>2</td>\n",
       "      <td>31.578017</td>\n",
       "      <td>6</td>\n",
       "      <td>0</td>\n",
       "      <td>199</td>\n",
       "    </tr>\n",
       "    <tr>\n",
       "      <th>11</th>\n",
       "      <th>ultra</th>\n",
       "      <td>7003.499363</td>\n",
       "      <td>3</td>\n",
       "      <td>53.397424</td>\n",
       "      <td>6</td>\n",
       "      <td>0</td>\n",
       "      <td>199</td>\n",
       "    </tr>\n",
       "    <tr>\n",
       "      <th>12</th>\n",
       "      <th>ultra</th>\n",
       "      <td>6751.629942</td>\n",
       "      <td>2</td>\n",
       "      <td>27.203912</td>\n",
       "      <td>6</td>\n",
       "      <td>0</td>\n",
       "      <td>199</td>\n",
       "    </tr>\n",
       "    <tr>\n",
       "      <th rowspan=\"4\" valign=\"top\">2</th>\n",
       "      <th>3</th>\n",
       "      <th>ultra</th>\n",
       "      <td>10187.723006</td>\n",
       "      <td>3</td>\n",
       "      <td>60.959959</td>\n",
       "      <td>6</td>\n",
       "      <td>0</td>\n",
       "      <td>199</td>\n",
       "    </tr>\n",
       "    <tr>\n",
       "      <th>4</th>\n",
       "      <th>ultra</th>\n",
       "      <td>6164.381824</td>\n",
       "      <td>2</td>\n",
       "      <td>39.048633</td>\n",
       "      <td>6</td>\n",
       "      <td>0</td>\n",
       "      <td>199</td>\n",
       "    </tr>\n",
       "    <tr>\n",
       "      <th>6</th>\n",
       "      <th>ultra</th>\n",
       "      <td>3255.338202</td>\n",
       "      <td>1</td>\n",
       "      <td>13.851127</td>\n",
       "      <td>6</td>\n",
       "      <td>0</td>\n",
       "      <td>199</td>\n",
       "    </tr>\n",
       "    <tr>\n",
       "      <th>7</th>\n",
       "      <th>ultra</th>\n",
       "      <td>6780.722964</td>\n",
       "      <td>2</td>\n",
       "      <td>46.170157</td>\n",
       "      <td>6</td>\n",
       "      <td>0</td>\n",
       "      <td>199</td>\n",
       "    </tr>\n",
       "  </tbody>\n",
       "</table>\n",
       "</div>"
      ],
      "text/plain": [
       "                                     distance duration             \\\n",
       "                                          sum    count        sum   \n",
       "user_id month subscription_type                                     \n",
       "1       1     ultra               7027.511294        2  41.416640   \n",
       "        4     ultra                754.159807        1   6.232113   \n",
       "        8     ultra               6723.470560        2  44.776802   \n",
       "        10    ultra               5809.911100        2  31.578017   \n",
       "        11    ultra               7003.499363        3  53.397424   \n",
       "        12    ultra               6751.629942        2  27.203912   \n",
       "2       3     ultra              10187.723006        3  60.959959   \n",
       "        4     ultra               6164.381824        2  39.048633   \n",
       "        6     ultra               3255.338202        1  13.851127   \n",
       "        7     ultra               6780.722964        2  46.170157   \n",
       "\n",
       "                                minute_price start_ride_price subscription_fee  \n",
       "                                        mean             mean             mean  \n",
       "user_id month subscription_type                                                 \n",
       "1       1     ultra                        6                0              199  \n",
       "        4     ultra                        6                0              199  \n",
       "        8     ultra                        6                0              199  \n",
       "        10    ultra                        6                0              199  \n",
       "        11    ultra                        6                0              199  \n",
       "        12    ultra                        6                0              199  \n",
       "2       3     ultra                        6                0              199  \n",
       "        4     ultra                        6                0              199  \n",
       "        6     ultra                        6                0              199  \n",
       "        7     ultra                        6                0              199  "
      ]
     },
     "execution_count": 44,
     "metadata": {},
     "output_type": "execute_result"
    }
   ],
   "source": [
    "total_go_sum.head(10)"
   ]
  },
  {
   "cell_type": "markdown",
   "id": "17bf7431",
   "metadata": {},
   "source": [
    "**5.2 Добавим в него столбец с помесячной выручкой, которую принёс каждый пользователь**"
   ]
  },
  {
   "cell_type": "markdown",
   "id": "3241768d",
   "metadata": {},
   "source": [
    "Для этого обратитимся к информации об условиях оплаты для подписчиков и и тех, у кого нет подписки. \n",
    "<br>Минуты при подсчёте стоимости округлим до ближайшего целого числа.\n",
    "<br>Помесячную выручку будем считать по формуле: \n",
    "<br>стоимость старта поездки * количество поездок + суммарное количество минут * общую продолжительность + стоимость подписки."
   ]
  },
  {
   "cell_type": "code",
   "execution_count": 45,
   "id": "cf037e24",
   "metadata": {},
   "outputs": [],
   "source": [
    "total_go_sum['duration'] = round(total_go_sum['duration']).astype('int')"
   ]
  },
  {
   "cell_type": "code",
   "execution_count": 46,
   "id": "39e8362b",
   "metadata": {},
   "outputs": [],
   "source": [
    "total_go_sum['monthly_revenue'] = total_go_sum['start_ride_price']['mean']*total_go_sum['duration']['count']+total_go_sum['minute_price']['mean']*total_go_sum['duration']['sum']+total_go_sum['subscription_fee']['mean']"
   ]
  },
  {
   "cell_type": "code",
   "execution_count": 47,
   "id": "90329353",
   "metadata": {},
   "outputs": [
    {
     "data": {
      "text/html": [
       "<div>\n",
       "<style scoped>\n",
       "    .dataframe tbody tr th:only-of-type {\n",
       "        vertical-align: middle;\n",
       "    }\n",
       "\n",
       "    .dataframe tbody tr th {\n",
       "        vertical-align: top;\n",
       "    }\n",
       "\n",
       "    .dataframe thead tr th {\n",
       "        text-align: left;\n",
       "    }\n",
       "\n",
       "    .dataframe thead tr:last-of-type th {\n",
       "        text-align: right;\n",
       "    }\n",
       "</style>\n",
       "<table border=\"1\" class=\"dataframe\">\n",
       "  <thead>\n",
       "    <tr>\n",
       "      <th></th>\n",
       "      <th></th>\n",
       "      <th></th>\n",
       "      <th>distance</th>\n",
       "      <th colspan=\"2\" halign=\"left\">duration</th>\n",
       "      <th>minute_price</th>\n",
       "      <th>start_ride_price</th>\n",
       "      <th>subscription_fee</th>\n",
       "      <th>monthly_revenue</th>\n",
       "    </tr>\n",
       "    <tr>\n",
       "      <th></th>\n",
       "      <th></th>\n",
       "      <th></th>\n",
       "      <th>sum</th>\n",
       "      <th>count</th>\n",
       "      <th>sum</th>\n",
       "      <th>mean</th>\n",
       "      <th>mean</th>\n",
       "      <th>mean</th>\n",
       "      <th></th>\n",
       "    </tr>\n",
       "    <tr>\n",
       "      <th>user_id</th>\n",
       "      <th>month</th>\n",
       "      <th>subscription_type</th>\n",
       "      <th></th>\n",
       "      <th></th>\n",
       "      <th></th>\n",
       "      <th></th>\n",
       "      <th></th>\n",
       "      <th></th>\n",
       "      <th></th>\n",
       "    </tr>\n",
       "  </thead>\n",
       "  <tbody>\n",
       "    <tr>\n",
       "      <th rowspan=\"6\" valign=\"top\">1</th>\n",
       "      <th>1</th>\n",
       "      <th>ultra</th>\n",
       "      <td>7027.511294</td>\n",
       "      <td>2</td>\n",
       "      <td>41</td>\n",
       "      <td>6</td>\n",
       "      <td>0</td>\n",
       "      <td>199</td>\n",
       "      <td>445</td>\n",
       "    </tr>\n",
       "    <tr>\n",
       "      <th>4</th>\n",
       "      <th>ultra</th>\n",
       "      <td>754.159807</td>\n",
       "      <td>1</td>\n",
       "      <td>6</td>\n",
       "      <td>6</td>\n",
       "      <td>0</td>\n",
       "      <td>199</td>\n",
       "      <td>235</td>\n",
       "    </tr>\n",
       "    <tr>\n",
       "      <th>8</th>\n",
       "      <th>ultra</th>\n",
       "      <td>6723.470560</td>\n",
       "      <td>2</td>\n",
       "      <td>45</td>\n",
       "      <td>6</td>\n",
       "      <td>0</td>\n",
       "      <td>199</td>\n",
       "      <td>469</td>\n",
       "    </tr>\n",
       "    <tr>\n",
       "      <th>10</th>\n",
       "      <th>ultra</th>\n",
       "      <td>5809.911100</td>\n",
       "      <td>2</td>\n",
       "      <td>32</td>\n",
       "      <td>6</td>\n",
       "      <td>0</td>\n",
       "      <td>199</td>\n",
       "      <td>391</td>\n",
       "    </tr>\n",
       "    <tr>\n",
       "      <th>11</th>\n",
       "      <th>ultra</th>\n",
       "      <td>7003.499363</td>\n",
       "      <td>3</td>\n",
       "      <td>53</td>\n",
       "      <td>6</td>\n",
       "      <td>0</td>\n",
       "      <td>199</td>\n",
       "      <td>517</td>\n",
       "    </tr>\n",
       "    <tr>\n",
       "      <th>12</th>\n",
       "      <th>ultra</th>\n",
       "      <td>6751.629942</td>\n",
       "      <td>2</td>\n",
       "      <td>27</td>\n",
       "      <td>6</td>\n",
       "      <td>0</td>\n",
       "      <td>199</td>\n",
       "      <td>361</td>\n",
       "    </tr>\n",
       "    <tr>\n",
       "      <th rowspan=\"4\" valign=\"top\">2</th>\n",
       "      <th>3</th>\n",
       "      <th>ultra</th>\n",
       "      <td>10187.723006</td>\n",
       "      <td>3</td>\n",
       "      <td>61</td>\n",
       "      <td>6</td>\n",
       "      <td>0</td>\n",
       "      <td>199</td>\n",
       "      <td>565</td>\n",
       "    </tr>\n",
       "    <tr>\n",
       "      <th>4</th>\n",
       "      <th>ultra</th>\n",
       "      <td>6164.381824</td>\n",
       "      <td>2</td>\n",
       "      <td>39</td>\n",
       "      <td>6</td>\n",
       "      <td>0</td>\n",
       "      <td>199</td>\n",
       "      <td>433</td>\n",
       "    </tr>\n",
       "    <tr>\n",
       "      <th>6</th>\n",
       "      <th>ultra</th>\n",
       "      <td>3255.338202</td>\n",
       "      <td>1</td>\n",
       "      <td>14</td>\n",
       "      <td>6</td>\n",
       "      <td>0</td>\n",
       "      <td>199</td>\n",
       "      <td>283</td>\n",
       "    </tr>\n",
       "    <tr>\n",
       "      <th>7</th>\n",
       "      <th>ultra</th>\n",
       "      <td>6780.722964</td>\n",
       "      <td>2</td>\n",
       "      <td>46</td>\n",
       "      <td>6</td>\n",
       "      <td>0</td>\n",
       "      <td>199</td>\n",
       "      <td>475</td>\n",
       "    </tr>\n",
       "  </tbody>\n",
       "</table>\n",
       "</div>"
      ],
      "text/plain": [
       "                                     distance duration     minute_price  \\\n",
       "                                          sum    count sum         mean   \n",
       "user_id month subscription_type                                           \n",
       "1       1     ultra               7027.511294        2  41            6   \n",
       "        4     ultra                754.159807        1   6            6   \n",
       "        8     ultra               6723.470560        2  45            6   \n",
       "        10    ultra               5809.911100        2  32            6   \n",
       "        11    ultra               7003.499363        3  53            6   \n",
       "        12    ultra               6751.629942        2  27            6   \n",
       "2       3     ultra              10187.723006        3  61            6   \n",
       "        4     ultra               6164.381824        2  39            6   \n",
       "        6     ultra               3255.338202        1  14            6   \n",
       "        7     ultra               6780.722964        2  46            6   \n",
       "\n",
       "                                start_ride_price subscription_fee  \\\n",
       "                                            mean             mean   \n",
       "user_id month subscription_type                                     \n",
       "1       1     ultra                            0              199   \n",
       "        4     ultra                            0              199   \n",
       "        8     ultra                            0              199   \n",
       "        10    ultra                            0              199   \n",
       "        11    ultra                            0              199   \n",
       "        12    ultra                            0              199   \n",
       "2       3     ultra                            0              199   \n",
       "        4     ultra                            0              199   \n",
       "        6     ultra                            0              199   \n",
       "        7     ultra                            0              199   \n",
       "\n",
       "                                monthly_revenue  \n",
       "                                                 \n",
       "user_id month subscription_type                  \n",
       "1       1     ultra                         445  \n",
       "        4     ultra                         235  \n",
       "        8     ultra                         469  \n",
       "        10    ultra                         391  \n",
       "        11    ultra                         517  \n",
       "        12    ultra                         361  \n",
       "2       3     ultra                         565  \n",
       "        4     ultra                         433  \n",
       "        6     ultra                         283  \n",
       "        7     ultra                         475  "
      ]
     },
     "execution_count": 47,
     "metadata": {},
     "output_type": "execute_result"
    }
   ],
   "source": [
    "total_go_sum.head(10)"
   ]
  },
  {
   "cell_type": "markdown",
   "id": "41545ac0",
   "metadata": {},
   "source": [
    "#### Шаг 6. Проверка гипотез"
   ]
  },
  {
   "cell_type": "code",
   "execution_count": 48,
   "id": "32f52127",
   "metadata": {},
   "outputs": [],
   "source": [
    "free = total_go_sum.query('subscription_type == [\"free\"]')\n",
    "ultra = total_go_sum.query('subscription_type == [\"ultra\"]')"
   ]
  },
  {
   "cell_type": "markdown",
   "id": "65f72bca",
   "metadata": {},
   "source": [
    "**6.1 Важно понять, тратят ли пользователи с подпиской больше времени на поездки? Если да, то действительно ли пользователи с подпиской «выгоднее» для компании.**\n",
    "<br>Используем исходные данные о продолжительности каждой сессии — отдельно для подписчиков и тех, у кого нет подписки."
   ]
  },
  {
   "cell_type": "markdown",
   "id": "df5a3f14",
   "metadata": {},
   "source": [
    "Сформулируем гипотезы\n",
    "- Н0: время на поездки у пользователей с подпиской и у пользователей без - равны \n",
    "- Н1: время на поездки у пользователей с подпиской и у пользователей без - не равны"
   ]
  },
  {
   "cell_type": "markdown",
   "id": "1e2acff9",
   "metadata": {},
   "source": [
    "Используем st.ttest_ind, т.к. сравниваем средние двух генеральных совокупностей между собой"
   ]
  },
  {
   "cell_type": "code",
   "execution_count": 49,
   "id": "8ce25829",
   "metadata": {},
   "outputs": [
    {
     "name": "stdout",
     "output_type": "stream",
     "text": [
      "cреднее время поездки пользователей с подпиской:  18.54198516280583\n",
      "cреднее время поездки пользователей без подписки:  17.39090929866399\n",
      "p-значение: 5.6757813771289775e-37\n",
      "Отвергаем нулевую гипотезу\n"
     ]
    }
   ],
   "source": [
    "print('cреднее время поездки пользователей с подпиской: ',pd.Series(total_ultra_go['duration']).mean())\n",
    "print('cреднее время поездки пользователей без подписки: ',pd.Series(total_free_go['duration']).mean())\n",
    "alpha = .05\n",
    "\n",
    "results = st.ttest_ind(\n",
    "    total_ultra_go['duration'], \n",
    "    total_free_go['duration'], equal_var=False, alternative='greater')\n",
    "\n",
    "print('p-значение:', results.pvalue)\n",
    "\n",
    "if (results.pvalue < alpha):\n",
    "    print(\"Отвергаем нулевую гипотезу\")\n",
    "else:\n",
    "    print(\"Не получилось отвергнуть нулевую гипотезу\")"
   ]
  },
  {
   "cell_type": "markdown",
   "id": "2621554c",
   "metadata": {},
   "source": [
    "Выходит, что пользователи с подпиской в среднем тратят больше времени на поездку, нежели пользователи без подписки"
   ]
  },
  {
   "cell_type": "markdown",
   "id": "d1200690",
   "metadata": {},
   "source": [
    "**6.2 Расстояние одной поездки в 3130 метров — оптимальное с точки зрения износа самоката. Можно ли сказать, что расстояние, которое проезжают пользователи с подпиской за одну поездку, меньше 3130 метров?**"
   ]
  },
  {
   "cell_type": "markdown",
   "id": "2498f052",
   "metadata": {},
   "source": [
    "Сформулируем гипотезы\n",
    "\n",
    "- Н0: расстояние, которое проезжают пользователи с подпиской за одну поездку, равно 3130 метров\n",
    "- Н1: расстояние, которое проезжают пользователи с подпиской за одну поездку, не равно 3130 метров"
   ]
  },
  {
   "cell_type": "code",
   "execution_count": 53,
   "id": "9bd09a8c",
   "metadata": {},
   "outputs": [
    {
     "name": "stdout",
     "output_type": "stream",
     "text": [
      "cреднее расстояние пользователей с подпиской:  3115.4453880370247\n",
      "p-значение: 0.08046311521502146\n",
      "Не получилось отвергнуть нулевую гипотезу\n"
     ]
    }
   ],
   "source": [
    "print('cреднее расстояние пользователей с подпиской: ',pd.Series(total_ultra_go['distance']).mean())\n",
    "optimal_distance = 3130\n",
    "alpha = 0.05\n",
    "\n",
    "results = st.ttest_1samp(\n",
    "    total_ultra_go['distance'], \n",
    "    optimal_distance, alternative='less')\n",
    "\n",
    "print('p-значение:', results.pvalue)\n",
    "\n",
    "if (results.pvalue < alpha):\n",
    "    print(\"Отвергаем нулевую гипотезу\")\n",
    "else:\n",
    "    print(\"Не получилось отвергнуть нулевую гипотезу\")"
   ]
  },
  {
   "cell_type": "markdown",
   "id": "9035be9d",
   "metadata": {},
   "source": [
    "Исходя из результатов теста, расстояние, которое проезжают пользователи с подпиской за одну поездку, действительно, равно иди по крайней мере, очень близко к оптимальному, т.е. в итоге расстояние, которое проезжают пользователи с подпиской за одну поездку, не меньше 3130 метров"
   ]
  },
  {
   "cell_type": "markdown",
   "id": "f3e10bf9",
   "metadata": {},
   "source": [
    "**6.3 Будет ли выручка от пользователей с подпиской выше, чем выручка от пользователей без подписки.**"
   ]
  },
  {
   "cell_type": "markdown",
   "id": "23a456cc",
   "metadata": {},
   "source": [
    "Сформулируем гипотезы\n",
    "- Н0: средняя выручка от пользователей с подпиской равна выручке от пользователей без подписки\n",
    "- Н1: средняя выручка от пользователей с подпиской не равна выручке от пользователей без подписки"
   ]
  },
  {
   "cell_type": "markdown",
   "id": "8bf973d5",
   "metadata": {},
   "source": [
    "Используем st.ttest_ind, т.к. сравниваем средние двух генеральных совокупностей между собой"
   ]
  },
  {
   "cell_type": "code",
   "execution_count": 51,
   "id": "5c85a601",
   "metadata": {
    "scrolled": true
   },
   "outputs": [
    {
     "name": "stdout",
     "output_type": "stream",
     "text": [
      "cредняя выручка от пользователей с подпиской:  358.5380542686962\n",
      "cредняя выручка от пользователей без подписки:  321.7840541335687\n",
      "p-значение: 2.3492186178087955e-47\n",
      "Отвергаем нулевую гипотезу\n"
     ]
    }
   ],
   "source": [
    "monthly_revenue_free = free['monthly_revenue']\n",
    "monthly_revenue_ultra = ultra['monthly_revenue']\n",
    "\n",
    "print('cредняя выручка от пользователей с подпиской: ',pd.Series(monthly_revenue_ultra).mean())\n",
    "print('cредняя выручка от пользователей без подписки: ',pd.Series(monthly_revenue_free).mean())\n",
    "alpha = 0.05\n",
    "\n",
    "results = st.ttest_ind(\n",
    "    monthly_revenue_ultra, \n",
    "    monthly_revenue_free, equal_var=False, alternative='greater')\n",
    "\n",
    "print('p-значение:', results.pvalue)\n",
    "\n",
    "if (results.pvalue < alpha):\n",
    "    print(\"Отвергаем нулевую гипотезу\")\n",
    "else:\n",
    "    print(\"Не получилось отвергнуть нулевую гипотезу\")"
   ]
  },
  {
   "cell_type": "markdown",
   "id": "c95e1ea5",
   "metadata": {},
   "source": [
    "Выручка от пользователей с подпиской выше, чем выручка от пользователей без подписки"
   ]
  },
  {
   "cell_type": "markdown",
   "id": "5bcd43ea",
   "metadata": {},
   "source": [
    "**6.4 Представим такую ситуацию: техническая команда сервиса обновила сервера, с которыми взаимодействует мобильное приложение. Она надеется, что из-за этого количество обращений в техподдержку значимо снизилось. Некоторый файл содержит для каждого пользователя данные о количестве обращений до обновления и после него. Какой тест нам понадобился бы для проверки этой гипотезы?**"
   ]
  },
  {
   "cell_type": "markdown",
   "id": "0e21a214",
   "metadata": {},
   "source": [
    "Сформулируем гипотезы\n",
    "- Н0: количество обращений в техподдержку до обновления и после - равны\n",
    "- Н1: количество обращений в техподдержку до обновления и после - не равны"
   ]
  },
  {
   "cell_type": "markdown",
   "id": "6100d51d",
   "metadata": {},
   "source": [
    "Применяем scipy.stats.ttest_rel(), т.к. анализируем одну генеральную совокупность, с которой произошли некоторые изменения."
   ]
  },
  {
   "cell_type": "raw",
   "id": "01ddd0fe",
   "metadata": {},
   "source": [
    "requests_before = data['requests_before']\n",
    "requests_after = data['requests_after']\n",
    "\n",
    "print('cреднее количество обращений в техподдержку до обновления: ',pd.Series(requests_before).sum())\n",
    "print('cреднее количество обращений в техподдержку после обновления: ',pd.Series(requests_after).sum())\n",
    "alpha = 0.05\n",
    "\n",
    "results = st.ttest_rel(\n",
    "    requests_before, \n",
    "    requests_after)\n",
    "\n",
    "print('p-значение:', results.pvalue)\n",
    "\n",
    "if (results.pvalue < alpha):\n",
    "    print(\"Отвергаем нулевую гипотезу\")\n",
    "else:\n",
    "    print(\"Не получилось отвергнуть нулевую гипотезу\")"
   ]
  },
  {
   "cell_type": "markdown",
   "id": "d97eb6c6",
   "metadata": {},
   "source": [
    "**Общий Вывод:**\n",
    "<br>Мы проанализировали данные от сервиса GoFast и проверили некоторые гипотезы.\n",
    "<br>Данные были предобработаны, проверены на наличие пропущенных значений и дубликаты\n",
    "<br>Была описана и визуализирована общая информация о пользователях и поездках\n",
    "<br>В последующем все данные были объеденены в один датафрейм, благодаря которому были распределены данные по пользователем с подпиской и без по отдельности\n",
    "<br>Была создана сводная таблица  с агрегированными данными о поездках на основе датафрейма с объединёнными данными, а так же подсчитана помесячная выручка, котрую мы добавили в отдельный столбец\n",
    "<br>Проверили все стоящие перед нами гипотезы.\n",
    "Оказалось, что:\n",
    "- пользователи с подпиской тратят больше времени на поездки, нежели пользователи без подписки\n",
    "- расстояние, которое проезжают пользователи с подпиской за одну поездку, не меньше 3130 метров\n",
    "- выручка от пользователей с подпиской выше, чем выручка от пользователей без подписки"
   ]
  }
 ],
 "metadata": {
  "ExecuteTimeLog": [
   {
    "duration": 1298,
    "start_time": "2023-04-21T16:19:37.871Z"
   },
   {
    "duration": 104,
    "start_time": "2023-04-21T16:19:39.172Z"
   },
   {
    "duration": 1,
    "start_time": "2023-04-21T16:19:39.278Z"
   },
   {
    "duration": 0,
    "start_time": "2023-04-21T16:19:39.280Z"
   },
   {
    "duration": 0,
    "start_time": "2023-04-21T16:19:39.282Z"
   },
   {
    "duration": 518,
    "start_time": "2023-04-21T16:19:57.520Z"
   },
   {
    "duration": 12,
    "start_time": "2023-04-21T16:20:06.317Z"
   },
   {
    "duration": 12,
    "start_time": "2023-04-21T16:20:06.331Z"
   },
   {
    "duration": 10,
    "start_time": "2023-04-21T16:20:06.344Z"
   },
   {
    "duration": 12,
    "start_time": "2023-04-21T16:20:42.564Z"
   },
   {
    "duration": 9,
    "start_time": "2023-04-21T16:20:50.673Z"
   },
   {
    "duration": 12,
    "start_time": "2023-04-21T16:21:00.844Z"
   },
   {
    "duration": 10,
    "start_time": "2023-04-21T16:21:02.381Z"
   },
   {
    "duration": 7,
    "start_time": "2023-04-21T16:21:19.382Z"
   },
   {
    "duration": 9,
    "start_time": "2023-04-21T16:21:36.125Z"
   },
   {
    "duration": 4,
    "start_time": "2023-04-21T16:21:43.301Z"
   },
   {
    "duration": 75,
    "start_time": "2023-04-21T16:21:43.306Z"
   },
   {
    "duration": 9,
    "start_time": "2023-04-21T16:21:43.383Z"
   },
   {
    "duration": 13,
    "start_time": "2023-04-21T16:21:43.393Z"
   },
   {
    "duration": 11,
    "start_time": "2023-04-21T16:21:43.409Z"
   },
   {
    "duration": 11,
    "start_time": "2023-04-21T16:21:43.422Z"
   },
   {
    "duration": 7,
    "start_time": "2023-04-21T16:21:43.435Z"
   },
   {
    "duration": 23,
    "start_time": "2023-04-21T16:21:43.444Z"
   },
   {
    "duration": 8,
    "start_time": "2023-04-21T18:39:48.980Z"
   },
   {
    "duration": 9,
    "start_time": "2023-04-21T18:40:53.049Z"
   },
   {
    "duration": 10,
    "start_time": "2023-04-21T18:42:37.863Z"
   },
   {
    "duration": 9,
    "start_time": "2023-04-21T18:42:46.159Z"
   },
   {
    "duration": 11,
    "start_time": "2023-04-21T18:43:51.527Z"
   },
   {
    "duration": 8,
    "start_time": "2023-04-21T18:44:00.888Z"
   },
   {
    "duration": 8,
    "start_time": "2023-04-21T20:12:35.123Z"
   },
   {
    "duration": 22,
    "start_time": "2023-04-21T20:12:51.943Z"
   },
   {
    "duration": 17,
    "start_time": "2023-04-21T20:12:57.810Z"
   },
   {
    "duration": 12,
    "start_time": "2023-04-21T20:35:47.345Z"
   },
   {
    "duration": 6,
    "start_time": "2023-04-21T20:37:10.210Z"
   },
   {
    "duration": 9,
    "start_time": "2023-04-21T20:37:27.317Z"
   },
   {
    "duration": 2,
    "start_time": "2023-04-21T20:37:40.713Z"
   },
   {
    "duration": 64,
    "start_time": "2023-04-21T20:37:40.717Z"
   },
   {
    "duration": 7,
    "start_time": "2023-04-21T20:37:40.783Z"
   },
   {
    "duration": 12,
    "start_time": "2023-04-21T20:37:40.792Z"
   },
   {
    "duration": 9,
    "start_time": "2023-04-21T20:37:40.805Z"
   },
   {
    "duration": 12,
    "start_time": "2023-04-21T20:37:40.815Z"
   },
   {
    "duration": 6,
    "start_time": "2023-04-21T20:37:40.828Z"
   },
   {
    "duration": 9,
    "start_time": "2023-04-21T20:37:40.835Z"
   },
   {
    "duration": 7,
    "start_time": "2023-04-21T20:37:40.863Z"
   },
   {
    "duration": 6,
    "start_time": "2023-04-21T20:37:40.871Z"
   },
   {
    "duration": 18,
    "start_time": "2023-04-21T20:46:01.382Z"
   },
   {
    "duration": 8,
    "start_time": "2023-04-21T20:46:52.578Z"
   },
   {
    "duration": 6,
    "start_time": "2023-04-21T20:58:20.045Z"
   },
   {
    "duration": 6,
    "start_time": "2023-04-21T20:58:43.147Z"
   },
   {
    "duration": 6,
    "start_time": "2023-04-21T20:58:43.154Z"
   },
   {
    "duration": 3,
    "start_time": "2023-04-21T20:58:46.318Z"
   },
   {
    "duration": 67,
    "start_time": "2023-04-21T20:58:46.323Z"
   },
   {
    "duration": 9,
    "start_time": "2023-04-21T20:58:46.392Z"
   },
   {
    "duration": 10,
    "start_time": "2023-04-21T20:58:46.403Z"
   },
   {
    "duration": 8,
    "start_time": "2023-04-21T20:58:46.416Z"
   },
   {
    "duration": 11,
    "start_time": "2023-04-21T20:58:46.426Z"
   },
   {
    "duration": 30,
    "start_time": "2023-04-21T20:58:46.438Z"
   },
   {
    "duration": 10,
    "start_time": "2023-04-21T20:58:46.470Z"
   },
   {
    "duration": 9,
    "start_time": "2023-04-21T20:58:46.482Z"
   },
   {
    "duration": 14,
    "start_time": "2023-04-21T20:58:46.494Z"
   },
   {
    "duration": 9,
    "start_time": "2023-04-21T20:58:46.509Z"
   },
   {
    "duration": 11,
    "start_time": "2023-04-21T20:58:46.520Z"
   },
   {
    "duration": 6,
    "start_time": "2023-04-21T20:58:46.563Z"
   },
   {
    "duration": 6,
    "start_time": "2023-04-21T20:58:46.571Z"
   },
   {
    "duration": 6,
    "start_time": "2023-04-21T21:02:49.124Z"
   },
   {
    "duration": 7,
    "start_time": "2023-04-21T21:02:49.132Z"
   },
   {
    "duration": 14,
    "start_time": "2023-04-21T21:21:52.515Z"
   },
   {
    "duration": 4,
    "start_time": "2023-04-21T21:25:09.623Z"
   },
   {
    "duration": 6,
    "start_time": "2023-04-21T21:25:13.469Z"
   },
   {
    "duration": 2,
    "start_time": "2023-04-21T21:25:21.195Z"
   },
   {
    "duration": 66,
    "start_time": "2023-04-21T21:25:21.199Z"
   },
   {
    "duration": 8,
    "start_time": "2023-04-21T21:25:21.267Z"
   },
   {
    "duration": 10,
    "start_time": "2023-04-21T21:25:21.277Z"
   },
   {
    "duration": 10,
    "start_time": "2023-04-21T21:25:21.288Z"
   },
   {
    "duration": 10,
    "start_time": "2023-04-21T21:25:21.300Z"
   },
   {
    "duration": 6,
    "start_time": "2023-04-21T21:25:21.311Z"
   },
   {
    "duration": 10,
    "start_time": "2023-04-21T21:25:21.318Z"
   },
   {
    "duration": 36,
    "start_time": "2023-04-21T21:25:21.330Z"
   },
   {
    "duration": 13,
    "start_time": "2023-04-21T21:25:21.367Z"
   },
   {
    "duration": 28,
    "start_time": "2023-04-21T21:25:21.381Z"
   },
   {
    "duration": 9,
    "start_time": "2023-04-21T21:25:21.411Z"
   },
   {
    "duration": 6,
    "start_time": "2023-04-21T21:25:21.422Z"
   },
   {
    "duration": 7,
    "start_time": "2023-04-21T21:25:21.429Z"
   },
   {
    "duration": 5,
    "start_time": "2023-04-21T21:25:21.437Z"
   },
   {
    "duration": 7,
    "start_time": "2023-04-21T21:25:21.443Z"
   },
   {
    "duration": 7,
    "start_time": "2023-04-21T21:25:21.451Z"
   },
   {
    "duration": 6,
    "start_time": "2023-04-21T21:37:27.715Z"
   },
   {
    "duration": 3,
    "start_time": "2023-04-21T21:37:28.978Z"
   },
   {
    "duration": 93,
    "start_time": "2023-04-21T21:37:28.985Z"
   },
   {
    "duration": 10,
    "start_time": "2023-04-21T21:37:29.080Z"
   },
   {
    "duration": 11,
    "start_time": "2023-04-21T21:37:29.092Z"
   },
   {
    "duration": 9,
    "start_time": "2023-04-21T21:37:29.105Z"
   },
   {
    "duration": 19,
    "start_time": "2023-04-21T21:37:29.115Z"
   },
   {
    "duration": 29,
    "start_time": "2023-04-21T21:37:29.136Z"
   },
   {
    "duration": 26,
    "start_time": "2023-04-21T21:37:29.167Z"
   },
   {
    "duration": 29,
    "start_time": "2023-04-21T21:37:29.195Z"
   },
   {
    "duration": 19,
    "start_time": "2023-04-21T21:37:29.226Z"
   },
   {
    "duration": 8,
    "start_time": "2023-04-21T21:37:29.248Z"
   },
   {
    "duration": 12,
    "start_time": "2023-04-21T21:37:29.258Z"
   },
   {
    "duration": 25,
    "start_time": "2023-04-21T21:37:29.271Z"
   },
   {
    "duration": 12,
    "start_time": "2023-04-21T21:37:29.298Z"
   },
   {
    "duration": 16,
    "start_time": "2023-04-21T21:37:29.312Z"
   },
   {
    "duration": 19,
    "start_time": "2023-04-21T21:37:29.330Z"
   },
   {
    "duration": 6,
    "start_time": "2023-04-21T21:37:29.351Z"
   },
   {
    "duration": 8,
    "start_time": "2023-04-21T21:38:16.579Z"
   },
   {
    "duration": 10,
    "start_time": "2023-04-21T21:39:34.184Z"
   },
   {
    "duration": 9,
    "start_time": "2023-04-21T21:39:41.081Z"
   },
   {
    "duration": 46,
    "start_time": "2023-04-21T21:45:40.953Z"
   },
   {
    "duration": 18,
    "start_time": "2023-04-21T21:48:22.895Z"
   },
   {
    "duration": 3,
    "start_time": "2023-04-21T21:52:09.187Z"
   },
   {
    "duration": 3,
    "start_time": "2023-04-21T21:52:57.836Z"
   },
   {
    "duration": 10,
    "start_time": "2023-04-21T21:59:22.414Z"
   },
   {
    "duration": 15,
    "start_time": "2023-04-21T22:00:56.553Z"
   },
   {
    "duration": 2645,
    "start_time": "2023-04-21T22:04:05.584Z"
   },
   {
    "duration": 2739,
    "start_time": "2023-04-21T22:04:36.692Z"
   },
   {
    "duration": 2635,
    "start_time": "2023-04-21T22:04:57.641Z"
   },
   {
    "duration": 2753,
    "start_time": "2023-04-21T22:05:37.610Z"
   },
   {
    "duration": 2768,
    "start_time": "2023-04-21T22:06:16.684Z"
   },
   {
    "duration": 195,
    "start_time": "2023-04-21T22:07:28.851Z"
   },
   {
    "duration": 2758,
    "start_time": "2023-04-21T22:14:46.168Z"
   },
   {
    "duration": 324,
    "start_time": "2023-04-21T22:17:09.143Z"
   },
   {
    "duration": 169,
    "start_time": "2023-04-21T22:17:29.196Z"
   },
   {
    "duration": 167,
    "start_time": "2023-04-21T22:18:17.047Z"
   },
   {
    "duration": 171,
    "start_time": "2023-04-21T22:26:37.611Z"
   },
   {
    "duration": 174,
    "start_time": "2023-04-21T22:26:43.563Z"
   },
   {
    "duration": 159,
    "start_time": "2023-04-21T22:28:16.736Z"
   },
   {
    "duration": 775,
    "start_time": "2023-04-21T22:29:41.500Z"
   },
   {
    "duration": 731,
    "start_time": "2023-04-21T22:29:57.744Z"
   },
   {
    "duration": 808,
    "start_time": "2023-04-21T22:30:21.309Z"
   },
   {
    "duration": 6,
    "start_time": "2023-04-21T22:31:21.291Z"
   },
   {
    "duration": 17,
    "start_time": "2023-04-21T22:32:07.378Z"
   },
   {
    "duration": 129,
    "start_time": "2023-04-21T22:32:37.846Z"
   },
   {
    "duration": 121,
    "start_time": "2023-04-21T22:33:23.746Z"
   },
   {
    "duration": 9,
    "start_time": "2023-04-21T22:35:56.098Z"
   },
   {
    "duration": 3,
    "start_time": "2023-04-21T22:37:49.806Z"
   },
   {
    "duration": 12,
    "start_time": "2023-04-21T22:38:03.442Z"
   },
   {
    "duration": 9,
    "start_time": "2023-04-21T22:38:09.274Z"
   },
   {
    "duration": 12,
    "start_time": "2023-04-21T22:38:47.962Z"
   },
   {
    "duration": 129,
    "start_time": "2023-04-21T22:38:53.640Z"
   },
   {
    "duration": 5,
    "start_time": "2023-04-21T22:39:54.761Z"
   },
   {
    "duration": 10,
    "start_time": "2023-04-21T22:44:34.534Z"
   },
   {
    "duration": 13,
    "start_time": "2023-04-21T22:45:07.924Z"
   },
   {
    "duration": 142,
    "start_time": "2023-04-21T22:45:13.493Z"
   },
   {
    "duration": 134,
    "start_time": "2023-04-21T22:45:33.622Z"
   },
   {
    "duration": 124,
    "start_time": "2023-04-21T22:50:06.253Z"
   },
   {
    "duration": 251,
    "start_time": "2023-04-21T22:50:15.158Z"
   },
   {
    "duration": 6,
    "start_time": "2023-04-21T22:50:48.124Z"
   },
   {
    "duration": 163,
    "start_time": "2023-04-21T22:51:30.046Z"
   },
   {
    "duration": 141,
    "start_time": "2023-04-21T22:51:38.437Z"
   },
   {
    "duration": 134,
    "start_time": "2023-04-21T22:52:10.486Z"
   },
   {
    "duration": 433,
    "start_time": "2023-04-21T22:52:22.190Z"
   },
   {
    "duration": 155,
    "start_time": "2023-04-21T22:52:28.579Z"
   },
   {
    "duration": 168,
    "start_time": "2023-04-21T22:53:29.168Z"
   },
   {
    "duration": 170,
    "start_time": "2023-04-21T22:53:31.035Z"
   },
   {
    "duration": 170,
    "start_time": "2023-04-21T22:54:01.199Z"
   },
   {
    "duration": 180,
    "start_time": "2023-04-21T22:54:03.334Z"
   },
   {
    "duration": 69,
    "start_time": "2023-04-21T23:01:32.618Z"
   },
   {
    "duration": 167,
    "start_time": "2023-04-21T23:23:14.033Z"
   },
   {
    "duration": 166,
    "start_time": "2023-04-21T23:23:17.622Z"
   },
   {
    "duration": 176,
    "start_time": "2023-04-21T23:23:29.738Z"
   },
   {
    "duration": 228,
    "start_time": "2023-04-21T23:23:52.489Z"
   },
   {
    "duration": 294,
    "start_time": "2023-04-21T23:24:03.792Z"
   },
   {
    "duration": 149,
    "start_time": "2023-04-21T23:24:10.687Z"
   },
   {
    "duration": 180,
    "start_time": "2023-04-21T23:24:20.457Z"
   },
   {
    "duration": 208,
    "start_time": "2023-04-21T23:24:26.626Z"
   },
   {
    "duration": 243,
    "start_time": "2023-04-21T23:24:58.458Z"
   },
   {
    "duration": 234,
    "start_time": "2023-04-21T23:28:24.015Z"
   },
   {
    "duration": 361,
    "start_time": "2023-04-21T23:28:33.215Z"
   },
   {
    "duration": 228,
    "start_time": "2023-04-21T23:28:47.872Z"
   },
   {
    "duration": 236,
    "start_time": "2023-04-21T23:28:54.084Z"
   },
   {
    "duration": 248,
    "start_time": "2023-04-21T23:29:04.766Z"
   },
   {
    "duration": 248,
    "start_time": "2023-04-21T23:29:22.509Z"
   },
   {
    "duration": 250,
    "start_time": "2023-04-21T23:29:30.583Z"
   },
   {
    "duration": 344,
    "start_time": "2023-04-21T23:29:44.680Z"
   },
   {
    "duration": 249,
    "start_time": "2023-04-21T23:32:03.685Z"
   },
   {
    "duration": 72,
    "start_time": "2023-04-21T23:33:38.227Z"
   },
   {
    "duration": 10,
    "start_time": "2023-04-21T23:34:12.796Z"
   },
   {
    "duration": 68,
    "start_time": "2023-04-23T18:18:49.699Z"
   },
   {
    "duration": 1256,
    "start_time": "2023-04-23T18:18:58.192Z"
   },
   {
    "duration": 192,
    "start_time": "2023-04-23T18:18:59.451Z"
   },
   {
    "duration": 14,
    "start_time": "2023-04-23T18:18:59.645Z"
   },
   {
    "duration": 12,
    "start_time": "2023-04-23T18:18:59.660Z"
   },
   {
    "duration": 10,
    "start_time": "2023-04-23T18:18:59.673Z"
   },
   {
    "duration": 12,
    "start_time": "2023-04-23T18:18:59.684Z"
   },
   {
    "duration": 8,
    "start_time": "2023-04-23T18:18:59.697Z"
   },
   {
    "duration": 14,
    "start_time": "2023-04-23T18:18:59.707Z"
   },
   {
    "duration": 11,
    "start_time": "2023-04-23T18:18:59.723Z"
   },
   {
    "duration": 16,
    "start_time": "2023-04-23T18:18:59.736Z"
   },
   {
    "duration": 30,
    "start_time": "2023-04-23T18:18:59.753Z"
   },
   {
    "duration": 17,
    "start_time": "2023-04-23T18:18:59.785Z"
   },
   {
    "duration": 20,
    "start_time": "2023-04-23T18:18:59.803Z"
   },
   {
    "duration": 26,
    "start_time": "2023-04-23T18:18:59.826Z"
   },
   {
    "duration": 9,
    "start_time": "2023-04-23T18:18:59.854Z"
   },
   {
    "duration": 13,
    "start_time": "2023-04-23T18:18:59.865Z"
   },
   {
    "duration": 5,
    "start_time": "2023-04-23T18:18:59.880Z"
   },
   {
    "duration": 13,
    "start_time": "2023-04-23T18:18:59.887Z"
   },
   {
    "duration": 7,
    "start_time": "2023-04-23T18:18:59.901Z"
   },
   {
    "duration": 20,
    "start_time": "2023-04-23T18:18:59.910Z"
   },
   {
    "duration": 169,
    "start_time": "2023-04-23T18:18:59.932Z"
   },
   {
    "duration": 6,
    "start_time": "2023-04-23T18:19:00.103Z"
   },
   {
    "duration": 21,
    "start_time": "2023-04-23T18:19:00.110Z"
   },
   {
    "duration": 155,
    "start_time": "2023-04-23T18:19:00.133Z"
   },
   {
    "duration": 184,
    "start_time": "2023-04-23T18:19:00.290Z"
   },
   {
    "duration": 268,
    "start_time": "2023-04-23T18:19:00.483Z"
   },
   {
    "duration": 327,
    "start_time": "2023-04-23T18:19:00.753Z"
   },
   {
    "duration": 192,
    "start_time": "2023-04-23T18:19:01.083Z"
   },
   {
    "duration": 200,
    "start_time": "2023-04-23T18:19:01.283Z"
   },
   {
    "duration": 263,
    "start_time": "2023-04-23T18:21:14.027Z"
   },
   {
    "duration": 213,
    "start_time": "2023-04-23T18:21:14.293Z"
   },
   {
    "duration": 1353,
    "start_time": "2023-04-23T18:36:16.017Z"
   },
   {
    "duration": 3,
    "start_time": "2023-04-23T21:12:51.152Z"
   },
   {
    "duration": 83,
    "start_time": "2023-04-23T21:12:51.163Z"
   },
   {
    "duration": 14,
    "start_time": "2023-04-23T21:12:51.249Z"
   },
   {
    "duration": 45,
    "start_time": "2023-04-23T21:12:51.265Z"
   },
   {
    "duration": 23,
    "start_time": "2023-04-23T21:12:51.313Z"
   },
   {
    "duration": 29,
    "start_time": "2023-04-23T21:12:51.338Z"
   },
   {
    "duration": 15,
    "start_time": "2023-04-23T21:12:51.369Z"
   },
   {
    "duration": 23,
    "start_time": "2023-04-23T21:12:51.386Z"
   },
   {
    "duration": 23,
    "start_time": "2023-04-23T21:12:51.411Z"
   },
   {
    "duration": 30,
    "start_time": "2023-04-23T21:12:51.436Z"
   },
   {
    "duration": 8,
    "start_time": "2023-04-23T21:12:51.469Z"
   },
   {
    "duration": 17,
    "start_time": "2023-04-23T21:12:51.479Z"
   },
   {
    "duration": 7,
    "start_time": "2023-04-23T21:12:51.498Z"
   },
   {
    "duration": 9,
    "start_time": "2023-04-23T21:12:51.506Z"
   },
   {
    "duration": 16,
    "start_time": "2023-04-23T21:12:51.516Z"
   },
   {
    "duration": 15,
    "start_time": "2023-04-23T21:12:51.534Z"
   },
   {
    "duration": 31,
    "start_time": "2023-04-23T21:12:51.551Z"
   },
   {
    "duration": 12,
    "start_time": "2023-04-23T21:12:51.584Z"
   },
   {
    "duration": 15,
    "start_time": "2023-04-23T21:12:51.597Z"
   },
   {
    "duration": 10,
    "start_time": "2023-04-23T21:12:51.614Z"
   },
   {
    "duration": 155,
    "start_time": "2023-04-23T21:12:51.625Z"
   },
   {
    "duration": 6,
    "start_time": "2023-04-23T21:12:51.783Z"
   },
   {
    "duration": 16,
    "start_time": "2023-04-23T21:12:51.790Z"
   },
   {
    "duration": 154,
    "start_time": "2023-04-23T21:12:51.809Z"
   },
   {
    "duration": 195,
    "start_time": "2023-04-23T21:12:51.964Z"
   },
   {
    "duration": 295,
    "start_time": "2023-04-23T21:12:52.160Z"
   },
   {
    "duration": 282,
    "start_time": "2023-04-23T21:12:52.456Z"
   },
   {
    "duration": 200,
    "start_time": "2023-04-23T21:12:52.740Z"
   },
   {
    "duration": 201,
    "start_time": "2023-04-23T21:12:52.943Z"
   },
   {
    "duration": 291,
    "start_time": "2023-04-23T21:14:08.867Z"
   },
   {
    "duration": 193,
    "start_time": "2023-04-23T21:14:27.252Z"
   },
   {
    "duration": 198,
    "start_time": "2023-04-23T21:14:51.112Z"
   },
   {
    "duration": 220,
    "start_time": "2023-04-23T21:17:06.726Z"
   },
   {
    "duration": 204,
    "start_time": "2023-04-23T21:17:33.378Z"
   },
   {
    "duration": 188,
    "start_time": "2023-04-23T21:17:34.961Z"
   },
   {
    "duration": 185,
    "start_time": "2023-04-23T21:17:46.485Z"
   },
   {
    "duration": 178,
    "start_time": "2023-04-23T21:17:53.380Z"
   },
   {
    "duration": 3,
    "start_time": "2023-04-23T21:19:32.362Z"
   },
   {
    "duration": 78,
    "start_time": "2023-04-23T21:19:32.367Z"
   },
   {
    "duration": 9,
    "start_time": "2023-04-23T21:19:32.446Z"
   },
   {
    "duration": 36,
    "start_time": "2023-04-23T21:19:32.457Z"
   },
   {
    "duration": 19,
    "start_time": "2023-04-23T21:19:32.494Z"
   },
   {
    "duration": 35,
    "start_time": "2023-04-23T21:19:32.515Z"
   },
   {
    "duration": 10,
    "start_time": "2023-04-23T21:19:32.552Z"
   },
   {
    "duration": 20,
    "start_time": "2023-04-23T21:19:32.563Z"
   },
   {
    "duration": 20,
    "start_time": "2023-04-23T21:19:32.586Z"
   },
   {
    "duration": 18,
    "start_time": "2023-04-23T21:19:32.608Z"
   },
   {
    "duration": 9,
    "start_time": "2023-04-23T21:19:32.627Z"
   },
   {
    "duration": 7,
    "start_time": "2023-04-23T21:19:32.638Z"
   },
   {
    "duration": 8,
    "start_time": "2023-04-23T21:19:32.646Z"
   },
   {
    "duration": 10,
    "start_time": "2023-04-23T21:19:32.655Z"
   },
   {
    "duration": 17,
    "start_time": "2023-04-23T21:19:32.667Z"
   },
   {
    "duration": 9,
    "start_time": "2023-04-23T21:19:32.686Z"
   },
   {
    "duration": 15,
    "start_time": "2023-04-23T21:19:32.697Z"
   },
   {
    "duration": 16,
    "start_time": "2023-04-23T21:19:32.715Z"
   },
   {
    "duration": 4,
    "start_time": "2023-04-23T21:19:32.733Z"
   },
   {
    "duration": 9,
    "start_time": "2023-04-23T21:19:32.739Z"
   },
   {
    "duration": 177,
    "start_time": "2023-04-23T21:19:32.749Z"
   },
   {
    "duration": 6,
    "start_time": "2023-04-23T21:19:32.927Z"
   },
   {
    "duration": 15,
    "start_time": "2023-04-23T21:19:32.935Z"
   },
   {
    "duration": 241,
    "start_time": "2023-04-23T21:19:32.953Z"
   },
   {
    "duration": 165,
    "start_time": "2023-04-23T21:19:33.196Z"
   },
   {
    "duration": 260,
    "start_time": "2023-04-23T21:19:33.363Z"
   },
   {
    "duration": 266,
    "start_time": "2023-04-23T21:19:33.625Z"
   },
   {
    "duration": 203,
    "start_time": "2023-04-23T21:19:33.893Z"
   },
   {
    "duration": 213,
    "start_time": "2023-04-23T21:19:34.097Z"
   },
   {
    "duration": 188,
    "start_time": "2023-04-23T21:19:34.311Z"
   },
   {
    "duration": 189,
    "start_time": "2023-04-23T21:19:34.501Z"
   },
   {
    "duration": 353,
    "start_time": "2023-04-23T21:23:58.800Z"
   },
   {
    "duration": 20,
    "start_time": "2023-04-23T22:04:44.204Z"
   },
   {
    "duration": 17,
    "start_time": "2023-04-23T22:07:52.776Z"
   },
   {
    "duration": 23,
    "start_time": "2023-04-23T22:08:10.012Z"
   },
   {
    "duration": 25,
    "start_time": "2023-04-23T22:08:15.959Z"
   },
   {
    "duration": 27,
    "start_time": "2023-04-23T22:08:51.618Z"
   },
   {
    "duration": 30,
    "start_time": "2023-04-23T22:09:16.811Z"
   },
   {
    "duration": 23,
    "start_time": "2023-04-23T22:10:28.329Z"
   },
   {
    "duration": 36,
    "start_time": "2023-04-23T22:10:44.149Z"
   },
   {
    "duration": 27,
    "start_time": "2023-04-23T22:11:08.891Z"
   },
   {
    "duration": 20,
    "start_time": "2023-04-23T22:11:16.168Z"
   },
   {
    "duration": 1270,
    "start_time": "2023-04-23T22:13:21.539Z"
   },
   {
    "duration": 81,
    "start_time": "2023-04-23T22:14:04.275Z"
   },
   {
    "duration": 1366,
    "start_time": "2023-04-23T22:17:57.930Z"
   },
   {
    "duration": 1318,
    "start_time": "2023-04-23T22:21:34.551Z"
   },
   {
    "duration": 1152,
    "start_time": "2023-04-23T22:21:43.539Z"
   },
   {
    "duration": 18,
    "start_time": "2023-04-23T22:24:42.478Z"
   },
   {
    "duration": 1134,
    "start_time": "2023-04-23T22:29:47.293Z"
   },
   {
    "duration": 80,
    "start_time": "2023-04-23T22:31:31.535Z"
   },
   {
    "duration": 1209,
    "start_time": "2023-04-23T22:32:51.293Z"
   },
   {
    "duration": 1202,
    "start_time": "2023-04-23T22:33:03.455Z"
   },
   {
    "duration": 9,
    "start_time": "2023-04-23T22:37:05.111Z"
   },
   {
    "duration": 26,
    "start_time": "2023-04-23T22:37:13.991Z"
   },
   {
    "duration": 9,
    "start_time": "2023-04-23T22:37:22.088Z"
   },
   {
    "duration": 5,
    "start_time": "2023-04-23T22:38:48.688Z"
   },
   {
    "duration": 8,
    "start_time": "2023-04-23T22:38:51.686Z"
   },
   {
    "duration": 26,
    "start_time": "2023-04-23T22:39:01.142Z"
   },
   {
    "duration": 1251,
    "start_time": "2023-04-23T22:39:14.352Z"
   },
   {
    "duration": 1249,
    "start_time": "2023-04-23T22:39:19.289Z"
   },
   {
    "duration": 7,
    "start_time": "2023-04-23T22:41:12.568Z"
   },
   {
    "duration": 8,
    "start_time": "2023-04-23T22:41:25.269Z"
   },
   {
    "duration": 8,
    "start_time": "2023-04-23T22:41:25.896Z"
   },
   {
    "duration": 9,
    "start_time": "2023-04-23T22:41:36.661Z"
   },
   {
    "duration": 21,
    "start_time": "2023-04-23T22:41:51.232Z"
   },
   {
    "duration": 10,
    "start_time": "2023-04-23T22:42:17.321Z"
   },
   {
    "duration": 8,
    "start_time": "2023-04-23T22:42:52.825Z"
   },
   {
    "duration": 200,
    "start_time": "2023-04-23T22:43:20.564Z"
   },
   {
    "duration": 206,
    "start_time": "2023-04-23T22:43:30.213Z"
   },
   {
    "duration": 177,
    "start_time": "2023-04-23T22:44:17.529Z"
   },
   {
    "duration": 197,
    "start_time": "2023-04-23T22:44:30.138Z"
   },
   {
    "duration": 9,
    "start_time": "2023-04-23T22:44:50.511Z"
   },
   {
    "duration": 7,
    "start_time": "2023-04-23T22:44:50.951Z"
   },
   {
    "duration": 370,
    "start_time": "2023-04-23T22:46:15.317Z"
   },
   {
    "duration": 393,
    "start_time": "2023-04-23T22:46:31.641Z"
   },
   {
    "duration": 499,
    "start_time": "2023-04-23T22:47:36.308Z"
   },
   {
    "duration": 416,
    "start_time": "2023-04-23T22:47:59.007Z"
   },
   {
    "duration": 416,
    "start_time": "2023-04-23T22:56:36.539Z"
   },
   {
    "duration": 415,
    "start_time": "2023-04-23T22:56:58.746Z"
   },
   {
    "duration": 511,
    "start_time": "2023-04-23T22:57:36.966Z"
   },
   {
    "duration": 435,
    "start_time": "2023-04-23T22:58:01.240Z"
   },
   {
    "duration": 416,
    "start_time": "2023-04-23T22:58:15.521Z"
   },
   {
    "duration": 105,
    "start_time": "2023-04-23T23:19:27.302Z"
   },
   {
    "duration": 10,
    "start_time": "2023-04-23T23:19:38.092Z"
   },
   {
    "duration": 13,
    "start_time": "2023-04-23T23:21:07.397Z"
   },
   {
    "duration": 11,
    "start_time": "2023-04-23T23:26:02.522Z"
   },
   {
    "duration": 12,
    "start_time": "2023-04-23T23:26:15.543Z"
   },
   {
    "duration": 3630,
    "start_time": "2023-04-23T23:26:29.409Z"
   },
   {
    "duration": 4,
    "start_time": "2023-04-23T23:27:10.894Z"
   },
   {
    "duration": 2,
    "start_time": "2023-04-23T23:28:48.649Z"
   },
   {
    "duration": 3344,
    "start_time": "2023-04-23T23:29:04.671Z"
   },
   {
    "duration": 3,
    "start_time": "2023-04-23T23:30:50.067Z"
   },
   {
    "duration": 282,
    "start_time": "2023-04-23T23:38:51.684Z"
   },
   {
    "duration": 2,
    "start_time": "2023-04-23T23:39:14.885Z"
   },
   {
    "duration": 10,
    "start_time": "2023-04-23T23:39:19.682Z"
   },
   {
    "duration": 10,
    "start_time": "2023-04-23T23:42:15.674Z"
   },
   {
    "duration": 9,
    "start_time": "2023-04-23T23:46:29.079Z"
   },
   {
    "duration": 13188,
    "start_time": "2023-04-23T23:46:43.969Z"
   },
   {
    "duration": 3,
    "start_time": "2023-04-23T23:47:06.991Z"
   },
   {
    "duration": 3,
    "start_time": "2023-04-23T23:47:51.554Z"
   },
   {
    "duration": 13798,
    "start_time": "2023-04-23T23:47:52.047Z"
   },
   {
    "duration": 22275,
    "start_time": "2023-04-23T23:50:01.975Z"
   },
   {
    "duration": 14,
    "start_time": "2023-04-23T23:50:39.210Z"
   },
   {
    "duration": 16,
    "start_time": "2023-04-23T23:50:53.876Z"
   },
   {
    "duration": 54,
    "start_time": "2023-04-24T19:47:13.529Z"
   },
   {
    "duration": 7,
    "start_time": "2023-04-24T20:23:59.785Z"
   },
   {
    "duration": 1372,
    "start_time": "2023-04-24T20:24:12.266Z"
   },
   {
    "duration": 375,
    "start_time": "2023-04-24T20:24:13.641Z"
   },
   {
    "duration": 19,
    "start_time": "2023-04-24T20:24:14.018Z"
   },
   {
    "duration": 15,
    "start_time": "2023-04-24T20:24:14.040Z"
   },
   {
    "duration": 23,
    "start_time": "2023-04-24T20:24:14.057Z"
   },
   {
    "duration": 27,
    "start_time": "2023-04-24T20:24:14.082Z"
   },
   {
    "duration": 11,
    "start_time": "2023-04-24T20:24:14.112Z"
   },
   {
    "duration": 13,
    "start_time": "2023-04-24T20:24:14.125Z"
   },
   {
    "duration": 14,
    "start_time": "2023-04-24T20:24:14.140Z"
   },
   {
    "duration": 26,
    "start_time": "2023-04-24T20:24:14.160Z"
   },
   {
    "duration": 12,
    "start_time": "2023-04-24T20:24:14.189Z"
   },
   {
    "duration": 11,
    "start_time": "2023-04-24T20:24:14.204Z"
   },
   {
    "duration": 11,
    "start_time": "2023-04-24T20:24:14.217Z"
   },
   {
    "duration": 23,
    "start_time": "2023-04-24T20:24:14.230Z"
   },
   {
    "duration": 8,
    "start_time": "2023-04-24T20:24:14.256Z"
   },
   {
    "duration": 13,
    "start_time": "2023-04-24T20:24:14.285Z"
   },
   {
    "duration": 6,
    "start_time": "2023-04-24T20:24:14.301Z"
   },
   {
    "duration": 29,
    "start_time": "2023-04-24T20:24:14.309Z"
   },
   {
    "duration": 7,
    "start_time": "2023-04-24T20:24:14.340Z"
   },
   {
    "duration": 18,
    "start_time": "2023-04-24T20:24:14.348Z"
   },
   {
    "duration": 202,
    "start_time": "2023-04-24T20:24:14.368Z"
   },
   {
    "duration": 7,
    "start_time": "2023-04-24T20:24:14.572Z"
   },
   {
    "duration": 6,
    "start_time": "2023-04-24T20:24:14.586Z"
   },
   {
    "duration": 149,
    "start_time": "2023-04-24T20:24:14.594Z"
   },
   {
    "duration": 195,
    "start_time": "2023-04-24T20:24:14.745Z"
   },
   {
    "duration": 278,
    "start_time": "2023-04-24T20:24:14.942Z"
   },
   {
    "duration": 277,
    "start_time": "2023-04-24T20:24:15.222Z"
   },
   {
    "duration": 208,
    "start_time": "2023-04-24T20:24:15.502Z"
   },
   {
    "duration": 228,
    "start_time": "2023-04-24T20:24:15.712Z"
   },
   {
    "duration": 289,
    "start_time": "2023-04-24T20:24:15.941Z"
   },
   {
    "duration": 205,
    "start_time": "2023-04-24T20:24:16.232Z"
   },
   {
    "duration": 195,
    "start_time": "2023-04-24T20:24:16.439Z"
   },
   {
    "duration": 49,
    "start_time": "2023-04-24T20:24:16.636Z"
   },
   {
    "duration": 14,
    "start_time": "2023-04-24T20:24:16.687Z"
   },
   {
    "duration": 8,
    "start_time": "2023-04-24T20:24:16.703Z"
   },
   {
    "duration": 5,
    "start_time": "2023-04-24T20:24:16.713Z"
   },
   {
    "duration": 443,
    "start_time": "2023-04-24T20:24:16.720Z"
   },
   {
    "duration": 436,
    "start_time": "2023-04-24T20:24:17.165Z"
   },
   {
    "duration": 63,
    "start_time": "2023-04-24T20:48:11.223Z"
   },
   {
    "duration": 16,
    "start_time": "2023-04-24T20:49:41.856Z"
   },
   {
    "duration": 17,
    "start_time": "2023-04-24T20:50:08.070Z"
   },
   {
    "duration": 9,
    "start_time": "2023-04-24T20:50:08.706Z"
   },
   {
    "duration": 14,
    "start_time": "2023-04-24T20:50:33.349Z"
   },
   {
    "duration": 9,
    "start_time": "2023-04-24T20:50:35.302Z"
   },
   {
    "duration": 52,
    "start_time": "2023-04-24T20:51:49.873Z"
   },
   {
    "duration": 15,
    "start_time": "2023-04-24T20:51:58.383Z"
   },
   {
    "duration": 10,
    "start_time": "2023-04-24T20:52:04.739Z"
   },
   {
    "duration": 21,
    "start_time": "2023-04-24T20:52:33.448Z"
   },
   {
    "duration": 14,
    "start_time": "2023-04-24T20:52:34.065Z"
   },
   {
    "duration": 23,
    "start_time": "2023-04-24T20:52:48.362Z"
   },
   {
    "duration": 22,
    "start_time": "2023-04-24T20:52:56.698Z"
   },
   {
    "duration": 11,
    "start_time": "2023-04-24T20:52:58.695Z"
   },
   {
    "duration": 733,
    "start_time": "2023-04-24T21:07:06.716Z"
   },
   {
    "duration": 2,
    "start_time": "2023-04-24T21:07:34.418Z"
   },
   {
    "duration": 761,
    "start_time": "2023-04-24T21:07:43.814Z"
   },
   {
    "duration": 55,
    "start_time": "2023-04-24T21:12:01.306Z"
   },
   {
    "duration": 1191,
    "start_time": "2023-04-24T21:12:06.874Z"
   },
   {
    "duration": 340,
    "start_time": "2023-04-24T21:12:08.067Z"
   },
   {
    "duration": 14,
    "start_time": "2023-04-24T21:12:08.409Z"
   },
   {
    "duration": 14,
    "start_time": "2023-04-24T21:12:08.425Z"
   },
   {
    "duration": 18,
    "start_time": "2023-04-24T21:12:08.441Z"
   },
   {
    "duration": 13,
    "start_time": "2023-04-24T21:12:08.461Z"
   },
   {
    "duration": 13,
    "start_time": "2023-04-24T21:12:08.476Z"
   },
   {
    "duration": 16,
    "start_time": "2023-04-24T21:12:08.490Z"
   },
   {
    "duration": 31,
    "start_time": "2023-04-24T21:12:08.508Z"
   },
   {
    "duration": 20,
    "start_time": "2023-04-24T21:12:08.542Z"
   },
   {
    "duration": 8,
    "start_time": "2023-04-24T21:12:08.563Z"
   },
   {
    "duration": 7,
    "start_time": "2023-04-24T21:12:08.572Z"
   },
   {
    "duration": 11,
    "start_time": "2023-04-24T21:12:08.581Z"
   },
   {
    "duration": 15,
    "start_time": "2023-04-24T21:12:08.594Z"
   },
   {
    "duration": 7,
    "start_time": "2023-04-24T21:12:08.612Z"
   },
   {
    "duration": 24,
    "start_time": "2023-04-24T21:12:08.621Z"
   },
   {
    "duration": 8,
    "start_time": "2023-04-24T21:12:08.646Z"
   },
   {
    "duration": 19,
    "start_time": "2023-04-24T21:12:08.655Z"
   },
   {
    "duration": 36,
    "start_time": "2023-04-24T21:12:08.676Z"
   },
   {
    "duration": 21,
    "start_time": "2023-04-24T21:12:08.714Z"
   },
   {
    "duration": 174,
    "start_time": "2023-04-24T21:12:08.737Z"
   },
   {
    "duration": 5,
    "start_time": "2023-04-24T21:12:08.913Z"
   },
   {
    "duration": 22,
    "start_time": "2023-04-24T21:12:08.920Z"
   },
   {
    "duration": 148,
    "start_time": "2023-04-24T21:12:08.944Z"
   },
   {
    "duration": 179,
    "start_time": "2023-04-24T21:12:09.094Z"
   },
   {
    "duration": 267,
    "start_time": "2023-04-24T21:12:09.275Z"
   },
   {
    "duration": 279,
    "start_time": "2023-04-24T21:12:09.544Z"
   },
   {
    "duration": 212,
    "start_time": "2023-04-24T21:12:09.826Z"
   },
   {
    "duration": 214,
    "start_time": "2023-04-24T21:12:10.040Z"
   },
   {
    "duration": 275,
    "start_time": "2023-04-24T21:12:10.256Z"
   },
   {
    "duration": 225,
    "start_time": "2023-04-24T21:12:10.533Z"
   },
   {
    "duration": 186,
    "start_time": "2023-04-24T21:12:10.760Z"
   },
   {
    "duration": 38,
    "start_time": "2023-04-24T21:12:10.947Z"
   },
   {
    "duration": 14,
    "start_time": "2023-04-24T21:12:10.987Z"
   },
   {
    "duration": 7,
    "start_time": "2023-04-24T21:12:11.003Z"
   },
   {
    "duration": 5,
    "start_time": "2023-04-24T21:12:11.012Z"
   },
   {
    "duration": 419,
    "start_time": "2023-04-24T21:12:11.018Z"
   },
   {
    "duration": 414,
    "start_time": "2023-04-24T21:12:11.438Z"
   },
   {
    "duration": 32,
    "start_time": "2023-04-24T21:12:11.853Z"
   },
   {
    "duration": 12,
    "start_time": "2023-04-24T21:12:11.887Z"
   },
   {
    "duration": 10,
    "start_time": "2023-04-24T21:12:16.581Z"
   },
   {
    "duration": 759,
    "start_time": "2023-04-24T21:12:52.954Z"
   },
   {
    "duration": 8,
    "start_time": "2023-04-24T21:13:07.218Z"
   },
   {
    "duration": 20,
    "start_time": "2023-04-24T21:14:09.376Z"
   },
   {
    "duration": 10,
    "start_time": "2023-04-24T21:14:30.123Z"
   },
   {
    "duration": 7,
    "start_time": "2023-04-24T21:14:37.423Z"
   },
   {
    "duration": 11,
    "start_time": "2023-04-24T21:17:24.920Z"
   },
   {
    "duration": 8,
    "start_time": "2023-04-24T21:17:41.719Z"
   },
   {
    "duration": 26,
    "start_time": "2023-04-24T21:17:54.124Z"
   },
   {
    "duration": 11,
    "start_time": "2023-04-24T21:17:55.454Z"
   },
   {
    "duration": 2,
    "start_time": "2023-04-24T21:18:54.598Z"
   },
   {
    "duration": 740,
    "start_time": "2023-04-24T21:19:01.852Z"
   },
   {
    "duration": 8,
    "start_time": "2023-04-24T21:19:09.363Z"
   },
   {
    "duration": 546,
    "start_time": "2023-04-24T21:19:16.240Z"
   },
   {
    "duration": 9,
    "start_time": "2023-04-24T21:19:24.377Z"
   },
   {
    "duration": 19,
    "start_time": "2023-04-24T21:19:39.600Z"
   },
   {
    "duration": 11,
    "start_time": "2023-04-24T21:41:27.903Z"
   },
   {
    "duration": 12,
    "start_time": "2023-04-24T21:41:38.222Z"
   },
   {
    "duration": 7,
    "start_time": "2023-04-24T21:41:56.735Z"
   },
   {
    "duration": 712,
    "start_time": "2023-04-24T21:42:06.841Z"
   },
   {
    "duration": 7,
    "start_time": "2023-04-24T21:42:16.400Z"
   },
   {
    "duration": 8,
    "start_time": "2023-04-24T21:42:21.798Z"
   },
   {
    "duration": 7,
    "start_time": "2023-04-24T21:42:36.485Z"
   },
   {
    "duration": 2,
    "start_time": "2023-04-24T21:42:51.252Z"
   },
   {
    "duration": 3,
    "start_time": "2023-04-24T21:42:51.301Z"
   },
   {
    "duration": 8,
    "start_time": "2023-04-24T21:42:52.733Z"
   },
   {
    "duration": 3,
    "start_time": "2023-04-24T21:42:56.339Z"
   },
   {
    "duration": 81,
    "start_time": "2023-04-24T21:42:56.344Z"
   },
   {
    "duration": 10,
    "start_time": "2023-04-24T21:42:56.427Z"
   },
   {
    "duration": 12,
    "start_time": "2023-04-24T21:42:56.439Z"
   },
   {
    "duration": 10,
    "start_time": "2023-04-24T21:42:56.454Z"
   },
   {
    "duration": 20,
    "start_time": "2023-04-24T21:42:56.466Z"
   },
   {
    "duration": 8,
    "start_time": "2023-04-24T21:42:56.488Z"
   },
   {
    "duration": 12,
    "start_time": "2023-04-24T21:42:56.498Z"
   },
   {
    "duration": 10,
    "start_time": "2023-04-24T21:42:56.511Z"
   },
   {
    "duration": 20,
    "start_time": "2023-04-24T21:42:56.523Z"
   },
   {
    "duration": 40,
    "start_time": "2023-04-24T21:42:56.547Z"
   },
   {
    "duration": 6,
    "start_time": "2023-04-24T21:42:56.589Z"
   },
   {
    "duration": 6,
    "start_time": "2023-04-24T21:42:56.597Z"
   },
   {
    "duration": 11,
    "start_time": "2023-04-24T21:42:56.604Z"
   },
   {
    "duration": 18,
    "start_time": "2023-04-24T21:42:56.616Z"
   },
   {
    "duration": 12,
    "start_time": "2023-04-24T21:42:56.636Z"
   },
   {
    "duration": 5,
    "start_time": "2023-04-24T21:42:56.650Z"
   },
   {
    "duration": 12,
    "start_time": "2023-04-24T21:42:56.685Z"
   },
   {
    "duration": 4,
    "start_time": "2023-04-24T21:42:56.699Z"
   },
   {
    "duration": 7,
    "start_time": "2023-04-24T21:42:56.705Z"
   },
   {
    "duration": 193,
    "start_time": "2023-04-24T21:42:56.714Z"
   },
   {
    "duration": 6,
    "start_time": "2023-04-24T21:42:56.909Z"
   },
   {
    "duration": 5,
    "start_time": "2023-04-24T21:42:56.917Z"
   },
   {
    "duration": 253,
    "start_time": "2023-04-24T21:42:56.924Z"
   },
   {
    "duration": 188,
    "start_time": "2023-04-24T21:42:57.180Z"
   },
   {
    "duration": 278,
    "start_time": "2023-04-24T21:42:57.370Z"
   },
   {
    "duration": 271,
    "start_time": "2023-04-24T21:42:57.650Z"
   },
   {
    "duration": 210,
    "start_time": "2023-04-24T21:42:57.924Z"
   },
   {
    "duration": 262,
    "start_time": "2023-04-24T21:42:58.136Z"
   },
   {
    "duration": 224,
    "start_time": "2023-04-24T21:42:58.401Z"
   },
   {
    "duration": 208,
    "start_time": "2023-04-24T21:42:58.627Z"
   },
   {
    "duration": 274,
    "start_time": "2023-04-24T21:42:58.837Z"
   },
   {
    "duration": 25,
    "start_time": "2023-04-24T21:42:59.112Z"
   },
   {
    "duration": 13,
    "start_time": "2023-04-24T21:42:59.138Z"
   },
   {
    "duration": 18,
    "start_time": "2023-04-24T21:42:59.153Z"
   },
   {
    "duration": 14,
    "start_time": "2023-04-24T21:42:59.172Z"
   },
   {
    "duration": 407,
    "start_time": "2023-04-24T21:42:59.188Z"
   },
   {
    "duration": 403,
    "start_time": "2023-04-24T21:42:59.597Z"
   },
   {
    "duration": 21,
    "start_time": "2023-04-24T21:43:00.002Z"
   },
   {
    "duration": 12,
    "start_time": "2023-04-24T21:43:00.024Z"
   },
   {
    "duration": 775,
    "start_time": "2023-04-24T21:43:00.037Z"
   },
   {
    "duration": 0,
    "start_time": "2023-04-24T21:43:00.815Z"
   },
   {
    "duration": 0,
    "start_time": "2023-04-24T21:43:00.816Z"
   },
   {
    "duration": 0,
    "start_time": "2023-04-24T21:43:00.818Z"
   },
   {
    "duration": 9,
    "start_time": "2023-04-24T21:43:06.166Z"
   },
   {
    "duration": 9,
    "start_time": "2023-04-24T21:43:14.048Z"
   },
   {
    "duration": 8,
    "start_time": "2023-04-24T21:43:14.622Z"
   },
   {
    "duration": 19,
    "start_time": "2023-04-24T21:43:37.570Z"
   },
   {
    "duration": 9,
    "start_time": "2023-04-24T21:44:27.906Z"
   },
   {
    "duration": 104,
    "start_time": "2023-04-24T21:45:15.320Z"
   },
   {
    "duration": 13,
    "start_time": "2023-04-24T21:45:24.302Z"
   },
   {
    "duration": 11,
    "start_time": "2023-04-24T21:46:48.397Z"
   },
   {
    "duration": 740,
    "start_time": "2023-04-24T21:47:03.845Z"
   },
   {
    "duration": 8,
    "start_time": "2023-04-24T21:47:11.509Z"
   },
   {
    "duration": 8,
    "start_time": "2023-04-24T21:47:16.734Z"
   },
   {
    "duration": 3,
    "start_time": "2023-04-24T21:47:47.360Z"
   },
   {
    "duration": 67,
    "start_time": "2023-04-24T21:47:47.365Z"
   },
   {
    "duration": 9,
    "start_time": "2023-04-24T21:47:47.433Z"
   },
   {
    "duration": 11,
    "start_time": "2023-04-24T21:47:47.444Z"
   },
   {
    "duration": 9,
    "start_time": "2023-04-24T21:47:47.457Z"
   },
   {
    "duration": 12,
    "start_time": "2023-04-24T21:47:47.467Z"
   },
   {
    "duration": 7,
    "start_time": "2023-04-24T21:47:47.481Z"
   },
   {
    "duration": 18,
    "start_time": "2023-04-24T21:47:47.490Z"
   },
   {
    "duration": 7,
    "start_time": "2023-04-24T21:47:47.511Z"
   },
   {
    "duration": 17,
    "start_time": "2023-04-24T21:47:47.520Z"
   },
   {
    "duration": 11,
    "start_time": "2023-04-24T21:47:47.539Z"
   },
   {
    "duration": 6,
    "start_time": "2023-04-24T21:47:47.584Z"
   },
   {
    "duration": 5,
    "start_time": "2023-04-24T21:47:47.592Z"
   },
   {
    "duration": 6,
    "start_time": "2023-04-24T21:47:47.599Z"
   },
   {
    "duration": 5,
    "start_time": "2023-04-24T21:47:47.607Z"
   },
   {
    "duration": 7,
    "start_time": "2023-04-24T21:47:47.613Z"
   },
   {
    "duration": 5,
    "start_time": "2023-04-24T21:47:47.621Z"
   },
   {
    "duration": 11,
    "start_time": "2023-04-24T21:47:47.627Z"
   },
   {
    "duration": 5,
    "start_time": "2023-04-24T21:47:47.639Z"
   },
   {
    "duration": 6,
    "start_time": "2023-04-24T21:47:47.685Z"
   },
   {
    "duration": 166,
    "start_time": "2023-04-24T21:47:47.692Z"
   },
   {
    "duration": 5,
    "start_time": "2023-04-24T21:47:47.860Z"
   },
   {
    "duration": 5,
    "start_time": "2023-04-24T21:47:47.866Z"
   },
   {
    "duration": 149,
    "start_time": "2023-04-24T21:47:47.873Z"
   },
   {
    "duration": 175,
    "start_time": "2023-04-24T21:47:48.024Z"
   },
   {
    "duration": 290,
    "start_time": "2023-04-24T21:47:48.201Z"
   },
   {
    "duration": 267,
    "start_time": "2023-04-24T21:47:48.493Z"
   },
   {
    "duration": 200,
    "start_time": "2023-04-24T21:47:48.762Z"
   },
   {
    "duration": 289,
    "start_time": "2023-04-24T21:47:48.964Z"
   },
   {
    "duration": 183,
    "start_time": "2023-04-24T21:47:49.255Z"
   },
   {
    "duration": 223,
    "start_time": "2023-04-24T21:47:49.441Z"
   },
   {
    "duration": 192,
    "start_time": "2023-04-24T21:47:49.666Z"
   },
   {
    "duration": 41,
    "start_time": "2023-04-24T21:47:49.860Z"
   },
   {
    "duration": 15,
    "start_time": "2023-04-24T21:47:49.903Z"
   },
   {
    "duration": 7,
    "start_time": "2023-04-24T21:47:49.919Z"
   },
   {
    "duration": 5,
    "start_time": "2023-04-24T21:47:49.930Z"
   },
   {
    "duration": 428,
    "start_time": "2023-04-24T21:47:49.937Z"
   },
   {
    "duration": 431,
    "start_time": "2023-04-24T21:47:50.366Z"
   },
   {
    "duration": 22,
    "start_time": "2023-04-24T21:47:50.799Z"
   },
   {
    "duration": 11,
    "start_time": "2023-04-24T21:47:50.822Z"
   },
   {
    "duration": 8,
    "start_time": "2023-04-24T21:47:50.835Z"
   },
   {
    "duration": 10,
    "start_time": "2023-04-24T21:47:50.844Z"
   },
   {
    "duration": 33,
    "start_time": "2023-04-24T21:47:50.855Z"
   },
   {
    "duration": 3,
    "start_time": "2023-04-24T21:47:50.890Z"
   },
   {
    "duration": 11,
    "start_time": "2023-04-24T21:48:21.802Z"
   },
   {
    "duration": 48,
    "start_time": "2023-04-24T21:48:44.835Z"
   },
   {
    "duration": 13,
    "start_time": "2023-04-24T21:48:58.359Z"
   },
   {
    "duration": 10,
    "start_time": "2023-04-24T21:48:59.468Z"
   },
   {
    "duration": 20,
    "start_time": "2023-04-24T21:49:08.551Z"
   },
   {
    "duration": 12,
    "start_time": "2023-04-24T21:49:16.002Z"
   },
   {
    "duration": 9,
    "start_time": "2023-04-24T21:50:09.250Z"
   },
   {
    "duration": 12,
    "start_time": "2023-04-24T21:50:09.957Z"
   },
   {
    "duration": 22,
    "start_time": "2023-04-24T21:50:59.812Z"
   },
   {
    "duration": 12,
    "start_time": "2023-04-24T21:51:00.515Z"
   },
   {
    "duration": 23,
    "start_time": "2023-04-24T21:51:59.801Z"
   },
   {
    "duration": 13,
    "start_time": "2023-04-24T21:52:00.466Z"
   },
   {
    "duration": 17,
    "start_time": "2023-04-24T21:52:24.226Z"
   },
   {
    "duration": 32,
    "start_time": "2023-04-24T21:52:28.874Z"
   },
   {
    "duration": 13,
    "start_time": "2023-04-24T21:52:30.179Z"
   },
   {
    "duration": 695,
    "start_time": "2023-04-24T21:52:58.834Z"
   },
   {
    "duration": 32,
    "start_time": "2023-04-24T21:53:56.262Z"
   },
   {
    "duration": 16,
    "start_time": "2023-04-24T21:54:02.628Z"
   },
   {
    "duration": 3,
    "start_time": "2023-04-24T21:54:21.551Z"
   },
   {
    "duration": 718,
    "start_time": "2023-04-24T21:54:33.667Z"
   },
   {
    "duration": 715,
    "start_time": "2023-04-24T21:54:47.803Z"
   },
   {
    "duration": 740,
    "start_time": "2023-04-24T22:01:44.665Z"
   },
   {
    "duration": 7,
    "start_time": "2023-04-24T22:02:07.658Z"
   },
   {
    "duration": 16,
    "start_time": "2023-04-24T22:02:28.763Z"
   },
   {
    "duration": 23,
    "start_time": "2023-04-24T22:03:07.647Z"
   },
   {
    "duration": 11,
    "start_time": "2023-04-24T22:03:13.297Z"
   },
   {
    "duration": 92,
    "start_time": "2023-04-24T22:03:48.198Z"
   },
   {
    "duration": 18,
    "start_time": "2023-04-24T22:03:48.865Z"
   },
   {
    "duration": 9,
    "start_time": "2023-04-24T22:04:45.077Z"
   },
   {
    "duration": 11,
    "start_time": "2023-04-24T22:06:02.460Z"
   },
   {
    "duration": 9,
    "start_time": "2023-04-24T22:06:36.308Z"
   },
   {
    "duration": 8,
    "start_time": "2023-04-24T22:08:21.350Z"
   },
   {
    "duration": 22,
    "start_time": "2023-04-24T22:08:45.132Z"
   },
   {
    "duration": 12,
    "start_time": "2023-04-24T22:08:46.460Z"
   },
   {
    "duration": 6,
    "start_time": "2023-04-24T22:08:54.197Z"
   },
   {
    "duration": 11,
    "start_time": "2023-04-24T22:09:01.906Z"
   },
   {
    "duration": 21,
    "start_time": "2023-04-24T22:09:51.356Z"
   },
   {
    "duration": 12,
    "start_time": "2023-04-24T22:09:52.311Z"
   },
   {
    "duration": 739,
    "start_time": "2023-04-24T22:10:14.187Z"
   },
   {
    "duration": 22,
    "start_time": "2023-04-24T22:10:29.252Z"
   },
   {
    "duration": 11,
    "start_time": "2023-04-24T22:10:29.276Z"
   },
   {
    "duration": 785,
    "start_time": "2023-04-24T22:10:32.567Z"
   },
   {
    "duration": 21,
    "start_time": "2023-04-24T22:10:45.982Z"
   },
   {
    "duration": 11,
    "start_time": "2023-04-24T22:10:46.485Z"
   },
   {
    "duration": 752,
    "start_time": "2023-04-24T22:10:50.885Z"
   },
   {
    "duration": 16,
    "start_time": "2023-04-24T22:10:59.197Z"
   },
   {
    "duration": 40,
    "start_time": "2023-04-24T22:12:53.187Z"
   },
   {
    "duration": 113,
    "start_time": "2023-04-24T22:13:02.706Z"
   },
   {
    "duration": 15,
    "start_time": "2023-04-24T22:13:15.697Z"
   },
   {
    "duration": 52,
    "start_time": "2023-04-24T22:15:06.440Z"
   },
   {
    "duration": 1071,
    "start_time": "2023-04-24T22:15:10.188Z"
   },
   {
    "duration": 327,
    "start_time": "2023-04-24T22:15:11.262Z"
   },
   {
    "duration": 14,
    "start_time": "2023-04-24T22:15:11.591Z"
   },
   {
    "duration": 10,
    "start_time": "2023-04-24T22:15:11.607Z"
   },
   {
    "duration": 9,
    "start_time": "2023-04-24T22:15:11.619Z"
   },
   {
    "duration": 12,
    "start_time": "2023-04-24T22:15:11.629Z"
   },
   {
    "duration": 7,
    "start_time": "2023-04-24T22:15:11.643Z"
   },
   {
    "duration": 37,
    "start_time": "2023-04-24T22:15:11.651Z"
   },
   {
    "duration": 10,
    "start_time": "2023-04-24T22:15:11.689Z"
   },
   {
    "duration": 18,
    "start_time": "2023-04-24T22:15:11.700Z"
   },
   {
    "duration": 8,
    "start_time": "2023-04-24T22:15:11.720Z"
   },
   {
    "duration": 7,
    "start_time": "2023-04-24T22:15:11.730Z"
   },
   {
    "duration": 7,
    "start_time": "2023-04-24T22:15:11.738Z"
   },
   {
    "duration": 6,
    "start_time": "2023-04-24T22:15:11.747Z"
   },
   {
    "duration": 5,
    "start_time": "2023-04-24T22:15:14.764Z"
   },
   {
    "duration": 15,
    "start_time": "2023-04-24T22:15:14.771Z"
   },
   {
    "duration": 5,
    "start_time": "2023-04-24T22:15:14.787Z"
   },
   {
    "duration": 14,
    "start_time": "2023-04-24T22:15:14.793Z"
   },
   {
    "duration": 9,
    "start_time": "2023-04-24T22:15:14.809Z"
   },
   {
    "duration": 20,
    "start_time": "2023-04-24T22:15:14.819Z"
   },
   {
    "duration": 176,
    "start_time": "2023-04-24T22:15:14.840Z"
   },
   {
    "duration": 6,
    "start_time": "2023-04-24T22:15:15.018Z"
   },
   {
    "duration": 32,
    "start_time": "2023-04-24T22:15:15.026Z"
   },
   {
    "duration": 140,
    "start_time": "2023-04-24T22:15:15.060Z"
   },
   {
    "duration": 178,
    "start_time": "2023-04-24T22:15:15.202Z"
   },
   {
    "duration": 281,
    "start_time": "2023-04-24T22:15:15.384Z"
   },
   {
    "duration": 279,
    "start_time": "2023-04-24T22:15:15.666Z"
   },
   {
    "duration": 209,
    "start_time": "2023-04-24T22:15:15.946Z"
   },
   {
    "duration": 221,
    "start_time": "2023-04-24T22:15:16.157Z"
   },
   {
    "duration": 260,
    "start_time": "2023-04-24T22:15:16.380Z"
   },
   {
    "duration": 204,
    "start_time": "2023-04-24T22:15:16.642Z"
   },
   {
    "duration": 188,
    "start_time": "2023-04-24T22:15:16.847Z"
   },
   {
    "duration": 26,
    "start_time": "2023-04-24T22:15:17.037Z"
   },
   {
    "duration": 28,
    "start_time": "2023-04-24T22:15:17.064Z"
   },
   {
    "duration": 11,
    "start_time": "2023-04-24T22:15:17.094Z"
   },
   {
    "duration": 13,
    "start_time": "2023-04-24T22:15:17.107Z"
   },
   {
    "duration": 424,
    "start_time": "2023-04-24T22:15:17.122Z"
   },
   {
    "duration": 459,
    "start_time": "2023-04-24T22:15:17.547Z"
   },
   {
    "duration": 32,
    "start_time": "2023-04-24T22:15:18.008Z"
   },
   {
    "duration": 16,
    "start_time": "2023-04-24T22:15:18.042Z"
   },
   {
    "duration": 72,
    "start_time": "2023-04-24T22:15:20.557Z"
   },
   {
    "duration": 25,
    "start_time": "2023-04-24T22:16:04.265Z"
   },
   {
    "duration": 447,
    "start_time": "2023-04-24T22:16:15.797Z"
   },
   {
    "duration": 14,
    "start_time": "2023-04-24T22:16:31.950Z"
   },
   {
    "duration": 45,
    "start_time": "2023-04-24T22:19:34.177Z"
   },
   {
    "duration": 1179,
    "start_time": "2023-04-24T22:19:37.887Z"
   },
   {
    "duration": 330,
    "start_time": "2023-04-24T22:19:39.067Z"
   },
   {
    "duration": 13,
    "start_time": "2023-04-24T22:19:39.398Z"
   },
   {
    "duration": 36,
    "start_time": "2023-04-24T22:19:39.413Z"
   },
   {
    "duration": 34,
    "start_time": "2023-04-24T22:19:39.451Z"
   },
   {
    "duration": 15,
    "start_time": "2023-04-24T22:19:39.487Z"
   },
   {
    "duration": 7,
    "start_time": "2023-04-24T22:19:39.503Z"
   },
   {
    "duration": 10,
    "start_time": "2023-04-24T22:19:39.512Z"
   },
   {
    "duration": 7,
    "start_time": "2023-04-24T22:19:39.524Z"
   },
   {
    "duration": 14,
    "start_time": "2023-04-24T22:19:39.534Z"
   },
   {
    "duration": 42,
    "start_time": "2023-04-24T22:19:39.549Z"
   },
   {
    "duration": 7,
    "start_time": "2023-04-24T22:19:39.593Z"
   },
   {
    "duration": 8,
    "start_time": "2023-04-24T22:19:39.602Z"
   },
   {
    "duration": 9,
    "start_time": "2023-04-24T22:19:39.611Z"
   },
   {
    "duration": 5,
    "start_time": "2023-04-24T22:19:39.622Z"
   },
   {
    "duration": 8,
    "start_time": "2023-04-24T22:19:39.628Z"
   },
   {
    "duration": 4,
    "start_time": "2023-04-24T22:19:39.638Z"
   },
   {
    "duration": 43,
    "start_time": "2023-04-24T22:19:39.643Z"
   },
   {
    "duration": 7,
    "start_time": "2023-04-24T22:19:39.687Z"
   },
   {
    "duration": 9,
    "start_time": "2023-04-24T22:19:39.695Z"
   },
   {
    "duration": 169,
    "start_time": "2023-04-24T22:19:39.705Z"
   },
   {
    "duration": 12,
    "start_time": "2023-04-24T22:19:39.875Z"
   },
   {
    "duration": 9,
    "start_time": "2023-04-24T22:19:39.888Z"
   },
   {
    "duration": 143,
    "start_time": "2023-04-24T22:19:39.899Z"
   },
   {
    "duration": 175,
    "start_time": "2023-04-24T22:19:40.044Z"
   },
   {
    "duration": 268,
    "start_time": "2023-04-24T22:19:40.221Z"
   },
   {
    "duration": 267,
    "start_time": "2023-04-24T22:19:40.491Z"
   },
   {
    "duration": 205,
    "start_time": "2023-04-24T22:19:40.761Z"
   },
   {
    "duration": 213,
    "start_time": "2023-04-24T22:19:40.968Z"
   },
   {
    "duration": 264,
    "start_time": "2023-04-24T22:19:41.184Z"
   },
   {
    "duration": 202,
    "start_time": "2023-04-24T22:19:41.450Z"
   },
   {
    "duration": 181,
    "start_time": "2023-04-24T22:19:41.654Z"
   },
   {
    "duration": 25,
    "start_time": "2023-04-24T22:19:41.837Z"
   },
   {
    "duration": 26,
    "start_time": "2023-04-24T22:19:41.864Z"
   },
   {
    "duration": 8,
    "start_time": "2023-04-24T22:19:41.892Z"
   },
   {
    "duration": 23,
    "start_time": "2023-04-24T22:19:41.902Z"
   },
   {
    "duration": 398,
    "start_time": "2023-04-24T22:19:41.926Z"
   },
   {
    "duration": 420,
    "start_time": "2023-04-24T22:19:42.326Z"
   },
   {
    "duration": 20,
    "start_time": "2023-04-24T22:19:42.748Z"
   },
   {
    "duration": 21,
    "start_time": "2023-04-24T22:19:42.770Z"
   },
   {
    "duration": 20,
    "start_time": "2023-04-24T22:19:45.968Z"
   },
   {
    "duration": 7,
    "start_time": "2023-04-24T22:26:01.687Z"
   },
   {
    "duration": 8,
    "start_time": "2023-04-24T22:27:22.590Z"
   },
   {
    "duration": 7,
    "start_time": "2023-04-24T22:28:19.069Z"
   },
   {
    "duration": 11,
    "start_time": "2023-04-24T22:28:35.342Z"
   },
   {
    "duration": 10,
    "start_time": "2023-04-24T22:28:52.415Z"
   },
   {
    "duration": 11,
    "start_time": "2023-04-24T22:28:53.623Z"
   },
   {
    "duration": 12,
    "start_time": "2023-04-24T22:29:06.813Z"
   },
   {
    "duration": 22,
    "start_time": "2023-04-24T22:30:06.974Z"
   },
   {
    "duration": 10,
    "start_time": "2023-04-24T22:30:12.814Z"
   },
   {
    "duration": 12,
    "start_time": "2023-04-24T22:30:24.270Z"
   },
   {
    "duration": 94,
    "start_time": "2023-04-24T22:33:07.099Z"
   },
   {
    "duration": 12,
    "start_time": "2023-04-24T22:33:21.301Z"
   },
   {
    "duration": 17,
    "start_time": "2023-04-24T22:34:17.943Z"
   },
   {
    "duration": 19,
    "start_time": "2023-04-24T22:34:53.829Z"
   },
   {
    "duration": 4,
    "start_time": "2023-04-24T22:35:08.169Z"
   },
   {
    "duration": 68,
    "start_time": "2023-04-24T22:35:08.174Z"
   },
   {
    "duration": 9,
    "start_time": "2023-04-24T22:35:08.244Z"
   },
   {
    "duration": 24,
    "start_time": "2023-04-24T22:35:08.256Z"
   },
   {
    "duration": 22,
    "start_time": "2023-04-24T22:35:08.282Z"
   },
   {
    "duration": 37,
    "start_time": "2023-04-24T22:35:08.305Z"
   },
   {
    "duration": 66,
    "start_time": "2023-04-24T22:35:08.343Z"
   },
   {
    "duration": 20,
    "start_time": "2023-04-24T22:35:08.411Z"
   },
   {
    "duration": 10,
    "start_time": "2023-04-24T22:35:08.434Z"
   },
   {
    "duration": 32,
    "start_time": "2023-04-24T22:35:08.446Z"
   },
   {
    "duration": 17,
    "start_time": "2023-04-24T22:35:08.480Z"
   },
   {
    "duration": 15,
    "start_time": "2023-04-24T22:35:08.499Z"
   },
   {
    "duration": 9,
    "start_time": "2023-04-24T22:35:08.516Z"
   },
   {
    "duration": 14,
    "start_time": "2023-04-24T22:35:08.527Z"
   },
   {
    "duration": 8,
    "start_time": "2023-04-24T22:35:08.542Z"
   },
   {
    "duration": 17,
    "start_time": "2023-04-24T22:35:08.552Z"
   },
   {
    "duration": 5,
    "start_time": "2023-04-24T22:35:08.571Z"
   },
   {
    "duration": 16,
    "start_time": "2023-04-24T22:35:08.577Z"
   },
   {
    "duration": 4,
    "start_time": "2023-04-24T22:35:08.594Z"
   },
   {
    "duration": 21,
    "start_time": "2023-04-24T22:35:08.599Z"
   },
   {
    "duration": 156,
    "start_time": "2023-04-24T22:35:08.621Z"
   },
   {
    "duration": 10,
    "start_time": "2023-04-24T22:35:08.779Z"
   },
   {
    "duration": 7,
    "start_time": "2023-04-24T22:35:08.790Z"
   },
   {
    "duration": 136,
    "start_time": "2023-04-24T22:35:08.798Z"
   },
   {
    "duration": 184,
    "start_time": "2023-04-24T22:35:08.936Z"
   },
   {
    "duration": 264,
    "start_time": "2023-04-24T22:35:09.123Z"
   },
   {
    "duration": 274,
    "start_time": "2023-04-24T22:35:09.389Z"
   },
   {
    "duration": 200,
    "start_time": "2023-04-24T22:35:09.665Z"
   },
   {
    "duration": 218,
    "start_time": "2023-04-24T22:35:09.867Z"
   },
   {
    "duration": 184,
    "start_time": "2023-04-24T22:35:10.087Z"
   },
   {
    "duration": 299,
    "start_time": "2023-04-24T22:35:10.274Z"
   },
   {
    "duration": 193,
    "start_time": "2023-04-24T22:35:10.574Z"
   },
   {
    "duration": 36,
    "start_time": "2023-04-24T22:35:10.769Z"
   },
   {
    "duration": 14,
    "start_time": "2023-04-24T22:35:10.807Z"
   },
   {
    "duration": 8,
    "start_time": "2023-04-24T22:35:10.823Z"
   },
   {
    "duration": 6,
    "start_time": "2023-04-24T22:35:10.833Z"
   },
   {
    "duration": 424,
    "start_time": "2023-04-24T22:35:10.841Z"
   },
   {
    "duration": 406,
    "start_time": "2023-04-24T22:35:11.268Z"
   },
   {
    "duration": 26,
    "start_time": "2023-04-24T22:35:11.676Z"
   },
   {
    "duration": 11,
    "start_time": "2023-04-24T22:35:11.704Z"
   },
   {
    "duration": 11,
    "start_time": "2023-04-24T22:35:11.716Z"
   },
   {
    "duration": 16,
    "start_time": "2023-04-24T22:35:11.728Z"
   },
   {
    "duration": 3,
    "start_time": "2023-04-24T22:35:11.745Z"
   },
   {
    "duration": 794,
    "start_time": "2023-04-24T22:36:19.828Z"
   },
   {
    "duration": 23,
    "start_time": "2023-04-24T22:36:33.213Z"
   },
   {
    "duration": 3,
    "start_time": "2023-04-24T22:40:07.843Z"
   },
   {
    "duration": 15,
    "start_time": "2023-04-24T22:40:23.673Z"
   },
   {
    "duration": 15,
    "start_time": "2023-04-24T22:41:04.164Z"
   },
   {
    "duration": 91,
    "start_time": "2023-04-24T22:43:00.896Z"
   },
   {
    "duration": 15,
    "start_time": "2023-04-24T22:43:10.820Z"
   },
   {
    "duration": 21,
    "start_time": "2023-04-24T22:45:36.295Z"
   },
   {
    "duration": 11,
    "start_time": "2023-04-24T22:45:37.042Z"
   },
   {
    "duration": 26,
    "start_time": "2023-04-24T22:47:52.815Z"
   },
   {
    "duration": 12,
    "start_time": "2023-04-24T22:47:53.720Z"
   },
   {
    "duration": 18,
    "start_time": "2023-04-24T22:48:08.296Z"
   },
   {
    "duration": 18,
    "start_time": "2023-04-24T22:48:15.896Z"
   },
   {
    "duration": 11,
    "start_time": "2023-04-24T22:48:21.495Z"
   },
   {
    "duration": 20,
    "start_time": "2023-04-24T22:48:45.219Z"
   },
   {
    "duration": 8,
    "start_time": "2023-04-24T22:48:59.617Z"
   },
   {
    "duration": 700,
    "start_time": "2023-04-24T22:49:11.640Z"
   },
   {
    "duration": 18,
    "start_time": "2023-04-24T22:49:31.640Z"
   },
   {
    "duration": 17,
    "start_time": "2023-04-24T22:49:43.377Z"
   },
   {
    "duration": 18,
    "start_time": "2023-04-24T22:50:08.038Z"
   },
   {
    "duration": 12,
    "start_time": "2023-04-24T22:50:24.582Z"
   },
   {
    "duration": 19,
    "start_time": "2023-04-24T22:50:53.319Z"
   },
   {
    "duration": 11,
    "start_time": "2023-04-24T22:50:53.340Z"
   },
   {
    "duration": 28,
    "start_time": "2023-04-24T22:53:05.424Z"
   },
   {
    "duration": 12,
    "start_time": "2023-04-24T22:53:06.896Z"
   },
   {
    "duration": 781,
    "start_time": "2023-04-24T22:53:50.473Z"
   },
   {
    "duration": 22,
    "start_time": "2023-04-24T22:55:19.270Z"
   },
   {
    "duration": 21,
    "start_time": "2023-04-24T22:58:51.284Z"
   },
   {
    "duration": 72,
    "start_time": "2023-04-24T23:01:59.349Z"
   },
   {
    "duration": 9,
    "start_time": "2023-04-24T23:01:59.422Z"
   },
   {
    "duration": 13,
    "start_time": "2023-04-24T23:01:59.433Z"
   },
   {
    "duration": 15,
    "start_time": "2023-04-24T23:01:59.447Z"
   },
   {
    "duration": 11,
    "start_time": "2023-04-24T23:01:59.463Z"
   },
   {
    "duration": 7,
    "start_time": "2023-04-24T23:01:59.475Z"
   },
   {
    "duration": 10,
    "start_time": "2023-04-24T23:01:59.484Z"
   },
   {
    "duration": 9,
    "start_time": "2023-04-24T23:01:59.495Z"
   },
   {
    "duration": 11,
    "start_time": "2023-04-24T23:01:59.506Z"
   },
   {
    "duration": 7,
    "start_time": "2023-04-24T23:01:59.519Z"
   },
   {
    "duration": 7,
    "start_time": "2023-04-24T23:01:59.527Z"
   },
   {
    "duration": 5,
    "start_time": "2023-04-24T23:01:59.536Z"
   },
   {
    "duration": 7,
    "start_time": "2023-04-24T23:01:59.542Z"
   },
   {
    "duration": 40,
    "start_time": "2023-04-24T23:01:59.550Z"
   },
   {
    "duration": 14,
    "start_time": "2023-04-24T23:01:59.591Z"
   },
   {
    "duration": 4,
    "start_time": "2023-04-24T23:01:59.607Z"
   },
   {
    "duration": 10,
    "start_time": "2023-04-24T23:01:59.612Z"
   },
   {
    "duration": 3,
    "start_time": "2023-04-24T23:01:59.624Z"
   },
   {
    "duration": 7,
    "start_time": "2023-04-24T23:01:59.628Z"
   },
   {
    "duration": 171,
    "start_time": "2023-04-24T23:01:59.636Z"
   },
   {
    "duration": 5,
    "start_time": "2023-04-24T23:01:59.809Z"
   },
   {
    "duration": 8,
    "start_time": "2023-04-24T23:01:59.816Z"
   },
   {
    "duration": 149,
    "start_time": "2023-04-24T23:01:59.825Z"
   },
   {
    "duration": 263,
    "start_time": "2023-04-24T23:01:59.975Z"
   },
   {
    "duration": 269,
    "start_time": "2023-04-24T23:02:00.240Z"
   },
   {
    "duration": 300,
    "start_time": "2023-04-24T23:02:00.510Z"
   },
   {
    "duration": 208,
    "start_time": "2023-04-24T23:02:00.812Z"
   },
   {
    "duration": 215,
    "start_time": "2023-04-24T23:02:01.022Z"
   },
   {
    "duration": 194,
    "start_time": "2023-04-24T23:02:01.239Z"
   },
   {
    "duration": 206,
    "start_time": "2023-04-24T23:02:01.435Z"
   },
   {
    "duration": 191,
    "start_time": "2023-04-24T23:02:01.642Z"
   },
   {
    "duration": 61,
    "start_time": "2023-04-24T23:02:01.834Z"
   },
   {
    "duration": 13,
    "start_time": "2023-04-24T23:02:01.897Z"
   },
   {
    "duration": 43,
    "start_time": "2023-04-24T23:02:01.912Z"
   },
   {
    "duration": 25,
    "start_time": "2023-04-24T23:02:01.957Z"
   },
   {
    "duration": 531,
    "start_time": "2023-04-24T23:02:01.984Z"
   },
   {
    "duration": 417,
    "start_time": "2023-04-24T23:02:02.517Z"
   },
   {
    "duration": 27,
    "start_time": "2023-04-24T23:02:02.936Z"
   },
   {
    "duration": 25,
    "start_time": "2023-04-24T23:02:02.968Z"
   },
   {
    "duration": 27,
    "start_time": "2023-04-24T23:02:02.995Z"
   },
   {
    "duration": 17,
    "start_time": "2023-04-24T23:02:03.024Z"
   },
   {
    "duration": 2,
    "start_time": "2023-04-24T23:02:03.043Z"
   },
   {
    "duration": 6,
    "start_time": "2023-04-24T23:02:03.046Z"
   },
   {
    "duration": 3,
    "start_time": "2023-04-24T23:02:05.449Z"
   },
   {
    "duration": 66,
    "start_time": "2023-04-24T23:02:05.453Z"
   },
   {
    "duration": 10,
    "start_time": "2023-04-24T23:02:05.520Z"
   },
   {
    "duration": 11,
    "start_time": "2023-04-24T23:02:05.532Z"
   },
   {
    "duration": 15,
    "start_time": "2023-04-24T23:02:05.545Z"
   },
   {
    "duration": 31,
    "start_time": "2023-04-24T23:02:05.562Z"
   },
   {
    "duration": 11,
    "start_time": "2023-04-24T23:02:05.595Z"
   },
   {
    "duration": 19,
    "start_time": "2023-04-24T23:02:05.608Z"
   },
   {
    "duration": 12,
    "start_time": "2023-04-24T23:02:05.631Z"
   },
   {
    "duration": 15,
    "start_time": "2023-04-24T23:02:05.645Z"
   },
   {
    "duration": 24,
    "start_time": "2023-04-24T23:02:05.662Z"
   },
   {
    "duration": 5,
    "start_time": "2023-04-24T23:02:05.688Z"
   },
   {
    "duration": 6,
    "start_time": "2023-04-24T23:02:05.695Z"
   },
   {
    "duration": 9,
    "start_time": "2023-04-24T23:02:05.702Z"
   },
   {
    "duration": 12,
    "start_time": "2023-04-24T23:02:05.712Z"
   },
   {
    "duration": 7,
    "start_time": "2023-04-24T23:02:05.726Z"
   },
   {
    "duration": 6,
    "start_time": "2023-04-24T23:02:05.734Z"
   },
   {
    "duration": 11,
    "start_time": "2023-04-24T23:02:05.741Z"
   },
   {
    "duration": 35,
    "start_time": "2023-04-24T23:02:05.754Z"
   },
   {
    "duration": 9,
    "start_time": "2023-04-24T23:02:05.790Z"
   },
   {
    "duration": 169,
    "start_time": "2023-04-24T23:02:05.800Z"
   },
   {
    "duration": 14,
    "start_time": "2023-04-24T23:02:05.971Z"
   },
   {
    "duration": 5,
    "start_time": "2023-04-24T23:02:05.987Z"
   },
   {
    "duration": 160,
    "start_time": "2023-04-24T23:02:05.995Z"
   },
   {
    "duration": 181,
    "start_time": "2023-04-24T23:02:06.157Z"
   },
   {
    "duration": 357,
    "start_time": "2023-04-24T23:02:06.340Z"
   },
   {
    "duration": 279,
    "start_time": "2023-04-24T23:02:06.698Z"
   },
   {
    "duration": 206,
    "start_time": "2023-04-24T23:02:06.979Z"
   },
   {
    "duration": 226,
    "start_time": "2023-04-24T23:02:07.186Z"
   },
   {
    "duration": 196,
    "start_time": "2023-04-24T23:02:07.414Z"
   },
   {
    "duration": 222,
    "start_time": "2023-04-24T23:02:07.612Z"
   },
   {
    "duration": 197,
    "start_time": "2023-04-24T23:02:07.836Z"
   },
   {
    "duration": 28,
    "start_time": "2023-04-24T23:02:08.035Z"
   },
   {
    "duration": 28,
    "start_time": "2023-04-24T23:02:08.065Z"
   },
   {
    "duration": 7,
    "start_time": "2023-04-24T23:02:08.094Z"
   },
   {
    "duration": 5,
    "start_time": "2023-04-24T23:02:08.103Z"
   },
   {
    "duration": 465,
    "start_time": "2023-04-24T23:02:08.110Z"
   },
   {
    "duration": 524,
    "start_time": "2023-04-24T23:02:08.577Z"
   },
   {
    "duration": 26,
    "start_time": "2023-04-24T23:02:09.102Z"
   },
   {
    "duration": 10,
    "start_time": "2023-04-24T23:02:09.130Z"
   },
   {
    "duration": 22,
    "start_time": "2023-04-24T23:02:09.141Z"
   },
   {
    "duration": 31,
    "start_time": "2023-04-24T23:02:09.164Z"
   },
   {
    "duration": 3,
    "start_time": "2023-04-24T23:02:09.196Z"
   },
   {
    "duration": 20,
    "start_time": "2023-04-24T23:07:31.444Z"
   },
   {
    "duration": 2,
    "start_time": "2023-04-24T23:07:42.997Z"
   },
   {
    "duration": 19,
    "start_time": "2023-04-24T23:07:55.137Z"
   },
   {
    "duration": 1087,
    "start_time": "2023-04-24T23:08:12.474Z"
   },
   {
    "duration": 319,
    "start_time": "2023-04-24T23:08:13.564Z"
   },
   {
    "duration": 15,
    "start_time": "2023-04-24T23:08:13.885Z"
   },
   {
    "duration": 12,
    "start_time": "2023-04-24T23:08:13.902Z"
   },
   {
    "duration": 13,
    "start_time": "2023-04-24T23:08:13.915Z"
   },
   {
    "duration": 23,
    "start_time": "2023-04-24T23:08:13.931Z"
   },
   {
    "duration": 31,
    "start_time": "2023-04-24T23:08:13.956Z"
   },
   {
    "duration": 14,
    "start_time": "2023-04-24T23:08:13.989Z"
   },
   {
    "duration": 10,
    "start_time": "2023-04-24T23:08:14.005Z"
   },
   {
    "duration": 24,
    "start_time": "2023-04-24T23:08:14.018Z"
   },
   {
    "duration": 40,
    "start_time": "2023-04-24T23:08:14.045Z"
   },
   {
    "duration": 6,
    "start_time": "2023-04-24T23:08:14.088Z"
   },
   {
    "duration": 16,
    "start_time": "2023-04-24T23:08:14.096Z"
   },
   {
    "duration": 7,
    "start_time": "2023-04-24T23:08:14.114Z"
   },
   {
    "duration": 7,
    "start_time": "2023-04-24T23:08:14.123Z"
   },
   {
    "duration": 19,
    "start_time": "2023-04-24T23:08:14.132Z"
   },
   {
    "duration": 5,
    "start_time": "2023-04-24T23:08:14.153Z"
   },
   {
    "duration": 12,
    "start_time": "2023-04-24T23:08:14.184Z"
   },
   {
    "duration": 5,
    "start_time": "2023-04-24T23:08:14.198Z"
   },
   {
    "duration": 10,
    "start_time": "2023-04-24T23:08:14.204Z"
   },
   {
    "duration": 191,
    "start_time": "2023-04-24T23:08:14.216Z"
   },
   {
    "duration": 7,
    "start_time": "2023-04-24T23:08:14.409Z"
   },
   {
    "duration": 18,
    "start_time": "2023-04-24T23:08:14.418Z"
   },
   {
    "duration": 152,
    "start_time": "2023-04-24T23:08:14.438Z"
   },
   {
    "duration": 190,
    "start_time": "2023-04-24T23:08:14.592Z"
   },
   {
    "duration": 265,
    "start_time": "2023-04-24T23:08:14.786Z"
   },
   {
    "duration": 267,
    "start_time": "2023-04-24T23:08:15.053Z"
   },
   {
    "duration": 198,
    "start_time": "2023-04-24T23:08:15.324Z"
   },
   {
    "duration": 210,
    "start_time": "2023-04-24T23:08:15.525Z"
   },
   {
    "duration": 278,
    "start_time": "2023-04-24T23:08:15.737Z"
   },
   {
    "duration": 209,
    "start_time": "2023-04-24T23:08:16.016Z"
   },
   {
    "duration": 179,
    "start_time": "2023-04-24T23:08:16.226Z"
   },
   {
    "duration": 27,
    "start_time": "2023-04-24T23:08:16.406Z"
   },
   {
    "duration": 14,
    "start_time": "2023-04-24T23:08:16.435Z"
   },
   {
    "duration": 7,
    "start_time": "2023-04-24T23:08:16.451Z"
   },
   {
    "duration": 27,
    "start_time": "2023-04-24T23:08:16.460Z"
   },
   {
    "duration": 413,
    "start_time": "2023-04-24T23:08:16.489Z"
   },
   {
    "duration": 414,
    "start_time": "2023-04-24T23:08:16.904Z"
   },
   {
    "duration": 26,
    "start_time": "2023-04-24T23:08:17.320Z"
   },
   {
    "duration": 10,
    "start_time": "2023-04-24T23:08:17.348Z"
   },
   {
    "duration": 26,
    "start_time": "2023-04-24T23:08:17.359Z"
   },
   {
    "duration": 48,
    "start_time": "2023-04-24T23:08:17.387Z"
   },
   {
    "duration": 0,
    "start_time": "2023-04-24T23:08:17.437Z"
   },
   {
    "duration": 0,
    "start_time": "2023-04-24T23:08:17.437Z"
   },
   {
    "duration": 17,
    "start_time": "2023-04-24T23:08:23.061Z"
   },
   {
    "duration": 19,
    "start_time": "2023-04-24T23:10:46.618Z"
   },
   {
    "duration": 11,
    "start_time": "2023-04-24T23:12:06.792Z"
   },
   {
    "duration": 95,
    "start_time": "2023-04-24T23:13:06.280Z"
   },
   {
    "duration": 12,
    "start_time": "2023-04-24T23:13:21.940Z"
   },
   {
    "duration": 14,
    "start_time": "2023-04-24T23:16:05.344Z"
   },
   {
    "duration": 10,
    "start_time": "2023-04-24T23:16:11.918Z"
   },
   {
    "duration": 15,
    "start_time": "2023-04-24T23:16:56.104Z"
   },
   {
    "duration": 10,
    "start_time": "2023-04-24T23:16:59.673Z"
   },
   {
    "duration": 1030,
    "start_time": "2023-04-24T23:17:12.575Z"
   },
   {
    "duration": 3,
    "start_time": "2023-04-24T23:17:18.440Z"
   },
   {
    "duration": 66,
    "start_time": "2023-04-24T23:17:18.445Z"
   },
   {
    "duration": 9,
    "start_time": "2023-04-24T23:17:18.513Z"
   },
   {
    "duration": 12,
    "start_time": "2023-04-24T23:17:18.523Z"
   },
   {
    "duration": 8,
    "start_time": "2023-04-24T23:17:18.538Z"
   },
   {
    "duration": 12,
    "start_time": "2023-04-24T23:17:18.548Z"
   },
   {
    "duration": 25,
    "start_time": "2023-04-24T23:17:18.562Z"
   },
   {
    "duration": 13,
    "start_time": "2023-04-24T23:17:18.589Z"
   },
   {
    "duration": 8,
    "start_time": "2023-04-24T23:17:18.604Z"
   },
   {
    "duration": 21,
    "start_time": "2023-04-24T23:17:18.614Z"
   },
   {
    "duration": 14,
    "start_time": "2023-04-24T23:17:18.637Z"
   },
   {
    "duration": 7,
    "start_time": "2023-04-24T23:17:18.652Z"
   },
   {
    "duration": 25,
    "start_time": "2023-04-24T23:17:18.661Z"
   },
   {
    "duration": 17,
    "start_time": "2023-04-24T23:17:18.688Z"
   },
   {
    "duration": 8,
    "start_time": "2023-04-24T23:17:18.707Z"
   },
   {
    "duration": 9,
    "start_time": "2023-04-24T23:17:18.717Z"
   },
   {
    "duration": 6,
    "start_time": "2023-04-24T23:17:18.728Z"
   },
   {
    "duration": 11,
    "start_time": "2023-04-24T23:17:18.736Z"
   },
   {
    "duration": 37,
    "start_time": "2023-04-24T23:17:18.749Z"
   },
   {
    "duration": 6,
    "start_time": "2023-04-24T23:17:18.788Z"
   },
   {
    "duration": 171,
    "start_time": "2023-04-24T23:17:18.796Z"
   },
   {
    "duration": 6,
    "start_time": "2023-04-24T23:17:18.970Z"
   },
   {
    "duration": 5,
    "start_time": "2023-04-24T23:17:18.986Z"
   },
   {
    "duration": 159,
    "start_time": "2023-04-24T23:17:18.992Z"
   },
   {
    "duration": 180,
    "start_time": "2023-04-24T23:17:19.152Z"
   },
   {
    "duration": 274,
    "start_time": "2023-04-24T23:17:19.333Z"
   },
   {
    "duration": 267,
    "start_time": "2023-04-24T23:17:19.609Z"
   },
   {
    "duration": 210,
    "start_time": "2023-04-24T23:17:19.884Z"
   },
   {
    "duration": 220,
    "start_time": "2023-04-24T23:17:20.096Z"
   },
   {
    "duration": 293,
    "start_time": "2023-04-24T23:17:20.318Z"
   },
   {
    "duration": 200,
    "start_time": "2023-04-24T23:17:20.613Z"
   },
   {
    "duration": 190,
    "start_time": "2023-04-24T23:17:20.815Z"
   },
   {
    "duration": 29,
    "start_time": "2023-04-24T23:17:21.007Z"
   },
   {
    "duration": 14,
    "start_time": "2023-04-24T23:17:21.038Z"
   },
   {
    "duration": 17,
    "start_time": "2023-04-24T23:17:21.054Z"
   },
   {
    "duration": 16,
    "start_time": "2023-04-24T23:17:21.073Z"
   },
   {
    "duration": 421,
    "start_time": "2023-04-24T23:17:21.093Z"
   },
   {
    "duration": 436,
    "start_time": "2023-04-24T23:17:21.516Z"
   },
   {
    "duration": 16,
    "start_time": "2023-04-24T23:17:21.953Z"
   },
   {
    "duration": 17,
    "start_time": "2023-04-24T23:17:21.970Z"
   },
   {
    "duration": 31,
    "start_time": "2023-04-24T23:17:21.988Z"
   },
   {
    "duration": 11,
    "start_time": "2023-04-24T23:17:22.021Z"
   },
   {
    "duration": 12,
    "start_time": "2023-04-24T23:17:22.033Z"
   },
   {
    "duration": 10,
    "start_time": "2023-04-24T23:17:22.046Z"
   },
   {
    "duration": 37,
    "start_time": "2023-04-24T23:17:22.058Z"
   },
   {
    "duration": 3,
    "start_time": "2023-04-24T23:17:22.097Z"
   },
   {
    "duration": 31,
    "start_time": "2023-04-24T23:18:55.509Z"
   },
   {
    "duration": 11,
    "start_time": "2023-04-24T23:18:58.552Z"
   },
   {
    "duration": 26,
    "start_time": "2023-04-24T23:19:35.502Z"
   },
   {
    "duration": 14,
    "start_time": "2023-04-24T23:19:44.407Z"
   },
   {
    "duration": 2,
    "start_time": "2023-04-24T23:20:33.884Z"
   },
   {
    "duration": 64,
    "start_time": "2023-04-24T23:20:33.888Z"
   },
   {
    "duration": 11,
    "start_time": "2023-04-24T23:20:33.955Z"
   },
   {
    "duration": 17,
    "start_time": "2023-04-24T23:20:33.968Z"
   },
   {
    "duration": 12,
    "start_time": "2023-04-24T23:20:33.989Z"
   },
   {
    "duration": 15,
    "start_time": "2023-04-24T23:20:34.003Z"
   },
   {
    "duration": 8,
    "start_time": "2023-04-24T23:20:34.020Z"
   },
   {
    "duration": 21,
    "start_time": "2023-04-24T23:20:34.030Z"
   },
   {
    "duration": 39,
    "start_time": "2023-04-24T23:20:34.053Z"
   },
   {
    "duration": 12,
    "start_time": "2023-04-24T23:20:34.094Z"
   },
   {
    "duration": 7,
    "start_time": "2023-04-24T23:20:34.109Z"
   },
   {
    "duration": 5,
    "start_time": "2023-04-24T23:20:34.118Z"
   },
   {
    "duration": 5,
    "start_time": "2023-04-24T23:20:34.125Z"
   },
   {
    "duration": 6,
    "start_time": "2023-04-24T23:20:34.132Z"
   },
   {
    "duration": 5,
    "start_time": "2023-04-24T23:20:34.139Z"
   },
   {
    "duration": 46,
    "start_time": "2023-04-24T23:20:34.145Z"
   },
   {
    "duration": 4,
    "start_time": "2023-04-24T23:20:34.192Z"
   },
   {
    "duration": 9,
    "start_time": "2023-04-24T23:20:34.198Z"
   },
   {
    "duration": 7,
    "start_time": "2023-04-24T23:20:34.209Z"
   },
   {
    "duration": 6,
    "start_time": "2023-04-24T23:20:34.217Z"
   },
   {
    "duration": 174,
    "start_time": "2023-04-24T23:20:34.225Z"
   },
   {
    "duration": 6,
    "start_time": "2023-04-24T23:20:34.401Z"
   },
   {
    "duration": 5,
    "start_time": "2023-04-24T23:20:34.409Z"
   },
   {
    "duration": 241,
    "start_time": "2023-04-24T23:20:34.416Z"
   },
   {
    "duration": 170,
    "start_time": "2023-04-24T23:20:34.658Z"
   },
   {
    "duration": 290,
    "start_time": "2023-04-24T23:20:34.830Z"
   },
   {
    "duration": 255,
    "start_time": "2023-04-24T23:20:35.122Z"
   },
   {
    "duration": 195,
    "start_time": "2023-04-24T23:20:35.379Z"
   },
   {
    "duration": 200,
    "start_time": "2023-04-24T23:20:35.577Z"
   },
   {
    "duration": 178,
    "start_time": "2023-04-24T23:20:35.779Z"
   },
   {
    "duration": 196,
    "start_time": "2023-04-24T23:20:35.959Z"
   },
   {
    "duration": 277,
    "start_time": "2023-04-24T23:20:36.157Z"
   },
   {
    "duration": 27,
    "start_time": "2023-04-24T23:20:36.436Z"
   },
   {
    "duration": 28,
    "start_time": "2023-04-24T23:20:36.465Z"
   },
   {
    "duration": 8,
    "start_time": "2023-04-24T23:20:36.495Z"
   },
   {
    "duration": 5,
    "start_time": "2023-04-24T23:20:36.505Z"
   },
   {
    "duration": 441,
    "start_time": "2023-04-24T23:20:36.511Z"
   },
   {
    "duration": 436,
    "start_time": "2023-04-24T23:20:36.953Z"
   },
   {
    "duration": 11,
    "start_time": "2023-04-24T23:20:37.391Z"
   },
   {
    "duration": 36,
    "start_time": "2023-04-24T23:20:37.404Z"
   },
   {
    "duration": 12,
    "start_time": "2023-04-24T23:20:37.442Z"
   },
   {
    "duration": 8,
    "start_time": "2023-04-24T23:20:37.455Z"
   },
   {
    "duration": 3,
    "start_time": "2023-04-24T23:20:37.484Z"
   },
   {
    "duration": 13,
    "start_time": "2023-04-24T23:20:59.760Z"
   },
   {
    "duration": 561,
    "start_time": "2023-04-24T23:25:57.100Z"
   },
   {
    "duration": 33,
    "start_time": "2023-04-24T23:27:07.587Z"
   },
   {
    "duration": 13,
    "start_time": "2023-04-24T23:27:20.919Z"
   },
   {
    "duration": 29,
    "start_time": "2023-04-24T23:27:35.116Z"
   },
   {
    "duration": 13,
    "start_time": "2023-04-24T23:27:35.780Z"
   },
   {
    "duration": 35,
    "start_time": "2023-04-24T23:28:10.044Z"
   },
   {
    "duration": 13,
    "start_time": "2023-04-24T23:28:10.642Z"
   },
   {
    "duration": 35,
    "start_time": "2023-04-24T23:28:27.637Z"
   },
   {
    "duration": 12,
    "start_time": "2023-04-24T23:28:27.674Z"
   },
   {
    "duration": 34,
    "start_time": "2023-04-24T23:28:41.570Z"
   },
   {
    "duration": 11,
    "start_time": "2023-04-24T23:28:42.954Z"
   },
   {
    "duration": 20,
    "start_time": "2023-04-24T23:29:10.650Z"
   },
   {
    "duration": 20,
    "start_time": "2023-04-24T23:29:19.593Z"
   },
   {
    "duration": 25,
    "start_time": "2023-04-24T23:29:28.274Z"
   },
   {
    "duration": 39,
    "start_time": "2023-04-24T23:29:41.095Z"
   },
   {
    "duration": 11,
    "start_time": "2023-04-24T23:29:42.876Z"
   },
   {
    "duration": 29,
    "start_time": "2023-04-24T23:30:47.335Z"
   },
   {
    "duration": 34,
    "start_time": "2023-04-24T23:30:58.419Z"
   },
   {
    "duration": 26,
    "start_time": "2023-04-24T23:31:19.841Z"
   },
   {
    "duration": 65,
    "start_time": "2023-04-24T23:31:23.686Z"
   },
   {
    "duration": 63,
    "start_time": "2023-04-24T23:32:20.976Z"
   },
   {
    "duration": 20,
    "start_time": "2023-04-24T23:32:35.628Z"
   },
   {
    "duration": 15,
    "start_time": "2023-04-24T23:33:44.721Z"
   },
   {
    "duration": 60,
    "start_time": "2023-04-24T23:33:53.955Z"
   },
   {
    "duration": 13,
    "start_time": "2023-04-24T23:33:57.249Z"
   },
   {
    "duration": 25,
    "start_time": "2023-04-24T23:34:17.408Z"
   },
   {
    "duration": 26,
    "start_time": "2023-04-24T23:34:47.904Z"
   },
   {
    "duration": 3,
    "start_time": "2023-04-24T23:34:50.455Z"
   },
   {
    "duration": 79,
    "start_time": "2023-04-24T23:34:50.460Z"
   },
   {
    "duration": 9,
    "start_time": "2023-04-24T23:34:50.541Z"
   },
   {
    "duration": 25,
    "start_time": "2023-04-24T23:34:50.552Z"
   },
   {
    "duration": 21,
    "start_time": "2023-04-24T23:34:50.579Z"
   },
   {
    "duration": 30,
    "start_time": "2023-04-24T23:34:50.601Z"
   },
   {
    "duration": 22,
    "start_time": "2023-04-24T23:34:50.633Z"
   },
   {
    "duration": 11,
    "start_time": "2023-04-24T23:34:50.656Z"
   },
   {
    "duration": 15,
    "start_time": "2023-04-24T23:34:50.670Z"
   },
   {
    "duration": 29,
    "start_time": "2023-04-24T23:34:50.687Z"
   },
   {
    "duration": 23,
    "start_time": "2023-04-24T23:34:50.718Z"
   },
   {
    "duration": 23,
    "start_time": "2023-04-24T23:34:50.742Z"
   },
   {
    "duration": 31,
    "start_time": "2023-04-24T23:34:50.767Z"
   },
   {
    "duration": 11,
    "start_time": "2023-04-24T23:34:50.801Z"
   },
   {
    "duration": 23,
    "start_time": "2023-04-24T23:34:50.813Z"
   },
   {
    "duration": 10,
    "start_time": "2023-04-24T23:34:50.837Z"
   },
   {
    "duration": 23,
    "start_time": "2023-04-24T23:34:50.848Z"
   },
   {
    "duration": 11,
    "start_time": "2023-04-24T23:34:50.873Z"
   },
   {
    "duration": 15,
    "start_time": "2023-04-24T23:34:50.886Z"
   },
   {
    "duration": 9,
    "start_time": "2023-04-24T23:34:50.903Z"
   },
   {
    "duration": 150,
    "start_time": "2023-04-24T23:34:50.914Z"
   },
   {
    "duration": 7,
    "start_time": "2023-04-24T23:34:51.066Z"
   },
   {
    "duration": 16,
    "start_time": "2023-04-24T23:34:51.074Z"
   },
   {
    "duration": 233,
    "start_time": "2023-04-24T23:34:51.093Z"
   },
   {
    "duration": 186,
    "start_time": "2023-04-24T23:34:51.328Z"
   },
   {
    "duration": 280,
    "start_time": "2023-04-24T23:34:51.516Z"
   },
   {
    "duration": 289,
    "start_time": "2023-04-24T23:34:51.798Z"
   },
   {
    "duration": 204,
    "start_time": "2023-04-24T23:34:52.089Z"
   },
   {
    "duration": 235,
    "start_time": "2023-04-24T23:34:52.295Z"
   },
   {
    "duration": 193,
    "start_time": "2023-04-24T23:34:52.533Z"
   },
   {
    "duration": 211,
    "start_time": "2023-04-24T23:34:52.728Z"
   },
   {
    "duration": 289,
    "start_time": "2023-04-24T23:34:52.941Z"
   },
   {
    "duration": 26,
    "start_time": "2023-04-24T23:34:53.232Z"
   },
   {
    "duration": 27,
    "start_time": "2023-04-24T23:34:53.259Z"
   },
   {
    "duration": 14,
    "start_time": "2023-04-24T23:34:53.288Z"
   },
   {
    "duration": 5,
    "start_time": "2023-04-24T23:34:53.304Z"
   },
   {
    "duration": 422,
    "start_time": "2023-04-24T23:34:53.310Z"
   },
   {
    "duration": 460,
    "start_time": "2023-04-24T23:34:53.734Z"
   },
   {
    "duration": 47,
    "start_time": "2023-04-24T23:34:54.196Z"
   },
   {
    "duration": 13,
    "start_time": "2023-04-24T23:34:54.245Z"
   },
   {
    "duration": 31,
    "start_time": "2023-04-24T23:34:54.260Z"
   },
   {
    "duration": 24,
    "start_time": "2023-04-24T23:34:54.293Z"
   },
   {
    "duration": 795,
    "start_time": "2023-04-24T23:35:24.130Z"
   },
   {
    "duration": 20,
    "start_time": "2023-04-24T23:35:57.401Z"
   },
   {
    "duration": 46,
    "start_time": "2023-04-24T23:38:07.776Z"
   },
   {
    "duration": 12,
    "start_time": "2023-04-24T23:38:13.268Z"
   },
   {
    "duration": 723,
    "start_time": "2023-04-24T23:39:22.969Z"
   },
   {
    "duration": 29,
    "start_time": "2023-04-24T23:40:41.460Z"
   },
   {
    "duration": 54,
    "start_time": "2023-04-24T23:40:54.031Z"
   },
   {
    "duration": 12,
    "start_time": "2023-04-24T23:40:55.134Z"
   },
   {
    "duration": 19,
    "start_time": "2023-04-24T23:43:01.777Z"
   },
   {
    "duration": 19,
    "start_time": "2023-04-24T23:45:03.715Z"
   },
   {
    "duration": 729,
    "start_time": "2023-04-24T23:45:09.270Z"
   },
   {
    "duration": 707,
    "start_time": "2023-04-24T23:45:17.025Z"
   },
   {
    "duration": 7,
    "start_time": "2023-04-24T23:45:36.310Z"
   },
   {
    "duration": 12,
    "start_time": "2023-04-24T23:45:53.069Z"
   },
   {
    "duration": 9,
    "start_time": "2023-04-24T23:46:17.201Z"
   },
   {
    "duration": 20,
    "start_time": "2023-04-24T23:46:25.341Z"
   },
   {
    "duration": 9,
    "start_time": "2023-04-24T23:46:40.613Z"
   },
   {
    "duration": 18,
    "start_time": "2023-04-24T23:46:56.387Z"
   },
   {
    "duration": 9,
    "start_time": "2023-04-24T23:47:10.645Z"
   },
   {
    "duration": 9,
    "start_time": "2023-04-24T23:47:21.140Z"
   },
   {
    "duration": 12,
    "start_time": "2023-04-24T23:48:34.766Z"
   },
   {
    "duration": 746,
    "start_time": "2023-04-24T23:49:49.699Z"
   },
   {
    "duration": 14,
    "start_time": "2023-04-24T23:50:00.676Z"
   },
   {
    "duration": 14,
    "start_time": "2023-04-24T23:50:05.835Z"
   },
   {
    "duration": 8,
    "start_time": "2023-04-24T23:51:33.040Z"
   },
   {
    "duration": 11,
    "start_time": "2023-04-24T23:51:41.411Z"
   },
   {
    "duration": 3,
    "start_time": "2023-04-24T23:51:47.587Z"
   },
   {
    "duration": 67,
    "start_time": "2023-04-24T23:51:47.591Z"
   },
   {
    "duration": 9,
    "start_time": "2023-04-24T23:51:47.660Z"
   },
   {
    "duration": 11,
    "start_time": "2023-04-24T23:51:47.670Z"
   },
   {
    "duration": 8,
    "start_time": "2023-04-24T23:51:47.683Z"
   },
   {
    "duration": 12,
    "start_time": "2023-04-24T23:51:47.693Z"
   },
   {
    "duration": 7,
    "start_time": "2023-04-24T23:51:47.707Z"
   },
   {
    "duration": 13,
    "start_time": "2023-04-24T23:51:47.715Z"
   },
   {
    "duration": 7,
    "start_time": "2023-04-24T23:51:47.730Z"
   },
   {
    "duration": 12,
    "start_time": "2023-04-24T23:51:47.739Z"
   },
   {
    "duration": 33,
    "start_time": "2023-04-24T23:51:47.753Z"
   },
   {
    "duration": 6,
    "start_time": "2023-04-24T23:51:47.788Z"
   },
   {
    "duration": 7,
    "start_time": "2023-04-24T23:51:47.796Z"
   },
   {
    "duration": 8,
    "start_time": "2023-04-24T23:51:47.804Z"
   },
   {
    "duration": 6,
    "start_time": "2023-04-24T23:51:47.814Z"
   },
   {
    "duration": 8,
    "start_time": "2023-04-24T23:51:47.822Z"
   },
   {
    "duration": 5,
    "start_time": "2023-04-24T23:51:47.833Z"
   },
   {
    "duration": 12,
    "start_time": "2023-04-24T23:51:47.884Z"
   },
   {
    "duration": 7,
    "start_time": "2023-04-24T23:51:47.898Z"
   },
   {
    "duration": 19,
    "start_time": "2023-04-24T23:51:47.907Z"
   },
   {
    "duration": 169,
    "start_time": "2023-04-24T23:51:47.929Z"
   },
   {
    "duration": 5,
    "start_time": "2023-04-24T23:51:48.101Z"
   },
   {
    "duration": 5,
    "start_time": "2023-04-24T23:51:48.108Z"
   },
   {
    "duration": 166,
    "start_time": "2023-04-24T23:51:48.115Z"
   },
   {
    "duration": 264,
    "start_time": "2023-04-24T23:51:48.286Z"
   },
   {
    "duration": 265,
    "start_time": "2023-04-24T23:51:48.552Z"
   },
   {
    "duration": 278,
    "start_time": "2023-04-24T23:51:48.819Z"
   },
   {
    "duration": 201,
    "start_time": "2023-04-24T23:51:49.101Z"
   },
   {
    "duration": 213,
    "start_time": "2023-04-24T23:51:49.303Z"
   },
   {
    "duration": 179,
    "start_time": "2023-04-24T23:51:49.518Z"
   },
   {
    "duration": 210,
    "start_time": "2023-04-24T23:51:49.699Z"
   },
   {
    "duration": 195,
    "start_time": "2023-04-24T23:51:49.911Z"
   },
   {
    "duration": 26,
    "start_time": "2023-04-24T23:51:50.107Z"
   },
   {
    "duration": 14,
    "start_time": "2023-04-24T23:51:50.134Z"
   },
   {
    "duration": 8,
    "start_time": "2023-04-24T23:51:50.150Z"
   },
   {
    "duration": 27,
    "start_time": "2023-04-24T23:51:50.160Z"
   },
   {
    "duration": 512,
    "start_time": "2023-04-24T23:51:50.189Z"
   },
   {
    "duration": 418,
    "start_time": "2023-04-24T23:51:50.702Z"
   },
   {
    "duration": 43,
    "start_time": "2023-04-24T23:51:51.122Z"
   },
   {
    "duration": 21,
    "start_time": "2023-04-24T23:51:51.167Z"
   },
   {
    "duration": 11,
    "start_time": "2023-04-24T23:51:51.190Z"
   },
   {
    "duration": 11,
    "start_time": "2023-04-24T23:51:51.202Z"
   },
   {
    "duration": 12,
    "start_time": "2023-04-24T23:51:51.215Z"
   },
   {
    "duration": 13,
    "start_time": "2023-04-24T23:51:51.229Z"
   },
   {
    "duration": 1332,
    "start_time": "2023-04-25T16:12:02.724Z"
   },
   {
    "duration": 344,
    "start_time": "2023-04-25T16:12:04.059Z"
   },
   {
    "duration": 12,
    "start_time": "2023-04-25T16:12:04.404Z"
   },
   {
    "duration": 16,
    "start_time": "2023-04-25T16:12:04.419Z"
   },
   {
    "duration": 13,
    "start_time": "2023-04-25T16:12:04.436Z"
   },
   {
    "duration": 15,
    "start_time": "2023-04-25T16:12:04.451Z"
   },
   {
    "duration": 22,
    "start_time": "2023-04-25T16:12:04.468Z"
   },
   {
    "duration": 16,
    "start_time": "2023-04-25T16:12:04.492Z"
   },
   {
    "duration": 10,
    "start_time": "2023-04-25T16:12:04.510Z"
   },
   {
    "duration": 18,
    "start_time": "2023-04-25T16:12:04.523Z"
   },
   {
    "duration": 10,
    "start_time": "2023-04-25T16:12:04.542Z"
   },
   {
    "duration": 9,
    "start_time": "2023-04-25T16:12:04.553Z"
   },
   {
    "duration": 39,
    "start_time": "2023-04-25T16:12:04.564Z"
   },
   {
    "duration": 7,
    "start_time": "2023-04-25T16:12:04.608Z"
   },
   {
    "duration": 8,
    "start_time": "2023-04-25T16:12:04.617Z"
   },
   {
    "duration": 10,
    "start_time": "2023-04-25T16:12:04.627Z"
   },
   {
    "duration": 12,
    "start_time": "2023-04-25T16:12:04.638Z"
   },
   {
    "duration": 17,
    "start_time": "2023-04-25T16:12:04.652Z"
   },
   {
    "duration": 22,
    "start_time": "2023-04-25T16:12:04.671Z"
   },
   {
    "duration": 11,
    "start_time": "2023-04-25T16:12:04.694Z"
   },
   {
    "duration": 186,
    "start_time": "2023-04-25T16:12:04.707Z"
   },
   {
    "duration": 10,
    "start_time": "2023-04-25T16:12:04.894Z"
   },
   {
    "duration": 6,
    "start_time": "2023-04-25T16:12:04.906Z"
   },
   {
    "duration": 198,
    "start_time": "2023-04-25T16:12:04.913Z"
   },
   {
    "duration": 185,
    "start_time": "2023-04-25T16:12:05.113Z"
   },
   {
    "duration": 283,
    "start_time": "2023-04-25T16:12:05.300Z"
   },
   {
    "duration": 313,
    "start_time": "2023-04-25T16:12:05.585Z"
   },
   {
    "duration": 217,
    "start_time": "2023-04-25T16:12:05.906Z"
   },
   {
    "duration": 323,
    "start_time": "2023-04-25T16:12:06.125Z"
   },
   {
    "duration": 206,
    "start_time": "2023-04-25T16:12:06.450Z"
   },
   {
    "duration": 222,
    "start_time": "2023-04-25T16:12:06.658Z"
   },
   {
    "duration": 216,
    "start_time": "2023-04-25T16:12:06.887Z"
   },
   {
    "duration": 32,
    "start_time": "2023-04-25T16:12:07.106Z"
   },
   {
    "duration": 15,
    "start_time": "2023-04-25T16:12:07.140Z"
   },
   {
    "duration": 11,
    "start_time": "2023-04-25T16:12:07.157Z"
   },
   {
    "duration": 25,
    "start_time": "2023-04-25T16:12:07.170Z"
   },
   {
    "duration": 495,
    "start_time": "2023-04-25T16:12:07.197Z"
   },
   {
    "duration": 503,
    "start_time": "2023-04-25T16:12:07.694Z"
   },
   {
    "duration": 72,
    "start_time": "2023-04-25T16:12:08.199Z"
   },
   {
    "duration": 32,
    "start_time": "2023-04-25T16:12:08.274Z"
   },
   {
    "duration": 30,
    "start_time": "2023-04-25T16:12:08.308Z"
   },
   {
    "duration": 12,
    "start_time": "2023-04-25T16:12:08.340Z"
   },
   {
    "duration": 17,
    "start_time": "2023-04-25T16:12:08.354Z"
   },
   {
    "duration": 3,
    "start_time": "2023-04-25T22:11:43.254Z"
   },
   {
    "duration": 66,
    "start_time": "2023-04-25T22:11:43.259Z"
   },
   {
    "duration": 8,
    "start_time": "2023-04-25T22:11:43.328Z"
   },
   {
    "duration": 18,
    "start_time": "2023-04-25T22:11:43.338Z"
   },
   {
    "duration": 10,
    "start_time": "2023-04-25T22:11:43.358Z"
   },
   {
    "duration": 10,
    "start_time": "2023-04-25T22:11:43.370Z"
   },
   {
    "duration": 7,
    "start_time": "2023-04-25T22:11:43.382Z"
   },
   {
    "duration": 8,
    "start_time": "2023-04-25T22:11:43.391Z"
   },
   {
    "duration": 13,
    "start_time": "2023-04-25T22:11:43.401Z"
   },
   {
    "duration": 12,
    "start_time": "2023-04-25T22:11:43.415Z"
   },
   {
    "duration": 8,
    "start_time": "2023-04-25T22:11:43.429Z"
   },
   {
    "duration": 5,
    "start_time": "2023-04-25T22:11:43.439Z"
   },
   {
    "duration": 6,
    "start_time": "2023-04-25T22:11:43.445Z"
   },
   {
    "duration": 6,
    "start_time": "2023-04-25T22:11:43.485Z"
   },
   {
    "duration": 5,
    "start_time": "2023-04-25T22:11:43.493Z"
   },
   {
    "duration": 7,
    "start_time": "2023-04-25T22:11:43.499Z"
   },
   {
    "duration": 11,
    "start_time": "2023-04-25T22:11:43.508Z"
   },
   {
    "duration": 24,
    "start_time": "2023-04-25T22:11:43.521Z"
   },
   {
    "duration": 5,
    "start_time": "2023-04-25T22:11:43.547Z"
   },
   {
    "duration": 7,
    "start_time": "2023-04-25T22:11:43.553Z"
   },
   {
    "duration": 168,
    "start_time": "2023-04-25T22:11:43.561Z"
   },
   {
    "duration": 6,
    "start_time": "2023-04-25T22:11:43.732Z"
   },
   {
    "duration": 14,
    "start_time": "2023-04-25T22:11:43.739Z"
   },
   {
    "duration": 251,
    "start_time": "2023-04-25T22:11:43.755Z"
   },
   {
    "duration": 214,
    "start_time": "2023-04-25T22:11:44.007Z"
   },
   {
    "duration": 264,
    "start_time": "2023-04-25T22:11:44.223Z"
   },
   {
    "duration": 262,
    "start_time": "2023-04-25T22:11:44.488Z"
   },
   {
    "duration": 200,
    "start_time": "2023-04-25T22:11:44.752Z"
   },
   {
    "duration": 205,
    "start_time": "2023-04-25T22:11:44.954Z"
   },
   {
    "duration": 176,
    "start_time": "2023-04-25T22:11:45.160Z"
   },
   {
    "duration": 199,
    "start_time": "2023-04-25T22:11:45.338Z"
   },
   {
    "duration": 272,
    "start_time": "2023-04-25T22:11:45.538Z"
   },
   {
    "duration": 27,
    "start_time": "2023-04-25T22:11:45.811Z"
   },
   {
    "duration": 14,
    "start_time": "2023-04-25T22:11:45.839Z"
   },
   {
    "duration": 14,
    "start_time": "2023-04-25T22:11:45.854Z"
   },
   {
    "duration": 5,
    "start_time": "2023-04-25T22:11:45.885Z"
   },
   {
    "duration": 404,
    "start_time": "2023-04-25T22:11:45.892Z"
   },
   {
    "duration": 423,
    "start_time": "2023-04-25T22:11:46.298Z"
   },
   {
    "duration": 45,
    "start_time": "2023-04-25T22:11:46.723Z"
   },
   {
    "duration": 25,
    "start_time": "2023-04-25T22:11:46.770Z"
   },
   {
    "duration": 12,
    "start_time": "2023-04-25T22:11:46.797Z"
   },
   {
    "duration": 12,
    "start_time": "2023-04-25T22:11:46.810Z"
   },
   {
    "duration": 11,
    "start_time": "2023-04-25T22:11:46.824Z"
   },
   {
    "duration": 101,
    "start_time": "2023-04-25T22:11:51.913Z"
   },
   {
    "duration": 8,
    "start_time": "2023-04-25T22:12:01.518Z"
   },
   {
    "duration": 871,
    "start_time": "2023-04-25T22:17:06.593Z"
   },
   {
    "duration": 889,
    "start_time": "2023-04-25T22:18:06.552Z"
   },
   {
    "duration": 916,
    "start_time": "2023-04-25T22:23:59.189Z"
   },
   {
    "duration": 869,
    "start_time": "2023-04-25T22:24:11.301Z"
   },
   {
    "duration": 4,
    "start_time": "2023-04-25T22:25:49.089Z"
   },
   {
    "duration": 3,
    "start_time": "2023-04-25T22:27:07.919Z"
   },
   {
    "duration": 76,
    "start_time": "2023-04-25T22:27:07.923Z"
   },
   {
    "duration": 8,
    "start_time": "2023-04-25T22:27:08.001Z"
   },
   {
    "duration": 11,
    "start_time": "2023-04-25T22:27:08.011Z"
   },
   {
    "duration": 9,
    "start_time": "2023-04-25T22:27:08.023Z"
   },
   {
    "duration": 28,
    "start_time": "2023-04-25T22:27:08.034Z"
   },
   {
    "duration": 8,
    "start_time": "2023-04-25T22:27:08.064Z"
   },
   {
    "duration": 19,
    "start_time": "2023-04-25T22:27:08.074Z"
   },
   {
    "duration": 10,
    "start_time": "2023-04-25T22:27:08.095Z"
   },
   {
    "duration": 19,
    "start_time": "2023-04-25T22:27:08.108Z"
   },
   {
    "duration": 8,
    "start_time": "2023-04-25T22:27:08.130Z"
   },
   {
    "duration": 27,
    "start_time": "2023-04-25T22:27:08.140Z"
   },
   {
    "duration": 20,
    "start_time": "2023-04-25T22:27:08.169Z"
   },
   {
    "duration": 16,
    "start_time": "2023-04-25T22:27:08.191Z"
   },
   {
    "duration": 12,
    "start_time": "2023-04-25T22:27:08.208Z"
   },
   {
    "duration": 8,
    "start_time": "2023-04-25T22:27:08.221Z"
   },
   {
    "duration": 4,
    "start_time": "2023-04-25T22:27:08.231Z"
   },
   {
    "duration": 17,
    "start_time": "2023-04-25T22:27:08.237Z"
   },
   {
    "duration": 33,
    "start_time": "2023-04-25T22:27:08.256Z"
   },
   {
    "duration": 12,
    "start_time": "2023-04-25T22:27:08.291Z"
   },
   {
    "duration": 170,
    "start_time": "2023-04-25T22:27:08.305Z"
   },
   {
    "duration": 14,
    "start_time": "2023-04-25T22:27:08.477Z"
   },
   {
    "duration": 6,
    "start_time": "2023-04-25T22:27:08.493Z"
   },
   {
    "duration": 158,
    "start_time": "2023-04-25T22:27:08.501Z"
   },
   {
    "duration": 284,
    "start_time": "2023-04-25T22:27:08.661Z"
   },
   {
    "duration": 280,
    "start_time": "2023-04-25T22:27:08.947Z"
   },
   {
    "duration": 331,
    "start_time": "2023-04-25T22:27:09.228Z"
   },
   {
    "duration": 222,
    "start_time": "2023-04-25T22:27:09.561Z"
   },
   {
    "duration": 227,
    "start_time": "2023-04-25T22:27:09.788Z"
   },
   {
    "duration": 198,
    "start_time": "2023-04-25T22:27:10.017Z"
   },
   {
    "duration": 209,
    "start_time": "2023-04-25T22:27:10.216Z"
   },
   {
    "duration": 210,
    "start_time": "2023-04-25T22:27:10.427Z"
   },
   {
    "duration": 27,
    "start_time": "2023-04-25T22:27:10.639Z"
   },
   {
    "duration": 34,
    "start_time": "2023-04-25T22:27:10.668Z"
   },
   {
    "duration": 11,
    "start_time": "2023-04-25T22:27:10.704Z"
   },
   {
    "duration": 5,
    "start_time": "2023-04-25T22:27:10.716Z"
   },
   {
    "duration": 517,
    "start_time": "2023-04-25T22:27:10.723Z"
   },
   {
    "duration": 460,
    "start_time": "2023-04-25T22:27:11.242Z"
   },
   {
    "duration": 66,
    "start_time": "2023-04-25T22:27:19.230Z"
   },
   {
    "duration": 52,
    "start_time": "2023-04-25T22:27:33.618Z"
   },
   {
    "duration": 54,
    "start_time": "2023-04-25T22:27:40.731Z"
   },
   {
    "duration": 22,
    "start_time": "2023-04-25T22:27:42.597Z"
   },
   {
    "duration": 19,
    "start_time": "2023-04-25T22:27:53.816Z"
   },
   {
    "duration": 35,
    "start_time": "2023-04-25T22:28:13.042Z"
   },
   {
    "duration": 15,
    "start_time": "2023-04-25T22:28:13.629Z"
   },
   {
    "duration": 70,
    "start_time": "2023-04-25T22:30:38.704Z"
   },
   {
    "duration": 30,
    "start_time": "2023-04-25T22:30:54.399Z"
   },
   {
    "duration": 48,
    "start_time": "2023-04-25T22:31:18.562Z"
   },
   {
    "duration": 27,
    "start_time": "2023-04-25T22:31:37.640Z"
   },
   {
    "duration": 33,
    "start_time": "2023-04-25T22:31:46.794Z"
   },
   {
    "duration": 1025,
    "start_time": "2023-04-25T22:32:45.020Z"
   },
   {
    "duration": 65,
    "start_time": "2023-04-25T22:32:46.047Z"
   },
   {
    "duration": 14,
    "start_time": "2023-04-25T22:32:46.113Z"
   },
   {
    "duration": 10,
    "start_time": "2023-04-25T22:32:46.130Z"
   },
   {
    "duration": 9,
    "start_time": "2023-04-25T22:32:46.142Z"
   },
   {
    "duration": 10,
    "start_time": "2023-04-25T22:32:46.153Z"
   },
   {
    "duration": 24,
    "start_time": "2023-04-25T22:32:46.165Z"
   },
   {
    "duration": 10,
    "start_time": "2023-04-25T22:32:46.191Z"
   },
   {
    "duration": 22,
    "start_time": "2023-04-25T22:32:46.203Z"
   },
   {
    "duration": 13,
    "start_time": "2023-04-25T22:32:46.229Z"
   },
   {
    "duration": 8,
    "start_time": "2023-04-25T22:32:46.243Z"
   },
   {
    "duration": 12,
    "start_time": "2023-04-25T22:32:46.253Z"
   },
   {
    "duration": 24,
    "start_time": "2023-04-25T22:32:46.267Z"
   },
   {
    "duration": 6,
    "start_time": "2023-04-25T22:32:46.292Z"
   },
   {
    "duration": 5,
    "start_time": "2023-04-25T22:32:46.300Z"
   },
   {
    "duration": 8,
    "start_time": "2023-04-25T22:32:46.307Z"
   },
   {
    "duration": 5,
    "start_time": "2023-04-25T22:32:46.316Z"
   },
   {
    "duration": 28,
    "start_time": "2023-04-25T22:32:46.322Z"
   },
   {
    "duration": 12,
    "start_time": "2023-04-25T22:32:46.352Z"
   },
   {
    "duration": 21,
    "start_time": "2023-04-25T22:32:46.366Z"
   },
   {
    "duration": 164,
    "start_time": "2023-04-25T22:32:46.388Z"
   },
   {
    "duration": 5,
    "start_time": "2023-04-25T22:32:46.554Z"
   },
   {
    "duration": 9,
    "start_time": "2023-04-25T22:32:46.561Z"
   },
   {
    "duration": 145,
    "start_time": "2023-04-25T22:32:46.572Z"
   },
   {
    "duration": 172,
    "start_time": "2023-04-25T22:32:46.719Z"
   },
   {
    "duration": 253,
    "start_time": "2023-04-25T22:32:46.893Z"
   },
   {
    "duration": 267,
    "start_time": "2023-04-25T22:32:47.148Z"
   },
   {
    "duration": 208,
    "start_time": "2023-04-25T22:32:47.419Z"
   },
   {
    "duration": 214,
    "start_time": "2023-04-25T22:32:47.629Z"
   },
   {
    "duration": 276,
    "start_time": "2023-04-25T22:32:47.845Z"
   },
   {
    "duration": 226,
    "start_time": "2023-04-25T22:32:48.123Z"
   },
   {
    "duration": 187,
    "start_time": "2023-04-25T22:32:48.351Z"
   },
   {
    "duration": 25,
    "start_time": "2023-04-25T22:32:48.540Z"
   },
   {
    "duration": 27,
    "start_time": "2023-04-25T22:32:48.567Z"
   },
   {
    "duration": 23,
    "start_time": "2023-04-25T22:32:48.596Z"
   },
   {
    "duration": 9,
    "start_time": "2023-04-25T22:32:48.621Z"
   },
   {
    "duration": 400,
    "start_time": "2023-04-25T22:32:48.632Z"
   },
   {
    "duration": 407,
    "start_time": "2023-04-25T22:32:49.033Z"
   },
   {
    "duration": 119,
    "start_time": "2023-04-25T22:32:52.583Z"
   },
   {
    "duration": 48,
    "start_time": "2023-04-25T22:33:17.380Z"
   },
   {
    "duration": 15,
    "start_time": "2023-04-25T22:33:18.274Z"
   },
   {
    "duration": 11,
    "start_time": "2023-04-25T22:33:22.791Z"
   },
   {
    "duration": 16,
    "start_time": "2023-04-25T22:33:23.978Z"
   },
   {
    "duration": 13,
    "start_time": "2023-04-25T22:33:24.692Z"
   },
   {
    "duration": 20,
    "start_time": "2023-04-25T22:33:59.162Z"
   },
   {
    "duration": 17,
    "start_time": "2023-04-25T22:37:18.351Z"
   },
   {
    "duration": 17,
    "start_time": "2023-04-25T22:37:42.032Z"
   },
   {
    "duration": 8,
    "start_time": "2023-04-25T22:38:00.993Z"
   },
   {
    "duration": 11,
    "start_time": "2023-04-25T22:38:22.254Z"
   },
   {
    "duration": 7,
    "start_time": "2023-04-25T22:38:42.034Z"
   },
   {
    "duration": 571,
    "start_time": "2023-04-25T22:39:37.726Z"
   },
   {
    "duration": 715,
    "start_time": "2023-04-25T22:40:02.394Z"
   },
   {
    "duration": 591,
    "start_time": "2023-04-25T22:40:05.494Z"
   },
   {
    "duration": 572,
    "start_time": "2023-04-25T22:40:22.470Z"
   },
   {
    "duration": 5,
    "start_time": "2023-04-25T22:40:44.323Z"
   },
   {
    "duration": 6,
    "start_time": "2023-04-25T22:40:57.453Z"
   },
   {
    "duration": 12,
    "start_time": "2023-04-25T22:41:18.293Z"
   },
   {
    "duration": 8,
    "start_time": "2023-04-25T22:42:01.230Z"
   },
   {
    "duration": 13,
    "start_time": "2023-04-25T22:42:12.344Z"
   },
   {
    "duration": 12,
    "start_time": "2023-04-25T22:42:25.611Z"
   },
   {
    "duration": 10,
    "start_time": "2023-04-25T22:42:34.248Z"
   },
   {
    "duration": 10,
    "start_time": "2023-04-25T22:43:19.132Z"
   },
   {
    "duration": 11,
    "start_time": "2023-04-25T22:45:06.521Z"
   },
   {
    "duration": 10,
    "start_time": "2023-04-25T22:48:37.890Z"
   },
   {
    "duration": 11,
    "start_time": "2023-04-25T22:49:56.319Z"
   },
   {
    "duration": 12,
    "start_time": "2023-04-25T22:50:18.441Z"
   },
   {
    "duration": 11,
    "start_time": "2023-04-25T22:50:40.112Z"
   },
   {
    "duration": 10,
    "start_time": "2023-04-25T22:51:25.271Z"
   },
   {
    "duration": 11,
    "start_time": "2023-04-25T22:52:15.481Z"
   },
   {
    "duration": 11,
    "start_time": "2023-04-25T23:02:04.790Z"
   },
   {
    "duration": 18,
    "start_time": "2023-04-25T23:03:02.711Z"
   },
   {
    "duration": 9,
    "start_time": "2023-04-25T23:03:26.486Z"
   },
   {
    "duration": 6,
    "start_time": "2023-04-25T23:03:50.723Z"
   },
   {
    "duration": 6,
    "start_time": "2023-04-25T23:04:07.651Z"
   },
   {
    "duration": 9,
    "start_time": "2023-04-25T23:04:19.144Z"
   },
   {
    "duration": 8,
    "start_time": "2023-04-25T23:04:34.391Z"
   },
   {
    "duration": 6,
    "start_time": "2023-04-25T23:05:30.733Z"
   },
   {
    "duration": 6,
    "start_time": "2023-04-25T23:06:05.935Z"
   },
   {
    "duration": 8,
    "start_time": "2023-04-25T23:06:43.774Z"
   },
   {
    "duration": 8,
    "start_time": "2023-04-25T23:06:58.779Z"
   },
   {
    "duration": 8,
    "start_time": "2023-04-25T23:07:09.076Z"
   },
   {
    "duration": 9,
    "start_time": "2023-04-25T23:08:33.860Z"
   },
   {
    "duration": 9,
    "start_time": "2023-04-25T23:08:38.908Z"
   },
   {
    "duration": 8,
    "start_time": "2023-04-25T23:09:23.330Z"
   },
   {
    "duration": 11,
    "start_time": "2023-04-25T23:09:27.918Z"
   },
   {
    "duration": 8,
    "start_time": "2023-04-25T23:11:53.911Z"
   },
   {
    "duration": 9,
    "start_time": "2023-04-25T23:12:00.186Z"
   },
   {
    "duration": 9,
    "start_time": "2023-04-25T23:12:13.461Z"
   },
   {
    "duration": 20,
    "start_time": "2023-04-25T23:17:31.847Z"
   },
   {
    "duration": 10,
    "start_time": "2023-04-25T23:18:46.828Z"
   },
   {
    "duration": 8,
    "start_time": "2023-04-25T23:19:07.880Z"
   },
   {
    "duration": 8,
    "start_time": "2023-04-25T23:20:01.719Z"
   },
   {
    "duration": 7,
    "start_time": "2023-04-25T23:20:16.440Z"
   },
   {
    "duration": 8,
    "start_time": "2023-04-25T23:20:29.419Z"
   },
   {
    "duration": 18,
    "start_time": "2023-04-25T23:24:00.431Z"
   },
   {
    "duration": 3,
    "start_time": "2023-04-25T23:24:04.356Z"
   },
   {
    "duration": 65,
    "start_time": "2023-04-25T23:24:04.361Z"
   },
   {
    "duration": 9,
    "start_time": "2023-04-25T23:24:04.428Z"
   },
   {
    "duration": 11,
    "start_time": "2023-04-25T23:24:04.438Z"
   },
   {
    "duration": 10,
    "start_time": "2023-04-25T23:24:04.451Z"
   },
   {
    "duration": 11,
    "start_time": "2023-04-25T23:24:04.462Z"
   },
   {
    "duration": 12,
    "start_time": "2023-04-25T23:24:04.474Z"
   },
   {
    "duration": 10,
    "start_time": "2023-04-25T23:24:04.488Z"
   },
   {
    "duration": 11,
    "start_time": "2023-04-25T23:24:04.499Z"
   },
   {
    "duration": 12,
    "start_time": "2023-04-25T23:24:04.512Z"
   },
   {
    "duration": 8,
    "start_time": "2023-04-25T23:24:04.526Z"
   },
   {
    "duration": 9,
    "start_time": "2023-04-25T23:24:04.536Z"
   },
   {
    "duration": 42,
    "start_time": "2023-04-25T23:24:04.547Z"
   },
   {
    "duration": 16,
    "start_time": "2023-04-25T23:24:04.591Z"
   },
   {
    "duration": 6,
    "start_time": "2023-04-25T23:24:04.609Z"
   },
   {
    "duration": 9,
    "start_time": "2023-04-25T23:24:04.617Z"
   },
   {
    "duration": 6,
    "start_time": "2023-04-25T23:24:04.627Z"
   },
   {
    "duration": 11,
    "start_time": "2023-04-25T23:24:04.635Z"
   },
   {
    "duration": 42,
    "start_time": "2023-04-25T23:24:04.647Z"
   },
   {
    "duration": 7,
    "start_time": "2023-04-25T23:24:04.691Z"
   },
   {
    "duration": 165,
    "start_time": "2023-04-25T23:24:04.700Z"
   },
   {
    "duration": 6,
    "start_time": "2023-04-25T23:24:04.867Z"
   },
   {
    "duration": 6,
    "start_time": "2023-04-25T23:24:04.884Z"
   },
   {
    "duration": 231,
    "start_time": "2023-04-25T23:24:04.892Z"
   },
   {
    "duration": 176,
    "start_time": "2023-04-25T23:24:05.126Z"
   },
   {
    "duration": 263,
    "start_time": "2023-04-25T23:24:05.304Z"
   },
   {
    "duration": 257,
    "start_time": "2023-04-25T23:24:05.569Z"
   },
   {
    "duration": 198,
    "start_time": "2023-04-25T23:24:05.828Z"
   },
   {
    "duration": 211,
    "start_time": "2023-04-25T23:24:06.030Z"
   },
   {
    "duration": 192,
    "start_time": "2023-04-25T23:24:06.243Z"
   },
   {
    "duration": 195,
    "start_time": "2023-04-25T23:24:06.438Z"
   },
   {
    "duration": 285,
    "start_time": "2023-04-25T23:24:06.635Z"
   },
   {
    "duration": 27,
    "start_time": "2023-04-25T23:24:06.921Z"
   },
   {
    "duration": 14,
    "start_time": "2023-04-25T23:24:06.950Z"
   },
   {
    "duration": 22,
    "start_time": "2023-04-25T23:24:06.966Z"
   },
   {
    "duration": 5,
    "start_time": "2023-04-25T23:24:06.990Z"
   },
   {
    "duration": 419,
    "start_time": "2023-04-25T23:24:06.996Z"
   },
   {
    "duration": 436,
    "start_time": "2023-04-25T23:24:07.417Z"
   },
   {
    "duration": 49,
    "start_time": "2023-04-25T23:24:07.855Z"
   },
   {
    "duration": 12,
    "start_time": "2023-04-25T23:24:07.906Z"
   },
   {
    "duration": 12,
    "start_time": "2023-04-25T23:24:07.920Z"
   },
   {
    "duration": 11,
    "start_time": "2023-04-25T23:24:07.933Z"
   },
   {
    "duration": 44,
    "start_time": "2023-04-25T23:24:07.946Z"
   },
   {
    "duration": 10,
    "start_time": "2023-04-25T23:24:07.992Z"
   },
   {
    "duration": 9,
    "start_time": "2023-04-25T23:24:08.004Z"
   },
   {
    "duration": 8,
    "start_time": "2023-04-25T23:24:08.015Z"
   },
   {
    "duration": 8,
    "start_time": "2023-04-25T23:24:15.127Z"
   },
   {
    "duration": 12,
    "start_time": "2023-04-25T23:24:30.953Z"
   },
   {
    "duration": 47,
    "start_time": "2023-04-25T23:24:44.079Z"
   },
   {
    "duration": 14,
    "start_time": "2023-04-25T23:25:03.190Z"
   },
   {
    "duration": 7,
    "start_time": "2023-04-25T23:25:49.959Z"
   },
   {
    "duration": 14,
    "start_time": "2023-04-25T23:28:31.270Z"
   },
   {
    "duration": 8,
    "start_time": "2023-04-25T23:29:19.887Z"
   },
   {
    "duration": 8,
    "start_time": "2023-04-25T23:29:53.664Z"
   },
   {
    "duration": 8,
    "start_time": "2023-04-25T23:30:22.892Z"
   },
   {
    "duration": 6,
    "start_time": "2023-04-25T23:32:42.020Z"
   },
   {
    "duration": 11,
    "start_time": "2023-04-25T23:34:29.221Z"
   },
   {
    "duration": 4,
    "start_time": "2023-04-25T23:34:31.038Z"
   },
   {
    "duration": 101,
    "start_time": "2023-04-25T23:34:31.043Z"
   },
   {
    "duration": 9,
    "start_time": "2023-04-25T23:34:31.146Z"
   },
   {
    "duration": 52,
    "start_time": "2023-04-25T23:34:31.157Z"
   },
   {
    "duration": 48,
    "start_time": "2023-04-25T23:34:31.212Z"
   },
   {
    "duration": 60,
    "start_time": "2023-04-25T23:34:31.262Z"
   },
   {
    "duration": 40,
    "start_time": "2023-04-25T23:34:31.324Z"
   },
   {
    "duration": 53,
    "start_time": "2023-04-25T23:34:31.366Z"
   },
   {
    "duration": 29,
    "start_time": "2023-04-25T23:34:31.421Z"
   },
   {
    "duration": 51,
    "start_time": "2023-04-25T23:34:31.452Z"
   },
   {
    "duration": 48,
    "start_time": "2023-04-25T23:34:31.506Z"
   },
   {
    "duration": 31,
    "start_time": "2023-04-25T23:34:31.556Z"
   },
   {
    "duration": 36,
    "start_time": "2023-04-25T23:34:31.588Z"
   },
   {
    "duration": 14,
    "start_time": "2023-04-25T23:34:31.625Z"
   },
   {
    "duration": 10,
    "start_time": "2023-04-25T23:34:31.640Z"
   },
   {
    "duration": 26,
    "start_time": "2023-04-25T23:34:31.652Z"
   },
   {
    "duration": 12,
    "start_time": "2023-04-25T23:34:31.680Z"
   },
   {
    "duration": 25,
    "start_time": "2023-04-25T23:34:31.694Z"
   },
   {
    "duration": 30,
    "start_time": "2023-04-25T23:34:31.720Z"
   },
   {
    "duration": 23,
    "start_time": "2023-04-25T23:34:31.751Z"
   },
   {
    "duration": 157,
    "start_time": "2023-04-25T23:34:31.776Z"
   },
   {
    "duration": 5,
    "start_time": "2023-04-25T23:34:31.934Z"
   },
   {
    "duration": 7,
    "start_time": "2023-04-25T23:34:31.941Z"
   },
   {
    "duration": 138,
    "start_time": "2023-04-25T23:34:31.950Z"
   },
   {
    "duration": 253,
    "start_time": "2023-04-25T23:34:32.090Z"
   },
   {
    "duration": 271,
    "start_time": "2023-04-25T23:34:32.344Z"
   },
   {
    "duration": 275,
    "start_time": "2023-04-25T23:34:32.617Z"
   },
   {
    "duration": 195,
    "start_time": "2023-04-25T23:34:32.894Z"
   },
   {
    "duration": 200,
    "start_time": "2023-04-25T23:34:33.093Z"
   },
   {
    "duration": 176,
    "start_time": "2023-04-25T23:34:33.295Z"
   },
   {
    "duration": 195,
    "start_time": "2023-04-25T23:34:33.473Z"
   },
   {
    "duration": 179,
    "start_time": "2023-04-25T23:34:33.669Z"
   },
   {
    "duration": 35,
    "start_time": "2023-04-25T23:34:33.850Z"
   },
   {
    "duration": 14,
    "start_time": "2023-04-25T23:34:33.886Z"
   },
   {
    "duration": 8,
    "start_time": "2023-04-25T23:34:33.902Z"
   },
   {
    "duration": 7,
    "start_time": "2023-04-25T23:34:33.912Z"
   },
   {
    "duration": 532,
    "start_time": "2023-04-25T23:34:33.921Z"
   },
   {
    "duration": 415,
    "start_time": "2023-04-25T23:34:34.455Z"
   },
   {
    "duration": 49,
    "start_time": "2023-04-25T23:34:34.871Z"
   },
   {
    "duration": 12,
    "start_time": "2023-04-25T23:34:34.922Z"
   },
   {
    "duration": 12,
    "start_time": "2023-04-25T23:34:34.936Z"
   },
   {
    "duration": 17,
    "start_time": "2023-04-25T23:34:34.950Z"
   },
   {
    "duration": 22,
    "start_time": "2023-04-25T23:34:34.969Z"
   },
   {
    "duration": 12,
    "start_time": "2023-04-25T23:34:34.993Z"
   },
   {
    "duration": 9,
    "start_time": "2023-04-25T23:34:35.007Z"
   },
   {
    "duration": 6,
    "start_time": "2023-04-25T23:34:35.018Z"
   },
   {
    "duration": 19,
    "start_time": "2023-04-25T23:34:35.026Z"
   },
   {
    "duration": 3,
    "start_time": "2023-04-25T23:34:38.552Z"
   },
   {
    "duration": 68,
    "start_time": "2023-04-25T23:34:38.557Z"
   },
   {
    "duration": 9,
    "start_time": "2023-04-25T23:34:38.627Z"
   },
   {
    "duration": 11,
    "start_time": "2023-04-25T23:34:38.637Z"
   },
   {
    "duration": 9,
    "start_time": "2023-04-25T23:34:38.650Z"
   },
   {
    "duration": 12,
    "start_time": "2023-04-25T23:34:38.660Z"
   },
   {
    "duration": 16,
    "start_time": "2023-04-25T23:34:38.674Z"
   },
   {
    "duration": 11,
    "start_time": "2023-04-25T23:34:38.692Z"
   },
   {
    "duration": 7,
    "start_time": "2023-04-25T23:34:38.705Z"
   },
   {
    "duration": 13,
    "start_time": "2023-04-25T23:34:38.714Z"
   },
   {
    "duration": 8,
    "start_time": "2023-04-25T23:34:38.728Z"
   },
   {
    "duration": 7,
    "start_time": "2023-04-25T23:34:38.737Z"
   },
   {
    "duration": 41,
    "start_time": "2023-04-25T23:34:38.745Z"
   },
   {
    "duration": 7,
    "start_time": "2023-04-25T23:34:38.791Z"
   },
   {
    "duration": 6,
    "start_time": "2023-04-25T23:34:38.800Z"
   },
   {
    "duration": 8,
    "start_time": "2023-04-25T23:34:38.807Z"
   },
   {
    "duration": 5,
    "start_time": "2023-04-25T23:34:38.816Z"
   },
   {
    "duration": 12,
    "start_time": "2023-04-25T23:34:38.822Z"
   },
   {
    "duration": 28,
    "start_time": "2023-04-25T23:34:38.835Z"
   },
   {
    "duration": 31,
    "start_time": "2023-04-25T23:34:38.865Z"
   },
   {
    "duration": 166,
    "start_time": "2023-04-25T23:34:38.897Z"
   },
   {
    "duration": 5,
    "start_time": "2023-04-25T23:34:39.065Z"
   },
   {
    "duration": 26,
    "start_time": "2023-04-25T23:34:39.071Z"
   },
   {
    "duration": 131,
    "start_time": "2023-04-25T23:34:39.098Z"
   },
   {
    "duration": 166,
    "start_time": "2023-04-25T23:34:39.231Z"
   },
   {
    "duration": 341,
    "start_time": "2023-04-25T23:34:39.398Z"
   },
   {
    "duration": 265,
    "start_time": "2023-04-25T23:34:39.741Z"
   },
   {
    "duration": 190,
    "start_time": "2023-04-25T23:34:40.008Z"
   },
   {
    "duration": 204,
    "start_time": "2023-04-25T23:34:40.199Z"
   },
   {
    "duration": 180,
    "start_time": "2023-04-25T23:34:40.405Z"
   },
   {
    "duration": 199,
    "start_time": "2023-04-25T23:34:40.587Z"
   },
   {
    "duration": 185,
    "start_time": "2023-04-25T23:34:40.788Z"
   },
   {
    "duration": 30,
    "start_time": "2023-04-25T23:34:40.975Z"
   },
   {
    "duration": 14,
    "start_time": "2023-04-25T23:34:41.007Z"
   },
   {
    "duration": 7,
    "start_time": "2023-04-25T23:34:41.022Z"
   },
   {
    "duration": 5,
    "start_time": "2023-04-25T23:34:41.030Z"
   },
   {
    "duration": 408,
    "start_time": "2023-04-25T23:34:41.037Z"
   },
   {
    "duration": 495,
    "start_time": "2023-04-25T23:34:41.447Z"
   },
   {
    "duration": 53,
    "start_time": "2023-04-25T23:34:41.944Z"
   },
   {
    "duration": 12,
    "start_time": "2023-04-25T23:34:41.999Z"
   },
   {
    "duration": 11,
    "start_time": "2023-04-25T23:34:42.015Z"
   },
   {
    "duration": 12,
    "start_time": "2023-04-25T23:34:42.027Z"
   },
   {
    "duration": 12,
    "start_time": "2023-04-25T23:34:42.040Z"
   },
   {
    "duration": 33,
    "start_time": "2023-04-25T23:34:42.053Z"
   },
   {
    "duration": 11,
    "start_time": "2023-04-25T23:34:42.088Z"
   },
   {
    "duration": 4,
    "start_time": "2023-04-25T23:34:42.101Z"
   },
   {
    "duration": 22,
    "start_time": "2023-04-25T23:34:42.107Z"
   },
   {
    "duration": 3,
    "start_time": "2023-04-25T23:35:38.739Z"
   },
   {
    "duration": 11,
    "start_time": "2023-04-25T23:37:44.713Z"
   },
   {
    "duration": 11,
    "start_time": "2023-04-25T23:38:46.184Z"
   },
   {
    "duration": 11,
    "start_time": "2023-04-25T23:39:07.349Z"
   },
   {
    "duration": 11,
    "start_time": "2023-04-25T23:39:50.875Z"
   },
   {
    "duration": 14,
    "start_time": "2023-04-25T23:40:02.047Z"
   },
   {
    "duration": 15,
    "start_time": "2023-04-25T23:44:57.622Z"
   },
   {
    "duration": 13,
    "start_time": "2023-04-25T23:45:07.727Z"
   },
   {
    "duration": 12,
    "start_time": "2023-04-25T23:45:23.441Z"
   },
   {
    "duration": 11,
    "start_time": "2023-04-25T23:45:53.638Z"
   },
   {
    "duration": 10,
    "start_time": "2023-04-25T23:46:11.638Z"
   },
   {
    "duration": 11,
    "start_time": "2023-04-25T23:46:17.935Z"
   },
   {
    "duration": 11,
    "start_time": "2023-04-25T23:46:45.046Z"
   },
   {
    "duration": 10,
    "start_time": "2023-04-25T23:48:16.018Z"
   },
   {
    "duration": 11,
    "start_time": "2023-04-25T23:52:34.293Z"
   },
   {
    "duration": 10,
    "start_time": "2023-04-25T23:52:45.637Z"
   },
   {
    "duration": 3,
    "start_time": "2023-04-26T00:06:39.727Z"
   },
   {
    "duration": 92,
    "start_time": "2023-04-26T00:06:39.739Z"
   },
   {
    "duration": 8,
    "start_time": "2023-04-26T00:06:39.833Z"
   },
   {
    "duration": 13,
    "start_time": "2023-04-26T00:06:39.843Z"
   },
   {
    "duration": 7,
    "start_time": "2023-04-26T00:06:39.858Z"
   },
   {
    "duration": 10,
    "start_time": "2023-04-26T00:06:39.867Z"
   },
   {
    "duration": 7,
    "start_time": "2023-04-26T00:06:39.878Z"
   },
   {
    "duration": 23,
    "start_time": "2023-04-26T00:06:39.887Z"
   },
   {
    "duration": 12,
    "start_time": "2023-04-26T00:06:39.911Z"
   },
   {
    "duration": 19,
    "start_time": "2023-04-26T00:06:39.925Z"
   },
   {
    "duration": 8,
    "start_time": "2023-04-26T00:06:39.945Z"
   },
   {
    "duration": 8,
    "start_time": "2023-04-26T00:06:39.954Z"
   },
   {
    "duration": 6,
    "start_time": "2023-04-26T00:06:39.984Z"
   },
   {
    "duration": 14,
    "start_time": "2023-04-26T00:06:39.992Z"
   },
   {
    "duration": 7,
    "start_time": "2023-04-26T00:06:40.009Z"
   },
   {
    "duration": 13,
    "start_time": "2023-04-26T00:06:40.017Z"
   },
   {
    "duration": 5,
    "start_time": "2023-04-26T00:06:40.031Z"
   },
   {
    "duration": 14,
    "start_time": "2023-04-26T00:06:40.038Z"
   },
   {
    "duration": 33,
    "start_time": "2023-04-26T00:06:40.053Z"
   },
   {
    "duration": 8,
    "start_time": "2023-04-26T00:06:40.088Z"
   },
   {
    "duration": 156,
    "start_time": "2023-04-26T00:06:40.098Z"
   },
   {
    "duration": 5,
    "start_time": "2023-04-26T00:06:40.256Z"
   },
   {
    "duration": 22,
    "start_time": "2023-04-26T00:06:40.263Z"
   },
   {
    "duration": 141,
    "start_time": "2023-04-26T00:06:40.287Z"
   },
   {
    "duration": 187,
    "start_time": "2023-04-26T00:06:40.431Z"
   },
   {
    "duration": 268,
    "start_time": "2023-04-26T00:06:40.620Z"
   },
   {
    "duration": 263,
    "start_time": "2023-04-26T00:06:40.890Z"
   },
   {
    "duration": 204,
    "start_time": "2023-04-26T00:06:41.155Z"
   },
   {
    "duration": 298,
    "start_time": "2023-04-26T00:06:41.360Z"
   },
   {
    "duration": 190,
    "start_time": "2023-04-26T00:06:41.661Z"
   },
   {
    "duration": 200,
    "start_time": "2023-04-26T00:06:41.853Z"
   },
   {
    "duration": 186,
    "start_time": "2023-04-26T00:06:42.055Z"
   },
   {
    "duration": 27,
    "start_time": "2023-04-26T00:06:42.243Z"
   },
   {
    "duration": 14,
    "start_time": "2023-04-26T00:06:42.285Z"
   },
   {
    "duration": 15,
    "start_time": "2023-04-26T00:06:42.301Z"
   },
   {
    "duration": 7,
    "start_time": "2023-04-26T00:06:42.318Z"
   },
   {
    "duration": 412,
    "start_time": "2023-04-26T00:06:42.327Z"
   },
   {
    "duration": 401,
    "start_time": "2023-04-26T00:06:42.741Z"
   },
   {
    "duration": 53,
    "start_time": "2023-04-26T00:06:43.144Z"
   },
   {
    "duration": 12,
    "start_time": "2023-04-26T00:06:43.198Z"
   },
   {
    "duration": 11,
    "start_time": "2023-04-26T00:06:43.212Z"
   },
   {
    "duration": 11,
    "start_time": "2023-04-26T00:06:43.227Z"
   },
   {
    "duration": 24,
    "start_time": "2023-04-26T00:06:43.240Z"
   },
   {
    "duration": 28,
    "start_time": "2023-04-26T00:06:43.266Z"
   },
   {
    "duration": 12,
    "start_time": "2023-04-26T00:06:43.296Z"
   },
   {
    "duration": 8,
    "start_time": "2023-04-26T00:06:43.310Z"
   },
   {
    "duration": 13,
    "start_time": "2023-04-26T00:06:43.319Z"
   },
   {
    "duration": 3,
    "start_time": "2023-04-26T00:06:43.334Z"
   },
   {
    "duration": 1169,
    "start_time": "2023-04-26T17:23:42.079Z"
   },
   {
    "duration": 85,
    "start_time": "2023-04-26T17:23:43.251Z"
   },
   {
    "duration": 20,
    "start_time": "2023-04-26T17:23:43.340Z"
   },
   {
    "duration": 12,
    "start_time": "2023-04-26T17:23:43.362Z"
   },
   {
    "duration": 12,
    "start_time": "2023-04-26T17:23:43.377Z"
   },
   {
    "duration": 22,
    "start_time": "2023-04-26T17:23:43.391Z"
   },
   {
    "duration": 35,
    "start_time": "2023-04-26T17:23:43.415Z"
   },
   {
    "duration": 27,
    "start_time": "2023-04-26T17:23:43.452Z"
   },
   {
    "duration": 26,
    "start_time": "2023-04-26T17:23:43.481Z"
   },
   {
    "duration": 18,
    "start_time": "2023-04-26T17:23:43.509Z"
   },
   {
    "duration": 9,
    "start_time": "2023-04-26T17:23:43.528Z"
   },
   {
    "duration": 12,
    "start_time": "2023-04-26T17:23:43.539Z"
   },
   {
    "duration": 9,
    "start_time": "2023-04-26T17:23:43.553Z"
   },
   {
    "duration": 18,
    "start_time": "2023-04-26T17:23:43.565Z"
   },
   {
    "duration": 11,
    "start_time": "2023-04-26T17:23:43.585Z"
   },
   {
    "duration": 20,
    "start_time": "2023-04-26T17:23:43.598Z"
   },
   {
    "duration": 5,
    "start_time": "2023-04-26T17:23:43.620Z"
   },
   {
    "duration": 16,
    "start_time": "2023-04-26T17:23:43.627Z"
   },
   {
    "duration": 22,
    "start_time": "2023-04-26T17:23:43.644Z"
   },
   {
    "duration": 10,
    "start_time": "2023-04-26T17:23:43.668Z"
   },
   {
    "duration": 173,
    "start_time": "2023-04-26T17:23:43.680Z"
   },
   {
    "duration": 6,
    "start_time": "2023-04-26T17:23:43.855Z"
   },
   {
    "duration": 10,
    "start_time": "2023-04-26T17:23:43.863Z"
   },
   {
    "duration": 164,
    "start_time": "2023-04-26T17:23:43.874Z"
   },
   {
    "duration": 189,
    "start_time": "2023-04-26T17:23:44.040Z"
   },
   {
    "duration": 294,
    "start_time": "2023-04-26T17:23:44.231Z"
   },
   {
    "duration": 297,
    "start_time": "2023-04-26T17:23:44.527Z"
   },
   {
    "duration": 233,
    "start_time": "2023-04-26T17:23:44.826Z"
   },
   {
    "duration": 251,
    "start_time": "2023-04-26T17:23:45.061Z"
   },
   {
    "duration": 273,
    "start_time": "2023-04-26T17:23:45.314Z"
   },
   {
    "duration": 212,
    "start_time": "2023-04-26T17:23:45.594Z"
   },
   {
    "duration": 201,
    "start_time": "2023-04-26T17:23:45.808Z"
   },
   {
    "duration": 26,
    "start_time": "2023-04-26T17:23:46.012Z"
   },
   {
    "duration": 15,
    "start_time": "2023-04-26T17:23:46.040Z"
   },
   {
    "duration": 23,
    "start_time": "2023-04-26T17:23:46.057Z"
   },
   {
    "duration": 6,
    "start_time": "2023-04-26T17:23:46.092Z"
   },
   {
    "duration": 439,
    "start_time": "2023-04-26T17:23:46.100Z"
   },
   {
    "duration": 427,
    "start_time": "2023-04-26T17:23:46.541Z"
   },
   {
    "duration": 66,
    "start_time": "2023-04-26T17:23:46.971Z"
   },
   {
    "duration": 14,
    "start_time": "2023-04-26T17:23:47.039Z"
   },
   {
    "duration": 22,
    "start_time": "2023-04-26T17:23:47.057Z"
   },
   {
    "duration": 28,
    "start_time": "2023-04-26T17:23:47.081Z"
   },
   {
    "duration": 33,
    "start_time": "2023-04-26T17:23:47.112Z"
   },
   {
    "duration": 20,
    "start_time": "2023-04-26T17:23:47.147Z"
   },
   {
    "duration": 20,
    "start_time": "2023-04-26T17:23:47.168Z"
   },
   {
    "duration": 8,
    "start_time": "2023-04-26T17:23:47.190Z"
   },
   {
    "duration": 14,
    "start_time": "2023-04-26T17:23:47.200Z"
   },
   {
    "duration": 16,
    "start_time": "2023-04-26T17:23:47.216Z"
   },
   {
    "duration": 1163,
    "start_time": "2023-04-26T19:23:08.897Z"
   },
   {
    "duration": 68,
    "start_time": "2023-04-26T19:23:10.062Z"
   },
   {
    "duration": 22,
    "start_time": "2023-04-26T19:23:10.132Z"
   },
   {
    "duration": 13,
    "start_time": "2023-04-26T19:23:10.156Z"
   },
   {
    "duration": 10,
    "start_time": "2023-04-26T19:23:10.171Z"
   },
   {
    "duration": 25,
    "start_time": "2023-04-26T19:23:10.183Z"
   },
   {
    "duration": 13,
    "start_time": "2023-04-26T19:23:10.211Z"
   },
   {
    "duration": 19,
    "start_time": "2023-04-26T19:23:10.227Z"
   },
   {
    "duration": 11,
    "start_time": "2023-04-26T19:23:10.249Z"
   },
   {
    "duration": 41,
    "start_time": "2023-04-26T19:23:10.264Z"
   },
   {
    "duration": 15,
    "start_time": "2023-04-26T19:23:10.308Z"
   },
   {
    "duration": 8,
    "start_time": "2023-04-26T19:23:10.326Z"
   },
   {
    "duration": 7,
    "start_time": "2023-04-26T19:23:10.337Z"
   },
   {
    "duration": 9,
    "start_time": "2023-04-26T19:23:10.346Z"
   },
   {
    "duration": 43,
    "start_time": "2023-04-26T19:23:10.356Z"
   },
   {
    "duration": 9,
    "start_time": "2023-04-26T19:23:10.401Z"
   },
   {
    "duration": 5,
    "start_time": "2023-04-26T19:23:10.411Z"
   },
   {
    "duration": 11,
    "start_time": "2023-04-26T19:23:10.418Z"
   },
   {
    "duration": 4,
    "start_time": "2023-04-26T19:23:10.431Z"
   },
   {
    "duration": 6,
    "start_time": "2023-04-26T19:23:10.436Z"
   },
   {
    "duration": 227,
    "start_time": "2023-04-26T19:23:10.444Z"
   },
   {
    "duration": 6,
    "start_time": "2023-04-26T19:23:10.673Z"
   },
   {
    "duration": 6,
    "start_time": "2023-04-26T19:23:10.692Z"
   },
   {
    "duration": 157,
    "start_time": "2023-04-26T19:23:10.700Z"
   },
   {
    "duration": 225,
    "start_time": "2023-04-26T19:23:10.859Z"
   },
   {
    "duration": 325,
    "start_time": "2023-04-26T19:23:11.092Z"
   },
   {
    "duration": 307,
    "start_time": "2023-04-26T19:23:11.419Z"
   },
   {
    "duration": 314,
    "start_time": "2023-04-26T19:23:11.730Z"
   },
   {
    "duration": 321,
    "start_time": "2023-04-26T19:23:12.046Z"
   },
   {
    "duration": 303,
    "start_time": "2023-04-26T19:23:12.369Z"
   },
   {
    "duration": 277,
    "start_time": "2023-04-26T19:23:12.675Z"
   },
   {
    "duration": 221,
    "start_time": "2023-04-26T19:23:12.955Z"
   },
   {
    "duration": 59,
    "start_time": "2023-04-26T19:23:13.181Z"
   },
   {
    "duration": 28,
    "start_time": "2023-04-26T19:23:13.243Z"
   },
   {
    "duration": 29,
    "start_time": "2023-04-26T19:23:13.274Z"
   },
   {
    "duration": 7,
    "start_time": "2023-04-26T19:23:13.306Z"
   },
   {
    "duration": 458,
    "start_time": "2023-04-26T19:23:13.315Z"
   },
   {
    "duration": 453,
    "start_time": "2023-04-26T19:23:13.775Z"
   },
   {
    "duration": 46,
    "start_time": "2023-04-26T19:23:14.230Z"
   },
   {
    "duration": 27,
    "start_time": "2023-04-26T19:23:14.278Z"
   },
   {
    "duration": 15,
    "start_time": "2023-04-26T19:23:14.307Z"
   },
   {
    "duration": 15,
    "start_time": "2023-04-26T19:23:14.325Z"
   },
   {
    "duration": 16,
    "start_time": "2023-04-26T19:23:14.341Z"
   },
   {
    "duration": 15,
    "start_time": "2023-04-26T19:23:14.393Z"
   },
   {
    "duration": 16,
    "start_time": "2023-04-26T19:23:14.411Z"
   },
   {
    "duration": 13,
    "start_time": "2023-04-26T19:23:14.429Z"
   },
   {
    "duration": 28,
    "start_time": "2023-04-26T19:23:14.444Z"
   },
   {
    "duration": 24,
    "start_time": "2023-04-26T19:23:14.474Z"
   },
   {
    "duration": 6,
    "start_time": "2023-04-26T19:45:36.207Z"
   },
   {
    "duration": 27,
    "start_time": "2023-04-26T19:46:09.833Z"
   },
   {
    "duration": 7,
    "start_time": "2023-04-26T19:46:23.584Z"
   },
   {
    "duration": 18,
    "start_time": "2023-04-26T19:46:27.564Z"
   },
   {
    "duration": 9,
    "start_time": "2023-04-26T19:46:37.025Z"
   },
   {
    "duration": 8,
    "start_time": "2023-04-26T19:48:50.829Z"
   },
   {
    "duration": 9,
    "start_time": "2023-04-26T19:48:55.273Z"
   },
   {
    "duration": 118,
    "start_time": "2023-04-26T19:49:04.785Z"
   },
   {
    "duration": 7,
    "start_time": "2023-04-26T19:49:09.022Z"
   },
   {
    "duration": 16,
    "start_time": "2023-04-26T19:49:15.969Z"
   },
   {
    "duration": 17,
    "start_time": "2023-04-26T19:49:27.267Z"
   },
   {
    "duration": 18,
    "start_time": "2023-04-26T19:49:36.614Z"
   },
   {
    "duration": 1427,
    "start_time": "2023-04-26T19:49:50.605Z"
   },
   {
    "duration": 92,
    "start_time": "2023-04-26T19:49:52.035Z"
   },
   {
    "duration": 19,
    "start_time": "2023-04-26T19:49:52.130Z"
   },
   {
    "duration": 20,
    "start_time": "2023-04-26T19:49:52.152Z"
   },
   {
    "duration": 17,
    "start_time": "2023-04-26T19:49:52.176Z"
   },
   {
    "duration": 18,
    "start_time": "2023-04-26T19:49:52.195Z"
   },
   {
    "duration": 16,
    "start_time": "2023-04-26T19:49:52.215Z"
   },
   {
    "duration": 16,
    "start_time": "2023-04-26T19:49:52.238Z"
   },
   {
    "duration": 15,
    "start_time": "2023-04-26T19:49:52.260Z"
   },
   {
    "duration": 31,
    "start_time": "2023-04-26T19:49:52.277Z"
   },
   {
    "duration": 16,
    "start_time": "2023-04-26T19:49:52.310Z"
   },
   {
    "duration": 11,
    "start_time": "2023-04-26T19:49:52.330Z"
   },
   {
    "duration": 8,
    "start_time": "2023-04-26T19:49:52.343Z"
   },
   {
    "duration": 7,
    "start_time": "2023-04-26T19:49:52.356Z"
   },
   {
    "duration": 29,
    "start_time": "2023-04-26T19:49:52.366Z"
   },
   {
    "duration": 13,
    "start_time": "2023-04-26T19:49:52.397Z"
   },
   {
    "duration": 7,
    "start_time": "2023-04-26T19:49:52.412Z"
   },
   {
    "duration": 35,
    "start_time": "2023-04-26T19:49:52.423Z"
   },
   {
    "duration": 9,
    "start_time": "2023-04-26T19:49:52.461Z"
   },
   {
    "duration": 10,
    "start_time": "2023-04-26T19:49:52.473Z"
   },
   {
    "duration": 255,
    "start_time": "2023-04-26T19:49:52.487Z"
   },
   {
    "duration": 8,
    "start_time": "2023-04-26T19:49:52.744Z"
   },
   {
    "duration": 7,
    "start_time": "2023-04-26T19:49:52.754Z"
   },
   {
    "duration": 216,
    "start_time": "2023-04-26T19:49:52.764Z"
   },
   {
    "duration": 263,
    "start_time": "2023-04-26T19:49:52.982Z"
   },
   {
    "duration": 350,
    "start_time": "2023-04-26T19:49:53.249Z"
   },
   {
    "duration": 336,
    "start_time": "2023-04-26T19:49:53.602Z"
   },
   {
    "duration": 231,
    "start_time": "2023-04-26T19:49:53.941Z"
   },
   {
    "duration": 242,
    "start_time": "2023-04-26T19:49:54.175Z"
   },
   {
    "duration": 296,
    "start_time": "2023-04-26T19:49:54.419Z"
   },
   {
    "duration": 225,
    "start_time": "2023-04-26T19:49:54.717Z"
   },
   {
    "duration": 215,
    "start_time": "2023-04-26T19:49:54.944Z"
   },
   {
    "duration": 50,
    "start_time": "2023-04-26T19:49:55.161Z"
   },
   {
    "duration": 20,
    "start_time": "2023-04-26T19:49:55.214Z"
   },
   {
    "duration": 11,
    "start_time": "2023-04-26T19:49:55.235Z"
   },
   {
    "duration": 9,
    "start_time": "2023-04-26T19:49:55.248Z"
   },
   {
    "duration": 471,
    "start_time": "2023-04-26T19:49:55.260Z"
   },
   {
    "duration": 628,
    "start_time": "2023-04-26T19:49:55.733Z"
   },
   {
    "duration": 68,
    "start_time": "2023-04-26T19:49:56.363Z"
   },
   {
    "duration": 17,
    "start_time": "2023-04-26T19:49:56.436Z"
   },
   {
    "duration": 26,
    "start_time": "2023-04-26T19:49:56.458Z"
   },
   {
    "duration": 17,
    "start_time": "2023-04-26T19:49:56.486Z"
   },
   {
    "duration": 18,
    "start_time": "2023-04-26T19:49:56.505Z"
   },
   {
    "duration": 6,
    "start_time": "2023-04-26T19:49:56.526Z"
   },
   {
    "duration": 1893,
    "start_time": "2023-04-26T19:49:56.533Z"
   },
   {
    "duration": 0,
    "start_time": "2023-04-26T19:49:58.429Z"
   },
   {
    "duration": 0,
    "start_time": "2023-04-26T19:49:58.431Z"
   },
   {
    "duration": 0,
    "start_time": "2023-04-26T19:49:58.432Z"
   },
   {
    "duration": 0,
    "start_time": "2023-04-26T19:49:58.433Z"
   },
   {
    "duration": 0,
    "start_time": "2023-04-26T19:49:58.435Z"
   },
   {
    "duration": 23,
    "start_time": "2023-04-26T19:50:16.885Z"
   },
   {
    "duration": 23,
    "start_time": "2023-04-26T19:50:30.213Z"
   },
   {
    "duration": 22,
    "start_time": "2023-04-26T19:50:37.544Z"
   },
   {
    "duration": 13,
    "start_time": "2023-04-26T19:51:10.721Z"
   },
   {
    "duration": 1868,
    "start_time": "2023-04-26T19:51:30.686Z"
   },
   {
    "duration": 1570,
    "start_time": "2023-04-26T19:51:40.087Z"
   },
   {
    "duration": 9,
    "start_time": "2023-04-26T19:51:57.243Z"
   },
   {
    "duration": 1136,
    "start_time": "2023-04-26T19:52:52.620Z"
   },
   {
    "duration": 71,
    "start_time": "2023-04-26T19:52:53.759Z"
   },
   {
    "duration": 13,
    "start_time": "2023-04-26T19:52:53.833Z"
   },
   {
    "duration": 15,
    "start_time": "2023-04-26T19:52:53.848Z"
   },
   {
    "duration": 12,
    "start_time": "2023-04-26T19:52:53.866Z"
   },
   {
    "duration": 20,
    "start_time": "2023-04-26T19:52:53.880Z"
   },
   {
    "duration": 9,
    "start_time": "2023-04-26T19:52:53.902Z"
   },
   {
    "duration": 11,
    "start_time": "2023-04-26T19:52:53.913Z"
   },
   {
    "duration": 15,
    "start_time": "2023-04-26T19:52:53.926Z"
   },
   {
    "duration": 14,
    "start_time": "2023-04-26T19:52:53.942Z"
   },
   {
    "duration": 35,
    "start_time": "2023-04-26T19:52:53.958Z"
   },
   {
    "duration": 5,
    "start_time": "2023-04-26T19:52:53.995Z"
   },
   {
    "duration": 17,
    "start_time": "2023-04-26T19:52:54.002Z"
   },
   {
    "duration": 22,
    "start_time": "2023-04-26T19:52:54.022Z"
   },
   {
    "duration": 6,
    "start_time": "2023-04-26T19:52:54.045Z"
   },
   {
    "duration": 8,
    "start_time": "2023-04-26T19:52:54.053Z"
   },
   {
    "duration": 5,
    "start_time": "2023-04-26T19:52:54.063Z"
   },
   {
    "duration": 32,
    "start_time": "2023-04-26T19:52:54.069Z"
   },
   {
    "duration": 5,
    "start_time": "2023-04-26T19:52:54.103Z"
   },
   {
    "duration": 8,
    "start_time": "2023-04-26T19:52:54.110Z"
   },
   {
    "duration": 201,
    "start_time": "2023-04-26T19:52:54.120Z"
   },
   {
    "duration": 5,
    "start_time": "2023-04-26T19:52:54.324Z"
   },
   {
    "duration": 11,
    "start_time": "2023-04-26T19:52:54.331Z"
   },
   {
    "duration": 173,
    "start_time": "2023-04-26T19:52:54.344Z"
   },
   {
    "duration": 194,
    "start_time": "2023-04-26T19:52:54.519Z"
   },
   {
    "duration": 308,
    "start_time": "2023-04-26T19:52:54.715Z"
   },
   {
    "duration": 301,
    "start_time": "2023-04-26T19:52:55.024Z"
   },
   {
    "duration": 220,
    "start_time": "2023-04-26T19:52:55.327Z"
   },
   {
    "duration": 228,
    "start_time": "2023-04-26T19:52:55.549Z"
   },
   {
    "duration": 280,
    "start_time": "2023-04-26T19:52:55.779Z"
   },
   {
    "duration": 217,
    "start_time": "2023-04-26T19:52:56.061Z"
   },
   {
    "duration": 211,
    "start_time": "2023-04-26T19:52:56.279Z"
   },
   {
    "duration": 37,
    "start_time": "2023-04-26T19:52:56.493Z"
   },
   {
    "duration": 15,
    "start_time": "2023-04-26T19:52:56.532Z"
   },
   {
    "duration": 12,
    "start_time": "2023-04-26T19:52:56.549Z"
   },
   {
    "duration": 32,
    "start_time": "2023-04-26T19:52:56.562Z"
   },
   {
    "duration": 449,
    "start_time": "2023-04-26T19:52:56.596Z"
   },
   {
    "duration": 461,
    "start_time": "2023-04-26T19:52:57.046Z"
   },
   {
    "duration": 51,
    "start_time": "2023-04-26T19:52:57.509Z"
   },
   {
    "duration": 13,
    "start_time": "2023-04-26T19:52:57.562Z"
   },
   {
    "duration": 14,
    "start_time": "2023-04-26T19:52:57.596Z"
   },
   {
    "duration": 16,
    "start_time": "2023-04-26T19:52:57.612Z"
   },
   {
    "duration": 15,
    "start_time": "2023-04-26T19:52:57.630Z"
   },
   {
    "duration": 12,
    "start_time": "2023-04-26T19:52:57.647Z"
   },
   {
    "duration": 44,
    "start_time": "2023-04-26T19:52:57.661Z"
   },
   {
    "duration": 8,
    "start_time": "2023-04-26T19:52:57.707Z"
   },
   {
    "duration": 13,
    "start_time": "2023-04-26T19:52:57.717Z"
   },
   {
    "duration": 4,
    "start_time": "2023-04-26T19:52:57.732Z"
   },
   {
    "duration": 4,
    "start_time": "2023-04-26T19:58:07.616Z"
   },
   {
    "duration": 3,
    "start_time": "2023-04-26T19:58:17.148Z"
   },
   {
    "duration": 1196,
    "start_time": "2023-04-26T19:58:37.460Z"
   },
   {
    "duration": 71,
    "start_time": "2023-04-26T19:58:38.658Z"
   },
   {
    "duration": 13,
    "start_time": "2023-04-26T19:58:38.730Z"
   },
   {
    "duration": 39,
    "start_time": "2023-04-26T19:58:38.744Z"
   },
   {
    "duration": 41,
    "start_time": "2023-04-26T19:58:38.786Z"
   },
   {
    "duration": 45,
    "start_time": "2023-04-26T19:58:38.828Z"
   },
   {
    "duration": 19,
    "start_time": "2023-04-26T19:58:38.874Z"
   },
   {
    "duration": 50,
    "start_time": "2023-04-26T19:58:38.895Z"
   },
   {
    "duration": 22,
    "start_time": "2023-04-26T19:58:38.946Z"
   },
   {
    "duration": 45,
    "start_time": "2023-04-26T19:58:38.970Z"
   },
   {
    "duration": 29,
    "start_time": "2023-04-26T19:58:39.017Z"
   },
   {
    "duration": 25,
    "start_time": "2023-04-26T19:58:39.047Z"
   },
   {
    "duration": 32,
    "start_time": "2023-04-26T19:58:39.074Z"
   },
   {
    "duration": 17,
    "start_time": "2023-04-26T19:58:39.109Z"
   },
   {
    "duration": 34,
    "start_time": "2023-04-26T19:58:39.128Z"
   },
   {
    "duration": 30,
    "start_time": "2023-04-26T19:58:39.164Z"
   },
   {
    "duration": 16,
    "start_time": "2023-04-26T19:58:39.197Z"
   },
   {
    "duration": 33,
    "start_time": "2023-04-26T19:58:39.215Z"
   },
   {
    "duration": 6,
    "start_time": "2023-04-26T19:58:39.250Z"
   },
   {
    "duration": 35,
    "start_time": "2023-04-26T19:58:39.258Z"
   },
   {
    "duration": 180,
    "start_time": "2023-04-26T19:58:39.295Z"
   },
   {
    "duration": 6,
    "start_time": "2023-04-26T19:58:39.476Z"
   },
   {
    "duration": 34,
    "start_time": "2023-04-26T19:58:39.483Z"
   },
   {
    "duration": 165,
    "start_time": "2023-04-26T19:58:39.519Z"
   },
   {
    "duration": 196,
    "start_time": "2023-04-26T19:58:39.686Z"
   },
   {
    "duration": 286,
    "start_time": "2023-04-26T19:58:39.885Z"
   },
   {
    "duration": 297,
    "start_time": "2023-04-26T19:58:40.173Z"
   },
   {
    "duration": 230,
    "start_time": "2023-04-26T19:58:40.472Z"
   },
   {
    "duration": 231,
    "start_time": "2023-04-26T19:58:40.705Z"
   },
   {
    "duration": 285,
    "start_time": "2023-04-26T19:58:40.938Z"
   },
   {
    "duration": 218,
    "start_time": "2023-04-26T19:58:41.225Z"
   },
   {
    "duration": 202,
    "start_time": "2023-04-26T19:58:41.445Z"
   },
   {
    "duration": 28,
    "start_time": "2023-04-26T19:58:41.649Z"
   },
   {
    "duration": 22,
    "start_time": "2023-04-26T19:58:41.679Z"
   },
   {
    "duration": 14,
    "start_time": "2023-04-26T19:58:41.703Z"
   },
   {
    "duration": 21,
    "start_time": "2023-04-26T19:58:41.719Z"
   },
   {
    "duration": 479,
    "start_time": "2023-04-26T19:58:41.742Z"
   },
   {
    "duration": 465,
    "start_time": "2023-04-26T19:58:42.223Z"
   },
   {
    "duration": 49,
    "start_time": "2023-04-26T19:58:42.693Z"
   },
   {
    "duration": 13,
    "start_time": "2023-04-26T19:58:42.743Z"
   },
   {
    "duration": 35,
    "start_time": "2023-04-26T19:58:42.760Z"
   },
   {
    "duration": 25,
    "start_time": "2023-04-26T19:58:42.797Z"
   },
   {
    "duration": 23,
    "start_time": "2023-04-26T19:58:42.824Z"
   },
   {
    "duration": 115,
    "start_time": "2023-04-26T19:58:42.849Z"
   },
   {
    "duration": 0,
    "start_time": "2023-04-26T19:58:42.966Z"
   },
   {
    "duration": 0,
    "start_time": "2023-04-26T19:58:42.967Z"
   },
   {
    "duration": 0,
    "start_time": "2023-04-26T19:58:42.968Z"
   },
   {
    "duration": 0,
    "start_time": "2023-04-26T19:58:42.969Z"
   },
   {
    "duration": 0,
    "start_time": "2023-04-26T19:58:42.970Z"
   },
   {
    "duration": 0,
    "start_time": "2023-04-26T19:58:42.971Z"
   },
   {
    "duration": 0,
    "start_time": "2023-04-26T19:58:42.972Z"
   },
   {
    "duration": 0,
    "start_time": "2023-04-26T19:58:42.973Z"
   },
   {
    "duration": 3,
    "start_time": "2023-04-26T20:00:16.608Z"
   },
   {
    "duration": 9,
    "start_time": "2023-04-26T20:00:20.928Z"
   },
   {
    "duration": 5,
    "start_time": "2023-04-26T20:00:21.901Z"
   },
   {
    "duration": 8,
    "start_time": "2023-04-26T20:00:48.747Z"
   },
   {
    "duration": 12,
    "start_time": "2023-04-26T20:06:44.476Z"
   },
   {
    "duration": 13,
    "start_time": "2023-04-26T20:07:49.515Z"
   },
   {
    "duration": 15,
    "start_time": "2023-04-26T20:08:02.116Z"
   },
   {
    "duration": 13,
    "start_time": "2023-04-26T20:08:09.320Z"
   },
   {
    "duration": 1177,
    "start_time": "2023-04-26T20:13:47.206Z"
   },
   {
    "duration": 68,
    "start_time": "2023-04-26T20:13:48.385Z"
   },
   {
    "duration": 14,
    "start_time": "2023-04-26T20:13:48.455Z"
   },
   {
    "duration": 16,
    "start_time": "2023-04-26T20:13:48.471Z"
   },
   {
    "duration": 23,
    "start_time": "2023-04-26T20:13:48.489Z"
   },
   {
    "duration": 12,
    "start_time": "2023-04-26T20:13:48.514Z"
   },
   {
    "duration": 9,
    "start_time": "2023-04-26T20:13:48.528Z"
   },
   {
    "duration": 11,
    "start_time": "2023-04-26T20:13:48.539Z"
   },
   {
    "duration": 11,
    "start_time": "2023-04-26T20:13:48.552Z"
   },
   {
    "duration": 28,
    "start_time": "2023-04-26T20:13:48.566Z"
   },
   {
    "duration": 9,
    "start_time": "2023-04-26T20:13:48.596Z"
   },
   {
    "duration": 8,
    "start_time": "2023-04-26T20:13:48.608Z"
   },
   {
    "duration": 8,
    "start_time": "2023-04-26T20:13:48.619Z"
   },
   {
    "duration": 9,
    "start_time": "2023-04-26T20:13:48.629Z"
   },
   {
    "duration": 8,
    "start_time": "2023-04-26T20:13:48.640Z"
   },
   {
    "duration": 46,
    "start_time": "2023-04-26T20:13:48.650Z"
   },
   {
    "duration": 7,
    "start_time": "2023-04-26T20:13:48.697Z"
   },
   {
    "duration": 12,
    "start_time": "2023-04-26T20:13:48.705Z"
   },
   {
    "duration": 4,
    "start_time": "2023-04-26T20:13:48.720Z"
   },
   {
    "duration": 8,
    "start_time": "2023-04-26T20:13:48.726Z"
   },
   {
    "duration": 196,
    "start_time": "2023-04-26T20:13:48.735Z"
   },
   {
    "duration": 7,
    "start_time": "2023-04-26T20:13:48.932Z"
   },
   {
    "duration": 18,
    "start_time": "2023-04-26T20:13:48.941Z"
   },
   {
    "duration": 175,
    "start_time": "2023-04-26T20:13:48.961Z"
   },
   {
    "duration": 211,
    "start_time": "2023-04-26T20:13:49.138Z"
   },
   {
    "duration": 281,
    "start_time": "2023-04-26T20:13:49.352Z"
   },
   {
    "duration": 289,
    "start_time": "2023-04-26T20:13:49.634Z"
   },
   {
    "duration": 227,
    "start_time": "2023-04-26T20:13:49.926Z"
   },
   {
    "duration": 254,
    "start_time": "2023-04-26T20:13:50.155Z"
   },
   {
    "duration": 274,
    "start_time": "2023-04-26T20:13:50.411Z"
   },
   {
    "duration": 205,
    "start_time": "2023-04-26T20:13:50.686Z"
   },
   {
    "duration": 193,
    "start_time": "2023-04-26T20:13:50.893Z"
   },
   {
    "duration": 28,
    "start_time": "2023-04-26T20:13:51.088Z"
   },
   {
    "duration": 15,
    "start_time": "2023-04-26T20:13:51.117Z"
   },
   {
    "duration": 16,
    "start_time": "2023-04-26T20:13:51.134Z"
   },
   {
    "duration": 16,
    "start_time": "2023-04-26T20:13:51.152Z"
   },
   {
    "duration": 448,
    "start_time": "2023-04-26T20:13:51.170Z"
   },
   {
    "duration": 491,
    "start_time": "2023-04-26T20:13:51.619Z"
   },
   {
    "duration": 47,
    "start_time": "2023-04-26T20:13:52.112Z"
   },
   {
    "duration": 13,
    "start_time": "2023-04-26T20:13:52.160Z"
   },
   {
    "duration": 26,
    "start_time": "2023-04-26T20:13:52.174Z"
   },
   {
    "duration": 20,
    "start_time": "2023-04-26T20:13:52.201Z"
   },
   {
    "duration": 26,
    "start_time": "2023-04-26T20:13:52.223Z"
   },
   {
    "duration": 12,
    "start_time": "2023-04-26T20:13:52.251Z"
   },
   {
    "duration": 12,
    "start_time": "2023-04-26T20:13:52.265Z"
   },
   {
    "duration": 15,
    "start_time": "2023-04-26T20:13:52.279Z"
   },
   {
    "duration": 15,
    "start_time": "2023-04-26T20:13:52.296Z"
   },
   {
    "duration": 13,
    "start_time": "2023-04-26T20:13:52.312Z"
   },
   {
    "duration": 7,
    "start_time": "2023-04-26T20:14:51.704Z"
   },
   {
    "duration": 11,
    "start_time": "2023-04-26T20:16:04.784Z"
   },
   {
    "duration": 11,
    "start_time": "2023-04-26T20:16:11.529Z"
   },
   {
    "duration": 5,
    "start_time": "2023-04-26T20:16:34.448Z"
   },
   {
    "duration": 5,
    "start_time": "2023-04-26T20:17:59.316Z"
   },
   {
    "duration": 70,
    "start_time": "2023-04-27T13:00:57.465Z"
   },
   {
    "duration": 1297,
    "start_time": "2023-04-27T13:01:07.285Z"
   },
   {
    "duration": 341,
    "start_time": "2023-04-27T13:01:08.585Z"
   },
   {
    "duration": 19,
    "start_time": "2023-04-27T13:01:08.929Z"
   },
   {
    "duration": 15,
    "start_time": "2023-04-27T13:01:08.950Z"
   },
   {
    "duration": 12,
    "start_time": "2023-04-27T13:01:08.968Z"
   },
   {
    "duration": 31,
    "start_time": "2023-04-27T13:01:08.982Z"
   },
   {
    "duration": 11,
    "start_time": "2023-04-27T13:01:09.015Z"
   },
   {
    "duration": 22,
    "start_time": "2023-04-27T13:01:09.029Z"
   },
   {
    "duration": 8,
    "start_time": "2023-04-27T13:01:09.054Z"
   },
   {
    "duration": 21,
    "start_time": "2023-04-27T13:01:09.064Z"
   },
   {
    "duration": 30,
    "start_time": "2023-04-27T13:01:09.087Z"
   },
   {
    "duration": 8,
    "start_time": "2023-04-27T13:01:09.119Z"
   },
   {
    "duration": 6,
    "start_time": "2023-04-27T13:01:09.129Z"
   },
   {
    "duration": 7,
    "start_time": "2023-04-27T13:01:09.138Z"
   },
   {
    "duration": 11,
    "start_time": "2023-04-27T13:01:09.147Z"
   },
   {
    "duration": 10,
    "start_time": "2023-04-27T13:01:09.159Z"
   },
   {
    "duration": 44,
    "start_time": "2023-04-27T13:01:09.170Z"
   },
   {
    "duration": 11,
    "start_time": "2023-04-27T13:01:09.216Z"
   },
   {
    "duration": 5,
    "start_time": "2023-04-27T13:01:09.229Z"
   },
   {
    "duration": 9,
    "start_time": "2023-04-27T13:01:09.236Z"
   },
   {
    "duration": 186,
    "start_time": "2023-04-27T13:01:09.247Z"
   },
   {
    "duration": 6,
    "start_time": "2023-04-27T13:01:09.435Z"
   },
   {
    "duration": 18,
    "start_time": "2023-04-27T13:01:09.443Z"
   },
   {
    "duration": 149,
    "start_time": "2023-04-27T13:01:09.464Z"
   },
   {
    "duration": 15,
    "start_time": "2023-04-27T13:01:09.615Z"
   },
   {
    "duration": 194,
    "start_time": "2023-04-27T13:01:09.632Z"
   },
   {
    "duration": 275,
    "start_time": "2023-04-27T13:01:09.828Z"
   },
   {
    "duration": 277,
    "start_time": "2023-04-27T13:01:10.111Z"
   },
   {
    "duration": 224,
    "start_time": "2023-04-27T13:01:10.390Z"
   },
   {
    "duration": 229,
    "start_time": "2023-04-27T13:01:10.615Z"
   },
   {
    "duration": 282,
    "start_time": "2023-04-27T13:01:10.846Z"
   },
   {
    "duration": 203,
    "start_time": "2023-04-27T13:01:11.130Z"
   },
   {
    "duration": 199,
    "start_time": "2023-04-27T13:01:11.335Z"
   },
   {
    "duration": 29,
    "start_time": "2023-04-27T13:01:11.535Z"
   },
   {
    "duration": 15,
    "start_time": "2023-04-27T13:01:11.566Z"
   },
   {
    "duration": 30,
    "start_time": "2023-04-27T13:01:11.583Z"
   },
   {
    "duration": 6,
    "start_time": "2023-04-27T13:01:11.615Z"
   },
   {
    "duration": 443,
    "start_time": "2023-04-27T13:01:11.623Z"
   },
   {
    "duration": 431,
    "start_time": "2023-04-27T13:01:12.068Z"
   },
   {
    "duration": 58,
    "start_time": "2023-04-27T13:01:12.500Z"
   },
   {
    "duration": 13,
    "start_time": "2023-04-27T13:01:12.562Z"
   },
   {
    "duration": 15,
    "start_time": "2023-04-27T13:01:12.576Z"
   },
   {
    "duration": 28,
    "start_time": "2023-04-27T13:01:12.592Z"
   },
   {
    "duration": 12,
    "start_time": "2023-04-27T13:01:12.622Z"
   },
   {
    "duration": 20,
    "start_time": "2023-04-27T13:01:12.636Z"
   },
   {
    "duration": 12,
    "start_time": "2023-04-27T13:01:12.658Z"
   },
   {
    "duration": 19,
    "start_time": "2023-04-27T13:01:12.672Z"
   },
   {
    "duration": 27,
    "start_time": "2023-04-27T13:01:12.693Z"
   },
   {
    "duration": 3,
    "start_time": "2023-04-27T13:01:12.722Z"
   },
   {
    "duration": 24,
    "start_time": "2023-04-27T13:02:12.187Z"
   },
   {
    "duration": 23,
    "start_time": "2023-04-27T13:02:34.020Z"
   },
   {
    "duration": 65,
    "start_time": "2023-04-27T13:02:39.535Z"
   },
   {
    "duration": 23,
    "start_time": "2023-04-27T13:02:49.636Z"
   },
   {
    "duration": 46,
    "start_time": "2023-04-27T13:08:17.346Z"
   },
   {
    "duration": 3,
    "start_time": "2023-04-27T13:08:19.877Z"
   },
   {
    "duration": 70,
    "start_time": "2023-04-27T13:08:19.882Z"
   },
   {
    "duration": 9,
    "start_time": "2023-04-27T13:08:19.953Z"
   },
   {
    "duration": 13,
    "start_time": "2023-04-27T13:08:19.964Z"
   },
   {
    "duration": 9,
    "start_time": "2023-04-27T13:08:19.980Z"
   },
   {
    "duration": 22,
    "start_time": "2023-04-27T13:08:19.990Z"
   },
   {
    "duration": 8,
    "start_time": "2023-04-27T13:08:20.013Z"
   },
   {
    "duration": 32,
    "start_time": "2023-04-27T13:08:20.023Z"
   },
   {
    "duration": 19,
    "start_time": "2023-04-27T13:08:20.057Z"
   },
   {
    "duration": 26,
    "start_time": "2023-04-27T13:08:20.078Z"
   },
   {
    "duration": 9,
    "start_time": "2023-04-27T13:08:20.107Z"
   },
   {
    "duration": 7,
    "start_time": "2023-04-27T13:08:20.117Z"
   },
   {
    "duration": 35,
    "start_time": "2023-04-27T13:08:20.125Z"
   },
   {
    "duration": 20,
    "start_time": "2023-04-27T13:08:20.161Z"
   },
   {
    "duration": 6,
    "start_time": "2023-04-27T13:08:20.182Z"
   },
   {
    "duration": 19,
    "start_time": "2023-04-27T13:08:20.189Z"
   },
   {
    "duration": 4,
    "start_time": "2023-04-27T13:08:20.210Z"
   },
   {
    "duration": 24,
    "start_time": "2023-04-27T13:08:20.216Z"
   },
   {
    "duration": 4,
    "start_time": "2023-04-27T13:08:20.241Z"
   },
   {
    "duration": 7,
    "start_time": "2023-04-27T13:08:20.246Z"
   },
   {
    "duration": 160,
    "start_time": "2023-04-27T13:08:20.254Z"
   },
   {
    "duration": 5,
    "start_time": "2023-04-27T13:08:20.416Z"
   },
   {
    "duration": 18,
    "start_time": "2023-04-27T13:08:20.423Z"
   },
   {
    "duration": 239,
    "start_time": "2023-04-27T13:08:20.443Z"
   },
   {
    "duration": 14,
    "start_time": "2023-04-27T13:08:20.684Z"
   },
   {
    "duration": 177,
    "start_time": "2023-04-27T13:08:20.712Z"
   },
   {
    "duration": 279,
    "start_time": "2023-04-27T13:08:20.891Z"
   },
   {
    "duration": 266,
    "start_time": "2023-04-27T13:08:21.171Z"
   },
   {
    "duration": 22,
    "start_time": "2023-04-27T13:08:21.440Z"
   },
   {
    "duration": 210,
    "start_time": "2023-04-27T13:08:21.463Z"
   },
   {
    "duration": 213,
    "start_time": "2023-04-27T13:08:21.674Z"
   },
   {
    "duration": 190,
    "start_time": "2023-04-27T13:08:21.890Z"
   },
   {
    "duration": 32,
    "start_time": "2023-04-27T13:08:22.081Z"
   },
   {
    "duration": 282,
    "start_time": "2023-04-27T13:08:22.114Z"
   },
   {
    "duration": 196,
    "start_time": "2023-04-27T13:08:22.397Z"
   },
   {
    "duration": 35,
    "start_time": "2023-04-27T13:08:22.595Z"
   },
   {
    "duration": 13,
    "start_time": "2023-04-27T13:08:22.632Z"
   },
   {
    "duration": 10,
    "start_time": "2023-04-27T13:08:22.647Z"
   },
   {
    "duration": 26,
    "start_time": "2023-04-27T13:08:22.659Z"
   },
   {
    "duration": 428,
    "start_time": "2023-04-27T13:08:22.687Z"
   },
   {
    "duration": 448,
    "start_time": "2023-04-27T13:08:23.116Z"
   },
   {
    "duration": 57,
    "start_time": "2023-04-27T13:08:23.565Z"
   },
   {
    "duration": 14,
    "start_time": "2023-04-27T13:08:23.624Z"
   },
   {
    "duration": 26,
    "start_time": "2023-04-27T13:08:23.640Z"
   },
   {
    "duration": 17,
    "start_time": "2023-04-27T13:08:23.668Z"
   },
   {
    "duration": 15,
    "start_time": "2023-04-27T13:08:23.687Z"
   },
   {
    "duration": 30,
    "start_time": "2023-04-27T13:08:23.704Z"
   },
   {
    "duration": 32,
    "start_time": "2023-04-27T13:08:23.736Z"
   },
   {
    "duration": 38,
    "start_time": "2023-04-27T13:08:23.770Z"
   },
   {
    "duration": 14,
    "start_time": "2023-04-27T13:08:23.810Z"
   },
   {
    "duration": 58,
    "start_time": "2023-04-27T13:10:02.845Z"
   },
   {
    "duration": 8,
    "start_time": "2023-04-27T13:39:34.843Z"
   },
   {
    "duration": 18,
    "start_time": "2023-04-27T13:39:52.843Z"
   },
   {
    "duration": 10,
    "start_time": "2023-04-27T13:40:12.597Z"
   },
   {
    "duration": 9,
    "start_time": "2023-04-27T13:40:29.776Z"
   },
   {
    "duration": 55,
    "start_time": "2023-04-27T16:36:43.801Z"
   },
   {
    "duration": 1250,
    "start_time": "2023-04-27T16:37:02.805Z"
   },
   {
    "duration": 544,
    "start_time": "2023-04-27T16:37:04.058Z"
   },
   {
    "duration": 13,
    "start_time": "2023-04-27T16:37:04.604Z"
   },
   {
    "duration": 11,
    "start_time": "2023-04-27T16:37:04.618Z"
   },
   {
    "duration": 10,
    "start_time": "2023-04-27T16:37:04.630Z"
   },
   {
    "duration": 20,
    "start_time": "2023-04-27T16:37:04.641Z"
   },
   {
    "duration": 6,
    "start_time": "2023-04-27T16:37:04.662Z"
   },
   {
    "duration": 11,
    "start_time": "2023-04-27T16:37:04.669Z"
   },
   {
    "duration": 8,
    "start_time": "2023-04-27T16:37:04.691Z"
   },
   {
    "duration": 15,
    "start_time": "2023-04-27T16:37:04.702Z"
   },
   {
    "duration": 9,
    "start_time": "2023-04-27T16:37:04.718Z"
   },
   {
    "duration": 7,
    "start_time": "2023-04-27T16:37:04.728Z"
   },
   {
    "duration": 6,
    "start_time": "2023-04-27T16:37:04.736Z"
   },
   {
    "duration": 5,
    "start_time": "2023-04-27T16:37:04.744Z"
   },
   {
    "duration": 4,
    "start_time": "2023-04-27T16:37:04.751Z"
   },
   {
    "duration": 10,
    "start_time": "2023-04-27T16:37:04.792Z"
   },
   {
    "duration": 4,
    "start_time": "2023-04-27T16:37:04.804Z"
   },
   {
    "duration": 10,
    "start_time": "2023-04-27T16:37:04.810Z"
   },
   {
    "duration": 4,
    "start_time": "2023-04-27T16:37:04.821Z"
   },
   {
    "duration": 7,
    "start_time": "2023-04-27T16:37:04.826Z"
   },
   {
    "duration": 184,
    "start_time": "2023-04-27T16:37:04.835Z"
   },
   {
    "duration": 6,
    "start_time": "2023-04-27T16:37:05.020Z"
   },
   {
    "duration": 10,
    "start_time": "2023-04-27T16:37:05.027Z"
   },
   {
    "duration": 147,
    "start_time": "2023-04-27T16:37:05.038Z"
   },
   {
    "duration": 14,
    "start_time": "2023-04-27T16:37:05.191Z"
   },
   {
    "duration": 180,
    "start_time": "2023-04-27T16:37:05.206Z"
   },
   {
    "duration": 268,
    "start_time": "2023-04-27T16:37:05.391Z"
   },
   {
    "duration": 260,
    "start_time": "2023-04-27T16:37:05.663Z"
   },
   {
    "duration": 8,
    "start_time": "2023-04-27T16:37:05.924Z"
   },
   {
    "duration": 207,
    "start_time": "2023-04-27T16:37:05.934Z"
   },
   {
    "duration": 205,
    "start_time": "2023-04-27T16:37:06.142Z"
   },
   {
    "duration": 288,
    "start_time": "2023-04-27T16:37:06.349Z"
   },
   {
    "duration": 9,
    "start_time": "2023-04-27T16:37:06.639Z"
   },
   {
    "duration": 208,
    "start_time": "2023-04-27T16:37:06.649Z"
   },
   {
    "duration": 192,
    "start_time": "2023-04-27T16:37:06.858Z"
   },
   {
    "duration": 27,
    "start_time": "2023-04-27T16:37:07.052Z"
   },
   {
    "duration": 25,
    "start_time": "2023-04-27T16:37:07.081Z"
   },
   {
    "duration": 10,
    "start_time": "2023-04-27T16:37:07.107Z"
   },
   {
    "duration": 6,
    "start_time": "2023-04-27T16:37:07.119Z"
   },
   {
    "duration": 476,
    "start_time": "2023-04-27T16:37:07.127Z"
   },
   {
    "duration": 465,
    "start_time": "2023-04-27T16:37:07.605Z"
   },
   {
    "duration": 127,
    "start_time": "2023-04-27T16:37:08.071Z"
   },
   {
    "duration": 13,
    "start_time": "2023-04-27T16:37:08.200Z"
   },
   {
    "duration": 15,
    "start_time": "2023-04-27T16:37:08.215Z"
   },
   {
    "duration": 13,
    "start_time": "2023-04-27T16:37:08.232Z"
   },
   {
    "duration": 22,
    "start_time": "2023-04-27T16:37:08.246Z"
   },
   {
    "duration": 27,
    "start_time": "2023-04-27T16:37:08.270Z"
   },
   {
    "duration": 27,
    "start_time": "2023-04-27T16:37:08.299Z"
   },
   {
    "duration": 8,
    "start_time": "2023-04-27T16:37:08.328Z"
   },
   {
    "duration": 18,
    "start_time": "2023-04-27T16:37:08.338Z"
   },
   {
    "duration": 11,
    "start_time": "2023-04-27T16:38:21.589Z"
   },
   {
    "duration": 13,
    "start_time": "2023-04-27T16:39:57.615Z"
   },
   {
    "duration": 12,
    "start_time": "2023-04-27T16:43:50.631Z"
   },
   {
    "duration": 10,
    "start_time": "2023-04-27T16:44:51.252Z"
   },
   {
    "duration": 11,
    "start_time": "2023-04-27T16:45:06.779Z"
   },
   {
    "duration": 11,
    "start_time": "2023-04-27T16:45:15.812Z"
   },
   {
    "duration": 156,
    "start_time": "2023-04-27T18:41:39.801Z"
   },
   {
    "duration": 126,
    "start_time": "2023-04-27T18:42:32.172Z"
   },
   {
    "duration": 11,
    "start_time": "2023-04-27T18:45:37.809Z"
   },
   {
    "duration": 99,
    "start_time": "2023-04-27T19:37:52.248Z"
   },
   {
    "duration": 94,
    "start_time": "2023-04-27T19:38:57.951Z"
   },
   {
    "duration": 95,
    "start_time": "2023-04-27T19:39:13.015Z"
   },
   {
    "duration": 100,
    "start_time": "2023-04-27T19:39:31.611Z"
   },
   {
    "duration": 99,
    "start_time": "2023-04-27T19:39:44.175Z"
   },
   {
    "duration": 107,
    "start_time": "2023-04-27T19:39:50.639Z"
   },
   {
    "duration": 153,
    "start_time": "2023-04-27T19:40:08.508Z"
   },
   {
    "duration": 100,
    "start_time": "2023-04-27T19:40:14.264Z"
   },
   {
    "duration": 133,
    "start_time": "2023-04-27T19:41:26.283Z"
   },
   {
    "duration": 110,
    "start_time": "2023-04-27T19:41:32.904Z"
   },
   {
    "duration": 116,
    "start_time": "2023-04-27T19:42:02.086Z"
   },
   {
    "duration": 186,
    "start_time": "2023-04-27T19:42:08.538Z"
   },
   {
    "duration": 104,
    "start_time": "2023-04-27T19:42:20.473Z"
   },
   {
    "duration": 48,
    "start_time": "2023-04-27T19:44:55.824Z"
   },
   {
    "duration": 143,
    "start_time": "2023-04-27T19:45:03.833Z"
   },
   {
    "duration": 14,
    "start_time": "2023-04-27T19:45:34.663Z"
   },
   {
    "duration": 14,
    "start_time": "2023-04-27T19:45:47.855Z"
   },
   {
    "duration": 155,
    "start_time": "2023-04-27T19:46:19.016Z"
   },
   {
    "duration": 10,
    "start_time": "2023-04-27T19:48:33.123Z"
   },
   {
    "duration": 13,
    "start_time": "2023-04-27T19:48:41.231Z"
   },
   {
    "duration": 10,
    "start_time": "2023-04-27T19:48:49.638Z"
   },
   {
    "duration": 206,
    "start_time": "2023-04-27T19:48:57.541Z"
   },
   {
    "duration": 13,
    "start_time": "2023-04-27T19:54:48.178Z"
   },
   {
    "duration": 14,
    "start_time": "2023-04-27T19:55:01.470Z"
   },
   {
    "duration": 57,
    "start_time": "2023-04-27T19:55:27.963Z"
   },
   {
    "duration": 49,
    "start_time": "2023-04-27T19:56:50.717Z"
   },
   {
    "duration": 12,
    "start_time": "2023-04-27T19:56:57.557Z"
   },
   {
    "duration": 15,
    "start_time": "2023-04-27T19:57:17.664Z"
   },
   {
    "duration": 172,
    "start_time": "2023-04-27T19:57:35.410Z"
   },
   {
    "duration": 12,
    "start_time": "2023-04-27T19:57:54.344Z"
   },
   {
    "duration": 14,
    "start_time": "2023-04-27T19:58:11.880Z"
   },
   {
    "duration": 165,
    "start_time": "2023-04-27T19:58:20.782Z"
   },
   {
    "duration": 11,
    "start_time": "2023-04-27T20:12:38.748Z"
   },
   {
    "duration": 12,
    "start_time": "2023-04-27T20:39:39.931Z"
   },
   {
    "duration": 7,
    "start_time": "2023-04-27T20:40:28.129Z"
   },
   {
    "duration": 11,
    "start_time": "2023-04-27T20:43:10.826Z"
   },
   {
    "duration": 5,
    "start_time": "2023-04-27T20:43:21.692Z"
   },
   {
    "duration": 6,
    "start_time": "2023-04-27T20:43:50.587Z"
   },
   {
    "duration": 6,
    "start_time": "2023-04-27T21:59:25.526Z"
   },
   {
    "duration": 14,
    "start_time": "2023-04-27T22:01:10.349Z"
   },
   {
    "duration": 9,
    "start_time": "2023-04-27T22:02:05.015Z"
   },
   {
    "duration": 6,
    "start_time": "2023-04-27T22:03:23.268Z"
   },
   {
    "duration": 8,
    "start_time": "2023-04-27T22:03:25.533Z"
   },
   {
    "duration": 3,
    "start_time": "2023-04-27T22:06:06.582Z"
   },
   {
    "duration": 5,
    "start_time": "2023-04-27T22:06:14.162Z"
   },
   {
    "duration": 3,
    "start_time": "2023-04-27T22:07:10.973Z"
   },
   {
    "duration": 4,
    "start_time": "2023-04-27T22:11:05.823Z"
   },
   {
    "duration": 6,
    "start_time": "2023-04-27T22:12:45.682Z"
   },
   {
    "duration": 5,
    "start_time": "2023-04-27T22:14:58.650Z"
   },
   {
    "duration": 4,
    "start_time": "2023-04-27T22:15:05.308Z"
   },
   {
    "duration": 5,
    "start_time": "2023-04-27T22:18:02.455Z"
   },
   {
    "duration": 7,
    "start_time": "2023-04-27T22:18:25.343Z"
   },
   {
    "duration": 7,
    "start_time": "2023-04-27T22:20:07.048Z"
   },
   {
    "duration": 10,
    "start_time": "2023-04-27T22:20:33.959Z"
   },
   {
    "duration": 7,
    "start_time": "2023-04-27T22:21:05.037Z"
   },
   {
    "duration": 23,
    "start_time": "2023-04-27T22:28:45.048Z"
   },
   {
    "duration": 10,
    "start_time": "2023-04-27T22:30:09.430Z"
   },
   {
    "duration": 17,
    "start_time": "2023-04-27T22:31:51.308Z"
   },
   {
    "duration": 3,
    "start_time": "2023-04-27T22:33:38.101Z"
   },
   {
    "duration": 3,
    "start_time": "2023-04-27T22:33:43.043Z"
   },
   {
    "duration": 5,
    "start_time": "2023-04-27T22:33:49.098Z"
   },
   {
    "duration": 747,
    "start_time": "2023-04-27T22:39:56.439Z"
   },
   {
    "duration": 50,
    "start_time": "2023-04-27T22:40:40.096Z"
   },
   {
    "duration": 779,
    "start_time": "2023-04-27T22:40:48.462Z"
   },
   {
    "duration": 8,
    "start_time": "2023-04-27T22:43:23.055Z"
   },
   {
    "duration": 15,
    "start_time": "2023-04-27T22:43:37.610Z"
   },
   {
    "duration": 11,
    "start_time": "2023-04-27T22:43:58.949Z"
   },
   {
    "duration": 12,
    "start_time": "2023-04-27T22:44:06.160Z"
   },
   {
    "duration": 13,
    "start_time": "2023-04-27T22:44:24.135Z"
   },
   {
    "duration": 4,
    "start_time": "2023-04-27T22:46:08.402Z"
   },
   {
    "duration": 76,
    "start_time": "2023-04-27T22:46:08.408Z"
   },
   {
    "duration": 9,
    "start_time": "2023-04-27T22:46:08.486Z"
   },
   {
    "duration": 15,
    "start_time": "2023-04-27T22:46:08.497Z"
   },
   {
    "duration": 13,
    "start_time": "2023-04-27T22:46:08.515Z"
   },
   {
    "duration": 16,
    "start_time": "2023-04-27T22:46:08.531Z"
   },
   {
    "duration": 7,
    "start_time": "2023-04-27T22:46:08.549Z"
   },
   {
    "duration": 12,
    "start_time": "2023-04-27T22:46:08.591Z"
   },
   {
    "duration": 7,
    "start_time": "2023-04-27T22:46:08.605Z"
   },
   {
    "duration": 14,
    "start_time": "2023-04-27T22:46:08.614Z"
   },
   {
    "duration": 9,
    "start_time": "2023-04-27T22:46:08.630Z"
   },
   {
    "duration": 6,
    "start_time": "2023-04-27T22:46:08.640Z"
   },
   {
    "duration": 45,
    "start_time": "2023-04-27T22:46:08.647Z"
   },
   {
    "duration": 7,
    "start_time": "2023-04-27T22:46:08.694Z"
   },
   {
    "duration": 7,
    "start_time": "2023-04-27T22:46:08.703Z"
   },
   {
    "duration": 13,
    "start_time": "2023-04-27T22:46:08.711Z"
   },
   {
    "duration": 5,
    "start_time": "2023-04-27T22:46:08.726Z"
   },
   {
    "duration": 57,
    "start_time": "2023-04-27T22:46:08.733Z"
   },
   {
    "duration": 6,
    "start_time": "2023-04-27T22:46:08.792Z"
   },
   {
    "duration": 6,
    "start_time": "2023-04-27T22:46:08.799Z"
   },
   {
    "duration": 170,
    "start_time": "2023-04-27T22:46:08.807Z"
   },
   {
    "duration": 14,
    "start_time": "2023-04-27T22:46:08.978Z"
   },
   {
    "duration": 7,
    "start_time": "2023-04-27T22:46:08.994Z"
   },
   {
    "duration": 179,
    "start_time": "2023-04-27T22:46:09.003Z"
   },
   {
    "duration": 107,
    "start_time": "2023-04-27T22:46:09.192Z"
   },
   {
    "duration": 15,
    "start_time": "2023-04-27T22:46:09.302Z"
   },
   {
    "duration": 203,
    "start_time": "2023-04-27T22:46:09.319Z"
   },
   {
    "duration": 352,
    "start_time": "2023-04-27T22:46:09.524Z"
   },
   {
    "duration": 281,
    "start_time": "2023-04-27T22:46:09.880Z"
   },
   {
    "duration": 8,
    "start_time": "2023-04-27T22:46:10.163Z"
   },
   {
    "duration": 224,
    "start_time": "2023-04-27T22:46:10.173Z"
   },
   {
    "duration": 235,
    "start_time": "2023-04-27T22:46:10.399Z"
   },
   {
    "duration": 193,
    "start_time": "2023-04-27T22:46:10.636Z"
   },
   {
    "duration": 10,
    "start_time": "2023-04-27T22:46:10.830Z"
   },
   {
    "duration": 224,
    "start_time": "2023-04-27T22:46:10.842Z"
   },
   {
    "duration": 203,
    "start_time": "2023-04-27T22:46:11.068Z"
   },
   {
    "duration": 34,
    "start_time": "2023-04-27T22:46:11.273Z"
   },
   {
    "duration": 14,
    "start_time": "2023-04-27T22:46:11.309Z"
   },
   {
    "duration": 10,
    "start_time": "2023-04-27T22:46:11.326Z"
   },
   {
    "duration": 8,
    "start_time": "2023-04-27T22:46:11.339Z"
   },
   {
    "duration": 542,
    "start_time": "2023-04-27T22:46:11.349Z"
   },
   {
    "duration": 429,
    "start_time": "2023-04-27T22:46:11.893Z"
   },
   {
    "duration": 45,
    "start_time": "2023-04-27T22:46:12.324Z"
   },
   {
    "duration": 25,
    "start_time": "2023-04-27T22:46:12.371Z"
   },
   {
    "duration": 14,
    "start_time": "2023-04-27T22:46:12.398Z"
   },
   {
    "duration": 14,
    "start_time": "2023-04-27T22:46:12.414Z"
   },
   {
    "duration": 12,
    "start_time": "2023-04-27T22:46:12.429Z"
   },
   {
    "duration": 13,
    "start_time": "2023-04-27T22:46:12.443Z"
   },
   {
    "duration": 37,
    "start_time": "2023-04-27T22:46:12.457Z"
   },
   {
    "duration": 6,
    "start_time": "2023-04-27T22:46:12.495Z"
   },
   {
    "duration": 10,
    "start_time": "2023-04-27T22:46:12.503Z"
   },
   {
    "duration": 1193,
    "start_time": "2023-04-28T17:55:33.233Z"
   },
   {
    "duration": 67,
    "start_time": "2023-04-28T17:55:34.428Z"
   },
   {
    "duration": 15,
    "start_time": "2023-04-28T17:55:34.497Z"
   },
   {
    "duration": 15,
    "start_time": "2023-04-28T17:55:34.514Z"
   },
   {
    "duration": 11,
    "start_time": "2023-04-28T17:55:34.530Z"
   },
   {
    "duration": 14,
    "start_time": "2023-04-28T17:55:34.542Z"
   },
   {
    "duration": 7,
    "start_time": "2023-04-28T17:55:34.557Z"
   },
   {
    "duration": 13,
    "start_time": "2023-04-28T17:55:34.567Z"
   },
   {
    "duration": 10,
    "start_time": "2023-04-28T17:55:34.582Z"
   },
   {
    "duration": 22,
    "start_time": "2023-04-28T17:55:34.594Z"
   },
   {
    "duration": 9,
    "start_time": "2023-04-28T17:55:34.617Z"
   },
   {
    "duration": 7,
    "start_time": "2023-04-28T17:55:34.627Z"
   },
   {
    "duration": 8,
    "start_time": "2023-04-28T17:55:34.660Z"
   },
   {
    "duration": 12,
    "start_time": "2023-04-28T17:55:34.669Z"
   },
   {
    "duration": 7,
    "start_time": "2023-04-28T17:55:34.684Z"
   },
   {
    "duration": 12,
    "start_time": "2023-04-28T17:55:34.693Z"
   },
   {
    "duration": 5,
    "start_time": "2023-04-28T17:55:34.707Z"
   },
   {
    "duration": 11,
    "start_time": "2023-04-28T17:55:34.714Z"
   },
   {
    "duration": 5,
    "start_time": "2023-04-28T17:55:34.759Z"
   },
   {
    "duration": 8,
    "start_time": "2023-04-28T17:55:34.766Z"
   },
   {
    "duration": 177,
    "start_time": "2023-04-28T17:55:34.776Z"
   },
   {
    "duration": 6,
    "start_time": "2023-04-28T17:55:34.955Z"
   },
   {
    "duration": 7,
    "start_time": "2023-04-28T17:55:34.963Z"
   },
   {
    "duration": 192,
    "start_time": "2023-04-28T17:55:34.972Z"
   },
   {
    "duration": 107,
    "start_time": "2023-04-28T17:55:35.166Z"
   },
   {
    "duration": 15,
    "start_time": "2023-04-28T17:55:35.274Z"
   },
   {
    "duration": 196,
    "start_time": "2023-04-28T17:55:35.291Z"
   },
   {
    "duration": 278,
    "start_time": "2023-04-28T17:55:35.491Z"
   },
   {
    "duration": 276,
    "start_time": "2023-04-28T17:55:35.771Z"
   },
   {
    "duration": 15,
    "start_time": "2023-04-28T17:55:36.049Z"
   },
   {
    "duration": 223,
    "start_time": "2023-04-28T17:55:36.065Z"
   },
   {
    "duration": 305,
    "start_time": "2023-04-28T17:55:36.290Z"
   },
   {
    "duration": 192,
    "start_time": "2023-04-28T17:55:36.597Z"
   },
   {
    "duration": 10,
    "start_time": "2023-04-28T17:55:36.790Z"
   },
   {
    "duration": 207,
    "start_time": "2023-04-28T17:55:36.801Z"
   },
   {
    "duration": 184,
    "start_time": "2023-04-28T17:55:37.010Z"
   },
   {
    "duration": 26,
    "start_time": "2023-04-28T17:55:37.196Z"
   },
   {
    "duration": 13,
    "start_time": "2023-04-28T17:55:37.224Z"
   },
   {
    "duration": 28,
    "start_time": "2023-04-28T17:55:37.239Z"
   },
   {
    "duration": 5,
    "start_time": "2023-04-28T17:55:37.269Z"
   },
   {
    "duration": 416,
    "start_time": "2023-04-28T17:55:37.275Z"
   },
   {
    "duration": 433,
    "start_time": "2023-04-28T17:55:37.692Z"
   },
   {
    "duration": 146,
    "start_time": "2023-04-28T17:55:38.127Z"
   },
   {
    "duration": 14,
    "start_time": "2023-04-28T17:55:38.275Z"
   },
   {
    "duration": 14,
    "start_time": "2023-04-28T17:55:38.291Z"
   },
   {
    "duration": 12,
    "start_time": "2023-04-28T17:55:38.306Z"
   },
   {
    "duration": 12,
    "start_time": "2023-04-28T17:55:38.320Z"
   },
   {
    "duration": 36,
    "start_time": "2023-04-28T17:55:38.333Z"
   },
   {
    "duration": 7,
    "start_time": "2023-04-28T17:55:38.371Z"
   },
   {
    "duration": 7,
    "start_time": "2023-04-28T17:55:38.380Z"
   },
   {
    "duration": 13,
    "start_time": "2023-04-28T17:55:38.388Z"
   },
   {
    "duration": 7,
    "start_time": "2023-04-28T18:05:41.122Z"
   },
   {
    "duration": 7,
    "start_time": "2023-04-28T18:05:45.874Z"
   },
   {
    "duration": 7,
    "start_time": "2023-04-28T18:05:48.674Z"
   },
   {
    "duration": 1166,
    "start_time": "2023-04-28T21:13:39.231Z"
   },
   {
    "duration": 223,
    "start_time": "2023-04-28T21:13:40.399Z"
   },
   {
    "duration": 10,
    "start_time": "2023-04-28T21:13:40.624Z"
   },
   {
    "duration": 10,
    "start_time": "2023-04-28T21:13:40.636Z"
   },
   {
    "duration": 14,
    "start_time": "2023-04-28T21:13:40.648Z"
   },
   {
    "duration": 24,
    "start_time": "2023-04-28T21:13:40.663Z"
   },
   {
    "duration": 17,
    "start_time": "2023-04-28T21:13:40.688Z"
   },
   {
    "duration": 10,
    "start_time": "2023-04-28T21:13:40.706Z"
   },
   {
    "duration": 7,
    "start_time": "2023-04-28T21:13:40.717Z"
   },
   {
    "duration": 11,
    "start_time": "2023-04-28T21:13:40.725Z"
   },
   {
    "duration": 6,
    "start_time": "2023-04-28T21:13:40.737Z"
   },
   {
    "duration": 8,
    "start_time": "2023-04-28T21:13:40.744Z"
   },
   {
    "duration": 16,
    "start_time": "2023-04-28T21:13:40.753Z"
   },
   {
    "duration": 32,
    "start_time": "2023-04-28T21:13:40.772Z"
   },
   {
    "duration": 6,
    "start_time": "2023-04-28T21:13:40.805Z"
   },
   {
    "duration": 14,
    "start_time": "2023-04-28T21:13:40.812Z"
   },
   {
    "duration": 14,
    "start_time": "2023-04-28T21:13:40.827Z"
   },
   {
    "duration": 13,
    "start_time": "2023-04-28T21:13:40.842Z"
   },
   {
    "duration": 12,
    "start_time": "2023-04-28T21:13:40.856Z"
   },
   {
    "duration": 33,
    "start_time": "2023-04-28T21:13:40.869Z"
   },
   {
    "duration": 154,
    "start_time": "2023-04-28T21:13:40.904Z"
   },
   {
    "duration": 6,
    "start_time": "2023-04-28T21:13:41.059Z"
   },
   {
    "duration": 51,
    "start_time": "2023-04-28T21:13:41.067Z"
   },
   {
    "duration": 122,
    "start_time": "2023-04-28T21:13:41.119Z"
   },
   {
    "duration": 94,
    "start_time": "2023-04-28T21:13:41.243Z"
   },
   {
    "duration": 12,
    "start_time": "2023-04-28T21:13:41.339Z"
   },
   {
    "duration": 163,
    "start_time": "2023-04-28T21:13:41.353Z"
   },
   {
    "duration": 221,
    "start_time": "2023-04-28T21:13:41.517Z"
   },
   {
    "duration": 231,
    "start_time": "2023-04-28T21:13:41.739Z"
   },
   {
    "duration": 18,
    "start_time": "2023-04-28T21:13:41.981Z"
   },
   {
    "duration": 162,
    "start_time": "2023-04-28T21:13:42.002Z"
   },
   {
    "duration": 242,
    "start_time": "2023-04-28T21:13:42.165Z"
   },
   {
    "duration": 152,
    "start_time": "2023-04-28T21:13:42.409Z"
   },
   {
    "duration": 18,
    "start_time": "2023-04-28T21:13:42.563Z"
   },
   {
    "duration": 175,
    "start_time": "2023-04-28T21:13:42.582Z"
   },
   {
    "duration": 163,
    "start_time": "2023-04-28T21:13:42.758Z"
   },
   {
    "duration": 23,
    "start_time": "2023-04-28T21:13:42.923Z"
   },
   {
    "duration": 13,
    "start_time": "2023-04-28T21:13:42.948Z"
   },
   {
    "duration": 51,
    "start_time": "2023-04-28T21:13:42.963Z"
   },
   {
    "duration": 16,
    "start_time": "2023-04-28T21:13:43.016Z"
   },
   {
    "duration": 361,
    "start_time": "2023-04-28T21:13:43.035Z"
   },
   {
    "duration": 344,
    "start_time": "2023-04-28T21:13:43.398Z"
   },
   {
    "duration": 54,
    "start_time": "2023-04-28T21:13:43.744Z"
   },
   {
    "duration": 13,
    "start_time": "2023-04-28T21:13:43.799Z"
   },
   {
    "duration": 24,
    "start_time": "2023-04-28T21:13:43.813Z"
   },
   {
    "duration": 13,
    "start_time": "2023-04-28T21:13:43.838Z"
   },
   {
    "duration": 10,
    "start_time": "2023-04-28T21:13:43.853Z"
   },
   {
    "duration": 51,
    "start_time": "2023-04-28T21:13:43.864Z"
   },
   {
    "duration": 6,
    "start_time": "2023-04-28T21:13:43.916Z"
   },
   {
    "duration": 15,
    "start_time": "2023-04-28T21:13:43.923Z"
   },
   {
    "duration": 32,
    "start_time": "2023-04-28T21:13:43.939Z"
   },
   {
    "duration": 5,
    "start_time": "2023-04-28T22:04:33.450Z"
   },
   {
    "duration": 6,
    "start_time": "2023-04-28T22:07:59.561Z"
   },
   {
    "duration": 101,
    "start_time": "2023-04-28T22:09:46.688Z"
   },
   {
    "duration": 8,
    "start_time": "2023-04-28T22:10:45.235Z"
   },
   {
    "duration": 118,
    "start_time": "2023-04-29T20:37:08.109Z"
   }
  ],
  "kernelspec": {
   "display_name": "Python 3 (ipykernel)",
   "language": "python",
   "name": "python3"
  },
  "language_info": {
   "codemirror_mode": {
    "name": "ipython",
    "version": 3
   },
   "file_extension": ".py",
   "mimetype": "text/x-python",
   "name": "python",
   "nbconvert_exporter": "python",
   "pygments_lexer": "ipython3",
   "version": "3.12.0"
  },
  "toc": {
   "base_numbering": 1,
   "nav_menu": {},
   "number_sections": true,
   "sideBar": true,
   "skip_h1_title": true,
   "title_cell": "Table of Contents",
   "title_sidebar": "Contents",
   "toc_cell": false,
   "toc_position": {
    "height": "858.889px",
    "left": "39px",
    "top": "111.442px",
    "width": "404.430145px"
   },
   "toc_section_display": true,
   "toc_window_display": true
  }
 },
 "nbformat": 4,
 "nbformat_minor": 5
}
