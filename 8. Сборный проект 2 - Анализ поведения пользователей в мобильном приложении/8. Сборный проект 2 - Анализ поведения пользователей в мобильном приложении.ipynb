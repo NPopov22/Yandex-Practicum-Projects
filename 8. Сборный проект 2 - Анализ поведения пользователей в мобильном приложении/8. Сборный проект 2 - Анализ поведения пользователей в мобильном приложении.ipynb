{
 "cells": [
  {
   "cell_type": "markdown",
   "metadata": {},
   "source": [
    "<h1>Анализ поведения пользователей в мобильном приложении</h1>"
   ]
  },
  {
   "cell_type": "markdown",
   "metadata": {},
   "source": [
    "**Описание проекта**\n",
    "\n",
    "Мы проводим аналитику для стартапа, который продаёт продукты питания. Нужно разобраться, как ведут себя пользователи его мобильного приложения. \n",
    "<br>Изучим воронку продаж. Узнаем, как пользователи доходят до покупки. Сколько пользователей доходит до покупки, а сколько — «застревает» на предыдущих шагах? На каких именно?\n",
    "<br>После этого исследуем результаты A/A/B-эксперимента. Дизайнеры захотели поменять шрифты во всём приложении, а менеджеры испугались, что пользователям будет непривычно. Договорились принять решение по результатам A/A/B-теста. Пользователей разбили на 3 группы: 2 контрольные со старыми шрифтами и одну экспериментальную — с новыми. Выясним, какой шрифт лучше.\n",
    "<br>Создание двух групп A вместо одной имеет определённые преимущества. Если две контрольные группы окажутся равны, мы можем быть уверены в точности проведенного тестирования. Если же между значениями A и A будут существенные различия, это поможет обнаружить факторы, которые привели к искажению результатов. Сравнение контрольных групп также помогает понять, сколько времени и данных потребуется для дальнейших тестов.\n",
    "<br>В случае общей аналитики и A/A/B-эксперимента работаем с одними и теми же данными. В реальных проектах всегда идут эксперименты. Аналитики исследуют качество работы приложения по общим данным, не учитывая принадлежность пользователей к экспериментам."
   ]
  },
  {
   "cell_type": "markdown",
   "metadata": {},
   "source": [
    "**Описание данных**\n",
    "\n",
    "Каждая запись в логе — это действие пользователя, или событие. \n",
    "- EventName — название события;\n",
    "- DeviceIDHash — уникальный идентификатор пользователя;\n",
    "- EventTimestamp — время события;\n",
    "- ExpId — номер эксперимента: 246 и 247 — контрольные группы, а 248 — экспериментальная."
   ]
  },
  {
   "cell_type": "markdown",
   "metadata": {},
   "source": [
    "**Шаги выполнения проекта**\n",
    "\n",
    "Шаг 1. Откроем файл с данными и изучим общую информацию\n",
    "- Путь к файлу: /datasets/logs_exp.csv. Скачать датасет\n",
    "\n",
    "Шаг 2. Подготовим данные\n",
    "- Заменим названия столбцов на удобные для нас;\n",
    "- Проверим пропуски и типы данных. Откорректируем, если нужно;\n",
    "- Добавим столбец даты и времени, а также отдельный столбец дат;\n",
    "\n",
    "Шаг 3. Изучим и проверим данные\n",
    "- Сколько всего событий в логе?\n",
    "- Сколько всего пользователей в логе?\n",
    "- Сколько в среднем событий приходится на пользователя?\n",
    "- Данными за какой период вы располагаем? Найдем максимальную и минимальную дату. Построим гистограмму по дате и времени. Можно ли быть уверенным, что у нас одинаково полные данные за весь период? Технически в логи новых дней по некоторым пользователям могут «доезжать» события из прошлого — это может «перекашивать данные». Определим, с какого момента данные полные и отбросим более старые. Данными за какой период времени мы располагаем на самом деле?\n",
    "- Много ли событий и пользователей мы потеряли, отбросив старые данные?\n",
    "- Проверим, что у вас есть пользователи из всех трёх экспериментальных групп.\n",
    "\n",
    "Шаг 4. Изучим воронку событий\n",
    "- Посмотрим, какие события есть в логах, как часто они встречаются. Отсортируем события по частоте.\n",
    "- Посчитаем, сколько пользователей совершали каждое из этих событий. Отсортируем события по числу пользователей. Посчитаем долю пользователей, которые хоть раз совершали событие.\n",
    "- Предположим, в каком порядке происходят события. Все ли они выстраиваются в последовательную цепочку? Их не нужно учитывать при расчёте воронки.\n",
    "- По воронке событий посчитаем, какая доля пользователей проходит на следующий шаг воронки (от числа пользователей на предыдущем). То есть для последовательности событий A → B → C посчитаем отношение числа пользователей с событием B к количеству пользователей с событием A, а также отношение числа пользователей с событием C к количеству пользователей с событием B.\n",
    "- На каком шаге теряем больше всего пользователей?\n",
    "- Какая доля пользователей доходит от первого события до оплаты?\n",
    "\n",
    "Шаг 5. Изучим результаты эксперимента\n",
    "- Сколько пользователей в каждой экспериментальной группе?\n",
    "- Есть 2 контрольные группы для А/А-эксперимента, чтобы проверить корректность всех механизмов и расчётов. Проверим, находят ли статистические критерии разницу между выборками 246 и 247.\n",
    "- Выберем самое популярное событие. Посчитаем число пользователей, совершивших это событие в каждой из контрольных групп. Посчитаем долю пользователей, совершивших это событие. Проверим, будет ли отличие между группами статистически достоверным. Проделаем то же самое для всех других событий (удобно обернуть проверку в отдельную функцию). Можно ли сказать, что разбиение на группы работает корректно?\n",
    "- Аналогично поступим с группой с изменённым шрифтом. Сравним результаты с каждой из контрольных групп в отдельности по каждому событию. Сравним результаты с объединённой контрольной группой. Какие выводы из эксперимента можно сделать?\n",
    "- Какой уровень значимости мы выбрали при проверке статистических гипотез выше? Посчитаем, сколько проверок статистических гипотез мы сделали. При уровне значимости 0.1 каждый десятый раз можно получать ложный результат. Какой уровень значимости стоит применить? Если мы хотим изменить его, проделаем предыдущие пункты и проверим свои выводы."
   ]
  },
  {
   "cell_type": "markdown",
   "metadata": {},
   "source": [
    "<h3>Откроем файл с данными и изучим общую информацию</h3>"
   ]
  },
  {
   "cell_type": "code",
   "execution_count": 1,
   "metadata": {},
   "outputs": [],
   "source": [
    "import pandas as pd \n",
    "import numpy as np\n",
    "import datetime as dt\n",
    "import matplotlib.pyplot as plt\n",
    "from scipy import stats as st\n",
    "import math as mth\n",
    "import warnings\n",
    "import plotly.express as px"
   ]
  },
  {
   "cell_type": "code",
   "execution_count": 2,
   "metadata": {},
   "outputs": [],
   "source": [
    "try:\n",
    "    df = pd.read_csv('logs_exp.csv', sep='\\t')\n",
    "except:\n",
    "    df = pd.read_csv('/datasets/logs_exp.csv', sep='\\t')"
   ]
  },
  {
   "cell_type": "code",
   "execution_count": 3,
   "metadata": {},
   "outputs": [
    {
     "name": "stdout",
     "output_type": "stream",
     "text": [
      "<class 'pandas.core.frame.DataFrame'>\n",
      "RangeIndex: 244126 entries, 0 to 244125\n",
      "Data columns (total 4 columns):\n",
      " #   Column          Non-Null Count   Dtype \n",
      "---  ------          --------------   ----- \n",
      " 0   EventName       244126 non-null  object\n",
      " 1   DeviceIDHash    244126 non-null  int64 \n",
      " 2   EventTimestamp  244126 non-null  int64 \n",
      " 3   ExpId           244126 non-null  int64 \n",
      "dtypes: int64(3), object(1)\n",
      "memory usage: 7.5+ MB\n"
     ]
    }
   ],
   "source": [
    "df.info()"
   ]
  },
  {
   "cell_type": "code",
   "execution_count": 4,
   "metadata": {},
   "outputs": [
    {
     "data": {
      "text/html": [
       "<div>\n",
       "<style scoped>\n",
       "    .dataframe tbody tr th:only-of-type {\n",
       "        vertical-align: middle;\n",
       "    }\n",
       "\n",
       "    .dataframe tbody tr th {\n",
       "        vertical-align: top;\n",
       "    }\n",
       "\n",
       "    .dataframe thead th {\n",
       "        text-align: right;\n",
       "    }\n",
       "</style>\n",
       "<table border=\"1\" class=\"dataframe\">\n",
       "  <thead>\n",
       "    <tr style=\"text-align: right;\">\n",
       "      <th></th>\n",
       "      <th>EventName</th>\n",
       "      <th>DeviceIDHash</th>\n",
       "      <th>EventTimestamp</th>\n",
       "      <th>ExpId</th>\n",
       "    </tr>\n",
       "  </thead>\n",
       "  <tbody>\n",
       "    <tr>\n",
       "      <th>0</th>\n",
       "      <td>MainScreenAppear</td>\n",
       "      <td>4575588528974610257</td>\n",
       "      <td>1564029816</td>\n",
       "      <td>246</td>\n",
       "    </tr>\n",
       "    <tr>\n",
       "      <th>1</th>\n",
       "      <td>MainScreenAppear</td>\n",
       "      <td>7416695313311560658</td>\n",
       "      <td>1564053102</td>\n",
       "      <td>246</td>\n",
       "    </tr>\n",
       "    <tr>\n",
       "      <th>2</th>\n",
       "      <td>PaymentScreenSuccessful</td>\n",
       "      <td>3518123091307005509</td>\n",
       "      <td>1564054127</td>\n",
       "      <td>248</td>\n",
       "    </tr>\n",
       "    <tr>\n",
       "      <th>3</th>\n",
       "      <td>CartScreenAppear</td>\n",
       "      <td>3518123091307005509</td>\n",
       "      <td>1564054127</td>\n",
       "      <td>248</td>\n",
       "    </tr>\n",
       "    <tr>\n",
       "      <th>4</th>\n",
       "      <td>PaymentScreenSuccessful</td>\n",
       "      <td>6217807653094995999</td>\n",
       "      <td>1564055322</td>\n",
       "      <td>248</td>\n",
       "    </tr>\n",
       "    <tr>\n",
       "      <th>5</th>\n",
       "      <td>CartScreenAppear</td>\n",
       "      <td>6217807653094995999</td>\n",
       "      <td>1564055323</td>\n",
       "      <td>248</td>\n",
       "    </tr>\n",
       "    <tr>\n",
       "      <th>6</th>\n",
       "      <td>OffersScreenAppear</td>\n",
       "      <td>8351860793733343758</td>\n",
       "      <td>1564066242</td>\n",
       "      <td>246</td>\n",
       "    </tr>\n",
       "    <tr>\n",
       "      <th>7</th>\n",
       "      <td>MainScreenAppear</td>\n",
       "      <td>5682100281902512875</td>\n",
       "      <td>1564085677</td>\n",
       "      <td>246</td>\n",
       "    </tr>\n",
       "  </tbody>\n",
       "</table>\n",
       "</div>"
      ],
      "text/plain": [
       "                 EventName         DeviceIDHash  EventTimestamp  ExpId\n",
       "0         MainScreenAppear  4575588528974610257      1564029816    246\n",
       "1         MainScreenAppear  7416695313311560658      1564053102    246\n",
       "2  PaymentScreenSuccessful  3518123091307005509      1564054127    248\n",
       "3         CartScreenAppear  3518123091307005509      1564054127    248\n",
       "4  PaymentScreenSuccessful  6217807653094995999      1564055322    248\n",
       "5         CartScreenAppear  6217807653094995999      1564055323    248\n",
       "6       OffersScreenAppear  8351860793733343758      1564066242    246\n",
       "7         MainScreenAppear  5682100281902512875      1564085677    246"
      ]
     },
     "execution_count": 4,
     "metadata": {},
     "output_type": "execute_result"
    }
   ],
   "source": [
    "df.head(8)"
   ]
  },
  {
   "cell_type": "code",
   "execution_count": 5,
   "metadata": {},
   "outputs": [
    {
     "data": {
      "text/plain": [
       "413"
      ]
     },
     "execution_count": 5,
     "metadata": {},
     "output_type": "execute_result"
    }
   ],
   "source": [
    "df.duplicated().sum()"
   ]
  },
  {
   "cell_type": "code",
   "execution_count": 6,
   "metadata": {},
   "outputs": [
    {
     "data": {
      "text/plain": [
       "EventName         0\n",
       "DeviceIDHash      0\n",
       "EventTimestamp    0\n",
       "ExpId             0\n",
       "dtype: int64"
      ]
     },
     "execution_count": 6,
     "metadata": {},
     "output_type": "execute_result"
    }
   ],
   "source": [
    "df.isna().sum()"
   ]
  },
  {
   "cell_type": "markdown",
   "metadata": {},
   "source": [
    "Загрузили данные и изучили общую информацию о них.\n",
    "<br>По результатам следующее:\n",
    "- в данных обнаружено 413 дубликатов\n",
    "- в данных нет пропусков\n",
    "- есть нарушения стиля в названях столбцов\n",
    "- надо изменить тип столбца с датой и временем на корректный\n",
    "- добавить отдельный столбец с датой"
   ]
  },
  {
   "cell_type": "markdown",
   "metadata": {},
   "source": [
    "<h3>Подготовим данные</h3>"
   ]
  },
  {
   "cell_type": "code",
   "execution_count": 7,
   "metadata": {},
   "outputs": [
    {
     "data": {
      "text/html": [
       "<div>\n",
       "<style scoped>\n",
       "    .dataframe tbody tr th:only-of-type {\n",
       "        vertical-align: middle;\n",
       "    }\n",
       "\n",
       "    .dataframe tbody tr th {\n",
       "        vertical-align: top;\n",
       "    }\n",
       "\n",
       "    .dataframe thead th {\n",
       "        text-align: right;\n",
       "    }\n",
       "</style>\n",
       "<table border=\"1\" class=\"dataframe\">\n",
       "  <thead>\n",
       "    <tr style=\"text-align: right;\">\n",
       "      <th></th>\n",
       "      <th>event</th>\n",
       "      <th>user_id</th>\n",
       "      <th>event_timestamp</th>\n",
       "      <th>exp_id</th>\n",
       "    </tr>\n",
       "  </thead>\n",
       "  <tbody>\n",
       "    <tr>\n",
       "      <th>0</th>\n",
       "      <td>MainScreenAppear</td>\n",
       "      <td>4575588528974610257</td>\n",
       "      <td>1564029816</td>\n",
       "      <td>246</td>\n",
       "    </tr>\n",
       "    <tr>\n",
       "      <th>1</th>\n",
       "      <td>MainScreenAppear</td>\n",
       "      <td>7416695313311560658</td>\n",
       "      <td>1564053102</td>\n",
       "      <td>246</td>\n",
       "    </tr>\n",
       "  </tbody>\n",
       "</table>\n",
       "</div>"
      ],
      "text/plain": [
       "              event              user_id  event_timestamp  exp_id\n",
       "0  MainScreenAppear  4575588528974610257       1564029816     246\n",
       "1  MainScreenAppear  7416695313311560658       1564053102     246"
      ]
     },
     "execution_count": 7,
     "metadata": {},
     "output_type": "execute_result"
    }
   ],
   "source": [
    "df.columns = ['event', 'user_id', 'event_timestamp', 'exp_id']\n",
    "df.head(2)"
   ]
  },
  {
   "cell_type": "code",
   "execution_count": 8,
   "metadata": {},
   "outputs": [
    {
     "data": {
      "text/plain": [
       "0"
      ]
     },
     "execution_count": 8,
     "metadata": {},
     "output_type": "execute_result"
    }
   ],
   "source": [
    "df = df.drop_duplicates()\n",
    "df.duplicated().sum()"
   ]
  },
  {
   "cell_type": "code",
   "execution_count": 9,
   "metadata": {},
   "outputs": [
    {
     "name": "stdout",
     "output_type": "stream",
     "text": [
      "<class 'pandas.core.frame.DataFrame'>\n",
      "Int64Index: 243713 entries, 0 to 244125\n",
      "Data columns (total 5 columns):\n",
      " #   Column           Non-Null Count   Dtype         \n",
      "---  ------           --------------   -----         \n",
      " 0   event            243713 non-null  object        \n",
      " 1   user_id          243713 non-null  int64         \n",
      " 2   event_timestamp  243713 non-null  datetime64[ns]\n",
      " 3   exp_id           243713 non-null  int64         \n",
      " 4   event_date       243713 non-null  datetime64[ns]\n",
      "dtypes: datetime64[ns](2), int64(2), object(1)\n",
      "memory usage: 11.2+ MB\n"
     ]
    }
   ],
   "source": [
    "df['event_timestamp'] = pd.to_datetime(df['event_timestamp'], unit='s')\n",
    "df['event_date'] = pd.to_datetime(df['event_timestamp'].dt.date)\n",
    "df.info()"
   ]
  },
  {
   "cell_type": "code",
   "execution_count": 10,
   "metadata": {},
   "outputs": [
    {
     "data": {
      "text/html": [
       "<div>\n",
       "<style scoped>\n",
       "    .dataframe tbody tr th:only-of-type {\n",
       "        vertical-align: middle;\n",
       "    }\n",
       "\n",
       "    .dataframe tbody tr th {\n",
       "        vertical-align: top;\n",
       "    }\n",
       "\n",
       "    .dataframe thead th {\n",
       "        text-align: right;\n",
       "    }\n",
       "</style>\n",
       "<table border=\"1\" class=\"dataframe\">\n",
       "  <thead>\n",
       "    <tr style=\"text-align: right;\">\n",
       "      <th></th>\n",
       "      <th>event</th>\n",
       "      <th>user_id</th>\n",
       "      <th>event_timestamp</th>\n",
       "      <th>exp_id</th>\n",
       "      <th>event_date</th>\n",
       "    </tr>\n",
       "  </thead>\n",
       "  <tbody>\n",
       "    <tr>\n",
       "      <th>0</th>\n",
       "      <td>MainScreenAppear</td>\n",
       "      <td>4575588528974610257</td>\n",
       "      <td>2019-07-25 04:43:36</td>\n",
       "      <td>246</td>\n",
       "      <td>2019-07-25</td>\n",
       "    </tr>\n",
       "    <tr>\n",
       "      <th>1</th>\n",
       "      <td>MainScreenAppear</td>\n",
       "      <td>7416695313311560658</td>\n",
       "      <td>2019-07-25 11:11:42</td>\n",
       "      <td>246</td>\n",
       "      <td>2019-07-25</td>\n",
       "    </tr>\n",
       "    <tr>\n",
       "      <th>2</th>\n",
       "      <td>PaymentScreenSuccessful</td>\n",
       "      <td>3518123091307005509</td>\n",
       "      <td>2019-07-25 11:28:47</td>\n",
       "      <td>248</td>\n",
       "      <td>2019-07-25</td>\n",
       "    </tr>\n",
       "    <tr>\n",
       "      <th>3</th>\n",
       "      <td>CartScreenAppear</td>\n",
       "      <td>3518123091307005509</td>\n",
       "      <td>2019-07-25 11:28:47</td>\n",
       "      <td>248</td>\n",
       "      <td>2019-07-25</td>\n",
       "    </tr>\n",
       "    <tr>\n",
       "      <th>4</th>\n",
       "      <td>PaymentScreenSuccessful</td>\n",
       "      <td>6217807653094995999</td>\n",
       "      <td>2019-07-25 11:48:42</td>\n",
       "      <td>248</td>\n",
       "      <td>2019-07-25</td>\n",
       "    </tr>\n",
       "  </tbody>\n",
       "</table>\n",
       "</div>"
      ],
      "text/plain": [
       "                     event              user_id     event_timestamp  exp_id  \\\n",
       "0         MainScreenAppear  4575588528974610257 2019-07-25 04:43:36     246   \n",
       "1         MainScreenAppear  7416695313311560658 2019-07-25 11:11:42     246   \n",
       "2  PaymentScreenSuccessful  3518123091307005509 2019-07-25 11:28:47     248   \n",
       "3         CartScreenAppear  3518123091307005509 2019-07-25 11:28:47     248   \n",
       "4  PaymentScreenSuccessful  6217807653094995999 2019-07-25 11:48:42     248   \n",
       "\n",
       "  event_date  \n",
       "0 2019-07-25  \n",
       "1 2019-07-25  \n",
       "2 2019-07-25  \n",
       "3 2019-07-25  \n",
       "4 2019-07-25  "
      ]
     },
     "execution_count": 10,
     "metadata": {},
     "output_type": "execute_result"
    }
   ],
   "source": [
    "df.head()"
   ]
  },
  {
   "cell_type": "markdown",
   "metadata": {},
   "source": [
    "Итого: \n",
    "- обнаруженные дубликаты устранены\n",
    "- названя столбцов приведены к нужному стилю\n",
    "- тип столбца с датой и временем изменен на корректный\n",
    "- добавили отдельный столбец с датой"
   ]
  },
  {
   "cell_type": "markdown",
   "metadata": {},
   "source": [
    "<h3>Изучим и проверим данные</h3>"
   ]
  },
  {
   "cell_type": "markdown",
   "metadata": {},
   "source": [
    "Узнаем сколько всего событий и пользователей в логе, а так же сколько в среднем событий приходится на пользователя"
   ]
  },
  {
   "cell_type": "code",
   "execution_count": 11,
   "metadata": {},
   "outputs": [
    {
     "data": {
      "text/plain": [
       "243713"
      ]
     },
     "execution_count": 11,
     "metadata": {},
     "output_type": "execute_result"
    }
   ],
   "source": [
    "df.shape[0]"
   ]
  },
  {
   "cell_type": "code",
   "execution_count": 12,
   "metadata": {},
   "outputs": [
    {
     "data": {
      "text/plain": [
       "7551"
      ]
     },
     "execution_count": 12,
     "metadata": {},
     "output_type": "execute_result"
    }
   ],
   "source": [
    "df['user_id'].nunique()"
   ]
  },
  {
   "cell_type": "code",
   "execution_count": 13,
   "metadata": {},
   "outputs": [
    {
     "data": {
      "text/plain": [
       "32"
      ]
     },
     "execution_count": 13,
     "metadata": {},
     "output_type": "execute_result"
    }
   ],
   "source": [
    "round(df['event'].count()/df['user_id'].nunique())"
   ]
  },
  {
   "cell_type": "markdown",
   "metadata": {},
   "source": [
    "Среднее количество событий мало говорит нам об особенностях распределения количества событий на пользователя, а так же может под влиянием выбросов в данных быть искажено, поэтому для более полной картины посмотрим как описаны данные"
   ]
  },
  {
   "cell_type": "code",
   "execution_count": 14,
   "metadata": {},
   "outputs": [
    {
     "data": {
      "text/html": [
       "<div>\n",
       "<style scoped>\n",
       "    .dataframe tbody tr th:only-of-type {\n",
       "        vertical-align: middle;\n",
       "    }\n",
       "\n",
       "    .dataframe tbody tr th {\n",
       "        vertical-align: top;\n",
       "    }\n",
       "\n",
       "    .dataframe thead th {\n",
       "        text-align: right;\n",
       "    }\n",
       "</style>\n",
       "<table border=\"1\" class=\"dataframe\">\n",
       "  <thead>\n",
       "    <tr style=\"text-align: right;\">\n",
       "      <th></th>\n",
       "      <th>event</th>\n",
       "    </tr>\n",
       "  </thead>\n",
       "  <tbody>\n",
       "    <tr>\n",
       "      <th>count</th>\n",
       "      <td>7551.000000</td>\n",
       "    </tr>\n",
       "    <tr>\n",
       "      <th>mean</th>\n",
       "      <td>32.275593</td>\n",
       "    </tr>\n",
       "    <tr>\n",
       "      <th>std</th>\n",
       "      <td>65.154219</td>\n",
       "    </tr>\n",
       "    <tr>\n",
       "      <th>min</th>\n",
       "      <td>1.000000</td>\n",
       "    </tr>\n",
       "    <tr>\n",
       "      <th>25%</th>\n",
       "      <td>9.000000</td>\n",
       "    </tr>\n",
       "    <tr>\n",
       "      <th>50%</th>\n",
       "      <td>20.000000</td>\n",
       "    </tr>\n",
       "    <tr>\n",
       "      <th>75%</th>\n",
       "      <td>37.000000</td>\n",
       "    </tr>\n",
       "    <tr>\n",
       "      <th>max</th>\n",
       "      <td>2307.000000</td>\n",
       "    </tr>\n",
       "  </tbody>\n",
       "</table>\n",
       "</div>"
      ],
      "text/plain": [
       "             event\n",
       "count  7551.000000\n",
       "mean     32.275593\n",
       "std      65.154219\n",
       "min       1.000000\n",
       "25%       9.000000\n",
       "50%      20.000000\n",
       "75%      37.000000\n",
       "max    2307.000000"
      ]
     },
     "execution_count": 14,
     "metadata": {},
     "output_type": "execute_result"
    }
   ],
   "source": [
    "df.groupby('user_id').agg({'event': 'count'}).describe()"
   ]
  },
  {
   "cell_type": "markdown",
   "metadata": {},
   "source": [
    "Как видим 75% перцентиль равен всего 37, а максимальное значение событий - 2307, соответственно в данных присутствуют выбросы и будет лучше посчитать медианное количество событий на пользователя"
   ]
  },
  {
   "cell_type": "code",
   "execution_count": 15,
   "metadata": {},
   "outputs": [
    {
     "data": {
      "text/plain": [
       "20.0"
      ]
     },
     "execution_count": 15,
     "metadata": {},
     "output_type": "execute_result"
    }
   ],
   "source": [
    "round(df.groupby('user_id').agg({'event': 'count'}).median()[0], 1)"
   ]
  },
  {
   "cell_type": "markdown",
   "metadata": {},
   "source": [
    "Медианное количество событий на пользователя - 20 событий\n",
    "<br>Исходя из результатов можем сказать, что распределение имеет смещённый характер, поэтому в итоге исходить будем из медианного количества.\n",
    "<br>Итого: в среднем на одного пользователя приходится 20 событий"
   ]
  },
  {
   "cell_type": "markdown",
   "metadata": {},
   "source": [
    "Посмотрим, данными за какой период мы располагаем.\n",
    "<br>Найдем максимальную и минимальную дату"
   ]
  },
  {
   "cell_type": "code",
   "execution_count": 16,
   "metadata": {},
   "outputs": [
    {
     "name": "stdout",
     "output_type": "stream",
     "text": [
      "2019-07-25 00:00:00\n",
      "2019-08-07 00:00:00\n"
     ]
    }
   ],
   "source": [
    "print(df['event_date'].min())\n",
    "print(df['event_date'].max())"
   ]
  },
  {
   "cell_type": "code",
   "execution_count": 17,
   "metadata": {},
   "outputs": [
    {
     "data": {
      "image/png": "[encoded data removed]",
      "text/plain": [
       "<Figure size 1152x432 with 1 Axes>"
      ]
     },
     "metadata": {
      "needs_background": "light"
     },
     "output_type": "display_data"
    }
   ],
   "source": [
    "df['event_timestamp'].hist(bins=200, figsize=(16,6))\n",
    "plt.title('События по дате и времени')\n",
    "plt.ylabel('Кол-во событий')\n",
    "plt.xlabel('Дата')\n",
    "plt.show()"
   ]
  },
  {
   "cell_type": "markdown",
   "metadata": {},
   "source": [
    "По графику видим, что за первую неделю у нас очень мало данных, основное их число приходится на вторую неделю. \n",
    "<br>Примем, что данные полные с 2019-08-01"
   ]
  },
  {
   "cell_type": "code",
   "execution_count": 18,
   "metadata": {},
   "outputs": [
    {
     "data": {
      "text/html": [
       "<div>\n",
       "<style scoped>\n",
       "    .dataframe tbody tr th:only-of-type {\n",
       "        vertical-align: middle;\n",
       "    }\n",
       "\n",
       "    .dataframe tbody tr th {\n",
       "        vertical-align: top;\n",
       "    }\n",
       "\n",
       "    .dataframe thead th {\n",
       "        text-align: right;\n",
       "    }\n",
       "</style>\n",
       "<table border=\"1\" class=\"dataframe\">\n",
       "  <thead>\n",
       "    <tr style=\"text-align: right;\">\n",
       "      <th></th>\n",
       "      <th>event</th>\n",
       "      <th>user_id</th>\n",
       "      <th>event_timestamp</th>\n",
       "      <th>exp_id</th>\n",
       "      <th>event_date</th>\n",
       "    </tr>\n",
       "  </thead>\n",
       "  <tbody>\n",
       "    <tr>\n",
       "      <th>2828</th>\n",
       "      <td>Tutorial</td>\n",
       "      <td>3737462046622621720</td>\n",
       "      <td>2019-08-01 00:07:28</td>\n",
       "      <td>246</td>\n",
       "      <td>2019-08-01</td>\n",
       "    </tr>\n",
       "    <tr>\n",
       "      <th>2829</th>\n",
       "      <td>MainScreenAppear</td>\n",
       "      <td>3737462046622621720</td>\n",
       "      <td>2019-08-01 00:08:00</td>\n",
       "      <td>246</td>\n",
       "      <td>2019-08-01</td>\n",
       "    </tr>\n",
       "    <tr>\n",
       "      <th>2830</th>\n",
       "      <td>MainScreenAppear</td>\n",
       "      <td>3737462046622621720</td>\n",
       "      <td>2019-08-01 00:08:55</td>\n",
       "      <td>246</td>\n",
       "      <td>2019-08-01</td>\n",
       "    </tr>\n",
       "    <tr>\n",
       "      <th>2831</th>\n",
       "      <td>OffersScreenAppear</td>\n",
       "      <td>3737462046622621720</td>\n",
       "      <td>2019-08-01 00:08:58</td>\n",
       "      <td>246</td>\n",
       "      <td>2019-08-01</td>\n",
       "    </tr>\n",
       "    <tr>\n",
       "      <th>2832</th>\n",
       "      <td>MainScreenAppear</td>\n",
       "      <td>1433840883824088890</td>\n",
       "      <td>2019-08-01 00:08:59</td>\n",
       "      <td>247</td>\n",
       "      <td>2019-08-01</td>\n",
       "    </tr>\n",
       "    <tr>\n",
       "      <th>2833</th>\n",
       "      <td>MainScreenAppear</td>\n",
       "      <td>4899590676214355127</td>\n",
       "      <td>2019-08-01 00:10:15</td>\n",
       "      <td>247</td>\n",
       "      <td>2019-08-01</td>\n",
       "    </tr>\n",
       "    <tr>\n",
       "      <th>2834</th>\n",
       "      <td>OffersScreenAppear</td>\n",
       "      <td>3737462046622621720</td>\n",
       "      <td>2019-08-01 00:10:26</td>\n",
       "      <td>246</td>\n",
       "      <td>2019-08-01</td>\n",
       "    </tr>\n",
       "    <tr>\n",
       "      <th>2835</th>\n",
       "      <td>MainScreenAppear</td>\n",
       "      <td>3737462046622621720</td>\n",
       "      <td>2019-08-01 00:10:47</td>\n",
       "      <td>246</td>\n",
       "      <td>2019-08-01</td>\n",
       "    </tr>\n",
       "  </tbody>\n",
       "</table>\n",
       "</div>"
      ],
      "text/plain": [
       "                   event              user_id     event_timestamp  exp_id  \\\n",
       "2828            Tutorial  3737462046622621720 2019-08-01 00:07:28     246   \n",
       "2829    MainScreenAppear  3737462046622621720 2019-08-01 00:08:00     246   \n",
       "2830    MainScreenAppear  3737462046622621720 2019-08-01 00:08:55     246   \n",
       "2831  OffersScreenAppear  3737462046622621720 2019-08-01 00:08:58     246   \n",
       "2832    MainScreenAppear  1433840883824088890 2019-08-01 00:08:59     247   \n",
       "2833    MainScreenAppear  4899590676214355127 2019-08-01 00:10:15     247   \n",
       "2834  OffersScreenAppear  3737462046622621720 2019-08-01 00:10:26     246   \n",
       "2835    MainScreenAppear  3737462046622621720 2019-08-01 00:10:47     246   \n",
       "\n",
       "     event_date  \n",
       "2828 2019-08-01  \n",
       "2829 2019-08-01  \n",
       "2830 2019-08-01  \n",
       "2831 2019-08-01  \n",
       "2832 2019-08-01  \n",
       "2833 2019-08-01  \n",
       "2834 2019-08-01  \n",
       "2835 2019-08-01  "
      ]
     },
     "execution_count": 18,
     "metadata": {},
     "output_type": "execute_result"
    }
   ],
   "source": [
    "data = df.query('event_timestamp >= \"2019-08-01\"')\n",
    "data.head(8)"
   ]
  },
  {
   "cell_type": "markdown",
   "metadata": {},
   "source": [
    "Проверим, много ли событий и пользователей мы потеряли, отбросив старые данные"
   ]
  },
  {
   "cell_type": "code",
   "execution_count": 39,
   "metadata": {},
   "outputs": [
    {
     "name": "stdout",
     "output_type": "stream",
     "text": [
      "Потерянные события:  2826\n",
      "Потерянные события в %: 1.16%\n",
      "Потерянные пользователи:  17\n",
      "Потерянные пользователи в %: 0.23%\n"
     ]
    }
   ],
   "source": [
    "print(f'Потерянные события: ', df.shape[0] - data.shape[0])\n",
    "print('Потерянные события в %: {:.2%}'.format((df.shape[0] - data.shape[0]) / df.shape[0]))\n",
    "\n",
    "print('Потерянные пользователи: ', df['user_id'].nunique() - data['user_id'].nunique())\n",
    "print('Потерянные пользователи в %: {:.2%}'.\n",
    "      format((df['user_id'].nunique() - data['user_id'].nunique()) / \n",
    "             df['user_id'].nunique()))"
   ]
  },
  {
   "cell_type": "markdown",
   "metadata": {},
   "source": [
    "Как видим, потери нисколько не являются критичными для нас.\n",
    "<br>Потеряно 2826 событий из 243713 (1.16%) и 17 пользователей из 7551 (0.23%)\n",
    "\n",
    "Проверим, что у нас есть пользователи из всех трёх экспериментальных групп"
   ]
  },
  {
   "cell_type": "code",
   "execution_count": 20,
   "metadata": {},
   "outputs": [
    {
     "data": {
      "text/html": [
       "<div>\n",
       "<style scoped>\n",
       "    .dataframe tbody tr th:only-of-type {\n",
       "        vertical-align: middle;\n",
       "    }\n",
       "\n",
       "    .dataframe tbody tr th {\n",
       "        vertical-align: top;\n",
       "    }\n",
       "\n",
       "    .dataframe thead th {\n",
       "        text-align: right;\n",
       "    }\n",
       "</style>\n",
       "<table border=\"1\" class=\"dataframe\">\n",
       "  <thead>\n",
       "    <tr style=\"text-align: right;\">\n",
       "      <th></th>\n",
       "      <th>user_id</th>\n",
       "    </tr>\n",
       "    <tr>\n",
       "      <th>exp_id</th>\n",
       "      <th></th>\n",
       "    </tr>\n",
       "  </thead>\n",
       "  <tbody>\n",
       "    <tr>\n",
       "      <th>246</th>\n",
       "      <td>2484</td>\n",
       "    </tr>\n",
       "    <tr>\n",
       "      <th>247</th>\n",
       "      <td>2513</td>\n",
       "    </tr>\n",
       "    <tr>\n",
       "      <th>248</th>\n",
       "      <td>2537</td>\n",
       "    </tr>\n",
       "  </tbody>\n",
       "</table>\n",
       "</div>"
      ],
      "text/plain": [
       "        user_id\n",
       "exp_id         \n",
       "246        2484\n",
       "247        2513\n",
       "248        2537"
      ]
     },
     "execution_count": 20,
     "metadata": {},
     "output_type": "execute_result"
    }
   ],
   "source": [
    "data.groupby('exp_id').agg({'user_id': 'nunique'})"
   ]
  },
  {
   "cell_type": "markdown",
   "metadata": {},
   "source": [
    "Да, имеем пользователей из всех 3-х групп"
   ]
  },
  {
   "cell_type": "markdown",
   "metadata": {},
   "source": [
    "Мы изучили и проверили данные:\n",
    "- в логе 243713 событий и 7551 пользователь\n",
    "- в среднем приходится 20 событий на пользователя\n",
    "- располагаем данными с 2019-07-25 по 2019-08-07, но считаем, что данные полные с 2019-08-01\n",
    "- отбросив старые данные получили, что потери в событиях и пользователях малы и не являются для критичными\n",
    "- у нас есть пользователи из всех трёх экспериментальных групп"
   ]
  },
  {
   "cell_type": "markdown",
   "metadata": {},
   "source": [
    "<h3>Изучим воронку событий</h3>"
   ]
  },
  {
   "cell_type": "markdown",
   "metadata": {},
   "source": [
    "Посмотрим, какие события есть в логах и как часто они встречаются"
   ]
  },
  {
   "cell_type": "code",
   "execution_count": 21,
   "metadata": {},
   "outputs": [
    {
     "data": {
      "text/plain": [
       "MainScreenAppear           117328\n",
       "OffersScreenAppear          46333\n",
       "CartScreenAppear            42303\n",
       "PaymentScreenSuccessful     33918\n",
       "Tutorial                     1005\n",
       "Name: event, dtype: int64"
      ]
     },
     "execution_count": 21,
     "metadata": {},
     "output_type": "execute_result"
    }
   ],
   "source": [
    "data['event'].value_counts()"
   ]
  },
  {
   "cell_type": "markdown",
   "metadata": {},
   "source": [
    "Посчитаем, сколько пользователей совершали каждое из этих событий и посчитаем долю пользователей, которые хоть раз совершали событие"
   ]
  },
  {
   "cell_type": "code",
   "execution_count": 22,
   "metadata": {},
   "outputs": [
    {
     "data": {
      "text/html": [
       "<div>\n",
       "<style scoped>\n",
       "    .dataframe tbody tr th:only-of-type {\n",
       "        vertical-align: middle;\n",
       "    }\n",
       "\n",
       "    .dataframe tbody tr th {\n",
       "        vertical-align: top;\n",
       "    }\n",
       "\n",
       "    .dataframe thead th {\n",
       "        text-align: right;\n",
       "    }\n",
       "</style>\n",
       "<table border=\"1\" class=\"dataframe\">\n",
       "  <thead>\n",
       "    <tr style=\"text-align: right;\">\n",
       "      <th></th>\n",
       "      <th>event</th>\n",
       "      <th>total_users</th>\n",
       "      <th>percent</th>\n",
       "    </tr>\n",
       "  </thead>\n",
       "  <tbody>\n",
       "    <tr>\n",
       "      <th>0</th>\n",
       "      <td>MainScreenAppear</td>\n",
       "      <td>7419</td>\n",
       "      <td>98.473586</td>\n",
       "    </tr>\n",
       "    <tr>\n",
       "      <th>1</th>\n",
       "      <td>OffersScreenAppear</td>\n",
       "      <td>4593</td>\n",
       "      <td>60.963632</td>\n",
       "    </tr>\n",
       "    <tr>\n",
       "      <th>2</th>\n",
       "      <td>CartScreenAppear</td>\n",
       "      <td>3734</td>\n",
       "      <td>49.561986</td>\n",
       "    </tr>\n",
       "    <tr>\n",
       "      <th>3</th>\n",
       "      <td>PaymentScreenSuccessful</td>\n",
       "      <td>3539</td>\n",
       "      <td>46.973719</td>\n",
       "    </tr>\n",
       "    <tr>\n",
       "      <th>4</th>\n",
       "      <td>Tutorial</td>\n",
       "      <td>840</td>\n",
       "      <td>11.149456</td>\n",
       "    </tr>\n",
       "  </tbody>\n",
       "</table>\n",
       "</div>"
      ],
      "text/plain": [
       "                     event  total_users    percent\n",
       "0         MainScreenAppear         7419  98.473586\n",
       "1       OffersScreenAppear         4593  60.963632\n",
       "2         CartScreenAppear         3734  49.561986\n",
       "3  PaymentScreenSuccessful         3539  46.973719\n",
       "4                 Tutorial          840  11.149456"
      ]
     },
     "execution_count": 22,
     "metadata": {},
     "output_type": "execute_result"
    }
   ],
   "source": [
    "funnel = (data.groupby('event').agg({'user_id': 'nunique'}).\n",
    "          rename(columns={'user_id' : 'total_users'}).\n",
    "          sort_values(by='total_users', ascending=False).reset_index())\n",
    "funnel['percent'] = funnel['total_users'] / data['user_id'].nunique() * 100\n",
    "funnel"
   ]
  },
  {
   "cell_type": "markdown",
   "metadata": {},
   "source": [
    "Имеем 5 событий, предположим, что они обозначают следующее:\n",
    "\n",
    "- 'MainScreenAppear': главное меню\n",
    "- 'OffersScreenAppear': каталог продуктов\n",
    "- 'CartScreenAppear': корзина\n",
    "- 'PaymentScreenSuccessful': экран успешного платежа\n",
    "- 'Tutorial': руководство пользователя\n",
    "\n",
    "Следовательно, воронка событий будет следующая:\n",
    "\n",
    "*MainScreenAppear -> OffersScreenAppear -> CartScreenAppear -> PaymentScreenSuccessful*\n",
    "\n",
    "Событие 'Tutorial' в воронку событий не входит.\n",
    "\n",
    "Интересный момент с главным меню. Мы видим, что на него попали ~98,5% пользователей, т.е. не все\n",
    "<br>Возможно это связано с тем, что оставшиеся пользователи просто не смогли корректно открыть приложение, либо же было некорректное отображение самого главного меню.\n",
    "<br>Причин может быть много, как с нашей стороны: несовместимость/некорректная работа с некоторыми моделями устройств, версиями ОС и т.д.; так и со стороны пользователя: проблемы с интернет-подключением, программные или же механические неисправности устройства конкретного пользователя и прочее."
   ]
  },
  {
   "cell_type": "markdown",
   "metadata": {},
   "source": [
    "Посчитаем, какая доля пользователей проходит на следующий шаг воронки"
   ]
  },
  {
   "cell_type": "code",
   "execution_count": 23,
   "metadata": {},
   "outputs": [
    {
     "data": {
      "text/html": [
       "<div>\n",
       "<style scoped>\n",
       "    .dataframe tbody tr th:only-of-type {\n",
       "        vertical-align: middle;\n",
       "    }\n",
       "\n",
       "    .dataframe tbody tr th {\n",
       "        vertical-align: top;\n",
       "    }\n",
       "\n",
       "    .dataframe thead th {\n",
       "        text-align: right;\n",
       "    }\n",
       "</style>\n",
       "<table border=\"1\" class=\"dataframe\">\n",
       "  <thead>\n",
       "    <tr style=\"text-align: right;\">\n",
       "      <th></th>\n",
       "      <th>event</th>\n",
       "      <th>total_users</th>\n",
       "      <th>percent</th>\n",
       "      <th>user_share</th>\n",
       "    </tr>\n",
       "  </thead>\n",
       "  <tbody>\n",
       "    <tr>\n",
       "      <th>0</th>\n",
       "      <td>MainScreenAppear</td>\n",
       "      <td>7419</td>\n",
       "      <td>98.473586</td>\n",
       "      <td>100.00</td>\n",
       "    </tr>\n",
       "    <tr>\n",
       "      <th>1</th>\n",
       "      <td>OffersScreenAppear</td>\n",
       "      <td>4593</td>\n",
       "      <td>60.963632</td>\n",
       "      <td>38.09</td>\n",
       "    </tr>\n",
       "    <tr>\n",
       "      <th>2</th>\n",
       "      <td>CartScreenAppear</td>\n",
       "      <td>3734</td>\n",
       "      <td>49.561986</td>\n",
       "      <td>18.70</td>\n",
       "    </tr>\n",
       "    <tr>\n",
       "      <th>3</th>\n",
       "      <td>PaymentScreenSuccessful</td>\n",
       "      <td>3539</td>\n",
       "      <td>46.973719</td>\n",
       "      <td>5.22</td>\n",
       "    </tr>\n",
       "  </tbody>\n",
       "</table>\n",
       "</div>"
      ],
      "text/plain": [
       "                     event  total_users    percent  user_share\n",
       "0         MainScreenAppear         7419  98.473586      100.00\n",
       "1       OffersScreenAppear         4593  60.963632       38.09\n",
       "2         CartScreenAppear         3734  49.561986       18.70\n",
       "3  PaymentScreenSuccessful         3539  46.973719        5.22"
      ]
     },
     "execution_count": 23,
     "metadata": {},
     "output_type": "execute_result"
    }
   ],
   "source": [
    "funnel['user_share'] = (100 - (funnel['total_users'] / \n",
    "                               funnel['total_users'].shift(1)) * 100).round(2)\n",
    "funnel['user_share'] = funnel['user_share'].fillna(100)\n",
    "funnel = funnel[:4]\n",
    "funnel"
   ]
  },
  {
   "cell_type": "markdown",
   "metadata": {},
   "source": [
    "Видим, что наибольшее количество пользователей теряем после первого шага - 38% (т.е. из главного в меню в каталог), 18.7% отваливаются после просмотра каталога, и только чуть более 5% добавив товары в корзину, не совершают покупку.\n",
    "<br>Скорее-всего, проблема либо в дизайне главного меню, либо присутствует какая-либо сложность или неудобство перехода в каталог."
   ]
  },
  {
   "cell_type": "markdown",
   "metadata": {},
   "source": [
    "От первого события до оплаты успешно доходит 47% пользователей"
   ]
  },
  {
   "cell_type": "markdown",
   "metadata": {},
   "source": [
    "<h3>Изучим результаты эксперимента</h3>"
   ]
  },
  {
   "cell_type": "markdown",
   "metadata": {},
   "source": [
    "Определим сколько пользователей в каждой экспериментальной группе."
   ]
  },
  {
   "cell_type": "code",
   "execution_count": 24,
   "metadata": {},
   "outputs": [
    {
     "data": {
      "text/plain": [
       "exp_id\n",
       "246        2484\n",
       "247        2513\n",
       "248        2537\n",
       "246+247    4997\n",
       "Name: user_id, dtype: int64"
      ]
     },
     "execution_count": 24,
     "metadata": {},
     "output_type": "execute_result"
    }
   ],
   "source": [
    "ex_group = data.groupby('exp_id', as_index=True)['user_id'].nunique()\n",
    "ex_group['246+247'] = ex_group[246] + ex_group[247]\n",
    "ex_group"
   ]
  },
  {
   "cell_type": "markdown",
   "metadata": {},
   "source": [
    "Проверим есть ли пользователи, которые присутствуют в нескольких группах теста"
   ]
  },
  {
   "cell_type": "code",
   "execution_count": 44,
   "metadata": {},
   "outputs": [
    {
     "name": "stdout",
     "output_type": "stream",
     "text": [
      "246 и 247: 0\n",
      "246 и 248: 0\n",
      "247 и 248: 0\n"
     ]
    }
   ],
   "source": [
    "print('246 и 247:',len(\n",
    "    data.loc[data['user_id'].isin(data[data['exp_id']=='246']['user_id']) & \n",
    "data['user_id'].isin(data[data['exp_id']=='247']['user_id']),'user_id'].unique()))\n",
    "print('246 и 248:',len(\n",
    "    data.loc[data['user_id'].isin(data[data['exp_id']=='246']['user_id']) & \n",
    "data['user_id'].isin(data[data['exp_id']=='248']['user_id']),'user_id'].unique()))\n",
    "print('247 и 248:',len(\n",
    "    data.loc[data['user_id'].isin(data[data['exp_id']=='247']['user_id']) & \n",
    "data['user_id'].isin(data[data['exp_id']=='248']['user_id']),'user_id'].unique()))"
   ]
  },
  {
   "cell_type": "markdown",
   "metadata": {},
   "source": [
    "Проверим отличие размеров групп"
   ]
  },
  {
   "cell_type": "code",
   "execution_count": 26,
   "metadata": {},
   "outputs": [
    {
     "name": "stdout",
     "output_type": "stream",
     "text": [
      "246 от 247: 0.99\n",
      "246 от 248: 0.98\n",
      "247 от 248: 0.99\n"
     ]
    }
   ],
   "source": [
    "print('246 от 247:', round(ex_group[246]/ex_group[247], 2))\n",
    "print('246 от 248:', round(ex_group[246]/ex_group[248], 2))\n",
    "print('247 от 248:', round(ex_group[247]/ex_group[248], 2))"
   ]
  },
  {
   "cell_type": "markdown",
   "metadata": {},
   "source": [
    "Отлично! Отличия между группами незначительны и пользователи, которые присутствуют в нескольких группах теста отсутствуют"
   ]
  },
  {
   "cell_type": "markdown",
   "metadata": {},
   "source": [
    "Преподготовим данные для нашего удобства, перед проведением тестов\n",
    "<br>Cделаем таблицу с группировкой по событиям и количеством пользователей каждой группы по событиям"
   ]
  },
  {
   "cell_type": "code",
   "execution_count": 42,
   "metadata": {},
   "outputs": [
    {
     "data": {
      "text/html": [
       "<div>\n",
       "<style scoped>\n",
       "    .dataframe tbody tr th:only-of-type {\n",
       "        vertical-align: middle;\n",
       "    }\n",
       "\n",
       "    .dataframe tbody tr th {\n",
       "        vertical-align: top;\n",
       "    }\n",
       "\n",
       "    .dataframe thead th {\n",
       "        text-align: right;\n",
       "    }\n",
       "</style>\n",
       "<table border=\"1\" class=\"dataframe\">\n",
       "  <thead>\n",
       "    <tr style=\"text-align: right;\">\n",
       "      <th>exp_id</th>\n",
       "      <th>event</th>\n",
       "      <th>246</th>\n",
       "      <th>247</th>\n",
       "      <th>248</th>\n",
       "      <th>246+247</th>\n",
       "    </tr>\n",
       "  </thead>\n",
       "  <tbody>\n",
       "    <tr>\n",
       "      <th>0</th>\n",
       "      <td>MainScreenAppear</td>\n",
       "      <td>2450</td>\n",
       "      <td>2476</td>\n",
       "      <td>2493</td>\n",
       "      <td>4926</td>\n",
       "    </tr>\n",
       "    <tr>\n",
       "      <th>1</th>\n",
       "      <td>OffersScreenAppear</td>\n",
       "      <td>1542</td>\n",
       "      <td>1520</td>\n",
       "      <td>1531</td>\n",
       "      <td>3062</td>\n",
       "    </tr>\n",
       "    <tr>\n",
       "      <th>2</th>\n",
       "      <td>CartScreenAppear</td>\n",
       "      <td>1266</td>\n",
       "      <td>1238</td>\n",
       "      <td>1230</td>\n",
       "      <td>2504</td>\n",
       "    </tr>\n",
       "    <tr>\n",
       "      <th>3</th>\n",
       "      <td>PaymentScreenSuccessful</td>\n",
       "      <td>1200</td>\n",
       "      <td>1158</td>\n",
       "      <td>1181</td>\n",
       "      <td>2358</td>\n",
       "    </tr>\n",
       "  </tbody>\n",
       "</table>\n",
       "</div>"
      ],
      "text/plain": [
       "exp_id                    event   246   247   248  246+247\n",
       "0              MainScreenAppear  2450  2476  2493     4926\n",
       "1            OffersScreenAppear  1542  1520  1531     3062\n",
       "2              CartScreenAppear  1266  1238  1230     2504\n",
       "3       PaymentScreenSuccessful  1200  1158  1181     2358"
      ]
     },
     "execution_count": 42,
     "metadata": {},
     "output_type": "execute_result"
    }
   ],
   "source": [
    "event_group = data.pivot_table(index='event',\n",
    "                               values='user_id',\n",
    "                               columns='exp_id',\n",
    "                               aggfunc='nunique').reset_index()\n",
    "event_group['246+247'] = event_group[246] + event_group[247]\n",
    "event_group = event_group.sort_values(by=246, ascending=False)\n",
    "event_group = event_group.head(4).reset_index(drop=True)\n",
    "event_group"
   ]
  },
  {
   "cell_type": "markdown",
   "metadata": {},
   "source": [
    "Cделаем таблицу с долями событий пользователей по группам"
   ]
  },
  {
   "cell_type": "code",
   "execution_count": 45,
   "metadata": {},
   "outputs": [
    {
     "data": {
      "text/html": [
       "<div>\n",
       "<style scoped>\n",
       "    .dataframe tbody tr th:only-of-type {\n",
       "        vertical-align: middle;\n",
       "    }\n",
       "\n",
       "    .dataframe tbody tr th {\n",
       "        vertical-align: top;\n",
       "    }\n",
       "\n",
       "    .dataframe thead th {\n",
       "        text-align: right;\n",
       "    }\n",
       "</style>\n",
       "<table border=\"1\" class=\"dataframe\">\n",
       "  <thead>\n",
       "    <tr style=\"text-align: right;\">\n",
       "      <th></th>\n",
       "      <th>event</th>\n",
       "      <th>246_ratio</th>\n",
       "      <th>247_ratio</th>\n",
       "      <th>248_ratio</th>\n",
       "      <th>246+247_ratio</th>\n",
       "    </tr>\n",
       "  </thead>\n",
       "  <tbody>\n",
       "    <tr>\n",
       "      <th>0</th>\n",
       "      <td>MainScreenAppear</td>\n",
       "      <td>98.63</td>\n",
       "      <td>98.53</td>\n",
       "      <td>98.27</td>\n",
       "      <td>98.58</td>\n",
       "    </tr>\n",
       "    <tr>\n",
       "      <th>1</th>\n",
       "      <td>OffersScreenAppear</td>\n",
       "      <td>62.08</td>\n",
       "      <td>60.49</td>\n",
       "      <td>60.35</td>\n",
       "      <td>61.28</td>\n",
       "    </tr>\n",
       "    <tr>\n",
       "      <th>2</th>\n",
       "      <td>CartScreenAppear</td>\n",
       "      <td>50.97</td>\n",
       "      <td>49.26</td>\n",
       "      <td>48.48</td>\n",
       "      <td>50.11</td>\n",
       "    </tr>\n",
       "    <tr>\n",
       "      <th>3</th>\n",
       "      <td>PaymentScreenSuccessful</td>\n",
       "      <td>48.31</td>\n",
       "      <td>46.08</td>\n",
       "      <td>46.55</td>\n",
       "      <td>47.19</td>\n",
       "    </tr>\n",
       "  </tbody>\n",
       "</table>\n",
       "</div>"
      ],
      "text/plain": [
       "                     event  246_ratio  247_ratio  248_ratio  246+247_ratio\n",
       "0         MainScreenAppear      98.63      98.53      98.27          98.58\n",
       "1       OffersScreenAppear      62.08      60.49      60.35          61.28\n",
       "2         CartScreenAppear      50.97      49.26      48.48          50.11\n",
       "3  PaymentScreenSuccessful      48.31      46.08      46.55          47.19"
      ]
     },
     "execution_count": 45,
     "metadata": {},
     "output_type": "execute_result"
    }
   ],
   "source": [
    "event_group_ratio = pd.DataFrame(event_group['event'])\n",
    "event_group_ratio['246_ratio'] = (event_group[246] / \n",
    "                                  ex_group[246] * 100).round(2)\n",
    "event_group_ratio['247_ratio'] = (event_group[247] / \n",
    "                                  ex_group[247] * 100).round(2)\n",
    "event_group_ratio['248_ratio'] = (event_group[248] / \n",
    "                                  ex_group[248] * 100).round(2)\n",
    "event_group_ratio['246+247_ratio'] = (event_group['246+247'] / \n",
    "                                      (ex_group[246] + \n",
    "                                       ex_group[247]) * 100).round(2)\n",
    "event_group_ratio"
   ]
  },
  {
   "cell_type": "markdown",
   "metadata": {},
   "source": [
    "Данные готовы, приступаем к тестам"
   ]
  },
  {
   "cell_type": "markdown",
   "metadata": {},
   "source": [
    "Для проверки статистически значимой разницы между группами в событиях воронки мы будем использовать двухстороний Z-тест.\n",
    "\n",
    "Гипотезы для проведения Z-теста:\n",
    "<br>*H0*: отличие в долях пользователей, побывавших на этапе воронки между группами статистически не достоверно\n",
    "<br>*H1*: отличие в долях пользователей, побывавших на этапе воронки между группами статистически достоверно"
   ]
  },
  {
   "cell_type": "markdown",
   "metadata": {},
   "source": [
    "Создадим функцию для проведения z-теста"
   ]
  },
  {
   "cell_type": "code",
   "execution_count": 48,
   "metadata": {},
   "outputs": [],
   "source": [
    "def z_test(group1, group2, alpha):\n",
    "    for i in event_group.index:\n",
    "        p1 = event_group[group1][i] / ex_group[group1]\n",
    "        p2 = event_group[group2][i] / ex_group[group2]\n",
    "        \n",
    "        p_combined = (event_group[group1][i] + \n",
    "                      event_group[group2][i]) / (ex_group[group1] + ex_group[group2])\n",
    "        difference = p1 - p2\n",
    "        \n",
    "        z_value = (difference / mth.sqrt(p_combined * (1 - p_combined) *\n",
    "                    (1 / ex_group[group1] + 1 / ex_group[group2])))\n",
    "        distr = st.norm(0, 1) \n",
    "        p_value = (1 - distr.cdf(abs(z_value))) * 2\n",
    "        \n",
    "        print('Событие:', event_group['event'][i])\n",
    "        print('Уровень P-value:', p_value)\n",
    "        \n",
    "        if (p_value < alpha):\n",
    "            print(\"Отвергаем нулевую гипотезу\")\n",
    "        else:\n",
    "            print(\"Не получилось отвергнуть нулевую гипотезу\")\n",
    "            \n",
    "        print()"
   ]
  },
  {
   "cell_type": "markdown",
   "metadata": {},
   "source": [
    "**Группы 246 и 247**"
   ]
  },
  {
   "cell_type": "code",
   "execution_count": 30,
   "metadata": {},
   "outputs": [
    {
     "name": "stdout",
     "output_type": "stream",
     "text": [
      "Событие: MainScreenAppear\n",
      "Уровень P-value: 0.7570597232046099\n",
      "Не получилось отвергнуть нулевую гипотезу\n",
      "\n",
      "Событие: OffersScreenAppear\n",
      "Уровень P-value: 0.2480954578522181\n",
      "Не получилось отвергнуть нулевую гипотезу\n",
      "\n",
      "Событие: CartScreenAppear\n",
      "Уровень P-value: 0.22883372237997213\n",
      "Не получилось отвергнуть нулевую гипотезу\n",
      "\n",
      "Событие: PaymentScreenSuccessful\n",
      "Уровень P-value: 0.11456679313141849\n",
      "Не получилось отвергнуть нулевую гипотезу\n",
      "\n"
     ]
    }
   ],
   "source": [
    "z_test(246, 247, 0.01)"
   ]
  },
  {
   "cell_type": "markdown",
   "metadata": {},
   "source": [
    "По итогам проведенных 4-х тестов, отличие между группами 246 и 247 статистически не достоверно, а они у нас являются контрольными.\n",
    "<br>Следовательно, по итогам А/А теста можно сказать, что разбиение трафика на группы корректно."
   ]
  },
  {
   "cell_type": "markdown",
   "metadata": {},
   "source": [
    "**Группы 246 и 248**"
   ]
  },
  {
   "cell_type": "code",
   "execution_count": 31,
   "metadata": {},
   "outputs": [
    {
     "name": "stdout",
     "output_type": "stream",
     "text": [
      "Событие: MainScreenAppear\n",
      "Уровень P-value: 0.2949721933554552\n",
      "Не получилось отвергнуть нулевую гипотезу\n",
      "\n",
      "Событие: OffersScreenAppear\n",
      "Уровень P-value: 0.20836205402738917\n",
      "Не получилось отвергнуть нулевую гипотезу\n",
      "\n",
      "Событие: CartScreenAppear\n",
      "Уровень P-value: 0.07842923237520116\n",
      "Не получилось отвергнуть нулевую гипотезу\n",
      "\n",
      "Событие: PaymentScreenSuccessful\n",
      "Уровень P-value: 0.2122553275697796\n",
      "Не получилось отвергнуть нулевую гипотезу\n",
      "\n"
     ]
    }
   ],
   "source": [
    "z_test(246, 248, 0.01)"
   ]
  },
  {
   "cell_type": "markdown",
   "metadata": {},
   "source": [
    "Отличие между группами 246 и 248 статистически не достоверно"
   ]
  },
  {
   "cell_type": "markdown",
   "metadata": {},
   "source": [
    "**Группы 247 и 248**"
   ]
  },
  {
   "cell_type": "code",
   "execution_count": 32,
   "metadata": {},
   "outputs": [
    {
     "name": "stdout",
     "output_type": "stream",
     "text": [
      "Событие: MainScreenAppear\n",
      "Уровень P-value: 0.4587053616621515\n",
      "Не получилось отвергнуть нулевую гипотезу\n",
      "\n",
      "Событие: OffersScreenAppear\n",
      "Уровень P-value: 0.9197817830592261\n",
      "Не получилось отвергнуть нулевую гипотезу\n",
      "\n",
      "Событие: CartScreenAppear\n",
      "Уровень P-value: 0.5786197879539783\n",
      "Не получилось отвергнуть нулевую гипотезу\n",
      "\n",
      "Событие: PaymentScreenSuccessful\n",
      "Уровень P-value: 0.7373415053803964\n",
      "Не получилось отвергнуть нулевую гипотезу\n",
      "\n"
     ]
    }
   ],
   "source": [
    "z_test(247, 248, 0.01)"
   ]
  },
  {
   "cell_type": "markdown",
   "metadata": {},
   "source": [
    "Отличие между группами 247 и 248 статистически не достоверно"
   ]
  },
  {
   "cell_type": "markdown",
   "metadata": {},
   "source": [
    "**Группы 246+247 и 248**"
   ]
  },
  {
   "cell_type": "code",
   "execution_count": 33,
   "metadata": {},
   "outputs": [
    {
     "name": "stdout",
     "output_type": "stream",
     "text": [
      "Событие: MainScreenAppear\n",
      "Уровень P-value: 0.29424526837179577\n",
      "Не получилось отвергнуть нулевую гипотезу\n",
      "\n",
      "Событие: OffersScreenAppear\n",
      "Уровень P-value: 0.43425549655188256\n",
      "Не получилось отвергнуть нулевую гипотезу\n",
      "\n",
      "Событие: CartScreenAppear\n",
      "Уровень P-value: 0.18175875284404386\n",
      "Не получилось отвергнуть нулевую гипотезу\n",
      "\n",
      "Событие: PaymentScreenSuccessful\n",
      "Уровень P-value: 0.6004294282308704\n",
      "Не получилось отвергнуть нулевую гипотезу\n",
      "\n"
     ]
    }
   ],
   "source": [
    "z_test('246+247', 248, 0.01)"
   ]
  },
  {
   "cell_type": "markdown",
   "metadata": {},
   "source": [
    "Отличие между контрольными группами 246 и 247 и группой 248 статистически не достоверно"
   ]
  },
  {
   "cell_type": "markdown",
   "metadata": {},
   "source": [
    "При проверке гипотез статистическая значимостть была равна 0.01 из-за большого размера тестируемых групп.\n",
    "<br>Мы провели 16 тестов, и при таком количестве возникает вероятность ошибки первого рода.\n",
    "<br>Проверим оптимальность выбранного уровня стат.значимости используя поправку Бонферрони:"
   ]
  },
  {
   "cell_type": "code",
   "execution_count": 34,
   "metadata": {},
   "outputs": [
    {
     "name": "stdout",
     "output_type": "stream",
     "text": [
      "Коэффициент статистической значимости с учетом поправки Бонферрони: 0.000625\n"
     ]
    }
   ],
   "source": [
    "alpha_bon = 0.01/16\n",
    "print(f'Коэффициент статистической значимости с учетом поправки Бонферрони: {alpha_bon}')"
   ]
  },
  {
   "cell_type": "code",
   "execution_count": 35,
   "metadata": {
    "scrolled": true
   },
   "outputs": [
    {
     "name": "stdout",
     "output_type": "stream",
     "text": [
      "Событие: MainScreenAppear\n",
      "Уровень P-value: 0.7570597232046099\n",
      "Не получилось отвергнуть нулевую гипотезу\n",
      "\n",
      "Событие: OffersScreenAppear\n",
      "Уровень P-value: 0.2480954578522181\n",
      "Не получилось отвергнуть нулевую гипотезу\n",
      "\n",
      "Событие: CartScreenAppear\n",
      "Уровень P-value: 0.22883372237997213\n",
      "Не получилось отвергнуть нулевую гипотезу\n",
      "\n",
      "Событие: PaymentScreenSuccessful\n",
      "Уровень P-value: 0.11456679313141849\n",
      "Не получилось отвергнуть нулевую гипотезу\n",
      "\n"
     ]
    }
   ],
   "source": [
    "z_test(246, 247, alpha_bon)"
   ]
  },
  {
   "cell_type": "code",
   "execution_count": 36,
   "metadata": {},
   "outputs": [
    {
     "name": "stdout",
     "output_type": "stream",
     "text": [
      "Событие: MainScreenAppear\n",
      "Уровень P-value: 0.2949721933554552\n",
      "Не получилось отвергнуть нулевую гипотезу\n",
      "\n",
      "Событие: OffersScreenAppear\n",
      "Уровень P-value: 0.20836205402738917\n",
      "Не получилось отвергнуть нулевую гипотезу\n",
      "\n",
      "Событие: CartScreenAppear\n",
      "Уровень P-value: 0.07842923237520116\n",
      "Не получилось отвергнуть нулевую гипотезу\n",
      "\n",
      "Событие: PaymentScreenSuccessful\n",
      "Уровень P-value: 0.2122553275697796\n",
      "Не получилось отвергнуть нулевую гипотезу\n",
      "\n"
     ]
    }
   ],
   "source": [
    "z_test(246, 248, alpha_bon)"
   ]
  },
  {
   "cell_type": "code",
   "execution_count": 37,
   "metadata": {},
   "outputs": [
    {
     "name": "stdout",
     "output_type": "stream",
     "text": [
      "Событие: MainScreenAppear\n",
      "Уровень P-value: 0.4587053616621515\n",
      "Не получилось отвергнуть нулевую гипотезу\n",
      "\n",
      "Событие: OffersScreenAppear\n",
      "Уровень P-value: 0.9197817830592261\n",
      "Не получилось отвергнуть нулевую гипотезу\n",
      "\n",
      "Событие: CartScreenAppear\n",
      "Уровень P-value: 0.5786197879539783\n",
      "Не получилось отвергнуть нулевую гипотезу\n",
      "\n",
      "Событие: PaymentScreenSuccessful\n",
      "Уровень P-value: 0.7373415053803964\n",
      "Не получилось отвергнуть нулевую гипотезу\n",
      "\n"
     ]
    }
   ],
   "source": [
    "z_test(247, 248, alpha_bon)"
   ]
  },
  {
   "cell_type": "code",
   "execution_count": 38,
   "metadata": {},
   "outputs": [
    {
     "name": "stdout",
     "output_type": "stream",
     "text": [
      "Событие: MainScreenAppear\n",
      "Уровень P-value: 0.29424526837179577\n",
      "Не получилось отвергнуть нулевую гипотезу\n",
      "\n",
      "Событие: OffersScreenAppear\n",
      "Уровень P-value: 0.43425549655188256\n",
      "Не получилось отвергнуть нулевую гипотезу\n",
      "\n",
      "Событие: CartScreenAppear\n",
      "Уровень P-value: 0.18175875284404386\n",
      "Не получилось отвергнуть нулевую гипотезу\n",
      "\n",
      "Событие: PaymentScreenSuccessful\n",
      "Уровень P-value: 0.6004294282308704\n",
      "Не получилось отвергнуть нулевую гипотезу\n",
      "\n"
     ]
    }
   ],
   "source": [
    "z_test('246+247', 248, alpha_bon)"
   ]
  },
  {
   "cell_type": "markdown",
   "metadata": {},
   "source": [
    "После применения поправки Бонферрони мы также получили результат, который подтверждает оптимальность выбранной нами ранее велечины стат.значимости - во всех тестах нулевые гипотезы не были отвергнуты."
   ]
  },
  {
   "cell_type": "markdown",
   "metadata": {},
   "source": [
    "<h3>Итоговый вывод</h3>"
   ]
  },
  {
   "cell_type": "markdown",
   "metadata": {},
   "source": [
    "Мы открыли и предобработали данные:\n",
    "- обнаруженные дубликаты устранены\n",
    "- названя столбцов приведены к нужному стилю\n",
    "- тип столбца с датой и временем изменен на корректный\n",
    "- добавили отдельный столбец с датой\n",
    "\n",
    "Мы изучили и проверили данные:\n",
    "- в логе 243713 событий и 7551 пользователь\n",
    "- в среднем приходится 20 событий на пользователя\n",
    "- располагаем данными с 2019-07-25 по 2019-08-07, но считаем, что данные полные с 2019-08-01\n",
    "- отбросив старые данные получили, что потери в событиях и пользователях малы и не являются для критичными\n",
    "- у нас есть пользователи из всех трёх экспериментальных групп\n",
    "\n",
    "Изучили воронку событий:\n",
    "\n",
    "- всего имели 5 событий, но cобытие 'Tutorial' в воронку событий не входит, поэтому получилась следующая:\n",
    "  - MainScreenAppear -> OffersScreenAppear -> CartScreenAppear -> PaymentScreenSuccessful\n",
    "- наибольшее количество пользователей теряем после первого шага - 38% (т.е. из главного в меню в каталог)\n",
    "- 18.7% отваливаются после просмотра каталога\n",
    "- чуть более 5% добавив товары в корзину, не совершают покупку.\n",
    "- от первого события до оплаты успешно доходит 47% пользователей\n",
    "\n",
    "Скорее-всего, проблема потери пользователей после первого шага заключается либо в дизайне главного меню, либо присутствует какая-либо сложность или неудобство перехода в каталог.\n",
    "\n",
    "Изучили результаты эксперимента:\n",
    "- узнали кол-во пользователй в каждой группе\n",
    "  - В группе 246 - 2484 пользователей\n",
    "  - В группе 247 - 2513 пользователей\n",
    "  - В группе 248 - 2537 пользователей\n",
    "  - В объединенной контрольной группе 246+247- 4997 пользователей\n",
    "- выяснили, что отличия между группами незначительны и пользователи, которые присутствуют в нескольких группах теста отсутствуют\n",
    "- преподготовили данные для нашего удобства, перед проведением тестов\n",
    "- проведелия z-тесты c уровнем значимости в 0.01 со следующими результатами:\n",
    "  - Отличие между группами 246 и 247 статистически не достоверно\n",
    "  - Отличие между группами 246 и 248 статистически не достоверно\n",
    "  - Отличие между группами 247 и 248 статистически не достоверно\n",
    "  - Отличие между контрольными группами 246 и 247 и группой 248 статистически не достоверно\n",
    "- после применения поправки Бонферрони мы также получили результат, который подтверждает оптимальность выбранной нами ранее велечины стат.значимости\n",
    "\n",
    "**По результатам A/A/B-теста изменение шрифта на пользователей не повлияет.** \n",
    "<br>*Если дизайнеры хотят - пусть спокойно меняют, менеджерам можно не волноваться.*"
   ]
  }
 ],
 "metadata": {
  "ExecuteTimeLog": [
   {
    "duration": 1461,
    "start_time": "2023-07-10T11:14:56.188Z"
   },
   {
    "duration": 948,
    "start_time": "2023-07-10T11:14:57.651Z"
   },
   {
    "duration": 4,
    "start_time": "2023-07-10T13:29:48.192Z"
   },
   {
    "duration": 265,
    "start_time": "2023-07-10T13:29:48.624Z"
   },
   {
    "duration": 17,
    "start_time": "2023-07-10T13:30:23.916Z"
   },
   {
    "duration": 35,
    "start_time": "2023-07-10T13:30:47.808Z"
   },
   {
    "duration": 12,
    "start_time": "2023-07-10T13:30:57.401Z"
   },
   {
    "duration": 80,
    "start_time": "2023-07-10T13:31:46.497Z"
   },
   {
    "duration": 10,
    "start_time": "2023-07-10T20:03:10.909Z"
   },
   {
    "duration": 10,
    "start_time": "2023-07-10T20:03:56.812Z"
   },
   {
    "duration": 8,
    "start_time": "2023-07-10T20:04:05.713Z"
   },
   {
    "duration": 9,
    "start_time": "2023-07-10T20:04:12.167Z"
   },
   {
    "duration": 8,
    "start_time": "2023-07-10T20:04:16.952Z"
   },
   {
    "duration": 66,
    "start_time": "2023-07-10T20:14:22.720Z"
   },
   {
    "duration": 130,
    "start_time": "2023-07-10T20:35:16.272Z"
   },
   {
    "duration": 106,
    "start_time": "2023-07-10T20:39:03.944Z"
   },
   {
    "duration": 25,
    "start_time": "2023-07-10T20:48:14.294Z"
   },
   {
    "duration": 11,
    "start_time": "2023-07-10T20:49:58.135Z"
   },
   {
    "duration": 1185,
    "start_time": "2023-07-10T22:54:25.124Z"
   },
   {
    "duration": 201,
    "start_time": "2023-07-10T22:54:26.311Z"
   },
   {
    "duration": 22,
    "start_time": "2023-07-10T22:54:26.514Z"
   },
   {
    "duration": 23,
    "start_time": "2023-07-10T22:54:26.538Z"
   },
   {
    "duration": 76,
    "start_time": "2023-07-10T22:54:26.562Z"
   },
   {
    "duration": 7,
    "start_time": "2023-07-10T22:54:26.639Z"
   },
   {
    "duration": 143,
    "start_time": "2023-07-10T22:54:26.659Z"
   },
   {
    "duration": 100,
    "start_time": "2023-07-10T22:54:26.804Z"
   },
   {
    "duration": 8,
    "start_time": "2023-07-10T22:54:26.906Z"
   },
   {
    "duration": 1188,
    "start_time": "2023-07-10T23:35:15.322Z"
   },
   {
    "duration": 199,
    "start_time": "2023-07-10T23:35:16.512Z"
   },
   {
    "duration": 23,
    "start_time": "2023-07-10T23:35:16.713Z"
   },
   {
    "duration": 26,
    "start_time": "2023-07-10T23:35:16.737Z"
   },
   {
    "duration": 74,
    "start_time": "2023-07-10T23:35:16.766Z"
   },
   {
    "duration": 22,
    "start_time": "2023-07-10T23:35:16.842Z"
   },
   {
    "duration": 159,
    "start_time": "2023-07-10T23:35:16.867Z"
   },
   {
    "duration": 1073,
    "start_time": "2023-07-10T23:35:17.029Z"
   },
   {
    "duration": 0,
    "start_time": "2023-07-10T23:35:18.104Z"
   },
   {
    "duration": 994,
    "start_time": "2023-07-10T23:38:11.824Z"
   },
   {
    "duration": 96,
    "start_time": "2023-07-10T23:38:39.390Z"
   },
   {
    "duration": 12,
    "start_time": "2023-07-10T23:38:42.147Z"
   },
   {
    "duration": 103,
    "start_time": "2023-07-10T23:39:43.727Z"
   },
   {
    "duration": 10,
    "start_time": "2023-07-10T23:39:46.696Z"
   },
   {
    "duration": 106,
    "start_time": "2023-07-10T23:55:07.145Z"
   },
   {
    "duration": 13,
    "start_time": "2023-07-10T23:55:07.253Z"
   },
   {
    "duration": 43,
    "start_time": "2023-07-10T23:55:31.407Z"
   },
   {
    "duration": 10,
    "start_time": "2023-07-10T23:55:32.586Z"
   },
   {
    "duration": 1140,
    "start_time": "2023-07-10T23:55:41.742Z"
   },
   {
    "duration": 197,
    "start_time": "2023-07-10T23:55:42.884Z"
   },
   {
    "duration": 25,
    "start_time": "2023-07-10T23:55:43.083Z"
   },
   {
    "duration": 20,
    "start_time": "2023-07-10T23:55:43.110Z"
   },
   {
    "duration": 74,
    "start_time": "2023-07-10T23:55:43.131Z"
   },
   {
    "duration": 7,
    "start_time": "2023-07-10T23:55:43.207Z"
   },
   {
    "duration": 146,
    "start_time": "2023-07-10T23:55:43.216Z"
   },
   {
    "duration": 23,
    "start_time": "2023-07-10T23:55:43.363Z"
   },
   {
    "duration": 8,
    "start_time": "2023-07-10T23:55:43.388Z"
   },
   {
    "duration": 119,
    "start_time": "2023-07-10T23:56:52.401Z"
   },
   {
    "duration": 9,
    "start_time": "2023-07-10T23:56:52.522Z"
   },
   {
    "duration": 4,
    "start_time": "2023-07-10T23:58:28.335Z"
   },
   {
    "duration": 8,
    "start_time": "2023-07-10T23:58:51.799Z"
   },
   {
    "duration": 1111,
    "start_time": "2023-07-10T23:59:13.972Z"
   },
   {
    "duration": 16,
    "start_time": "2023-07-10T23:59:27.635Z"
   },
   {
    "duration": 1139,
    "start_time": "2023-07-11T00:01:13.713Z"
   },
   {
    "duration": 6,
    "start_time": "2023-07-11T00:01:32.899Z"
   },
   {
    "duration": 11,
    "start_time": "2023-07-11T00:03:38.824Z"
   },
   {
    "duration": 5,
    "start_time": "2023-07-11T00:03:42.340Z"
   },
   {
    "duration": 6,
    "start_time": "2023-07-11T00:03:54.863Z"
   },
   {
    "duration": 1064,
    "start_time": "2023-07-11T00:04:12.445Z"
   },
   {
    "duration": 390,
    "start_time": "2023-07-11T00:04:24.997Z"
   },
   {
    "duration": 298,
    "start_time": "2023-07-11T00:04:56.498Z"
   },
   {
    "duration": 507,
    "start_time": "2023-07-11T00:05:46.708Z"
   },
   {
    "duration": 420,
    "start_time": "2023-07-11T00:05:55.747Z"
   },
   {
    "duration": 424,
    "start_time": "2023-07-11T00:06:00.732Z"
   },
   {
    "duration": 416,
    "start_time": "2023-07-11T00:06:16.781Z"
   },
   {
    "duration": 536,
    "start_time": "2023-07-11T00:06:54.156Z"
   },
   {
    "duration": 446,
    "start_time": "2023-07-11T00:07:01.507Z"
   },
   {
    "duration": 12,
    "start_time": "2023-07-11T00:12:32.556Z"
   },
   {
    "duration": 1035,
    "start_time": "2023-07-11T00:12:52.418Z"
   },
   {
    "duration": 19,
    "start_time": "2023-07-11T00:13:22.354Z"
   },
   {
    "duration": 24,
    "start_time": "2023-07-11T00:13:37.458Z"
   },
   {
    "duration": 18,
    "start_time": "2023-07-11T00:14:26.583Z"
   },
   {
    "duration": 26,
    "start_time": "2023-07-11T00:14:38.949Z"
   },
   {
    "duration": 44,
    "start_time": "2023-07-11T00:16:48.902Z"
   },
   {
    "duration": 22,
    "start_time": "2023-07-11T00:17:13.332Z"
   },
   {
    "duration": 32,
    "start_time": "2023-07-11T00:17:29.472Z"
   },
   {
    "duration": 20,
    "start_time": "2023-07-11T00:17:54.346Z"
   },
   {
    "duration": 64,
    "start_time": "2023-07-11T00:22:45.116Z"
   },
   {
    "duration": 57,
    "start_time": "2023-07-11T00:24:17.360Z"
   },
   {
    "duration": 58,
    "start_time": "2023-07-11T00:24:26.579Z"
   },
   {
    "duration": 56,
    "start_time": "2023-07-11T00:24:52.335Z"
   },
   {
    "duration": 70,
    "start_time": "2023-07-11T00:25:29.786Z"
   },
   {
    "duration": 58,
    "start_time": "2023-07-11T00:25:38.060Z"
   },
   {
    "duration": 14,
    "start_time": "2023-07-11T00:28:49.554Z"
   },
   {
    "duration": 15,
    "start_time": "2023-07-11T00:29:50.521Z"
   },
   {
    "duration": 9,
    "start_time": "2023-07-11T00:30:34.997Z"
   },
   {
    "duration": 11,
    "start_time": "2023-07-11T00:31:00.959Z"
   },
   {
    "duration": 77,
    "start_time": "2023-07-11T00:31:30.710Z"
   },
   {
    "duration": 145,
    "start_time": "2023-07-11T00:31:48.688Z"
   },
   {
    "duration": 70,
    "start_time": "2023-07-11T00:32:17.462Z"
   },
   {
    "duration": 78,
    "start_time": "2023-07-11T00:32:44.652Z"
   },
   {
    "duration": 68,
    "start_time": "2023-07-11T00:33:00.485Z"
   },
   {
    "duration": 70,
    "start_time": "2023-07-11T00:33:14.663Z"
   },
   {
    "duration": 72,
    "start_time": "2023-07-11T00:33:21.264Z"
   },
   {
    "duration": 12,
    "start_time": "2023-07-11T00:33:29.798Z"
   },
   {
    "duration": 12,
    "start_time": "2023-07-11T00:33:59.082Z"
   },
   {
    "duration": 11,
    "start_time": "2023-07-11T00:34:06.105Z"
   },
   {
    "duration": 12,
    "start_time": "2023-07-11T00:34:16.822Z"
   },
   {
    "duration": 12,
    "start_time": "2023-07-11T00:35:07.532Z"
   },
   {
    "duration": 11,
    "start_time": "2023-07-11T00:35:19.316Z"
   },
   {
    "duration": 12,
    "start_time": "2023-07-11T00:35:52.474Z"
   },
   {
    "duration": 12,
    "start_time": "2023-07-11T00:36:30.219Z"
   },
   {
    "duration": 15,
    "start_time": "2023-07-11T00:37:29.835Z"
   },
   {
    "duration": 15,
    "start_time": "2023-07-11T00:37:44.011Z"
   },
   {
    "duration": 10,
    "start_time": "2023-07-11T00:54:41.591Z"
   },
   {
    "duration": 1214,
    "start_time": "2023-07-11T00:56:13.219Z"
   },
   {
    "duration": 197,
    "start_time": "2023-07-11T00:56:14.435Z"
   },
   {
    "duration": 39,
    "start_time": "2023-07-11T00:56:14.634Z"
   },
   {
    "duration": 12,
    "start_time": "2023-07-11T00:56:14.675Z"
   },
   {
    "duration": 84,
    "start_time": "2023-07-11T00:56:14.689Z"
   },
   {
    "duration": 7,
    "start_time": "2023-07-11T00:56:14.775Z"
   },
   {
    "duration": 147,
    "start_time": "2023-07-11T00:56:14.784Z"
   },
   {
    "duration": 144,
    "start_time": "2023-07-11T00:56:14.932Z"
   },
   {
    "duration": 10,
    "start_time": "2023-07-11T00:56:15.077Z"
   },
   {
    "duration": 5,
    "start_time": "2023-07-11T00:56:15.088Z"
   },
   {
    "duration": 9,
    "start_time": "2023-07-11T00:56:15.095Z"
   },
   {
    "duration": 14,
    "start_time": "2023-07-11T00:56:15.106Z"
   },
   {
    "duration": 4,
    "start_time": "2023-07-11T00:56:15.122Z"
   },
   {
    "duration": 596,
    "start_time": "2023-07-11T00:56:15.129Z"
   },
   {
    "duration": 50,
    "start_time": "2023-07-11T00:56:15.727Z"
   },
   {
    "duration": 18,
    "start_time": "2023-07-11T00:56:15.778Z"
   },
   {
    "duration": 38,
    "start_time": "2023-07-11T00:56:15.798Z"
   },
   {
    "duration": 39,
    "start_time": "2023-07-11T00:56:15.837Z"
   },
   {
    "duration": 66,
    "start_time": "2023-07-11T00:56:15.878Z"
   },
   {
    "duration": 127,
    "start_time": "2023-07-11T00:56:15.946Z"
   },
   {
    "duration": 11,
    "start_time": "2023-07-11T01:22:41.616Z"
   },
   {
    "duration": 11,
    "start_time": "2023-07-11T01:22:52.972Z"
   },
   {
    "duration": 11,
    "start_time": "2023-07-11T01:23:26.351Z"
   },
   {
    "duration": 12,
    "start_time": "2023-07-11T01:24:09.031Z"
   },
   {
    "duration": 13,
    "start_time": "2023-07-11T01:24:18.191Z"
   },
   {
    "duration": 12,
    "start_time": "2023-07-11T01:24:44.350Z"
   },
   {
    "duration": 11,
    "start_time": "2023-07-11T01:24:52.099Z"
   },
   {
    "duration": 11,
    "start_time": "2023-07-11T01:24:57.529Z"
   },
   {
    "duration": 1210,
    "start_time": "2023-07-11T01:25:08.096Z"
   },
   {
    "duration": 185,
    "start_time": "2023-07-11T01:25:09.308Z"
   },
   {
    "duration": 20,
    "start_time": "2023-07-11T01:25:09.495Z"
   },
   {
    "duration": 17,
    "start_time": "2023-07-11T01:25:09.517Z"
   },
   {
    "duration": 75,
    "start_time": "2023-07-11T01:25:09.536Z"
   },
   {
    "duration": 7,
    "start_time": "2023-07-11T01:25:09.613Z"
   },
   {
    "duration": 153,
    "start_time": "2023-07-11T01:25:09.622Z"
   },
   {
    "duration": 127,
    "start_time": "2023-07-11T01:25:09.777Z"
   },
   {
    "duration": 9,
    "start_time": "2023-07-11T01:25:09.906Z"
   },
   {
    "duration": 6,
    "start_time": "2023-07-11T01:25:09.917Z"
   },
   {
    "duration": 13,
    "start_time": "2023-07-11T01:25:09.925Z"
   },
   {
    "duration": 27,
    "start_time": "2023-07-11T01:25:09.940Z"
   },
   {
    "duration": 7,
    "start_time": "2023-07-11T01:25:09.969Z"
   },
   {
    "duration": 533,
    "start_time": "2023-07-11T01:25:09.977Z"
   },
   {
    "duration": 28,
    "start_time": "2023-07-11T01:25:10.512Z"
   },
   {
    "duration": 31,
    "start_time": "2023-07-11T01:25:10.542Z"
   },
   {
    "duration": 37,
    "start_time": "2023-07-11T01:25:10.575Z"
   },
   {
    "duration": 20,
    "start_time": "2023-07-11T01:25:10.614Z"
   },
   {
    "duration": 59,
    "start_time": "2023-07-11T01:25:10.658Z"
   },
   {
    "duration": 11,
    "start_time": "2023-07-11T01:25:10.718Z"
   },
   {
    "duration": 11,
    "start_time": "2023-07-11T01:28:13.872Z"
   },
   {
    "duration": 12,
    "start_time": "2023-07-11T01:28:36.392Z"
   },
   {
    "duration": 104,
    "start_time": "2023-07-11T01:38:51.993Z"
   },
   {
    "duration": 52,
    "start_time": "2023-07-11T01:39:10.052Z"
   },
   {
    "duration": 67,
    "start_time": "2023-07-11T01:39:29.926Z"
   },
   {
    "duration": 1825,
    "start_time": "2023-07-11T11:25:30.250Z"
   },
   {
    "duration": 1020,
    "start_time": "2023-07-11T11:25:32.078Z"
   },
   {
    "duration": 39,
    "start_time": "2023-07-11T11:25:33.106Z"
   },
   {
    "duration": 11,
    "start_time": "2023-07-11T11:25:33.146Z"
   },
   {
    "duration": 87,
    "start_time": "2023-07-11T11:25:33.158Z"
   },
   {
    "duration": 8,
    "start_time": "2023-07-11T11:25:33.247Z"
   },
   {
    "duration": 136,
    "start_time": "2023-07-11T11:25:33.256Z"
   },
   {
    "duration": 155,
    "start_time": "2023-07-11T11:25:33.394Z"
   },
   {
    "duration": 12,
    "start_time": "2023-07-11T11:25:33.550Z"
   },
   {
    "duration": 34,
    "start_time": "2023-07-11T11:25:33.564Z"
   },
   {
    "duration": 47,
    "start_time": "2023-07-11T11:25:33.607Z"
   },
   {
    "duration": 12,
    "start_time": "2023-07-11T11:25:33.656Z"
   },
   {
    "duration": 4,
    "start_time": "2023-07-11T11:25:33.670Z"
   },
   {
    "duration": 513,
    "start_time": "2023-07-11T11:25:33.676Z"
   },
   {
    "duration": 41,
    "start_time": "2023-07-11T11:25:34.192Z"
   },
   {
    "duration": 41,
    "start_time": "2023-07-11T11:25:34.234Z"
   },
   {
    "duration": 44,
    "start_time": "2023-07-11T11:25:34.276Z"
   },
   {
    "duration": 46,
    "start_time": "2023-07-11T11:25:34.322Z"
   },
   {
    "duration": 122,
    "start_time": "2023-07-11T11:25:34.370Z"
   },
   {
    "duration": 27,
    "start_time": "2023-07-11T11:25:34.494Z"
   },
   {
    "duration": 123,
    "start_time": "2023-07-11T11:25:34.522Z"
   },
   {
    "duration": 103,
    "start_time": "2023-07-11T11:25:34.650Z"
   },
   {
    "duration": 1434,
    "start_time": "2023-07-11T12:45:32.027Z"
   },
   {
    "duration": 1171,
    "start_time": "2023-07-11T12:45:33.466Z"
   },
   {
    "duration": 34,
    "start_time": "2023-07-11T12:45:34.648Z"
   },
   {
    "duration": 10,
    "start_time": "2023-07-11T12:45:34.683Z"
   },
   {
    "duration": 98,
    "start_time": "2023-07-11T12:45:34.695Z"
   },
   {
    "duration": 9,
    "start_time": "2023-07-11T12:45:34.794Z"
   },
   {
    "duration": 238,
    "start_time": "2023-07-11T12:45:34.804Z"
   },
   {
    "duration": 166,
    "start_time": "2023-07-11T12:45:35.044Z"
   },
   {
    "duration": 11,
    "start_time": "2023-07-11T12:45:35.215Z"
   },
   {
    "duration": 60,
    "start_time": "2023-07-11T12:45:35.230Z"
   },
   {
    "duration": 78,
    "start_time": "2023-07-11T12:45:35.291Z"
   },
   {
    "duration": 83,
    "start_time": "2023-07-11T12:45:35.378Z"
   },
   {
    "duration": 95,
    "start_time": "2023-07-11T12:45:35.462Z"
   },
   {
    "duration": 627,
    "start_time": "2023-07-11T12:45:35.563Z"
   },
   {
    "duration": 77,
    "start_time": "2023-07-11T12:45:36.192Z"
   },
   {
    "duration": 50,
    "start_time": "2023-07-11T12:45:36.288Z"
   },
   {
    "duration": 130,
    "start_time": "2023-07-11T12:45:36.339Z"
   },
   {
    "duration": 49,
    "start_time": "2023-07-11T12:45:36.472Z"
   },
   {
    "duration": 190,
    "start_time": "2023-07-11T12:45:36.522Z"
   },
   {
    "duration": 16,
    "start_time": "2023-07-11T12:45:36.713Z"
   },
   {
    "duration": 155,
    "start_time": "2023-07-11T12:45:36.730Z"
   },
   {
    "duration": 105,
    "start_time": "2023-07-11T12:45:36.887Z"
   },
   {
    "duration": 13,
    "start_time": "2023-07-11T14:26:20.734Z"
   },
   {
    "duration": 19,
    "start_time": "2023-07-11T23:36:45.232Z"
   },
   {
    "duration": 17,
    "start_time": "2023-07-11T23:37:39.234Z"
   },
   {
    "duration": 142,
    "start_time": "2023-07-11T23:39:50.985Z"
   },
   {
    "duration": 51,
    "start_time": "2023-07-11T23:42:59.000Z"
   },
   {
    "duration": 1062,
    "start_time": "2023-07-11T23:43:16.744Z"
   },
   {
    "duration": 837,
    "start_time": "2023-07-11T23:43:17.808Z"
   },
   {
    "duration": 18,
    "start_time": "2023-07-11T23:43:18.647Z"
   },
   {
    "duration": 9,
    "start_time": "2023-07-11T23:43:18.666Z"
   },
   {
    "duration": 76,
    "start_time": "2023-07-11T23:43:18.677Z"
   },
   {
    "duration": 7,
    "start_time": "2023-07-11T23:43:18.754Z"
   },
   {
    "duration": 127,
    "start_time": "2023-07-11T23:43:18.762Z"
   },
   {
    "duration": 138,
    "start_time": "2023-07-11T23:43:18.891Z"
   },
   {
    "duration": 8,
    "start_time": "2023-07-11T23:43:19.039Z"
   },
   {
    "duration": 6,
    "start_time": "2023-07-11T23:43:19.048Z"
   },
   {
    "duration": 15,
    "start_time": "2023-07-11T23:43:19.055Z"
   },
   {
    "duration": 12,
    "start_time": "2023-07-11T23:43:19.072Z"
   },
   {
    "duration": 4,
    "start_time": "2023-07-11T23:43:19.086Z"
   },
   {
    "duration": 465,
    "start_time": "2023-07-11T23:43:19.092Z"
   },
   {
    "duration": 22,
    "start_time": "2023-07-11T23:43:19.559Z"
   },
   {
    "duration": 38,
    "start_time": "2023-07-11T23:43:19.583Z"
   },
   {
    "duration": 35,
    "start_time": "2023-07-11T23:43:19.622Z"
   },
   {
    "duration": 18,
    "start_time": "2023-07-11T23:43:19.659Z"
   },
   {
    "duration": 72,
    "start_time": "2023-07-11T23:43:19.678Z"
   },
   {
    "duration": 10,
    "start_time": "2023-07-11T23:43:19.751Z"
   },
   {
    "duration": 78,
    "start_time": "2023-07-11T23:43:19.762Z"
   },
   {
    "duration": 14,
    "start_time": "2023-07-11T23:43:19.843Z"
   },
   {
    "duration": 118,
    "start_time": "2023-07-11T23:43:19.859Z"
   },
   {
    "duration": 2168,
    "start_time": "2023-07-11T23:43:35.684Z"
   },
   {
    "duration": 51,
    "start_time": "2023-07-11T23:43:59.580Z"
   },
   {
    "duration": 24,
    "start_time": "2023-07-11T23:44:06.324Z"
   },
   {
    "duration": 2624,
    "start_time": "2023-07-11T23:44:13.732Z"
   },
   {
    "duration": 2301,
    "start_time": "2023-07-11T23:45:26.261Z"
   },
   {
    "duration": 26,
    "start_time": "2023-07-11T23:50:38.797Z"
   },
   {
    "duration": 24,
    "start_time": "2023-07-11T23:50:58.162Z"
   },
   {
    "duration": 96,
    "start_time": "2023-07-11T23:51:21.976Z"
   },
   {
    "duration": 117,
    "start_time": "2023-07-11T23:51:38.149Z"
   },
   {
    "duration": 33,
    "start_time": "2023-07-11T23:52:22.043Z"
   },
   {
    "duration": 4,
    "start_time": "2023-07-11T23:52:28.034Z"
   },
   {
    "duration": 4,
    "start_time": "2023-07-11T23:53:48.164Z"
   },
   {
    "duration": 4,
    "start_time": "2023-07-11T23:53:56.760Z"
   },
   {
    "duration": 4,
    "start_time": "2023-07-11T23:54:15.939Z"
   },
   {
    "duration": 13,
    "start_time": "2023-07-11T23:54:55.324Z"
   },
   {
    "duration": 10,
    "start_time": "2023-07-12T00:21:36.841Z"
   },
   {
    "duration": 14,
    "start_time": "2023-07-12T00:22:30.222Z"
   },
   {
    "duration": 6,
    "start_time": "2023-07-12T00:22:39.574Z"
   },
   {
    "duration": 10,
    "start_time": "2023-07-12T00:22:48.033Z"
   },
   {
    "duration": 6,
    "start_time": "2023-07-12T00:22:52.056Z"
   },
   {
    "duration": 6,
    "start_time": "2023-07-12T00:24:08.076Z"
   },
   {
    "duration": 9,
    "start_time": "2023-07-12T00:24:28.133Z"
   },
   {
    "duration": 19,
    "start_time": "2023-07-12T00:24:38.214Z"
   },
   {
    "duration": 1150,
    "start_time": "2023-07-12T00:24:52.129Z"
   },
   {
    "duration": 256,
    "start_time": "2023-07-12T00:24:53.281Z"
   },
   {
    "duration": 33,
    "start_time": "2023-07-12T00:24:53.538Z"
   },
   {
    "duration": 10,
    "start_time": "2023-07-12T00:24:53.573Z"
   },
   {
    "duration": 80,
    "start_time": "2023-07-12T00:24:53.585Z"
   },
   {
    "duration": 6,
    "start_time": "2023-07-12T00:24:53.667Z"
   },
   {
    "duration": 189,
    "start_time": "2023-07-12T00:24:53.675Z"
   },
   {
    "duration": 129,
    "start_time": "2023-07-12T00:24:53.866Z"
   },
   {
    "duration": 29,
    "start_time": "2023-07-12T00:24:53.996Z"
   },
   {
    "duration": 23,
    "start_time": "2023-07-12T00:24:54.034Z"
   },
   {
    "duration": 22,
    "start_time": "2023-07-12T00:24:54.058Z"
   },
   {
    "duration": 48,
    "start_time": "2023-07-12T00:24:54.082Z"
   },
   {
    "duration": 19,
    "start_time": "2023-07-12T00:24:54.131Z"
   },
   {
    "duration": 492,
    "start_time": "2023-07-12T00:24:54.152Z"
   },
   {
    "duration": 22,
    "start_time": "2023-07-12T00:24:54.646Z"
   },
   {
    "duration": 13,
    "start_time": "2023-07-12T00:24:54.669Z"
   },
   {
    "duration": 58,
    "start_time": "2023-07-12T00:24:54.684Z"
   },
   {
    "duration": 19,
    "start_time": "2023-07-12T00:24:54.744Z"
   },
   {
    "duration": 73,
    "start_time": "2023-07-12T00:24:54.765Z"
   },
   {
    "duration": 10,
    "start_time": "2023-07-12T00:24:54.840Z"
   },
   {
    "duration": 42,
    "start_time": "2023-07-12T00:24:54.851Z"
   },
   {
    "duration": 114,
    "start_time": "2023-07-12T00:24:54.894Z"
   },
   {
    "duration": 24,
    "start_time": "2023-07-12T00:24:55.026Z"
   },
   {
    "duration": 21,
    "start_time": "2023-07-12T00:24:55.052Z"
   },
   {
    "duration": 8,
    "start_time": "2023-07-12T00:24:55.074Z"
   },
   {
    "duration": 135,
    "start_time": "2023-07-12T00:25:58.207Z"
   },
   {
    "duration": 101,
    "start_time": "2023-07-12T00:27:39.991Z"
   },
   {
    "duration": 89,
    "start_time": "2023-07-12T00:28:41.174Z"
   },
   {
    "duration": 102,
    "start_time": "2023-07-12T00:29:10.435Z"
   },
   {
    "duration": 89,
    "start_time": "2023-07-12T00:29:17.652Z"
   },
   {
    "duration": 12,
    "start_time": "2023-07-12T00:31:34.438Z"
   },
   {
    "duration": 1409,
    "start_time": "2023-07-12T00:31:58.558Z"
   },
   {
    "duration": 21,
    "start_time": "2023-07-12T00:32:39.928Z"
   },
   {
    "duration": 10,
    "start_time": "2023-07-12T00:33:35.026Z"
   },
   {
    "duration": 18,
    "start_time": "2023-07-12T00:33:35.442Z"
   },
   {
    "duration": 5,
    "start_time": "2023-07-12T00:33:55.593Z"
   },
   {
    "duration": 24,
    "start_time": "2023-07-12T00:33:56.197Z"
   },
   {
    "duration": 1111,
    "start_time": "2023-07-12T00:35:37.941Z"
   },
   {
    "duration": 216,
    "start_time": "2023-07-12T00:35:39.054Z"
   },
   {
    "duration": 19,
    "start_time": "2023-07-12T00:35:39.272Z"
   },
   {
    "duration": 21,
    "start_time": "2023-07-12T00:35:39.292Z"
   },
   {
    "duration": 120,
    "start_time": "2023-07-12T00:35:39.314Z"
   },
   {
    "duration": 8,
    "start_time": "2023-07-12T00:35:39.436Z"
   },
   {
    "duration": 146,
    "start_time": "2023-07-12T00:35:39.445Z"
   },
   {
    "duration": 133,
    "start_time": "2023-07-12T00:35:39.592Z"
   },
   {
    "duration": 17,
    "start_time": "2023-07-12T00:35:39.726Z"
   },
   {
    "duration": 12,
    "start_time": "2023-07-12T00:35:39.744Z"
   },
   {
    "duration": 13,
    "start_time": "2023-07-12T00:35:39.757Z"
   },
   {
    "duration": 17,
    "start_time": "2023-07-12T00:35:39.771Z"
   },
   {
    "duration": 28,
    "start_time": "2023-07-12T00:35:39.789Z"
   },
   {
    "duration": 466,
    "start_time": "2023-07-12T00:35:39.825Z"
   },
   {
    "duration": 46,
    "start_time": "2023-07-12T00:35:40.292Z"
   },
   {
    "duration": 13,
    "start_time": "2023-07-12T00:35:40.340Z"
   },
   {
    "duration": 39,
    "start_time": "2023-07-12T00:35:40.354Z"
   },
   {
    "duration": 42,
    "start_time": "2023-07-12T00:35:40.395Z"
   },
   {
    "duration": 83,
    "start_time": "2023-07-12T00:35:40.438Z"
   },
   {
    "duration": 13,
    "start_time": "2023-07-12T00:35:40.522Z"
   },
   {
    "duration": 41,
    "start_time": "2023-07-12T00:35:40.538Z"
   },
   {
    "duration": 15,
    "start_time": "2023-07-12T00:35:40.580Z"
   },
   {
    "duration": 22,
    "start_time": "2023-07-12T00:35:40.597Z"
   },
   {
    "duration": 104,
    "start_time": "2023-07-12T00:35:40.621Z"
   },
   {
    "duration": 15,
    "start_time": "2023-07-12T00:35:40.731Z"
   },
   {
    "duration": 5,
    "start_time": "2023-07-12T00:35:40.747Z"
   },
   {
    "duration": 17,
    "start_time": "2023-07-12T00:35:40.754Z"
   },
   {
    "duration": 5,
    "start_time": "2023-07-12T00:45:01.585Z"
   },
   {
    "duration": 10,
    "start_time": "2023-07-12T00:45:02.761Z"
   },
   {
    "duration": 5,
    "start_time": "2023-07-12T00:45:33.891Z"
   },
   {
    "duration": 10,
    "start_time": "2023-07-12T00:45:39.234Z"
   },
   {
    "duration": 5,
    "start_time": "2023-07-12T00:45:55.467Z"
   },
   {
    "duration": 10,
    "start_time": "2023-07-12T00:45:55.965Z"
   },
   {
    "duration": 6,
    "start_time": "2023-07-12T00:49:29.635Z"
   },
   {
    "duration": 9,
    "start_time": "2023-07-12T00:49:31.752Z"
   },
   {
    "duration": 8,
    "start_time": "2023-07-12T00:50:56.957Z"
   },
   {
    "duration": 9,
    "start_time": "2023-07-12T00:51:03.883Z"
   },
   {
    "duration": 1361,
    "start_time": "2023-07-12T00:51:06.180Z"
   },
   {
    "duration": 1362,
    "start_time": "2023-07-12T00:51:31.310Z"
   },
   {
    "duration": 9,
    "start_time": "2023-07-12T00:51:56.557Z"
   },
   {
    "duration": 103,
    "start_time": "2023-07-12T00:55:24.235Z"
   },
   {
    "duration": 43,
    "start_time": "2023-07-12T00:55:29.797Z"
   },
   {
    "duration": 1831,
    "start_time": "2023-07-12T00:55:34.450Z"
   },
   {
    "duration": 1227,
    "start_time": "2023-07-12T00:55:49.326Z"
   },
   {
    "duration": 1617,
    "start_time": "2023-07-12T00:56:42.081Z"
   },
   {
    "duration": 1845,
    "start_time": "2023-07-12T00:57:01.279Z"
   },
   {
    "duration": 1739,
    "start_time": "2023-07-12T00:57:48.727Z"
   },
   {
    "duration": 105,
    "start_time": "2023-07-12T00:58:09.787Z"
   },
   {
    "duration": 91,
    "start_time": "2023-07-12T00:58:15.187Z"
   },
   {
    "duration": 104,
    "start_time": "2023-07-12T00:58:30.781Z"
   },
   {
    "duration": 103,
    "start_time": "2023-07-12T00:59:05.522Z"
   },
   {
    "duration": 15,
    "start_time": "2023-07-12T00:59:16.730Z"
   },
   {
    "duration": 1623,
    "start_time": "2023-07-12T00:59:23.058Z"
   },
   {
    "duration": 1121,
    "start_time": "2023-07-12T01:00:03.991Z"
   },
   {
    "duration": 228,
    "start_time": "2023-07-12T01:00:05.114Z"
   },
   {
    "duration": 20,
    "start_time": "2023-07-12T01:00:05.344Z"
   },
   {
    "duration": 11,
    "start_time": "2023-07-12T01:00:05.366Z"
   },
   {
    "duration": 91,
    "start_time": "2023-07-12T01:00:05.379Z"
   },
   {
    "duration": 6,
    "start_time": "2023-07-12T01:00:05.472Z"
   },
   {
    "duration": 182,
    "start_time": "2023-07-12T01:00:05.480Z"
   },
   {
    "duration": 116,
    "start_time": "2023-07-12T01:00:05.664Z"
   },
   {
    "duration": 7,
    "start_time": "2023-07-12T01:00:05.782Z"
   },
   {
    "duration": 47,
    "start_time": "2023-07-12T01:00:05.791Z"
   },
   {
    "duration": 9,
    "start_time": "2023-07-12T01:00:05.839Z"
   },
   {
    "duration": 15,
    "start_time": "2023-07-12T01:00:05.850Z"
   },
   {
    "duration": 4,
    "start_time": "2023-07-12T01:00:05.867Z"
   },
   {
    "duration": 507,
    "start_time": "2023-07-12T01:00:05.872Z"
   },
   {
    "duration": 57,
    "start_time": "2023-07-12T01:00:06.380Z"
   },
   {
    "duration": 14,
    "start_time": "2023-07-12T01:00:06.439Z"
   },
   {
    "duration": 31,
    "start_time": "2023-07-12T01:00:06.455Z"
   },
   {
    "duration": 48,
    "start_time": "2023-07-12T01:00:06.487Z"
   },
   {
    "duration": 55,
    "start_time": "2023-07-12T01:00:06.537Z"
   },
   {
    "duration": 44,
    "start_time": "2023-07-12T01:00:06.594Z"
   },
   {
    "duration": 31,
    "start_time": "2023-07-12T01:00:06.639Z"
   },
   {
    "duration": 15,
    "start_time": "2023-07-12T01:00:06.672Z"
   },
   {
    "duration": 3,
    "start_time": "2023-07-12T01:00:06.689Z"
   },
   {
    "duration": 103,
    "start_time": "2023-07-12T01:00:06.694Z"
   },
   {
    "duration": 12,
    "start_time": "2023-07-12T01:00:06.799Z"
   },
   {
    "duration": 5,
    "start_time": "2023-07-12T01:00:06.812Z"
   },
   {
    "duration": 55,
    "start_time": "2023-07-12T01:00:06.818Z"
   },
   {
    "duration": 12,
    "start_time": "2023-07-12T01:00:06.876Z"
   },
   {
    "duration": 14,
    "start_time": "2023-07-12T01:00:06.889Z"
   },
   {
    "duration": 1830,
    "start_time": "2023-07-12T01:00:06.915Z"
   },
   {
    "duration": 91,
    "start_time": "2023-07-12T01:01:21.546Z"
   },
   {
    "duration": 1739,
    "start_time": "2023-07-12T01:01:30.501Z"
   },
   {
    "duration": 18,
    "start_time": "2023-07-12T01:01:47.687Z"
   },
   {
    "duration": 1248,
    "start_time": "2023-07-12T01:01:53.785Z"
   },
   {
    "duration": 1235,
    "start_time": "2023-07-12T01:04:48.021Z"
   },
   {
    "duration": 14,
    "start_time": "2023-07-12T01:05:40.930Z"
   },
   {
    "duration": 1326,
    "start_time": "2023-07-12T01:09:16.924Z"
   },
   {
    "duration": 40,
    "start_time": "2023-07-12T01:09:46.794Z"
   },
   {
    "duration": 11,
    "start_time": "2023-07-12T01:09:56.639Z"
   },
   {
    "duration": 13,
    "start_time": "2023-07-12T01:10:15.586Z"
   },
   {
    "duration": 1307,
    "start_time": "2023-07-12T01:10:48.126Z"
   },
   {
    "duration": 1297,
    "start_time": "2023-07-12T01:11:20.457Z"
   },
   {
    "duration": 1244,
    "start_time": "2023-07-12T01:11:27.387Z"
   },
   {
    "duration": 1161,
    "start_time": "2023-07-12T01:11:38.196Z"
   },
   {
    "duration": 1162,
    "start_time": "2023-07-12T01:11:45.571Z"
   },
   {
    "duration": 234,
    "start_time": "2023-07-12T01:11:46.734Z"
   },
   {
    "duration": 19,
    "start_time": "2023-07-12T01:11:46.970Z"
   },
   {
    "duration": 38,
    "start_time": "2023-07-12T01:11:46.991Z"
   },
   {
    "duration": 89,
    "start_time": "2023-07-12T01:11:47.030Z"
   },
   {
    "duration": 9,
    "start_time": "2023-07-12T01:11:47.130Z"
   },
   {
    "duration": 139,
    "start_time": "2023-07-12T01:11:47.140Z"
   },
   {
    "duration": 161,
    "start_time": "2023-07-12T01:11:47.280Z"
   },
   {
    "duration": 8,
    "start_time": "2023-07-12T01:11:47.443Z"
   },
   {
    "duration": 6,
    "start_time": "2023-07-12T01:11:47.453Z"
   },
   {
    "duration": 11,
    "start_time": "2023-07-12T01:11:47.460Z"
   },
   {
    "duration": 14,
    "start_time": "2023-07-12T01:11:47.472Z"
   },
   {
    "duration": 7,
    "start_time": "2023-07-12T01:11:47.487Z"
   },
   {
    "duration": 483,
    "start_time": "2023-07-12T01:11:47.496Z"
   },
   {
    "duration": 52,
    "start_time": "2023-07-12T01:11:47.981Z"
   },
   {
    "duration": 15,
    "start_time": "2023-07-12T01:11:48.039Z"
   },
   {
    "duration": 33,
    "start_time": "2023-07-12T01:11:48.055Z"
   },
   {
    "duration": 53,
    "start_time": "2023-07-12T01:11:48.090Z"
   },
   {
    "duration": 79,
    "start_time": "2023-07-12T01:11:48.146Z"
   },
   {
    "duration": 13,
    "start_time": "2023-07-12T01:11:48.226Z"
   },
   {
    "duration": 37,
    "start_time": "2023-07-12T01:11:48.244Z"
   },
   {
    "duration": 42,
    "start_time": "2023-07-12T01:11:48.283Z"
   },
   {
    "duration": 4,
    "start_time": "2023-07-12T01:11:48.338Z"
   },
   {
    "duration": 96,
    "start_time": "2023-07-12T01:11:48.343Z"
   },
   {
    "duration": 13,
    "start_time": "2023-07-12T01:11:48.441Z"
   },
   {
    "duration": 11,
    "start_time": "2023-07-12T01:11:48.456Z"
   },
   {
    "duration": 12,
    "start_time": "2023-07-12T01:11:48.469Z"
   },
   {
    "duration": 55,
    "start_time": "2023-07-12T01:11:48.484Z"
   },
   {
    "duration": 14,
    "start_time": "2023-07-12T01:11:48.541Z"
   },
   {
    "duration": 1323,
    "start_time": "2023-07-12T01:11:48.556Z"
   },
   {
    "duration": 10,
    "start_time": "2023-07-12T01:12:12.339Z"
   },
   {
    "duration": 1147,
    "start_time": "2023-07-12T01:12:50.443Z"
   },
   {
    "duration": 248,
    "start_time": "2023-07-12T01:12:51.592Z"
   },
   {
    "duration": 20,
    "start_time": "2023-07-12T01:12:51.845Z"
   },
   {
    "duration": 10,
    "start_time": "2023-07-12T01:12:51.866Z"
   },
   {
    "duration": 86,
    "start_time": "2023-07-12T01:12:51.877Z"
   },
   {
    "duration": 7,
    "start_time": "2023-07-12T01:12:51.964Z"
   },
   {
    "duration": 165,
    "start_time": "2023-07-12T01:12:51.972Z"
   },
   {
    "duration": 129,
    "start_time": "2023-07-12T01:12:52.139Z"
   },
   {
    "duration": 7,
    "start_time": "2023-07-12T01:12:52.270Z"
   },
   {
    "duration": 4,
    "start_time": "2023-07-12T01:12:52.279Z"
   },
   {
    "duration": 60,
    "start_time": "2023-07-12T01:12:52.285Z"
   },
   {
    "duration": 28,
    "start_time": "2023-07-12T01:12:52.346Z"
   },
   {
    "duration": 16,
    "start_time": "2023-07-12T01:12:52.376Z"
   },
   {
    "duration": 515,
    "start_time": "2023-07-12T01:12:52.395Z"
   },
   {
    "duration": 32,
    "start_time": "2023-07-12T01:12:52.912Z"
   },
   {
    "duration": 30,
    "start_time": "2023-07-12T01:12:52.946Z"
   },
   {
    "duration": 51,
    "start_time": "2023-07-12T01:12:52.978Z"
   },
   {
    "duration": 27,
    "start_time": "2023-07-12T01:12:53.030Z"
   },
   {
    "duration": 87,
    "start_time": "2023-07-12T01:12:53.059Z"
   },
   {
    "duration": 9,
    "start_time": "2023-07-12T01:12:53.148Z"
   },
   {
    "duration": 45,
    "start_time": "2023-07-12T01:12:53.159Z"
   },
   {
    "duration": 26,
    "start_time": "2023-07-12T01:12:53.217Z"
   },
   {
    "duration": 8,
    "start_time": "2023-07-12T01:12:53.245Z"
   },
   {
    "duration": 92,
    "start_time": "2023-07-12T01:12:53.254Z"
   },
   {
    "duration": 14,
    "start_time": "2023-07-12T01:12:53.348Z"
   },
   {
    "duration": 9,
    "start_time": "2023-07-12T01:12:53.363Z"
   },
   {
    "duration": 72,
    "start_time": "2023-07-12T01:12:53.374Z"
   },
   {
    "duration": 11,
    "start_time": "2023-07-12T01:12:53.447Z"
   },
   {
    "duration": 23,
    "start_time": "2023-07-12T01:12:53.459Z"
   },
   {
    "duration": 1371,
    "start_time": "2023-07-12T01:12:53.484Z"
   },
   {
    "duration": 92,
    "start_time": "2023-07-12T01:14:29.624Z"
   },
   {
    "duration": 1178,
    "start_time": "2023-07-12T01:14:43.267Z"
   },
   {
    "duration": 237,
    "start_time": "2023-07-12T01:14:44.446Z"
   },
   {
    "duration": 33,
    "start_time": "2023-07-12T01:14:44.685Z"
   },
   {
    "duration": 17,
    "start_time": "2023-07-12T01:14:44.723Z"
   },
   {
    "duration": 89,
    "start_time": "2023-07-12T01:14:44.742Z"
   },
   {
    "duration": 8,
    "start_time": "2023-07-12T01:14:44.832Z"
   },
   {
    "duration": 154,
    "start_time": "2023-07-12T01:14:44.841Z"
   },
   {
    "duration": 136,
    "start_time": "2023-07-12T01:14:44.997Z"
   },
   {
    "duration": 8,
    "start_time": "2023-07-12T01:14:45.134Z"
   },
   {
    "duration": 9,
    "start_time": "2023-07-12T01:14:45.144Z"
   },
   {
    "duration": 17,
    "start_time": "2023-07-12T01:14:45.155Z"
   },
   {
    "duration": 50,
    "start_time": "2023-07-12T01:14:45.174Z"
   },
   {
    "duration": 7,
    "start_time": "2023-07-12T01:14:45.226Z"
   },
   {
    "duration": 516,
    "start_time": "2023-07-12T01:14:45.236Z"
   },
   {
    "duration": 24,
    "start_time": "2023-07-12T01:14:45.754Z"
   },
   {
    "duration": 30,
    "start_time": "2023-07-12T01:14:45.779Z"
   },
   {
    "duration": 50,
    "start_time": "2023-07-12T01:14:45.810Z"
   },
   {
    "duration": 24,
    "start_time": "2023-07-12T01:14:45.862Z"
   },
   {
    "duration": 130,
    "start_time": "2023-07-12T01:14:45.887Z"
   },
   {
    "duration": 21,
    "start_time": "2023-07-12T01:14:46.018Z"
   },
   {
    "duration": 45,
    "start_time": "2023-07-12T01:14:46.041Z"
   },
   {
    "duration": 28,
    "start_time": "2023-07-12T01:14:46.089Z"
   },
   {
    "duration": 25,
    "start_time": "2023-07-12T01:14:46.118Z"
   },
   {
    "duration": 131,
    "start_time": "2023-07-12T01:14:46.145Z"
   },
   {
    "duration": 14,
    "start_time": "2023-07-12T01:14:46.278Z"
   },
   {
    "duration": 31,
    "start_time": "2023-07-12T01:14:46.294Z"
   },
   {
    "duration": 13,
    "start_time": "2023-07-12T01:14:46.327Z"
   },
   {
    "duration": 9,
    "start_time": "2023-07-12T01:14:46.342Z"
   },
   {
    "duration": 9,
    "start_time": "2023-07-12T01:14:46.353Z"
   },
   {
    "duration": 1358,
    "start_time": "2023-07-12T01:14:46.364Z"
   },
   {
    "duration": 1107,
    "start_time": "2023-07-12T01:15:46.818Z"
   },
   {
    "duration": 1098,
    "start_time": "2023-07-12T01:16:20.626Z"
   },
   {
    "duration": 1145,
    "start_time": "2023-07-12T01:18:45.627Z"
   },
   {
    "duration": 205,
    "start_time": "2023-07-12T01:18:46.773Z"
   },
   {
    "duration": 20,
    "start_time": "2023-07-12T01:18:46.979Z"
   },
   {
    "duration": 22,
    "start_time": "2023-07-12T01:18:47.004Z"
   },
   {
    "duration": 94,
    "start_time": "2023-07-12T01:18:47.028Z"
   },
   {
    "duration": 8,
    "start_time": "2023-07-12T01:18:47.123Z"
   },
   {
    "duration": 152,
    "start_time": "2023-07-12T01:18:47.132Z"
   },
   {
    "duration": 136,
    "start_time": "2023-07-12T01:18:47.285Z"
   },
   {
    "duration": 8,
    "start_time": "2023-07-12T01:18:47.430Z"
   },
   {
    "duration": 16,
    "start_time": "2023-07-12T01:18:47.439Z"
   },
   {
    "duration": 15,
    "start_time": "2023-07-12T01:18:47.456Z"
   },
   {
    "duration": 18,
    "start_time": "2023-07-12T01:18:47.472Z"
   },
   {
    "duration": 41,
    "start_time": "2023-07-12T01:18:47.493Z"
   },
   {
    "duration": 487,
    "start_time": "2023-07-12T01:18:47.537Z"
   },
   {
    "duration": 23,
    "start_time": "2023-07-12T01:18:48.026Z"
   },
   {
    "duration": 14,
    "start_time": "2023-07-12T01:18:48.050Z"
   },
   {
    "duration": 47,
    "start_time": "2023-07-12T01:18:48.066Z"
   },
   {
    "duration": 26,
    "start_time": "2023-07-12T01:18:48.114Z"
   },
   {
    "duration": 69,
    "start_time": "2023-07-12T01:18:48.142Z"
   },
   {
    "duration": 18,
    "start_time": "2023-07-12T01:18:48.212Z"
   },
   {
    "duration": 39,
    "start_time": "2023-07-12T01:18:48.232Z"
   },
   {
    "duration": 15,
    "start_time": "2023-07-12T01:18:48.273Z"
   },
   {
    "duration": 4,
    "start_time": "2023-07-12T01:18:48.290Z"
   },
   {
    "duration": 109,
    "start_time": "2023-07-12T01:18:48.295Z"
   },
   {
    "duration": 14,
    "start_time": "2023-07-12T01:18:48.405Z"
   },
   {
    "duration": 14,
    "start_time": "2023-07-12T01:18:48.423Z"
   },
   {
    "duration": 31,
    "start_time": "2023-07-12T01:18:48.438Z"
   },
   {
    "duration": 20,
    "start_time": "2023-07-12T01:18:48.471Z"
   },
   {
    "duration": 24,
    "start_time": "2023-07-12T01:18:48.493Z"
   },
   {
    "duration": 26,
    "start_time": "2023-07-12T01:18:48.518Z"
   },
   {
    "duration": 50,
    "start_time": "2023-07-13T15:47:12.411Z"
   },
   {
    "duration": 1480,
    "start_time": "2023-07-13T15:47:28.528Z"
   },
   {
    "duration": 1189,
    "start_time": "2023-07-13T15:47:30.010Z"
   },
   {
    "duration": 25,
    "start_time": "2023-07-13T15:47:31.201Z"
   },
   {
    "duration": 27,
    "start_time": "2023-07-13T15:47:31.228Z"
   },
   {
    "duration": 120,
    "start_time": "2023-07-13T15:47:31.257Z"
   },
   {
    "duration": 11,
    "start_time": "2023-07-13T15:47:31.386Z"
   },
   {
    "duration": 214,
    "start_time": "2023-07-13T15:47:31.399Z"
   },
   {
    "duration": 169,
    "start_time": "2023-07-13T15:47:31.615Z"
   },
   {
    "duration": 15,
    "start_time": "2023-07-13T15:47:31.788Z"
   },
   {
    "duration": 23,
    "start_time": "2023-07-13T15:47:31.807Z"
   },
   {
    "duration": 60,
    "start_time": "2023-07-13T15:47:31.832Z"
   },
   {
    "duration": 34,
    "start_time": "2023-07-13T15:47:31.894Z"
   },
   {
    "duration": 68,
    "start_time": "2023-07-13T15:47:31.930Z"
   },
   {
    "duration": 7,
    "start_time": "2023-07-13T15:47:31.999Z"
   },
   {
    "duration": 705,
    "start_time": "2023-07-13T15:47:32.008Z"
   },
   {
    "duration": 31,
    "start_time": "2023-07-13T15:47:32.715Z"
   },
   {
    "duration": 42,
    "start_time": "2023-07-13T15:47:32.748Z"
   },
   {
    "duration": 42,
    "start_time": "2023-07-13T15:47:32.792Z"
   },
   {
    "duration": 38,
    "start_time": "2023-07-13T15:47:32.836Z"
   },
   {
    "duration": 106,
    "start_time": "2023-07-13T15:47:32.876Z"
   },
   {
    "duration": 14,
    "start_time": "2023-07-13T15:47:32.984Z"
   },
   {
    "duration": 52,
    "start_time": "2023-07-13T15:47:33.000Z"
   },
   {
    "duration": 52,
    "start_time": "2023-07-13T15:47:33.053Z"
   },
   {
    "duration": 24,
    "start_time": "2023-07-13T15:47:33.107Z"
   },
   {
    "duration": 105,
    "start_time": "2023-07-13T15:47:33.133Z"
   },
   {
    "duration": 32,
    "start_time": "2023-07-13T15:47:33.241Z"
   },
   {
    "duration": 15,
    "start_time": "2023-07-13T15:47:33.275Z"
   },
   {
    "duration": 16,
    "start_time": "2023-07-13T15:47:33.295Z"
   },
   {
    "duration": 10,
    "start_time": "2023-07-13T15:47:33.313Z"
   },
   {
    "duration": 40,
    "start_time": "2023-07-13T15:47:33.324Z"
   },
   {
    "duration": 25,
    "start_time": "2023-07-13T15:47:33.365Z"
   },
   {
    "duration": 4,
    "start_time": "2023-07-13T19:27:33.332Z"
   },
   {
    "duration": 107,
    "start_time": "2023-07-13T19:28:01.498Z"
   },
   {
    "duration": 24,
    "start_time": "2023-07-13T19:28:08.559Z"
   },
   {
    "duration": 17,
    "start_time": "2023-07-13T19:29:47.209Z"
   },
   {
    "duration": 25,
    "start_time": "2023-07-13T23:29:13.561Z"
   },
   {
    "duration": 27,
    "start_time": "2023-07-13T23:29:29.975Z"
   },
   {
    "duration": 27,
    "start_time": "2023-07-13T23:29:34.226Z"
   },
   {
    "duration": 24,
    "start_time": "2023-07-13T23:30:00.250Z"
   },
   {
    "duration": 24,
    "start_time": "2023-07-13T23:30:47.152Z"
   },
   {
    "duration": 15,
    "start_time": "2023-07-14T01:09:33.959Z"
   },
   {
    "duration": 1182,
    "start_time": "2023-07-14T01:11:58.529Z"
   },
   {
    "duration": 190,
    "start_time": "2023-07-14T01:11:59.713Z"
   },
   {
    "duration": 23,
    "start_time": "2023-07-14T01:11:59.905Z"
   },
   {
    "duration": 12,
    "start_time": "2023-07-14T01:11:59.929Z"
   },
   {
    "duration": 93,
    "start_time": "2023-07-14T01:11:59.943Z"
   },
   {
    "duration": 15,
    "start_time": "2023-07-14T01:12:00.038Z"
   },
   {
    "duration": 21,
    "start_time": "2023-07-14T01:12:00.067Z"
   },
   {
    "duration": 170,
    "start_time": "2023-07-14T01:12:00.089Z"
   },
   {
    "duration": 167,
    "start_time": "2023-07-14T01:12:00.261Z"
   },
   {
    "duration": 12,
    "start_time": "2023-07-14T01:12:00.430Z"
   },
   {
    "duration": 58,
    "start_time": "2023-07-14T01:12:00.444Z"
   },
   {
    "duration": 81,
    "start_time": "2023-07-14T01:12:00.505Z"
   },
   {
    "duration": 50,
    "start_time": "2023-07-14T01:12:00.588Z"
   },
   {
    "duration": 55,
    "start_time": "2023-07-14T01:12:00.641Z"
   },
   {
    "duration": 33,
    "start_time": "2023-07-14T01:12:00.697Z"
   },
   {
    "duration": 8,
    "start_time": "2023-07-14T01:12:00.732Z"
   },
   {
    "duration": 618,
    "start_time": "2023-07-14T01:12:00.742Z"
   },
   {
    "duration": 33,
    "start_time": "2023-07-14T01:12:01.367Z"
   },
   {
    "duration": 48,
    "start_time": "2023-07-14T01:12:01.401Z"
   },
   {
    "duration": 62,
    "start_time": "2023-07-14T01:12:01.451Z"
   },
   {
    "duration": 30,
    "start_time": "2023-07-14T01:12:01.515Z"
   },
   {
    "duration": 109,
    "start_time": "2023-07-14T01:12:01.547Z"
   },
   {
    "duration": 31,
    "start_time": "2023-07-14T01:12:01.658Z"
   },
   {
    "duration": 89,
    "start_time": "2023-07-14T01:12:01.691Z"
   },
   {
    "duration": 127,
    "start_time": "2023-07-14T01:12:01.782Z"
   },
   {
    "duration": 186,
    "start_time": "2023-07-14T01:12:01.910Z"
   },
   {
    "duration": 236,
    "start_time": "2023-07-14T01:12:02.098Z"
   },
   {
    "duration": 31,
    "start_time": "2023-07-14T01:12:02.337Z"
   },
   {
    "duration": 59,
    "start_time": "2023-07-14T01:12:02.370Z"
   },
   {
    "duration": 48,
    "start_time": "2023-07-14T01:12:02.431Z"
   },
   {
    "duration": 61,
    "start_time": "2023-07-14T01:12:02.481Z"
   },
   {
    "duration": 31,
    "start_time": "2023-07-14T01:12:02.544Z"
   },
   {
    "duration": 61,
    "start_time": "2023-07-14T01:12:02.577Z"
   },
   {
    "duration": 1370,
    "start_time": "2023-07-15T23:50:40.495Z"
   },
   {
    "duration": 542,
    "start_time": "2023-07-15T23:50:41.867Z"
   },
   {
    "duration": 23,
    "start_time": "2023-07-15T23:50:42.411Z"
   },
   {
    "duration": 10,
    "start_time": "2023-07-15T23:50:42.437Z"
   },
   {
    "duration": 72,
    "start_time": "2023-07-15T23:50:42.449Z"
   },
   {
    "duration": 16,
    "start_time": "2023-07-15T23:50:42.523Z"
   },
   {
    "duration": 23,
    "start_time": "2023-07-15T23:50:42.540Z"
   },
   {
    "duration": 133,
    "start_time": "2023-07-15T23:50:42.565Z"
   },
   {
    "duration": 121,
    "start_time": "2023-07-15T23:50:42.700Z"
   },
   {
    "duration": 8,
    "start_time": "2023-07-15T23:50:42.824Z"
   },
   {
    "duration": 26,
    "start_time": "2023-07-15T23:50:42.833Z"
   },
   {
    "duration": 35,
    "start_time": "2023-07-15T23:50:42.861Z"
   },
   {
    "duration": 32,
    "start_time": "2023-07-15T23:50:42.897Z"
   },
   {
    "duration": 26,
    "start_time": "2023-07-15T23:50:42.931Z"
   },
   {
    "duration": 17,
    "start_time": "2023-07-15T23:50:42.959Z"
   },
   {
    "duration": 23,
    "start_time": "2023-07-15T23:50:42.978Z"
   },
   {
    "duration": 518,
    "start_time": "2023-07-15T23:50:43.002Z"
   },
   {
    "duration": 25,
    "start_time": "2023-07-15T23:50:43.522Z"
   },
   {
    "duration": 22,
    "start_time": "2023-07-15T23:50:43.548Z"
   },
   {
    "duration": 52,
    "start_time": "2023-07-15T23:50:43.571Z"
   },
   {
    "duration": 25,
    "start_time": "2023-07-15T23:50:43.625Z"
   },
   {
    "duration": 75,
    "start_time": "2023-07-15T23:50:43.652Z"
   },
   {
    "duration": 11,
    "start_time": "2023-07-15T23:50:43.728Z"
   },
   {
    "duration": 42,
    "start_time": "2023-07-15T23:50:43.740Z"
   },
   {
    "duration": 18,
    "start_time": "2023-07-15T23:50:43.784Z"
   },
   {
    "duration": 5,
    "start_time": "2023-07-15T23:50:43.820Z"
   },
   {
    "duration": 94,
    "start_time": "2023-07-15T23:50:43.827Z"
   },
   {
    "duration": 14,
    "start_time": "2023-07-15T23:50:43.925Z"
   },
   {
    "duration": 9,
    "start_time": "2023-07-15T23:50:43.941Z"
   },
   {
    "duration": 16,
    "start_time": "2023-07-15T23:50:43.951Z"
   },
   {
    "duration": 14,
    "start_time": "2023-07-15T23:50:43.969Z"
   },
   {
    "duration": 18,
    "start_time": "2023-07-15T23:50:43.985Z"
   },
   {
    "duration": 18,
    "start_time": "2023-07-15T23:50:44.004Z"
   },
   {
    "duration": 105,
    "start_time": "2023-07-15T23:50:44.024Z"
   },
   {
    "duration": 11,
    "start_time": "2023-07-16T00:05:53.910Z"
   },
   {
    "duration": 5,
    "start_time": "2023-07-16T00:22:01.945Z"
   },
   {
    "duration": 6,
    "start_time": "2023-07-16T00:22:12.105Z"
   },
   {
    "duration": 11,
    "start_time": "2023-07-16T00:22:37.154Z"
   },
   {
    "duration": 11,
    "start_time": "2023-07-16T00:22:55.953Z"
   },
   {
    "duration": 14,
    "start_time": "2023-07-16T00:23:01.057Z"
   },
   {
    "duration": 11,
    "start_time": "2023-07-16T00:23:30.609Z"
   },
   {
    "duration": 11,
    "start_time": "2023-07-16T00:24:18.721Z"
   },
   {
    "duration": 11,
    "start_time": "2023-07-16T00:26:17.033Z"
   },
   {
    "duration": 17,
    "start_time": "2023-07-16T00:26:27.480Z"
   },
   {
    "duration": 11,
    "start_time": "2023-07-16T00:27:39.194Z"
   },
   {
    "duration": 111,
    "start_time": "2023-07-16T00:27:44.962Z"
   },
   {
    "duration": 106,
    "start_time": "2023-07-16T00:29:18.640Z"
   },
   {
    "duration": 3,
    "start_time": "2023-07-16T00:30:24.135Z"
   },
   {
    "duration": 3,
    "start_time": "2023-07-16T00:30:34.274Z"
   },
   {
    "duration": 4,
    "start_time": "2023-07-16T00:33:50.110Z"
   },
   {
    "duration": 3,
    "start_time": "2023-07-16T00:34:42.461Z"
   },
   {
    "duration": 9,
    "start_time": "2023-07-16T00:38:40.445Z"
   },
   {
    "duration": 9,
    "start_time": "2023-07-16T00:38:41.022Z"
   },
   {
    "duration": 11,
    "start_time": "2023-07-16T00:38:41.563Z"
   },
   {
    "duration": 9,
    "start_time": "2023-07-16T00:38:42.922Z"
   },
   {
    "duration": 9,
    "start_time": "2023-07-16T00:39:24.991Z"
   },
   {
    "duration": 9,
    "start_time": "2023-07-16T00:39:25.355Z"
   },
   {
    "duration": 10,
    "start_time": "2023-07-16T00:39:25.877Z"
   },
   {
    "duration": 10,
    "start_time": "2023-07-16T00:39:26.380Z"
   },
   {
    "duration": 4,
    "start_time": "2023-07-16T00:44:08.854Z"
   },
   {
    "duration": 4,
    "start_time": "2023-07-16T00:45:30.026Z"
   },
   {
    "duration": 1185,
    "start_time": "2023-07-16T01:04:13.947Z"
   },
   {
    "duration": 213,
    "start_time": "2023-07-16T01:04:15.134Z"
   },
   {
    "duration": 21,
    "start_time": "2023-07-16T01:04:15.349Z"
   },
   {
    "duration": 19,
    "start_time": "2023-07-16T01:04:15.372Z"
   },
   {
    "duration": 73,
    "start_time": "2023-07-16T01:04:15.393Z"
   },
   {
    "duration": 15,
    "start_time": "2023-07-16T01:04:15.468Z"
   },
   {
    "duration": 24,
    "start_time": "2023-07-16T01:04:15.484Z"
   },
   {
    "duration": 173,
    "start_time": "2023-07-16T01:04:15.509Z"
   },
   {
    "duration": 137,
    "start_time": "2023-07-16T01:04:15.683Z"
   },
   {
    "duration": 9,
    "start_time": "2023-07-16T01:04:15.822Z"
   },
   {
    "duration": 36,
    "start_time": "2023-07-16T01:04:15.832Z"
   },
   {
    "duration": 27,
    "start_time": "2023-07-16T01:04:15.870Z"
   },
   {
    "duration": 34,
    "start_time": "2023-07-16T01:04:15.899Z"
   },
   {
    "duration": 28,
    "start_time": "2023-07-16T01:04:15.936Z"
   },
   {
    "duration": 21,
    "start_time": "2023-07-16T01:04:15.966Z"
   },
   {
    "duration": 5,
    "start_time": "2023-07-16T01:04:15.988Z"
   },
   {
    "duration": 501,
    "start_time": "2023-07-16T01:04:15.994Z"
   },
   {
    "duration": 34,
    "start_time": "2023-07-16T01:04:16.497Z"
   },
   {
    "duration": 22,
    "start_time": "2023-07-16T01:04:16.533Z"
   },
   {
    "duration": 33,
    "start_time": "2023-07-16T01:04:16.557Z"
   },
   {
    "duration": 41,
    "start_time": "2023-07-16T01:04:16.592Z"
   },
   {
    "duration": 68,
    "start_time": "2023-07-16T01:04:16.635Z"
   },
   {
    "duration": 9,
    "start_time": "2023-07-16T01:04:16.704Z"
   },
   {
    "duration": 36,
    "start_time": "2023-07-16T01:04:16.715Z"
   },
   {
    "duration": 17,
    "start_time": "2023-07-16T01:04:16.752Z"
   },
   {
    "duration": 8,
    "start_time": "2023-07-16T01:04:16.770Z"
   },
   {
    "duration": 94,
    "start_time": "2023-07-16T01:04:16.779Z"
   },
   {
    "duration": 14,
    "start_time": "2023-07-16T01:04:16.875Z"
   },
   {
    "duration": 19,
    "start_time": "2023-07-16T01:04:16.891Z"
   },
   {
    "duration": 27,
    "start_time": "2023-07-16T01:04:16.911Z"
   },
   {
    "duration": 23,
    "start_time": "2023-07-16T01:04:16.939Z"
   },
   {
    "duration": 24,
    "start_time": "2023-07-16T01:04:16.964Z"
   },
   {
    "duration": 38,
    "start_time": "2023-07-16T01:04:16.989Z"
   },
   {
    "duration": 27,
    "start_time": "2023-07-16T01:04:17.028Z"
   },
   {
    "duration": 29,
    "start_time": "2023-07-16T01:04:17.057Z"
   },
   {
    "duration": 34,
    "start_time": "2023-07-16T01:04:17.088Z"
   },
   {
    "duration": 23,
    "start_time": "2023-07-16T01:04:17.123Z"
   },
   {
    "duration": 29,
    "start_time": "2023-07-16T01:04:17.148Z"
   },
   {
    "duration": 1186,
    "start_time": "2023-07-16T01:15:24.331Z"
   },
   {
    "duration": 197,
    "start_time": "2023-07-16T01:15:25.519Z"
   },
   {
    "duration": 21,
    "start_time": "2023-07-16T01:15:25.719Z"
   },
   {
    "duration": 23,
    "start_time": "2023-07-16T01:15:25.742Z"
   },
   {
    "duration": 76,
    "start_time": "2023-07-16T01:15:25.767Z"
   },
   {
    "duration": 15,
    "start_time": "2023-07-16T01:15:25.844Z"
   },
   {
    "duration": 25,
    "start_time": "2023-07-16T01:15:25.860Z"
   },
   {
    "duration": 127,
    "start_time": "2023-07-16T01:15:25.886Z"
   },
   {
    "duration": 115,
    "start_time": "2023-07-16T01:15:26.014Z"
   },
   {
    "duration": 8,
    "start_time": "2023-07-16T01:15:26.131Z"
   },
   {
    "duration": 20,
    "start_time": "2023-07-16T01:15:26.140Z"
   },
   {
    "duration": 10,
    "start_time": "2023-07-16T01:15:26.161Z"
   },
   {
    "duration": 18,
    "start_time": "2023-07-16T01:15:26.172Z"
   },
   {
    "duration": 33,
    "start_time": "2023-07-16T01:15:26.192Z"
   },
   {
    "duration": 17,
    "start_time": "2023-07-16T01:15:26.226Z"
   },
   {
    "duration": 4,
    "start_time": "2023-07-16T01:15:26.245Z"
   },
   {
    "duration": 483,
    "start_time": "2023-07-16T01:15:26.250Z"
   },
   {
    "duration": 25,
    "start_time": "2023-07-16T01:15:26.734Z"
   },
   {
    "duration": 27,
    "start_time": "2023-07-16T01:15:26.761Z"
   },
   {
    "duration": 50,
    "start_time": "2023-07-16T01:15:26.790Z"
   },
   {
    "duration": 22,
    "start_time": "2023-07-16T01:15:26.842Z"
   },
   {
    "duration": 75,
    "start_time": "2023-07-16T01:15:26.865Z"
   },
   {
    "duration": 10,
    "start_time": "2023-07-16T01:15:26.942Z"
   },
   {
    "duration": 49,
    "start_time": "2023-07-16T01:15:26.953Z"
   },
   {
    "duration": 21,
    "start_time": "2023-07-16T01:15:27.003Z"
   },
   {
    "duration": 21,
    "start_time": "2023-07-16T01:15:27.026Z"
   },
   {
    "duration": 92,
    "start_time": "2023-07-16T01:15:27.049Z"
   },
   {
    "duration": 13,
    "start_time": "2023-07-16T01:15:27.144Z"
   },
   {
    "duration": 19,
    "start_time": "2023-07-16T01:15:27.158Z"
   },
   {
    "duration": 24,
    "start_time": "2023-07-16T01:15:27.178Z"
   },
   {
    "duration": 18,
    "start_time": "2023-07-16T01:15:27.203Z"
   },
   {
    "duration": 9,
    "start_time": "2023-07-16T01:15:27.223Z"
   },
   {
    "duration": 11,
    "start_time": "2023-07-16T01:15:27.233Z"
   },
   {
    "duration": 3,
    "start_time": "2023-07-16T01:15:27.245Z"
   },
   {
    "duration": 11,
    "start_time": "2023-07-16T01:15:27.249Z"
   },
   {
    "duration": 19,
    "start_time": "2023-07-16T01:15:27.262Z"
   },
   {
    "duration": 20,
    "start_time": "2023-07-16T01:15:27.282Z"
   },
   {
    "duration": 22,
    "start_time": "2023-07-16T01:15:27.303Z"
   },
   {
    "duration": 1443,
    "start_time": "2023-09-21T19:44:06.808Z"
   },
   {
    "duration": 578,
    "start_time": "2023-09-21T19:44:08.253Z"
   },
   {
    "duration": 26,
    "start_time": "2023-09-21T19:44:08.833Z"
   },
   {
    "duration": 12,
    "start_time": "2023-09-21T19:44:08.861Z"
   },
   {
    "duration": 101,
    "start_time": "2023-09-21T19:44:08.874Z"
   },
   {
    "duration": 16,
    "start_time": "2023-09-21T19:44:08.977Z"
   },
   {
    "duration": 20,
    "start_time": "2023-09-21T19:44:08.994Z"
   },
   {
    "duration": 149,
    "start_time": "2023-09-21T19:44:09.016Z"
   },
   {
    "duration": 130,
    "start_time": "2023-09-21T19:44:09.167Z"
   },
   {
    "duration": 10,
    "start_time": "2023-09-21T19:44:09.303Z"
   },
   {
    "duration": 50,
    "start_time": "2023-09-21T19:44:09.315Z"
   },
   {
    "duration": 92,
    "start_time": "2023-09-21T19:44:09.366Z"
   },
   {
    "duration": 98,
    "start_time": "2023-09-21T19:44:09.460Z"
   },
   {
    "duration": 90,
    "start_time": "2023-09-21T19:44:09.560Z"
   },
   {
    "duration": 27,
    "start_time": "2023-09-21T19:44:09.652Z"
   },
   {
    "duration": 20,
    "start_time": "2023-09-21T19:44:09.681Z"
   },
   {
    "duration": 533,
    "start_time": "2023-09-21T19:44:09.703Z"
   },
   {
    "duration": 25,
    "start_time": "2023-09-21T19:44:10.238Z"
   },
   {
    "duration": 37,
    "start_time": "2023-09-21T19:44:10.265Z"
   },
   {
    "duration": 36,
    "start_time": "2023-09-21T19:44:10.303Z"
   },
   {
    "duration": 27,
    "start_time": "2023-09-21T19:44:10.341Z"
   },
   {
    "duration": 87,
    "start_time": "2023-09-21T19:44:10.371Z"
   },
   {
    "duration": 11,
    "start_time": "2023-09-21T19:44:10.460Z"
   },
   {
    "duration": 56,
    "start_time": "2023-09-21T19:44:10.473Z"
   },
   {
    "duration": 21,
    "start_time": "2023-09-21T19:44:10.531Z"
   },
   {
    "duration": 6,
    "start_time": "2023-09-21T19:44:10.554Z"
   },
   {
    "duration": 101,
    "start_time": "2023-09-21T19:44:10.562Z"
   },
   {
    "duration": 15,
    "start_time": "2023-09-21T19:44:10.666Z"
   },
   {
    "duration": 37,
    "start_time": "2023-09-21T19:44:10.682Z"
   },
   {
    "duration": 28,
    "start_time": "2023-09-21T19:44:10.721Z"
   },
   {
    "duration": 15,
    "start_time": "2023-09-21T19:44:10.751Z"
   },
   {
    "duration": 24,
    "start_time": "2023-09-21T19:44:10.768Z"
   },
   {
    "duration": 19,
    "start_time": "2023-09-21T19:44:10.794Z"
   },
   {
    "duration": 4,
    "start_time": "2023-09-21T19:44:10.816Z"
   },
   {
    "duration": 28,
    "start_time": "2023-09-21T19:44:10.822Z"
   },
   {
    "duration": 12,
    "start_time": "2023-09-21T19:44:10.852Z"
   },
   {
    "duration": 15,
    "start_time": "2023-09-21T19:44:10.866Z"
   },
   {
    "duration": 19,
    "start_time": "2023-09-21T19:44:10.883Z"
   },
   {
    "duration": 21,
    "start_time": "2023-09-21T19:44:52.091Z"
   },
   {
    "duration": 20,
    "start_time": "2023-09-21T19:46:32.899Z"
   },
   {
    "duration": 17,
    "start_time": "2023-09-21T19:46:57.670Z"
   },
   {
    "duration": 100,
    "start_time": "2023-09-21T19:47:01.589Z"
   },
   {
    "duration": 20,
    "start_time": "2023-09-21T19:47:05.457Z"
   },
   {
    "duration": 18,
    "start_time": "2023-09-21T19:47:57.385Z"
   },
   {
    "duration": 21,
    "start_time": "2023-09-21T19:48:17.281Z"
   },
   {
    "duration": 86,
    "start_time": "2023-09-21T19:48:40.523Z"
   },
   {
    "duration": 77,
    "start_time": "2023-09-21T19:48:46.500Z"
   },
   {
    "duration": 5,
    "start_time": "2023-09-21T19:48:59.623Z"
   }
  ],
  "kernelspec": {
   "display_name": "Python 3 (ipykernel)",
   "language": "python",
   "name": "python3"
  },
  "language_info": {
   "codemirror_mode": {
    "name": "ipython",
    "version": 3
   },
   "file_extension": ".py",
   "mimetype": "text/x-python",
   "name": "python",
   "nbconvert_exporter": "python",
   "pygments_lexer": "ipython3",
   "version": "3.12.0"
  },
  "toc": {
   "base_numbering": 1,
   "nav_menu": {},
   "number_sections": true,
   "sideBar": true,
   "skip_h1_title": true,
   "title_cell": "Table of Contents",
   "title_sidebar": "Contents",
   "toc_cell": false,
   "toc_position": {},
   "toc_section_display": true,
   "toc_window_display": false
  }
 },
 "nbformat": 4,
 "nbformat_minor": 4
}
