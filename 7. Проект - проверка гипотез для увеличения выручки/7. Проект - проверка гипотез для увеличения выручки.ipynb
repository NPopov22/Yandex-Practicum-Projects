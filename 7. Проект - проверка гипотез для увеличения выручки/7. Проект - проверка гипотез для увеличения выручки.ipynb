{
 "cells": [
  {
   "cell_type": "markdown",
   "metadata": {},
   "source": [
    "# Проверка гипотез для увеличения выручки интернет-магазина"
   ]
  },
  {
   "cell_type": "markdown",
   "metadata": {},
   "source": [
    "**Описание данных**\n",
    "\n",
    "**Данные для первой части**\n",
    "<br>Файл /datasets/hypothesis.csv :\n",
    "- Hypothesis — краткое описание гипотезы;\n",
    "- Reach — охват пользователей по 10-балльной шкале;\n",
    "- Impact — влияние на пользователей по 10-балльной шкале;\n",
    "- Confidence — уверенность в гипотезе по 10-балльной шкале;\n",
    "- Efforts — затраты ресурсов на проверку гипотезы по 10-балльной шкале. Чем больше значение Efforts, тем дороже проверка гипотезы.\n",
    "\n",
    "**Данные для второй части**\n",
    "<br>Файл /datasets/orders.csv :\n",
    "- transactionId — идентификатор заказа;\n",
    "- visitorId — идентификатор пользователя, совершившего заказ;\n",
    "- date — дата, когда был совершён заказ;\n",
    "- revenue — выручка заказа;\n",
    "- group — группа A/B-теста, в которую попал заказ.\n",
    "\n",
    "Файл /datasets/visitors.csv :\n",
    "- date — дата;\n",
    "- group — группа A/B-теста;\n",
    "- visitors — количество пользователей в указанную дату в указанной группе A/B-теста"
   ]
  },
  {
   "cell_type": "markdown",
   "metadata": {},
   "source": [
    "**Описание проекта**\n",
    "<br>Мы проводим аналитику крупного интернет-магазина. Вместе с отделом маркетинга был подготовлен список гипотез для увеличения выручки. Требуется приоритизируйте гипотезы, запустить A/B-тест и проанализировать результаты. "
   ]
  },
  {
   "cell_type": "markdown",
   "metadata": {},
   "source": [
    "**Часть 1. Приоритизация гипотез.**\n",
    "<br>В файле /datasets/hypothesis.csv 9 гипотез по увеличению выручки интернет-магазина с указанными параметрами Reach, Impact, Confidence, Effort.\n",
    "<br>Задача\n",
    "- Примените фреймворк ICE для приоритизации гипотез. Отсортируйте их по убыванию приоритета.\n",
    "- Примените фреймворк RICE для приоритизации гипотез. Отсортируйте их по убыванию приоритета.\n",
    "- Укажите, как изменилась приоритизация гипотез при применении RICE вместо ICE. Объясните, почему так произошло.\n",
    "\n",
    "**Часть 2. Анализ A/B-теста.**\n",
    "<br>Вы провели A/B-тест и получили результаты, которые описаны в файлах /datasets/orders.csv и /datasets/visitors.csv.\n",
    "<br>Задача\n",
    "Проанализируйте A/B-тест:\n",
    "- Постройте график кумулятивной выручки по группам. Сделайте выводы и предположения.\n",
    "- Постройте график кумулятивного среднего чека по группам. Сделайте выводы и предположения.\n",
    "- Постройте график относительного изменения кумулятивного среднего чека группы B к группе A. Сделайте выводы и предположения.\n",
    "- Постройте график кумулятивного среднего количества заказов на посетителя по группам. Сделайте выводы и предположения.\n",
    "- Постройте график относительного изменения кумулятивного среднего количества заказов на посетителя группы B к группе A. Сделайте выводы и предположения.\n",
    "- Постройте точечный график количества заказов по пользователям. Сделайте выводы и предположения.\n",
    "- Посчитайте 95-й и 99-й перцентили количества заказов на пользователя. Выберите границу для определения аномальных пользователей.\n",
    "- Постройте точечный график стоимостей заказов. Сделайте выводы и предположения.\n",
    "- Посчитайте 95-й и 99-й перцентили стоимости заказов. Выберите границу для определения аномальных заказов.\n",
    "- Посчитайте статистическую значимость различий в среднем количестве заказов на посетителя между группами по «сырым» данным. - Сделайте выводы и предположения.\n",
    "- Посчитайте статистическую значимость различий в среднем чеке заказа между группами по «сырым» данным. Сделайте выводы и предположения.\n",
    "- Посчитайте статистическую значимость различий в среднем количестве заказов на посетителя между группами по «очищенным» данным. Сделайте выводы и предположения.\n",
    "- Посчитайте статистическую значимость различий в среднем чеке заказа между группами по «очищенным» данным. Сделайте выводы и предположения.\n",
    "- Примите решение по результатам теста и объясните его. Варианты решений:\n",
    "  1. Остановить тест, зафиксировать победу одной из групп.\n",
    "  2. Остановить тест, зафиксировать отсутствие различий между группами.\n",
    "  3. Продолжить тест."
   ]
  },
  {
   "cell_type": "markdown",
   "metadata": {},
   "source": [
    "**Обзор и предобработка данных**"
   ]
  },
  {
   "cell_type": "markdown",
   "metadata": {},
   "source": [
    "Рассмотрим данные поближе:"
   ]
  },
  {
   "cell_type": "code",
   "execution_count": 1,
   "metadata": {},
   "outputs": [],
   "source": [
    "import pandas as pd\n",
    "import numpy as np\n",
    "import matplotlib.pyplot as plt\n",
    "import seaborn as sns\n",
    "import math\n",
    "import datetime as dt\n",
    "import scipy.stats as stats\n",
    "import warnings\n",
    "\n",
    "from scipy import stats as st"
   ]
  },
  {
   "cell_type": "code",
   "execution_count": 2,
   "metadata": {},
   "outputs": [],
   "source": [
    "try:\n",
    "    hypothesis, orders, visitors = (\n",
    "                            pd.read_csv('hypothesis.csv'),\n",
    "                            pd.read_csv('orders.csv'),\n",
    "                            pd.read_csv('visitors.csv')\n",
    "                            )\n",
    "except:\n",
    "    hypothesis, orders, visitors = (\n",
    "                            pd.read_csv('/datasets/hypothesis.csv'),\n",
    "                            pd.read_csv('/datasets/orders.csv'),\n",
    "                            pd.read_csv('/datasets/visitors.csv')\n",
    "                            )"
   ]
  },
  {
   "cell_type": "code",
   "execution_count": 3,
   "metadata": {},
   "outputs": [],
   "source": [
    "#увеличим ширину столбцов, чтобы гипотезы отображались полностью\n",
    "pd.options.display.max_colwidth = 1"
   ]
  },
  {
   "cell_type": "code",
   "execution_count": 4,
   "metadata": {},
   "outputs": [
    {
     "name": "stdout",
     "output_type": "stream",
     "text": [
      "<class 'pandas.core.frame.DataFrame'>\n",
      "RangeIndex: 9 entries, 0 to 8\n",
      "Data columns (total 5 columns):\n",
      " #   Column      Non-Null Count  Dtype \n",
      "---  ------      --------------  ----- \n",
      " 0   Hypothesis  9 non-null      object\n",
      " 1   Reach       9 non-null      int64 \n",
      " 2   Impact      9 non-null      int64 \n",
      " 3   Confidence  9 non-null      int64 \n",
      " 4   Efforts     9 non-null      int64 \n",
      "dtypes: int64(4), object(1)\n",
      "memory usage: 488.0+ bytes\n"
     ]
    }
   ],
   "source": [
    "hypothesis.info()"
   ]
  },
  {
   "cell_type": "code",
   "execution_count": 5,
   "metadata": {},
   "outputs": [
    {
     "data": {
      "text/html": [
       "<div>\n",
       "<style scoped>\n",
       "    .dataframe tbody tr th:only-of-type {\n",
       "        vertical-align: middle;\n",
       "    }\n",
       "\n",
       "    .dataframe tbody tr th {\n",
       "        vertical-align: top;\n",
       "    }\n",
       "\n",
       "    .dataframe thead th {\n",
       "        text-align: right;\n",
       "    }\n",
       "</style>\n",
       "<table border=\"1\" class=\"dataframe\">\n",
       "  <thead>\n",
       "    <tr style=\"text-align: right;\">\n",
       "      <th></th>\n",
       "      <th>Hypothesis</th>\n",
       "      <th>Reach</th>\n",
       "      <th>Impact</th>\n",
       "      <th>Confidence</th>\n",
       "      <th>Efforts</th>\n",
       "    </tr>\n",
       "  </thead>\n",
       "  <tbody>\n",
       "    <tr>\n",
       "      <th>0</th>\n",
       "      <td>Добавить два новых канала привлечения трафика, что позволит привлекать на 30% больше пользователей</td>\n",
       "      <td>3</td>\n",
       "      <td>10</td>\n",
       "      <td>8</td>\n",
       "      <td>6</td>\n",
       "    </tr>\n",
       "    <tr>\n",
       "      <th>1</th>\n",
       "      <td>Запустить собственную службу доставки, что сократит срок доставки заказов</td>\n",
       "      <td>2</td>\n",
       "      <td>5</td>\n",
       "      <td>4</td>\n",
       "      <td>10</td>\n",
       "    </tr>\n",
       "    <tr>\n",
       "      <th>2</th>\n",
       "      <td>Добавить блоки рекомендаций товаров на сайт интернет магазина, чтобы повысить конверсию и средний чек заказа</td>\n",
       "      <td>8</td>\n",
       "      <td>3</td>\n",
       "      <td>7</td>\n",
       "      <td>3</td>\n",
       "    </tr>\n",
       "    <tr>\n",
       "      <th>3</th>\n",
       "      <td>Изменить структура категорий, что увеличит конверсию, т.к. пользователи быстрее найдут нужный товар</td>\n",
       "      <td>8</td>\n",
       "      <td>3</td>\n",
       "      <td>3</td>\n",
       "      <td>8</td>\n",
       "    </tr>\n",
       "    <tr>\n",
       "      <th>4</th>\n",
       "      <td>Изменить цвет фона главной страницы, чтобы увеличить вовлеченность пользователей</td>\n",
       "      <td>3</td>\n",
       "      <td>1</td>\n",
       "      <td>1</td>\n",
       "      <td>1</td>\n",
       "    </tr>\n",
       "    <tr>\n",
       "      <th>5</th>\n",
       "      <td>Добавить страницу отзывов клиентов о магазине, что позволит увеличить количество заказов</td>\n",
       "      <td>3</td>\n",
       "      <td>2</td>\n",
       "      <td>2</td>\n",
       "      <td>3</td>\n",
       "    </tr>\n",
       "    <tr>\n",
       "      <th>6</th>\n",
       "      <td>Показать на главной странице баннеры с актуальными акциями и распродажами, чтобы увеличить конверсию</td>\n",
       "      <td>5</td>\n",
       "      <td>3</td>\n",
       "      <td>8</td>\n",
       "      <td>3</td>\n",
       "    </tr>\n",
       "    <tr>\n",
       "      <th>7</th>\n",
       "      <td>Добавить форму подписки на все основные страницы, чтобы собрать базу клиентов для email-рассылок</td>\n",
       "      <td>10</td>\n",
       "      <td>7</td>\n",
       "      <td>8</td>\n",
       "      <td>5</td>\n",
       "    </tr>\n",
       "    <tr>\n",
       "      <th>8</th>\n",
       "      <td>Запустить акцию, дающую скидку на товар в день рождения</td>\n",
       "      <td>1</td>\n",
       "      <td>9</td>\n",
       "      <td>9</td>\n",
       "      <td>5</td>\n",
       "    </tr>\n",
       "  </tbody>\n",
       "</table>\n",
       "</div>"
      ],
      "text/plain": [
       "                                                                                                     Hypothesis  \\\n",
       "0  Добавить два новых канала привлечения трафика, что позволит привлекать на 30% больше пользователей             \n",
       "1  Запустить собственную службу доставки, что сократит срок доставки заказов                                      \n",
       "2  Добавить блоки рекомендаций товаров на сайт интернет магазина, чтобы повысить конверсию и средний чек заказа   \n",
       "3  Изменить структура категорий, что увеличит конверсию, т.к. пользователи быстрее найдут нужный товар            \n",
       "4  Изменить цвет фона главной страницы, чтобы увеличить вовлеченность пользователей                               \n",
       "5  Добавить страницу отзывов клиентов о магазине, что позволит увеличить количество заказов                       \n",
       "6  Показать на главной странице баннеры с актуальными акциями и распродажами, чтобы увеличить конверсию           \n",
       "7  Добавить форму подписки на все основные страницы, чтобы собрать базу клиентов для email-рассылок               \n",
       "8  Запустить акцию, дающую скидку на товар в день рождения                                                        \n",
       "\n",
       "   Reach  Impact  Confidence  Efforts  \n",
       "0  3      10      8           6        \n",
       "1  2      5       4           10       \n",
       "2  8      3       7           3        \n",
       "3  8      3       3           8        \n",
       "4  3      1       1           1        \n",
       "5  3      2       2           3        \n",
       "6  5      3       8           3        \n",
       "7  10     7       8           5        \n",
       "8  1      9       9           5        "
      ]
     },
     "execution_count": 5,
     "metadata": {},
     "output_type": "execute_result"
    }
   ],
   "source": [
    "hypothesis.head(10)"
   ]
  },
  {
   "cell_type": "code",
   "execution_count": 6,
   "metadata": {
    "scrolled": true
   },
   "outputs": [
    {
     "name": "stdout",
     "output_type": "stream",
     "text": [
      "<class 'pandas.core.frame.DataFrame'>\n",
      "RangeIndex: 1197 entries, 0 to 1196\n",
      "Data columns (total 5 columns):\n",
      " #   Column         Non-Null Count  Dtype \n",
      "---  ------         --------------  ----- \n",
      " 0   transactionId  1197 non-null   int64 \n",
      " 1   visitorId      1197 non-null   int64 \n",
      " 2   date           1197 non-null   object\n",
      " 3   revenue        1197 non-null   int64 \n",
      " 4   group          1197 non-null   object\n",
      "dtypes: int64(3), object(2)\n",
      "memory usage: 46.9+ KB\n"
     ]
    }
   ],
   "source": [
    "orders.info()"
   ]
  },
  {
   "cell_type": "code",
   "execution_count": 7,
   "metadata": {},
   "outputs": [
    {
     "data": {
      "text/html": [
       "<div>\n",
       "<style scoped>\n",
       "    .dataframe tbody tr th:only-of-type {\n",
       "        vertical-align: middle;\n",
       "    }\n",
       "\n",
       "    .dataframe tbody tr th {\n",
       "        vertical-align: top;\n",
       "    }\n",
       "\n",
       "    .dataframe thead th {\n",
       "        text-align: right;\n",
       "    }\n",
       "</style>\n",
       "<table border=\"1\" class=\"dataframe\">\n",
       "  <thead>\n",
       "    <tr style=\"text-align: right;\">\n",
       "      <th></th>\n",
       "      <th>transactionId</th>\n",
       "      <th>visitorId</th>\n",
       "      <th>date</th>\n",
       "      <th>revenue</th>\n",
       "      <th>group</th>\n",
       "    </tr>\n",
       "  </thead>\n",
       "  <tbody>\n",
       "    <tr>\n",
       "      <th>0</th>\n",
       "      <td>3667963787</td>\n",
       "      <td>3312258926</td>\n",
       "      <td>2019-08-15</td>\n",
       "      <td>1650</td>\n",
       "      <td>B</td>\n",
       "    </tr>\n",
       "    <tr>\n",
       "      <th>1</th>\n",
       "      <td>2804400009</td>\n",
       "      <td>3642806036</td>\n",
       "      <td>2019-08-15</td>\n",
       "      <td>730</td>\n",
       "      <td>B</td>\n",
       "    </tr>\n",
       "    <tr>\n",
       "      <th>2</th>\n",
       "      <td>2961555356</td>\n",
       "      <td>4069496402</td>\n",
       "      <td>2019-08-15</td>\n",
       "      <td>400</td>\n",
       "      <td>A</td>\n",
       "    </tr>\n",
       "    <tr>\n",
       "      <th>3</th>\n",
       "      <td>3797467345</td>\n",
       "      <td>1196621759</td>\n",
       "      <td>2019-08-15</td>\n",
       "      <td>9759</td>\n",
       "      <td>B</td>\n",
       "    </tr>\n",
       "    <tr>\n",
       "      <th>4</th>\n",
       "      <td>2282983706</td>\n",
       "      <td>2322279887</td>\n",
       "      <td>2019-08-15</td>\n",
       "      <td>2308</td>\n",
       "      <td>B</td>\n",
       "    </tr>\n",
       "    <tr>\n",
       "      <th>5</th>\n",
       "      <td>182168103</td>\n",
       "      <td>935554773</td>\n",
       "      <td>2019-08-15</td>\n",
       "      <td>2210</td>\n",
       "      <td>B</td>\n",
       "    </tr>\n",
       "    <tr>\n",
       "      <th>6</th>\n",
       "      <td>398296753</td>\n",
       "      <td>2900797465</td>\n",
       "      <td>2019-08-15</td>\n",
       "      <td>1860</td>\n",
       "      <td>B</td>\n",
       "    </tr>\n",
       "    <tr>\n",
       "      <th>7</th>\n",
       "      <td>2626614568</td>\n",
       "      <td>78758296</td>\n",
       "      <td>2019-08-15</td>\n",
       "      <td>1044</td>\n",
       "      <td>A</td>\n",
       "    </tr>\n",
       "    <tr>\n",
       "      <th>8</th>\n",
       "      <td>1576988021</td>\n",
       "      <td>295230930</td>\n",
       "      <td>2019-08-15</td>\n",
       "      <td>13710</td>\n",
       "      <td>A</td>\n",
       "    </tr>\n",
       "    <tr>\n",
       "      <th>9</th>\n",
       "      <td>1506739906</td>\n",
       "      <td>1882260405</td>\n",
       "      <td>2019-08-15</td>\n",
       "      <td>1855</td>\n",
       "      <td>B</td>\n",
       "    </tr>\n",
       "  </tbody>\n",
       "</table>\n",
       "</div>"
      ],
      "text/plain": [
       "   transactionId   visitorId        date  revenue group\n",
       "0  3667963787     3312258926  2019-08-15  1650     B   \n",
       "1  2804400009     3642806036  2019-08-15  730      B   \n",
       "2  2961555356     4069496402  2019-08-15  400      A   \n",
       "3  3797467345     1196621759  2019-08-15  9759     B   \n",
       "4  2282983706     2322279887  2019-08-15  2308     B   \n",
       "5  182168103      935554773   2019-08-15  2210     B   \n",
       "6  398296753      2900797465  2019-08-15  1860     B   \n",
       "7  2626614568     78758296    2019-08-15  1044     A   \n",
       "8  1576988021     295230930   2019-08-15  13710    A   \n",
       "9  1506739906     1882260405  2019-08-15  1855     B   "
      ]
     },
     "execution_count": 7,
     "metadata": {},
     "output_type": "execute_result"
    }
   ],
   "source": [
    "orders.head(10)"
   ]
  },
  {
   "cell_type": "code",
   "execution_count": 8,
   "metadata": {
    "scrolled": true
   },
   "outputs": [
    {
     "name": "stdout",
     "output_type": "stream",
     "text": [
      "<class 'pandas.core.frame.DataFrame'>\n",
      "RangeIndex: 62 entries, 0 to 61\n",
      "Data columns (total 3 columns):\n",
      " #   Column    Non-Null Count  Dtype \n",
      "---  ------    --------------  ----- \n",
      " 0   date      62 non-null     object\n",
      " 1   group     62 non-null     object\n",
      " 2   visitors  62 non-null     int64 \n",
      "dtypes: int64(1), object(2)\n",
      "memory usage: 1.6+ KB\n"
     ]
    }
   ],
   "source": [
    "visitors.info()"
   ]
  },
  {
   "cell_type": "code",
   "execution_count": 9,
   "metadata": {},
   "outputs": [
    {
     "data": {
      "text/html": [
       "<div>\n",
       "<style scoped>\n",
       "    .dataframe tbody tr th:only-of-type {\n",
       "        vertical-align: middle;\n",
       "    }\n",
       "\n",
       "    .dataframe tbody tr th {\n",
       "        vertical-align: top;\n",
       "    }\n",
       "\n",
       "    .dataframe thead th {\n",
       "        text-align: right;\n",
       "    }\n",
       "</style>\n",
       "<table border=\"1\" class=\"dataframe\">\n",
       "  <thead>\n",
       "    <tr style=\"text-align: right;\">\n",
       "      <th></th>\n",
       "      <th>date</th>\n",
       "      <th>group</th>\n",
       "      <th>visitors</th>\n",
       "    </tr>\n",
       "  </thead>\n",
       "  <tbody>\n",
       "    <tr>\n",
       "      <th>0</th>\n",
       "      <td>2019-08-01</td>\n",
       "      <td>A</td>\n",
       "      <td>719</td>\n",
       "    </tr>\n",
       "    <tr>\n",
       "      <th>1</th>\n",
       "      <td>2019-08-02</td>\n",
       "      <td>A</td>\n",
       "      <td>619</td>\n",
       "    </tr>\n",
       "    <tr>\n",
       "      <th>2</th>\n",
       "      <td>2019-08-03</td>\n",
       "      <td>A</td>\n",
       "      <td>507</td>\n",
       "    </tr>\n",
       "    <tr>\n",
       "      <th>3</th>\n",
       "      <td>2019-08-04</td>\n",
       "      <td>A</td>\n",
       "      <td>717</td>\n",
       "    </tr>\n",
       "    <tr>\n",
       "      <th>4</th>\n",
       "      <td>2019-08-05</td>\n",
       "      <td>A</td>\n",
       "      <td>756</td>\n",
       "    </tr>\n",
       "    <tr>\n",
       "      <th>5</th>\n",
       "      <td>2019-08-06</td>\n",
       "      <td>A</td>\n",
       "      <td>667</td>\n",
       "    </tr>\n",
       "    <tr>\n",
       "      <th>6</th>\n",
       "      <td>2019-08-07</td>\n",
       "      <td>A</td>\n",
       "      <td>644</td>\n",
       "    </tr>\n",
       "    <tr>\n",
       "      <th>7</th>\n",
       "      <td>2019-08-08</td>\n",
       "      <td>A</td>\n",
       "      <td>610</td>\n",
       "    </tr>\n",
       "    <tr>\n",
       "      <th>8</th>\n",
       "      <td>2019-08-09</td>\n",
       "      <td>A</td>\n",
       "      <td>617</td>\n",
       "    </tr>\n",
       "    <tr>\n",
       "      <th>9</th>\n",
       "      <td>2019-08-10</td>\n",
       "      <td>A</td>\n",
       "      <td>406</td>\n",
       "    </tr>\n",
       "  </tbody>\n",
       "</table>\n",
       "</div>"
      ],
      "text/plain": [
       "         date group  visitors\n",
       "0  2019-08-01  A     719     \n",
       "1  2019-08-02  A     619     \n",
       "2  2019-08-03  A     507     \n",
       "3  2019-08-04  A     717     \n",
       "4  2019-08-05  A     756     \n",
       "5  2019-08-06  A     667     \n",
       "6  2019-08-07  A     644     \n",
       "7  2019-08-08  A     610     \n",
       "8  2019-08-09  A     617     \n",
       "9  2019-08-10  A     406     "
      ]
     },
     "execution_count": 9,
     "metadata": {},
     "output_type": "execute_result"
    }
   ],
   "source": [
    "visitors.head(10)"
   ]
  },
  {
   "cell_type": "markdown",
   "metadata": {},
   "source": [
    "Присутствуют нарушения стиля в названии столбцов, а так же несоотвествие типа данных в столбцах, в которых обозначена дата.\n",
    "<br>Предобработаем данные и проверим их на наличие дубликатов:"
   ]
  },
  {
   "cell_type": "code",
   "execution_count": 10,
   "metadata": {},
   "outputs": [],
   "source": [
    "hypothesis.columns = hypothesis.columns.str.lower()"
   ]
  },
  {
   "cell_type": "code",
   "execution_count": 11,
   "metadata": {},
   "outputs": [
    {
     "data": {
      "text/html": [
       "<div>\n",
       "<style scoped>\n",
       "    .dataframe tbody tr th:only-of-type {\n",
       "        vertical-align: middle;\n",
       "    }\n",
       "\n",
       "    .dataframe tbody tr th {\n",
       "        vertical-align: top;\n",
       "    }\n",
       "\n",
       "    .dataframe thead th {\n",
       "        text-align: right;\n",
       "    }\n",
       "</style>\n",
       "<table border=\"1\" class=\"dataframe\">\n",
       "  <thead>\n",
       "    <tr style=\"text-align: right;\">\n",
       "      <th></th>\n",
       "      <th>transaction_id</th>\n",
       "      <th>visitor_id</th>\n",
       "      <th>date</th>\n",
       "      <th>revenue</th>\n",
       "      <th>group</th>\n",
       "    </tr>\n",
       "  </thead>\n",
       "  <tbody>\n",
       "    <tr>\n",
       "      <th>0</th>\n",
       "      <td>3667963787</td>\n",
       "      <td>3312258926</td>\n",
       "      <td>2019-08-15</td>\n",
       "      <td>1650</td>\n",
       "      <td>B</td>\n",
       "    </tr>\n",
       "    <tr>\n",
       "      <th>1</th>\n",
       "      <td>2804400009</td>\n",
       "      <td>3642806036</td>\n",
       "      <td>2019-08-15</td>\n",
       "      <td>730</td>\n",
       "      <td>B</td>\n",
       "    </tr>\n",
       "    <tr>\n",
       "      <th>2</th>\n",
       "      <td>2961555356</td>\n",
       "      <td>4069496402</td>\n",
       "      <td>2019-08-15</td>\n",
       "      <td>400</td>\n",
       "      <td>A</td>\n",
       "    </tr>\n",
       "    <tr>\n",
       "      <th>3</th>\n",
       "      <td>3797467345</td>\n",
       "      <td>1196621759</td>\n",
       "      <td>2019-08-15</td>\n",
       "      <td>9759</td>\n",
       "      <td>B</td>\n",
       "    </tr>\n",
       "    <tr>\n",
       "      <th>4</th>\n",
       "      <td>2282983706</td>\n",
       "      <td>2322279887</td>\n",
       "      <td>2019-08-15</td>\n",
       "      <td>2308</td>\n",
       "      <td>B</td>\n",
       "    </tr>\n",
       "  </tbody>\n",
       "</table>\n",
       "</div>"
      ],
      "text/plain": [
       "   transaction_id  visitor_id        date  revenue group\n",
       "0  3667963787      3312258926  2019-08-15  1650     B   \n",
       "1  2804400009      3642806036  2019-08-15  730      B   \n",
       "2  2961555356      4069496402  2019-08-15  400      A   \n",
       "3  3797467345      1196621759  2019-08-15  9759     B   \n",
       "4  2282983706      2322279887  2019-08-15  2308     B   "
      ]
     },
     "execution_count": 11,
     "metadata": {},
     "output_type": "execute_result"
    }
   ],
   "source": [
    "orders = orders.rename(columns={'transactionId':'transaction_id', \n",
    "                                'visitorId':'visitor_id'})\n",
    "orders.head(5)"
   ]
  },
  {
   "cell_type": "code",
   "execution_count": 12,
   "metadata": {},
   "outputs": [],
   "source": [
    "visitors['date'] = pd.to_datetime(visitors['date'])\n",
    "orders['date'] = pd.to_datetime(orders['date'])"
   ]
  },
  {
   "cell_type": "code",
   "execution_count": 13,
   "metadata": {},
   "outputs": [
    {
     "name": "stdout",
     "output_type": "stream",
     "text": [
      "Дубликаты hypothesis: 0\n",
      "Дубликаты orders: 0\n",
      "Дубликаты visitors: 0\n"
     ]
    }
   ],
   "source": [
    "print(f'Дубликаты hypothesis: {hypothesis.duplicated().sum()}')\n",
    "print(f'Дубликаты orders: {orders.duplicated().sum()}')\n",
    "print(f'Дубликаты visitors: {visitors.duplicated().sum()}')"
   ]
  },
  {
   "cell_type": "markdown",
   "metadata": {},
   "source": [
    "В итоге мы исправели нарушения стиля в названии столбцов, а так же несоотвествие типа данных в столбцах, в которых обозначена дата. Дубликаты в данных отсутствуют. Можно приступить к основной части."
   ]
  },
  {
   "cell_type": "markdown",
   "metadata": {},
   "source": [
    "**Часть 1. Приоритизация гипотез.**"
   ]
  },
  {
   "cell_type": "code",
   "execution_count": 14,
   "metadata": {
    "scrolled": true
   },
   "outputs": [
    {
     "data": {
      "text/html": [
       "<div>\n",
       "<style scoped>\n",
       "    .dataframe tbody tr th:only-of-type {\n",
       "        vertical-align: middle;\n",
       "    }\n",
       "\n",
       "    .dataframe tbody tr th {\n",
       "        vertical-align: top;\n",
       "    }\n",
       "\n",
       "    .dataframe thead th {\n",
       "        text-align: right;\n",
       "    }\n",
       "</style>\n",
       "<table border=\"1\" class=\"dataframe\">\n",
       "  <thead>\n",
       "    <tr style=\"text-align: right;\">\n",
       "      <th></th>\n",
       "      <th>hypothesis</th>\n",
       "      <th>reach</th>\n",
       "      <th>impact</th>\n",
       "      <th>confidence</th>\n",
       "      <th>efforts</th>\n",
       "    </tr>\n",
       "  </thead>\n",
       "  <tbody>\n",
       "    <tr>\n",
       "      <th>0</th>\n",
       "      <td>Добавить два новых канала привлечения трафика, что позволит привлекать на 30% больше пользователей</td>\n",
       "      <td>3</td>\n",
       "      <td>10</td>\n",
       "      <td>8</td>\n",
       "      <td>6</td>\n",
       "    </tr>\n",
       "    <tr>\n",
       "      <th>1</th>\n",
       "      <td>Запустить собственную службу доставки, что сократит срок доставки заказов</td>\n",
       "      <td>2</td>\n",
       "      <td>5</td>\n",
       "      <td>4</td>\n",
       "      <td>10</td>\n",
       "    </tr>\n",
       "    <tr>\n",
       "      <th>2</th>\n",
       "      <td>Добавить блоки рекомендаций товаров на сайт интернет магазина, чтобы повысить конверсию и средний чек заказа</td>\n",
       "      <td>8</td>\n",
       "      <td>3</td>\n",
       "      <td>7</td>\n",
       "      <td>3</td>\n",
       "    </tr>\n",
       "    <tr>\n",
       "      <th>3</th>\n",
       "      <td>Изменить структура категорий, что увеличит конверсию, т.к. пользователи быстрее найдут нужный товар</td>\n",
       "      <td>8</td>\n",
       "      <td>3</td>\n",
       "      <td>3</td>\n",
       "      <td>8</td>\n",
       "    </tr>\n",
       "    <tr>\n",
       "      <th>4</th>\n",
       "      <td>Изменить цвет фона главной страницы, чтобы увеличить вовлеченность пользователей</td>\n",
       "      <td>3</td>\n",
       "      <td>1</td>\n",
       "      <td>1</td>\n",
       "      <td>1</td>\n",
       "    </tr>\n",
       "    <tr>\n",
       "      <th>5</th>\n",
       "      <td>Добавить страницу отзывов клиентов о магазине, что позволит увеличить количество заказов</td>\n",
       "      <td>3</td>\n",
       "      <td>2</td>\n",
       "      <td>2</td>\n",
       "      <td>3</td>\n",
       "    </tr>\n",
       "    <tr>\n",
       "      <th>6</th>\n",
       "      <td>Показать на главной странице баннеры с актуальными акциями и распродажами, чтобы увеличить конверсию</td>\n",
       "      <td>5</td>\n",
       "      <td>3</td>\n",
       "      <td>8</td>\n",
       "      <td>3</td>\n",
       "    </tr>\n",
       "    <tr>\n",
       "      <th>7</th>\n",
       "      <td>Добавить форму подписки на все основные страницы, чтобы собрать базу клиентов для email-рассылок</td>\n",
       "      <td>10</td>\n",
       "      <td>7</td>\n",
       "      <td>8</td>\n",
       "      <td>5</td>\n",
       "    </tr>\n",
       "    <tr>\n",
       "      <th>8</th>\n",
       "      <td>Запустить акцию, дающую скидку на товар в день рождения</td>\n",
       "      <td>1</td>\n",
       "      <td>9</td>\n",
       "      <td>9</td>\n",
       "      <td>5</td>\n",
       "    </tr>\n",
       "  </tbody>\n",
       "</table>\n",
       "</div>"
      ],
      "text/plain": [
       "                                                                                                     hypothesis  \\\n",
       "0  Добавить два новых канала привлечения трафика, что позволит привлекать на 30% больше пользователей             \n",
       "1  Запустить собственную службу доставки, что сократит срок доставки заказов                                      \n",
       "2  Добавить блоки рекомендаций товаров на сайт интернет магазина, чтобы повысить конверсию и средний чек заказа   \n",
       "3  Изменить структура категорий, что увеличит конверсию, т.к. пользователи быстрее найдут нужный товар            \n",
       "4  Изменить цвет фона главной страницы, чтобы увеличить вовлеченность пользователей                               \n",
       "5  Добавить страницу отзывов клиентов о магазине, что позволит увеличить количество заказов                       \n",
       "6  Показать на главной странице баннеры с актуальными акциями и распродажами, чтобы увеличить конверсию           \n",
       "7  Добавить форму подписки на все основные страницы, чтобы собрать базу клиентов для email-рассылок               \n",
       "8  Запустить акцию, дающую скидку на товар в день рождения                                                        \n",
       "\n",
       "   reach  impact  confidence  efforts  \n",
       "0  3      10      8           6        \n",
       "1  2      5       4           10       \n",
       "2  8      3       7           3        \n",
       "3  8      3       3           8        \n",
       "4  3      1       1           1        \n",
       "5  3      2       2           3        \n",
       "6  5      3       8           3        \n",
       "7  10     7       8           5        \n",
       "8  1      9       9           5        "
      ]
     },
     "execution_count": 14,
     "metadata": {},
     "output_type": "execute_result"
    }
   ],
   "source": [
    "hypothesis"
   ]
  },
  {
   "cell_type": "markdown",
   "metadata": {},
   "source": [
    "Применим метод ICE для приоритизации гипотез\n",
    "<br>Его формула:\n",
    "</ul></div><br>$$ICE = \\frac{Impact * Confidence}{Efforts}$$"
   ]
  },
  {
   "cell_type": "code",
   "execution_count": 15,
   "metadata": {
    "scrolled": true
   },
   "outputs": [
    {
     "data": {
      "text/html": [
       "<div>\n",
       "<style scoped>\n",
       "    .dataframe tbody tr th:only-of-type {\n",
       "        vertical-align: middle;\n",
       "    }\n",
       "\n",
       "    .dataframe tbody tr th {\n",
       "        vertical-align: top;\n",
       "    }\n",
       "\n",
       "    .dataframe thead th {\n",
       "        text-align: right;\n",
       "    }\n",
       "</style>\n",
       "<table border=\"1\" class=\"dataframe\">\n",
       "  <thead>\n",
       "    <tr style=\"text-align: right;\">\n",
       "      <th></th>\n",
       "      <th>hypothesis</th>\n",
       "      <th>reach</th>\n",
       "      <th>impact</th>\n",
       "      <th>confidence</th>\n",
       "      <th>efforts</th>\n",
       "      <th>ice</th>\n",
       "    </tr>\n",
       "  </thead>\n",
       "  <tbody>\n",
       "    <tr>\n",
       "      <th>8</th>\n",
       "      <td>Запустить акцию, дающую скидку на товар в день рождения</td>\n",
       "      <td>1</td>\n",
       "      <td>9</td>\n",
       "      <td>9</td>\n",
       "      <td>5</td>\n",
       "      <td>16.200000</td>\n",
       "    </tr>\n",
       "    <tr>\n",
       "      <th>0</th>\n",
       "      <td>Добавить два новых канала привлечения трафика, что позволит привлекать на 30% больше пользователей</td>\n",
       "      <td>3</td>\n",
       "      <td>10</td>\n",
       "      <td>8</td>\n",
       "      <td>6</td>\n",
       "      <td>13.333333</td>\n",
       "    </tr>\n",
       "    <tr>\n",
       "      <th>7</th>\n",
       "      <td>Добавить форму подписки на все основные страницы, чтобы собрать базу клиентов для email-рассылок</td>\n",
       "      <td>10</td>\n",
       "      <td>7</td>\n",
       "      <td>8</td>\n",
       "      <td>5</td>\n",
       "      <td>11.200000</td>\n",
       "    </tr>\n",
       "    <tr>\n",
       "      <th>6</th>\n",
       "      <td>Показать на главной странице баннеры с актуальными акциями и распродажами, чтобы увеличить конверсию</td>\n",
       "      <td>5</td>\n",
       "      <td>3</td>\n",
       "      <td>8</td>\n",
       "      <td>3</td>\n",
       "      <td>8.000000</td>\n",
       "    </tr>\n",
       "    <tr>\n",
       "      <th>2</th>\n",
       "      <td>Добавить блоки рекомендаций товаров на сайт интернет магазина, чтобы повысить конверсию и средний чек заказа</td>\n",
       "      <td>8</td>\n",
       "      <td>3</td>\n",
       "      <td>7</td>\n",
       "      <td>3</td>\n",
       "      <td>7.000000</td>\n",
       "    </tr>\n",
       "    <tr>\n",
       "      <th>1</th>\n",
       "      <td>Запустить собственную службу доставки, что сократит срок доставки заказов</td>\n",
       "      <td>2</td>\n",
       "      <td>5</td>\n",
       "      <td>4</td>\n",
       "      <td>10</td>\n",
       "      <td>2.000000</td>\n",
       "    </tr>\n",
       "    <tr>\n",
       "      <th>5</th>\n",
       "      <td>Добавить страницу отзывов клиентов о магазине, что позволит увеличить количество заказов</td>\n",
       "      <td>3</td>\n",
       "      <td>2</td>\n",
       "      <td>2</td>\n",
       "      <td>3</td>\n",
       "      <td>1.333333</td>\n",
       "    </tr>\n",
       "    <tr>\n",
       "      <th>3</th>\n",
       "      <td>Изменить структура категорий, что увеличит конверсию, т.к. пользователи быстрее найдут нужный товар</td>\n",
       "      <td>8</td>\n",
       "      <td>3</td>\n",
       "      <td>3</td>\n",
       "      <td>8</td>\n",
       "      <td>1.125000</td>\n",
       "    </tr>\n",
       "    <tr>\n",
       "      <th>4</th>\n",
       "      <td>Изменить цвет фона главной страницы, чтобы увеличить вовлеченность пользователей</td>\n",
       "      <td>3</td>\n",
       "      <td>1</td>\n",
       "      <td>1</td>\n",
       "      <td>1</td>\n",
       "      <td>1.000000</td>\n",
       "    </tr>\n",
       "  </tbody>\n",
       "</table>\n",
       "</div>"
      ],
      "text/plain": [
       "                                                                                                     hypothesis  \\\n",
       "8  Запустить акцию, дающую скидку на товар в день рождения                                                        \n",
       "0  Добавить два новых канала привлечения трафика, что позволит привлекать на 30% больше пользователей             \n",
       "7  Добавить форму подписки на все основные страницы, чтобы собрать базу клиентов для email-рассылок               \n",
       "6  Показать на главной странице баннеры с актуальными акциями и распродажами, чтобы увеличить конверсию           \n",
       "2  Добавить блоки рекомендаций товаров на сайт интернет магазина, чтобы повысить конверсию и средний чек заказа   \n",
       "1  Запустить собственную службу доставки, что сократит срок доставки заказов                                      \n",
       "5  Добавить страницу отзывов клиентов о магазине, что позволит увеличить количество заказов                       \n",
       "3  Изменить структура категорий, что увеличит конверсию, т.к. пользователи быстрее найдут нужный товар            \n",
       "4  Изменить цвет фона главной страницы, чтобы увеличить вовлеченность пользователей                               \n",
       "\n",
       "   reach  impact  confidence  efforts        ice  \n",
       "8  1      9       9           5        16.200000  \n",
       "0  3      10      8           6        13.333333  \n",
       "7  10     7       8           5        11.200000  \n",
       "6  5      3       8           3        8.000000   \n",
       "2  8      3       7           3        7.000000   \n",
       "1  2      5       4           10       2.000000   \n",
       "5  3      2       2           3        1.333333   \n",
       "3  8      3       3           8        1.125000   \n",
       "4  3      1       1           1        1.000000   "
      ]
     },
     "execution_count": 15,
     "metadata": {},
     "output_type": "execute_result"
    }
   ],
   "source": [
    "hypothesis['ice'] = (hypothesis['impact'] * hypothesis['confidence'])/hypothesis['efforts']\n",
    "hypothesis.sort_values(by = 'ice', ascending=False)"
   ]
  },
  {
   "cell_type": "markdown",
   "metadata": {},
   "source": [
    "А теперь применим метод RICE\n",
    "<br>Его формула:\n",
    "</ul></div> <br>$$RICE = \\frac{Rearch * Impact * Confidence}{Efforts}$$"
   ]
  },
  {
   "cell_type": "code",
   "execution_count": 16,
   "metadata": {},
   "outputs": [
    {
     "data": {
      "text/html": [
       "<div>\n",
       "<style scoped>\n",
       "    .dataframe tbody tr th:only-of-type {\n",
       "        vertical-align: middle;\n",
       "    }\n",
       "\n",
       "    .dataframe tbody tr th {\n",
       "        vertical-align: top;\n",
       "    }\n",
       "\n",
       "    .dataframe thead th {\n",
       "        text-align: right;\n",
       "    }\n",
       "</style>\n",
       "<table border=\"1\" class=\"dataframe\">\n",
       "  <thead>\n",
       "    <tr style=\"text-align: right;\">\n",
       "      <th></th>\n",
       "      <th>hypothesis</th>\n",
       "      <th>reach</th>\n",
       "      <th>impact</th>\n",
       "      <th>confidence</th>\n",
       "      <th>efforts</th>\n",
       "      <th>ice</th>\n",
       "      <th>rice</th>\n",
       "    </tr>\n",
       "  </thead>\n",
       "  <tbody>\n",
       "    <tr>\n",
       "      <th>7</th>\n",
       "      <td>Добавить форму подписки на все основные страницы, чтобы собрать базу клиентов для email-рассылок</td>\n",
       "      <td>10</td>\n",
       "      <td>7</td>\n",
       "      <td>8</td>\n",
       "      <td>5</td>\n",
       "      <td>11.200000</td>\n",
       "      <td>112.0</td>\n",
       "    </tr>\n",
       "    <tr>\n",
       "      <th>2</th>\n",
       "      <td>Добавить блоки рекомендаций товаров на сайт интернет магазина, чтобы повысить конверсию и средний чек заказа</td>\n",
       "      <td>8</td>\n",
       "      <td>3</td>\n",
       "      <td>7</td>\n",
       "      <td>3</td>\n",
       "      <td>7.000000</td>\n",
       "      <td>56.0</td>\n",
       "    </tr>\n",
       "    <tr>\n",
       "      <th>0</th>\n",
       "      <td>Добавить два новых канала привлечения трафика, что позволит привлекать на 30% больше пользователей</td>\n",
       "      <td>3</td>\n",
       "      <td>10</td>\n",
       "      <td>8</td>\n",
       "      <td>6</td>\n",
       "      <td>13.333333</td>\n",
       "      <td>40.0</td>\n",
       "    </tr>\n",
       "    <tr>\n",
       "      <th>6</th>\n",
       "      <td>Показать на главной странице баннеры с актуальными акциями и распродажами, чтобы увеличить конверсию</td>\n",
       "      <td>5</td>\n",
       "      <td>3</td>\n",
       "      <td>8</td>\n",
       "      <td>3</td>\n",
       "      <td>8.000000</td>\n",
       "      <td>40.0</td>\n",
       "    </tr>\n",
       "    <tr>\n",
       "      <th>8</th>\n",
       "      <td>Запустить акцию, дающую скидку на товар в день рождения</td>\n",
       "      <td>1</td>\n",
       "      <td>9</td>\n",
       "      <td>9</td>\n",
       "      <td>5</td>\n",
       "      <td>16.200000</td>\n",
       "      <td>16.2</td>\n",
       "    </tr>\n",
       "    <tr>\n",
       "      <th>3</th>\n",
       "      <td>Изменить структура категорий, что увеличит конверсию, т.к. пользователи быстрее найдут нужный товар</td>\n",
       "      <td>8</td>\n",
       "      <td>3</td>\n",
       "      <td>3</td>\n",
       "      <td>8</td>\n",
       "      <td>1.125000</td>\n",
       "      <td>9.0</td>\n",
       "    </tr>\n",
       "    <tr>\n",
       "      <th>1</th>\n",
       "      <td>Запустить собственную службу доставки, что сократит срок доставки заказов</td>\n",
       "      <td>2</td>\n",
       "      <td>5</td>\n",
       "      <td>4</td>\n",
       "      <td>10</td>\n",
       "      <td>2.000000</td>\n",
       "      <td>4.0</td>\n",
       "    </tr>\n",
       "    <tr>\n",
       "      <th>5</th>\n",
       "      <td>Добавить страницу отзывов клиентов о магазине, что позволит увеличить количество заказов</td>\n",
       "      <td>3</td>\n",
       "      <td>2</td>\n",
       "      <td>2</td>\n",
       "      <td>3</td>\n",
       "      <td>1.333333</td>\n",
       "      <td>4.0</td>\n",
       "    </tr>\n",
       "    <tr>\n",
       "      <th>4</th>\n",
       "      <td>Изменить цвет фона главной страницы, чтобы увеличить вовлеченность пользователей</td>\n",
       "      <td>3</td>\n",
       "      <td>1</td>\n",
       "      <td>1</td>\n",
       "      <td>1</td>\n",
       "      <td>1.000000</td>\n",
       "      <td>3.0</td>\n",
       "    </tr>\n",
       "  </tbody>\n",
       "</table>\n",
       "</div>"
      ],
      "text/plain": [
       "                                                                                                     hypothesis  \\\n",
       "7  Добавить форму подписки на все основные страницы, чтобы собрать базу клиентов для email-рассылок               \n",
       "2  Добавить блоки рекомендаций товаров на сайт интернет магазина, чтобы повысить конверсию и средний чек заказа   \n",
       "0  Добавить два новых канала привлечения трафика, что позволит привлекать на 30% больше пользователей             \n",
       "6  Показать на главной странице баннеры с актуальными акциями и распродажами, чтобы увеличить конверсию           \n",
       "8  Запустить акцию, дающую скидку на товар в день рождения                                                        \n",
       "3  Изменить структура категорий, что увеличит конверсию, т.к. пользователи быстрее найдут нужный товар            \n",
       "1  Запустить собственную службу доставки, что сократит срок доставки заказов                                      \n",
       "5  Добавить страницу отзывов клиентов о магазине, что позволит увеличить количество заказов                       \n",
       "4  Изменить цвет фона главной страницы, чтобы увеличить вовлеченность пользователей                               \n",
       "\n",
       "   reach  impact  confidence  efforts        ice   rice  \n",
       "7  10     7       8           5        11.200000  112.0  \n",
       "2  8      3       7           3        7.000000   56.0   \n",
       "0  3      10      8           6        13.333333  40.0   \n",
       "6  5      3       8           3        8.000000   40.0   \n",
       "8  1      9       9           5        16.200000  16.2   \n",
       "3  8      3       3           8        1.125000   9.0    \n",
       "1  2      5       4           10       2.000000   4.0    \n",
       "5  3      2       2           3        1.333333   4.0    \n",
       "4  3      1       1           1        1.000000   3.0    "
      ]
     },
     "execution_count": 16,
     "metadata": {},
     "output_type": "execute_result"
    }
   ],
   "source": [
    "hypothesis['rice'] = hypothesis['reach'] * hypothesis['impact'] * hypothesis['confidence'] / hypothesis['efforts']\n",
    "hypothesis.sort_values(by='rice', ascending=False)"
   ]
  },
  {
   "cell_type": "markdown",
   "metadata": {},
   "source": [
    "**Вывод**"
   ]
  },
  {
   "cell_type": "markdown",
   "metadata": {},
   "source": [
    "По методу ICE наиболее приоритетными были гипотезы(топ-3):\n",
    "- Запустить акцию, дающую скидку на товар в день рождения\n",
    "- Добавить два новых канала привлечения трафика, что позволит привлекать на 30% больше пользователей\n",
    "- Добавить форму подписки на все основные страницы, чтобы собрать базу клиентов для email-рассылок\n",
    "\n",
    "По методу RICE расклад иной(топ-3):\n",
    "- Добавить форму подписки на все основные страницы, чтобы собрать базу клиентов для email-рассылок\n",
    "- Добавить блоки рекомендаций товаров на сайт интернет магазина, чтобы повысить конверсию и средний чек заказа\n",
    "- Добавить два новых канала привлечения трафика, что позволит привлекать на 30% больше пользователей\n",
    "\n",
    "Видим разницу в приоритезиций гипотез. Это произошло потому что по методу RICE учитывается параметр Reach, т.е. скольких пользователей затронет изменение, которое мы хотим внести."
   ]
  },
  {
   "cell_type": "markdown",
   "metadata": {},
   "source": [
    "**Часть 2. Анализ A/B-теста.**"
   ]
  },
  {
   "cell_type": "markdown",
   "metadata": {},
   "source": [
    "Сначала проверим - есть ли пересечения пользователей между обеими группами теста"
   ]
  },
  {
   "cell_type": "code",
   "execution_count": 17,
   "metadata": {},
   "outputs": [
    {
     "data": {
      "text/plain": [
       "58"
      ]
     },
     "execution_count": 17,
     "metadata": {},
     "output_type": "execute_result"
    }
   ],
   "source": [
    "len(orders.loc[orders['visitor_id'].isin(orders[orders['group']=='A']['visitor_id']) & \n",
    "               orders['visitor_id'].isin(orders[orders['group']=='B']['visitor_id']),'visitor_id'].unique())"
   ]
  },
  {
   "cell_type": "markdown",
   "metadata": {},
   "source": [
    "Пересечения между группами все же есть: 58 пользователей попали в обе группы."
   ]
  },
  {
   "cell_type": "code",
   "execution_count": 18,
   "metadata": {
    "scrolled": true
   },
   "outputs": [
    {
     "name": "stdout",
     "output_type": "stream",
     "text": [
      "А: 503\n",
      "В: 586\n"
     ]
    }
   ],
   "source": [
    "print('А:', orders.query('group == \"A\"')['visitor_id'].nunique())\n",
    "print('В:', orders.query('group == \"B\"')['visitor_id'].nunique())"
   ]
  },
  {
   "cell_type": "markdown",
   "metadata": {},
   "source": [
    "Исходя из кол-ва пользователей в каждой группе - получаем, что около 10% пользователей пересекаются\n",
    "<br>Результаты исследования могут быть немного искажены, но мы можем продолжать исследование"
   ]
  },
  {
   "cell_type": "markdown",
   "metadata": {},
   "source": [
    "Подготовим данные для расчетов:"
   ]
  },
  {
   "cell_type": "code",
   "execution_count": 19,
   "metadata": {},
   "outputs": [],
   "source": [
    "dates_group = orders[['date','group']].drop_duplicates()"
   ]
  },
  {
   "cell_type": "code",
   "execution_count": 20,
   "metadata": {},
   "outputs": [
    {
     "data": {
      "text/html": [
       "<div>\n",
       "<style scoped>\n",
       "    .dataframe tbody tr th:only-of-type {\n",
       "        vertical-align: middle;\n",
       "    }\n",
       "\n",
       "    .dataframe tbody tr th {\n",
       "        vertical-align: top;\n",
       "    }\n",
       "\n",
       "    .dataframe thead th {\n",
       "        text-align: right;\n",
       "    }\n",
       "</style>\n",
       "<table border=\"1\" class=\"dataframe\">\n",
       "  <thead>\n",
       "    <tr style=\"text-align: right;\">\n",
       "      <th></th>\n",
       "      <th>date</th>\n",
       "      <th>group</th>\n",
       "      <th>transaction_id</th>\n",
       "      <th>visitor_id</th>\n",
       "      <th>revenue</th>\n",
       "    </tr>\n",
       "  </thead>\n",
       "  <tbody>\n",
       "    <tr>\n",
       "      <th>55</th>\n",
       "      <td>2019-08-01</td>\n",
       "      <td>A</td>\n",
       "      <td>24</td>\n",
       "      <td>20</td>\n",
       "      <td>148579</td>\n",
       "    </tr>\n",
       "    <tr>\n",
       "      <th>66</th>\n",
       "      <td>2019-08-01</td>\n",
       "      <td>B</td>\n",
       "      <td>21</td>\n",
       "      <td>20</td>\n",
       "      <td>101217</td>\n",
       "    </tr>\n",
       "    <tr>\n",
       "      <th>175</th>\n",
       "      <td>2019-08-02</td>\n",
       "      <td>A</td>\n",
       "      <td>44</td>\n",
       "      <td>38</td>\n",
       "      <td>242401</td>\n",
       "    </tr>\n",
       "    <tr>\n",
       "      <th>173</th>\n",
       "      <td>2019-08-02</td>\n",
       "      <td>B</td>\n",
       "      <td>45</td>\n",
       "      <td>43</td>\n",
       "      <td>266748</td>\n",
       "    </tr>\n",
       "    <tr>\n",
       "      <th>291</th>\n",
       "      <td>2019-08-03</td>\n",
       "      <td>A</td>\n",
       "      <td>68</td>\n",
       "      <td>62</td>\n",
       "      <td>354874</td>\n",
       "    </tr>\n",
       "    <tr>\n",
       "      <th>310</th>\n",
       "      <td>2019-08-03</td>\n",
       "      <td>B</td>\n",
       "      <td>61</td>\n",
       "      <td>59</td>\n",
       "      <td>380996</td>\n",
       "    </tr>\n",
       "    <tr>\n",
       "      <th>499</th>\n",
       "      <td>2019-08-04</td>\n",
       "      <td>A</td>\n",
       "      <td>84</td>\n",
       "      <td>77</td>\n",
       "      <td>425699</td>\n",
       "    </tr>\n",
       "    <tr>\n",
       "      <th>498</th>\n",
       "      <td>2019-08-04</td>\n",
       "      <td>B</td>\n",
       "      <td>78</td>\n",
       "      <td>75</td>\n",
       "      <td>489567</td>\n",
       "    </tr>\n",
       "  </tbody>\n",
       "</table>\n",
       "</div>"
      ],
      "text/plain": [
       "          date group  transaction_id  visitor_id  revenue\n",
       "55  2019-08-01  A     24              20          148579 \n",
       "66  2019-08-01  B     21              20          101217 \n",
       "175 2019-08-02  A     44              38          242401 \n",
       "173 2019-08-02  B     45              43          266748 \n",
       "291 2019-08-03  A     68              62          354874 \n",
       "310 2019-08-03  B     61              59          380996 \n",
       "499 2019-08-04  A     84              77          425699 \n",
       "498 2019-08-04  B     78              75          489567 "
      ]
     },
     "execution_count": 20,
     "metadata": {},
     "output_type": "execute_result"
    }
   ],
   "source": [
    "orders_group = dates_group.apply(\n",
    "    lambda x: orders[np.logical_and(orders['date'] <= x['date'],\n",
    "                                    orders['group'] == x['group'])]\n",
    "    .agg({'date' : 'max',\n",
    "          'group' : 'max',\n",
    "          'transaction_id' : 'nunique',\n",
    "          'visitor_id' : 'nunique',\n",
    "          'revenue' : 'sum'}), \n",
    "    axis=1).sort_values(by=['date','group'])\n",
    "\n",
    "orders_group.head(8)"
   ]
  },
  {
   "cell_type": "code",
   "execution_count": 21,
   "metadata": {
    "scrolled": true
   },
   "outputs": [
    {
     "data": {
      "text/html": [
       "<div>\n",
       "<style scoped>\n",
       "    .dataframe tbody tr th:only-of-type {\n",
       "        vertical-align: middle;\n",
       "    }\n",
       "\n",
       "    .dataframe tbody tr th {\n",
       "        vertical-align: top;\n",
       "    }\n",
       "\n",
       "    .dataframe thead th {\n",
       "        text-align: right;\n",
       "    }\n",
       "</style>\n",
       "<table border=\"1\" class=\"dataframe\">\n",
       "  <thead>\n",
       "    <tr style=\"text-align: right;\">\n",
       "      <th></th>\n",
       "      <th>date</th>\n",
       "      <th>group</th>\n",
       "      <th>visitors</th>\n",
       "    </tr>\n",
       "  </thead>\n",
       "  <tbody>\n",
       "    <tr>\n",
       "      <th>55</th>\n",
       "      <td>2019-08-01</td>\n",
       "      <td>A</td>\n",
       "      <td>719</td>\n",
       "    </tr>\n",
       "    <tr>\n",
       "      <th>66</th>\n",
       "      <td>2019-08-01</td>\n",
       "      <td>B</td>\n",
       "      <td>713</td>\n",
       "    </tr>\n",
       "    <tr>\n",
       "      <th>175</th>\n",
       "      <td>2019-08-02</td>\n",
       "      <td>A</td>\n",
       "      <td>1338</td>\n",
       "    </tr>\n",
       "    <tr>\n",
       "      <th>173</th>\n",
       "      <td>2019-08-02</td>\n",
       "      <td>B</td>\n",
       "      <td>1294</td>\n",
       "    </tr>\n",
       "    <tr>\n",
       "      <th>291</th>\n",
       "      <td>2019-08-03</td>\n",
       "      <td>A</td>\n",
       "      <td>1845</td>\n",
       "    </tr>\n",
       "    <tr>\n",
       "      <th>310</th>\n",
       "      <td>2019-08-03</td>\n",
       "      <td>B</td>\n",
       "      <td>1803</td>\n",
       "    </tr>\n",
       "    <tr>\n",
       "      <th>499</th>\n",
       "      <td>2019-08-04</td>\n",
       "      <td>A</td>\n",
       "      <td>2562</td>\n",
       "    </tr>\n",
       "    <tr>\n",
       "      <th>498</th>\n",
       "      <td>2019-08-04</td>\n",
       "      <td>B</td>\n",
       "      <td>2573</td>\n",
       "    </tr>\n",
       "  </tbody>\n",
       "</table>\n",
       "</div>"
      ],
      "text/plain": [
       "          date group  visitors\n",
       "55  2019-08-01  A     719     \n",
       "66  2019-08-01  B     713     \n",
       "175 2019-08-02  A     1338    \n",
       "173 2019-08-02  B     1294    \n",
       "291 2019-08-03  A     1845    \n",
       "310 2019-08-03  B     1803    \n",
       "499 2019-08-04  A     2562    \n",
       "498 2019-08-04  B     2573    "
      ]
     },
     "execution_count": 21,
     "metadata": {},
     "output_type": "execute_result"
    }
   ],
   "source": [
    "visitors_group = dates_group.apply(\n",
    "    lambda x: visitors[np.logical_and(visitors['date'] <= x['date'], \n",
    "                                      visitors['group'] == x['group'])]\n",
    "    .agg({'date': 'max',\n",
    "          'group': 'max',\n",
    "          'visitors': 'sum'}),axis=1,\n",
    ").sort_values(by=['date', 'group'])\n",
    "\n",
    "visitors_group.head(8)"
   ]
  },
  {
   "cell_type": "code",
   "execution_count": 22,
   "metadata": {},
   "outputs": [],
   "source": [
    "cumulative_data = orders_group.merge(\n",
    "    visitors_group, \n",
    "    left_on=['date', 'group'], \n",
    "    right_on=['date', 'group']\n",
    ")\n",
    "\n",
    "cumulative_data.columns = ['date', 'group', 'orders', 'buyers', 'revenue', 'visitors']"
   ]
  },
  {
   "cell_type": "code",
   "execution_count": 23,
   "metadata": {
    "scrolled": true
   },
   "outputs": [
    {
     "data": {
      "text/html": [
       "<div>\n",
       "<style scoped>\n",
       "    .dataframe tbody tr th:only-of-type {\n",
       "        vertical-align: middle;\n",
       "    }\n",
       "\n",
       "    .dataframe tbody tr th {\n",
       "        vertical-align: top;\n",
       "    }\n",
       "\n",
       "    .dataframe thead th {\n",
       "        text-align: right;\n",
       "    }\n",
       "</style>\n",
       "<table border=\"1\" class=\"dataframe\">\n",
       "  <thead>\n",
       "    <tr style=\"text-align: right;\">\n",
       "      <th></th>\n",
       "      <th>date</th>\n",
       "      <th>group</th>\n",
       "      <th>orders</th>\n",
       "      <th>buyers</th>\n",
       "      <th>revenue</th>\n",
       "      <th>visitors</th>\n",
       "      <th>conversion</th>\n",
       "    </tr>\n",
       "  </thead>\n",
       "  <tbody>\n",
       "    <tr>\n",
       "      <th>0</th>\n",
       "      <td>2019-08-01</td>\n",
       "      <td>A</td>\n",
       "      <td>24</td>\n",
       "      <td>20</td>\n",
       "      <td>148579</td>\n",
       "      <td>719</td>\n",
       "      <td>0.033380</td>\n",
       "    </tr>\n",
       "    <tr>\n",
       "      <th>1</th>\n",
       "      <td>2019-08-01</td>\n",
       "      <td>B</td>\n",
       "      <td>21</td>\n",
       "      <td>20</td>\n",
       "      <td>101217</td>\n",
       "      <td>713</td>\n",
       "      <td>0.029453</td>\n",
       "    </tr>\n",
       "    <tr>\n",
       "      <th>2</th>\n",
       "      <td>2019-08-02</td>\n",
       "      <td>A</td>\n",
       "      <td>44</td>\n",
       "      <td>38</td>\n",
       "      <td>242401</td>\n",
       "      <td>1338</td>\n",
       "      <td>0.032885</td>\n",
       "    </tr>\n",
       "    <tr>\n",
       "      <th>3</th>\n",
       "      <td>2019-08-02</td>\n",
       "      <td>B</td>\n",
       "      <td>45</td>\n",
       "      <td>43</td>\n",
       "      <td>266748</td>\n",
       "      <td>1294</td>\n",
       "      <td>0.034776</td>\n",
       "    </tr>\n",
       "    <tr>\n",
       "      <th>4</th>\n",
       "      <td>2019-08-03</td>\n",
       "      <td>A</td>\n",
       "      <td>68</td>\n",
       "      <td>62</td>\n",
       "      <td>354874</td>\n",
       "      <td>1845</td>\n",
       "      <td>0.036856</td>\n",
       "    </tr>\n",
       "    <tr>\n",
       "      <th>5</th>\n",
       "      <td>2019-08-03</td>\n",
       "      <td>B</td>\n",
       "      <td>61</td>\n",
       "      <td>59</td>\n",
       "      <td>380996</td>\n",
       "      <td>1803</td>\n",
       "      <td>0.033833</td>\n",
       "    </tr>\n",
       "    <tr>\n",
       "      <th>6</th>\n",
       "      <td>2019-08-04</td>\n",
       "      <td>A</td>\n",
       "      <td>84</td>\n",
       "      <td>77</td>\n",
       "      <td>425699</td>\n",
       "      <td>2562</td>\n",
       "      <td>0.032787</td>\n",
       "    </tr>\n",
       "    <tr>\n",
       "      <th>7</th>\n",
       "      <td>2019-08-04</td>\n",
       "      <td>B</td>\n",
       "      <td>78</td>\n",
       "      <td>75</td>\n",
       "      <td>489567</td>\n",
       "      <td>2573</td>\n",
       "      <td>0.030315</td>\n",
       "    </tr>\n",
       "  </tbody>\n",
       "</table>\n",
       "</div>"
      ],
      "text/plain": [
       "        date group  orders  buyers  revenue  visitors  conversion\n",
       "0 2019-08-01  A     24      20      148579   719       0.033380  \n",
       "1 2019-08-01  B     21      20      101217   713       0.029453  \n",
       "2 2019-08-02  A     44      38      242401   1338      0.032885  \n",
       "3 2019-08-02  B     45      43      266748   1294      0.034776  \n",
       "4 2019-08-03  A     68      62      354874   1845      0.036856  \n",
       "5 2019-08-03  B     61      59      380996   1803      0.033833  \n",
       "6 2019-08-04  A     84      77      425699   2562      0.032787  \n",
       "7 2019-08-04  B     78      75      489567   2573      0.030315  "
      ]
     },
     "execution_count": 23,
     "metadata": {},
     "output_type": "execute_result"
    }
   ],
   "source": [
    "cumulative_data['conversion'] = cumulative_data['orders'] / cumulative_data['visitors']\n",
    "cumulative_data.head(8)"
   ]
  },
  {
   "cell_type": "code",
   "execution_count": 24,
   "metadata": {},
   "outputs": [],
   "source": [
    "cumulative_revenue_a = cumulative_data[cumulative_data['group']=='A'][['date','revenue', 'orders']]\n",
    "cumulative_revenue_b = cumulative_data[cumulative_data['group']=='B'][['date','revenue', 'orders']]"
   ]
  },
  {
   "cell_type": "markdown",
   "metadata": {},
   "source": [
    "Данные подготовлены, теперь можно приступить к рассчетам"
   ]
  },
  {
   "cell_type": "markdown",
   "metadata": {},
   "source": [
    "**1. Кумулятивная выручка по группам**"
   ]
  },
  {
   "cell_type": "code",
   "execution_count": 25,
   "metadata": {},
   "outputs": [
    {
     "data": {
      "image/png": "[encoded data removed]",
      "text/plain": [
       "<Figure size 1080x432 with 1 Axes>"
      ]
     },
     "metadata": {
      "needs_background": "light"
     },
     "output_type": "display_data"
    }
   ],
   "source": [
    "plt.figure(figsize=(15,6))\n",
    "plt.plot(cumulative_revenue_a['date'], \n",
    "         cumulative_revenue_a['revenue'], \n",
    "         label='A')\n",
    "plt.plot(cumulative_revenue_b['date'], \n",
    "         cumulative_revenue_b['revenue'], \n",
    "         label='B')\n",
    "plt.title('Кумулятивная выручка по группам')\n",
    "plt.xlabel(\"Дата\")\n",
    "plt.ylabel(\"Выручка\")\n",
    "plt.grid()\n",
    "plt.legend()\n",
    "plt.show()"
   ]
  },
  {
   "cell_type": "markdown",
   "metadata": {},
   "source": [
    "Мы видим, что кумулятивная выручка группы В растет выше, чем у группы А, анчиная с 05.08. При этом видим скачок у группы В в районе 18-го августа. Скорее-всего просто были крупные заказы, либо их число сильно увеличилось."
   ]
  },
  {
   "cell_type": "markdown",
   "metadata": {},
   "source": [
    "**2. Кумулятивный средний чек по группам**"
   ]
  },
  {
   "cell_type": "code",
   "execution_count": 26,
   "metadata": {},
   "outputs": [
    {
     "data": {
      "image/png": "[encoded data removed]",
      "text/plain": [
       "<Figure size 1080x432 with 1 Axes>"
      ]
     },
     "metadata": {
      "needs_background": "light"
     },
     "output_type": "display_data"
    }
   ],
   "source": [
    "plt.figure(figsize=(15,6))\n",
    "plt.plot(cumulative_revenue_a['date'], \n",
    "         cumulative_revenue_a['revenue'] / cumulative_revenue_a['orders'], \n",
    "         label='A')\n",
    "plt.plot(cumulative_revenue_b['date'], \n",
    "         cumulative_revenue_b['revenue'] / cumulative_revenue_b['orders'], \n",
    "         label='B')\n",
    "plt.title('Кумулятивный средний чек по группам')\n",
    "plt.xlabel(\"Дата\")\n",
    "plt.ylabel(\"Сумма среднего чека\")\n",
    "plt.grid()\n",
    "plt.legend()\n",
    "plt.show()"
   ]
  },
  {
   "cell_type": "markdown",
   "metadata": {},
   "source": [
    "Как и ожидалось - версия с крупными заказами подтвердилась: по графику средний чек группы В показал резкий рывок как раз в районе 18 числа. Средний чек группы А сначала имел небольшой спад с последующим ростом, а уже после середины месяца стал достаточно стабильным"
   ]
  },
  {
   "cell_type": "markdown",
   "metadata": {},
   "source": [
    "**3. Относительное изменение кумулятивного среднего чека группы В к группе А**"
   ]
  },
  {
   "cell_type": "markdown",
   "metadata": {},
   "source": [
    "Соберем данные в одном датафрейме"
   ]
  },
  {
   "cell_type": "code",
   "execution_count": 27,
   "metadata": {},
   "outputs": [
    {
     "data": {
      "text/html": [
       "<div>\n",
       "<style scoped>\n",
       "    .dataframe tbody tr th:only-of-type {\n",
       "        vertical-align: middle;\n",
       "    }\n",
       "\n",
       "    .dataframe tbody tr th {\n",
       "        vertical-align: top;\n",
       "    }\n",
       "\n",
       "    .dataframe thead th {\n",
       "        text-align: right;\n",
       "    }\n",
       "</style>\n",
       "<table border=\"1\" class=\"dataframe\">\n",
       "  <thead>\n",
       "    <tr style=\"text-align: right;\">\n",
       "      <th></th>\n",
       "      <th>date</th>\n",
       "      <th>revenue_a</th>\n",
       "      <th>orders_a</th>\n",
       "      <th>revenue_b</th>\n",
       "      <th>orders_b</th>\n",
       "    </tr>\n",
       "  </thead>\n",
       "  <tbody>\n",
       "    <tr>\n",
       "      <th>0</th>\n",
       "      <td>2019-08-01</td>\n",
       "      <td>148579</td>\n",
       "      <td>24</td>\n",
       "      <td>101217</td>\n",
       "      <td>21</td>\n",
       "    </tr>\n",
       "    <tr>\n",
       "      <th>1</th>\n",
       "      <td>2019-08-02</td>\n",
       "      <td>242401</td>\n",
       "      <td>44</td>\n",
       "      <td>266748</td>\n",
       "      <td>45</td>\n",
       "    </tr>\n",
       "    <tr>\n",
       "      <th>2</th>\n",
       "      <td>2019-08-03</td>\n",
       "      <td>354874</td>\n",
       "      <td>68</td>\n",
       "      <td>380996</td>\n",
       "      <td>61</td>\n",
       "    </tr>\n",
       "    <tr>\n",
       "      <th>3</th>\n",
       "      <td>2019-08-04</td>\n",
       "      <td>425699</td>\n",
       "      <td>84</td>\n",
       "      <td>489567</td>\n",
       "      <td>78</td>\n",
       "    </tr>\n",
       "    <tr>\n",
       "      <th>4</th>\n",
       "      <td>2019-08-05</td>\n",
       "      <td>549917</td>\n",
       "      <td>109</td>\n",
       "      <td>581995</td>\n",
       "      <td>101</td>\n",
       "    </tr>\n",
       "  </tbody>\n",
       "</table>\n",
       "</div>"
      ],
      "text/plain": [
       "        date  revenue_a  orders_a  revenue_b  orders_b\n",
       "0 2019-08-01  148579     24        101217     21      \n",
       "1 2019-08-02  242401     44        266748     45      \n",
       "2 2019-08-03  354874     68        380996     61      \n",
       "3 2019-08-04  425699     84        489567     78      \n",
       "4 2019-08-05  549917     109       581995     101     "
      ]
     },
     "execution_count": 27,
     "metadata": {},
     "output_type": "execute_result"
    }
   ],
   "source": [
    "merged_cumulative_revenue = (cumulative_revenue_a\n",
    "                             .merge(cumulative_revenue_b,\n",
    "                                    left_on='date',\n",
    "                                    right_on='date',\n",
    "                                    how='left',\n",
    "                                    suffixes=['_a', '_b']))\n",
    "merged_cumulative_revenue.head(5)"
   ]
  },
  {
   "cell_type": "code",
   "execution_count": 28,
   "metadata": {},
   "outputs": [
    {
     "data": {
      "image/png": "[encoded data removed]",
      "text/plain": [
       "<Figure size 1080x432 with 1 Axes>"
      ]
     },
     "metadata": {
      "needs_background": "light"
     },
     "output_type": "display_data"
    }
   ],
   "source": [
    "plt.figure(figsize=(15,6))\n",
    "plt.plot(merged_cumulative_revenue['date'],\n",
    "         (merged_cumulative_revenue['revenue_b'] / merged_cumulative_revenue['orders_b']) / \n",
    "         (merged_cumulative_revenue['revenue_a'] / merged_cumulative_revenue['orders_a'])-1)\n",
    "plt.title('Относительное изменение кумулятивного среднего чека группы B к группе A')\n",
    "plt.xlabel(\"Дата\")\n",
    "plt.ylabel(\"Средний чек\")\n",
    "plt.axhline(y=0, color='red', linestyle='--')\n",
    "plt.grid()\n",
    "plt.show()"
   ]
  },
  {
   "cell_type": "markdown",
   "metadata": {},
   "source": [
    "Кумулятивная выручка группы В все-таки выше, чем у группы А, но в нескольких точках график резко скачет. Это значит - есть крупные заказы и выбросы."
   ]
  },
  {
   "cell_type": "markdown",
   "metadata": {},
   "source": [
    "**4. Кумулятивное среднее кол-во заказов на посетителя по группам**"
   ]
  },
  {
   "cell_type": "code",
   "execution_count": 29,
   "metadata": {},
   "outputs": [],
   "source": [
    "cumulative_data['conversion'] = cumulative_data['orders'] / cumulative_data['visitors']\n",
    "\n",
    "cumulative_data_a = cumulative_data[cumulative_data['group']=='A']\n",
    "cumulative_data_b = cumulative_data[cumulative_data['group']=='B']"
   ]
  },
  {
   "cell_type": "code",
   "execution_count": 30,
   "metadata": {},
   "outputs": [
    {
     "data": {
      "image/png": "[encoded data removed]",
      "text/plain": [
       "<Figure size 1080x432 with 1 Axes>"
      ]
     },
     "metadata": {
      "needs_background": "light"
     },
     "output_type": "display_data"
    }
   ],
   "source": [
    "plt.figure(figsize=(15,6))\n",
    "plt.plot(cumulative_data_a['date'], \n",
    "         cumulative_data_a['conversion'], \n",
    "         label='A');\n",
    "plt.plot(cumulative_data_b['date'], \n",
    "         cumulative_data_b['conversion'], \n",
    "         label='B');\n",
    "plt.title('Кумулятивное среднее кол-во заказов на посетителя по группам')\n",
    "plt.xlabel(\"Дата\")\n",
    "plt.ylabel(\"Среднее кол-во заказов на посетителя \")\n",
    "plt.grid()\n",
    "plt.legend()\n",
    "plt.show()"
   ]
  },
  {
   "cell_type": "markdown",
   "metadata": {},
   "source": [
    "Сначала графики среднего кол-ва заказов были нестабильны и скакали, но довольно быстро более-менее выровнялись. Среднее кол-во заказов группы А было сначала сильно выше чем у группы В, но на шестой день ситуация сменилась на противоположную."
   ]
  },
  {
   "cell_type": "markdown",
   "metadata": {},
   "source": [
    "**5. Относительное изменение среднего кол-ва заказов на посетителя группы B к группе А**"
   ]
  },
  {
   "cell_type": "code",
   "execution_count": 31,
   "metadata": {},
   "outputs": [
    {
     "data": {
      "text/html": [
       "<div>\n",
       "<style scoped>\n",
       "    .dataframe tbody tr th:only-of-type {\n",
       "        vertical-align: middle;\n",
       "    }\n",
       "\n",
       "    .dataframe tbody tr th {\n",
       "        vertical-align: top;\n",
       "    }\n",
       "\n",
       "    .dataframe thead th {\n",
       "        text-align: right;\n",
       "    }\n",
       "</style>\n",
       "<table border=\"1\" class=\"dataframe\">\n",
       "  <thead>\n",
       "    <tr style=\"text-align: right;\">\n",
       "      <th></th>\n",
       "      <th>date</th>\n",
       "      <th>conversion_a</th>\n",
       "      <th>conversion_b</th>\n",
       "    </tr>\n",
       "  </thead>\n",
       "  <tbody>\n",
       "    <tr>\n",
       "      <th>0</th>\n",
       "      <td>2019-08-01</td>\n",
       "      <td>0.033380</td>\n",
       "      <td>0.029453</td>\n",
       "    </tr>\n",
       "    <tr>\n",
       "      <th>1</th>\n",
       "      <td>2019-08-02</td>\n",
       "      <td>0.032885</td>\n",
       "      <td>0.034776</td>\n",
       "    </tr>\n",
       "    <tr>\n",
       "      <th>2</th>\n",
       "      <td>2019-08-03</td>\n",
       "      <td>0.036856</td>\n",
       "      <td>0.033833</td>\n",
       "    </tr>\n",
       "    <tr>\n",
       "      <th>3</th>\n",
       "      <td>2019-08-04</td>\n",
       "      <td>0.032787</td>\n",
       "      <td>0.030315</td>\n",
       "    </tr>\n",
       "    <tr>\n",
       "      <th>4</th>\n",
       "      <td>2019-08-05</td>\n",
       "      <td>0.032851</td>\n",
       "      <td>0.030793</td>\n",
       "    </tr>\n",
       "    <tr>\n",
       "      <th>5</th>\n",
       "      <td>2019-08-06</td>\n",
       "      <td>0.031870</td>\n",
       "      <td>0.032783</td>\n",
       "    </tr>\n",
       "  </tbody>\n",
       "</table>\n",
       "</div>"
      ],
      "text/plain": [
       "        date  conversion_a  conversion_b\n",
       "0 2019-08-01  0.033380      0.029453    \n",
       "1 2019-08-02  0.032885      0.034776    \n",
       "2 2019-08-03  0.036856      0.033833    \n",
       "3 2019-08-04  0.032787      0.030315    \n",
       "4 2019-08-05  0.032851      0.030793    \n",
       "5 2019-08-06  0.031870      0.032783    "
      ]
     },
     "execution_count": 31,
     "metadata": {},
     "output_type": "execute_result"
    }
   ],
   "source": [
    "merged_cumulative_conversions = (cumulative_data_a[['date','conversion']]\n",
    "                                 .merge(cumulative_data_b[['date','conversion']],\n",
    "                                        left_on='date', \n",
    "                                        right_on='date',\n",
    "                                        how='left',\n",
    "                                        suffixes=['_a', '_b']))\n",
    "merged_cumulative_conversions.head(6)     "
   ]
  },
  {
   "cell_type": "code",
   "execution_count": 32,
   "metadata": {},
   "outputs": [
    {
     "data": {
      "image/png": "[encoded data removed]",
      "text/plain": [
       "<Figure size 1080x432 with 1 Axes>"
      ]
     },
     "metadata": {
      "needs_background": "light"
     },
     "output_type": "display_data"
    }
   ],
   "source": [
    "plt.figure(figsize=(15,6))\n",
    "plt.plot(merged_cumulative_conversions['date'],\n",
    "         merged_cumulative_conversions['conversion_b'] / merged_cumulative_conversions['conversion_a']-1)\n",
    "plt.title('Относительное изменение среднего кол-ва заказов на посетителя группы B к группе А')\n",
    "plt.ylabel('Среднее кол-во заказов на посетителя')\n",
    "plt.xlabel(\"Дата\")\n",
    "plt.axhline(y=0, color='black', linestyle='--')\n",
    "plt.axhline(y=0.15, color='grey', linestyle='--')\n",
    "plt.grid()\n",
    "plt.show()"
   ]
  },
  {
   "cell_type": "markdown",
   "metadata": {},
   "source": [
    "Среднее кол-во заказов на посетителя группы В стремительно растет, обгоняя группу А на 6-й день, после 20-го числа оно медленно пошло на спад, но в конце снова наблюдаетсяя рост."
   ]
  },
  {
   "cell_type": "markdown",
   "metadata": {},
   "source": [
    "**6. Точечный график количества заказов пользователей**"
   ]
  },
  {
   "cell_type": "code",
   "execution_count": 33,
   "metadata": {},
   "outputs": [
    {
     "data": {
      "text/html": [
       "<div>\n",
       "<style scoped>\n",
       "    .dataframe tbody tr th:only-of-type {\n",
       "        vertical-align: middle;\n",
       "    }\n",
       "\n",
       "    .dataframe tbody tr th {\n",
       "        vertical-align: top;\n",
       "    }\n",
       "\n",
       "    .dataframe thead th {\n",
       "        text-align: right;\n",
       "    }\n",
       "</style>\n",
       "<table border=\"1\" class=\"dataframe\">\n",
       "  <thead>\n",
       "    <tr style=\"text-align: right;\">\n",
       "      <th></th>\n",
       "      <th>visitor_id</th>\n",
       "      <th>orders</th>\n",
       "    </tr>\n",
       "  </thead>\n",
       "  <tbody>\n",
       "    <tr>\n",
       "      <th>1023</th>\n",
       "      <td>4256040402</td>\n",
       "      <td>11</td>\n",
       "    </tr>\n",
       "    <tr>\n",
       "      <th>591</th>\n",
       "      <td>2458001652</td>\n",
       "      <td>11</td>\n",
       "    </tr>\n",
       "    <tr>\n",
       "      <th>569</th>\n",
       "      <td>2378935119</td>\n",
       "      <td>9</td>\n",
       "    </tr>\n",
       "    <tr>\n",
       "      <th>487</th>\n",
       "      <td>2038680547</td>\n",
       "      <td>8</td>\n",
       "    </tr>\n",
       "    <tr>\n",
       "      <th>44</th>\n",
       "      <td>199603092</td>\n",
       "      <td>5</td>\n",
       "    </tr>\n",
       "    <tr>\n",
       "      <th>744</th>\n",
       "      <td>3062433592</td>\n",
       "      <td>5</td>\n",
       "    </tr>\n",
       "    <tr>\n",
       "      <th>55</th>\n",
       "      <td>237748145</td>\n",
       "      <td>5</td>\n",
       "    </tr>\n",
       "    <tr>\n",
       "      <th>917</th>\n",
       "      <td>3803269165</td>\n",
       "      <td>5</td>\n",
       "    </tr>\n",
       "    <tr>\n",
       "      <th>299</th>\n",
       "      <td>1230306981</td>\n",
       "      <td>5</td>\n",
       "    </tr>\n",
       "    <tr>\n",
       "      <th>897</th>\n",
       "      <td>3717692402</td>\n",
       "      <td>5</td>\n",
       "    </tr>\n",
       "  </tbody>\n",
       "</table>\n",
       "</div>"
      ],
      "text/plain": [
       "      visitor_id  orders\n",
       "1023  4256040402  11    \n",
       "591   2458001652  11    \n",
       "569   2378935119  9     \n",
       "487   2038680547  8     \n",
       "44    199603092   5     \n",
       "744   3062433592  5     \n",
       "55    237748145   5     \n",
       "917   3803269165  5     \n",
       "299   1230306981  5     \n",
       "897   3717692402  5     "
      ]
     },
     "execution_count": 33,
     "metadata": {},
     "output_type": "execute_result"
    }
   ],
   "source": [
    "orders_per_user = (orders.drop(['group', 'revenue', 'date'], axis=1)\n",
    "                   .groupby('visitor_id', as_index=False)\n",
    "                   .agg({'transaction_id' : 'nunique'})\n",
    "                  )\n",
    "orders_per_user.columns = ['visitor_id','orders']\n",
    "orders_per_user.sort_values(by='orders', ascending=False).head(10)"
   ]
  },
  {
   "cell_type": "code",
   "execution_count": 34,
   "metadata": {},
   "outputs": [
    {
     "data": {
      "image/png": "[encoded data removed]",
      "text/plain": [
       "<Figure size 1080x432 with 1 Axes>"
      ]
     },
     "metadata": {
      "needs_background": "light"
     },
     "output_type": "display_data"
    }
   ],
   "source": [
    "plt.figure(figsize=(15,6))\n",
    "plt.scatter(pd.Series(range(0,len(orders_per_user['orders']))), \n",
    "            orders_per_user['orders'])\n",
    "plt.title('Распределение количества заказов пользователя')\n",
    "plt.ylabel('Количество заказов пользователя')\n",
    "plt.xlabel('Порядковый номер пользователя в таблице')\n",
    "plt.grid()\n",
    "plt.show()"
   ]
  },
  {
   "cell_type": "markdown",
   "metadata": {},
   "source": [
    "Подавляющее большинство пользователей сделали по одному заказу. Много пользователей с 2-мя заказами. Куда реже - 3 и более"
   ]
  },
  {
   "cell_type": "markdown",
   "metadata": {},
   "source": [
    "**7. Выбор границы для определения аномальных пользователей**"
   ]
  },
  {
   "cell_type": "code",
   "execution_count": 35,
   "metadata": {},
   "outputs": [
    {
     "name": "stdout",
     "output_type": "stream",
     "text": [
      "[2. 4.]\n"
     ]
    }
   ],
   "source": [
    "print(np.percentile(orders_per_user['orders'], [95, 99]))"
   ]
  },
  {
   "cell_type": "markdown",
   "metadata": {},
   "source": [
    "Пользователй, совершивших больше 2-х покупок не более 5%. Тех, кто совершил 4 и более покупок - не более 1%.\n",
    "<br>Примем за верхнюю границу 3 заказа на одного пользователя."
   ]
  },
  {
   "cell_type": "markdown",
   "metadata": {},
   "source": [
    "**8. Точечный график стоимости заказов**"
   ]
  },
  {
   "cell_type": "code",
   "execution_count": 36,
   "metadata": {},
   "outputs": [
    {
     "data": {
      "image/png": "[encoded data removed]",
      "text/plain": [
       "<Figure size 1080x432 with 1 Axes>"
      ]
     },
     "metadata": {
      "needs_background": "light"
     },
     "output_type": "display_data"
    }
   ],
   "source": [
    "plt.figure(figsize=(15,6))\n",
    "plt.scatter(pd.Series(range(0,len(orders['revenue']))), orders['revenue'])\n",
    "plt.title('Распределение стоимости заказов')\n",
    "plt.ylabel('Выручка с заказа')\n",
    "plt.xlabel('Порядковый номер заказа в таблице')\n",
    "plt.grid()\n",
    "plt.show()"
   ]
  },
  {
   "cell_type": "markdown",
   "metadata": {},
   "source": [
    "Видим как минимум один очень крупный заказ в районе 1.3 миллиона\n",
    "<br>Выведем дополнительно точечный график распределение стоимости заказов до 250 тысяч"
   ]
  },
  {
   "cell_type": "code",
   "execution_count": 37,
   "metadata": {},
   "outputs": [
    {
     "data": {
      "image/png": "[encoded data removed]",
      "text/plain": [
       "<Figure size 1080x432 with 1 Axes>"
      ]
     },
     "metadata": {
      "needs_background": "light"
     },
     "output_type": "display_data"
    }
   ],
   "source": [
    "plt.figure(figsize=(15,6))\n",
    "plt.scatter(pd.Series(range(0,len(orders['revenue']))), orders['revenue'])\n",
    "plt.title('Распределение стоимости заказов до 250 тыс.')\n",
    "plt.ylabel('Выручка с заказа')\n",
    "plt.xlabel('Порядковый номер заказа в таблице')\n",
    "plt.ylim(0,250000)\n",
    "plt.grid()\n",
    "plt.show()"
   ]
  },
  {
   "cell_type": "markdown",
   "metadata": {},
   "source": [
    "У подавляющего большинства пользователей в обоих группах сумма заказа не более 25 тыс. рублей.\n",
    "Есть несколько заказов вырочкой от 25 до 60 тысяч и совсем единичные заказы на сумму более 60 тысяч с одним неплохим на сумму в примерно 210-220 тысяч."
   ]
  },
  {
   "cell_type": "markdown",
   "metadata": {},
   "source": [
    "**9. Выбор границы для определения аномальных заказов**"
   ]
  },
  {
   "cell_type": "code",
   "execution_count": 38,
   "metadata": {},
   "outputs": [
    {
     "data": {
      "text/plain": [
       "array([28000. , 58233.2])"
      ]
     },
     "execution_count": 38,
     "metadata": {},
     "output_type": "execute_result"
    }
   ],
   "source": [
    "np.percentile(orders['revenue'], [95, 99])"
   ]
  },
  {
   "cell_type": "markdown",
   "metadata": {},
   "source": [
    "Определим границу по аномальной стоимости заказов как 99% перцентиль, т.е. 58 233 у.е."
   ]
  },
  {
   "cell_type": "markdown",
   "metadata": {},
   "source": [
    "**10. Cтатистическая значимость различий в среднем количестве заказов на посетителя между группами. \"Сырые\" данные**"
   ]
  },
  {
   "cell_type": "markdown",
   "metadata": {},
   "source": [
    "Подготовим сырые данные:"
   ]
  },
  {
   "cell_type": "code",
   "execution_count": 39,
   "metadata": {},
   "outputs": [],
   "source": [
    "visitors_daily_A = visitors[visitors['group']=='A'][['date', 'visitors']]\n",
    "visitors_daily_A.columns = ['date', 'visitors_per_date_A']\n",
    "\n",
    "visitors_daily_B = visitors[visitors['group']=='B'][['date', 'visitors']]\n",
    "visitors_daily_B.columns = ['date', 'visitors_per_date_B']\n",
    "\n",
    "\n",
    "visitors_cummulative_A = visitors_daily_A.apply(lambda x: \n",
    "                            visitors_daily_A[visitors_daily_A['date'] <= x['date']].agg({\n",
    "                                'date' : 'max', \n",
    "                                'visitors_per_date_A' : 'sum'}), axis=1)\n",
    "visitors_cummulative_A.columns = ['date', 'visitors_cummulative_A']\n",
    "\n",
    "visitors_cummulative_B = visitors_daily_B.apply(lambda x: \n",
    "                            visitors_daily_B[visitors_daily_B['date'] <= x['date']].agg({\n",
    "                                'date' : 'max', \n",
    "                                'visitors_per_date_B' : 'sum'}), axis=1)\n",
    "visitors_cummulative_B.columns = ['date', 'visitors_cummulative_B']"
   ]
  },
  {
   "cell_type": "code",
   "execution_count": 40,
   "metadata": {},
   "outputs": [],
   "source": [
    "orders_daily_A = orders[orders['group']=='A'][['date', 'transaction_id',\n",
    "                                               'visitor_id', 'revenue']].groupby(\n",
    "    'date', as_index=False).agg({'transaction_id' : 'nunique', 'revenue' : 'sum'})\n",
    "orders_daily_A.columns = ['date', 'orders_per_date_A', 'revenue_per_date_A']\n",
    "\n",
    "orders_daily_B = orders[orders['group']=='B'][['date', 'transaction_id',\n",
    "                                               'visitor_id', 'revenue']].groupby(\n",
    "    'date', as_index=False).agg({'transaction_id' : 'nunique', 'revenue' : 'sum'})\n",
    "orders_daily_B.columns = ['date', 'orders_per_date_B', 'revenue_per_date_B']\n",
    "\n",
    "\n",
    "orders_cummulative_A = orders_daily_A.apply(\n",
    "    lambda x: orders_daily_A[orders_daily_A['date'] <= x['date']].agg({\n",
    "                'date' : 'max',\n",
    "                'orders_per_date_A' : 'sum',\n",
    "                'revenue_per_date_A' : 'sum'}), axis=1).sort_values(by=['date'])\n",
    "orders_cummulative_A.columns = ['date', 'orders_сummulative_A', 'revenue_сummulative_A']\n",
    "\n",
    "orders_cummulative_B = orders_daily_B.apply(\n",
    "    lambda x: orders_daily_B[orders_daily_B['date'] <= x['date']].agg({\n",
    "                'date' : 'max',\n",
    "                'orders_per_date_B' : 'sum',\n",
    "                'revenue_per_date_B' : 'sum'}), axis=1).sort_values(by=['date'])\n",
    "orders_cummulative_B.columns = ['date', 'orders_сummulative_B', 'revenue_сummulative_B']"
   ]
  },
  {
   "cell_type": "code",
   "execution_count": 41,
   "metadata": {},
   "outputs": [],
   "source": [
    "data = (visitors_daily_A\n",
    "        .merge(visitors_daily_B, left_on='date', right_on='date', how='left')\n",
    "        .merge(visitors_cummulative_A, left_on='date', right_on='date', how='left')\n",
    "        .merge(visitors_cummulative_B, left_on='date', right_on='date', how='left')\n",
    "        .merge(orders_daily_A, left_on='date', right_on='date', how='left')\n",
    "        .merge(orders_daily_B, left_on='date', right_on='date', how='left')\n",
    "        .merge(orders_cummulative_A, left_on='date', right_on='date', how='left')\n",
    "        .merge(orders_cummulative_B, left_on='date', right_on='date', how='left')\n",
    "       )"
   ]
  },
  {
   "cell_type": "code",
   "execution_count": 42,
   "metadata": {},
   "outputs": [],
   "source": [
    "orders_by_visitors_A = orders[orders['group']=='A'].groupby(\n",
    "    'visitor_id', as_index=False).agg({'transaction_id' : 'nunique'})\n",
    "\n",
    "orders_by_visitors_A.columns = ['visitor_id', 'orders']\n",
    "\n",
    "orders_by_visitors_B = orders[orders['group']=='B'].groupby(\n",
    "    'visitor_id', as_index=False).agg({'transaction_id' : 'nunique'})\n",
    "\n",
    "orders_by_visitors_B.columns = ['visitor_id', 'orders']\n",
    "\n",
    "sample_A = pd.concat([orders_by_visitors_A['orders'],\n",
    "                     pd.Series(0, index=np.arange(\n",
    "                         data['visitors_per_date_A'].sum() -\n",
    "                         len(orders_by_visitors_A['orders'])),\n",
    "                               name='orders')],axis=0)\n",
    "\n",
    "sample_B = pd.concat([orders_by_visitors_B['orders'],\n",
    "                     pd.Series(0, index=np.arange(\n",
    "                         data['visitors_per_date_B'].sum() -\n",
    "                         len(orders_by_visitors_B['orders'])), \n",
    "                               name='orders')],axis=0)"
   ]
  },
  {
   "cell_type": "markdown",
   "metadata": {},
   "source": [
    "Сфорулируем нулевую и альтернативную гипотезы:\n",
    "<br>H0: статистически значимых различий в среднем количестве заказов на посетителя между группами нет\n",
    "<br>H1: статистически значимые различия в среднем количестве заказов на посетителя между группами есть\n",
    "\n",
    "<br>Уровень статистической значимости alpha = 0.05.\n",
    "<br>Будем использовать критерий Манна-Уитни"
   ]
  },
  {
   "cell_type": "code",
   "execution_count": 43,
   "metadata": {},
   "outputs": [
    {
     "name": "stdout",
     "output_type": "stream",
     "text": [
      "Значение p-value для среднего кол-ва заказов на посетителя: 0.017\n",
      "Отвергаем нулевую гипотезу\n",
      "Относительный прирост среднего кол-ва заказов на посетителя у группы B: 13.81%\n"
     ]
    }
   ],
   "source": [
    "print('Значение p-value для среднего кол-ва заказов на посетителя: {:.3f}'.format(st.mannwhitneyu(sample_A, sample_B)[1]))\n",
    "\n",
    "alpha = 0.05\n",
    "if st.mannwhitneyu(sample_A, sample_B)[1] < alpha:\n",
    "    print(\"Отвергаем нулевую гипотезу\")\n",
    "else:\n",
    "    print(\"Не получилось отвергнуть нулевую гипотезу\")\n",
    "    \n",
    "print('Относительный прирост среднего кол-ва заказов на посетителя у группы B: {:.2%}'.format((sample_B.mean()/sample_A.mean()) - 1))"
   ]
  },
  {
   "cell_type": "markdown",
   "metadata": {},
   "source": [
    "Нулевую гипотезу о том, что статистически значимых различий в среднем количестве заказов на посетителя между группами нет, отвергаем."
   ]
  },
  {
   "cell_type": "markdown",
   "metadata": {},
   "source": [
    "**11. Cтатистическая значимость различий в среднем чеке заказа. \"Сырые\" данные**"
   ]
  },
  {
   "cell_type": "markdown",
   "metadata": {},
   "source": [
    "Сфорулируем нулевую и альтернативную гипотезы:\n",
    "<br>H0: различий в среднем чеке групп нет\n",
    "<br>H1: различия в среднем чеке групп есть\n",
    "\n",
    "<br>Уровень статистической значимости alpha = 0.05.\n",
    "<br>Также пользуемся критерием Манна-Уитни"
   ]
  },
  {
   "cell_type": "code",
   "execution_count": 44,
   "metadata": {},
   "outputs": [
    {
     "name": "stdout",
     "output_type": "stream",
     "text": [
      "Значение p-value для среднего чека: 0.729\n",
      "Не получилось отвергнуть нулевую гипотезу\n",
      "Относительный прирост среднего чека группы B: 25.87%\n"
     ]
    }
   ],
   "source": [
    "pvalue_mean_check = st.mannwhitneyu(orders.query('group == \"A\"')['revenue'], orders.query('group == \"B\"')['revenue'])[1]\n",
    "\n",
    "print('Значение p-value для среднего чека: {:.3f}'.format(pvalue_mean_check))\n",
    "\n",
    "alpha = 0.05\n",
    "if pvalue_mean_check < alpha:\n",
    "    print(\"Отвергаем нулевую гипотезу\")\n",
    "else:\n",
    "    print(\"Не получилось отвергнуть нулевую гипотезу\")\n",
    "\n",
    "print('Относительный прирост среднего чека группы B: {:.2%}'\n",
    "        .format((orders.query('group == \"B\"')['revenue'].mean() / orders.query('group == \"A\"')['revenue'].mean()) - 1))"
   ]
  },
  {
   "cell_type": "markdown",
   "metadata": {},
   "source": [
    "Отвергнуть нулевую гипотезу о том, что нету значимых различий в среднем чеке групп не удалось\n",
    "<br>Однако, относительное различие среднего чека между группами по «сырым» данным почти 26%, что показывает влияние аномально-дорогих заказов"
   ]
  },
  {
   "cell_type": "markdown",
   "metadata": {},
   "source": [
    "**12. Cтатистическая значимость различий в среднем количестве заказов на посетителя между группами. \"Очищенные\" данные**"
   ]
  },
  {
   "cell_type": "markdown",
   "metadata": {},
   "source": [
    "Подготовим очищенные данные\n",
    "<br>Создадим таблицы с аномальными пользователей и выведем их количество и долю"
   ]
  },
  {
   "cell_type": "code",
   "execution_count": 45,
   "metadata": {},
   "outputs": [],
   "source": [
    "orders_threshold = 3\n",
    "revenue_threshold = int(np.percentile(orders['revenue'], 99))"
   ]
  },
  {
   "cell_type": "code",
   "execution_count": 46,
   "metadata": {},
   "outputs": [
    {
     "name": "stdout",
     "output_type": "stream",
     "text": [
      "Количество аномальных пользователей: 20\n",
      "Доля аномальных пользователей 1.94%\n"
     ]
    }
   ],
   "source": [
    "visitors_many_orders = pd.concat([orders_by_visitors_A[orders_by_visitors_A['orders'] > orders_threshold]['visitor_id'], \n",
    "                                  orders_by_visitors_B[orders_by_visitors_B['orders'] > orders_threshold]['visitor_id']], axis = 0)\n",
    "\n",
    "visitors_expensive_orders = orders[orders['revenue'] > revenue_threshold]['visitor_id']\n",
    "\n",
    "abnormal_visitors = (pd.concat([visitors_many_orders, visitors_expensive_orders], axis = 0)\n",
    "                     .drop_duplicates()\n",
    "                     .sort_values()\n",
    "                    )\n",
    "\n",
    "print('Количество аномальных пользователей:',len(abnormal_visitors))\n",
    "print('Доля аномальных пользователей {:.2%}'.format(len(abnormal_visitors) / len(orders['visitor_id'].unique())))"
   ]
  },
  {
   "cell_type": "raw",
   "metadata": {
    "scrolled": true
   },
   "source": [
    "#Старая версия\n",
    "visitors_many_orders = pd.concat([orders_by_visitors_A.query('orders > 3')['visitor_id'], \n",
    "                                  orders_by_visitors_B.query('orders > 3')['visitor_id']], axis = 0)\n",
    "visitors_expensive_orders = orders.query('revenue > 58233')['visitor_id']\n",
    "\n",
    "abnormal_visitors = (pd.concat([visitors_many_orders, visitors_expensive_orders], axis = 0)\n",
    "                     .drop_duplicates()\n",
    "                     .sort_values()\n",
    "                    )\n",
    "\n",
    "print('Количество аномальных пользователей:',len(abnormal_visitors))\n",
    "print('Доля аномальных пользователей {:.2%}'.format(len(abnormal_visitors) / len(orders['visitor_id'].unique())))"
   ]
  },
  {
   "cell_type": "markdown",
   "metadata": {},
   "source": [
    "Доля аномальных пользователей - мене 2% (20 шт.) - приемлимо.\n",
    "<br>Создадим таблицы с количеством заказов по пользователям для каждой группы без аномальных пользователей"
   ]
  },
  {
   "cell_type": "code",
   "execution_count": 47,
   "metadata": {},
   "outputs": [],
   "source": [
    "sample_A_filt = pd.concat(\n",
    "                    [orders_by_visitors_A[np.logical_not(orders_by_visitors_A['visitor_id']\n",
    "                            .isin(abnormal_visitors))]['orders'],\n",
    "                            pd.Series(0, index=np.arange(data['visitors_per_date_A'].sum() - \n",
    "                            len(orders_by_visitors_A['orders'])),\n",
    "                            name='orders')],\n",
    "                            axis=0\n",
    "                         )\n",
    "\n",
    "sample_B_filt = pd.concat(\n",
    "                    [orders_by_visitors_B[np.logical_not(orders_by_visitors_B['visitor_id']\n",
    "                           .isin(abnormal_visitors))]['orders'],\n",
    "                           pd.Series(0, index=np.arange(data['visitors_per_date_B'].sum() - \n",
    "                           len(orders_by_visitors_B['orders'])),\n",
    "                           name='orders')],\n",
    "                           axis=0\n",
    "                         )"
   ]
  },
  {
   "cell_type": "markdown",
   "metadata": {},
   "source": [
    "Сфорулируем нулевую и альтернативную гипотезы:\n",
    "<br>H0: статистически значимых различий в среднем количестве заказов на посетителя между группами нет\n",
    "<br>H1: статистически значимые различия в среднем количестве заказов на посетителя между группами есть\n",
    "\n",
    "<br>Уровень статистической значимости alpha = 0.05.\n",
    "<br>Будем использовать критерий Манна-Уитни"
   ]
  },
  {
   "cell_type": "code",
   "execution_count": 48,
   "metadata": {},
   "outputs": [
    {
     "name": "stdout",
     "output_type": "stream",
     "text": [
      "Значение p-value для среднего кол-ва заказов на посетителя: 0.014\n",
      "Отвергаем нулевую гипотезу\n",
      "Относительный прирост среднего кол-ва заказов на посетителя у группы B: 15.10%\n"
     ]
    }
   ],
   "source": [
    "print('Значение p-value для среднего кол-ва заказов на посетителя: {:.3f}'.format(st.mannwhitneyu(sample_A_filt, sample_B_filt)[1]))\n",
    "\n",
    "alpha = 0.05\n",
    "if st.mannwhitneyu(sample_A_filt, sample_B_filt)[1] < alpha:\n",
    "    print(\"Отвергаем нулевую гипотезу\")\n",
    "else:\n",
    "    print(\"Не получилось отвергнуть нулевую гипотезу\")\n",
    "\n",
    "print('Относительный прирост среднего кол-ва заказов на посетителя у группы B: {:.2%}'.format((sample_B_filt.mean() / sample_A_filt.mean()) - 1))"
   ]
  },
  {
   "cell_type": "markdown",
   "metadata": {},
   "source": [
    "На очищенных данных разница в среднем количестве заказов на посетителя между группами все так же есть, но относительный прирост группы В отностельно группы А увеличился до 15.10%."
   ]
  },
  {
   "cell_type": "markdown",
   "metadata": {},
   "source": [
    "**13. Cтатистическая значимость различий в среднем чеке заказа. \"Очищенные\" данные**"
   ]
  },
  {
   "cell_type": "markdown",
   "metadata": {},
   "source": [
    "Сфорулируем нулевую и альтернативную гипотезы:\n",
    "<br>H0: различий в среднем чеке групп нет\n",
    "<br>H1: различия в среднем чеке групп есть\n",
    "\n",
    "<br>Уровень статистической значимости alpha = 0.05.\n",
    "<br>Также пользуемся критерием Манна-Уитни"
   ]
  },
  {
   "cell_type": "code",
   "execution_count": 49,
   "metadata": {},
   "outputs": [
    {
     "name": "stdout",
     "output_type": "stream",
     "text": [
      "Значение p-value для среднего чека: 0.959\n",
      "Не получилось отвергнуть нулевую гипотезу\n",
      "Относительный прирост среднего чека группы B: -1.39%\n"
     ]
    }
   ],
   "source": [
    "filtered_pvalue_mean_check = st.mannwhitneyu(\n",
    "    orders[np.logical_and(orders['group'] == \"A\", \n",
    "                          np.logical_not(orders['visitor_id']\n",
    "                                         .isin(abnormal_visitors)))]['revenue'],\n",
    "    orders[np.logical_and(orders['group'] == \"B\", \n",
    "                          np.logical_not(orders['visitor_id']\n",
    "                                         .isin(abnormal_visitors)))]['revenue'])[1]\n",
    "\n",
    "print('Значение p-value для среднего чека: {:.3f}'.format(filtered_pvalue_mean_check))\n",
    "\n",
    "alpha = 0.05\n",
    "if filtered_pvalue_mean_check < alpha:\n",
    "    print(\"Отвергаем нулевую гипотезу\")\n",
    "else:\n",
    "    print(\"Не получилось отвергнуть нулевую гипотезу\")\n",
    "\n",
    "    \n",
    "print('Относительный прирост среднего чека группы B: {:.2%}'.format(\n",
    "    (orders[np.logical_and(orders['group']=='B', \n",
    "                           np.logical_not(orders['visitor_id']\n",
    "                                          .isin(abnormal_visitors)))]['revenue'].mean()/\n",
    "orders[np.logical_and(orders['group']=='A', \n",
    "                           np.logical_not(orders['visitor_id']\n",
    "                                          .isin(abnormal_visitors)))]['revenue'].mean()) - 1))"
   ]
  },
  {
   "cell_type": "markdown",
   "metadata": {},
   "source": [
    "P-value значительно больше 0.05. Значит, нулевую гипотезу не отвергаем, следовательно различий в среднем чеке групп нет.\n",
    "<br>Относительный прирост среднего чека группы В на очищенных данных сильно упал до -1.39%, раньше на неочищенных данных он составлял 25.87%"
   ]
  },
  {
   "cell_type": "markdown",
   "metadata": {},
   "source": [
    "**14. Принятие решения по результатам теста**"
   ]
  },
  {
   "cell_type": "markdown",
   "metadata": {},
   "source": [
    "Мы предобработали полученные данные и проверели наличие дубликатов в них.\n",
    "Провели приоретизацию гипотез по методам ICE и RICE\n",
    "<br>Напомним, что по методу ICE наиболее приоритетными были гипотезы(топ-3):\n",
    "- Запустить акцию, дающую скидку на товар в день рождения\n",
    "- Добавить два новых канала привлечения трафика, что позволит привлекать на 30% больше пользователей\n",
    "- Добавить форму подписки на все основные страницы, чтобы собрать базу клиентов для email-рассылок\n",
    "\n",
    "По методу RICE расклад был получен иной(топ-3):\n",
    "- Добавить форму подписки на все основные страницы, чтобы собрать базу клиентов для email-рассылок\n",
    "- Добавить блоки рекомендаций товаров на сайт интернет магазина, чтобы повысить конверсию и средний чек заказа\n",
    "- Добавить два новых канала привлечения трафика, что позволит привлекать на 30% больше пользователей\n",
    "\n",
    "После приоретизации гипотез мы провели анализ результатов A/B-теста и пришли к следующим выводам:\n",
    "- Среднее кол-во заказов на посетителя группы B выше, чем у группы А, начиная с 5 дня, что привело к большему числу заказов и немного размыло средний чек.\n",
    "- С середины месяца динамика среднего кол-ва заказов на посетителя обеих групп пришла в баланс. Группа В показала больший уровень среднего, нежели группа А.\n",
    "- Кумулятивная выручка у группы В выше, чем у группы А.\n",
    "- Были совершены довольно крупные заказы, что подняло средний чек.\n",
    "- Большая часть клиентов совершали не более 2-х заказов. Выручка от заказов в больешй своей части не превышала 60 тыс. у.е.\n",
    "- Статистические значимые различия в среднем количестве заказов на посетителя между группами теста есть, как на сырых, так и на отфильтрованных данных.\n",
    "- Статистических значимых различий в среднем чеке между группами теста нету и на сырых, и на отфильтрованных данных, хоть крупные(аномальные) заказы в случае неочищенных данных сильно искажали результат(относительная разница суммы среднего чека между группами составила -1.39% (против 25.87% по сырым данным)."
   ]
  },
  {
   "cell_type": "markdown",
   "metadata": {},
   "source": [
    "По результатам теста приходим к следующему решению: \n",
    "<br>***Тест остановить, зафиксировать отсутствие различий между группами по сумме среднего чека и победу группы В в части повышенного среднего количества заказов на посетителя.***"
   ]
  }
 ],
 "metadata": {
  "ExecuteTimeLog": [
   {
    "duration": 1268,
    "start_time": "2023-07-01T00:12:58.968Z"
   },
   {
    "duration": 236,
    "start_time": "2023-07-01T00:13:00.238Z"
   },
   {
    "duration": 18,
    "start_time": "2023-07-01T00:18:32.946Z"
   },
   {
    "duration": 17,
    "start_time": "2023-07-01T00:18:44.929Z"
   },
   {
    "duration": 15,
    "start_time": "2023-07-01T00:18:58.942Z"
   },
   {
    "duration": 16,
    "start_time": "2023-07-01T00:19:18.713Z"
   },
   {
    "duration": 9,
    "start_time": "2023-07-01T00:21:39.130Z"
   },
   {
    "duration": 8,
    "start_time": "2023-07-01T00:21:43.485Z"
   },
   {
    "duration": 12,
    "start_time": "2023-07-01T00:21:48.445Z"
   },
   {
    "duration": 7,
    "start_time": "2023-07-01T00:21:51.982Z"
   },
   {
    "duration": 9,
    "start_time": "2023-07-01T00:21:56.125Z"
   },
   {
    "duration": 7,
    "start_time": "2023-07-01T00:21:59.685Z"
   },
   {
    "duration": 1416,
    "start_time": "2023-07-01T11:18:13.334Z"
   },
   {
    "duration": 293,
    "start_time": "2023-07-01T11:18:14.752Z"
   },
   {
    "duration": 12,
    "start_time": "2023-07-01T11:18:15.047Z"
   },
   {
    "duration": 26,
    "start_time": "2023-07-01T11:18:15.061Z"
   },
   {
    "duration": 40,
    "start_time": "2023-07-01T11:18:15.089Z"
   },
   {
    "duration": 42,
    "start_time": "2023-07-01T11:18:15.130Z"
   },
   {
    "duration": 54,
    "start_time": "2023-07-01T11:18:15.174Z"
   },
   {
    "duration": 17,
    "start_time": "2023-07-01T11:18:15.230Z"
   },
   {
    "duration": 3,
    "start_time": "2023-07-01T11:18:20.115Z"
   },
   {
    "duration": 3,
    "start_time": "2023-07-01T11:18:20.748Z"
   },
   {
    "duration": 6,
    "start_time": "2023-07-01T11:18:21.520Z"
   },
   {
    "duration": 123,
    "start_time": "2023-07-01T12:32:16.751Z"
   },
   {
    "duration": 15,
    "start_time": "2023-07-01T12:32:23.719Z"
   },
   {
    "duration": 9,
    "start_time": "2023-07-01T12:32:39.990Z"
   },
   {
    "duration": 22,
    "start_time": "2023-07-01T12:33:16.695Z"
   },
   {
    "duration": 14,
    "start_time": "2023-07-01T12:40:46.001Z"
   },
   {
    "duration": 8,
    "start_time": "2023-07-01T15:00:19.788Z"
   },
   {
    "duration": 8,
    "start_time": "2023-07-01T15:00:48.289Z"
   },
   {
    "duration": 7,
    "start_time": "2023-07-01T15:33:24.157Z"
   },
   {
    "duration": 9,
    "start_time": "2023-07-01T15:37:38.094Z"
   },
   {
    "duration": 8,
    "start_time": "2023-07-01T22:32:40.329Z"
   },
   {
    "duration": 15,
    "start_time": "2023-07-01T22:42:51.202Z"
   },
   {
    "duration": 13,
    "start_time": "2023-07-01T22:43:53.577Z"
   },
   {
    "duration": 1364,
    "start_time": "2023-07-01T22:43:54.387Z"
   },
   {
    "duration": 12,
    "start_time": "2023-07-01T22:44:24.834Z"
   },
   {
    "duration": 6,
    "start_time": "2023-07-01T23:41:20.762Z"
   },
   {
    "duration": 25,
    "start_time": "2023-07-01T23:41:21.941Z"
   },
   {
    "duration": 29,
    "start_time": "2023-07-01T23:42:03.167Z"
   },
   {
    "duration": 22,
    "start_time": "2023-07-01T23:42:40.703Z"
   },
   {
    "duration": 23,
    "start_time": "2023-07-01T23:43:06.432Z"
   },
   {
    "duration": 3,
    "start_time": "2023-07-01T23:43:09.848Z"
   },
   {
    "duration": 129,
    "start_time": "2023-07-01T23:43:09.853Z"
   },
   {
    "duration": 11,
    "start_time": "2023-07-01T23:43:09.984Z"
   },
   {
    "duration": 11,
    "start_time": "2023-07-01T23:43:09.996Z"
   },
   {
    "duration": 13,
    "start_time": "2023-07-01T23:43:10.009Z"
   },
   {
    "duration": 10,
    "start_time": "2023-07-01T23:43:10.024Z"
   },
   {
    "duration": 13,
    "start_time": "2023-07-01T23:43:10.035Z"
   },
   {
    "duration": 11,
    "start_time": "2023-07-01T23:43:10.050Z"
   },
   {
    "duration": 9,
    "start_time": "2023-07-01T23:43:10.062Z"
   },
   {
    "duration": 6,
    "start_time": "2023-07-01T23:43:10.073Z"
   },
   {
    "duration": 22,
    "start_time": "2023-07-01T23:43:10.081Z"
   },
   {
    "duration": 8,
    "start_time": "2023-07-01T23:43:10.105Z"
   },
   {
    "duration": 13,
    "start_time": "2023-07-01T23:43:10.116Z"
   },
   {
    "duration": 12,
    "start_time": "2023-07-01T23:43:10.131Z"
   },
   {
    "duration": 14,
    "start_time": "2023-07-01T23:43:10.144Z"
   },
   {
    "duration": 8,
    "start_time": "2023-07-01T23:43:10.160Z"
   },
   {
    "duration": 51,
    "start_time": "2023-07-01T23:43:10.170Z"
   },
   {
    "duration": 23,
    "start_time": "2023-07-01T23:46:22.174Z"
   },
   {
    "duration": 24,
    "start_time": "2023-07-01T23:46:26.540Z"
   },
   {
    "duration": 24,
    "start_time": "2023-07-01T23:47:39.035Z"
   },
   {
    "duration": 11,
    "start_time": "2023-07-01T23:49:49.554Z"
   },
   {
    "duration": 13,
    "start_time": "2023-07-01T23:50:18.362Z"
   },
   {
    "duration": 7,
    "start_time": "2023-07-01T23:50:24.196Z"
   },
   {
    "duration": 26,
    "start_time": "2023-07-01T23:50:24.738Z"
   },
   {
    "duration": 136,
    "start_time": "2023-07-01T23:50:28.500Z"
   },
   {
    "duration": 22,
    "start_time": "2023-07-01T23:53:42.781Z"
   },
   {
    "duration": 23,
    "start_time": "2023-07-01T23:53:49.194Z"
   },
   {
    "duration": 122,
    "start_time": "2023-07-01T23:55:49.314Z"
   },
   {
    "duration": 132,
    "start_time": "2023-07-01T23:56:20.097Z"
   },
   {
    "duration": 23,
    "start_time": "2023-07-01T23:56:37.616Z"
   },
   {
    "duration": 23,
    "start_time": "2023-07-01T23:57:30.713Z"
   },
   {
    "duration": 4,
    "start_time": "2023-07-01T23:59:32.810Z"
   },
   {
    "duration": 130,
    "start_time": "2023-07-01T23:59:32.817Z"
   },
   {
    "duration": 11,
    "start_time": "2023-07-01T23:59:32.949Z"
   },
   {
    "duration": 13,
    "start_time": "2023-07-01T23:59:32.961Z"
   },
   {
    "duration": 17,
    "start_time": "2023-07-01T23:59:32.976Z"
   },
   {
    "duration": 13,
    "start_time": "2023-07-01T23:59:32.996Z"
   },
   {
    "duration": 18,
    "start_time": "2023-07-01T23:59:33.011Z"
   },
   {
    "duration": 19,
    "start_time": "2023-07-01T23:59:33.031Z"
   },
   {
    "duration": 16,
    "start_time": "2023-07-01T23:59:33.052Z"
   },
   {
    "duration": 28,
    "start_time": "2023-07-01T23:59:33.070Z"
   },
   {
    "duration": 20,
    "start_time": "2023-07-01T23:59:33.100Z"
   },
   {
    "duration": 30,
    "start_time": "2023-07-01T23:59:33.123Z"
   },
   {
    "duration": 24,
    "start_time": "2023-07-01T23:59:33.155Z"
   },
   {
    "duration": 25,
    "start_time": "2023-07-01T23:59:33.182Z"
   },
   {
    "duration": 21,
    "start_time": "2023-07-01T23:59:33.210Z"
   },
   {
    "duration": 11,
    "start_time": "2023-07-01T23:59:33.233Z"
   },
   {
    "duration": 27,
    "start_time": "2023-07-01T23:59:33.245Z"
   },
   {
    "duration": 0,
    "start_time": "2023-07-01T23:59:33.274Z"
   },
   {
    "duration": 22,
    "start_time": "2023-07-01T23:59:48.977Z"
   },
   {
    "duration": 4,
    "start_time": "2023-07-02T00:00:23.942Z"
   },
   {
    "duration": 9,
    "start_time": "2023-07-02T00:00:42.116Z"
   },
   {
    "duration": 10,
    "start_time": "2023-07-02T00:01:08.602Z"
   },
   {
    "duration": 3,
    "start_time": "2023-07-02T00:01:15.234Z"
   },
   {
    "duration": 224,
    "start_time": "2023-07-02T00:01:15.239Z"
   },
   {
    "duration": 11,
    "start_time": "2023-07-02T00:01:15.465Z"
   },
   {
    "duration": 17,
    "start_time": "2023-07-02T00:01:15.478Z"
   },
   {
    "duration": 13,
    "start_time": "2023-07-02T00:01:15.497Z"
   },
   {
    "duration": 14,
    "start_time": "2023-07-02T00:01:15.512Z"
   },
   {
    "duration": 12,
    "start_time": "2023-07-02T00:01:15.527Z"
   },
   {
    "duration": 15,
    "start_time": "2023-07-02T00:01:15.541Z"
   },
   {
    "duration": 6,
    "start_time": "2023-07-02T00:01:15.560Z"
   },
   {
    "duration": 17,
    "start_time": "2023-07-02T00:01:15.567Z"
   },
   {
    "duration": 19,
    "start_time": "2023-07-02T00:01:15.586Z"
   },
   {
    "duration": 12,
    "start_time": "2023-07-02T00:01:15.606Z"
   },
   {
    "duration": 11,
    "start_time": "2023-07-02T00:01:15.619Z"
   },
   {
    "duration": 23,
    "start_time": "2023-07-02T00:01:15.632Z"
   },
   {
    "duration": 18,
    "start_time": "2023-07-02T00:01:15.657Z"
   },
   {
    "duration": 7,
    "start_time": "2023-07-02T00:01:15.677Z"
   },
   {
    "duration": 180,
    "start_time": "2023-07-02T00:01:15.686Z"
   },
   {
    "duration": 137,
    "start_time": "2023-07-02T00:01:15.868Z"
   },
   {
    "duration": 9,
    "start_time": "2023-07-02T00:03:12.777Z"
   },
   {
    "duration": 9,
    "start_time": "2023-07-02T00:03:13.219Z"
   },
   {
    "duration": 7,
    "start_time": "2023-07-02T00:03:25.407Z"
   },
   {
    "duration": 11,
    "start_time": "2023-07-02T00:03:28.222Z"
   },
   {
    "duration": 7,
    "start_time": "2023-07-02T00:04:47.323Z"
   },
   {
    "duration": 292,
    "start_time": "2023-07-02T00:04:52.829Z"
   },
   {
    "duration": 210,
    "start_time": "2023-07-02T00:04:59.704Z"
   },
   {
    "duration": 208,
    "start_time": "2023-07-02T00:05:04.404Z"
   },
   {
    "duration": 211,
    "start_time": "2023-07-02T00:05:29.441Z"
   },
   {
    "duration": 13,
    "start_time": "2023-07-02T00:06:15.048Z"
   },
   {
    "duration": 387,
    "start_time": "2023-07-02T00:06:15.769Z"
   },
   {
    "duration": 13,
    "start_time": "2023-07-02T00:06:47.737Z"
   },
   {
    "duration": 227,
    "start_time": "2023-07-02T00:06:47.917Z"
   },
   {
    "duration": 14,
    "start_time": "2023-07-02T00:07:39.921Z"
   },
   {
    "duration": 412,
    "start_time": "2023-07-02T00:07:40.188Z"
   },
   {
    "duration": 120,
    "start_time": "2023-07-02T00:07:49.527Z"
   },
   {
    "duration": 167,
    "start_time": "2023-07-02T00:07:54.856Z"
   },
   {
    "duration": 5,
    "start_time": "2023-07-02T00:08:48.325Z"
   },
   {
    "duration": 178,
    "start_time": "2023-07-02T00:09:03.521Z"
   },
   {
    "duration": 179,
    "start_time": "2023-07-02T00:10:48.089Z"
   },
   {
    "duration": 6,
    "start_time": "2023-07-02T00:11:39.912Z"
   },
   {
    "duration": 94,
    "start_time": "2023-07-02T00:12:43.966Z"
   },
   {
    "duration": 106,
    "start_time": "2023-07-02T00:12:44.412Z"
   },
   {
    "duration": 21,
    "start_time": "2023-07-02T00:12:44.988Z"
   },
   {
    "duration": 150,
    "start_time": "2023-07-02T00:12:45.468Z"
   },
   {
    "duration": 40,
    "start_time": "2023-07-02T00:13:20.587Z"
   },
   {
    "duration": 15,
    "start_time": "2023-07-02T00:13:46.196Z"
   },
   {
    "duration": 14,
    "start_time": "2023-07-02T00:14:17.251Z"
   },
   {
    "duration": 8,
    "start_time": "2023-07-02T00:14:17.634Z"
   },
   {
    "duration": 39,
    "start_time": "2023-07-02T00:14:42.708Z"
   },
   {
    "duration": 15,
    "start_time": "2023-07-02T00:15:07.180Z"
   },
   {
    "duration": 3,
    "start_time": "2023-07-02T00:17:42.646Z"
   },
   {
    "duration": 148,
    "start_time": "2023-07-02T00:17:42.651Z"
   },
   {
    "duration": 11,
    "start_time": "2023-07-02T00:17:42.801Z"
   },
   {
    "duration": 17,
    "start_time": "2023-07-02T00:17:42.814Z"
   },
   {
    "duration": 18,
    "start_time": "2023-07-02T00:17:42.833Z"
   },
   {
    "duration": 13,
    "start_time": "2023-07-02T00:17:42.852Z"
   },
   {
    "duration": 20,
    "start_time": "2023-07-02T00:17:42.866Z"
   },
   {
    "duration": 19,
    "start_time": "2023-07-02T00:17:42.888Z"
   },
   {
    "duration": 5,
    "start_time": "2023-07-02T00:17:42.909Z"
   },
   {
    "duration": 10,
    "start_time": "2023-07-02T00:17:42.916Z"
   },
   {
    "duration": 11,
    "start_time": "2023-07-02T00:17:42.927Z"
   },
   {
    "duration": 11,
    "start_time": "2023-07-02T00:17:42.940Z"
   },
   {
    "duration": 8,
    "start_time": "2023-07-02T00:17:42.953Z"
   },
   {
    "duration": 15,
    "start_time": "2023-07-02T00:17:42.962Z"
   },
   {
    "duration": 13,
    "start_time": "2023-07-02T00:17:43.002Z"
   },
   {
    "duration": 10,
    "start_time": "2023-07-02T00:17:43.016Z"
   },
   {
    "duration": 184,
    "start_time": "2023-07-02T00:17:43.027Z"
   },
   {
    "duration": 133,
    "start_time": "2023-07-02T00:17:43.212Z"
   },
   {
    "duration": 6,
    "start_time": "2023-07-02T00:17:43.346Z"
   },
   {
    "duration": 16,
    "start_time": "2023-07-02T00:17:43.354Z"
   },
   {
    "duration": 15,
    "start_time": "2023-07-02T00:17:43.371Z"
   },
   {
    "duration": 206,
    "start_time": "2023-07-02T00:17:43.388Z"
   },
   {
    "duration": 229,
    "start_time": "2023-07-02T00:17:43.596Z"
   },
   {
    "duration": 11,
    "start_time": "2023-07-02T00:17:43.827Z"
   },
   {
    "duration": 308,
    "start_time": "2023-07-02T00:17:43.840Z"
   },
   {
    "duration": 12,
    "start_time": "2023-07-02T00:17:44.150Z"
   },
   {
    "duration": 233,
    "start_time": "2023-07-02T00:17:44.163Z"
   },
   {
    "duration": 14,
    "start_time": "2023-07-02T00:17:44.401Z"
   },
   {
    "duration": 304,
    "start_time": "2023-07-02T00:17:44.416Z"
   },
   {
    "duration": 142,
    "start_time": "2023-07-02T00:17:44.721Z"
   },
   {
    "duration": 165,
    "start_time": "2023-07-02T00:17:44.864Z"
   },
   {
    "duration": 4,
    "start_time": "2023-07-02T00:17:45.031Z"
   },
   {
    "duration": 189,
    "start_time": "2023-07-02T00:17:45.037Z"
   },
   {
    "duration": 280,
    "start_time": "2023-07-02T00:17:45.228Z"
   },
   {
    "duration": 5,
    "start_time": "2023-07-02T00:17:45.509Z"
   },
   {
    "duration": 108,
    "start_time": "2023-07-02T00:17:45.516Z"
   },
   {
    "duration": 120,
    "start_time": "2023-07-02T00:17:45.628Z"
   },
   {
    "duration": 19,
    "start_time": "2023-07-02T00:17:45.750Z"
   },
   {
    "duration": 143,
    "start_time": "2023-07-02T00:17:45.771Z"
   },
   {
    "duration": 38,
    "start_time": "2023-07-02T00:17:45.915Z"
   },
   {
    "duration": 15,
    "start_time": "2023-07-02T00:17:45.955Z"
   },
   {
    "duration": 36,
    "start_time": "2023-07-02T00:17:45.972Z"
   },
   {
    "duration": 7,
    "start_time": "2023-07-02T00:17:46.010Z"
   },
   {
    "duration": 40,
    "start_time": "2023-07-02T00:17:46.019Z"
   },
   {
    "duration": 14,
    "start_time": "2023-07-02T00:17:46.061Z"
   },
   {
    "duration": 12,
    "start_time": "2023-07-02T00:25:09.525Z"
   },
   {
    "duration": 239,
    "start_time": "2023-07-02T00:25:40.302Z"
   },
   {
    "duration": 12,
    "start_time": "2023-07-02T00:26:57.516Z"
   },
   {
    "duration": 13,
    "start_time": "2023-07-02T00:28:41.593Z"
   },
   {
    "duration": 150,
    "start_time": "2023-07-02T00:28:50.127Z"
   },
   {
    "duration": 18,
    "start_time": "2023-07-02T00:32:10.393Z"
   },
   {
    "duration": 15,
    "start_time": "2023-07-02T00:32:43.719Z"
   },
   {
    "duration": 1658,
    "start_time": "2023-07-02T11:40:44.544Z"
   },
   {
    "duration": 248,
    "start_time": "2023-07-02T11:40:46.207Z"
   },
   {
    "duration": 20,
    "start_time": "2023-07-02T11:40:46.457Z"
   },
   {
    "duration": 30,
    "start_time": "2023-07-02T11:40:46.482Z"
   },
   {
    "duration": 11,
    "start_time": "2023-07-02T11:40:46.515Z"
   },
   {
    "duration": 13,
    "start_time": "2023-07-02T11:40:46.528Z"
   },
   {
    "duration": 29,
    "start_time": "2023-07-02T11:40:46.543Z"
   },
   {
    "duration": 11,
    "start_time": "2023-07-02T11:40:46.577Z"
   },
   {
    "duration": 7,
    "start_time": "2023-07-02T11:40:46.591Z"
   },
   {
    "duration": 13,
    "start_time": "2023-07-02T11:40:46.601Z"
   },
   {
    "duration": 9,
    "start_time": "2023-07-02T11:40:46.616Z"
   },
   {
    "duration": 13,
    "start_time": "2023-07-02T11:40:46.627Z"
   },
   {
    "duration": 39,
    "start_time": "2023-07-02T11:40:46.643Z"
   },
   {
    "duration": 19,
    "start_time": "2023-07-02T11:40:46.686Z"
   },
   {
    "duration": 22,
    "start_time": "2023-07-02T11:40:46.708Z"
   },
   {
    "duration": 7,
    "start_time": "2023-07-02T11:40:46.732Z"
   },
   {
    "duration": 243,
    "start_time": "2023-07-02T11:40:46.741Z"
   },
   {
    "duration": 164,
    "start_time": "2023-07-02T11:40:46.986Z"
   },
   {
    "duration": 9,
    "start_time": "2023-07-02T11:40:47.152Z"
   },
   {
    "duration": 19,
    "start_time": "2023-07-02T11:40:47.163Z"
   },
   {
    "duration": 21,
    "start_time": "2023-07-02T11:40:47.184Z"
   },
   {
    "duration": 425,
    "start_time": "2023-07-02T11:40:47.210Z"
   },
   {
    "duration": 317,
    "start_time": "2023-07-02T11:40:47.637Z"
   },
   {
    "duration": 25,
    "start_time": "2023-07-02T11:40:47.956Z"
   },
   {
    "duration": 434,
    "start_time": "2023-07-02T11:40:47.984Z"
   },
   {
    "duration": 20,
    "start_time": "2023-07-02T11:40:48.420Z"
   },
   {
    "duration": 301,
    "start_time": "2023-07-02T11:40:48.442Z"
   },
   {
    "duration": 36,
    "start_time": "2023-07-02T11:40:48.745Z"
   },
   {
    "duration": 341,
    "start_time": "2023-07-02T11:40:48.783Z"
   },
   {
    "duration": 16,
    "start_time": "2023-07-02T11:40:49.127Z"
   },
   {
    "duration": 200,
    "start_time": "2023-07-02T11:40:49.145Z"
   },
   {
    "duration": 5,
    "start_time": "2023-07-02T11:40:49.347Z"
   },
   {
    "duration": 198,
    "start_time": "2023-07-02T11:40:49.354Z"
   },
   {
    "duration": 301,
    "start_time": "2023-07-02T11:40:49.554Z"
   },
   {
    "duration": 19,
    "start_time": "2023-07-02T11:40:49.857Z"
   },
   {
    "duration": 139,
    "start_time": "2023-07-02T11:40:49.882Z"
   },
   {
    "duration": 141,
    "start_time": "2023-07-02T11:40:50.023Z"
   },
   {
    "duration": 31,
    "start_time": "2023-07-02T11:40:50.167Z"
   },
   {
    "duration": 20,
    "start_time": "2023-07-02T11:40:50.201Z"
   },
   {
    "duration": 82,
    "start_time": "2023-07-02T11:40:50.224Z"
   },
   {
    "duration": 21,
    "start_time": "2023-07-02T11:40:50.311Z"
   },
   {
    "duration": 26,
    "start_time": "2023-07-02T11:40:50.334Z"
   },
   {
    "duration": 15,
    "start_time": "2023-07-02T11:40:50.370Z"
   },
   {
    "duration": 48,
    "start_time": "2023-07-02T11:40:50.390Z"
   },
   {
    "duration": 33,
    "start_time": "2023-07-02T11:40:50.441Z"
   },
   {
    "duration": 1215,
    "start_time": "2023-07-02T19:55:06.920Z"
   },
   {
    "duration": 232,
    "start_time": "2023-07-02T19:55:08.136Z"
   },
   {
    "duration": 20,
    "start_time": "2023-07-02T19:55:08.373Z"
   },
   {
    "duration": 12,
    "start_time": "2023-07-02T19:55:08.401Z"
   },
   {
    "duration": 37,
    "start_time": "2023-07-02T19:55:08.415Z"
   },
   {
    "duration": 12,
    "start_time": "2023-07-02T19:55:08.454Z"
   },
   {
    "duration": 20,
    "start_time": "2023-07-02T19:55:08.474Z"
   },
   {
    "duration": 15,
    "start_time": "2023-07-02T19:55:08.499Z"
   },
   {
    "duration": 5,
    "start_time": "2023-07-02T19:55:08.515Z"
   },
   {
    "duration": 12,
    "start_time": "2023-07-02T19:55:08.523Z"
   },
   {
    "duration": 7,
    "start_time": "2023-07-02T19:55:08.537Z"
   },
   {
    "duration": 11,
    "start_time": "2023-07-02T19:55:08.545Z"
   },
   {
    "duration": 28,
    "start_time": "2023-07-02T19:55:08.558Z"
   },
   {
    "duration": 14,
    "start_time": "2023-07-02T19:55:08.588Z"
   },
   {
    "duration": 12,
    "start_time": "2023-07-02T19:55:08.604Z"
   },
   {
    "duration": 7,
    "start_time": "2023-07-02T19:55:08.617Z"
   },
   {
    "duration": 194,
    "start_time": "2023-07-02T19:55:08.625Z"
   },
   {
    "duration": 137,
    "start_time": "2023-07-02T19:55:08.821Z"
   },
   {
    "duration": 10,
    "start_time": "2023-07-02T19:55:08.972Z"
   },
   {
    "duration": 15,
    "start_time": "2023-07-02T19:55:08.987Z"
   },
   {
    "duration": 7,
    "start_time": "2023-07-02T19:55:09.004Z"
   },
   {
    "duration": 308,
    "start_time": "2023-07-02T19:55:09.012Z"
   },
   {
    "duration": 226,
    "start_time": "2023-07-02T19:55:09.321Z"
   },
   {
    "duration": 45,
    "start_time": "2023-07-02T19:55:09.549Z"
   },
   {
    "duration": 295,
    "start_time": "2023-07-02T19:55:09.597Z"
   },
   {
    "duration": 14,
    "start_time": "2023-07-02T19:55:09.895Z"
   },
   {
    "duration": 264,
    "start_time": "2023-07-02T19:55:09.911Z"
   },
   {
    "duration": 22,
    "start_time": "2023-07-02T19:55:10.180Z"
   },
   {
    "duration": 318,
    "start_time": "2023-07-02T19:55:10.204Z"
   },
   {
    "duration": 13,
    "start_time": "2023-07-02T19:55:10.524Z"
   },
   {
    "duration": 190,
    "start_time": "2023-07-02T19:55:10.539Z"
   },
   {
    "duration": 5,
    "start_time": "2023-07-02T19:55:10.731Z"
   },
   {
    "duration": 209,
    "start_time": "2023-07-02T19:55:10.738Z"
   },
   {
    "duration": 309,
    "start_time": "2023-07-02T19:55:10.949Z"
   },
   {
    "duration": 5,
    "start_time": "2023-07-02T19:55:11.259Z"
   },
   {
    "duration": 97,
    "start_time": "2023-07-02T19:55:11.271Z"
   },
   {
    "duration": 127,
    "start_time": "2023-07-02T19:55:11.370Z"
   },
   {
    "duration": 21,
    "start_time": "2023-07-02T19:55:11.500Z"
   },
   {
    "duration": 13,
    "start_time": "2023-07-02T19:55:11.523Z"
   },
   {
    "duration": 78,
    "start_time": "2023-07-02T19:55:11.538Z"
   },
   {
    "duration": 14,
    "start_time": "2023-07-02T19:55:11.618Z"
   },
   {
    "duration": 17,
    "start_time": "2023-07-02T19:55:11.634Z"
   },
   {
    "duration": 29,
    "start_time": "2023-07-02T19:55:11.653Z"
   },
   {
    "duration": 48,
    "start_time": "2023-07-02T19:55:11.684Z"
   },
   {
    "duration": 15,
    "start_time": "2023-07-02T19:55:11.735Z"
   },
   {
    "duration": 5,
    "start_time": "2023-07-02T22:14:52.619Z"
   },
   {
    "duration": 285,
    "start_time": "2023-07-02T22:59:20.693Z"
   },
   {
    "duration": 273,
    "start_time": "2023-07-02T22:59:36.717Z"
   },
   {
    "duration": 312,
    "start_time": "2023-07-02T23:00:13.707Z"
   },
   {
    "duration": 4,
    "start_time": "2023-07-02T23:05:02.511Z"
   },
   {
    "duration": 1173,
    "start_time": "2023-07-02T23:09:23.637Z"
   },
   {
    "duration": 108,
    "start_time": "2023-07-02T23:09:24.811Z"
   },
   {
    "duration": 11,
    "start_time": "2023-07-02T23:09:24.921Z"
   },
   {
    "duration": 11,
    "start_time": "2023-07-02T23:09:24.934Z"
   },
   {
    "duration": 10,
    "start_time": "2023-07-02T23:09:24.947Z"
   },
   {
    "duration": 17,
    "start_time": "2023-07-02T23:09:24.959Z"
   },
   {
    "duration": 14,
    "start_time": "2023-07-02T23:09:24.977Z"
   },
   {
    "duration": 7,
    "start_time": "2023-07-02T23:09:24.993Z"
   },
   {
    "duration": 6,
    "start_time": "2023-07-02T23:09:25.001Z"
   },
   {
    "duration": 9,
    "start_time": "2023-07-02T23:09:25.008Z"
   },
   {
    "duration": 9,
    "start_time": "2023-07-02T23:09:25.019Z"
   },
   {
    "duration": 8,
    "start_time": "2023-07-02T23:09:25.030Z"
   },
   {
    "duration": 8,
    "start_time": "2023-07-02T23:09:25.039Z"
   },
   {
    "duration": 38,
    "start_time": "2023-07-02T23:09:25.049Z"
   },
   {
    "duration": 11,
    "start_time": "2023-07-02T23:09:25.088Z"
   },
   {
    "duration": 4,
    "start_time": "2023-07-02T23:09:25.101Z"
   },
   {
    "duration": 180,
    "start_time": "2023-07-02T23:09:25.107Z"
   },
   {
    "duration": 127,
    "start_time": "2023-07-02T23:09:25.289Z"
   },
   {
    "duration": 6,
    "start_time": "2023-07-02T23:09:25.418Z"
   },
   {
    "duration": 12,
    "start_time": "2023-07-02T23:09:25.425Z"
   },
   {
    "duration": 6,
    "start_time": "2023-07-02T23:09:25.439Z"
   },
   {
    "duration": 289,
    "start_time": "2023-07-02T23:09:25.446Z"
   },
   {
    "duration": 223,
    "start_time": "2023-07-02T23:09:25.737Z"
   },
   {
    "duration": 17,
    "start_time": "2023-07-02T23:09:25.961Z"
   },
   {
    "duration": 310,
    "start_time": "2023-07-02T23:09:25.983Z"
   },
   {
    "duration": 5,
    "start_time": "2023-07-02T23:09:26.295Z"
   },
   {
    "duration": 227,
    "start_time": "2023-07-02T23:09:26.301Z"
   },
   {
    "duration": 12,
    "start_time": "2023-07-02T23:09:26.530Z"
   },
   {
    "duration": 336,
    "start_time": "2023-07-02T23:09:26.544Z"
   },
   {
    "duration": 12,
    "start_time": "2023-07-02T23:09:26.882Z"
   },
   {
    "duration": 158,
    "start_time": "2023-07-02T23:09:26.896Z"
   },
   {
    "duration": 11,
    "start_time": "2023-07-02T23:09:27.056Z"
   },
   {
    "duration": 160,
    "start_time": "2023-07-02T23:09:27.074Z"
   },
   {
    "duration": 260,
    "start_time": "2023-07-02T23:09:27.236Z"
   },
   {
    "duration": 5,
    "start_time": "2023-07-02T23:09:27.498Z"
   },
   {
    "duration": 111,
    "start_time": "2023-07-02T23:09:27.504Z"
   },
   {
    "duration": 100,
    "start_time": "2023-07-02T23:09:27.617Z"
   },
   {
    "duration": 19,
    "start_time": "2023-07-02T23:09:27.718Z"
   },
   {
    "duration": 29,
    "start_time": "2023-07-02T23:09:27.739Z"
   },
   {
    "duration": 44,
    "start_time": "2023-07-02T23:09:27.769Z"
   },
   {
    "duration": 14,
    "start_time": "2023-07-02T23:09:27.816Z"
   },
   {
    "duration": 10,
    "start_time": "2023-07-02T23:09:27.831Z"
   },
   {
    "duration": 33,
    "start_time": "2023-07-02T23:09:27.842Z"
   },
   {
    "duration": 40,
    "start_time": "2023-07-02T23:09:27.877Z"
   },
   {
    "duration": 13,
    "start_time": "2023-07-02T23:09:27.919Z"
   },
   {
    "duration": 189,
    "start_time": "2023-07-02T23:11:05.834Z"
   },
   {
    "duration": 5,
    "start_time": "2023-07-02T23:18:06.123Z"
   },
   {
    "duration": 49,
    "start_time": "2023-07-02T23:32:18.468Z"
   },
   {
    "duration": 13,
    "start_time": "2023-07-02T23:43:15.178Z"
   },
   {
    "duration": 3,
    "start_time": "2023-07-02T23:45:06.026Z"
   },
   {
    "duration": 116,
    "start_time": "2023-07-02T23:45:06.078Z"
   },
   {
    "duration": 10,
    "start_time": "2023-07-02T23:45:06.196Z"
   },
   {
    "duration": 11,
    "start_time": "2023-07-02T23:45:06.207Z"
   },
   {
    "duration": 11,
    "start_time": "2023-07-02T23:45:06.219Z"
   },
   {
    "duration": 7,
    "start_time": "2023-07-02T23:45:06.232Z"
   },
   {
    "duration": 14,
    "start_time": "2023-07-02T23:45:06.240Z"
   },
   {
    "duration": 13,
    "start_time": "2023-07-02T23:45:06.256Z"
   },
   {
    "duration": 15,
    "start_time": "2023-07-02T23:45:06.271Z"
   },
   {
    "duration": 8,
    "start_time": "2023-07-02T23:45:06.288Z"
   },
   {
    "duration": 6,
    "start_time": "2023-07-02T23:45:06.297Z"
   },
   {
    "duration": 8,
    "start_time": "2023-07-02T23:45:06.304Z"
   },
   {
    "duration": 7,
    "start_time": "2023-07-02T23:45:06.313Z"
   },
   {
    "duration": 13,
    "start_time": "2023-07-02T23:45:06.322Z"
   },
   {
    "duration": 41,
    "start_time": "2023-07-02T23:45:06.339Z"
   },
   {
    "duration": 5,
    "start_time": "2023-07-02T23:45:06.385Z"
   },
   {
    "duration": 169,
    "start_time": "2023-07-02T23:45:06.392Z"
   },
   {
    "duration": 131,
    "start_time": "2023-07-02T23:45:06.562Z"
   },
   {
    "duration": 10,
    "start_time": "2023-07-02T23:45:06.695Z"
   },
   {
    "duration": 14,
    "start_time": "2023-07-02T23:45:06.707Z"
   },
   {
    "duration": 11,
    "start_time": "2023-07-02T23:45:06.722Z"
   },
   {
    "duration": 232,
    "start_time": "2023-07-02T23:45:06.735Z"
   },
   {
    "duration": 212,
    "start_time": "2023-07-02T23:45:06.977Z"
   },
   {
    "duration": 10,
    "start_time": "2023-07-02T23:45:07.191Z"
   },
   {
    "duration": 309,
    "start_time": "2023-07-02T23:45:07.203Z"
   },
   {
    "duration": 6,
    "start_time": "2023-07-02T23:45:07.514Z"
   },
   {
    "duration": 235,
    "start_time": "2023-07-02T23:45:07.521Z"
   },
   {
    "duration": 27,
    "start_time": "2023-07-02T23:45:07.758Z"
   },
   {
    "duration": 316,
    "start_time": "2023-07-02T23:45:07.786Z"
   },
   {
    "duration": 12,
    "start_time": "2023-07-02T23:45:08.103Z"
   },
   {
    "duration": 173,
    "start_time": "2023-07-02T23:45:08.116Z"
   },
   {
    "duration": 5,
    "start_time": "2023-07-02T23:45:08.290Z"
   },
   {
    "duration": 160,
    "start_time": "2023-07-02T23:45:08.296Z"
   },
   {
    "duration": 168,
    "start_time": "2023-07-02T23:45:08.458Z"
   },
   {
    "duration": 4,
    "start_time": "2023-07-02T23:45:08.628Z"
   },
   {
    "duration": 95,
    "start_time": "2023-07-02T23:45:08.634Z"
   },
   {
    "duration": 112,
    "start_time": "2023-07-02T23:45:08.730Z"
   },
   {
    "duration": 42,
    "start_time": "2023-07-02T23:45:08.843Z"
   },
   {
    "duration": 13,
    "start_time": "2023-07-02T23:45:08.887Z"
   },
   {
    "duration": 45,
    "start_time": "2023-07-02T23:45:08.902Z"
   },
   {
    "duration": 32,
    "start_time": "2023-07-02T23:45:08.950Z"
   },
   {
    "duration": 17,
    "start_time": "2023-07-02T23:45:08.987Z"
   },
   {
    "duration": 9,
    "start_time": "2023-07-02T23:45:09.006Z"
   },
   {
    "duration": 48,
    "start_time": "2023-07-02T23:45:11.456Z"
   },
   {
    "duration": 17,
    "start_time": "2023-07-02T23:51:33.433Z"
   },
   {
    "duration": 1148,
    "start_time": "2023-07-03T00:13:03.844Z"
   },
   {
    "duration": 158,
    "start_time": "2023-07-03T00:13:04.994Z"
   },
   {
    "duration": 11,
    "start_time": "2023-07-03T00:13:05.154Z"
   },
   {
    "duration": 25,
    "start_time": "2023-07-03T00:13:05.166Z"
   },
   {
    "duration": 22,
    "start_time": "2023-07-03T00:13:05.193Z"
   },
   {
    "duration": 36,
    "start_time": "2023-07-03T00:13:05.217Z"
   },
   {
    "duration": 34,
    "start_time": "2023-07-03T00:13:05.255Z"
   },
   {
    "duration": 33,
    "start_time": "2023-07-03T00:13:05.290Z"
   },
   {
    "duration": 41,
    "start_time": "2023-07-03T00:13:05.325Z"
   },
   {
    "duration": 23,
    "start_time": "2023-07-03T00:13:05.368Z"
   },
   {
    "duration": 15,
    "start_time": "2023-07-03T00:13:05.393Z"
   },
   {
    "duration": 19,
    "start_time": "2023-07-03T00:13:05.409Z"
   },
   {
    "duration": 10,
    "start_time": "2023-07-03T00:13:05.429Z"
   },
   {
    "duration": 19,
    "start_time": "2023-07-03T00:13:05.442Z"
   },
   {
    "duration": 15,
    "start_time": "2023-07-03T00:13:05.462Z"
   },
   {
    "duration": 6,
    "start_time": "2023-07-03T00:13:05.478Z"
   },
   {
    "duration": 166,
    "start_time": "2023-07-03T00:13:05.486Z"
   },
   {
    "duration": 134,
    "start_time": "2023-07-03T00:13:05.654Z"
   },
   {
    "duration": 8,
    "start_time": "2023-07-03T00:13:05.789Z"
   },
   {
    "duration": 24,
    "start_time": "2023-07-03T00:13:05.799Z"
   },
   {
    "duration": 63,
    "start_time": "2023-07-03T00:13:05.825Z"
   },
   {
    "duration": 288,
    "start_time": "2023-07-03T00:13:05.890Z"
   },
   {
    "duration": 200,
    "start_time": "2023-07-03T00:13:06.180Z"
   },
   {
    "duration": 13,
    "start_time": "2023-07-03T00:13:06.383Z"
   },
   {
    "duration": 307,
    "start_time": "2023-07-03T00:13:06.398Z"
   },
   {
    "duration": 5,
    "start_time": "2023-07-03T00:13:06.708Z"
   },
   {
    "duration": 231,
    "start_time": "2023-07-03T00:13:06.714Z"
   },
   {
    "duration": 23,
    "start_time": "2023-07-03T00:13:06.947Z"
   },
   {
    "duration": 309,
    "start_time": "2023-07-03T00:13:06.973Z"
   },
   {
    "duration": 15,
    "start_time": "2023-07-03T00:13:07.283Z"
   },
   {
    "duration": 162,
    "start_time": "2023-07-03T00:13:07.299Z"
   },
   {
    "duration": 6,
    "start_time": "2023-07-03T00:13:07.462Z"
   },
   {
    "duration": 164,
    "start_time": "2023-07-03T00:13:07.469Z"
   },
   {
    "duration": 238,
    "start_time": "2023-07-03T00:13:07.635Z"
   },
   {
    "duration": 5,
    "start_time": "2023-07-03T00:13:07.875Z"
   },
   {
    "duration": 90,
    "start_time": "2023-07-03T00:13:07.881Z"
   },
   {
    "duration": 99,
    "start_time": "2023-07-03T00:13:07.980Z"
   },
   {
    "duration": 20,
    "start_time": "2023-07-03T00:13:08.080Z"
   },
   {
    "duration": 12,
    "start_time": "2023-07-03T00:13:08.102Z"
   },
   {
    "duration": 57,
    "start_time": "2023-07-03T00:13:08.115Z"
   },
   {
    "duration": 16,
    "start_time": "2023-07-03T00:13:08.176Z"
   },
   {
    "duration": 12,
    "start_time": "2023-07-03T00:13:08.193Z"
   },
   {
    "duration": 11,
    "start_time": "2023-07-03T00:13:08.206Z"
   },
   {
    "duration": 59,
    "start_time": "2023-07-03T00:13:08.218Z"
   },
   {
    "duration": 13,
    "start_time": "2023-07-03T00:13:08.283Z"
   },
   {
    "duration": 1237,
    "start_time": "2023-07-03T03:47:19.424Z"
   },
   {
    "duration": 333,
    "start_time": "2023-07-03T03:47:20.663Z"
   },
   {
    "duration": 29,
    "start_time": "2023-07-03T03:47:20.998Z"
   },
   {
    "duration": 23,
    "start_time": "2023-07-03T03:47:21.029Z"
   },
   {
    "duration": 18,
    "start_time": "2023-07-03T03:47:21.054Z"
   },
   {
    "duration": 33,
    "start_time": "2023-07-03T03:47:21.073Z"
   },
   {
    "duration": 38,
    "start_time": "2023-07-03T03:47:21.108Z"
   },
   {
    "duration": 25,
    "start_time": "2023-07-03T03:47:21.147Z"
   },
   {
    "duration": 12,
    "start_time": "2023-07-03T03:47:21.173Z"
   },
   {
    "duration": 55,
    "start_time": "2023-07-03T03:47:21.187Z"
   },
   {
    "duration": 19,
    "start_time": "2023-07-03T03:47:21.243Z"
   },
   {
    "duration": 13,
    "start_time": "2023-07-03T03:47:21.264Z"
   },
   {
    "duration": 9,
    "start_time": "2023-07-03T03:47:21.278Z"
   },
   {
    "duration": 16,
    "start_time": "2023-07-03T03:47:21.289Z"
   },
   {
    "duration": 36,
    "start_time": "2023-07-03T03:47:21.306Z"
   },
   {
    "duration": 12,
    "start_time": "2023-07-03T03:47:21.343Z"
   },
   {
    "duration": 169,
    "start_time": "2023-07-03T03:47:21.356Z"
   },
   {
    "duration": 117,
    "start_time": "2023-07-03T03:47:21.530Z"
   },
   {
    "duration": 6,
    "start_time": "2023-07-03T03:47:21.648Z"
   },
   {
    "duration": 20,
    "start_time": "2023-07-03T03:47:21.656Z"
   },
   {
    "duration": 16,
    "start_time": "2023-07-03T03:47:21.678Z"
   },
   {
    "duration": 330,
    "start_time": "2023-07-03T03:47:21.695Z"
   },
   {
    "duration": 201,
    "start_time": "2023-07-03T03:47:22.030Z"
   },
   {
    "duration": 10,
    "start_time": "2023-07-03T03:47:22.233Z"
   },
   {
    "duration": 321,
    "start_time": "2023-07-03T03:47:22.244Z"
   },
   {
    "duration": 5,
    "start_time": "2023-07-03T03:47:22.566Z"
   },
   {
    "duration": 222,
    "start_time": "2023-07-03T03:47:22.572Z"
   },
   {
    "duration": 31,
    "start_time": "2023-07-03T03:47:22.795Z"
   },
   {
    "duration": 298,
    "start_time": "2023-07-03T03:47:22.828Z"
   },
   {
    "duration": 11,
    "start_time": "2023-07-03T03:47:23.128Z"
   },
   {
    "duration": 155,
    "start_time": "2023-07-03T03:47:23.140Z"
   },
   {
    "duration": 13,
    "start_time": "2023-07-03T03:47:23.297Z"
   },
   {
    "duration": 177,
    "start_time": "2023-07-03T03:47:23.320Z"
   },
   {
    "duration": 225,
    "start_time": "2023-07-03T03:47:23.499Z"
   },
   {
    "duration": 5,
    "start_time": "2023-07-03T03:47:23.726Z"
   },
   {
    "duration": 94,
    "start_time": "2023-07-03T03:47:23.732Z"
   },
   {
    "duration": 99,
    "start_time": "2023-07-03T03:47:23.827Z"
   },
   {
    "duration": 19,
    "start_time": "2023-07-03T03:47:23.928Z"
   },
   {
    "duration": 21,
    "start_time": "2023-07-03T03:47:23.948Z"
   },
   {
    "duration": 68,
    "start_time": "2023-07-03T03:47:23.971Z"
   },
   {
    "duration": 13,
    "start_time": "2023-07-03T03:47:24.043Z"
   },
   {
    "duration": 32,
    "start_time": "2023-07-03T03:47:24.058Z"
   },
   {
    "duration": 27,
    "start_time": "2023-07-03T03:47:24.092Z"
   },
   {
    "duration": 136,
    "start_time": "2023-07-03T03:47:24.122Z"
   },
   {
    "duration": 58,
    "start_time": "2023-07-03T03:47:24.259Z"
   },
   {
    "duration": 72,
    "start_time": "2023-07-03T16:42:50.581Z"
   },
   {
    "duration": 1385,
    "start_time": "2023-07-03T16:42:58.664Z"
   },
   {
    "duration": 296,
    "start_time": "2023-07-03T16:43:00.051Z"
   },
   {
    "duration": 3,
    "start_time": "2023-07-03T16:43:00.349Z"
   },
   {
    "duration": 44,
    "start_time": "2023-07-03T16:43:00.354Z"
   },
   {
    "duration": 42,
    "start_time": "2023-07-03T16:43:00.400Z"
   },
   {
    "duration": 21,
    "start_time": "2023-07-03T16:43:00.443Z"
   },
   {
    "duration": 44,
    "start_time": "2023-07-03T16:43:00.466Z"
   },
   {
    "duration": 56,
    "start_time": "2023-07-03T16:43:00.513Z"
   },
   {
    "duration": 36,
    "start_time": "2023-07-03T16:43:00.571Z"
   },
   {
    "duration": 60,
    "start_time": "2023-07-03T16:43:00.609Z"
   },
   {
    "duration": 67,
    "start_time": "2023-07-03T16:43:00.672Z"
   },
   {
    "duration": 33,
    "start_time": "2023-07-03T16:43:00.742Z"
   },
   {
    "duration": 33,
    "start_time": "2023-07-03T16:43:00.778Z"
   },
   {
    "duration": 51,
    "start_time": "2023-07-03T16:43:00.816Z"
   },
   {
    "duration": 38,
    "start_time": "2023-07-03T16:43:00.869Z"
   },
   {
    "duration": 45,
    "start_time": "2023-07-03T16:43:00.909Z"
   },
   {
    "duration": 45,
    "start_time": "2023-07-03T16:43:00.955Z"
   },
   {
    "duration": 221,
    "start_time": "2023-07-03T16:43:01.002Z"
   },
   {
    "duration": 147,
    "start_time": "2023-07-03T16:43:01.225Z"
   },
   {
    "duration": 7,
    "start_time": "2023-07-03T16:43:01.373Z"
   },
   {
    "duration": 44,
    "start_time": "2023-07-03T16:43:01.402Z"
   },
   {
    "duration": 31,
    "start_time": "2023-07-03T16:43:01.448Z"
   },
   {
    "duration": 360,
    "start_time": "2023-07-03T16:43:01.481Z"
   },
   {
    "duration": 251,
    "start_time": "2023-07-03T16:43:01.843Z"
   },
   {
    "duration": 15,
    "start_time": "2023-07-03T16:43:02.105Z"
   },
   {
    "duration": 455,
    "start_time": "2023-07-03T16:43:02.122Z"
   },
   {
    "duration": 5,
    "start_time": "2023-07-03T16:43:02.579Z"
   },
   {
    "duration": 256,
    "start_time": "2023-07-03T16:43:02.586Z"
   },
   {
    "duration": 14,
    "start_time": "2023-07-03T16:43:02.845Z"
   },
   {
    "duration": 389,
    "start_time": "2023-07-03T16:43:02.861Z"
   },
   {
    "duration": 16,
    "start_time": "2023-07-03T16:43:03.252Z"
   },
   {
    "duration": 172,
    "start_time": "2023-07-03T16:43:03.270Z"
   },
   {
    "duration": 5,
    "start_time": "2023-07-03T16:43:03.444Z"
   },
   {
    "duration": 202,
    "start_time": "2023-07-03T16:43:03.452Z"
   },
   {
    "duration": 302,
    "start_time": "2023-07-03T16:43:03.656Z"
   },
   {
    "duration": 7,
    "start_time": "2023-07-03T16:43:03.961Z"
   },
   {
    "duration": 104,
    "start_time": "2023-07-03T16:43:03.970Z"
   },
   {
    "duration": 112,
    "start_time": "2023-07-03T16:43:04.076Z"
   },
   {
    "duration": 32,
    "start_time": "2023-07-03T16:43:04.190Z"
   },
   {
    "duration": 13,
    "start_time": "2023-07-03T16:43:04.224Z"
   },
   {
    "duration": 39,
    "start_time": "2023-07-03T16:43:04.242Z"
   },
   {
    "duration": 35,
    "start_time": "2023-07-03T16:43:04.283Z"
   },
   {
    "duration": 19,
    "start_time": "2023-07-03T16:43:04.321Z"
   },
   {
    "duration": 10,
    "start_time": "2023-07-03T16:43:04.342Z"
   },
   {
    "duration": 63,
    "start_time": "2023-07-03T16:43:04.353Z"
   },
   {
    "duration": 16,
    "start_time": "2023-07-03T16:43:04.418Z"
   },
   {
    "duration": 3,
    "start_time": "2023-07-03T16:44:03.987Z"
   },
   {
    "duration": 11,
    "start_time": "2023-07-03T20:20:25.357Z"
   },
   {
    "duration": 10,
    "start_time": "2023-07-03T20:25:15.950Z"
   },
   {
    "duration": 14,
    "start_time": "2023-07-03T20:25:33.979Z"
   },
   {
    "duration": 14,
    "start_time": "2023-07-03T20:26:15.360Z"
   },
   {
    "duration": 16,
    "start_time": "2023-07-03T20:26:19.448Z"
   },
   {
    "duration": 418,
    "start_time": "2023-07-03T20:34:12.101Z"
   },
   {
    "duration": 1781,
    "start_time": "2023-07-03T20:35:05.828Z"
   },
   {
    "duration": 391,
    "start_time": "2023-07-03T20:35:07.616Z"
   },
   {
    "duration": 11,
    "start_time": "2023-07-03T20:35:08.010Z"
   },
   {
    "duration": 159,
    "start_time": "2023-07-03T20:35:08.023Z"
   },
   {
    "duration": 142,
    "start_time": "2023-07-03T20:35:08.185Z"
   },
   {
    "duration": 130,
    "start_time": "2023-07-03T20:35:08.329Z"
   },
   {
    "duration": 150,
    "start_time": "2023-07-03T20:35:08.462Z"
   },
   {
    "duration": 66,
    "start_time": "2023-07-03T20:35:08.616Z"
   },
   {
    "duration": 139,
    "start_time": "2023-07-03T20:35:08.684Z"
   },
   {
    "duration": 15,
    "start_time": "2023-07-03T20:35:08.829Z"
   },
   {
    "duration": 137,
    "start_time": "2023-07-03T20:35:08.847Z"
   },
   {
    "duration": 117,
    "start_time": "2023-07-03T20:35:08.989Z"
   },
   {
    "duration": 222,
    "start_time": "2023-07-03T20:35:09.108Z"
   },
   {
    "duration": 239,
    "start_time": "2023-07-03T20:35:09.334Z"
   },
   {
    "duration": 141,
    "start_time": "2023-07-03T20:35:09.590Z"
   },
   {
    "duration": 99,
    "start_time": "2023-07-03T20:35:09.748Z"
   },
   {
    "duration": 139,
    "start_time": "2023-07-03T20:35:09.855Z"
   },
   {
    "duration": 37,
    "start_time": "2023-07-03T20:35:09.996Z"
   },
   {
    "duration": 69,
    "start_time": "2023-07-03T20:35:10.035Z"
   },
   {
    "duration": 435,
    "start_time": "2023-07-03T20:35:10.109Z"
   },
   {
    "duration": 194,
    "start_time": "2023-07-03T20:35:10.547Z"
   },
   {
    "duration": 20,
    "start_time": "2023-07-03T20:35:10.743Z"
   },
   {
    "duration": 141,
    "start_time": "2023-07-03T20:35:10.764Z"
   },
   {
    "duration": 103,
    "start_time": "2023-07-03T20:35:10.913Z"
   },
   {
    "duration": 583,
    "start_time": "2023-07-03T20:35:11.018Z"
   },
   {
    "duration": 480,
    "start_time": "2023-07-03T20:35:11.612Z"
   },
   {
    "duration": 23,
    "start_time": "2023-07-03T20:35:12.098Z"
   },
   {
    "duration": 653,
    "start_time": "2023-07-03T20:35:12.128Z"
   },
   {
    "duration": 13,
    "start_time": "2023-07-03T20:35:12.790Z"
   },
   {
    "duration": 751,
    "start_time": "2023-07-03T20:35:12.811Z"
   },
   {
    "duration": 23,
    "start_time": "2023-07-03T20:35:13.567Z"
   },
   {
    "duration": 547,
    "start_time": "2023-07-03T20:35:13.606Z"
   },
   {
    "duration": 21,
    "start_time": "2023-07-03T20:35:14.155Z"
   },
   {
    "duration": 232,
    "start_time": "2023-07-03T20:35:14.181Z"
   },
   {
    "duration": 9,
    "start_time": "2023-07-03T20:35:14.418Z"
   },
   {
    "duration": 394,
    "start_time": "2023-07-03T20:35:14.432Z"
   },
   {
    "duration": 428,
    "start_time": "2023-07-03T20:35:14.828Z"
   },
   {
    "duration": 10,
    "start_time": "2023-07-03T20:35:15.262Z"
   },
   {
    "duration": 286,
    "start_time": "2023-07-03T20:35:15.284Z"
   },
   {
    "duration": 225,
    "start_time": "2023-07-03T20:35:15.573Z"
   },
   {
    "duration": 52,
    "start_time": "2023-07-03T20:35:15.801Z"
   },
   {
    "duration": 81,
    "start_time": "2023-07-03T20:35:15.863Z"
   },
   {
    "duration": 134,
    "start_time": "2023-07-03T20:35:15.946Z"
   },
   {
    "duration": 166,
    "start_time": "2023-07-03T20:35:16.083Z"
   },
   {
    "duration": 130,
    "start_time": "2023-07-03T20:35:16.260Z"
   },
   {
    "duration": 16,
    "start_time": "2023-07-03T20:35:16.394Z"
   },
   {
    "duration": 163,
    "start_time": "2023-07-03T20:35:16.411Z"
   },
   {
    "duration": 58,
    "start_time": "2023-07-03T20:35:16.576Z"
   },
   {
    "duration": 257,
    "start_time": "2023-07-03T22:58:42.038Z"
   },
   {
    "duration": 278,
    "start_time": "2023-07-03T22:59:22.092Z"
   },
   {
    "duration": 260,
    "start_time": "2023-07-03T23:02:02.731Z"
   },
   {
    "duration": 310,
    "start_time": "2023-07-03T23:02:11.755Z"
   },
   {
    "duration": 1332,
    "start_time": "2023-07-03T23:07:55.422Z"
   },
   {
    "duration": 128,
    "start_time": "2023-07-03T23:07:56.756Z"
   },
   {
    "duration": 3,
    "start_time": "2023-07-03T23:07:56.885Z"
   },
   {
    "duration": 28,
    "start_time": "2023-07-03T23:07:56.891Z"
   },
   {
    "duration": 22,
    "start_time": "2023-07-03T23:07:56.922Z"
   },
   {
    "duration": 16,
    "start_time": "2023-07-03T23:07:56.946Z"
   },
   {
    "duration": 19,
    "start_time": "2023-07-03T23:07:56.964Z"
   },
   {
    "duration": 32,
    "start_time": "2023-07-03T23:07:56.985Z"
   },
   {
    "duration": 17,
    "start_time": "2023-07-03T23:07:57.018Z"
   },
   {
    "duration": 6,
    "start_time": "2023-07-03T23:07:57.037Z"
   },
   {
    "duration": 19,
    "start_time": "2023-07-03T23:07:57.044Z"
   },
   {
    "duration": 13,
    "start_time": "2023-07-03T23:07:57.064Z"
   },
   {
    "duration": 33,
    "start_time": "2023-07-03T23:07:57.079Z"
   },
   {
    "duration": 27,
    "start_time": "2023-07-03T23:07:57.116Z"
   },
   {
    "duration": 38,
    "start_time": "2023-07-03T23:07:57.145Z"
   },
   {
    "duration": 48,
    "start_time": "2023-07-03T23:07:57.185Z"
   },
   {
    "duration": 33,
    "start_time": "2023-07-03T23:07:57.235Z"
   },
   {
    "duration": 23,
    "start_time": "2023-07-03T23:07:57.270Z"
   },
   {
    "duration": 28,
    "start_time": "2023-07-03T23:07:57.295Z"
   },
   {
    "duration": 231,
    "start_time": "2023-07-03T23:07:57.325Z"
   },
   {
    "duration": 172,
    "start_time": "2023-07-03T23:07:57.558Z"
   },
   {
    "duration": 11,
    "start_time": "2023-07-03T23:07:57.732Z"
   },
   {
    "duration": 27,
    "start_time": "2023-07-03T23:07:57.745Z"
   },
   {
    "duration": 42,
    "start_time": "2023-07-03T23:07:57.775Z"
   },
   {
    "duration": 346,
    "start_time": "2023-07-03T23:07:57.819Z"
   },
   {
    "duration": 270,
    "start_time": "2023-07-03T23:07:58.167Z"
   },
   {
    "duration": 13,
    "start_time": "2023-07-03T23:07:58.438Z"
   },
   {
    "duration": 395,
    "start_time": "2023-07-03T23:07:58.452Z"
   },
   {
    "duration": 6,
    "start_time": "2023-07-03T23:07:58.849Z"
   },
   {
    "duration": 285,
    "start_time": "2023-07-03T23:07:58.857Z"
   },
   {
    "duration": 16,
    "start_time": "2023-07-03T23:07:59.144Z"
   },
   {
    "duration": 407,
    "start_time": "2023-07-03T23:07:59.162Z"
   },
   {
    "duration": 14,
    "start_time": "2023-07-03T23:07:59.571Z"
   },
   {
    "duration": 210,
    "start_time": "2023-07-03T23:07:59.603Z"
   },
   {
    "duration": 6,
    "start_time": "2023-07-03T23:07:59.820Z"
   },
   {
    "duration": 217,
    "start_time": "2023-07-03T23:07:59.828Z"
   },
   {
    "duration": 292,
    "start_time": "2023-07-03T23:08:00.048Z"
   },
   {
    "duration": 8,
    "start_time": "2023-07-03T23:08:00.342Z"
   },
   {
    "duration": 131,
    "start_time": "2023-07-03T23:08:00.352Z"
   },
   {
    "duration": 152,
    "start_time": "2023-07-03T23:08:00.485Z"
   },
   {
    "duration": 29,
    "start_time": "2023-07-03T23:08:00.642Z"
   },
   {
    "duration": 45,
    "start_time": "2023-07-03T23:08:00.674Z"
   },
   {
    "duration": 101,
    "start_time": "2023-07-03T23:08:00.721Z"
   },
   {
    "duration": 18,
    "start_time": "2023-07-03T23:08:00.825Z"
   },
   {
    "duration": 105,
    "start_time": "2023-07-03T23:08:00.846Z"
   },
   {
    "duration": 56,
    "start_time": "2023-07-03T23:08:00.953Z"
   },
   {
    "duration": 89,
    "start_time": "2023-07-03T23:08:01.013Z"
   },
   {
    "duration": 24,
    "start_time": "2023-07-03T23:08:01.106Z"
   },
   {
    "duration": 266,
    "start_time": "2023-07-03T23:10:22.265Z"
   },
   {
    "duration": 40,
    "start_time": "2023-07-03T23:11:34.052Z"
   },
   {
    "duration": 59,
    "start_time": "2023-07-03T23:11:42.978Z"
   },
   {
    "duration": 53,
    "start_time": "2023-07-03T23:12:41.427Z"
   },
   {
    "duration": 150,
    "start_time": "2023-07-03T23:14:22.841Z"
   },
   {
    "duration": 15,
    "start_time": "2023-07-03T23:14:40.969Z"
   },
   {
    "duration": 30,
    "start_time": "2023-07-03T23:15:06.887Z"
   },
   {
    "duration": 47,
    "start_time": "2023-07-03T23:15:16.515Z"
   },
   {
    "duration": 16,
    "start_time": "2023-07-03T23:15:23.220Z"
   },
   {
    "duration": 12,
    "start_time": "2023-07-03T23:15:34.969Z"
   },
   {
    "duration": 36,
    "start_time": "2023-07-03T23:15:46.341Z"
   },
   {
    "duration": 14,
    "start_time": "2023-07-03T23:16:30.327Z"
   },
   {
    "duration": 4,
    "start_time": "2023-07-03T23:23:19.421Z"
   },
   {
    "duration": 4,
    "start_time": "2023-07-03T23:23:35.491Z"
   },
   {
    "duration": 5,
    "start_time": "2023-07-03T23:32:38.319Z"
   },
   {
    "duration": 108,
    "start_time": "2023-07-03T23:32:52.660Z"
   },
   {
    "duration": 4,
    "start_time": "2023-07-03T23:32:55.096Z"
   },
   {
    "duration": 6,
    "start_time": "2023-07-03T23:33:19.186Z"
   },
   {
    "duration": 13,
    "start_time": "2023-07-03T23:34:32.977Z"
   },
   {
    "duration": 13,
    "start_time": "2023-07-03T23:34:42.664Z"
   },
   {
    "duration": 7,
    "start_time": "2023-07-03T23:34:59.200Z"
   },
   {
    "duration": 8,
    "start_time": "2023-07-03T23:35:54.309Z"
   },
   {
    "duration": 5,
    "start_time": "2023-07-03T23:36:08.256Z"
   },
   {
    "duration": 40,
    "start_time": "2023-07-03T23:36:08.796Z"
   },
   {
    "duration": 4,
    "start_time": "2023-07-03T23:37:16.655Z"
   },
   {
    "duration": 42,
    "start_time": "2023-07-03T23:38:22.952Z"
   },
   {
    "duration": 34,
    "start_time": "2023-07-04T00:18:56.516Z"
   },
   {
    "duration": 13,
    "start_time": "2023-07-04T00:19:11.661Z"
   },
   {
    "duration": 15,
    "start_time": "2023-07-04T00:19:41.320Z"
   },
   {
    "duration": 12,
    "start_time": "2023-07-04T00:19:53.283Z"
   },
   {
    "duration": 4,
    "start_time": "2023-07-04T00:21:13.315Z"
   },
   {
    "duration": 13,
    "start_time": "2023-07-04T00:21:23.451Z"
   },
   {
    "duration": 11,
    "start_time": "2023-07-04T00:21:57.309Z"
   },
   {
    "duration": 4,
    "start_time": "2023-07-04T00:22:12.664Z"
   },
   {
    "duration": 9,
    "start_time": "2023-07-04T00:22:13.329Z"
   },
   {
    "duration": 10,
    "start_time": "2023-07-04T00:22:17.777Z"
   },
   {
    "duration": 4,
    "start_time": "2023-07-04T00:22:41.715Z"
   },
   {
    "duration": 9,
    "start_time": "2023-07-04T00:22:41.747Z"
   },
   {
    "duration": 1242,
    "start_time": "2023-07-04T00:22:49.786Z"
   },
   {
    "duration": 120,
    "start_time": "2023-07-04T00:22:51.030Z"
   },
   {
    "duration": 3,
    "start_time": "2023-07-04T00:22:51.151Z"
   },
   {
    "duration": 27,
    "start_time": "2023-07-04T00:22:51.156Z"
   },
   {
    "duration": 19,
    "start_time": "2023-07-04T00:22:51.186Z"
   },
   {
    "duration": 13,
    "start_time": "2023-07-04T00:22:51.213Z"
   },
   {
    "duration": 8,
    "start_time": "2023-07-04T00:22:51.227Z"
   },
   {
    "duration": 14,
    "start_time": "2023-07-04T00:22:51.237Z"
   },
   {
    "duration": 15,
    "start_time": "2023-07-04T00:22:51.253Z"
   },
   {
    "duration": 4,
    "start_time": "2023-07-04T00:22:51.269Z"
   },
   {
    "duration": 16,
    "start_time": "2023-07-04T00:22:51.275Z"
   },
   {
    "duration": 15,
    "start_time": "2023-07-04T00:22:51.301Z"
   },
   {
    "duration": 13,
    "start_time": "2023-07-04T00:22:51.319Z"
   },
   {
    "duration": 13,
    "start_time": "2023-07-04T00:22:51.335Z"
   },
   {
    "duration": 14,
    "start_time": "2023-07-04T00:22:51.350Z"
   },
   {
    "duration": 13,
    "start_time": "2023-07-04T00:22:51.366Z"
   },
   {
    "duration": 37,
    "start_time": "2023-07-04T00:22:51.381Z"
   },
   {
    "duration": 13,
    "start_time": "2023-07-04T00:22:51.420Z"
   },
   {
    "duration": 7,
    "start_time": "2023-07-04T00:22:51.434Z"
   },
   {
    "duration": 184,
    "start_time": "2023-07-04T00:22:51.442Z"
   },
   {
    "duration": 137,
    "start_time": "2023-07-04T00:22:51.627Z"
   },
   {
    "duration": 7,
    "start_time": "2023-07-04T00:22:51.766Z"
   },
   {
    "duration": 16,
    "start_time": "2023-07-04T00:22:51.775Z"
   },
   {
    "duration": 12,
    "start_time": "2023-07-04T00:22:51.804Z"
   },
   {
    "duration": 315,
    "start_time": "2023-07-04T00:22:51.818Z"
   },
   {
    "duration": 244,
    "start_time": "2023-07-04T00:22:52.135Z"
   },
   {
    "duration": 33,
    "start_time": "2023-07-04T00:22:52.381Z"
   },
   {
    "duration": 340,
    "start_time": "2023-07-04T00:22:52.419Z"
   },
   {
    "duration": 5,
    "start_time": "2023-07-04T00:22:52.761Z"
   },
   {
    "duration": 274,
    "start_time": "2023-07-04T00:22:52.768Z"
   },
   {
    "duration": 14,
    "start_time": "2023-07-04T00:22:53.043Z"
   },
   {
    "duration": 374,
    "start_time": "2023-07-04T00:22:53.059Z"
   },
   {
    "duration": 12,
    "start_time": "2023-07-04T00:22:53.434Z"
   },
   {
    "duration": 183,
    "start_time": "2023-07-04T00:22:53.448Z"
   },
   {
    "duration": 5,
    "start_time": "2023-07-04T00:22:53.633Z"
   },
   {
    "duration": 207,
    "start_time": "2023-07-04T00:22:53.640Z"
   },
   {
    "duration": 287,
    "start_time": "2023-07-04T00:22:53.849Z"
   },
   {
    "duration": 5,
    "start_time": "2023-07-04T00:22:54.138Z"
   },
   {
    "duration": 107,
    "start_time": "2023-07-04T00:22:54.145Z"
   },
   {
    "duration": 119,
    "start_time": "2023-07-04T00:22:54.254Z"
   },
   {
    "duration": 38,
    "start_time": "2023-07-04T00:22:54.378Z"
   },
   {
    "duration": 14,
    "start_time": "2023-07-04T00:22:54.419Z"
   },
   {
    "duration": 39,
    "start_time": "2023-07-04T00:22:54.434Z"
   },
   {
    "duration": 42,
    "start_time": "2023-07-04T00:22:54.475Z"
   },
   {
    "duration": 7,
    "start_time": "2023-07-04T00:22:54.519Z"
   },
   {
    "duration": 13,
    "start_time": "2023-07-04T00:22:54.528Z"
   },
   {
    "duration": 8,
    "start_time": "2023-07-04T00:22:54.542Z"
   },
   {
    "duration": 56,
    "start_time": "2023-07-04T00:22:54.551Z"
   },
   {
    "duration": 18,
    "start_time": "2023-07-04T00:22:54.608Z"
   },
   {
    "duration": 38,
    "start_time": "2023-07-04T00:55:06.418Z"
   },
   {
    "duration": 1226,
    "start_time": "2023-07-04T01:04:22.099Z"
   },
   {
    "duration": 113,
    "start_time": "2023-07-04T01:04:23.327Z"
   },
   {
    "duration": 3,
    "start_time": "2023-07-04T01:04:23.442Z"
   },
   {
    "duration": 17,
    "start_time": "2023-07-04T01:04:23.447Z"
   },
   {
    "duration": 16,
    "start_time": "2023-07-04T01:04:23.466Z"
   },
   {
    "duration": 15,
    "start_time": "2023-07-04T01:04:23.484Z"
   },
   {
    "duration": 12,
    "start_time": "2023-07-04T01:04:23.500Z"
   },
   {
    "duration": 17,
    "start_time": "2023-07-04T01:04:23.514Z"
   },
   {
    "duration": 9,
    "start_time": "2023-07-04T01:04:23.533Z"
   },
   {
    "duration": 6,
    "start_time": "2023-07-04T01:04:23.545Z"
   },
   {
    "duration": 11,
    "start_time": "2023-07-04T01:04:23.552Z"
   },
   {
    "duration": 7,
    "start_time": "2023-07-04T01:04:23.565Z"
   },
   {
    "duration": 33,
    "start_time": "2023-07-04T01:04:23.574Z"
   },
   {
    "duration": 8,
    "start_time": "2023-07-04T01:04:23.609Z"
   },
   {
    "duration": 20,
    "start_time": "2023-07-04T01:04:23.619Z"
   },
   {
    "duration": 13,
    "start_time": "2023-07-04T01:04:23.642Z"
   },
   {
    "duration": 10,
    "start_time": "2023-07-04T01:04:23.657Z"
   },
   {
    "duration": 36,
    "start_time": "2023-07-04T01:04:23.668Z"
   },
   {
    "duration": 8,
    "start_time": "2023-07-04T01:04:23.705Z"
   },
   {
    "duration": 189,
    "start_time": "2023-07-04T01:04:23.714Z"
   },
   {
    "duration": 152,
    "start_time": "2023-07-04T01:04:23.905Z"
   },
   {
    "duration": 7,
    "start_time": "2023-07-04T01:04:24.058Z"
   },
   {
    "duration": 29,
    "start_time": "2023-07-04T01:04:24.066Z"
   },
   {
    "duration": 15,
    "start_time": "2023-07-04T01:04:24.096Z"
   },
   {
    "duration": 309,
    "start_time": "2023-07-04T01:04:24.112Z"
   },
   {
    "duration": 264,
    "start_time": "2023-07-04T01:04:24.423Z"
   },
   {
    "duration": 13,
    "start_time": "2023-07-04T01:04:24.689Z"
   },
   {
    "duration": 345,
    "start_time": "2023-07-04T01:04:24.705Z"
   },
   {
    "duration": 51,
    "start_time": "2023-07-04T01:04:25.052Z"
   },
   {
    "duration": 303,
    "start_time": "2023-07-04T01:04:25.104Z"
   },
   {
    "duration": 17,
    "start_time": "2023-07-04T01:04:25.409Z"
   },
   {
    "duration": 323,
    "start_time": "2023-07-04T01:04:25.428Z"
   },
   {
    "duration": 13,
    "start_time": "2023-07-04T01:04:25.752Z"
   },
   {
    "duration": 176,
    "start_time": "2023-07-04T01:04:25.767Z"
   },
   {
    "duration": 4,
    "start_time": "2023-07-04T01:04:25.945Z"
   },
   {
    "duration": 189,
    "start_time": "2023-07-04T01:04:25.951Z"
   },
   {
    "duration": 267,
    "start_time": "2023-07-04T01:04:26.142Z"
   },
   {
    "duration": 6,
    "start_time": "2023-07-04T01:04:26.410Z"
   },
   {
    "duration": 107,
    "start_time": "2023-07-04T01:04:26.418Z"
   },
   {
    "duration": 115,
    "start_time": "2023-07-04T01:04:26.526Z"
   },
   {
    "duration": 20,
    "start_time": "2023-07-04T01:04:26.643Z"
   },
   {
    "duration": 15,
    "start_time": "2023-07-04T01:04:26.665Z"
   },
   {
    "duration": 39,
    "start_time": "2023-07-04T01:04:26.701Z"
   },
   {
    "duration": 15,
    "start_time": "2023-07-04T01:04:26.742Z"
   },
   {
    "duration": 3,
    "start_time": "2023-07-04T01:04:26.758Z"
   },
   {
    "duration": 12,
    "start_time": "2023-07-04T01:04:26.763Z"
   },
   {
    "duration": 33,
    "start_time": "2023-07-04T01:04:26.776Z"
   },
   {
    "duration": 76,
    "start_time": "2023-07-04T01:04:26.811Z"
   },
   {
    "duration": 16,
    "start_time": "2023-07-04T01:04:26.889Z"
   },
   {
    "duration": 1339,
    "start_time": "2023-07-04T04:18:13.668Z"
   },
   {
    "duration": 367,
    "start_time": "2023-07-04T04:18:15.009Z"
   },
   {
    "duration": 3,
    "start_time": "2023-07-04T04:18:15.379Z"
   },
   {
    "duration": 17,
    "start_time": "2023-07-04T04:18:15.385Z"
   },
   {
    "duration": 23,
    "start_time": "2023-07-04T04:18:15.405Z"
   },
   {
    "duration": 12,
    "start_time": "2023-07-04T04:18:15.429Z"
   },
   {
    "duration": 9,
    "start_time": "2023-07-04T04:18:15.443Z"
   },
   {
    "duration": 21,
    "start_time": "2023-07-04T04:18:15.454Z"
   },
   {
    "duration": 18,
    "start_time": "2023-07-04T04:18:15.476Z"
   },
   {
    "duration": 5,
    "start_time": "2023-07-04T04:18:15.500Z"
   },
   {
    "duration": 15,
    "start_time": "2023-07-04T04:18:15.507Z"
   },
   {
    "duration": 18,
    "start_time": "2023-07-04T04:18:15.524Z"
   },
   {
    "duration": 19,
    "start_time": "2023-07-04T04:18:15.544Z"
   },
   {
    "duration": 11,
    "start_time": "2023-07-04T04:18:15.565Z"
   },
   {
    "duration": 27,
    "start_time": "2023-07-04T04:18:15.578Z"
   },
   {
    "duration": 17,
    "start_time": "2023-07-04T04:18:15.606Z"
   },
   {
    "duration": 9,
    "start_time": "2023-07-04T04:18:15.625Z"
   },
   {
    "duration": 11,
    "start_time": "2023-07-04T04:18:15.636Z"
   },
   {
    "duration": 6,
    "start_time": "2023-07-04T04:18:15.649Z"
   },
   {
    "duration": 205,
    "start_time": "2023-07-04T04:18:15.657Z"
   },
   {
    "duration": 196,
    "start_time": "2023-07-04T04:18:15.864Z"
   },
   {
    "duration": 9,
    "start_time": "2023-07-04T04:18:16.062Z"
   },
   {
    "duration": 30,
    "start_time": "2023-07-04T04:18:16.072Z"
   },
   {
    "duration": 22,
    "start_time": "2023-07-04T04:18:16.104Z"
   },
   {
    "duration": 320,
    "start_time": "2023-07-04T04:18:16.128Z"
   },
   {
    "duration": 211,
    "start_time": "2023-07-04T04:18:16.450Z"
   },
   {
    "duration": 11,
    "start_time": "2023-07-04T04:18:16.662Z"
   },
   {
    "duration": 369,
    "start_time": "2023-07-04T04:18:16.677Z"
   },
   {
    "duration": 6,
    "start_time": "2023-07-04T04:18:17.047Z"
   },
   {
    "duration": 231,
    "start_time": "2023-07-04T04:18:17.054Z"
   },
   {
    "duration": 19,
    "start_time": "2023-07-04T04:18:17.286Z"
   },
   {
    "duration": 314,
    "start_time": "2023-07-04T04:18:17.307Z"
   },
   {
    "duration": 12,
    "start_time": "2023-07-04T04:18:17.623Z"
   },
   {
    "duration": 164,
    "start_time": "2023-07-04T04:18:17.636Z"
   },
   {
    "duration": 4,
    "start_time": "2023-07-04T04:18:17.801Z"
   },
   {
    "duration": 171,
    "start_time": "2023-07-04T04:18:17.807Z"
   },
   {
    "duration": 238,
    "start_time": "2023-07-04T04:18:17.979Z"
   },
   {
    "duration": 5,
    "start_time": "2023-07-04T04:18:18.218Z"
   },
   {
    "duration": 96,
    "start_time": "2023-07-04T04:18:18.224Z"
   },
   {
    "duration": 101,
    "start_time": "2023-07-04T04:18:18.322Z"
   },
   {
    "duration": 21,
    "start_time": "2023-07-04T04:18:18.424Z"
   },
   {
    "duration": 12,
    "start_time": "2023-07-04T04:18:18.447Z"
   },
   {
    "duration": 59,
    "start_time": "2023-07-04T04:18:18.460Z"
   },
   {
    "duration": 15,
    "start_time": "2023-07-04T04:18:18.520Z"
   },
   {
    "duration": 4,
    "start_time": "2023-07-04T04:18:18.536Z"
   },
   {
    "duration": 8,
    "start_time": "2023-07-04T04:18:18.542Z"
   },
   {
    "duration": 10,
    "start_time": "2023-07-04T04:18:18.552Z"
   },
   {
    "duration": 60,
    "start_time": "2023-07-04T04:18:18.563Z"
   },
   {
    "duration": 14,
    "start_time": "2023-07-04T04:18:18.625Z"
   }
  ],
  "kernelspec": {
   "display_name": "Python 3 (ipykernel)",
   "language": "python",
   "name": "python3"
  },
  "language_info": {
   "codemirror_mode": {
    "name": "ipython",
    "version": 3
   },
   "file_extension": ".py",
   "mimetype": "text/x-python",
   "name": "python",
   "nbconvert_exporter": "python",
   "pygments_lexer": "ipython3",
   "version": "3.12.0"
  },
  "toc": {
   "base_numbering": 1,
   "nav_menu": {},
   "number_sections": true,
   "sideBar": true,
   "skip_h1_title": true,
   "title_cell": "Table of Contents",
   "title_sidebar": "Contents",
   "toc_cell": false,
   "toc_position": {},
   "toc_section_display": true,
   "toc_window_display": false
  }
 },
 "nbformat": 4,
 "nbformat_minor": 4
}
